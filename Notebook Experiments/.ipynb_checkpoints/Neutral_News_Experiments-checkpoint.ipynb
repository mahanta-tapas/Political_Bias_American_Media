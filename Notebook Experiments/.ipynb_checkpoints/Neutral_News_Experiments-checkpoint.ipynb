{
 "cells": [
  {
   "cell_type": "markdown",
   "metadata": {
    "toc": true
   },
   "source": [
    "<h1>Table of Contents<span class=\"tocSkip\"></span></h1>\n",
    "<div class=\"toc\"><ul class=\"toc-item\"></ul></div>"
   ]
  },
  {
   "cell_type": "code",
   "execution_count": 1,
   "metadata": {
    "ExecuteTime": {
     "end_time": "2020-07-04T19:13:00.945618Z",
     "start_time": "2020-07-04T19:12:57.442474Z"
    }
   },
   "outputs": [
    {
     "name": "stderr",
     "output_type": "stream",
     "text": [
      "/opt/anaconda3/envs/buan6341/lib/python3.7/site-packages/tqdm/std.py:668: FutureWarning: The Panel class is removed from pandas. Accessing it from the top-level namespace will also be removed in the next version\n",
      "  from pandas import Panel\n",
      "[nltk_data] Downloading package stopwords to /Users/tapas/nltk_data...\n",
      "[nltk_data]   Package stopwords is already up-to-date!\n",
      "[nltk_data] Downloading package punkt to /Users/tapas/nltk_data...\n",
      "[nltk_data]   Package punkt is already up-to-date!\n"
     ]
    },
    {
     "data": {
      "text/plain": [
       "True"
      ]
     },
     "execution_count": 1,
     "metadata": {},
     "output_type": "execute_result"
    }
   ],
   "source": [
    "import sqlite3\n",
    "import pandas as pd\n",
    "import requests\n",
    "from lxml.html import fromstring\n",
    "import nltk\n",
    "from nltk.corpus import stopwords\n",
    "from nltk.stem.porter import PorterStemmer\n",
    "from gensim.models.doc2vec import TaggedLineDocument,TaggedDocument\n",
    "from tqdm import tqdm\n",
    "tqdm.pandas(desc=\"progress-bar\")\n",
    "from sklearn.model_selection import train_test_split\n",
    "nltk.download('stopwords')\n",
    "nltk.download('punkt')"
   ]
  },
  {
   "cell_type": "code",
   "execution_count": 184,
   "metadata": {
    "ExecuteTime": {
     "end_time": "2020-07-11T20:28:18.909646Z",
     "start_time": "2020-07-11T20:28:18.278063Z"
    }
   },
   "outputs": [
    {
     "name": "stdout",
     "output_type": "stream",
     "text": [
      "                      name\n",
      "0   news_abortion         \n",
      "1   news_statue           \n",
      "2   news_CHOP             \n",
      "3   news_supreme_court    \n",
      "4   news_vote_by_mail     \n",
      "5   news_defund_the_police\n",
      "6   news_mask             \n",
      "7   news_obamacare        \n",
      "8   news_bounty           \n",
      "9   news_WHO              \n",
      "10  news_gun_control      \n",
      "11  news_climate_change   \n",
      "12  news_hdxl             \n",
      "13  news_dreamers         \n",
      "14  news_china            \n",
      "15  news_healthcare       \n",
      "16  news_Affordable_Care  \n",
      "17  news_bolton_book      \n"
     ]
    }
   ],
   "source": [
    "conn = sqlite3.connect('news_articles_all_keywords.sqlite')\n",
    "table = pd.read_sql_query(\"SELECT name FROM sqlite_master WHERE type='table'\",conn)\n",
    "print(table)"
   ]
  },
  {
   "cell_type": "code",
   "execution_count": 185,
   "metadata": {
    "ExecuteTime": {
     "end_time": "2020-07-11T20:28:57.974944Z",
     "start_time": "2020-07-11T20:28:57.531060Z"
    }
   },
   "outputs": [],
   "source": [
    "df_news_abortion = pd.read_sql('select * from news_abortion', conn)\n",
    "df_news_statue = pd.read_sql('select * from news_statue', conn)\n",
    "df_news_CHOP = pd.read_sql('select * from news_CHOP', conn)\n",
    "df_news_supreme_court = pd.read_sql('select * from news_supreme_court', conn)\n",
    "df_news_vote_by_mail = pd.read_sql('select * from news_vote_by_mail', conn)\n",
    "df_news_defund_the_police = pd.read_sql('select * from news_defund_the_police', conn)\n",
    "df_news_mask = pd.read_sql('select * from news_mask', conn)\n",
    "df_news_obamacare = pd.read_sql('select * from news_obamacare', conn)\n",
    "df_news_bounty = pd.read_sql('select * from news_bounty', conn)\n",
    "df_news_WHO = pd.read_sql('select * from news_WHO', conn)\n",
    "df_news_gun_control = pd.read_sql('select * from news_gun_control', conn)\n",
    "df_news_climate_change = pd.read_sql('select * from news_climate_change', conn)\n",
    "df_news_dreamers = pd.read_sql('select * from news_dreamers', conn)\n",
    "df_news_china = pd.read_sql('select * from news_china', conn)\n",
    "df_news_healthcare = pd.read_sql('select * from news_healthcare', conn)\n",
    "df_news_Affordable_Care = pd.read_sql('select * from news_Affordable_Care', conn)\n",
    "df_news_news_bolton_book = pd.read_sql('select * from news_bolton_book', conn)"
   ]
  },
  {
   "cell_type": "code",
   "execution_count": null,
   "metadata": {},
   "outputs": [],
   "source": [
    "## Training on all dataframes except \"mask data frame\""
   ]
  },
  {
   "cell_type": "code",
   "execution_count": 189,
   "metadata": {
    "ExecuteTime": {
     "end_time": "2020-07-11T20:40:19.097035Z",
     "start_time": "2020-07-11T20:40:18.900756Z"
    }
   },
   "outputs": [],
   "source": [
    "train_df_list = [df_news_abortion,df_news_statue,df_news_CHOP,df_news_supreme_court,df_news_vote_by_mail,\n",
    "                 df_news_defund_the_police,df_news_mask,df_news_obamacare,df_news_bounty,df_news_WHO,\n",
    "                df_news_gun_control,df_news_climate_change,df_news_dreamers,df_news_china,df_news_healthcare,\n",
    "                df_news_Affordable_Care,df_news_news_bolton_book]\n",
    "#train_df_list = [df_news_vote_by_mail,df_news_defund_the_police,df_news_mask]\n",
    "df = pd.DataFrame()\n",
    "for temp_df in train_df_list:\n",
    "    df = df.append(temp_df)\n",
    "    #print(len(temp_df))\n",
    "    \n"
   ]
  },
  {
   "cell_type": "code",
   "execution_count": 190,
   "metadata": {
    "ExecuteTime": {
     "end_time": "2020-07-11T20:40:21.710999Z",
     "start_time": "2020-07-11T20:40:21.685224Z"
    }
   },
   "outputs": [],
   "source": [
    "df = df[~(df['content_full'].isna())].reset_index(drop=True)\n",
    "df['tag'] = df.index"
   ]
  },
  {
   "cell_type": "code",
   "execution_count": 192,
   "metadata": {
    "ExecuteTime": {
     "end_time": "2020-07-11T23:05:55.453577Z",
     "start_time": "2020-07-11T23:05:55.110534Z"
    }
   },
   "outputs": [
    {
     "data": {
      "text/plain": [
       "fox-news               314\n",
       "usa-today              195\n",
       "the-washington-post    190\n",
       "Name: source_id, dtype: int64"
      ]
     },
     "execution_count": 192,
     "metadata": {},
     "output_type": "execute_result"
    }
   ],
   "source": [
    "df.source_id.value_counts()"
   ]
  },
  {
   "cell_type": "code",
   "execution_count": 191,
   "metadata": {
    "ExecuteTime": {
     "end_time": "2020-07-11T20:40:26.220231Z",
     "start_time": "2020-07-11T20:40:24.196425Z"
    }
   },
   "outputs": [],
   "source": [
    "df.to_excel(\"news_content.xlsx\")"
   ]
  },
  {
   "cell_type": "code",
   "execution_count": 2,
   "metadata": {
    "ExecuteTime": {
     "end_time": "2020-07-04T19:15:39.267629Z",
     "start_time": "2020-07-04T19:15:39.188642Z"
    }
   },
   "outputs": [],
   "source": [
    "df = pd.read_excel('/Users/tapas/Documents/Repos/news_content_v2.xlsx')"
   ]
  },
  {
   "cell_type": "code",
   "execution_count": 4,
   "metadata": {
    "ExecuteTime": {
     "end_time": "2020-07-04T19:16:22.034815Z",
     "start_time": "2020-07-04T19:16:22.026912Z"
    }
   },
   "outputs": [],
   "source": [
    "## Tokenize Texts\n",
    "stop_words_1 = ['washingtonpost','foxnews','usatoday']\n",
    "stop_words_2 = ['washingtonpost','foxnews','usatoday','defund','police','vote','mail','mask',\n",
    "              'obamacare','abortion']\n",
    "\n",
    "stop_words_3 = ['i','me','my','myself','we','our','ours','ourselves','you','your','yours','yourself','yourselves',\n",
    "              'he','him','his','himself','she','her','hers','herself','it','its','itself','they','them','their',\n",
    "              'theirs','themselves','what','which','who','whom','this','that','these','those','am','is','are','was',\n",
    "              'were','be','been','being','have','has','had','having','do','does','did','doing','a','an','the','and',\n",
    "              'but','if','or','because','as','until','while','of','at','by','for','with','about','against','between',\n",
    "              'into','through','during','before','after','above','below','to','from','up','down','in','out','on','off'\n",
    "              ,'over','under','again','further','then','once','here','there','when','where','why','how','all','any',\n",
    "              'both','each','few','more','most','other','some','such','no','nor','not','only','own','same','so','than',\n",
    "              'too','very','s','t','can','will','just','don','should','now','washingtonpost','foxnews','usatoday']\n"
   ]
  },
  {
   "cell_type": "code",
   "execution_count": 5,
   "metadata": {
    "ExecuteTime": {
     "end_time": "2020-07-04T19:17:09.958118Z",
     "start_time": "2020-07-04T19:17:09.951663Z"
    }
   },
   "outputs": [],
   "source": [
    "import re\n",
    "\n",
    "def tokenize_text(text):\n",
    "    tokens = []\n",
    "    for sent in nltk.sent_tokenize(text):\n",
    "        for word in nltk.word_tokenize(sent):\n",
    "            if len(word) < 2:\n",
    "                continue\n",
    "            tokens.append(word.lower())\n",
    "    return tokens\n",
    "\n",
    "def remove_stop_words(content):\n",
    "    return [word for word in content if word not in stop_words_1]\n",
    "\n",
    "stemmer = PorterStemmer()\n",
    "\n",
    "def stem_words(text):\n",
    "    try:\n",
    "        #text = [stemmer.stem(word) for word in text]\n",
    "        text = [word for word in text if len(word) > 1]\n",
    "    except IndexError:\n",
    "        pass\n",
    "    return text\n",
    "\n",
    "def clean_text(text):\n",
    "    text = re.sub(\"[^a-zA-Z]\",\" \",text)\n",
    "    text = text.lower()\n",
    "    return text\n",
    "\n",
    "\n",
    "def apply_all(text):\n",
    "    return remove_stop_words(tokenize_text(clean_text(text)))"
   ]
  },
  {
   "cell_type": "code",
   "execution_count": 6,
   "metadata": {
    "ExecuteTime": {
     "end_time": "2020-07-04T19:17:31.700864Z",
     "start_time": "2020-07-04T19:17:30.582277Z"
    }
   },
   "outputs": [],
   "source": [
    "df['tokenized_content'] = df.apply(lambda x : apply_all(x['content_full']),axis=1)"
   ]
  },
  {
   "cell_type": "code",
   "execution_count": 91,
   "metadata": {
    "ExecuteTime": {
     "end_time": "2020-07-04T21:21:51.968054Z",
     "start_time": "2020-07-04T21:21:51.931960Z"
    }
   },
   "outputs": [
    {
     "data": {
      "text/plain": [
       "fox-news               27\n",
       "the-washington-post    18\n",
       "usa-today              18\n",
       "Name: source_id, dtype: int64"
      ]
     },
     "execution_count": 91,
     "metadata": {},
     "output_type": "execute_result"
    }
   ],
   "source": [
    "## Training all document as a unique tags\n",
    "df = df[df['select'] ==1].reset_index(drop=True)\n",
    "df = df[~df['content'].isnull()].reset_index(drop=True)\n",
    "df['tag'] = df.index\n",
    "df.head()\n",
    "df.source_id.value_counts()"
   ]
  },
  {
   "cell_type": "code",
   "execution_count": 9,
   "metadata": {
    "ExecuteTime": {
     "end_time": "2020-07-04T19:31:33.816501Z",
     "start_time": "2020-07-04T19:31:33.812321Z"
    }
   },
   "outputs": [],
   "source": [
    "\n",
    "train_df,test_df = train_test_split(df,test_size=0.2,random_state=43)"
   ]
  },
  {
   "cell_type": "code",
   "execution_count": 156,
   "metadata": {
    "ExecuteTime": {
     "end_time": "2020-07-05T00:00:20.970198Z",
     "start_time": "2020-07-05T00:00:20.964365Z"
    }
   },
   "outputs": [],
   "source": [
    "#doc2vec parameters\n",
    "import gensim.models as g\n",
    "\n",
    "vector_size = 300\n",
    "window_size = 30\n",
    "min_count = 1\n",
    "sampling_threshold = 1e-5\n",
    "negative_size = 5\n",
    "train_epoch = 10\n",
    "dm = 0 #0 = dbow; 1 = dmpv\n",
    "worker_count = 1 #number of parallel processes\n",
    "\n",
    "pretrained_emb = \"/Users/tapas/Documents/Repos/doc2vec/toy_data/pretrained_word_embeddings.txt\"\n",
    "model_4 = g.Doc2Vec(vector_size=vector_size, window=window_size, min_count=min_count, sample=sampling_threshold, workers=worker_count, hs=0, dm=dm, negative=negative_size, dbow_words=1, dm_concat=1, epochs=train_epoch)\n"
   ]
  },
  {
   "cell_type": "code",
   "execution_count": 136,
   "metadata": {
    "ExecuteTime": {
     "end_time": "2020-07-04T23:47:15.398092Z",
     "start_time": "2020-07-04T23:47:15.364543Z"
    }
   },
   "outputs": [],
   "source": [
    "train_tagged = train_df.apply(lambda x : TaggedDocument(words=x.tokenized_content,tags=[x.tag]),axis=1)\n",
    "test_tagged = test_df.apply(lambda x : TaggedDocument(words=x.tokenized_content,tags=[x.tag]),axis=1)"
   ]
  },
  {
   "cell_type": "code",
   "execution_count": 161,
   "metadata": {
    "ExecuteTime": {
     "end_time": "2020-07-05T00:51:57.764773Z",
     "start_time": "2020-07-05T00:51:57.760777Z"
    }
   },
   "outputs": [],
   "source": [
    "x = iter(train_tagged.values)"
   ]
  },
  {
   "cell_type": "code",
   "execution_count": 162,
   "metadata": {
    "ExecuteTime": {
     "end_time": "2020-07-05T00:52:05.638865Z",
     "start_time": "2020-07-05T00:52:05.630952Z"
    }
   },
   "outputs": [
    {
     "data": {
      "text/plain": [
       "TaggedDocument(words=['wearing', 'face', 'mask', 'has', 'become', 'politically', 'charged', 'issue', 'in', 'the', 'aftermath', 'of', 'the', 'coronavirus', 'pandemic', 'but', 'national', 'mask', 'mandate', 'could', 'lower', 'infections', 'and', 'help', 'the', 'economic', 'recovery', 'according', 'to', 'new', 'report', 'from', 'goldman', 'sachs', 'as', 'outbreaks', 'flare', 'up', 'across', 'the', 'sun', 'belt', 'in', 'states', 'like', 'arizona', 'california', 'florida', 'and', 'texas', 'national', 'mask', 'mandate', 'could', 'partially', 'substitute', 'for', 'more', 'lockdowns', 'that', 'threaten', 'to', 'depress', 'economic', 'activity', 'even', 'further', 'goldman', 'sachs', 'says', 'face', 'mask', 'mandate', 'could', 'raise', 'the', 'percentage', 'of', 'people', 'who', 'wear', 'masks', 'by', 'percentage', 'points', 'and', 'cut', 'the', 'daily', 'growth', 'rate', 'of', 'cases', 'by', 'percentage', 'point', 'to', 'jan', 'hatzius', 'chief', 'economist', 'at', 'goldman', 'and', 'team', 'of', 'analysts', 'said', 'in', 'the', 'report', 'if', 'face', 'mask', 'mandate', 'meaningfully', 'lowers', 'coronavirus', 'infections', 'it', 'could', 'be', 'valuable', 'not', 'only', 'from', 'public', 'health', 'perspective', 'but', 'also', 'from', 'an', 'economic', 'perspective', 'because', 'it', 'could', 'substitute', 'for', 'renewed', 'lockdowns', 'that', 'would', 'otherwise', 'hit', 'gdp', 'hatzius', 'said', 'in', 'note', 'to', 'clients', 'countries', 'which', 'took', 'longer', 'to', 'reach', 'widespread', 'mask', 'usage', 'whether', 'by', 'policy', 'or', 'cultural', 'norms', 'suffered', 'more', 'virus', 'cases', 'and', 'fatalities', 'hatzius', 'added', 'bouncing', 'back', 'stocks', 'on', 'track', 'for', 'best', 'quarter', 'in', 'decades', 'dream', 'home', 'vintage', 'school', 'bus', 'and', 'quirky', 'roller', 'skates', 'here', 'what', 'couples', 'are', 'buying', 'with', 'their', 'pandemic', 'wedding', 'funds', 'across', 'three', 'different', 'models', 'goldman', 'found', 'that', 'face', 'masks', 'were', 'associated', 'with', 'significantly', 'better', 'outcomes', 'the', 'data', 'reflects', 'largely', 'causal', 'impact', 'of', 'masks', 'rather', 'than', 'correlation', 'with', 'other', 'factors', 'like', 'reduced', 'mobility', 'or', 'avoidance', 'of', 'large', 'gatherings', 'hatzius', 'said', 'face', 'mask', 'mandate', 'could', 'potentially', 'substitute', 'for', 'lockdowns', 'that', 'would', 'otherwise', 'subtract', 'nearly', 'from', 'gross', 'domestic', 'product', 'according', 'to', 'goldman', 'sachs', 'states', 'that', 'don', 'have', 'state', 'level', 'mandate', 'account', 'for', 'of', 'total', 'confirmed', 'cases', 'in', 'the', 'roughly', 'of', 'gdp', 'and', 'half', 'of', 'the', 'population', 'many', 'european', 'countries', 'have', 'mask', 'mandates', 'while', 'much', 'of', 'east', 'asia', 'has', 'strong', 'social', 'norms', 'of', 'mask', 'wearing', 'while', 'sick', 'or', 'during', 'pandemics', 'the', 'share', 'of', 'respondents', 'saying', 'that', 'they', 'wear', 'face', 'mask', 'in', 'public', 'is', 'nearly', 'in', 'east', 'asia', 'in', 'southern', 'europe', 'and', 'just', 'below', 'in', 'the', 'goldman', 'sachs', 'says', 'to', 'be', 'sure', 'face', 'mask', 'usage', 'is', 'among', 'the', 'highest', 'in', 'the', 'northeast', 'where', 'outbreaks', 'have', 'improved', 'in', 'recent', 'months', 'but', 'it', 'generally', 'lower', 'in', 'the', 'south', 'where', 'the', 'numbers', 'have', 'deteriorated', 'only', 'about', 'of', 'respondents', 'in', 'arizona', 'say', 'that', 'they', 'always', 'wear', 'face', 'masks', 'in', 'public', 'compared', 'with', 'nearly', 'in', 'massachusetts', 'national', 'mask', 'mandate', 'could', 'increase', 'face', 'mask', 'usage', 'by', 'statistically', 'significant', 'and', 'economically', 'large', 'amounts', 'especially', 'in', 'states', 'such', 'as', 'florida', 'and', 'texas', 'that', 'currently', 'don', 'have', 'comprehensive', 'mandate', 'and', 'are', 'seeing', 'some', 'of', 'the', 'worst', 'outbreaks', 'hatzius', 'said'], tags=[50])"
      ]
     },
     "execution_count": 162,
     "metadata": {},
     "output_type": "execute_result"
    }
   ],
   "source": [
    "x.__next__()"
   ]
  },
  {
   "cell_type": "code",
   "execution_count": 163,
   "metadata": {
    "ExecuteTime": {
     "end_time": "2020-07-05T00:52:15.252312Z",
     "start_time": "2020-07-05T00:52:15.246308Z"
    }
   },
   "outputs": [
    {
     "data": {
      "text/plain": [
       "TaggedDocument(words=['less', 'than', 'five', 'months', 'until', 'election', 'day', 'there', 'surprisingly', 'fierce', 'debate', 'over', 'mail', 'in', 'balloting', 'driven', 'largely', 'by', 'an', 'unpopular', 'president', 'apparently', 'worried', 'that', 'too', 'many', 'people', 'will', 'cast', 'votes', 'in', 'november', 'but', 'donald', 'trump', 'outrageous', 'outbursts', 'about', 'the', 'issue', 'there', 'is', 'no', 'way', 'zero', 'that', 'mail', 'in', 'ballots', 'will', 'be', 'anything', 'less', 'than', 'substantially', 'fraudulent', 'he', 'tweeted', 'last', 'month', 'don', 'stand', 'up', 'to', 'even', 'casual', 'scrutiny', 'twitter', 'for', 'the', 'first', 'time', 'slapped', 'fact', 'check', 'label', 'on', 'that', 'tweet', 'the', 'fact', 'is', 'trump', 'himself', 'votes', 'by', 'mail', 'all', 'states', 'allow', 'it', 'to', 'some', 'degree', 'one', 'in', 'four', 'americans', 'voted', 'by', 'mail', 'in', 'and', 'and', 'the', 'practice', 'dates', 'to', 'union', 'troops', 'voting', 'absentee', 'in', 'the', 'civil', 'war', 'deadly', 'pandemic', 'renders', 'mail', 'in', 'voting', 'even', 'more', 'important', 'particularly', 'as', 'epidemiologists', 'warn', 'of', 'possible', 'second', 'coronavirus', 'surge', 'come', 'fall', 'the', 'centers', 'for', 'disease', 'control', 'and', 'prevention', 'recommends', 'that', 'where', 'possible', 'mail', 'in', 'voting', 'be', 'encouraged', 'opposing', 'view', 'widespread', 'voting', 'by', 'mail', 'poses', 'risks', 'casting', 'ballots', 'after', 'waiting', 'in', 'long', 'lines', 'unquestionably', 'carries', 'risks', 'in', 'april', 'after', 'the', 'wisconsin', 'supreme', 'court', 'blocked', 'the', 'governor', 'effort', 'because', 'of', 'the', 'pandemic', 'people', 'still', 'braved', 'the', 'polls', 'in', 'record', 'numbers', 'dozens', 'voting', 'in', 'person', 'contracted', 'covid', 'even', 'before', 'the', 'pandemic', 'five', 'states', 'colorado', 'hawaii', 'oregon', 'utah', 'and', 'washington', 'conducted', 'elections', 'primarily', 'by', 'mail', 'proactively', 'sending', 'mail', 'in', 'ballots', 'to', 'registered', 'voters', 'it', 'works', 'very', 'very', 'well', 'sen', 'mitt', 'romney', 'utah', 'said', 'last', 'month', 'and', 'it', 'very', 'republican', 'state', 'washington', 'and', 'states', 'allow', 'absentee', 'voting', 'without', 'requiring', 'an', 'excuse', 'since', 'the', 'coronavirus', 'outbreak', 'republican', 'and', 'democratic', 'election', 'officials', 'across', 'the', 'country', 'have', 'expanded', 'access', 'to', 'absentee', 'voting', 'for', 'primaries', 'and', 'might', 'do', 'so', 'for', 'the', 'fall', 'eleven', 'states', 'that', 'require', 'an', 'excuse', 'to', 'vote', 'by', 'mail', 'waived', 'it', 'for', 'those', 'who', 'fear', 'falling', 'ill', 'dozen', 'more', 'have', 'chosen', 'to', 'send', 'out', 'mail', 'in', 'applications', 'or', 'request', 'forms', 'the', 'nation', 'is', 'embracing', 'the', 'practice', 'at', 'least', 'two', 'thirds', 'of', 'americans', 'say', 'mail', 'in', 'voting', 'is', 'necessary', 'during', 'pandemic', 'but', 'trump', 'continues', 'to', 'make', 'false', 'allegations', 'that', 'states', 'are', 'sending', 'mail', 'in', 'ballots', 'to', 'noncitizens', 'or', 'people', 'who', 'aren', 'registered', 'to', 'vote', 'that', 'ballots', 'will', 'be', 'fabricated', 'or', 'that', 'children', 'are', 'going', 'to', 'raid', 'mail', 'boxes', 'for', 'them', 'this', 'hand', 'wringing', 'would', 'be', 'laughable', 'if', 'trump', 'wasn', 'threatening', 'to', 'destabilize', 'the', 'postal', 'service', 'and', 'to', 'hold', 'up', 'federal', 'funding', 'where', 'battleground', 'states', 'are', 'increasing', 'voting', 'by', 'mail', 'the', 'republican', 'party', 'is', 'investing', 'millions', 'of', 'dollars', 'on', 'court', 'challenges', 'to', 'vote', 'by', 'mail', 'initiatives', 'the', 'reality', 'is', 'that', 'mail', 'voting', 'is', 'prudent', 'step', 'in', 'health', 'crisis', 'and', 'the', 'risks', 'of', 'fraud', 'are', 'tiny', 'washington', 'post', 'analysis', 'this', 'month', 'showed', 'that', 'in', 'three', 'vote', 'by', 'mail', 'states', 'there', 'were', 'questionable', 'ballots', 'out', 'of', 'million', 'cast', 'or', 'research', 'has', 'demonstrated', 'that', 'the', 'practice', 'favors', 'neither', 'republicans', 'nor', 'democrats', 'in', 'voting', 'results', 'to', 'be', 'sure', 'states', 'need', 'to', 'adopt', 'adequate', 'safeguards', 'as', 'they', 'race', 'to', 'expand', 'such', 'voting', 'regular', 'efforts', 'should', 'be', 'made', 'to', 'ensure', 'the', 'accuracy', 'of', 'voter', 'rolls', 'and', 'ballots', 'need', 'to', 'be', 'authenticated', 'through', 'processes', 'like', 'signature', 'matching', 'experienced', 'vote', 'by', 'mail', 'states', 'allow', 'law', 'enforcement', 'training', 'of', 'election', 'workers', 'on', 'matching', 'signatures', 'ballot', 'return', 'envelopes', 'should', 'typically', 'require', 'the', 'voter', 'signature', 'and', 'include', 'unique', 'bar', 'code', 'linked', 'to', 'the', 'voter', 'record', 'these', 'changes', 'cost', 'money', 'and', 'the', 'million', 'in', 'election', 'security', 'funding', 'provided', 'by', 'congress', 'this', 'spring', 'isn', 'nearly', 'enough', 'the', 'house', 'proposed', 'billion', 'in', 'the', 'latest', 'coronavirus', 'relief', 'package', 'and', 'if', 'congress', 'wants', 'to', 'ensure', 'fair', 'and', 'accessible', 'election', 'in', 'pandemic', 'it', 'needs', 'to', 'up', 'the', 'ante', 'on', 'state', 'support', 'or', 'risk', 'more', 'voting', 'debacles', 'like', 'the', 'one', 'in', 'georgia', 'last', 'week', 'party', 'that', 'thinks', 'its', 'best', 'hope', 'is', 'to', 'suppress', 'votes', 'is', 'party', 'in', 'trouble', 'the', 'case', 'for', 'expanded', 'mail', 'in', 'voting', 'was', 'already', 'strong', 'in', 'the', 'midst', 'of', 'pandemic', 'it', 'even', 'more', 'so', 'if', 'you', 'can', 'see', 'this', 'reader', 'poll', 'please', 'refresh', 'your', 'page'], tags=[13])"
      ]
     },
     "execution_count": 163,
     "metadata": {},
     "output_type": "execute_result"
    }
   ],
   "source": [
    "x.__next__()"
   ]
  },
  {
   "cell_type": "code",
   "execution_count": 157,
   "metadata": {
    "ExecuteTime": {
     "end_time": "2020-07-05T00:01:00.076078Z",
     "start_time": "2020-07-05T00:01:00.071031Z"
    }
   },
   "outputs": [],
   "source": [
    "class callback(CallbackAny2Vec):\n",
    "    '''Callback to print loss after each epoch.'''\n",
    "\n",
    "    def __init__(self):\n",
    "        self.epoch = 0\n",
    "\n",
    "    def on_epoch_end(self, model):\n",
    "        #loss = model.get_latest_training_loss()\n",
    "        self.epoch += 1\n",
    "        print('Epoch Number : {}'.format(self.epoch))\n",
    "        print(model.docvecs.doctag_syn0)\n",
    "\n",
    "#model = Word2Vec(common_texts, size=100, window=5, min_count=1,compute_loss=True, callbacks=[callback()])"
   ]
  },
  {
   "cell_type": "code",
   "execution_count": 158,
   "metadata": {
    "ExecuteTime": {
     "end_time": "2020-07-05T00:01:42.834443Z",
     "start_time": "2020-07-05T00:01:03.105693Z"
    }
   },
   "outputs": [
    {
     "name": "stderr",
     "output_type": "stream",
     "text": [
      "100%|██████████| 50/50 [00:00<00:00, 208257.40it/s]\n",
      "100%|██████████| 50/50 [00:00<00:00, 152520.15it/s]\n"
     ]
    },
    {
     "name": "stdout",
     "output_type": "stream",
     "text": [
      "Epoch Number : 1\n",
      "[[ 0.0626151   0.04149331 -0.05100564 ...  0.01091006  0.04295271\n",
      "  -0.09653987]\n",
      " [ 0.09183557  0.05840208 -0.07030331 ...  0.01867838  0.06233434\n",
      "  -0.1383421 ]\n",
      " [ 0.08532264  0.05639877 -0.06850778 ...  0.01851404  0.05972821\n",
      "  -0.13243063]\n",
      " ...\n",
      " [ 0.04780852  0.02961288 -0.0389164  ...  0.00915855  0.03516955\n",
      "  -0.07618546]\n",
      " [ 0.08506805  0.05251494 -0.06697876 ...  0.01641575  0.05959173\n",
      "  -0.12809761]\n",
      " [ 0.09743203  0.06282207 -0.07706738 ...  0.02008489  0.06658347\n",
      "  -0.14904462]]\n"
     ]
    },
    {
     "name": "stderr",
     "output_type": "stream",
     "text": [
      "/opt/anaconda3/envs/buan6341/lib/python3.7/site-packages/ipykernel_launcher.py:11: DeprecationWarning: Call to deprecated `doctag_syn0` (Attribute will be removed in 4.0.0, use docvecs.vectors_docs instead).\n",
      "  # This is added back by InteractiveShellApp.init_path()\n"
     ]
    },
    {
     "name": "stdout",
     "output_type": "stream",
     "text": [
      "Epoch Number : 2\n",
      "[[ 0.06535912  0.04361316 -0.05338467 ...  0.0114409   0.04513719\n",
      "  -0.10165782]\n",
      " [ 0.07083787  0.04491503 -0.05331927 ...  0.01418073  0.04766225\n",
      "  -0.10569979]\n",
      " [ 0.06400555  0.04325714 -0.05171679 ...  0.01446663  0.0451168\n",
      "  -0.10052341]\n",
      " ...\n",
      " [ 0.06937135  0.04337234 -0.05623056 ...  0.0134374   0.05006409\n",
      "  -0.10973817]\n",
      " [ 0.07439815  0.04599633 -0.05851739 ...  0.01411491  0.05193013\n",
      "  -0.11101861]\n",
      " [ 0.08785572  0.0570153  -0.06952944 ...  0.01819772  0.05998284\n",
      "  -0.13442203]]\n",
      "Epoch Number : 3\n",
      "[[ 0.06605195  0.04444134 -0.054056   ...  0.01148571  0.04584575\n",
      "  -0.10365968]\n",
      " [ 0.06843736  0.0433205  -0.05083657 ...  0.01334645  0.045589\n",
      "  -0.10118137]\n",
      " [ 0.06006241  0.04148661 -0.04899492 ...  0.0137251   0.04270675\n",
      "  -0.09599126]\n",
      " ...\n",
      " [ 0.0665771   0.04142152 -0.05436999 ...  0.01314364  0.04823407\n",
      "  -0.10601053]\n",
      " [ 0.07110003  0.0443819  -0.05600438 ...  0.01328398  0.04953354\n",
      "  -0.10502633]\n",
      " [ 0.08111846  0.05294982 -0.06441446 ...  0.01704806  0.05531596\n",
      "  -0.12424961]]\n",
      "Epoch Number : 4\n",
      "[[ 0.06500573  0.0451127  -0.05400034 ...  0.01126627  0.04587638\n",
      "  -0.10423591]\n",
      " [ 0.06526464  0.04098388 -0.04720056 ...  0.01158042  0.04294474\n",
      "  -0.09503333]\n",
      " [ 0.05751314  0.04048418 -0.04757512 ...  0.0133482   0.04200521\n",
      "  -0.09480631]\n",
      " ...\n",
      " [ 0.0687754   0.04276328 -0.05616754 ...  0.01377463  0.04956739\n",
      "  -0.11026329]\n",
      " [ 0.06913497  0.04371537 -0.05456403 ...  0.01239808  0.04771223\n",
      "  -0.10039808]\n",
      " [ 0.07289921  0.0480233  -0.05831698 ...  0.01575087  0.0494918\n",
      "  -0.1120643 ]]\n",
      "Epoch Number : 5\n",
      "[[ 0.06463952  0.04677468 -0.05460807 ...  0.01131066  0.04681491\n",
      "  -0.10735039]\n",
      " [ 0.06276014  0.03876824 -0.04263267 ...  0.00913165  0.04096583\n",
      "  -0.08824541]\n",
      " [ 0.05248838  0.03853152 -0.04472966 ...  0.01223391  0.04003564\n",
      "  -0.09157189]\n",
      " ...\n",
      " [ 0.06351773  0.03940146 -0.05226653 ...  0.01314192  0.0466939\n",
      "  -0.10394753]\n",
      " [ 0.06544647  0.04247066 -0.05212528 ...  0.01080232  0.04460254\n",
      "  -0.09245864]\n",
      " [ 0.07289576  0.04799688 -0.05870165 ...  0.01604197  0.04937719\n",
      "  -0.11206528]]\n",
      "Epoch Number : 6\n",
      "[[ 0.0531828   0.04291537 -0.0463895  ...  0.00886588  0.04051727\n",
      "  -0.09493903]\n",
      " [ 0.06864099  0.04269212 -0.04017456 ...  0.00496225  0.04425013\n",
      "  -0.09085384]\n",
      " [ 0.06112318  0.04557501 -0.05211542 ...  0.0130949   0.04840275\n",
      "  -0.10894884]\n",
      " ...\n",
      " [ 0.05983096  0.03711259 -0.05053695 ...  0.01361395  0.0447845\n",
      "  -0.10088114]\n",
      " [ 0.06774986  0.04595614 -0.05336655 ...  0.00978097  0.04562072\n",
      "  -0.09235031]\n",
      " [ 0.07428611  0.05015986 -0.06038158 ...  0.01691904  0.05016937\n",
      "  -0.11456294]]\n",
      "Epoch Number : 7\n",
      "[[ 0.04797576  0.04478454 -0.0429298  ...  0.00707755  0.03913681\n",
      "  -0.09476146]\n",
      " [ 0.06763005  0.04050904 -0.02607255 ... -0.00446166  0.04306926\n",
      "  -0.07875208]\n",
      " [ 0.0521007   0.04379449 -0.04652044 ...  0.0093419   0.04614847\n",
      "  -0.10269979]\n",
      " ...\n",
      " [ 0.05236883  0.03334712 -0.0482219  ...  0.01409385  0.04096519\n",
      "  -0.09725605]\n",
      " [ 0.07001255  0.05055503 -0.05542799 ...  0.00832926  0.04634748\n",
      "  -0.09011823]\n",
      " [ 0.07242586  0.05091859 -0.05929935 ...  0.01721875  0.04792914\n",
      "  -0.11201829]]\n",
      "Epoch Number : 8\n",
      "[[ 0.04410416  0.05005598 -0.03982759 ...  0.00514633  0.04024461\n",
      "  -0.10243007]\n",
      " [ 0.07116721  0.04274845 -0.00611318 ... -0.02138733  0.04592397\n",
      "  -0.06527592]\n",
      " [ 0.03737297  0.03826125 -0.03152573 ...  0.00279217  0.04198971\n",
      "  -0.08723273]\n",
      " ...\n",
      " [ 0.05429431  0.03548449 -0.05103944 ...  0.01781528  0.04277703\n",
      "  -0.10794638]\n",
      " [ 0.0667517   0.05242634 -0.05019458 ...  0.00384731  0.03990513\n",
      "  -0.07703194]\n",
      " [ 0.06625696  0.05134043 -0.05470336 ...  0.01739279  0.04295125\n",
      "  -0.10245755]]\n",
      "Epoch Number : 9\n",
      "[[ 0.03117408  0.05411652 -0.03136504 ... -0.00166333  0.03950681\n",
      "  -0.10066776]\n",
      " [ 0.07820522  0.04620921  0.02250361 ... -0.04765338  0.05169646\n",
      "  -0.04786737]\n",
      " [ 0.03077542  0.04059265 -0.01894241 ... -0.00445594  0.04531589\n",
      "  -0.08979736]\n",
      " ...\n",
      " [ 0.03579608  0.02262234 -0.04256996 ...  0.02211513  0.0296847\n",
      "  -0.10096847]\n",
      " [ 0.07126667  0.0597574  -0.04677651 ... -0.00298369  0.03772622\n",
      "  -0.06816332]\n",
      " [ 0.06655283  0.05578629 -0.05778583 ...  0.01958432  0.04124017\n",
      "  -0.1041765 ]]\n",
      "Epoch Number : 10\n",
      "[[ 0.00393907  0.05705066 -0.00861308 ... -0.01311982  0.0306416\n",
      "  -0.09200755]\n",
      " [ 0.09159445  0.05332308  0.04973088 ... -0.07216426  0.06216669\n",
      "  -0.04031785]\n",
      " [ 0.0198648   0.04502808 -0.00281336 ... -0.01580456  0.05128659\n",
      "  -0.08600008]\n",
      " ...\n",
      " [ 0.02253777  0.01647959 -0.04196743 ...  0.03133507  0.01972951\n",
      "  -0.10913787]\n",
      " [ 0.0743571   0.071375   -0.04770308 ... -0.00673354  0.03360288\n",
      "  -0.05199333]\n",
      " [ 0.06385503  0.05972569 -0.05616745 ...  0.01963169  0.0359802\n",
      "  -0.09769924]]\n",
      "Epoch Number : 11\n",
      "[[-0.02503301  0.06950676  0.01644739 ... -0.02270924  0.02510493\n",
      "  -0.0952095 ]\n",
      " [ 0.11152092  0.06289596  0.03822583 ... -0.07345194  0.07498325\n",
      "  -0.06515393]\n",
      " [ 0.00770623  0.04629825 -0.01621482 ... -0.01474554  0.06068046\n",
      "  -0.10029936]\n",
      " ...\n",
      " [ 0.00427429  0.01239368 -0.02986593 ...  0.04123859  0.0075111\n",
      "  -0.11811049]\n",
      " [ 0.0809067   0.09155188 -0.0498966  ... -0.01180921  0.02567222\n",
      "  -0.0346077 ]\n",
      " [ 0.0540937   0.0594946  -0.0562047  ...  0.02298544  0.02546153\n",
      "  -0.08798691]]\n",
      "Epoch Number : 12\n",
      "[[-0.06593213  0.08253592  0.04167226 ... -0.03534193  0.02161177\n",
      "  -0.11059377]\n",
      " [ 0.12165418  0.06424964  0.0464392  ... -0.08887477  0.08160408\n",
      "  -0.06621538]\n",
      " [-0.00784021  0.05652666 -0.04174114 ... -0.00314679  0.07884074\n",
      "  -0.12257929]\n",
      " ...\n",
      " [-0.01886866  0.00877338 -0.01232291 ...  0.04788338 -0.00899762\n",
      "  -0.10609175]\n",
      " [ 0.09909086  0.1205415  -0.04948595 ... -0.02254674  0.02668163\n",
      "  -0.02201104]\n",
      " [ 0.04392555  0.07178128 -0.05755601 ...  0.02861066  0.0178353\n",
      "  -0.07912195]]\n",
      "Epoch Number : 13\n",
      "[[-0.1090876   0.09582116  0.06137709 ... -0.05585109  0.01703999\n",
      "  -0.11008056]\n",
      " [ 0.13590322  0.07406187  0.02319261 ... -0.10420055  0.09792925\n",
      "  -0.06418782]\n",
      " [-0.02763847  0.05830364 -0.06461578 ... -0.00306509  0.0909555\n",
      "  -0.11744111]\n",
      " ...\n",
      " [-0.03913756  0.0120113   0.01086794 ...  0.05791111 -0.0126524\n",
      "  -0.09956904]\n",
      " [ 0.1177804   0.14669062 -0.08008704 ... -0.0295317   0.03807891\n",
      "  -0.02249646]\n",
      " [ 0.04025141  0.09159418 -0.06712282 ...  0.03142464  0.01356399\n",
      "  -0.07309548]]\n",
      "Epoch Number : 14\n",
      "[[-0.15478472  0.10881433  0.06827512 ... -0.06736799  0.00572991\n",
      "  -0.14346461]\n",
      " [ 0.14864703  0.08101705  0.0252103  ... -0.12322859  0.11109682\n",
      "  -0.06255879]\n",
      " [-0.06294946  0.05856868 -0.06208966 ...  0.01465282  0.09350789\n",
      "  -0.11471342]\n",
      " ...\n",
      " [-0.04942107  0.01309194  0.03085086 ...  0.07144871 -0.01047334\n",
      "  -0.12701686]\n",
      " [ 0.13228597  0.15835649 -0.07874443 ... -0.04382721  0.04443907\n",
      "  -0.00621846]\n",
      " [ 0.03037228  0.10608988 -0.07607551 ...  0.0432284   0.0061403\n",
      "  -0.0657735 ]]\n",
      "Epoch Number : 15\n",
      "[[-0.21504024  0.1317625   0.07619973 ... -0.07405296 -0.00782102\n",
      "  -0.16314395]\n",
      " [ 0.15672031  0.08033439  0.01779368 ... -0.12995867  0.11510089\n",
      "  -0.05724632]\n",
      " [-0.09444249  0.06640428 -0.07442431 ...  0.01729219  0.10898599\n",
      "  -0.10073653]\n",
      " ...\n",
      " [-0.04442051 -0.00442733  0.01318363 ...  0.07819012  0.00634529\n",
      "  -0.16689235]\n",
      " [ 0.1480448   0.18273032 -0.10758705 ... -0.06286458  0.06823547\n",
      "   0.00667163]\n",
      " [ 0.0276443   0.12815835 -0.09657411 ...  0.04147175  0.01778907\n",
      "  -0.05660145]]\n",
      "Epoch Number : 16\n",
      "[[-0.27975377  0.1524125   0.09953292 ... -0.08720884 -0.01355638\n",
      "  -0.18702061]\n",
      " [ 0.17134021  0.07541275  0.00294362 ... -0.13777483  0.10474057\n",
      "  -0.05308292]\n",
      " [-0.12993838  0.08835653 -0.09030783 ...  0.02573419  0.13074283\n",
      "  -0.09588043]\n",
      " ...\n",
      " [-0.06343058 -0.01740021  0.01302613 ...  0.07824676  0.02152864\n",
      "  -0.1828333 ]\n",
      " [ 0.14908502  0.18623668 -0.09749117 ... -0.07760953  0.07381952\n",
      "   0.0394931 ]\n",
      " [ 0.02219141  0.13739622 -0.11071514 ...  0.05806682  0.02010864\n",
      "  -0.06594708]]\n",
      "Epoch Number : 17\n",
      "[[-0.3279924   0.1706965   0.1005934  ... -0.09599611 -0.01581389\n",
      "  -0.23212628]\n",
      " [ 0.17285885  0.09452376  0.02406592 ... -0.15518159  0.11029209\n",
      "  -0.04270488]\n",
      " [-0.1665347   0.0945591  -0.09445788 ...  0.04377164  0.13783395\n",
      "  -0.0765747 ]\n",
      " ...\n",
      " [-0.0926566  -0.02926086  0.03632085 ...  0.08767541  0.01884837\n",
      "  -0.18129817]\n",
      " [ 0.1577731   0.20990653 -0.14345057 ... -0.09591548  0.10293033\n",
      "   0.0690765 ]\n",
      " [ 0.02683576  0.14366165 -0.10957402 ...  0.06751259  0.01362664\n",
      "  -0.07625598]]\n",
      "Epoch Number : 18\n",
      "[[-0.3751887   0.18601726  0.13296784 ... -0.10341334 -0.02907781\n",
      "  -0.2632484 ]\n",
      " [ 0.20558377  0.07784328  0.01857409 ... -0.15766434  0.09573741\n",
      "  -0.03648921]\n",
      " [-0.18655832  0.0974579  -0.0971985  ...  0.06193957  0.1440203\n",
      "  -0.09903827]\n",
      " ...\n",
      " [-0.13911194 -0.03339407  0.05756104 ...  0.09365046  0.02462717\n",
      "  -0.1649717 ]\n",
      " [ 0.16079795  0.22565518 -0.15438992 ... -0.10389671  0.0979237\n",
      "   0.06301809]\n",
      " [ 0.02833907  0.15701617 -0.12516786 ...  0.05482608  0.03375994\n",
      "  -0.07786447]]\n"
     ]
    },
    {
     "name": "stdout",
     "output_type": "stream",
     "text": [
      "Epoch Number : 19\n",
      "[[-0.4159573   0.19166754  0.14663477 ... -0.10262746 -0.03582272\n",
      "  -0.2835199 ]\n",
      " [ 0.20273764  0.08887133  0.01450761 ... -0.14781766  0.09227388\n",
      "  -0.03215786]\n",
      " [-0.2436889   0.12336005 -0.08156446 ...  0.08695072  0.1472641\n",
      "  -0.10311936]\n",
      " ...\n",
      " [-0.16600703 -0.0630912   0.04215651 ...  0.10082363  0.0302307\n",
      "  -0.18999787]\n",
      " [ 0.17656043  0.25056353 -0.1932823  ... -0.12865469  0.09780942\n",
      "   0.06778508]\n",
      " [ 0.03380995  0.16643801 -0.13299151 ...  0.05892303  0.04229628\n",
      "  -0.09640004]]\n",
      "Epoch Number : 20\n",
      "[[-0.4522198   0.21415004  0.1402963  ... -0.10145103 -0.02376854\n",
      "  -0.28941625]\n",
      " [ 0.24415417  0.08077285 -0.02669656 ... -0.16092457  0.10944114\n",
      "  -0.05168903]\n",
      " [-0.2796896   0.12942426 -0.11134071 ...  0.09025479  0.16688238\n",
      "  -0.09670317]\n",
      " ...\n",
      " [-0.20032007 -0.05971473  0.05162084 ...  0.08999089  0.04974594\n",
      "  -0.1879218 ]\n",
      " [ 0.19700502  0.25853965 -0.22666079 ... -0.13804525  0.10832838\n",
      "   0.09395171]\n",
      " [ 0.03385133  0.16961752 -0.12840459 ...  0.04651628  0.04462416\n",
      "  -0.09024303]]\n",
      "Epoch Number : 21\n",
      "[[-0.47417632  0.2265462   0.14799039 ... -0.09574947 -0.01767174\n",
      "  -0.30366498]\n",
      " [ 0.26773238  0.08528639  0.00394565 ... -0.1790933   0.0926908\n",
      "  -0.03811234]\n",
      " [-0.2708221   0.11003279 -0.1555947  ...  0.0840528   0.16501999\n",
      "  -0.11468387]\n",
      " ...\n",
      " [-0.2461687  -0.0947554   0.09683682 ...  0.05794437  0.03481192\n",
      "  -0.21345432]\n",
      " [ 0.20992275  0.27375624 -0.26428223 ... -0.14332333  0.11600498\n",
      "   0.12011007]\n",
      " [ 0.06109734  0.16515075 -0.13547459 ...  0.05446266  0.0417003\n",
      "  -0.11015226]]\n",
      "Epoch Number : 22\n",
      "[[-0.4870086   0.2314124   0.15989158 ... -0.0885729  -0.01745636\n",
      "  -0.31837854]\n",
      " [ 0.2878226   0.09428519 -0.00616964 ... -0.20609313  0.08737781\n",
      "  -0.05684264]\n",
      " [-0.27450278  0.1075562  -0.173092   ...  0.10069769  0.17130095\n",
      "  -0.14417467]\n",
      " ...\n",
      " [-0.28453937 -0.10774109  0.10745357 ...  0.06169491  0.03603385\n",
      "  -0.22544524]\n",
      " [ 0.21310107  0.28629598 -0.2876739  ... -0.17000625  0.11809541\n",
      "   0.16504833]\n",
      " [ 0.04681437  0.16342032 -0.13794747 ...  0.0588622   0.05178755\n",
      "  -0.09157917]]\n",
      "Epoch Number : 23\n",
      "[[-0.47505483  0.23037857  0.13595176 ... -0.07803058 -0.01996491\n",
      "  -0.337467  ]\n",
      " [ 0.323116    0.08265942 -0.03634758 ... -0.18550727  0.08266526\n",
      "  -0.03489521]\n",
      " [-0.28355724  0.08540911 -0.15718809 ...  0.10929687  0.11817836\n",
      "  -0.1645044 ]\n",
      " ...\n",
      " [-0.28153566 -0.10297681  0.08545734 ...  0.07477871  0.05022042\n",
      "  -0.25448248]\n",
      " [ 0.23040283  0.30097386 -0.30408123 ... -0.15417205  0.1370179\n",
      "   0.15270203]\n",
      " [ 0.0564356   0.16317113 -0.13679461 ...  0.06819882  0.06613527\n",
      "  -0.11040808]]\n",
      "Epoch Number : 24\n",
      "[[-0.47394758  0.22538055  0.13631225 ... -0.06716949 -0.01768306\n",
      "  -0.34306452]\n",
      " [ 0.3462597   0.10633163 -0.02323874 ... -0.19439414  0.04169475\n",
      "  -0.05079275]\n",
      " [-0.31914002  0.07409272 -0.14848274 ...  0.11359657  0.12175157\n",
      "  -0.17066692]\n",
      " ...\n",
      " [-0.29282042 -0.06787423  0.10481784 ...  0.07736658  0.0543608\n",
      "  -0.2573719 ]\n",
      " [ 0.24308619  0.31842494 -0.33769628 ... -0.14880013  0.12286808\n",
      "   0.13216819]\n",
      " [ 0.04528953  0.15948984 -0.13999587 ...  0.07609019  0.04029272\n",
      "  -0.11376357]]\n",
      "Epoch Number : 25\n",
      "[[-0.47053677  0.2133528   0.13666168 ... -0.07837935 -0.00182428\n",
      "  -0.33440793]\n",
      " [ 0.34918472  0.09140562 -0.05042468 ... -0.18473698  0.0256097\n",
      "  -0.03654028]\n",
      " [-0.33883044  0.07987954 -0.16663937 ...  0.10275923  0.12981097\n",
      "  -0.16360001]\n",
      " ...\n",
      " [-0.27024588 -0.05402902  0.05341154 ...  0.0943142   0.07419723\n",
      "  -0.2654956 ]\n",
      " [ 0.23275857  0.32903242 -0.33356524 ... -0.15178144  0.1384846\n",
      "   0.1436927 ]\n",
      " [ 0.07827023  0.16515423 -0.13948601 ...  0.06994245  0.06120798\n",
      "  -0.11411052]]\n",
      "Epoch Number : 26\n",
      "[[-0.496508    0.22341898  0.14257108 ... -0.06093901 -0.00612106\n",
      "  -0.35248902]\n",
      " [ 0.35916978  0.09103828 -0.00927824 ... -0.17003253  0.00133041\n",
      "  -0.05207708]\n",
      " [-0.30072337  0.0696969  -0.17965285 ...  0.08546837  0.13670036\n",
      "  -0.18052222]\n",
      " ...\n",
      " [-0.28351313 -0.05874962  0.0595614  ...  0.1244937   0.09644625\n",
      "  -0.2678446 ]\n",
      " [ 0.24532826  0.3507184  -0.33836406 ... -0.16121137  0.13442035\n",
      "   0.15085228]\n",
      " [ 0.09040835  0.15252113 -0.131595   ...  0.08072933  0.05806927\n",
      "  -0.12417784]]\n",
      "Epoch Number : 27\n",
      "[[-0.5083448   0.22684605  0.15197009 ... -0.07221081 -0.00888641\n",
      "  -0.33815497]\n",
      " [ 0.38417643  0.10067433 -0.03393682 ... -0.18954717 -0.01294102\n",
      "  -0.07735076]\n",
      " [-0.27905288  0.06567626 -0.13326502 ...  0.06044133  0.11725661\n",
      "  -0.20114848]\n",
      " ...\n",
      " [-0.2691035  -0.04525338  0.04505605 ...  0.1429054   0.11955291\n",
      "  -0.28036502]\n",
      " [ 0.26790518  0.36530823 -0.36583394 ... -0.16967724  0.11511917\n",
      "   0.13314474]\n",
      " [ 0.10123011  0.15347366 -0.1464255  ...  0.07684327  0.08379873\n",
      "  -0.10492326]]\n",
      "Epoch Number : 28\n",
      "[[-0.5013182   0.2329956   0.1494363  ... -0.07650461  0.00081118\n",
      "  -0.3426586 ]\n",
      " [ 0.3850947   0.1101855  -0.04238041 ... -0.20857574 -0.04316256\n",
      "  -0.05995117]\n",
      " [-0.27174473  0.06899324 -0.17623745 ...  0.05813068  0.12971038\n",
      "  -0.21489337]\n",
      " ...\n",
      " [-0.28180966 -0.0501321   0.06877562 ...  0.1449663   0.13173448\n",
      "  -0.2805351 ]\n",
      " [ 0.2672354   0.36067396 -0.384664   ... -0.12715487  0.12526356\n",
      "   0.10886133]\n",
      " [ 0.09221242  0.15930943 -0.10280576 ...  0.08026786  0.05014919\n",
      "  -0.08181556]]\n",
      "Epoch Number : 29\n",
      "[[-0.5048106   0.22890645  0.1570494  ... -0.05775593  0.00878622\n",
      "  -0.35782096]\n",
      " [ 0.3588649   0.09853488 -0.03210047 ... -0.21905132 -0.04388126\n",
      "  -0.04828498]\n",
      " [-0.27017626  0.07802723 -0.16970812 ...  0.04060021  0.11859208\n",
      "  -0.21856196]\n",
      " ...\n",
      " [-0.30585447 -0.03079253  0.05659993 ...  0.15312612  0.12489221\n",
      "  -0.33327872]\n",
      " [ 0.23942377  0.3594157  -0.38114005 ... -0.13691206  0.13587211\n",
      "   0.13442469]\n",
      " [ 0.1017518   0.16544755 -0.07697257 ...  0.06899883  0.04480734\n",
      "  -0.06820614]]\n",
      "Epoch Number : 30\n",
      "[[-0.51492786  0.22440743  0.15591468 ... -0.06776581  0.01638981\n",
      "  -0.35423914]\n",
      " [ 0.39317456  0.10772275 -0.04244119 ... -0.19702928 -0.03577569\n",
      "  -0.10171521]\n",
      " [-0.27261618  0.11049593 -0.17244738 ...  0.04682355  0.11307073\n",
      "  -0.2105931 ]\n",
      " ...\n",
      " [-0.3122472  -0.04521903  0.08153184 ...  0.15592913  0.09744537\n",
      "  -0.3320202 ]\n",
      " [ 0.26189157  0.35043377 -0.3782184  ... -0.13765234  0.14099076\n",
      "   0.11520771]\n",
      " [ 0.1039564   0.1697943  -0.05577897 ...  0.06589557  0.04292561\n",
      "  -0.08270203]]\n",
      "Epoch Number : 31\n",
      "[[-0.48288676  0.20963696  0.15079595 ... -0.06015857  0.01572374\n",
      "  -0.3649956 ]\n",
      " [ 0.3923302   0.09742525 -0.0571886  ... -0.21113484 -0.0230497\n",
      "  -0.10107543]\n",
      " [-0.23749553  0.11644908 -0.1746834  ...  0.03372218  0.12235432\n",
      "  -0.2157509 ]\n",
      " ...\n",
      " [-0.3212726  -0.03721054  0.07038469 ...  0.1526903   0.0710161\n",
      "  -0.379638  ]\n",
      " [ 0.24099933  0.35055816 -0.39372572 ... -0.13509901  0.13167907\n",
      "   0.12507838]\n",
      " [ 0.09817588  0.18137324 -0.05686542 ...  0.06267513  0.04060258\n",
      "  -0.10536506]]\n",
      "Epoch Number : 32\n",
      "[[-0.47593996  0.22540647  0.13687333 ... -0.06413     0.01805419\n",
      "  -0.36373654]\n",
      " [ 0.37079728  0.10658839 -0.10046817 ... -0.2186326   0.03256913\n",
      "  -0.06811723]\n",
      " [-0.26562107  0.12572563 -0.16972685 ...  0.02096437  0.14618908\n",
      "  -0.22713661]\n",
      " ...\n",
      " [-0.35156912 -0.02626979  0.06636021 ...  0.16261445  0.07847008\n",
      "  -0.37597013]\n",
      " [ 0.24159682  0.34329838 -0.3639808  ... -0.14457026  0.12407675\n",
      "   0.12264341]\n",
      " [ 0.10261385  0.19312553 -0.07775493 ...  0.07881597  0.03795878\n",
      "  -0.12480231]]\n",
      "Epoch Number : 33\n",
      "[[-0.49066702  0.22595629  0.14892259 ... -0.07454462 -0.01125798\n",
      "  -0.36007738]\n",
      " [ 0.36675796  0.13362308 -0.11328476 ... -0.23305182  0.04194452\n",
      "  -0.0715059 ]\n",
      " [-0.27148715  0.12967803 -0.15884413 ...  0.03109181  0.14180562\n",
      "  -0.22315137]\n",
      " ...\n",
      " [-0.3206783  -0.02893788  0.08274055 ...  0.16262354  0.0834676\n",
      "  -0.3422728 ]\n",
      " [ 0.24996752  0.34980723 -0.36458498 ... -0.1577964   0.10384945\n",
      "   0.10135084]\n",
      " [ 0.09541219  0.1861333  -0.09589018 ...  0.08574636  0.04185932\n",
      "  -0.1260792 ]]\n",
      "Epoch Number : 34\n",
      "[[-0.49327335  0.23232836  0.1474514  ... -0.06663884 -0.00957172\n",
      "  -0.36758903]\n",
      " [ 0.39501598  0.15128592 -0.12149409 ... -0.20577033  0.01706267\n",
      "  -0.09302659]\n",
      " [-0.26871055  0.13854353 -0.15862109 ...  0.04463695  0.15140964\n",
      "  -0.20010674]\n",
      " ...\n",
      " [-0.31640494 -0.01650436  0.04397558 ...  0.16927616  0.09555957\n",
      "  -0.31830263]\n",
      " [ 0.2643645   0.3588239  -0.3820093  ... -0.14563818  0.09350961\n",
      "   0.07941692]\n",
      " [ 0.1106959   0.17499247 -0.09324963 ...  0.0743508   0.0342689\n",
      "  -0.12583451]]\n",
      "Epoch Number : 35\n",
      "[[-0.4926487   0.22797464  0.13640554 ... -0.06732376 -0.012977\n",
      "  -0.36973396]\n",
      " [ 0.37558347  0.12172911 -0.08971746 ... -0.19852383  0.02383083\n",
      "  -0.08744881]\n",
      " [-0.24616669  0.16044982 -0.18111648 ...  0.04577511  0.15509729\n",
      "  -0.18208277]\n",
      " ...\n",
      " [-0.30455047 -0.02549355  0.0109056  ...  0.18792124  0.11908081\n",
      "  -0.31225044]\n",
      " [ 0.26850286  0.37302384 -0.40403    ... -0.15823574  0.10484824\n",
      "   0.09587181]\n",
      " [ 0.12618905  0.15724412 -0.1357262  ...  0.09351     0.05327107\n",
      "  -0.13285188]]\n"
     ]
    },
    {
     "name": "stdout",
     "output_type": "stream",
     "text": [
      "Epoch Number : 36\n",
      "[[-0.48610568  0.21418774  0.14082313 ... -0.05650701 -0.02742327\n",
      "  -0.40721777]\n",
      " [ 0.3620006   0.13417758 -0.14708714 ... -0.20432979  0.0323662\n",
      "  -0.08264586]\n",
      " [-0.24681823  0.16831566 -0.1721124  ...  0.04971974  0.13760693\n",
      "  -0.17461723]\n",
      " ...\n",
      " [-0.30408296  0.02767456  0.00194355 ...  0.15900488  0.13409072\n",
      "  -0.29075566]\n",
      " [ 0.25553775  0.38862604 -0.4027667  ... -0.1649162   0.12603873\n",
      "   0.0714436 ]\n",
      " [ 0.11029436  0.15795894 -0.12743922 ...  0.08779774  0.04111324\n",
      "  -0.14621902]]\n",
      "Epoch Number : 37\n",
      "[[-0.50335515  0.21876502  0.14537492 ... -0.05590328 -0.03305941\n",
      "  -0.40572822]\n",
      " [ 0.36451724  0.11451821 -0.10083091 ... -0.2504533   0.03566316\n",
      "  -0.01608965]\n",
      " [-0.25731415  0.16505256 -0.181437   ...  0.05989079  0.13601783\n",
      "  -0.17269766]\n",
      " ...\n",
      " [-0.27740517  0.00573823 -0.01306974 ...  0.15277648  0.1356136\n",
      "  -0.30156875]\n",
      " [ 0.2414068   0.39602154 -0.4351307  ... -0.19123831  0.12209512\n",
      "   0.10338247]\n",
      " [ 0.11779279  0.13892502 -0.15325972 ...  0.09939972  0.03678869\n",
      "  -0.1311334 ]]\n",
      "Epoch Number : 38\n",
      "[[-0.49001417  0.22238588  0.13899963 ... -0.04942709 -0.02603152\n",
      "  -0.40539604]\n",
      " [ 0.344       0.11209156 -0.16137727 ... -0.2713988   0.02195787\n",
      "   0.01477198]\n",
      " [-0.28642315  0.13916413 -0.1462305  ...  0.04220776  0.1052889\n",
      "  -0.20543657]\n",
      " ...\n",
      " [-0.28634626  0.01801558  0.02133443 ...  0.10922467  0.13481897\n",
      "  -0.30760643]\n",
      " [ 0.23359714  0.38833258 -0.41991594 ... -0.18542413  0.11098677\n",
      "   0.12600869]\n",
      " [ 0.12738872  0.1477134  -0.14530441 ...  0.09596302  0.04842662\n",
      "  -0.12481876]]\n",
      "Epoch Number : 39\n",
      "[[-0.49387494  0.22535864  0.14498676 ... -0.0547537  -0.02739942\n",
      "  -0.4108712 ]\n",
      " [ 0.38694414  0.1110971  -0.16316043 ... -0.268802    0.02269013\n",
      "   0.03884979]\n",
      " [-0.2792495   0.13936664 -0.17892422 ...  0.05964924  0.09732636\n",
      "  -0.19970413]\n",
      " ...\n",
      " [-0.2774022   0.00982321 -0.00681716 ...  0.12752438  0.15245672\n",
      "  -0.30805653]\n",
      " [ 0.24475433  0.37308803 -0.44623473 ... -0.17619431  0.12301715\n",
      "   0.1495617 ]\n",
      " [ 0.11630092  0.1367397  -0.13504645 ...  0.10004241  0.0532201\n",
      "  -0.12475304]]\n",
      "Epoch Number : 40\n",
      "[[-0.5078087   0.22224511  0.15175337 ... -0.0518265  -0.02683138\n",
      "  -0.40627274]\n",
      " [ 0.3891662   0.12114424 -0.164137   ... -0.27228427  0.02822108\n",
      "   0.01948704]\n",
      " [-0.28481662  0.13648905 -0.20092206 ...  0.05495689  0.12374242\n",
      "  -0.16763414]\n",
      " ...\n",
      " [-0.3213489   0.02173517  0.00833633 ...  0.09230084  0.20964614\n",
      "  -0.27927303]\n",
      " [ 0.2420835   0.37796405 -0.45350552 ... -0.16632074  0.12828347\n",
      "   0.11266524]\n",
      " [ 0.13695063  0.13829301 -0.16338703 ...  0.11598095  0.0666631\n",
      "  -0.1405058 ]]\n",
      "Epoch Number : 41\n",
      "[[-0.4852102   0.21776193  0.13842958 ... -0.03987311 -0.0275227\n",
      "  -0.41027173]\n",
      " [ 0.37685823  0.11767347 -0.15938278 ... -0.31239688  0.02380205\n",
      "   0.01373024]\n",
      " [-0.28068927  0.13205218 -0.19597256 ...  0.04467895  0.12188795\n",
      "  -0.16973016]\n",
      " ...\n",
      " [-0.3257538   0.04100751  0.00444434 ...  0.10028409  0.21021055\n",
      "  -0.27099627]\n",
      " [ 0.24039777  0.39856818 -0.45891702 ... -0.1575571   0.14922749\n",
      "   0.11567505]\n",
      " [ 0.12243748  0.14567323 -0.17148925 ...  0.10395213  0.06600945\n",
      "  -0.14370067]]\n",
      "Epoch Number : 42\n",
      "[[-0.5070911   0.21785185  0.15451361 ... -0.03460148 -0.02822697\n",
      "  -0.41484028]\n",
      " [ 0.35490385  0.0864096  -0.12501058 ... -0.309132    0.001842\n",
      "   0.00750074]\n",
      " [-0.29563418  0.15853097 -0.17154267 ...  0.05309242  0.15541011\n",
      "  -0.15348093]\n",
      " ...\n",
      " [-0.34032157  0.02421536 -0.00867755 ...  0.08635101  0.2127534\n",
      "  -0.2832752 ]\n",
      " [ 0.24901567  0.41528156 -0.44324118 ... -0.17187457  0.13559976\n",
      "   0.13326968]\n",
      " [ 0.12285554  0.15251204 -0.14917213 ...  0.11823452  0.05235666\n",
      "  -0.12521785]]\n",
      "Epoch Number : 43\n",
      "[[-0.50380325  0.22753522  0.1383451  ... -0.02894279 -0.03094593\n",
      "  -0.42304164]\n",
      " [ 0.35206687  0.07843937 -0.14015718 ... -0.3245439   0.02876103\n",
      "  -0.00685221]\n",
      " [-0.28954902  0.14986835 -0.15620376 ...  0.05964089  0.14654432\n",
      "  -0.15493858]\n",
      " ...\n",
      " [-0.3495616   0.05640221  0.0211745  ...  0.1019742   0.21343459\n",
      "  -0.30025145]\n",
      " [ 0.2712937   0.4158769  -0.44246522 ... -0.15869169  0.13880794\n",
      "   0.10761058]\n",
      " [ 0.12437905  0.16318877 -0.14324896 ...  0.13839781  0.02957783\n",
      "  -0.12971756]]\n",
      "Epoch Number : 44\n",
      "[[-0.51179546  0.2359331   0.13360257 ... -0.02256239 -0.02703455\n",
      "  -0.4229917 ]\n",
      " [ 0.36577702  0.11499219 -0.12728316 ... -0.35505545  0.01266153\n",
      "  -0.05213901]\n",
      " [-0.29352313  0.14514397 -0.16322593 ...  0.05596755  0.13388428\n",
      "  -0.15979807]\n",
      " ...\n",
      " [-0.3124573   0.06625007  0.04777047 ...  0.09400531  0.20498504\n",
      "  -0.36831993]\n",
      " [ 0.2701975   0.40801293 -0.44482678 ... -0.14360417  0.1207585\n",
      "   0.12475562]\n",
      " [ 0.124396    0.15953337 -0.16647054 ...  0.14286767  0.02812951\n",
      "  -0.13330917]]\n",
      "Epoch Number : 45\n",
      "[[-0.49188343  0.23817486  0.1310481  ... -0.03442552 -0.0327789\n",
      "  -0.4130066 ]\n",
      " [ 0.36697572  0.12491464 -0.10168234 ... -0.351496    0.0018562\n",
      "  -0.04943994]\n",
      " [-0.31715554  0.15809502 -0.15954559 ...  0.05629461  0.12856904\n",
      "  -0.1865887 ]\n",
      " ...\n",
      " [-0.31445497  0.01961022  0.09569907 ...  0.06795902  0.20081392\n",
      "  -0.36463833]\n",
      " [ 0.28820887  0.39741093 -0.45364246 ... -0.13918227  0.10080703\n",
      "   0.1163547 ]\n",
      " [ 0.12112966  0.15069957 -0.17560667 ...  0.14685209  0.02760237\n",
      "  -0.14649156]]\n",
      "Epoch Number : 46\n",
      "[[-0.49912977  0.23927954  0.13365798 ... -0.03771215 -0.04742997\n",
      "  -0.40686175]\n",
      " [ 0.3576951   0.1256688  -0.09043489 ... -0.35891792  0.00949734\n",
      "  -0.04526435]\n",
      " [-0.28427455  0.16819978 -0.17265554 ...  0.06442457  0.11431627\n",
      "  -0.17541239]\n",
      " ...\n",
      " [-0.3273333   0.06420252  0.11399099 ...  0.05605368  0.24959064\n",
      "  -0.3277795 ]\n",
      " [ 0.28482673  0.3893195  -0.4722105  ... -0.16480094  0.09101084\n",
      "   0.11519138]\n",
      " [ 0.09959412  0.15769684 -0.15531509 ...  0.14891703  0.01563214\n",
      "  -0.12739147]]\n",
      "Epoch Number : 47\n",
      "[[-0.47312683  0.23622254  0.12297139 ... -0.03411106 -0.04037793\n",
      "  -0.40949318]\n",
      " [ 0.34325758  0.10525253 -0.09615665 ... -0.39286485 -0.02406911\n",
      "  -0.0294633 ]\n",
      " [-0.27115402  0.16389301 -0.1915083  ...  0.05277424  0.11830143\n",
      "  -0.14739917]\n",
      " ...\n",
      " [-0.3159221   0.08633453  0.09790566 ...  0.08603165  0.24320568\n",
      "  -0.35555828]\n",
      " [ 0.2886413   0.39417675 -0.45984313 ... -0.17623746  0.0892297\n",
      "   0.09101919]\n",
      " [ 0.07387215  0.15404388 -0.14205767 ...  0.16152033  0.00560017\n",
      "  -0.12258396]]\n",
      "Epoch Number : 48\n",
      "[[-0.4810256   0.25589737  0.11823016 ... -0.0267815  -0.03542136\n",
      "  -0.4187162 ]\n",
      " [ 0.35223517  0.12397894 -0.13658263 ... -0.40161136 -0.0467429\n",
      "  -0.01578982]\n",
      " [-0.30098507  0.16471992 -0.19167818 ...  0.02971379  0.10427668\n",
      "  -0.13785115]\n",
      " ...\n",
      " [-0.32082558  0.05900199  0.09081753 ...  0.07567937  0.20651786\n",
      "  -0.3626147 ]\n",
      " [ 0.30509332  0.395478   -0.47102082 ... -0.18368192  0.11042726\n",
      "   0.08062156]\n",
      " [ 0.07032397  0.14996944 -0.14916241 ...  0.16632368  0.00093924\n",
      "  -0.12381973]]\n",
      "Epoch Number : 49\n",
      "[[-0.4553092   0.26100266  0.11369843 ... -0.0248237  -0.03164386\n",
      "  -0.4202654 ]\n",
      " [ 0.35831857  0.11847698 -0.116265   ... -0.4245205  -0.04063769\n",
      "  -0.03054339]\n",
      " [-0.32104075  0.14765061 -0.16838992 ...  0.01198755  0.07613827\n",
      "  -0.13726516]\n",
      " ...\n",
      " [-0.31530857  0.0380065   0.0839049  ...  0.04020724  0.21054177\n",
      "  -0.36993968]\n",
      " [ 0.30096716  0.3964592  -0.48249844 ... -0.1992704   0.09104186\n",
      "   0.09677266]\n",
      " [ 0.07571901  0.16470052 -0.1558947  ...  0.16374975  0.02298423\n",
      "  -0.12383455]]\n",
      "Epoch Number : 50\n",
      "[[-0.4313118   0.25373393  0.10079762 ... -0.02667901 -0.03112628\n",
      "  -0.40950942]\n",
      " [ 0.29899988  0.11692552 -0.10169796 ... -0.42186058 -0.06009537\n",
      "  -0.007785  ]\n",
      " [-0.32443562  0.13231343 -0.18818049 ...  0.01528768  0.08583652\n",
      "  -0.12965669]\n",
      " ...\n",
      " [-0.30221742  0.01553672  0.09973717 ...  0.05058779  0.22495581\n",
      "  -0.3797157 ]\n",
      " [ 0.30885243  0.39839017 -0.48727265 ... -0.18064113  0.05843638\n",
      "   0.12067019]\n",
      " [ 0.06901679  0.16604175 -0.17483838 ...  0.1705983   0.01260792\n",
      "  -0.11821321]]\n",
      "Epoch Number : 51\n",
      "[[-0.40836224  0.25694132  0.09244273 ... -0.02082459 -0.03621264\n",
      "  -0.41996124]\n",
      " [ 0.30721587  0.12175281 -0.11514265 ... -0.41095915 -0.05347439\n",
      "  -0.01451108]\n",
      " [-0.34934857  0.14002137 -0.2043833  ...  0.00486308  0.10554486\n",
      "  -0.13196756]\n",
      " ...\n",
      " [-0.32021362  0.01492437  0.10973236 ...  0.05107921  0.2128992\n",
      "  -0.36621395]\n",
      " [ 0.30266714  0.39094257 -0.5033248  ... -0.16640483  0.05514748\n",
      "   0.10112985]\n",
      " [ 0.0710946   0.1596725  -0.17244126 ...  0.17478703  0.02731623\n",
      "  -0.11921091]]\n",
      "Epoch Number : 52\n",
      "[[-3.90678793e-01  2.59242058e-01  8.84207413e-02 ... -3.63777042e-04\n",
      "  -2.43582893e-02 -4.21357960e-01]\n",
      " [ 3.15682769e-01  1.21907957e-01 -1.24476790e-01 ... -3.84588748e-01\n",
      "  -6.38730451e-02  1.11239068e-02]\n",
      " [-3.39944273e-01  1.51220009e-01 -1.85081303e-01 ...  2.33171713e-02\n",
      "   1.15478136e-01 -1.28134772e-01]\n",
      " ...\n",
      " [-2.99345553e-01  5.22168353e-03  1.39844045e-01 ...  6.01743348e-02\n",
      "   1.97458282e-01 -3.79706293e-01]\n",
      " [ 2.97568470e-01  3.77463162e-01 -4.95059699e-01 ... -1.44271716e-01\n",
      "   4.82630022e-02  9.62702632e-02]\n",
      " [ 7.27116689e-02  1.66824564e-01 -1.72630727e-01 ...  1.72943696e-01\n",
      "   3.43045332e-02 -1.21264346e-01]]\n"
     ]
    },
    {
     "name": "stdout",
     "output_type": "stream",
     "text": [
      "Epoch Number : 53\n",
      "[[-0.40236568  0.25701818  0.08847767 ...  0.00918532 -0.02397853\n",
      "  -0.42354903]\n",
      " [ 0.3252071   0.1269603  -0.10727888 ... -0.38284302 -0.05421337\n",
      "   0.02445053]\n",
      " [-0.3202516   0.1329768  -0.20130403 ...  0.01968635  0.10598684\n",
      "  -0.11801686]\n",
      " ...\n",
      " [-0.28287104 -0.02031714  0.12587443 ...  0.06370854  0.20441148\n",
      "  -0.36569664]\n",
      " [ 0.29901907  0.37443516 -0.48149598 ... -0.14227381  0.05502327\n",
      "   0.11606833]\n",
      " [ 0.06772214  0.17470774 -0.17032684 ...  0.16242734  0.04122514\n",
      "  -0.1308452 ]]\n",
      "Epoch Number : 54\n",
      "[[-0.39352387  0.27588397  0.07551814 ...  0.00238247 -0.01718685\n",
      "  -0.41336983]\n",
      " [ 0.3262779   0.16274054 -0.123334   ... -0.3909827  -0.02414939\n",
      "   0.01829221]\n",
      " [-0.34148508  0.13161178 -0.21234114 ...  0.01565709  0.10306318\n",
      "  -0.11820993]\n",
      " ...\n",
      " [-0.3144213  -0.01408864  0.13415863 ...  0.05906613  0.17803659\n",
      "  -0.41127002]\n",
      " [ 0.2921171   0.396494   -0.4977762  ... -0.15543127  0.05951579\n",
      "   0.09239816]\n",
      " [ 0.09031487  0.17063676 -0.17135963 ...  0.1599216   0.03278842\n",
      "  -0.14436345]]\n",
      "Epoch Number : 55\n",
      "[[-4.15516764e-01  2.83835500e-01  7.57911876e-02 ...  3.01632856e-04\n",
      "  -2.24457048e-02 -3.95686150e-01]\n",
      " [ 3.56676817e-01  1.50339141e-01 -1.19952686e-01 ... -3.87040645e-01\n",
      "  -3.26834358e-02 -3.96902580e-03]\n",
      " [-3.40334564e-01  1.13184758e-01 -2.23526135e-01 ...  8.84362683e-03\n",
      "   8.85826498e-02 -1.08518057e-01]\n",
      " ...\n",
      " [-2.86385685e-01  2.42034327e-02  1.07128084e-01 ...  5.83090596e-02\n",
      "   2.27863163e-01 -3.67564440e-01]\n",
      " [ 2.68605858e-01  4.38440979e-01 -4.88077521e-01 ... -1.45905986e-01\n",
      "   6.42250851e-02  1.07524462e-01]\n",
      " [ 8.45242664e-02  1.58771560e-01 -1.60644770e-01 ...  1.55866385e-01\n",
      "   2.63746511e-02 -1.36059299e-01]]\n",
      "Epoch Number : 56\n",
      "[[-0.40720475  0.27814364  0.07008206 ... -0.00285739 -0.02932773\n",
      "  -0.3871437 ]\n",
      " [ 0.3480969   0.13871972 -0.13970773 ... -0.4132892  -0.01976689\n",
      "   0.0259957 ]\n",
      " [-0.32867542  0.11170679 -0.21477856 ...  0.02580103  0.10709687\n",
      "  -0.10098664]\n",
      " ...\n",
      " [-0.26933038  0.00935704  0.09271863 ...  0.04146135  0.23536898\n",
      "  -0.33291698]\n",
      " [ 0.26367453  0.438186   -0.5111858  ... -0.12166143  0.07156198\n",
      "   0.11145735]\n",
      " [ 0.0839026   0.16407913 -0.16569754 ...  0.17154521  0.02495883\n",
      "  -0.13119504]]\n",
      "Epoch Number : 57\n",
      "[[-0.42271477  0.2974583   0.07686715 ... -0.00335483 -0.04149625\n",
      "  -0.3827466 ]\n",
      " [ 0.33774903  0.17349371 -0.1433747  ... -0.41520014 -0.0195909\n",
      "   0.04278686]\n",
      " [-0.3199122   0.12049399 -0.22847322 ...  0.04668498  0.09698554\n",
      "  -0.11949485]\n",
      " ...\n",
      " [-0.25570372  0.02476047  0.12164626 ...  0.07773423  0.22741528\n",
      "  -0.31981853]\n",
      " [ 0.27822137  0.4382158  -0.5133618  ... -0.13519977  0.06387921\n",
      "   0.11771763]\n",
      " [ 0.07396563  0.17406894 -0.16321391 ...  0.18339202  0.035048\n",
      "  -0.12919158]]\n",
      "Epoch Number : 58\n",
      "[[-0.40608943  0.28242707  0.06299663 ...  0.00376096 -0.04397865\n",
      "  -0.38214228]\n",
      " [ 0.35112074  0.14654878 -0.15402392 ... -0.4357106  -0.00851303\n",
      "   0.04550691]\n",
      " [-0.30964348  0.13413675 -0.23441847 ...  0.0403468   0.071733\n",
      "  -0.14007694]\n",
      " ...\n",
      " [-0.2555413   0.01182234  0.12940998 ...  0.06593253  0.20990877\n",
      "  -0.3224118 ]\n",
      " [ 0.27284455  0.43305922 -0.5192692  ... -0.13934772  0.07908051\n",
      "   0.14372785]\n",
      " [ 0.07625651  0.1888679  -0.15051688 ...  0.17435901  0.03884387\n",
      "  -0.14171843]]\n",
      "Epoch Number : 59\n",
      "[[-0.4163911   0.2834278   0.05146109 ... -0.00288749 -0.04956758\n",
      "  -0.3783123 ]\n",
      " [ 0.32972172  0.15062873 -0.1651048  ... -0.40500566  0.00876939\n",
      "   0.05368008]\n",
      " [-0.2900164   0.13330369 -0.23646665 ...  0.03949208  0.0659968\n",
      "  -0.1732709 ]\n",
      " ...\n",
      " [-0.22787546  0.01186723  0.10737672 ...  0.07204138  0.20067619\n",
      "  -0.33091897]\n",
      " [ 0.27681023  0.43994436 -0.5309408  ... -0.1286048   0.06506807\n",
      "   0.16757976]\n",
      " [ 0.05381436  0.18918392 -0.13797319 ...  0.17414495  0.0265038\n",
      "  -0.14348048]]\n",
      "Epoch Number : 60\n",
      "[[-0.426251    0.2946802   0.04363872 ... -0.00272016 -0.04452863\n",
      "  -0.3827973 ]\n",
      " [ 0.34881297  0.14181927 -0.1912394  ... -0.41145432  0.00612525\n",
      "   0.02570122]\n",
      " [-0.3074433   0.11875993 -0.23434494 ...  0.03651883  0.06496764\n",
      "  -0.2127259 ]\n",
      " ...\n",
      " [-0.21621312 -0.01158228  0.12318664 ...  0.1105328   0.21769887\n",
      "  -0.31861606]\n",
      " [ 0.28096366  0.43696722 -0.50676674 ... -0.13358222  0.06584889\n",
      "   0.13252749]\n",
      " [ 0.06335101  0.19243602 -0.12776731 ...  0.17017862  0.01913647\n",
      "  -0.16875327]]\n",
      "Epoch Number : 61\n",
      "[[-4.1769183e-01  2.9390997e-01  4.8602983e-02 ... -1.6560389e-02\n",
      "  -4.1075915e-02 -3.8757658e-01]\n",
      " [ 3.3784238e-01  1.4623232e-01 -1.9713278e-01 ... -4.1499308e-01\n",
      "  -4.9819669e-04  6.0664058e-02]\n",
      " [-3.2015893e-01  1.2253796e-01 -2.2931123e-01 ...  4.3580834e-02\n",
      "   7.1448900e-02 -2.1989140e-01]\n",
      " ...\n",
      " [-2.3478957e-01  3.4368724e-02  1.1756114e-01 ...  8.3400741e-02\n",
      "   2.0652463e-01 -3.3401385e-01]\n",
      " [ 2.8703129e-01  4.2445719e-01 -5.0592375e-01 ... -1.4119104e-01\n",
      "   5.9499085e-02  1.1355780e-01]\n",
      " [ 6.7288689e-02  2.0531289e-01 -1.3274047e-01 ...  1.7203073e-01\n",
      "   9.0419650e-03 -1.5654346e-01]]\n",
      "Epoch Number : 62\n",
      "[[-0.4205796   0.3021747   0.04214443 ... -0.00928605 -0.03877769\n",
      "  -0.39090315]\n",
      " [ 0.3423971   0.17856373 -0.20860618 ... -0.41921407  0.00202168\n",
      "   0.04396519]\n",
      " [-0.2715419   0.1226055  -0.21927983 ...  0.02665965  0.04654771\n",
      "  -0.21574052]\n",
      " ...\n",
      " [-0.27229723  0.04716546  0.10316174 ...  0.08701999  0.20308293\n",
      "  -0.31873247]\n",
      " [ 0.29815748  0.44181427 -0.5131735  ... -0.1519799   0.06445464\n",
      "   0.13706096]\n",
      " [ 0.06624968  0.20451057 -0.12284581 ...  0.16763775  0.00678776\n",
      "  -0.15466201]]\n",
      "Epoch Number : 63\n",
      "[[-0.43637496  0.2972254   0.05599784 ... -0.00225129 -0.03886921\n",
      "  -0.40584302]\n",
      " [ 0.34352925  0.15188518 -0.18956782 ... -0.43061766 -0.01761656\n",
      "   0.07300006]\n",
      " [-0.27662393  0.14753218 -0.24158642 ...  0.01882796  0.06338245\n",
      "  -0.2067422 ]\n",
      " ...\n",
      " [-0.26588744  0.07763367  0.1059944  ...  0.10207787  0.20117927\n",
      "  -0.32542622]\n",
      " [ 0.30234557  0.4433658  -0.5039654  ... -0.16615248  0.07424348\n",
      "   0.13288805]\n",
      " [ 0.07187112  0.20835103 -0.11671446 ...  0.16782242 -0.00348448\n",
      "  -0.16031261]]\n",
      "Epoch Number : 64\n",
      "[[-0.43100587  0.294974    0.04345482 ... -0.01168854 -0.03229107\n",
      "  -0.40979517]\n",
      " [ 0.34769765  0.15787828 -0.19690873 ... -0.43747672 -0.01464845\n",
      "   0.09201223]\n",
      " [-0.2893016   0.15441296 -0.23871097 ...  0.03190686  0.04924379\n",
      "  -0.20269981]\n",
      " ...\n",
      " [-0.26210928  0.06056672  0.1165102  ...  0.10084578  0.17903922\n",
      "  -0.35067156]\n",
      " [ 0.2990656   0.4354719  -0.5089113  ... -0.16797718  0.07745913\n",
      "   0.14405526]\n",
      " [ 0.08490484  0.19952303 -0.14255707 ...  0.17433503 -0.00194302\n",
      "  -0.15684633]]\n",
      "Epoch Number : 65\n",
      "[[-0.44607347  0.29172447  0.04773461 ... -0.0111287  -0.03340235\n",
      "  -0.40420517]\n",
      " [ 0.34322143  0.1602207  -0.18375444 ... -0.43611503 -0.02774219\n",
      "   0.1051124 ]\n",
      " [-0.313454    0.154255   -0.23353207 ...  0.03381738  0.06863285\n",
      "  -0.21098438]\n",
      " ...\n",
      " [-0.25752574  0.04633968  0.15173197 ...  0.09335501  0.17996186\n",
      "  -0.34751377]\n",
      " [ 0.30822706  0.4318437  -0.49422687 ... -0.17573287  0.0909939\n",
      "   0.16453397]\n",
      " [ 0.07434168  0.19831152 -0.13377038 ...  0.17580867 -0.01944098\n",
      "  -0.15013854]]\n",
      "Epoch Number : 66\n",
      "[[-0.4229593   0.29354575  0.04546637 ... -0.00774054 -0.02107746\n",
      "  -0.4105583 ]\n",
      " [ 0.36094147  0.16033025 -0.18900608 ... -0.43011746 -0.03661793\n",
      "   0.10110424]\n",
      " [-0.30513018  0.17273164 -0.22840461 ...  0.01455533  0.05856853\n",
      "  -0.217366  ]\n",
      " ...\n",
      " [-0.26289552  0.06173061  0.16484582 ...  0.10817528  0.19130452\n",
      "  -0.33126053]\n",
      " [ 0.30572227  0.4324901  -0.49704894 ... -0.18554088  0.09167793\n",
      "   0.15250407]\n",
      " [ 0.08618034  0.19327962 -0.1317567  ...  0.18460676 -0.02189875\n",
      "  -0.15771759]]\n",
      "Epoch Number : 67\n",
      "[[-0.4331867   0.2997002   0.06711793 ... -0.00448349 -0.01787375\n",
      "  -0.4152967 ]\n",
      " [ 0.35577318  0.15387033 -0.17311244 ... -0.42633438 -0.04528356\n",
      "   0.10858261]\n",
      " [-0.2872168   0.15263407 -0.21846633 ...  0.01212487  0.03831171\n",
      "  -0.22974017]\n",
      " ...\n",
      " [-0.27991703  0.05680678  0.15662603 ...  0.10262564  0.18025428\n",
      "  -0.3282302 ]\n",
      " [ 0.31716776  0.4303118  -0.5053207  ... -0.18557657  0.09249621\n",
      "   0.15489995]\n",
      " [ 0.10048726  0.19649157 -0.13332178 ...  0.19206138 -0.0132455\n",
      "  -0.1539818 ]]\n",
      "Epoch Number : 68\n",
      "[[-0.43136448  0.29340708  0.08151089 ...  0.00126554 -0.01019968\n",
      "  -0.41726518]\n",
      " [ 0.36836302  0.16752118 -0.16784744 ... -0.41946048 -0.04796467\n",
      "   0.1164577 ]\n",
      " [-0.28909355  0.14966434 -0.21675567 ...  0.00851919  0.04235172\n",
      "  -0.22819093]\n",
      " ...\n",
      " [-0.25315106  0.06935106  0.13142423 ...  0.0905662   0.18090649\n",
      "  -0.31369665]\n",
      " [ 0.29928833  0.42692736 -0.50580055 ... -0.17926858  0.09426735\n",
      "   0.1552023 ]\n",
      " [ 0.08455226  0.18767045 -0.13111562 ...  0.1926779  -0.02035569\n",
      "  -0.14314511]]\n"
     ]
    },
    {
     "name": "stdout",
     "output_type": "stream",
     "text": [
      "Epoch Number : 69\n",
      "[[-0.43240285  0.29310748  0.09245953 ... -0.00274042 -0.0018168\n",
      "  -0.41347557]\n",
      " [ 0.34673336  0.1625267  -0.18596692 ... -0.41860247 -0.05468334\n",
      "   0.09895557]\n",
      " [-0.29646084  0.15538931 -0.21283789 ...  0.01555692  0.05011705\n",
      "  -0.23143528]\n",
      " ...\n",
      " [-0.25777194  0.09847622  0.12846158 ...  0.0907098   0.19438533\n",
      "  -0.32973936]\n",
      " [ 0.29982385  0.4185371  -0.51227295 ... -0.1783408   0.09353063\n",
      "   0.14609724]\n",
      " [ 0.08230183  0.18944465 -0.13359705 ...  0.1993097  -0.02953952\n",
      "  -0.13971117]]\n",
      "Epoch Number : 70\n",
      "[[-0.43013823  0.29840133  0.08868466 ...  0.00134012 -0.00279245\n",
      "  -0.42005342]\n",
      " [ 0.3385802   0.16890328 -0.17966929 ... -0.39774904 -0.0593519\n",
      "   0.11026292]\n",
      " [-0.29139015  0.15958396 -0.22003342 ...  0.03897479  0.05467442\n",
      "  -0.21355033]\n",
      " ...\n",
      " [-0.25030556  0.08735359  0.15151675 ...  0.09350967  0.20422925\n",
      "  -0.34617355]\n",
      " [ 0.29901826  0.4165657  -0.5220686  ... -0.15557227  0.07990227\n",
      "   0.16208225]\n",
      " [ 0.08694361  0.1914921  -0.12628995 ...  0.20666535 -0.03036439\n",
      "  -0.12730919]]\n",
      "Epoch Number : 71\n",
      "[[-0.4172381   0.29882157  0.09163228 ...  0.00181004  0.0067107\n",
      "  -0.43033263]\n",
      " [ 0.34766138  0.15413478 -0.17287141 ... -0.41346368 -0.04006027\n",
      "   0.09881022]\n",
      " [-0.26351976  0.16214608 -0.22144261 ...  0.0298282   0.04957326\n",
      "  -0.24506171]\n",
      " ...\n",
      " [-0.27110267  0.07550829  0.1758991  ...  0.09358322  0.23133448\n",
      "  -0.36209506]\n",
      " [ 0.31414083  0.4398999  -0.5211666  ... -0.15929371  0.07191968\n",
      "   0.17186965]\n",
      " [ 0.07913825  0.1939358  -0.11291068 ...  0.19597249 -0.02790781\n",
      "  -0.12524877]]\n",
      "Epoch Number : 72\n",
      "[[-0.42262366  0.29609144  0.10180138 ... -0.00791205  0.00400594\n",
      "  -0.43381387]\n",
      " [ 0.35627696  0.1436787  -0.18330875 ... -0.43789488 -0.04365288\n",
      "   0.10026444]\n",
      " [-0.27895325  0.16827384 -0.22798175 ...  0.02963182  0.06200396\n",
      "  -0.22839554]\n",
      " ...\n",
      " [-0.2875307   0.06652001  0.17336099 ...  0.07882462  0.25116456\n",
      "  -0.34966415]\n",
      " [ 0.3212027   0.4412374  -0.5069584  ... -0.1590639   0.06923947\n",
      "   0.17146806]\n",
      " [ 0.08410364  0.19194491 -0.11349865 ...  0.2027952  -0.02705909\n",
      "  -0.12389869]]\n",
      "Epoch Number : 73\n",
      "[[-0.43099058  0.29859033  0.10108946 ... -0.00167814 -0.00136477\n",
      "  -0.4395123 ]\n",
      " [ 0.34244615  0.13421285 -0.16513878 ... -0.4586416  -0.0412891\n",
      "   0.13971712]\n",
      " [-0.28895986  0.1762067  -0.23875986 ...  0.03603157  0.05324445\n",
      "  -0.24001716]\n",
      " ...\n",
      " [-0.28553563  0.04157512  0.18034887 ...  0.08273612  0.24750164\n",
      "  -0.33232626]\n",
      " [ 0.3257214   0.4320014  -0.5093434  ... -0.16703174  0.08130153\n",
      "   0.16894923]\n",
      " [ 0.08990116  0.19067909 -0.10932594 ...  0.20024501 -0.02559888\n",
      "  -0.11848875]]\n",
      "Epoch Number : 74\n",
      "[[-0.4313934   0.29852638  0.09962048 ... -0.00699221 -0.0024879\n",
      "  -0.43943617]\n",
      " [ 0.34573138  0.12350818 -0.13944307 ... -0.45982692 -0.04399681\n",
      "   0.13252051]\n",
      " [-0.28919232  0.18361814 -0.2536184  ...  0.02824527  0.06482036\n",
      "  -0.21587941]\n",
      " ...\n",
      " [-0.2632383   0.0314678   0.18306187 ...  0.09596458  0.24064551\n",
      "  -0.3562517 ]\n",
      " [ 0.3280443   0.43881893 -0.4947956  ... -0.16394477  0.0790792\n",
      "   0.16816251]\n",
      " [ 0.09282733  0.19580162 -0.11930314 ...  0.20459586 -0.02228726\n",
      "  -0.12244985]]\n",
      "Epoch Number : 75\n",
      "[[-0.42866525  0.28958628  0.09528217 ... -0.01267824 -0.00344824\n",
      "  -0.44296435]\n",
      " [ 0.35610852  0.12879315 -0.13554312 ... -0.46040118 -0.0491726\n",
      "   0.12491591]\n",
      " [-0.2899367   0.19036157 -0.25165537 ...  0.0329765   0.06263829\n",
      "  -0.22928278]\n",
      " ...\n",
      " [-0.2649478   0.03065868  0.18896145 ...  0.08054052  0.23165609\n",
      "  -0.35980558]\n",
      " [ 0.32908013  0.4376384  -0.49259412 ... -0.16731283  0.06920601\n",
      "   0.18499567]\n",
      " [ 0.09574383  0.196076   -0.1274631  ...  0.20228136 -0.01855274\n",
      "  -0.12055077]]\n",
      "Epoch Number : 76\n",
      "[[-0.42439127  0.28979725  0.09159476 ... -0.00811266  0.00092455\n",
      "  -0.44909653]\n",
      " [ 0.35301778  0.11913317 -0.1543679  ... -0.44597584 -0.05028443\n",
      "   0.11441508]\n",
      " [-0.28734955  0.20236933 -0.25877613 ...  0.05315928  0.06278945\n",
      "  -0.22213498]\n",
      " ...\n",
      " [-0.26086575  0.03187269  0.20077829 ...  0.07007814  0.22483298\n",
      "  -0.3701011 ]\n",
      " [ 0.3207283   0.43743297 -0.4982681  ... -0.1641193   0.07799294\n",
      "   0.18239257]\n",
      " [ 0.10140309  0.2012575  -0.12830502 ...  0.20567833 -0.01407932\n",
      "  -0.12299472]]\n",
      "Epoch Number : 77\n",
      "[[-0.43560007  0.28875193  0.09721224 ... -0.00684873 -0.00599882\n",
      "  -0.45458567]\n",
      " [ 0.35833985  0.10979953 -0.14146791 ... -0.44603837 -0.04292711\n",
      "   0.1132867 ]\n",
      " [-0.28323433  0.18412623 -0.25521144 ...  0.03522815  0.07303858\n",
      "  -0.22098453]\n",
      " ...\n",
      " [-0.2816539   0.05555957  0.18361883 ...  0.07367788  0.22687767\n",
      "  -0.3866606 ]\n",
      " [ 0.3221399   0.43457246 -0.4917192  ... -0.17474848  0.08421554\n",
      "   0.18256949]\n",
      " [ 0.08948289  0.20245907 -0.11909875 ...  0.20061734 -0.02807806\n",
      "  -0.10267594]]\n",
      "Epoch Number : 78\n",
      "[[-0.4464354   0.29346082  0.09926655 ... -0.00327918 -0.00618898\n",
      "  -0.45278376]\n",
      " [ 0.36474812  0.11585    -0.1432417  ... -0.44262633 -0.0452841\n",
      "   0.11383029]\n",
      " [-0.29588208  0.18935333 -0.26469833 ...  0.04636812  0.06846786\n",
      "  -0.21022366]\n",
      " ...\n",
      " [-0.28716648  0.05262533  0.18075696 ...  0.06857062  0.22599053\n",
      "  -0.38021147]\n",
      " [ 0.31288788  0.43674788 -0.49252176 ... -0.1852501   0.08180311\n",
      "   0.19208175]\n",
      " [ 0.09834138  0.2007658  -0.11397665 ...  0.1817073  -0.02291944\n",
      "  -0.10188709]]\n",
      "Epoch Number : 79\n",
      "[[-0.44793832  0.29784626  0.09634222 ... -0.00642581 -0.00227283\n",
      "  -0.44724733]\n",
      " [ 0.3576548   0.12186082 -0.1466906  ... -0.43333754 -0.04912585\n",
      "   0.09793058]\n",
      " [-0.28628585  0.18570764 -0.25436875 ...  0.05141629  0.07175467\n",
      "  -0.20010135]\n",
      " ...\n",
      " [-0.27742907  0.06244847  0.18358988 ...  0.07332793  0.22319777\n",
      "  -0.37615365]\n",
      " [ 0.3252811   0.43687975 -0.49353626 ... -0.1924934   0.07179739\n",
      "   0.20209405]\n",
      " [ 0.09828552  0.20249936 -0.10759144 ...  0.18739004 -0.02342798\n",
      "  -0.10703622]]\n",
      "Epoch Number : 80\n",
      "[[-0.4466802   0.2946968   0.09910767 ... -0.01050287 -0.0079804\n",
      "  -0.44217744]\n",
      " [ 0.34939712  0.12130129 -0.15634213 ... -0.4355253  -0.03903777\n",
      "   0.09024379]\n",
      " [-0.29583904  0.1813369  -0.25184077 ...  0.05745055  0.07853562\n",
      "  -0.20040306]\n",
      " ...\n",
      " [-0.2727652   0.06421027  0.1905253  ...  0.06131501  0.21977189\n",
      "  -0.37159243]\n",
      " [ 0.32829913  0.43247595 -0.49048597 ... -0.18786286  0.07363565\n",
      "   0.20587367]\n",
      " [ 0.09560824  0.19719332 -0.10821221 ...  0.17537594 -0.0280205\n",
      "  -0.12345365]]\n",
      "Epoch Number : 81\n",
      "[[-0.4500291   0.29513806  0.09864556 ... -0.00825539 -0.00770623\n",
      "  -0.4390343 ]\n",
      " [ 0.35910788  0.12249015 -0.16202849 ... -0.43148965 -0.02313008\n",
      "   0.08006365]\n",
      " [-0.29041737  0.18326248 -0.25356308 ...  0.04862579  0.07753997\n",
      "  -0.19126053]\n",
      " ...\n",
      " [-0.26400912  0.06785034  0.18401684 ...  0.05750506  0.21891382\n",
      "  -0.3811765 ]\n",
      " [ 0.31130582  0.41670987 -0.48991475 ... -0.18458116  0.07001132\n",
      "   0.19788417]\n",
      " [ 0.09535554  0.19678624 -0.1113921  ...  0.17830358 -0.02715159\n",
      "  -0.12983449]]\n",
      "Epoch Number : 82\n",
      "[[-0.45687255  0.29935706  0.09834081 ... -0.00795458 -0.00491614\n",
      "  -0.4470419 ]\n",
      " [ 0.36840627  0.11799357 -0.14898807 ... -0.4407967  -0.01755469\n",
      "   0.08792862]\n",
      " [-0.29660112  0.17842507 -0.25659508 ...  0.04948162  0.07652926\n",
      "  -0.17115991]\n",
      " ...\n",
      " [-0.2582859   0.08085874  0.16288342 ...  0.06630449  0.22451688\n",
      "  -0.37405413]\n",
      " [ 0.31294775  0.4122814  -0.49648613 ... -0.18931574  0.07132417\n",
      "   0.2124565 ]\n",
      " [ 0.09566987  0.18767703 -0.11649719 ...  0.18067291 -0.02913898\n",
      "  -0.12936701]]\n",
      "Epoch Number : 83\n",
      "[[-0.45676413  0.29804048  0.09957948 ... -0.01159629 -0.00454255\n",
      "  -0.45097214]\n",
      " [ 0.36819682  0.11415606 -0.14897524 ... -0.4434242  -0.01197158\n",
      "   0.0905119 ]\n",
      " [-0.2998768   0.17486838 -0.26292235 ...  0.05839621  0.06782739\n",
      "  -0.16497447]\n",
      " ...\n",
      " [-0.26802498  0.08025464  0.16848058 ...  0.05887675  0.22919057\n",
      "  -0.35907447]\n",
      " [ 0.3182811   0.40531003 -0.48935395 ... -0.19861764  0.06507695\n",
      "   0.20904323]\n",
      " [ 0.09120063  0.1812235  -0.11401075 ...  0.17866643 -0.03367731\n",
      "  -0.12644836]]\n",
      "Epoch Number : 84\n",
      "[[-0.44959256  0.30245018  0.09191918 ... -0.00833664 -0.00436499\n",
      "  -0.45176464]\n",
      " [ 0.37620294  0.12360986 -0.16002125 ... -0.43407118 -0.00984113\n",
      "   0.09019453]\n",
      " [-0.2967364   0.17500167 -0.25710604 ...  0.04951661  0.06588878\n",
      "  -0.16998026]\n",
      " ...\n",
      " [-0.27574     0.09076519  0.16493763 ...  0.06835094  0.22744597\n",
      "  -0.36511302]\n",
      " [ 0.31712434  0.4069199  -0.50084555 ... -0.19998008  0.06001953\n",
      "   0.20947123]\n",
      " [ 0.08603606  0.18151088 -0.11352195 ...  0.18336679 -0.0321723\n",
      "  -0.12538315]]\n",
      "Epoch Number : 85\n",
      "[[-0.45216584  0.30348676  0.09287295 ... -0.00740698 -0.00283806\n",
      "  -0.45003265]\n",
      " [ 0.3785656   0.11909983 -0.17276834 ... -0.4376437  -0.01407425\n",
      "   0.09592535]\n",
      " [-0.2984092   0.16662408 -0.26761976 ...  0.05006421  0.07097262\n",
      "  -0.16674085]\n",
      " ...\n",
      " [-0.27423784  0.09530447  0.15803643 ...  0.07378552  0.23269719\n",
      "  -0.36218458]\n",
      " [ 0.3158742   0.40425918 -0.50478286 ... -0.19991529  0.05185018\n",
      "   0.21455473]\n",
      " [ 0.09045628  0.1833811  -0.10711759 ...  0.17522116 -0.03100129\n",
      "  -0.12176156]]\n"
     ]
    },
    {
     "name": "stdout",
     "output_type": "stream",
     "text": [
      "Epoch Number : 86\n",
      "[[-0.45394102  0.3017364   0.09191313 ... -0.00564477 -0.00300368\n",
      "  -0.44705802]\n",
      " [ 0.3759744   0.10805605 -0.16676742 ... -0.45145726 -0.00897196\n",
      "   0.1125026 ]\n",
      " [-0.295186    0.17171772 -0.26917532 ...  0.0581598   0.07233544\n",
      "  -0.15447904]\n",
      " ...\n",
      " [-0.26507896  0.09922091  0.15606685 ...  0.08320829  0.22217667\n",
      "  -0.36459363]\n",
      " [ 0.3165139   0.40775415 -0.50414073 ... -0.19516431  0.05197275\n",
      "   0.20439486]\n",
      " [ 0.09472314  0.1857461  -0.10041992 ...  0.18017389 -0.02712547\n",
      "  -0.12220657]]\n",
      "Epoch Number : 87\n",
      "[[-4.51456398e-01  3.02655697e-01  9.23115909e-02 ... -5.04179392e-04\n",
      "   1.89782921e-04 -4.44907635e-01]\n",
      " [ 3.70022595e-01  1.05417505e-01 -1.60304695e-01 ... -4.49272364e-01\n",
      "  -1.39731159e-02  1.18241370e-01]\n",
      " [-2.90497005e-01  1.61903277e-01 -2.62912065e-01 ...  5.41942231e-02\n",
      "   7.16330782e-02 -1.54656574e-01]\n",
      " ...\n",
      " [-2.59692460e-01  9.83644351e-02  1.61236703e-01 ...  8.24191943e-02\n",
      "   2.29330674e-01 -3.68293852e-01]\n",
      " [ 3.12751830e-01  4.06604558e-01 -5.08382022e-01 ... -1.94244221e-01\n",
      "   5.62472492e-02  2.04393610e-01]\n",
      " [ 9.57366377e-02  1.85373604e-01 -1.06409773e-01 ...  1.86382085e-01\n",
      "  -2.53309980e-02 -1.23625152e-01]]\n",
      "Epoch Number : 88\n",
      "[[-0.45632967  0.30679962  0.09297372 ... -0.00234546 -0.00061999\n",
      "  -0.44394237]\n",
      " [ 0.37479362  0.10699546 -0.1594498  ... -0.45444772 -0.01126286\n",
      "   0.11536379]\n",
      " [-0.29475027  0.16541764 -0.26829955 ...  0.05224384  0.07704767\n",
      "  -0.1552256 ]\n",
      " ...\n",
      " [-0.2673465   0.10520358  0.16545625 ...  0.07979301  0.23149526\n",
      "  -0.36275575]\n",
      " [ 0.3133422   0.40128788 -0.5083492  ... -0.19804645  0.05338571\n",
      "   0.21188018]\n",
      " [ 0.09398799  0.184132   -0.10425594 ...  0.1849222  -0.02703588\n",
      "  -0.12248067]]\n",
      "Epoch Number : 89\n",
      "[[-0.46137288  0.30731148  0.10251655 ... -0.00273269 -0.00218947\n",
      "  -0.44234487]\n",
      " [ 0.37770662  0.11146747 -0.16080025 ... -0.44434208 -0.01089637\n",
      "   0.11788926]\n",
      " [-0.3017462   0.1607674  -0.2724452  ...  0.05499786  0.07924009\n",
      "  -0.15853186]\n",
      " ...\n",
      " [-0.2726245   0.10824793  0.16852014 ...  0.07853016  0.22796595\n",
      "  -0.3608427 ]\n",
      " [ 0.30807108  0.39801264 -0.5021959  ... -0.19861294  0.06176136\n",
      "   0.20656149]\n",
      " [ 0.09905548  0.1890644  -0.11109748 ...  0.18491241 -0.0292408\n",
      "  -0.1354253 ]]\n",
      "Epoch Number : 90\n",
      "[[-0.45733455  0.30464584  0.10536794 ... -0.00176637 -0.00195334\n",
      "  -0.44286624]\n",
      " [ 0.38038617  0.11216051 -0.15861006 ... -0.44755837 -0.01253613\n",
      "   0.1215022 ]\n",
      " [-0.30126244  0.16341598 -0.2739514  ...  0.05734824  0.07789422\n",
      "  -0.1459614 ]\n",
      " ...\n",
      " [-0.27399608  0.09469811  0.17443284 ...  0.07006852  0.22562124\n",
      "  -0.36993843]\n",
      " [ 0.2997571   0.3963724  -0.50120723 ... -0.20075507  0.0521772\n",
      "   0.20752738]\n",
      " [ 0.09988119  0.18576694 -0.11539467 ...  0.1812107  -0.02740605\n",
      "  -0.13839482]]\n",
      "Epoch Number : 91\n",
      "[[-0.45413077  0.3039225   0.10503383 ... -0.00212885 -0.00548142\n",
      "  -0.44469404]\n",
      " [ 0.378239    0.1131538  -0.1583674  ... -0.44857118 -0.00759917\n",
      "   0.12039638]\n",
      " [-0.29943156  0.16637634 -0.2745979  ...  0.06135612  0.07881328\n",
      "  -0.14352305]\n",
      " ...\n",
      " [-0.27571136  0.08266392  0.17725982 ...  0.06525322  0.22166117\n",
      "  -0.36526492]\n",
      " [ 0.29762623  0.3952288  -0.50441825 ... -0.20170173  0.05124384\n",
      "   0.20640984]\n",
      " [ 0.09664281  0.18413448 -0.11165693 ...  0.18070467 -0.0294559\n",
      "  -0.13305442]]\n",
      "Epoch Number : 92\n",
      "[[-0.4549815   0.3044281   0.10588849 ...  0.00204337 -0.00545175\n",
      "  -0.4430432 ]\n",
      " [ 0.38262227  0.11905281 -0.15703054 ... -0.44800436 -0.01072848\n",
      "   0.1177984 ]\n",
      " [-0.2953341   0.16726576 -0.2773878  ...  0.06781907  0.07959691\n",
      "  -0.14330252]\n",
      " ...\n",
      " [-0.2667575   0.08560087  0.18069911 ...  0.06669336  0.22341076\n",
      "  -0.37271836]\n",
      " [ 0.29698616  0.39322743 -0.50589865 ... -0.20707746  0.05292874\n",
      "   0.2051462 ]\n",
      " [ 0.09379289  0.1854373  -0.10728806 ...  0.18481043 -0.03108268\n",
      "  -0.13070802]]\n",
      "Epoch Number : 93\n",
      "[[-0.45386615  0.3043752   0.10276078 ...  0.00293167 -0.0061435\n",
      "  -0.444844  ]\n",
      " [ 0.38206232  0.12283504 -0.1576755  ... -0.45365456 -0.01032988\n",
      "   0.12100009]\n",
      " [-0.29242313  0.17035319 -0.27978316 ...  0.06983636  0.07654537\n",
      "  -0.14581443]\n",
      " ...\n",
      " [-0.27139264  0.08524006  0.17788512 ...  0.0631227   0.21925573\n",
      "  -0.37502933]\n",
      " [ 0.29522252  0.39432558 -0.5051651  ... -0.20899571  0.05114041\n",
      "   0.20615323]\n",
      " [ 0.0915749   0.186499   -0.10488956 ...  0.18245856 -0.03417376\n",
      "  -0.13214557]]\n",
      "Epoch Number : 94\n",
      "[[-0.4536181   0.30416846  0.10077153 ...  0.00236424 -0.00733363\n",
      "  -0.443391  ]\n",
      " [ 0.38673782  0.12039103 -0.1594544  ... -0.45700878 -0.01401213\n",
      "   0.1252422 ]\n",
      " [-0.29186225  0.17231187 -0.2810186  ...  0.06943201  0.07769719\n",
      "  -0.14696689]\n",
      " ...\n",
      " [-0.27001807  0.0831233   0.18364124 ...  0.06528863  0.22062778\n",
      "  -0.37315616]\n",
      " [ 0.28952852  0.3910171  -0.50716984 ... -0.20872214  0.04595134\n",
      "   0.20812444]\n",
      " [ 0.08893455  0.18409464 -0.10141832 ...  0.17783596 -0.03348078\n",
      "  -0.13218924]]\n",
      "Epoch Number : 95\n",
      "[[-4.5686540e-01  3.0506325e-01  1.0352512e-01 ... -4.0508143e-04\n",
      "  -9.0459697e-03 -4.4367880e-01]\n",
      " [ 3.8655812e-01  1.1902700e-01 -1.5701790e-01 ... -4.5721543e-01\n",
      "  -1.5734464e-02  1.2456382e-01]\n",
      " [-2.9279414e-01  1.7176634e-01 -2.7843168e-01 ...  7.0532978e-02\n",
      "   7.9826608e-02 -1.5045393e-01]\n",
      " ...\n",
      " [-2.7045718e-01  7.9476066e-02  1.8380713e-01 ...  6.3099712e-02\n",
      "   2.1623878e-01 -3.7321529e-01]\n",
      " [ 2.8641257e-01  3.8895443e-01 -5.0860196e-01 ... -2.0804054e-01\n",
      "   4.7480658e-02  2.1152341e-01]\n",
      " [ 9.1127552e-02  1.8305454e-01 -9.9480331e-02 ...  1.7684305e-01\n",
      "  -3.3751696e-02 -1.3456643e-01]]\n",
      "Epoch Number : 96\n",
      "[[-4.5368558e-01  3.0435166e-01  1.0334343e-01 ... -2.4544552e-04\n",
      "  -8.3438931e-03 -4.4590235e-01]\n",
      " [ 3.8453916e-01  1.1905125e-01 -1.5777412e-01 ... -4.5506534e-01\n",
      "  -1.4169470e-02  1.2192950e-01]\n",
      " [-2.8981197e-01  1.7459384e-01 -2.7838886e-01 ...  7.0402212e-02\n",
      "   8.0719069e-02 -1.4794080e-01]\n",
      " ...\n",
      " [-2.6813388e-01  8.0542177e-02  1.7869689e-01 ...  6.0118634e-02\n",
      "   2.1587919e-01 -3.7299764e-01]\n",
      " [ 2.8478777e-01  3.9063516e-01 -5.0923300e-01 ... -2.0722851e-01\n",
      "   4.4676926e-02  2.1066326e-01]\n",
      " [ 9.0648293e-02  1.8492199e-01 -1.0061987e-01 ...  1.7628363e-01\n",
      "  -3.3766866e-02 -1.3495307e-01]]\n",
      "Epoch Number : 97\n",
      "[[-0.45334056  0.30536976  0.1034193  ...  0.00072432 -0.00805319\n",
      "  -0.44480142]\n",
      " [ 0.3851876   0.1176162  -0.15755306 ... -0.4548719  -0.01439692\n",
      "   0.12206727]\n",
      " [-0.28834152  0.17599422 -0.27976426 ...  0.07292105  0.07949157\n",
      "  -0.14930537]\n",
      " ...\n",
      " [-0.26877692  0.08063397  0.1806573  ...  0.05893638  0.21311878\n",
      "  -0.37590864]\n",
      " [ 0.2830581   0.39163846 -0.50844586 ... -0.20800328  0.04463285\n",
      "   0.21180789]\n",
      " [ 0.09040301  0.18509912 -0.10041832 ...  0.17802082 -0.03373922\n",
      "  -0.13532336]]\n",
      "Epoch Number : 98\n",
      "[[-0.45442614  0.30609658  0.10232974 ... -0.00075414 -0.00834246\n",
      "  -0.4448147 ]\n",
      " [ 0.3846715   0.11770294 -0.15788876 ... -0.45349568 -0.01305647\n",
      "   0.1246914 ]\n",
      " [-0.29111165  0.17543457 -0.27970698 ...  0.07334071  0.07779325\n",
      "  -0.14812963]\n",
      " ...\n",
      " [-0.26954973  0.0798346   0.1858928  ...  0.05991984  0.21238407\n",
      "  -0.372047  ]\n",
      " [ 0.28511536  0.39085165 -0.50826263 ... -0.20860967  0.04379737\n",
      "   0.21373296]\n",
      " [ 0.09011837  0.18575874 -0.10076606 ...  0.17879434 -0.03327459\n",
      "  -0.13423991]]\n",
      "Epoch Number : 99\n",
      "[[-0.45445326  0.30612338  0.10247051 ... -0.00069232 -0.00894919\n",
      "  -0.44459113]\n",
      " [ 0.38572526  0.11753108 -0.1600012  ... -0.4530208  -0.01349906\n",
      "   0.12294987]\n",
      " [-0.29127577  0.17444584 -0.27946252 ...  0.07493126  0.07718349\n",
      "  -0.1484798 ]\n",
      " ...\n",
      " [-0.26960278  0.07912848  0.18517192 ...  0.06061152  0.21226466\n",
      "  -0.37319666]\n",
      " [ 0.28401577  0.3900853  -0.50845116 ... -0.20879133  0.04463246\n",
      "   0.21516944]\n",
      " [ 0.08921552  0.18577099 -0.09968437 ...  0.17888793 -0.03406806\n",
      "  -0.1330485 ]]\n",
      "Epoch Number : 100\n",
      "[[-4.5428714e-01  3.0617163e-01  1.0243971e-01 ... -4.6270899e-04\n",
      "  -9.0399748e-03 -4.4436130e-01]\n",
      " [ 3.8604897e-01  1.1715986e-01 -1.5969156e-01 ... -4.5317072e-01\n",
      "  -1.3525884e-02  1.2258041e-01]\n",
      " [-2.9142275e-01  1.7444441e-01 -2.7989903e-01 ...  7.4545585e-02\n",
      "   7.6773331e-02 -1.4860445e-01]\n",
      " ...\n",
      " [-2.7010465e-01  7.8689128e-02  1.8705858e-01 ...  5.9777863e-02\n",
      "   2.1250932e-01 -3.7240660e-01]\n",
      " [ 2.8373161e-01  3.9018512e-01 -5.0852716e-01 ... -2.0927246e-01\n",
      "   4.4788305e-02  2.1567520e-01]\n",
      " [ 8.9344829e-02  1.8601753e-01 -9.9724121e-02 ...  1.7924713e-01\n",
      "  -3.4367256e-02 -1.3291933e-01]]\n"
     ]
    }
   ],
   "source": [
    "# model_1 - model w/o english keywords, each document as individual tag\n",
    "# model_2 - model w/o english keywords, political alignment as tag\n",
    "# model_3 - model with english keywords, political alignment as tag\n",
    "# model_4 - model with english keywords, each document as individual tag\n",
    "from gensim.models.callbacks import CallbackAny2Vec\n",
    "\n",
    "saved_path = \"/Users/tapas/Documents/Repos/news_analysis/model_4.bin\"\n",
    "model_4 = g.Doc2Vec(vector_size=vector_size, window=window_size, min_count=min_count, \n",
    "                    sample=sampling_threshold,workers=worker_count, hs=0, dm=dm, negative=negative_size,\n",
    "                    dbow_words=1, dm_concat=1, pretrained_emb=pretrained_emb, epochs=train_epoch,\n",
    "                    compute_loss=True, callbacks=[callback()])\n",
    "model_4.build_vocab([x for x in tqdm(train_tagged.values)])\n",
    "model_4.train([x for x in tqdm(train_tagged.values)],total_examples=len(train_tagged.values), epochs=100)\n",
    "model_4.save(saved_path)"
   ]
  },
  {
   "cell_type": "code",
   "execution_count": 26,
   "metadata": {
    "ExecuteTime": {
     "end_time": "2020-07-04T19:54:12.794876Z",
     "start_time": "2020-07-04T19:54:12.577951Z"
    }
   },
   "outputs": [
    {
     "name": "stderr",
     "output_type": "stream",
     "text": [
      "/opt/anaconda3/envs/buan6341/lib/python3.7/site-packages/ipykernel_launcher.py:6: DeprecationWarning: Call to deprecated `doctag_syn0` (Attribute will be removed in 4.0.0, use docvecs.vectors_docs instead).\n",
      "  \n",
      "/opt/anaconda3/envs/buan6341/lib/python3.7/site-packages/ipykernel_launcher.py:9: DeprecationWarning: Call to deprecated `doctag_syn0` (Attribute will be removed in 4.0.0, use docvecs.vectors_docs instead).\n",
      "  if __name__ == '__main__':\n",
      "/opt/anaconda3/envs/buan6341/lib/python3.7/site-packages/ipykernel_launcher.py:10: DeprecationWarning: Call to deprecated `doctag_syn0` (Attribute will be removed in 4.0.0, use docvecs.vectors_docs instead).\n",
      "  # Remove the CWD from sys.path while we load stuff.\n",
      "/opt/anaconda3/envs/buan6341/lib/python3.7/site-packages/ipykernel_launcher.py:11: DeprecationWarning: Call to deprecated `doctag_syn0` (Attribute will be removed in 4.0.0, use docvecs.vectors_docs instead).\n",
      "  # This is added back by InteractiveShellApp.init_path()\n"
     ]
    },
    {
     "data": {
      "image/png": "[encoded data removed]",
      "text/plain": [
       "<Figure size 432x288 with 1 Axes>"
      ]
     },
     "metadata": {
      "needs_background": "light"
     },
     "output_type": "display_data"
    },
    {
     "data": {
      "text/plain": [
       "'\\ndoc_labels = zip(datapoint,labels)\\nfor pair in doc_labels:\\n    print(pair)\\n'"
      ]
     },
     "execution_count": 26,
     "metadata": {},
     "output_type": "execute_result"
    }
   ],
   "source": [
    "from sklearn.cluster import KMeans\n",
    "from sklearn.decomposition import PCA\n",
    "import matplotlib.pyplot as plt\n",
    "\n",
    "kmeans_model = KMeans(n_clusters=3, init='k-means++',max_iter=100)\n",
    "X = kmeans_model.fit(model.docvecs.doctag_syn0)\n",
    "labels = kmeans_model.labels_.tolist()\n",
    "\n",
    "l = kmeans_model.fit_predict(model.docvecs.doctag_syn0)\n",
    "pca = PCA(n_components=2).fit(model.docvecs.doctag_syn0)\n",
    "datapoint = pca.transform(model.docvecs.doctag_syn0)\n",
    "\n",
    "plt.figure\n",
    "label1 = [\"#FFFF00\", \"#008000\", \"#0000FF\", \"#800080\"]\n",
    "color = [label1[i] for i in labels]\n",
    "plt.scatter(datapoint[:, 0], datapoint[:, 1], c=color)\n",
    "centroids = kmeans_model.cluster_centers_\n",
    "centroidpoint = pca.transform(centroids)\n",
    "plt.scatter(centroidpoint[:, 0], centroidpoint[:, 1], marker='^', s=150, c='#000000')\n",
    "plt.show()\n",
    "\n",
    "'''\n",
    "doc_labels = zip(datapoint,labels)\n",
    "for pair in doc_labels:\n",
    "    print(pair)\n",
    "'''\n",
    "\n"
   ]
  },
  {
   "cell_type": "code",
   "execution_count": 90,
   "metadata": {
    "ExecuteTime": {
     "end_time": "2020-07-04T21:09:48.596324Z",
     "start_time": "2020-07-04T21:09:47.800398Z"
    }
   },
   "outputs": [],
   "source": [
    "# Creating and fitting the tsne model to the document embeddings\n",
    "from MulticoreTSNE import MulticoreTSNE as TSNE\n",
    "\n",
    "tsne_model = TSNE(n_jobs=4,\n",
    "                  early_exaggeration=4,\n",
    "                  n_components=2,\n",
    "                  verbose=1,\n",
    "                  random_state=2018,\n",
    "                  n_iter=300)\n",
    "tsne_d2v = tsne_model.fit_transform(model.docvecs.vectors_docs)\n",
    "\n",
    "# Putting the tsne information into sq\n",
    "tsne_d2v_df = pd.DataFrame(data=tsne_d2v, columns=[\"x\", \"y\"])\n",
    "# tsne_tfidf_df.columns = [\"x\", \"y\"]\n",
    "#print(len(tsne_d2v_df))\n",
    "\n",
    "tsne_d2v_df[\"source_id\"] = df[\"source_id\"].values\n",
    "tsne_d2v_df[\"tag\"] = df[\"tag\"].values\n",
    "tsne_d2v_df[\"title\"] = df[\"title\"].values\n",
    "\n",
    "tsne_d2v_df.to_excel(\"tsne_viz.xlsx\")"
   ]
  },
  {
   "cell_type": "code",
   "execution_count": 54,
   "metadata": {
    "ExecuteTime": {
     "end_time": "2020-07-04T20:10:11.678427Z",
     "start_time": "2020-07-04T20:10:11.674435Z"
    }
   },
   "outputs": [],
   "source": [
    "start_alpha=0.01\n",
    "infer_epoch=1000\n",
    "model = model_4\n",
    "def get_paragraph_vector(content):\n",
    "    vec = model.infer_vector(content)\n",
    "    return vec"
   ]
  },
  {
   "cell_type": "code",
   "execution_count": 63,
   "metadata": {
    "ExecuteTime": {
     "end_time": "2020-07-04T20:24:04.256165Z",
     "start_time": "2020-07-04T20:24:02.064555Z"
    }
   },
   "outputs": [
    {
     "name": "stderr",
     "output_type": "stream",
     "text": [
      "/opt/anaconda3/envs/buan6341/lib/python3.7/site-packages/ipykernel_launcher.py:1: SettingWithCopyWarning: \n",
      "A value is trying to be set on a copy of a slice from a DataFrame.\n",
      "Try using .loc[row_indexer,col_indexer] = value instead\n",
      "\n",
      "See the caveats in the documentation: http://pandas.pydata.org/pandas-docs/stable/user_guide/indexing.html#returning-a-view-versus-a-copy\n",
      "  \"\"\"Entry point for launching an IPython kernel.\n",
      "/opt/anaconda3/envs/buan6341/lib/python3.7/site-packages/ipykernel_launcher.py:2: SettingWithCopyWarning: \n",
      "A value is trying to be set on a copy of a slice from a DataFrame.\n",
      "Try using .loc[row_indexer,col_indexer] = value instead\n",
      "\n",
      "See the caveats in the documentation: http://pandas.pydata.org/pandas-docs/stable/user_guide/indexing.html#returning-a-view-versus-a-copy\n",
      "  \n"
     ]
    },
    {
     "data": {
      "text/plain": [
       "50    A national mask mandate could lower virus infections and help recovery, Goldman Sachs says        \n",
       "13    Coronavirus makes voting by mail even more important                                              \n",
       "54    DOJ warns of fake flyers, documents about face mask requirements                                  \n",
       "56    Washington state sheriff tells residents to not be 'sheep' over statewide coronavirus mask mandate\n",
       "41    Clyburn says 'nobody is going to defund the police,' calls for 'reimagining' of law enforcement   \n",
       "Name: title, dtype: object"
      ]
     },
     "execution_count": 63,
     "metadata": {},
     "output_type": "execute_result"
    }
   ],
   "source": [
    "test_df['paragraph_vector'] =test_df.apply(lambda x: get_paragraph_vector(x['tokenized_content']),axis=1) \n",
    "train_df['paragraph_vector'] =train_df.apply(lambda x: get_paragraph_vector(x['tokenized_content']),axis=1)\n",
    "train_df['title'].head()"
   ]
  },
  {
   "cell_type": "code",
   "execution_count": 65,
   "metadata": {
    "ExecuteTime": {
     "end_time": "2020-07-04T20:28:31.231621Z",
     "start_time": "2020-07-04T20:28:31.225748Z"
    }
   },
   "outputs": [
    {
     "data": {
      "text/plain": [
       "[(50, 0.954565703868866),\n",
       " (4, 0.4339410364627838),\n",
       " (57, 0.41121840476989746),\n",
       " (51, 0.40035179257392883),\n",
       " (47, 0.39357995986938477),\n",
       " (15, 0.37004536390304565),\n",
       " (32, 0.36719250679016113),\n",
       " (54, 0.3591451644897461),\n",
       " (49, 0.35718584060668945),\n",
       " (62, 0.3498671054840088)]"
      ]
     },
     "execution_count": 65,
     "metadata": {},
     "output_type": "execute_result"
    }
   ],
   "source": [
    "# TO verify if the model is trained properly, let's take a document from training set and find similar documents using\n",
    "# the model, this should return the same document with high similarity.\n",
    "verification_vector = train_df[train_df.tag == 50]['paragraph_vector']\n",
    "sims = model.docvecs.most_similar(verification_vector)\n",
    "sims\n",
    "## We see it has high similarity with itself"
   ]
  },
  {
   "cell_type": "code",
   "execution_count": 67,
   "metadata": {
    "ExecuteTime": {
     "end_time": "2020-07-04T20:34:17.032672Z",
     "start_time": "2020-07-04T20:34:17.027864Z"
    }
   },
   "outputs": [
    {
     "data": {
      "text/plain": [
       "52    As support for mask-wearing grows, so do political risks for forgoing them                                                         \n",
       "45    Andrew McCarthy: Defund the police? Here's what Dems, BLM ignoring about crime                                                     \n",
       "18    Democrats should hammer the GOP over mail-in voting                                                                                \n",
       "5     Abortion: I wrote Louisiana's pro-life law. The Supreme Court ruled against women's health.                                        \n",
       "37    Tucker Carlson: Defund the police movement distracts from the left's policy failures with the poorest Americans                    \n",
       "38    Steve Levy: Defund the police? Tried that in the '60s and '70s. Here's how it worked                                               \n",
       "39    McConnell blasts 'defund the police' movement as 'outlandish' amid George Floyd anger                                              \n",
       "19    Minuscule number of potentially fraudulent ballots in states with universal mail voting undercuts Trump claims about election risks\n",
       "55    Coronavirus can still pass between face mask wearers — even when they're 4 feet apart: study                                       \n",
       "33    Black ex-cop: I understand the anger but don't defund police. It could make things worse.                                          \n",
       "Name: title, dtype: object"
      ]
     },
     "execution_count": 67,
     "metadata": {},
     "output_type": "execute_result"
    }
   ],
   "source": [
    "#Now lets see how this is performing on the test data set\n",
    "# We want to see if this content is labeled as right,left or center aligned\n",
    "test_df['title'].head(10)\n"
   ]
  },
  {
   "cell_type": "code",
   "execution_count": 70,
   "metadata": {
    "ExecuteTime": {
     "end_time": "2020-07-04T20:35:31.591294Z",
     "start_time": "2020-07-04T20:35:31.582504Z"
    }
   },
   "outputs": [
    {
     "name": "stdout",
     "output_type": "stream",
     "text": [
      "18    Democrats should hammer the GOP over mail-in voting\n",
      "Name: title, dtype: object\n"
     ]
    },
    {
     "data": {
      "text/plain": [
       "[(59, 0.18995381891727448),\n",
       " (16, 0.18190935254096985),\n",
       " (60, 0.15720471739768982),\n",
       " (15, 0.14636993408203125),\n",
       " (13, 0.14627841114997864),\n",
       " (12, 0.14081348478794098),\n",
       " (19, 0.12889529764652252),\n",
       " (49, 0.1255693882703781),\n",
       " (50, 0.11595069617033005),\n",
       " (30, 0.10947120189666748)]"
      ]
     },
     "execution_count": 70,
     "metadata": {},
     "output_type": "execute_result"
    }
   ],
   "source": [
    "print(str(test_df[test_df.tag == 18]['title']))\n",
    "test_vector = test_df[test_df.tag == 18]['paragraph_vector']\n",
    "sims = model.docvecs.most_similar(test_vector)\n",
    "sims\n"
   ]
  },
  {
   "cell_type": "code",
   "execution_count": 71,
   "metadata": {
    "ExecuteTime": {
     "end_time": "2020-07-04T20:35:34.019686Z",
     "start_time": "2020-07-04T20:35:34.015004Z"
    }
   },
   "outputs": [
    {
     "name": "stdout",
     "output_type": "stream",
     "text": [
      "59    Trump’s unhinged crusade to destroy Obamacare boomerangs back on GOP\n",
      "Name: title, dtype: object\n"
     ]
    }
   ],
   "source": [
    "print(str(train_df[train_df.tag == 59]['title']))"
   ]
  },
  {
   "cell_type": "code",
   "execution_count": 72,
   "metadata": {
    "ExecuteTime": {
     "end_time": "2020-07-04T20:35:44.219074Z",
     "start_time": "2020-07-04T20:35:44.214565Z"
    }
   },
   "outputs": [
    {
     "name": "stdout",
     "output_type": "stream",
     "text": [
      "16    Fact-checking the GOP’s ‘satirical’ vote-by-mail video\n",
      "Name: title, dtype: object\n"
     ]
    }
   ],
   "source": [
    "print(str(train_df[train_df.tag == 16]['title']))"
   ]
  },
  {
   "cell_type": "code",
   "execution_count": null,
   "metadata": {},
   "outputs": [],
   "source": [
    "## We cans see the top two similar documents(tag 59&16) have a similar political alignment(left) to that of tag 18"
   ]
  },
  {
   "cell_type": "code",
   "execution_count": 73,
   "metadata": {
    "ExecuteTime": {
     "end_time": "2020-07-04T20:38:41.260947Z",
     "start_time": "2020-07-04T20:38:41.252953Z"
    }
   },
   "outputs": [
    {
     "name": "stdout",
     "output_type": "stream",
     "text": [
      "39    McConnell blasts 'defund the police' movement as 'outlandish' amid George Floyd anger\n",
      "Name: title, dtype: object\n"
     ]
    },
    {
     "data": {
      "text/plain": [
       "[(46, 0.31401675939559937),\n",
       " (35, 0.2826557457447052),\n",
       " (42, 0.2707991600036621),\n",
       " (41, 0.20795348286628723),\n",
       " (47, 0.19375023245811462),\n",
       " (29, 0.193534716963768),\n",
       " (26, 0.17651301622390747),\n",
       " (34, 0.16889901459217072),\n",
       " (40, 0.16325506567955017),\n",
       " (44, 0.1579963117837906)]"
      ]
     },
     "execution_count": 73,
     "metadata": {},
     "output_type": "execute_result"
    }
   ],
   "source": [
    "#Now lets see another news article\n",
    "print(str(test_df[test_df.tag == 39]['title']))\n",
    "test_vector = test_df[test_df.tag == 39]['paragraph_vector']\n",
    "sims = model.docvecs.most_similar(test_vector)\n",
    "sims"
   ]
  },
  {
   "cell_type": "code",
   "execution_count": 75,
   "metadata": {
    "ExecuteTime": {
     "end_time": "2020-07-04T20:39:15.950762Z",
     "start_time": "2020-07-04T20:39:15.945874Z"
    }
   },
   "outputs": [
    {
     "name": "stdout",
     "output_type": "stream",
     "text": [
      "46    GOP ramps up attacks over efforts to defund the police: ‘Democrats are insane’\n",
      "Name: title, dtype: object\n"
     ]
    }
   ],
   "source": [
    "print(str(train_df[train_df.tag == 46]['title']))\n",
    "# Again this also correctly indentifies the possiblt right-wing article that has similar alignment to our test vector. "
   ]
  },
  {
   "cell_type": "code",
   "execution_count": 83,
   "metadata": {
    "ExecuteTime": {
     "end_time": "2020-07-04T21:01:14.358233Z",
     "start_time": "2020-07-04T21:01:14.328220Z"
    }
   },
   "outputs": [
    {
     "data": {
      "text/plain": [
       "300"
      ]
     },
     "execution_count": 83,
     "metadata": {},
     "output_type": "execute_result"
    }
   ],
   "source": [
    "#let's check a raw out of the sample text.\n",
    "\n",
    "test_content = str(\"\"\"White House press secretary Kayleigh McEnany asserted Tuesday President Trump is the “most informed person on planet Earth” about the threats the United States faces.\n",
    "\n",
    "During Tuesday's press briefing, McEnany was asked why the president doesn’t read his President’s Daily Brief (PDB), after reports Russia was paying Taliban militants to kill U.S. soldiers was included in one of them. Trump has insisted he had no prior knowledge of the matter.\n",
    "\n",
    "The PDB is a document produced each day for the president containing the government’s latest secrets regarding national security.\n",
    "\n",
    "“The president does read,” McEnany shot back. “The president is the most informed person on planet Earth when it comes to the threats that we face.\"\n",
    "\n",
    "On Monday, a senior Republican who was one of eight Republicans briefed in the Situation Room on Russian bounty reports told NBC News that the intelligence may have been in a PDB at some point but the president was not given a formal threat briefing because the threat wasn’t yet “actionable.”\n",
    "\n",
    "\"I believe it may have been” in the PDB, Rep. Michael McCaul, R-Texas, said.\n",
    "\n",
    "Referring to the president, McCaul said: \"I think the way the process works is that he gets briefed about three times a week on sort of actionable, credible items. And the decision was made that this was not at that point in time a credible, actionable piece of intelligence. And if at any point it did, it would be raised to his attention.\"\n",
    "\n",
    "HOUSE DEMS ATTEND WHITE HOUSE BRIEFING ON RUSSIAN BOUNTY REPORTS \n",
    "\n",
    "The New York Times, citing two officials familiar, reported Monday that the Russian bounty intelligence had been included in a February PDB given to the president. The Times was the first to report that a Russian military unit offered to pay Taliban-linked militants to kill coalition forces in Afghanistan, including American troops, citing officials briefed on the matter.\n",
    "\n",
    "McEnany has repeatedly insisted the president did not receive a briefing on the Russian bounty possibility because there was no consensus on its validity. She added that Trump has since been briefed due to the Times publicizing the issue.\n",
    "\n",
    "The press secretary also hit the Times for publishing the leak from an anonymous intelligence officer, saying there is “no good scenario” as a result of the report.\n",
    "\n",
    "PENTAGON SAYS 'NO CORROBORATING EVIDENCE' TO STAND UP TO NYT REPORT ON RUSSIAN BOUNTIES \n",
    "\n",
    "“Who’s going to want to cooperate with the United States intelligence community? Who’s going to want to be a source or an asset if they know that their identity could be disclosed? Which allies will want to share information with us if they know that some rogue intelligence officer can go splash that information on the front page of a major U.S. newspaper?” McEnany said.\n",
    "\n",
    "She added that because of the Times’ reporting, it will be more difficult to come to a consensus and verify the intelligence. “This level of controversy and discord plays directly into the hands of Russia and unfortunately serves their interests,” she said.\n",
    "\n",
    "GET THE FOX NEWS APP\n",
    "\n",
    "She said that leaks of classified information have been “targeted” against Trump, noting that under former President Obama, there were just 39 criminal leak referrals to the Department of Justice. Under Trump, there have been an average of 104 per year.\"\"\")\n",
    "\n",
    "test_token = apply_all(test_content)\n",
    "test_vector_2 = model.infer_vector(test_token)\n",
    "len(test_vector_2)"
   ]
  },
  {
   "cell_type": "code",
   "execution_count": 84,
   "metadata": {
    "ExecuteTime": {
     "end_time": "2020-07-04T21:01:16.899732Z",
     "start_time": "2020-07-04T21:01:16.895146Z"
    }
   },
   "outputs": [
    {
     "data": {
      "text/plain": [
       "[(51, 0.20694777369499207),\n",
       " (16, 0.17408612370491028),\n",
       " (25, 0.1688816249370575),\n",
       " (10, 0.15321049094200134),\n",
       " (21, 0.14453405141830444),\n",
       " (7, 0.13526487350463867),\n",
       " (50, 0.13158801198005676),\n",
       " (62, 0.12207946926355362),\n",
       " (42, 0.11718815565109253),\n",
       " (15, 0.11598887294530869)]"
      ]
     },
     "execution_count": 84,
     "metadata": {},
     "output_type": "execute_result"
    }
   ],
   "source": [
    "sims = model.docvecs.most_similar([test_vector_2])\n",
    "sims"
   ]
  },
  {
   "cell_type": "code",
   "execution_count": 88,
   "metadata": {
    "ExecuteTime": {
     "end_time": "2020-07-04T21:06:01.497061Z",
     "start_time": "2020-07-04T21:06:01.492525Z"
    }
   },
   "outputs": [
    {
     "name": "stdout",
     "output_type": "stream",
     "text": [
      "51    Republicans are practically begging Trump to tell people to wear a mask. He still won’t listen.\n",
      "Name: title, dtype: object\n"
     ]
    }
   ],
   "source": [
    "print(str(train_df[train_df.tag == 51]['title']))"
   ]
  },
  {
   "cell_type": "code",
   "execution_count": 89,
   "metadata": {
    "ExecuteTime": {
     "end_time": "2020-07-04T21:07:47.267218Z",
     "start_time": "2020-07-04T21:07:47.264809Z"
    }
   },
   "outputs": [],
   "source": [
    "## This looks like a good result for out of sample/topic data, but to do a quantitative analysis"
   ]
  },
  {
   "cell_type": "code",
   "execution_count": null,
   "metadata": {},
   "outputs": [],
   "source": [
    "## The clustering in Tableau shows clustering is based mostly on keywords of topics(issues), rather than political alignment\n",
    "## Statue and CHOP issue are in one side for example while, defund the police and voting by mail are in a diffent cluster\n",
    "\n",
    "## But we can see inside each cluster(presumably topic), there is divison of of articles based on political bias "
   ]
  },
  {
   "cell_type": "code",
   "execution_count": null,
   "metadata": {},
   "outputs": [],
   "source": [
    "## For the next step, lets consider topics which has a clear divide on issues such as defund the police and voting by mail\n",
    "## And we will also include keywords such as \"defund\",\"police\", and \"voting\" etc. so that the clusters are formed\n",
    "## based on the underlined semantics and not on the topic keywords"
   ]
  },
  {
   "cell_type": "code",
   "execution_count": null,
   "metadata": {},
   "outputs": [],
   "source": [
    "## The cluster with removing the stopwords both title keywords and english keywords seem to be working to some extent\n",
    "## As it can classifying positive and negative sentiments into different clusters, but the good thing is \n",
    "## that these positive or negative clusters are not dominated by a particular news source yet."
   ]
  },
  {
   "cell_type": "code",
   "execution_count": 94,
   "metadata": {
    "ExecuteTime": {
     "end_time": "2020-07-04T21:41:41.111063Z",
     "start_time": "2020-07-04T21:41:41.106579Z"
    }
   },
   "outputs": [],
   "source": [
    "from sklearn.pipeline import Pipeline\n",
    "from sklearn.decomposition import PCA\n",
    "from sklearn.base import BaseEstimator,TransformerMixin\n",
    "from sklearn.linear_model import LogisticRegression\n",
    "from sklearn.model_selection import GridSearchCV\n",
    "\n",
    "pretrained_emb = \"/Users/tapas/Documents/Repos/doc2vec/toy_data/pretrained_word_embeddings.txt\"\n"
   ]
  },
  {
   "cell_type": "code",
   "execution_count": 110,
   "metadata": {
    "ExecuteTime": {
     "end_time": "2020-07-04T22:26:38.391314Z",
     "start_time": "2020-07-04T22:26:38.380607Z"
    }
   },
   "outputs": [],
   "source": [
    "import multiprocessing as mp\n",
    "from sklearn import utils\n",
    "import numpy as np\n",
    "\n",
    "class Doc2VecTransformer(BaseEstimator):\n",
    "    def __init__(self,vector_size,window_size,min_count,dm,train_epoch,pretrained_emb,learning_rate):\n",
    "        self.vector_size=vector_size\n",
    "        self.window_size=window_size\n",
    "        self.min_count=min_count\n",
    "        self.workers=mp.cpu_count()\n",
    "        self.dm=dm\n",
    "        self.epochs=train_epoch\n",
    "        self.learning_rate = learning_rate\n",
    "        self._model = None\n",
    "        self.pretrained_emb=pretrained_emb, \n",
    "    def fit(self,X,Y=None):\n",
    "        tagged_x = [TaggedDocument(apply_all(row['content_full']),[index]) for index,row in X.iterrows()]\n",
    "        model = g.Doc2Vec(vector_size=self.vector_size, \n",
    "                          window=self.window_size, \n",
    "                          min_count=self.min_count,sample=1e-5, workers=self.workers, hs=0, dm=self.dm,negative=5, dbow_words=1, dm_concat=1, epochs=self.epochs)\n",
    "        model.build_vocab([x for x in tqdm(tagged_x)])\n",
    "        for epoch in range(self.epochs):\n",
    "            model.train(utils.shuffle([x for x in tqdm(tagged_x)]), total_examples=len(tagged_x), epochs=1)\n",
    "            model.alpha -= self.learning_rate\n",
    "            model.min_alpha = model.alpha\n",
    "        self._model = model\n",
    "        return self\n",
    "\n",
    "    def transform(self,X):\n",
    "        return np.asmatrix(np.array([self._model.infer_vector(apply_all(row['content_full'])) for index,row in X.iterrows()])) "
   ]
  },
  {
   "cell_type": "code",
   "execution_count": 219,
   "metadata": {
    "ExecuteTime": {
     "end_time": "2020-07-03T20:52:51.003896Z",
     "start_time": "2020-07-03T20:52:50.999960Z"
    }
   },
   "outputs": [],
   "source": [
    "pd.reset_option('^display.', silent=True)\n"
   ]
  },
  {
   "cell_type": "code",
   "execution_count": 111,
   "metadata": {
    "ExecuteTime": {
     "end_time": "2020-07-04T22:26:42.013715Z",
     "start_time": "2020-07-04T22:26:42.008653Z"
    }
   },
   "outputs": [],
   "source": [
    "news_pipeline = Pipeline(steps=[('doc2vec',Doc2VecTransformer(vector_size=300,window_size=15,min_count=1,dm=0,train_epoch=100,\n",
    "                                                              pretrained_emb=pretrained_emb,learning_rate=0.02)),\n",
    "                         ('logistic', LogisticRegression())])"
   ]
  },
  {
   "cell_type": "code",
   "execution_count": 112,
   "metadata": {
    "ExecuteTime": {
     "end_time": "2020-07-04T22:26:51.416019Z",
     "start_time": "2020-07-04T22:26:45.366267Z"
    }
   },
   "outputs": [
    {
     "name": "stderr",
     "output_type": "stream",
     "text": [
      "100%|██████████| 50/50 [00:00<00:00, 264458.01it/s]\n",
      "100%|██████████| 50/50 [00:00<00:00, 274856.09it/s]\n",
      "100%|██████████| 50/50 [00:00<00:00, 187245.71it/s]\n",
      "100%|██████████| 50/50 [00:00<00:00, 151967.54it/s]\n",
      "100%|██████████| 50/50 [00:00<00:00, 164096.40it/s]\n",
      "100%|██████████| 50/50 [00:00<00:00, 230456.26it/s]\n",
      "100%|██████████| 50/50 [00:00<00:00, 258907.65it/s]\n",
      "100%|██████████| 50/50 [00:00<00:00, 270251.55it/s]\n",
      "100%|██████████| 50/50 [00:00<00:00, 280743.24it/s]\n",
      "100%|██████████| 50/50 [00:00<00:00, 252364.86it/s]\n",
      "100%|██████████| 50/50 [00:00<00:00, 268521.38it/s]\n",
      "100%|██████████| 50/50 [00:00<00:00, 245568.15it/s]\n",
      "100%|██████████| 50/50 [00:00<00:00, 228447.93it/s]\n",
      "100%|██████████| 50/50 [00:00<00:00, 274496.34it/s]\n",
      "100%|██████████| 50/50 [00:00<00:00, 409600.00it/s]\n",
      "100%|██████████| 50/50 [00:00<00:00, 222155.93it/s]\n",
      "100%|██████████| 50/50 [00:00<00:00, 201843.31it/s]\n",
      "100%|██████████| 50/50 [00:00<00:00, 323135.90it/s]\n",
      "100%|██████████| 50/50 [00:00<00:00, 258907.65it/s]\n",
      "100%|██████████| 50/50 [00:00<00:00, 253892.49it/s]\n",
      "100%|██████████| 50/50 [00:00<00:00, 271651.81it/s]\n",
      "100%|██████████| 50/50 [00:00<00:00, 245280.94it/s]\n",
      "100%|██████████| 50/50 [00:00<00:00, 254817.98it/s]\n",
      "100%|██████████| 50/50 [00:00<00:00, 187916.85it/s]\n",
      "100%|██████████| 50/50 [00:00<00:00, 213776.96it/s]\n",
      "100%|██████████| 50/50 [00:00<00:00, 273066.67it/s]\n",
      "100%|██████████| 50/50 [00:00<00:00, 168310.75it/s]\n",
      "100%|██████████| 50/50 [00:00<00:00, 165130.08it/s]\n",
      "100%|██████████| 50/50 [00:00<00:00, 213125.20it/s]\n",
      "100%|██████████| 50/50 [00:00<00:00, 222155.93it/s]\n",
      "100%|██████████| 50/50 [00:00<00:00, 242725.93it/s]\n",
      "100%|██████████| 50/50 [00:00<00:00, 277768.48it/s]\n",
      "100%|██████████| 50/50 [00:00<00:00, 270600.26it/s]\n",
      "100%|██████████| 50/50 [00:00<00:00, 264458.01it/s]\n",
      "100%|██████████| 50/50 [00:00<00:00, 145736.76it/s]\n",
      "100%|██████████| 50/50 [00:00<00:00, 256689.35it/s]\n",
      "100%|██████████| 50/50 [00:00<00:00, 381300.36it/s]\n",
      "100%|██████████| 50/50 [00:00<00:00, 268865.64it/s]\n",
      "100%|██████████| 50/50 [00:00<00:00, 251457.07it/s]\n",
      "100%|██████████| 50/50 [00:00<00:00, 271651.81it/s]\n",
      "100%|██████████| 50/50 [00:00<00:00, 163840.00it/s]\n",
      "100%|██████████| 50/50 [00:00<00:00, 400219.85it/s]\n",
      "100%|██████████| 50/50 [00:00<00:00, 127563.99it/s]\n",
      "100%|██████████| 50/50 [00:00<00:00, 216424.36it/s]\n",
      "100%|██████████| 50/50 [00:00<00:00, 247597.64it/s]\n",
      "100%|██████████| 50/50 [00:00<00:00, 255438.73it/s]\n",
      "100%|██████████| 50/50 [00:00<00:00, 153412.73it/s]\n",
      "100%|██████████| 50/50 [00:00<00:00, 328707.21it/s]\n",
      "100%|██████████| 50/50 [00:00<00:00, 258907.65it/s]\n",
      "100%|██████████| 50/50 [00:00<00:00, 159116.24it/s]\n",
      "100%|██████████| 50/50 [00:00<00:00, 258907.65it/s]\n",
      "100%|██████████| 50/50 [00:00<00:00, 233535.86it/s]\n",
      "100%|██████████| 50/50 [00:00<00:00, 191520.73it/s]\n",
      "100%|██████████| 50/50 [00:00<00:00, 304818.60it/s]\n",
      "100%|██████████| 50/50 [00:00<00:00, 285715.53it/s]\n",
      "100%|██████████| 50/50 [00:00<00:00, 340446.75it/s]\n",
      "100%|██████████| 50/50 [00:00<00:00, 179858.66it/s]\n",
      "100%|██████████| 50/50 [00:00<00:00, 294130.72it/s]\n",
      "100%|██████████| 50/50 [00:00<00:00, 292082.45it/s]\n",
      "100%|██████████| 50/50 [00:00<00:00, 189444.63it/s]\n",
      "100%|██████████| 50/50 [00:00<00:00, 354248.65it/s]\n",
      "100%|██████████| 50/50 [00:00<00:00, 255127.98it/s]\n",
      "100%|██████████| 50/50 [00:00<00:00, 287281.10it/s]\n",
      "100%|██████████| 50/50 [00:00<00:00, 149263.49it/s]\n",
      "100%|██████████| 50/50 [00:00<00:00, 174182.06it/s]\n",
      "100%|██████████| 50/50 [00:00<00:00, 186579.36it/s]\n",
      "100%|██████████| 50/50 [00:00<00:00, 214652.20it/s]\n",
      "100%|██████████| 50/50 [00:00<00:00, 245280.94it/s]\n",
      "100%|██████████| 50/50 [00:00<00:00, 251155.93it/s]\n",
      "100%|██████████| 50/50 [00:00<00:00, 282635.04it/s]\n",
      "100%|██████████| 50/50 [00:00<00:00, 177274.05it/s]\n",
      "100%|██████████| 50/50 [00:00<00:00, 257635.38it/s]\n",
      "100%|██████████| 50/50 [00:00<00:00, 257635.38it/s]\n",
      "100%|██████████| 50/50 [00:00<00:00, 288863.91it/s]\n",
      "100%|██████████| 50/50 [00:00<00:00, 269903.73it/s]\n",
      "100%|██████████| 50/50 [00:00<00:00, 255127.98it/s]\n",
      "100%|██████████| 50/50 [00:00<00:00, 200109.92it/s]\n",
      "100%|██████████| 50/50 [00:00<00:00, 405638.68it/s]\n",
      "100%|██████████| 50/50 [00:00<00:00, 147065.36it/s]\n",
      "100%|██████████| 50/50 [00:00<00:00, 278136.87it/s]\n",
      "100%|██████████| 50/50 [00:00<00:00, 284166.94it/s]\n",
      "100%|██████████| 50/50 [00:00<00:00, 251155.93it/s]\n",
      "100%|██████████| 50/50 [00:00<00:00, 188592.81it/s]\n",
      "100%|██████████| 50/50 [00:00<00:00, 264458.01it/s]\n",
      "100%|██████████| 50/50 [00:00<00:00, 286105.32it/s]\n",
      "100%|██████████| 50/50 [00:00<00:00, 238855.58it/s]\n",
      "100%|██████████| 50/50 [00:00<00:00, 203212.40it/s]\n",
      "100%|██████████| 50/50 [00:00<00:00, 184608.45it/s]\n",
      "100%|██████████| 50/50 [00:00<00:00, 252364.86it/s]\n",
      "100%|██████████| 50/50 [00:00<00:00, 290464.27it/s]\n",
      "100%|██████████| 50/50 [00:00<00:00, 232500.22it/s]\n",
      "100%|██████████| 50/50 [00:00<00:00, 144830.94it/s]\n",
      "100%|██████████| 50/50 [00:00<00:00, 284166.94it/s]\n",
      "100%|██████████| 50/50 [00:00<00:00, 144531.50it/s]\n",
      "100%|██████████| 50/50 [00:00<00:00, 252061.54it/s]\n",
      "100%|██████████| 50/50 [00:00<00:00, 273422.69it/s]\n",
      "100%|██████████| 50/50 [00:00<00:00, 260515.78it/s]\n",
      "100%|██████████| 50/50 [00:00<00:00, 214652.20it/s]\n",
      "100%|██████████| 50/50 [00:00<00:00, 151418.92it/s]\n",
      "100%|██████████| 50/50 [00:00<00:00, 175935.57it/s]\n",
      "100%|██████████| 50/50 [00:00<00:00, 267493.88it/s]\n",
      "/opt/anaconda3/envs/buan6341/lib/python3.7/site-packages/sklearn/utils/validation.py:760: DataConversionWarning: A column-vector y was passed when a 1d array was expected. Please change the shape of y to (n_samples, ), for example using ravel().\n",
      "  y = column_or_1d(y, warn=True)\n"
     ]
    }
   ],
   "source": [
    "model = news_pipeline.fit(train_df[['content_full']],train_df[['Alignment']])"
   ]
  },
  {
   "cell_type": "code",
   "execution_count": 113,
   "metadata": {
    "ExecuteTime": {
     "end_time": "2020-07-04T22:26:55.825195Z",
     "start_time": "2020-07-04T22:26:55.819543Z"
    }
   },
   "outputs": [],
   "source": [
    "model_5= news_pipeline['doc2vec']._model"
   ]
  },
  {
   "cell_type": "code",
   "execution_count": 114,
   "metadata": {
    "ExecuteTime": {
     "end_time": "2020-07-04T22:26:59.203098Z",
     "start_time": "2020-07-04T22:26:59.115652Z"
    }
   },
   "outputs": [
    {
     "data": {
      "text/plain": [
       "array(['center', 'center', 'center', 'center', 'center', 'center',\n",
       "       'center', 'center', 'center', 'center', 'center', 'center',\n",
       "       'center'], dtype=object)"
      ]
     },
     "execution_count": 114,
     "metadata": {},
     "output_type": "execute_result"
    }
   ],
   "source": [
    "predictions_y = news_pipeline.predict(test_df[['content_full']])\n",
    "predictions_y"
   ]
  },
  {
   "cell_type": "code",
   "execution_count": 233,
   "metadata": {
    "ExecuteTime": {
     "end_time": "2020-07-04T00:11:02.818781Z",
     "start_time": "2020-07-04T00:11:02.808825Z"
    }
   },
   "outputs": [
    {
     "data": {
      "text/plain": [
       "61    Trump administration takes aim at ObamaCare in...\n",
       "57    People furious over Detroit Zoo’s outdoor mask...\n",
       "0     After yearlong fight, Missouri's lone abortion...\n",
       "43    Cory Mills: Want more crime and innocent peopl...\n",
       "5     Abortion: I wrote Louisiana's pro-life law. Th...\n",
       "36    Defund or dismantle the police? What it could ...\n",
       "16    Fact-checking the GOP’s ‘satirical’ vote-by-ma...\n",
       "12    Trump calls it ‘rigged,’ but voting by mail is...\n",
       "25    Fact check: Did Adolf Hitler defund the police...\n",
       "60    Trump administration’s move to end Obamacare a...\n",
       "55    Coronavirus can still pass between face mask w...\n",
       "9     Marjorie Dannenfelser: Supreme Court abortion ...\n",
       "40    GOP group runs ad attacking Dems over 'defund ...\n",
       "Name: title, dtype: object"
      ]
     },
     "execution_count": 233,
     "metadata": {},
     "output_type": "execute_result"
    }
   ],
   "source": [
    "\n",
    "test_df['title']"
   ]
  },
  {
   "cell_type": "code",
   "execution_count": 115,
   "metadata": {
    "ExecuteTime": {
     "end_time": "2020-07-04T22:27:03.551110Z",
     "start_time": "2020-07-04T22:27:03.546756Z"
    }
   },
   "outputs": [
    {
     "name": "stdout",
     "output_type": "stream",
     "text": [
      "Accuracy:  0.15384615384615385\n"
     ]
    }
   ],
   "source": [
    "import sklearn.metrics as metrics\n",
    "print('Accuracy: ', metrics.accuracy_score(y_true=test_df[['Alignment']], y_pred=predictions_y))\n"
   ]
  },
  {
   "cell_type": "code",
   "execution_count": 116,
   "metadata": {
    "ExecuteTime": {
     "end_time": "2020-07-04T22:27:10.514886Z",
     "start_time": "2020-07-04T22:27:10.503659Z"
    }
   },
   "outputs": [
    {
     "name": "stdout",
     "output_type": "stream",
     "text": [
      "18    Democrats should hammer the GOP over mail-in voting\n",
      "Name: title, dtype: object\n"
     ]
    },
    {
     "data": {
      "text/plain": [
       "[(19, 0.12889529764652252),\n",
       " (18, 0.0866154283285141),\n",
       " (55, 0.04218538850545883),\n",
       " (8, 0.041772302240133286),\n",
       " (50, 0.041724078357219696),\n",
       " (54, 0.04168813303112984),\n",
       " (12, 0.041639674454927444),\n",
       " (3, 0.04163508862257004),\n",
       " (26, 0.041624944657087326),\n",
       " (17, 0.04157785326242447)]"
      ]
     },
     "execution_count": 116,
     "metadata": {},
     "output_type": "execute_result"
    }
   ],
   "source": [
    "print(str(test_df[test_df.tag == 18]['title']))\n",
    "test_vector = test_df[test_df.tag == 18]['paragraph_vector']\n",
    "sims = model_5.docvecs.most_similar(test_vector)\n",
    "sims"
   ]
  },
  {
   "cell_type": "code",
   "execution_count": 117,
   "metadata": {
    "ExecuteTime": {
     "end_time": "2020-07-04T22:27:13.176049Z",
     "start_time": "2020-07-04T22:27:13.169294Z"
    }
   },
   "outputs": [
    {
     "name": "stdout",
     "output_type": "stream",
     "text": [
      "19    Minuscule number of potentially fraudulent ballots in states with universal mail voting undercuts Trump claims about election risks\n",
      "Name: title, dtype: object\n"
     ]
    }
   ],
   "source": [
    "print(str(test_df[test_df.tag == 19]['title']))"
   ]
  },
  {
   "cell_type": "code",
   "execution_count": 293,
   "metadata": {
    "ExecuteTime": {
     "end_time": "2020-07-04T05:20:24.556086Z",
     "start_time": "2020-07-04T05:20:24.503340Z"
    }
   },
   "outputs": [
    {
     "name": "stdout",
     "output_type": "stream",
     "text": [
      "    1. 1.00 'of'\n",
      "    2. 1.00 'to'\n",
      "    3. 1.00 'that'\n",
      "    4. 1.00 'will'\n",
      "    5. 1.00 'the'\n",
      "    6. 1.00 'is'\n",
      "    7. 1.00 'more'\n",
      "    8. 1.00 'in'\n",
      "    9. 1.00 'managed'\n",
      "    10. 1.00 'appointed'\n",
      "    11. 1.00 'and'\n",
      "    12. 1.00 'law'\n",
      "    13. 1.00 'other'\n",
      "    14. 1.00 'for'\n",
      "    15. 1.00 'we'\n",
      "    16. 1.00 'are'\n",
      "    17. 1.00 'at'\n",
      "    18. 1.00 'on'\n",
      "    19. 1.00 'experienced'\n",
      "    20. 1.00 'said'\n",
      "    21. 1.00 'pretended'\n",
      "    22. 1.00 'commitment'\n",
      "    23. 1.00 'which'\n",
      "    24. 1.00 'students'\n",
      "    25. 1.00 'as'\n",
      "    26. 1.00 'it'\n",
      "    27. 1.00 'federal'\n",
      "    28. 1.00 'need'\n",
      "    29. 1.00 'vulnerabilities'\n",
      "    30. 1.00 'or'\n",
      "\n"
     ]
    }
   ],
   "source": [
    "target_word = \"democrats\"\n",
    "for i, (word, sim) in enumerate(model_4.wv.most_similar(target_word, topn=30), 1):\n",
    "    print('    %d. %.2f %r' % (i, sim, word))\n",
    "print()"
   ]
  },
  {
   "cell_type": "code",
   "execution_count": 105,
   "metadata": {
    "ExecuteTime": {
     "end_time": "2020-07-04T22:23:47.417981Z",
     "start_time": "2020-07-04T22:23:47.204866Z"
    }
   },
   "outputs": [],
   "source": [
    "tagged_x = [TaggedDocument(apply_all(row['content_full']),[index]) for index,row in train_df.iterrows()]\n",
    "text = [x for x in tagged_x]"
   ]
  },
  {
   "cell_type": "code",
   "execution_count": 122,
   "metadata": {
    "ExecuteTime": {
     "end_time": "2020-07-04T23:08:20.488170Z",
     "start_time": "2020-07-04T23:08:20.483608Z"
    }
   },
   "outputs": [
    {
     "data": {
      "text/plain": [
       "TaggedDocument(words=['less', 'than', 'five', 'months', 'until', 'election', 'day', 'there', 'surprisingly', 'fierce', 'debate', 'over', 'mail', 'in', 'balloting', 'driven', 'largely', 'by', 'an', 'unpopular', 'president', 'apparently', 'worried', 'that', 'too', 'many', 'people', 'will', 'cast', 'votes', 'in', 'november', 'but', 'donald', 'trump', 'outrageous', 'outbursts', 'about', 'the', 'issue', 'there', 'is', 'no', 'way', 'zero', 'that', 'mail', 'in', 'ballots', 'will', 'be', 'anything', 'less', 'than', 'substantially', 'fraudulent', 'he', 'tweeted', 'last', 'month', 'don', 'stand', 'up', 'to', 'even', 'casual', 'scrutiny', 'twitter', 'for', 'the', 'first', 'time', 'slapped', 'fact', 'check', 'label', 'on', 'that', 'tweet', 'the', 'fact', 'is', 'trump', 'himself', 'votes', 'by', 'mail', 'all', 'states', 'allow', 'it', 'to', 'some', 'degree', 'one', 'in', 'four', 'americans', 'voted', 'by', 'mail', 'in', 'and', 'and', 'the', 'practice', 'dates', 'to', 'union', 'troops', 'voting', 'absentee', 'in', 'the', 'civil', 'war', 'deadly', 'pandemic', 'renders', 'mail', 'in', 'voting', 'even', 'more', 'important', 'particularly', 'as', 'epidemiologists', 'warn', 'of', 'possible', 'second', 'coronavirus', 'surge', 'come', 'fall', 'the', 'centers', 'for', 'disease', 'control', 'and', 'prevention', 'recommends', 'that', 'where', 'possible', 'mail', 'in', 'voting', 'be', 'encouraged', 'opposing', 'view', 'widespread', 'voting', 'by', 'mail', 'poses', 'risks', 'casting', 'ballots', 'after', 'waiting', 'in', 'long', 'lines', 'unquestionably', 'carries', 'risks', 'in', 'april', 'after', 'the', 'wisconsin', 'supreme', 'court', 'blocked', 'the', 'governor', 'effort', 'because', 'of', 'the', 'pandemic', 'people', 'still', 'braved', 'the', 'polls', 'in', 'record', 'numbers', 'dozens', 'voting', 'in', 'person', 'contracted', 'covid', 'even', 'before', 'the', 'pandemic', 'five', 'states', 'colorado', 'hawaii', 'oregon', 'utah', 'and', 'washington', 'conducted', 'elections', 'primarily', 'by', 'mail', 'proactively', 'sending', 'mail', 'in', 'ballots', 'to', 'registered', 'voters', 'it', 'works', 'very', 'very', 'well', 'sen', 'mitt', 'romney', 'utah', 'said', 'last', 'month', 'and', 'it', 'very', 'republican', 'state', 'washington', 'and', 'states', 'allow', 'absentee', 'voting', 'without', 'requiring', 'an', 'excuse', 'since', 'the', 'coronavirus', 'outbreak', 'republican', 'and', 'democratic', 'election', 'officials', 'across', 'the', 'country', 'have', 'expanded', 'access', 'to', 'absentee', 'voting', 'for', 'primaries', 'and', 'might', 'do', 'so', 'for', 'the', 'fall', 'eleven', 'states', 'that', 'require', 'an', 'excuse', 'to', 'vote', 'by', 'mail', 'waived', 'it', 'for', 'those', 'who', 'fear', 'falling', 'ill', 'dozen', 'more', 'have', 'chosen', 'to', 'send', 'out', 'mail', 'in', 'applications', 'or', 'request', 'forms', 'the', 'nation', 'is', 'embracing', 'the', 'practice', 'at', 'least', 'two', 'thirds', 'of', 'americans', 'say', 'mail', 'in', 'voting', 'is', 'necessary', 'during', 'pandemic', 'but', 'trump', 'continues', 'to', 'make', 'false', 'allegations', 'that', 'states', 'are', 'sending', 'mail', 'in', 'ballots', 'to', 'noncitizens', 'or', 'people', 'who', 'aren', 'registered', 'to', 'vote', 'that', 'ballots', 'will', 'be', 'fabricated', 'or', 'that', 'children', 'are', 'going', 'to', 'raid', 'mail', 'boxes', 'for', 'them', 'this', 'hand', 'wringing', 'would', 'be', 'laughable', 'if', 'trump', 'wasn', 'threatening', 'to', 'destabilize', 'the', 'postal', 'service', 'and', 'to', 'hold', 'up', 'federal', 'funding', 'where', 'battleground', 'states', 'are', 'increasing', 'voting', 'by', 'mail', 'the', 'republican', 'party', 'is', 'investing', 'millions', 'of', 'dollars', 'on', 'court', 'challenges', 'to', 'vote', 'by', 'mail', 'initiatives', 'the', 'reality', 'is', 'that', 'mail', 'voting', 'is', 'prudent', 'step', 'in', 'health', 'crisis', 'and', 'the', 'risks', 'of', 'fraud', 'are', 'tiny', 'washington', 'post', 'analysis', 'this', 'month', 'showed', 'that', 'in', 'three', 'vote', 'by', 'mail', 'states', 'there', 'were', 'questionable', 'ballots', 'out', 'of', 'million', 'cast', 'or', 'research', 'has', 'demonstrated', 'that', 'the', 'practice', 'favors', 'neither', 'republicans', 'nor', 'democrats', 'in', 'voting', 'results', 'to', 'be', 'sure', 'states', 'need', 'to', 'adopt', 'adequate', 'safeguards', 'as', 'they', 'race', 'to', 'expand', 'such', 'voting', 'regular', 'efforts', 'should', 'be', 'made', 'to', 'ensure', 'the', 'accuracy', 'of', 'voter', 'rolls', 'and', 'ballots', 'need', 'to', 'be', 'authenticated', 'through', 'processes', 'like', 'signature', 'matching', 'experienced', 'vote', 'by', 'mail', 'states', 'allow', 'law', 'enforcement', 'training', 'of', 'election', 'workers', 'on', 'matching', 'signatures', 'ballot', 'return', 'envelopes', 'should', 'typically', 'require', 'the', 'voter', 'signature', 'and', 'include', 'unique', 'bar', 'code', 'linked', 'to', 'the', 'voter', 'record', 'these', 'changes', 'cost', 'money', 'and', 'the', 'million', 'in', 'election', 'security', 'funding', 'provided', 'by', 'congress', 'this', 'spring', 'isn', 'nearly', 'enough', 'the', 'house', 'proposed', 'billion', 'in', 'the', 'latest', 'coronavirus', 'relief', 'package', 'and', 'if', 'congress', 'wants', 'to', 'ensure', 'fair', 'and', 'accessible', 'election', 'in', 'pandemic', 'it', 'needs', 'to', 'up', 'the', 'ante', 'on', 'state', 'support', 'or', 'risk', 'more', 'voting', 'debacles', 'like', 'the', 'one', 'in', 'georgia', 'last', 'week', 'party', 'that', 'thinks', 'its', 'best', 'hope', 'is', 'to', 'suppress', 'votes', 'is', 'party', 'in', 'trouble', 'the', 'case', 'for', 'expanded', 'mail', 'in', 'voting', 'was', 'already', 'strong', 'in', 'the', 'midst', 'of', 'pandemic', 'it', 'even', 'more', 'so', 'if', 'you', 'can', 'see', 'this', 'reader', 'poll', 'please', 'refresh', 'your', 'page'], tags=[13])"
      ]
     },
     "execution_count": 122,
     "metadata": {},
     "output_type": "execute_result"
    }
   ],
   "source": [
    "## Checking for cource whether the input source is an iterator or generator\n",
    "first_doc = iter(tagged_x).next()\n",
    "tagged_x[1]"
   ]
  }
 ],
 "metadata": {
  "kernelspec": {
   "display_name": "Python 3",
   "language": "python",
   "name": "python3"
  },
  "language_info": {
   "codemirror_mode": {
    "name": "ipython",
    "version": 3
   },
   "file_extension": ".py",
   "mimetype": "text/x-python",
   "name": "python",
   "nbconvert_exporter": "python",
   "pygments_lexer": "ipython3",
   "version": "3.7.6"
  },
  "toc": {
   "base_numbering": 1,
   "nav_menu": {},
   "number_sections": true,
   "sideBar": true,
   "skip_h1_title": false,
   "title_cell": "Table of Contents",
   "title_sidebar": "Contents",
   "toc_cell": true,
   "toc_position": {},
   "toc_section_display": true,
   "toc_window_display": false
  }
 },
 "nbformat": 4,
 "nbformat_minor": 2
}
