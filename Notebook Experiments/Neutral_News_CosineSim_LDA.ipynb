{
 "cells": [
  {
   "cell_type": "markdown",
   "metadata": {
    "toc": true
   },
   "source": [
    "<h1>Table of Contents<span class=\"tocSkip\"></span></h1>\n",
    "<div class=\"toc\"><ul class=\"toc-item\"><li><span><a href=\"#Looks-like-Topic-3-is-pro-voting-in-mail(washington-post),-while-Topic-2,4-are-critical-of-them(fox-news)\" data-toc-modified-id=\"Looks-like-Topic-3-is-pro-voting-in-mail(washington-post),-while-Topic-2,4-are-critical-of-them(fox-news)-1\"><span class=\"toc-item-num\">1&nbsp;&nbsp;</span>Looks like Topic 3 is pro voting in mail(washington post), while Topic 2,4 are critical of them(fox news)</a></span></li></ul></div>"
   ]
  },
  {
   "cell_type": "code",
   "execution_count": 359,
   "metadata": {
    "ExecuteTime": {
     "end_time": "2020-06-18T21:00:34.237064Z",
     "start_time": "2020-06-18T21:00:34.230925Z"
    }
   },
   "outputs": [],
   "source": [
    "from gensim.models.keyedvectors import KeyedVectors\n",
    "import numpy as np\n",
    "import re\n",
    "from unidecode import unidecode"
   ]
  },
  {
   "cell_type": "code",
   "execution_count": 361,
   "metadata": {
    "ExecuteTime": {
     "end_time": "2020-06-18T21:00:53.124255Z",
     "start_time": "2020-06-18T21:00:53.121238Z"
    }
   },
   "outputs": [],
   "source": [
    "#wv_model= KeyedVectors.load_word2vec_format('/Users/tapas/Downloads/GoogleNews-vectors-negative300.bin',binary=True)"
   ]
  },
  {
   "cell_type": "code",
   "execution_count": null,
   "metadata": {
    "ExecuteTime": {
     "end_time": "2020-06-18T21:00:40.613696Z",
     "start_time": "2020-06-18T21:00:34.233Z"
    }
   },
   "outputs": [],
   "source": [
    "print(dir(wv_model))"
   ]
  },
  {
   "cell_type": "code",
   "execution_count": null,
   "metadata": {
    "ExecuteTime": {
     "end_time": "2020-06-18T21:00:40.615458Z",
     "start_time": "2020-06-18T21:00:34.235Z"
    }
   },
   "outputs": [],
   "source": [
    "def covert_to_string(filename):\n",
    "    with open(filename,'r') as file:\n",
    "        data = file.read().replace('\\n','')\n",
    "    return str(data)"
   ]
  },
  {
   "cell_type": "code",
   "execution_count": null,
   "metadata": {
    "ExecuteTime": {
     "end_time": "2020-06-18T21:00:40.616552Z",
     "start_time": "2020-06-18T21:00:34.237Z"
    }
   },
   "outputs": [],
   "source": [
    "articles_path = '/Users/tapas/Documents/Repos/news_articles/*'\n",
    "\n",
    "import glob\n",
    "content_list = []\n",
    "for file in glob.glob(articles_path):\n",
    "    #print(covert_to_string(file))\n",
    "    #print('*********************************************************************')\n",
    "    content_list.append(covert_to_string(file))"
   ]
  },
  {
   "cell_type": "code",
   "execution_count": null,
   "metadata": {
    "ExecuteTime": {
     "end_time": "2020-06-18T21:00:40.617873Z",
     "start_time": "2020-06-18T21:00:34.239Z"
    }
   },
   "outputs": [],
   "source": [
    "print(content_list[34])"
   ]
  },
  {
   "cell_type": "code",
   "execution_count": null,
   "metadata": {
    "ExecuteTime": {
     "end_time": "2020-06-18T21:00:40.619266Z",
     "start_time": "2020-06-18T21:00:34.241Z"
    }
   },
   "outputs": [],
   "source": [
    "print(len(content_list))"
   ]
  },
  {
   "cell_type": "code",
   "execution_count": null,
   "metadata": {
    "ExecuteTime": {
     "end_time": "2020-06-18T21:00:40.620407Z",
     "start_time": "2020-06-18T21:00:34.243Z"
    }
   },
   "outputs": [],
   "source": [
    "src = content_list[1]\n",
    "target = content_list[2]\n",
    "stopwords = ['www.foxnews.com','www.usatoday.com','www.washingtonpost.com']"
   ]
  },
  {
   "cell_type": "code",
   "execution_count": null,
   "metadata": {
    "ExecuteTime": {
     "end_time": "2020-06-18T21:00:40.621717Z",
     "start_time": "2020-06-18T21:00:34.244Z"
    }
   },
   "outputs": [],
   "source": [
    "def vectorize(doc:str) -> np.ndarray:\n",
    "    doc = unidecode(doc.lower())\n",
    "    words = [w for w in re.split(\"[, \\-.\\\"\\+/':?\\]\\[)(]+\",doc) if w not in stopwords]\n",
    "    word_vecs = []\n",
    "    for word in words:\n",
    "        try:\n",
    "            vec = wv_model[word]\n",
    "            word_vecs.append(vec)\n",
    "        except KeyError:\n",
    "            print('could not find word ',word)\n",
    "            pass\n",
    "    vector = np.mean(word_vecs,axis=0)\n",
    "    return vector"
   ]
  },
  {
   "cell_type": "code",
   "execution_count": null,
   "metadata": {
    "ExecuteTime": {
     "end_time": "2020-06-18T21:00:40.623172Z",
     "start_time": "2020-06-18T21:00:34.248Z"
    }
   },
   "outputs": [],
   "source": [
    "src_vec = vectorize(src)\n",
    "target_vec = vectorize(target)\n",
    "target_vec2 = vectorize(content_list[34])"
   ]
  },
  {
   "cell_type": "code",
   "execution_count": null,
   "metadata": {
    "ExecuteTime": {
     "end_time": "2020-06-18T21:00:40.624580Z",
     "start_time": "2020-06-18T21:00:34.250Z"
    }
   },
   "outputs": [],
   "source": [
    "src_vec.shape"
   ]
  },
  {
   "cell_type": "code",
   "execution_count": null,
   "metadata": {
    "ExecuteTime": {
     "end_time": "2020-06-18T21:00:40.625864Z",
     "start_time": "2020-06-18T21:00:34.251Z"
    }
   },
   "outputs": [],
   "source": [
    "    def cosine_sim(vecA, vecB):\n",
    "        \"\"\"Find the cosine similarity distance between two vectors.\"\"\"\n",
    "        csim = np.dot(vecA, vecB) / (np.linalg.norm(vecA) * np.linalg.norm(vecB))\n",
    "        if np.isnan(np.sum(csim)):\n",
    "            return 0\n",
    "        return csim"
   ]
  },
  {
   "cell_type": "code",
   "execution_count": null,
   "metadata": {
    "ExecuteTime": {
     "end_time": "2020-06-18T21:00:40.627136Z",
     "start_time": "2020-06-18T21:00:34.253Z"
    }
   },
   "outputs": [],
   "source": [
    "sim_score = cosine_sim(src_vec, target_vec)"
   ]
  },
  {
   "cell_type": "code",
   "execution_count": null,
   "metadata": {
    "ExecuteTime": {
     "end_time": "2020-06-18T21:00:40.628763Z",
     "start_time": "2020-06-18T21:00:34.255Z"
    }
   },
   "outputs": [],
   "source": [
    "sim_score"
   ]
  },
  {
   "cell_type": "code",
   "execution_count": null,
   "metadata": {
    "ExecuteTime": {
     "end_time": "2020-06-18T21:00:40.630085Z",
     "start_time": "2020-06-18T21:00:34.257Z"
    }
   },
   "outputs": [],
   "source": [
    "sim_score = cosine_sim(src_vec, target_vec2)"
   ]
  },
  {
   "cell_type": "code",
   "execution_count": null,
   "metadata": {
    "ExecuteTime": {
     "end_time": "2020-06-18T21:00:40.631570Z",
     "start_time": "2020-06-18T21:00:34.259Z"
    }
   },
   "outputs": [],
   "source": [
    "sim_score"
   ]
  },
  {
   "cell_type": "code",
   "execution_count": null,
   "metadata": {
    "ExecuteTime": {
     "end_time": "2020-06-18T21:00:40.632820Z",
     "start_time": "2020-06-18T21:00:34.260Z"
    }
   },
   "outputs": [],
   "source": [
    "import pandas as pd\n",
    "df = pd.DataFrame(content_list,columns=[\"text\"])"
   ]
  },
  {
   "cell_type": "code",
   "execution_count": null,
   "metadata": {
    "ExecuteTime": {
     "end_time": "2020-06-18T21:00:40.633839Z",
     "start_time": "2020-06-18T21:00:34.262Z"
    }
   },
   "outputs": [],
   "source": [
    "print(df.head(1))"
   ]
  },
  {
   "cell_type": "code",
   "execution_count": 16,
   "metadata": {
    "ExecuteTime": {
     "end_time": "2020-06-29T01:16:48.897450Z",
     "start_time": "2020-06-29T01:16:47.750051Z"
    }
   },
   "outputs": [],
   "source": [
    "import sqlite3\n",
    "import pandas as pd\n",
    "conn = sqlite3.connect('news_articles_2.sqlite')\n",
    "df = pd.read_sql('select * from news_articles', conn)"
   ]
  },
  {
   "cell_type": "code",
   "execution_count": 17,
   "metadata": {
    "ExecuteTime": {
     "end_time": "2020-06-29T01:16:57.695552Z",
     "start_time": "2020-06-29T01:16:57.683292Z"
    }
   },
   "outputs": [
    {
     "data": {
      "text/plain": [
       "36"
      ]
     },
     "execution_count": 17,
     "metadata": {},
     "output_type": "execute_result"
    }
   ],
   "source": [
    "len(df)"
   ]
  },
  {
   "cell_type": "code",
   "execution_count": 18,
   "metadata": {
    "ExecuteTime": {
     "end_time": "2020-06-29T01:17:02.503169Z",
     "start_time": "2020-06-29T01:17:00.218596Z"
    }
   },
   "outputs": [
    {
     "name": "stderr",
     "output_type": "stream",
     "text": [
      "[nltk_data] Downloading package stopwords to /Users/tapas/nltk_data...\n",
      "[nltk_data]   Package stopwords is already up-to-date!\n",
      "[nltk_data] Downloading package punkt to /Users/tapas/nltk_data...\n",
      "[nltk_data]   Package punkt is already up-to-date!\n"
     ]
    }
   ],
   "source": [
    "import nltk\n",
    "from nltk.corpus import stopwords\n",
    "nltk.download('stopwords')\n",
    "nltk.download('punkt')\n",
    "from nltk.stem.porter import PorterStemmer\n"
   ]
  },
  {
   "cell_type": "code",
   "execution_count": 19,
   "metadata": {
    "ExecuteTime": {
     "end_time": "2020-06-29T01:17:02.616395Z",
     "start_time": "2020-06-29T01:17:02.604495Z"
    }
   },
   "outputs": [],
   "source": [
    "#stop_words = stopwords.words('english')\n",
    "stop_words = ['i','me','my','myself','we','our','ours','ourselves','you','your','yours','yourself','yourselves',\n",
    "              'he','him','his','himself','she','her','hers','herself','it','its','itself','they','them','their',\n",
    "              'theirs','themselves','what','which','who','whom','this','that','these','those','am','is','are','was',\n",
    "              'were','be','been','being','have','has','had','having','do','does','did','doing','a','an','the','and',\n",
    "              'but','if','or','because','as','until','while','of','at','by','for','with','about','against','between',\n",
    "              'into','through','during','before','after','above','below','to','from','up','down','in','out','on','off'\n",
    "              ,'over','under','again','further','then','once','here','there','when','where','why','how','all','any',\n",
    "              'both','each','few','more','most','other','some','such','no','nor','not','only','own','same','so','than',\n",
    "              'too','very','s','t','can','will','just','don','should','now']"
   ]
  },
  {
   "cell_type": "code",
   "execution_count": 22,
   "metadata": {
    "ExecuteTime": {
     "end_time": "2020-06-29T01:17:28.892247Z",
     "start_time": "2020-06-29T01:17:28.885021Z"
    }
   },
   "outputs": [],
   "source": [
    "import re\n",
    "def remove_stop_words(content):\n",
    "    return [word for word in content if word not in stop_words]\n",
    "\n",
    "stemmer = PorterStemmer()\n",
    "\n",
    "def stem_words(text):\n",
    "    try:\n",
    "        #text = [stemmer.stem(word) for word in text]\n",
    "        text = [word for word in text if len(word) > 1]\n",
    "    except IndexError:\n",
    "        pass\n",
    "    return text\n",
    "\n",
    "def clean_text(text):\n",
    "    text = re.sub(\"[^a-zA-Z]\",\" \",text)\n",
    "    text = text.lower()\n",
    "    return text\n",
    "\n",
    "def apply_all(text):\n",
    "    return stem_words(remove_stop_words(nltk.word_tokenize(clean_text(text))))"
   ]
  },
  {
   "cell_type": "code",
   "execution_count": 23,
   "metadata": {
    "ExecuteTime": {
     "end_time": "2020-06-29T01:17:31.131109Z",
     "start_time": "2020-06-29T01:17:30.937824Z"
    }
   },
   "outputs": [],
   "source": [
    "df['tokenized_content'] = df.apply(lambda x : apply_all(x['content_full']),axis=1)"
   ]
  },
  {
   "cell_type": "code",
   "execution_count": 24,
   "metadata": {
    "ExecuteTime": {
     "end_time": "2020-06-29T01:17:34.281914Z",
     "start_time": "2020-06-29T01:17:34.258148Z"
    }
   },
   "outputs": [
    {
     "data": {
      "text/plain": [
       "0     [voting, mail, new, millions, americans, summe...\n",
       "1     [president, trump, determined, fight, efforts,...\n",
       "2     [less, five, months, election, day, surprising...\n",
       "3     [president, trump, persistent, attacks, mail, ...\n",
       "4     [tonya, riley, first, secretary, homeland, sec...\n",
       "5     [absentee, ballots, allow, voters, unable, go,...\n",
       "6     [fox, news, contributors, richard, fowler, cha...\n",
       "7     [trump, campaign, exploring, ways, get, back, ...\n",
       "8     [fox, news, sunday, anchor, chris, wallace, jo...\n",
       "9     [get, latest, news, coronavirus, delivered, da...\n",
       "10    [judge, jeanine, pirro, discusses, push, vote,...\n",
       "11    [speaker, pelosi, says, president, trump, beha...\n",
       "12    [federal, judge, cleared, way, tuesday, texas,...\n",
       "13    [last, week, president, trump, attacked, votin...\n",
       "14    [irony, lurking, underneath, threats, presiden...\n",
       "15    [federal, appeals, panel, thursday, rejected, ...\n",
       "16    [fox, news, contributors, richard, fowler, cha...\n",
       "17    [former, rep, darrell, issa, tells, fox, frien...\n",
       "18    [speaker, pelosi, says, president, trump, beha...\n",
       "19    [wednesday, morning, president, trump, threate...\n",
       "20    [president, trump, wednesday, escalated, campa...\n",
       "21    [tonya, riley, cybersecurity, publish, tuesday...\n",
       "22    [brent, griffiths, good, morning, power, peopl...\n",
       "23    [tonya, riley, note, readers, cybersecurity, p...\n",
       "24    [nearly, every, state, expands, capacity, abse...\n",
       "25    [tonya, riley, readers, cybersecurity, publish...\n",
       "26    [fox, news, contributors, richard, fowler, cha...\n",
       "27    [oregon, rep, greg, walden, one, stern, messag...\n",
       "28    [rnc, chair, ronna, mcdaniel, joins, fox, amp,...\n",
       "29    [get, latest, news, coronavirus, delivered, da...\n",
       "30    [judge, jeanine, pirro, discusses, push, vote,...\n",
       "31    [dan, henninger, wall, street, journal, weighs...\n",
       "32    [fox, news, flash, top, headlines, check, clic...\n",
       "33    [adam, laxalt, former, nevada, attorney, gener...\n",
       "34    [president, trump, warns, potential, massive, ...\n",
       "35                                      [sign, comment]\n",
       "Name: tokenized_content, dtype: object"
      ]
     },
     "execution_count": 24,
     "metadata": {},
     "output_type": "execute_result"
    }
   ],
   "source": [
    "df['tokenized_content']"
   ]
  },
  {
   "cell_type": "code",
   "execution_count": 25,
   "metadata": {
    "ExecuteTime": {
     "end_time": "2020-06-29T01:17:38.130175Z",
     "start_time": "2020-06-29T01:17:38.124903Z"
    }
   },
   "outputs": [],
   "source": [
    "all_words = [word for string in list(df['tokenized_content']) for word in string]"
   ]
  },
  {
   "cell_type": "code",
   "execution_count": 26,
   "metadata": {
    "ExecuteTime": {
     "end_time": "2020-06-29T01:17:39.951353Z",
     "start_time": "2020-06-29T01:17:39.931026Z"
    }
   },
   "outputs": [],
   "source": [
    "from nltk import FreqDist\n",
    "fdist = FreqDist(all_words)"
   ]
  },
  {
   "cell_type": "code",
   "execution_count": 27,
   "metadata": {
    "ExecuteTime": {
     "end_time": "2020-06-29T01:17:41.848725Z",
     "start_time": "2020-06-29T01:17:41.843093Z"
    }
   },
   "outputs": [
    {
     "data": {
      "text/plain": [
       "4336"
      ]
     },
     "execution_count": 27,
     "metadata": {},
     "output_type": "execute_result"
    }
   ],
   "source": [
    "len(fdist)"
   ]
  },
  {
   "cell_type": "code",
   "execution_count": 28,
   "metadata": {
    "ExecuteTime": {
     "end_time": "2020-06-29T01:17:43.860565Z",
     "start_time": "2020-06-29T01:17:43.850688Z"
    }
   },
   "outputs": [
    {
     "data": {
      "text/plain": [
       "fox-news               19\n",
       "the-washington-post    15\n",
       "usa-today               2\n",
       "Name: source_id, dtype: int64"
      ]
     },
     "execution_count": 28,
     "metadata": {},
     "output_type": "execute_result"
    }
   ],
   "source": [
    "df['source_id'].value_counts()"
   ]
  },
  {
   "cell_type": "code",
   "execution_count": 29,
   "metadata": {
    "ExecuteTime": {
     "end_time": "2020-06-29T01:17:48.740731Z",
     "start_time": "2020-06-29T01:17:48.733783Z"
    }
   },
   "outputs": [],
   "source": [
    "k = 200\n",
    "top_words = []\n",
    "for key,value in fdist.most_common(k):\n",
    "    top_words.append(key)"
   ]
  },
  {
   "cell_type": "code",
   "execution_count": 30,
   "metadata": {
    "ExecuteTime": {
     "end_time": "2020-06-29T01:17:50.990508Z",
     "start_time": "2020-06-29T01:17:50.982775Z"
    }
   },
   "outputs": [
    {
     "data": {
      "text/plain": [
       "{'absentee',\n",
       " 'according',\n",
       " 'allow',\n",
       " 'allowing',\n",
       " 'already',\n",
       " 'also',\n",
       " 'americans',\n",
       " 'amid',\n",
       " 'among',\n",
       " 'announced',\n",
       " 'app',\n",
       " 'applications',\n",
       " 'back',\n",
       " 'ballot',\n",
       " 'balloting',\n",
       " 'ballots',\n",
       " 'biery',\n",
       " 'california',\n",
       " 'campaign',\n",
       " 'case',\n",
       " 'cases',\n",
       " 'cast',\n",
       " 'claimed',\n",
       " 'claiming',\n",
       " 'claims',\n",
       " 'colorado',\n",
       " 'committee',\n",
       " 'concerns',\n",
       " 'coronavirus',\n",
       " 'could',\n",
       " 'county',\n",
       " 'court',\n",
       " 'cybersecurity',\n",
       " 'data',\n",
       " 'day',\n",
       " 'decision',\n",
       " 'democratic',\n",
       " 'democrats',\n",
       " 'doesn',\n",
       " 'due',\n",
       " 'efforts',\n",
       " 'election',\n",
       " 'elections',\n",
       " 'even',\n",
       " 'every',\n",
       " 'evidence',\n",
       " 'expand',\n",
       " 'experts',\n",
       " 'fact',\n",
       " 'federal',\n",
       " 'first',\n",
       " 'five',\n",
       " 'florida',\n",
       " 'former',\n",
       " 'fox',\n",
       " 'fraud',\n",
       " 'fraudulent',\n",
       " 'funding',\n",
       " 'general',\n",
       " 'get',\n",
       " 'go',\n",
       " 'going',\n",
       " 'gop',\n",
       " 'gov',\n",
       " 'governor',\n",
       " 'great',\n",
       " 'group',\n",
       " 'groups',\n",
       " 'health',\n",
       " 'hold',\n",
       " 'home',\n",
       " 'house',\n",
       " 'illegal',\n",
       " 'including',\n",
       " 'increase',\n",
       " 'integrity',\n",
       " 'judge',\n",
       " 'know',\n",
       " 'last',\n",
       " 'latest',\n",
       " 'law',\n",
       " 'lawsuit',\n",
       " 'lead',\n",
       " 'legal',\n",
       " 'less',\n",
       " 'like',\n",
       " 'likely',\n",
       " 'long',\n",
       " 'mail',\n",
       " 'mailed',\n",
       " 'make',\n",
       " 'many',\n",
       " 'may',\n",
       " 'michigan',\n",
       " 'million',\n",
       " 'millions',\n",
       " 'month',\n",
       " 'move',\n",
       " 'must',\n",
       " 'national',\n",
       " 'need',\n",
       " 'nevada',\n",
       " 'new',\n",
       " 'news',\n",
       " 'newsom',\n",
       " 'november',\n",
       " 'office',\n",
       " 'officials',\n",
       " 'older',\n",
       " 'one',\n",
       " 'order',\n",
       " 'oregon',\n",
       " 'pandemic',\n",
       " 'party',\n",
       " 'paxton',\n",
       " 'pelosi',\n",
       " 'people',\n",
       " 'percent',\n",
       " 'person',\n",
       " 'place',\n",
       " 'political',\n",
       " 'poll',\n",
       " 'polling',\n",
       " 'post',\n",
       " 'postal',\n",
       " 'potential',\n",
       " 'power',\n",
       " 'president',\n",
       " 'presidential',\n",
       " 'primary',\n",
       " 'process',\n",
       " 'public',\n",
       " 'put',\n",
       " 're',\n",
       " 'registered',\n",
       " 'report',\n",
       " 'reports',\n",
       " 'republican',\n",
       " 'republicans',\n",
       " 'request',\n",
       " 'results',\n",
       " 'right',\n",
       " 'risk',\n",
       " 'rnc',\n",
       " 'rolls',\n",
       " 'said',\n",
       " 'say',\n",
       " 'saying',\n",
       " 'secretary',\n",
       " 'security',\n",
       " 'send',\n",
       " 'sending',\n",
       " 'sent',\n",
       " 'service',\n",
       " 'several',\n",
       " 'sign',\n",
       " 'signature',\n",
       " 'since',\n",
       " 'state',\n",
       " 'states',\n",
       " 'still',\n",
       " 'support',\n",
       " 'supreme',\n",
       " 'system',\n",
       " 'take',\n",
       " 'texas',\n",
       " 'th',\n",
       " 'think',\n",
       " 'thousands',\n",
       " 'three',\n",
       " 'time',\n",
       " 'told',\n",
       " 'trump',\n",
       " 'trying',\n",
       " 'tuesday',\n",
       " 'tweet',\n",
       " 'tweeted',\n",
       " 'tweets',\n",
       " 'twitter',\n",
       " 'two',\n",
       " 'vote',\n",
       " 'voted',\n",
       " 'voter',\n",
       " 'voters',\n",
       " 'votes',\n",
       " 'voting',\n",
       " 'want',\n",
       " 'washington',\n",
       " 'way',\n",
       " 'wednesday',\n",
       " 'well',\n",
       " 'whether',\n",
       " 'widespread',\n",
       " 'wisconsin',\n",
       " 'without',\n",
       " 'work',\n",
       " 'would',\n",
       " 'wrote',\n",
       " 'year',\n",
       " 'years'}"
      ]
     },
     "execution_count": 30,
     "metadata": {},
     "output_type": "execute_result"
    }
   ],
   "source": [
    "top_k_words = set(top_words)\n",
    "top_k_words"
   ]
  },
  {
   "cell_type": "code",
   "execution_count": 31,
   "metadata": {
    "ExecuteTime": {
     "end_time": "2020-06-29T01:17:55.383408Z",
     "start_time": "2020-06-29T01:17:55.379615Z"
    }
   },
   "outputs": [],
   "source": [
    "def keep_top_k_words(text):\n",
    "    return [word for word in text if word in top_k_words]"
   ]
  },
  {
   "cell_type": "code",
   "execution_count": 32,
   "metadata": {
    "ExecuteTime": {
     "end_time": "2020-06-29T01:17:57.588499Z",
     "start_time": "2020-06-29T01:17:57.581604Z"
    }
   },
   "outputs": [],
   "source": [
    "df['tokenized_content'] = df['tokenized_content'].apply(keep_top_k_words)"
   ]
  },
  {
   "cell_type": "code",
   "execution_count": 33,
   "metadata": {
    "ExecuteTime": {
     "end_time": "2020-06-29T01:17:59.273973Z",
     "start_time": "2020-06-29T01:17:59.257913Z"
    }
   },
   "outputs": [
    {
     "data": {
      "text/plain": [
       "0     [voting, mail, new, millions, americans, state...\n",
       "1     [president, trump, efforts, voting, mail, nove...\n",
       "2     [less, five, election, day, mail, balloting, p...\n",
       "3     [president, trump, mail, voting, november, ele...\n",
       "4     [first, secretary, security, president, trump,...\n",
       "5     [absentee, ballots, allow, voters, go, electio...\n",
       "6     [fox, news, president, trump, states, expand, ...\n",
       "7     [trump, campaign, get, back, order, re, five, ...\n",
       "8     [fox, news, president, trump, court, states, e...\n",
       "9     [get, latest, news, coronavirus, sign, mail, v...\n",
       "10    [judge, vote, mail, get, latest, news, coronav...\n",
       "11    [pelosi, president, trump, many, like, get, la...\n",
       "12    [federal, judge, way, tuesday, texas, voters, ...\n",
       "13    [last, president, trump, voting, mail, federal...\n",
       "14    [president, trump, states, trying, vote, mail,...\n",
       "15    [federal, court, decision, allow, texas, voter...\n",
       "16    [fox, news, get, latest, news, coronavirus, si...\n",
       "17    [former, fox, california, gov, newsom, order, ...\n",
       "18    [pelosi, president, trump, many, like, get, la...\n",
       "19    [wednesday, president, trump, michigan, nevada...\n",
       "Name: tokenized_content, dtype: object"
      ]
     },
     "execution_count": 33,
     "metadata": {},
     "output_type": "execute_result"
    }
   ],
   "source": [
    "df['tokenized_content'].head(20)"
   ]
  },
  {
   "cell_type": "code",
   "execution_count": 34,
   "metadata": {
    "ExecuteTime": {
     "end_time": "2020-06-29T01:18:02.092201Z",
     "start_time": "2020-06-29T01:18:02.082258Z"
    }
   },
   "outputs": [
    {
     "data": {
      "text/plain": [
       "array([ True,  True,  True,  True, False,  True,  True,  True,  True,\n",
       "        True,  True,  True, False,  True,  True, False, False,  True,\n",
       "        True,  True,  True,  True,  True,  True,  True,  True,  True,\n",
       "        True,  True,  True, False,  True,  True,  True,  True,  True])"
      ]
     },
     "execution_count": 34,
     "metadata": {},
     "output_type": "execute_result"
    }
   ],
   "source": [
    "mask = np.random.rand(len(df)) < 0.80\n",
    "mask"
   ]
  },
  {
   "cell_type": "code",
   "execution_count": 35,
   "metadata": {
    "ExecuteTime": {
     "end_time": "2020-06-29T01:18:04.175360Z",
     "start_time": "2020-06-29T01:18:04.168212Z"
    }
   },
   "outputs": [],
   "source": [
    "mask\n",
    "train_df = df[mask]\n",
    "train_df.reset_index(drop=True,inplace=True)\n",
    "\n",
    "test_df = df[~mask]\n",
    "test_df.reset_index(drop=True,inplace=True)"
   ]
  },
  {
   "cell_type": "code",
   "execution_count": 2,
   "metadata": {
    "ExecuteTime": {
     "end_time": "2020-07-10T00:18:32.119925Z",
     "start_time": "2020-07-10T00:18:32.110508Z"
    }
   },
   "outputs": [
    {
     "ename": "NameError",
     "evalue": "name 'test_df' is not defined",
     "output_type": "error",
     "traceback": [
      "\u001b[0;31m---------------------------------------------------------------------------\u001b[0m",
      "\u001b[0;31mNameError\u001b[0m                                 Traceback (most recent call last)",
      "\u001b[0;32m<ipython-input-2-83bfee56fd6a>\u001b[0m in \u001b[0;36m<module>\u001b[0;34m\u001b[0m\n\u001b[0;32m----> 1\u001b[0;31m \u001b[0mlen\u001b[0m\u001b[0;34m(\u001b[0m\u001b[0mtest_df\u001b[0m\u001b[0;34m)\u001b[0m\u001b[0;34m\u001b[0m\u001b[0;34m\u001b[0m\u001b[0m\n\u001b[0m",
      "\u001b[0;31mNameError\u001b[0m: name 'test_df' is not defined"
     ]
    }
   ],
   "source": [
    "len(test_df)"
   ]
  },
  {
   "cell_type": "code",
   "execution_count": 37,
   "metadata": {
    "ExecuteTime": {
     "end_time": "2020-06-29T01:18:15.238495Z",
     "start_time": "2020-06-29T01:18:15.219598Z"
    }
   },
   "outputs": [],
   "source": [
    "from gensim.models import LdaModel\n",
    "from gensim import models, corpora, similarities\n",
    "\n",
    "num_topics = 5\n",
    "dictionary = corpora.Dictionary(df['tokenized_content'])\n",
    "corpus = [dictionary.doc2bow(doc) for doc in df['tokenized_content']]"
   ]
  },
  {
   "cell_type": "code",
   "execution_count": 99,
   "metadata": {
    "ExecuteTime": {
     "end_time": "2020-06-29T20:14:20.942468Z",
     "start_time": "2020-06-29T20:14:20.245076Z"
    }
   },
   "outputs": [],
   "source": [
    "lda = LdaModel(corpus=corpus,num_topics=num_topics,id2word=dictionary,alpha=0.5e-2,eta=0.5e-2,minimum_probability=0.0,passes=10)"
   ]
  },
  {
   "cell_type": "code",
   "execution_count": 100,
   "metadata": {
    "ExecuteTime": {
     "end_time": "2020-06-29T20:14:23.686855Z",
     "start_time": "2020-06-29T20:14:23.677517Z"
    }
   },
   "outputs": [
    {
     "data": {
      "text/plain": [
       "[(0,\n",
       "  '0.032*\"mail\" + 0.029*\"voting\" + 0.028*\"said\" + 0.026*\"state\" + 0.019*\"trump\" + 0.016*\"vote\" + 0.015*\"president\" + 0.015*\"election\" + 0.015*\"ballots\" + 0.015*\"voters\" + 0.014*\"fraud\" + 0.014*\"states\" + 0.013*\"coronavirus\" + 0.012*\"voter\" + 0.012*\"pandemic\" + 0.011*\"would\" + 0.010*\"also\" + 0.009*\"elections\" + 0.009*\"news\" + 0.009*\"ballot\"'),\n",
       " (1,\n",
       "  '0.040*\"mail\" + 0.037*\"also\" + 0.034*\"twitter\" + 0.030*\"cybersecurity\" + 0.028*\"reports\" + 0.024*\"said\" + 0.023*\"data\" + 0.022*\"news\" + 0.021*\"new\" + 0.021*\"trump\" + 0.020*\"voting\" + 0.020*\"ballots\" + 0.020*\"president\" + 0.019*\"republican\" + 0.019*\"state\" + 0.018*\"democratic\" + 0.017*\"voters\" + 0.016*\"coronavirus\" + 0.016*\"fact\" + 0.014*\"states\"'),\n",
       " (2,\n",
       "  '0.057*\"mail\" + 0.048*\"voting\" + 0.035*\"states\" + 0.035*\"election\" + 0.031*\"ballots\" + 0.030*\"vote\" + 0.026*\"said\" + 0.023*\"voters\" + 0.023*\"state\" + 0.022*\"ballot\" + 0.022*\"fraud\" + 0.021*\"voter\" + 0.020*\"elections\" + 0.012*\"pandemic\" + 0.012*\"people\" + 0.011*\"right\" + 0.011*\"officials\" + 0.010*\"trump\" + 0.010*\"absentee\" + 0.010*\"court\"'),\n",
       " (3,\n",
       "  '0.042*\"mail\" + 0.034*\"voting\" + 0.031*\"ballots\" + 0.030*\"coronavirus\" + 0.027*\"said\" + 0.026*\"service\" + 0.025*\"vote\" + 0.023*\"voters\" + 0.022*\"order\" + 0.021*\"pelosi\" + 0.021*\"news\" + 0.021*\"newsom\" + 0.020*\"trump\" + 0.020*\"texas\" + 0.019*\"postal\" + 0.018*\"president\" + 0.016*\"democrats\" + 0.014*\"elections\" + 0.014*\"fox\" + 0.013*\"states\"'),\n",
       " (4,\n",
       "  '0.047*\"mail\" + 0.038*\"trump\" + 0.030*\"state\" + 0.025*\"voting\" + 0.025*\"ballots\" + 0.024*\"voters\" + 0.020*\"election\" + 0.020*\"vote\" + 0.018*\"fraud\" + 0.018*\"president\" + 0.017*\"absentee\" + 0.017*\"democrats\" + 0.016*\"said\" + 0.016*\"voter\" + 0.015*\"states\" + 0.015*\"michigan\" + 0.014*\"republican\" + 0.012*\"ballot\" + 0.012*\"percent\" + 0.011*\"campaign\"')]"
      ]
     },
     "execution_count": 100,
     "metadata": {},
     "output_type": "execute_result"
    }
   ],
   "source": [
    "lda.show_topics(num_topics=5,num_words=20)"
   ]
  },
  {
   "cell_type": "code",
   "execution_count": 428,
   "metadata": {
    "ExecuteTime": {
     "end_time": "2020-06-18T22:06:22.624052Z",
     "start_time": "2020-06-18T22:06:22.617264Z"
    }
   },
   "outputs": [
    {
     "data": {
      "text/plain": [
       "[('mail', 0.066615045),\n",
       " ('voting', 0.044344146),\n",
       " ('ballots', 0.042764198),\n",
       " ('vote', 0.040560756),\n",
       " ('voters', 0.032633048),\n",
       " ('election', 0.025300983),\n",
       " ('states', 0.023398498),\n",
       " ('california', 0.022721468),\n",
       " ('state', 0.022559104),\n",
       " ('democrats', 0.017593669),\n",
       " ('right', 0.016377069),\n",
       " ('newsom', 0.0163342),\n",
       " ('coronavirus', 0.016304892),\n",
       " ('voter', 0.014330167),\n",
       " ('elections', 0.013514772),\n",
       " ('ballot', 0.013232665),\n",
       " ('said', 0.013208418),\n",
       " ('order', 0.013055019),\n",
       " ('fraud', 0.012634765),\n",
       " ('news', 0.012319105)]"
      ]
     },
     "execution_count": 428,
     "metadata": {},
     "output_type": "execute_result"
    }
   ],
   "source": [
    "lda.show_topic(topicid=3,topn=20)"
   ]
  },
  {
   "cell_type": "code",
   "execution_count": 429,
   "metadata": {
    "ExecuteTime": {
     "end_time": "2020-06-18T22:06:26.105442Z",
     "start_time": "2020-06-18T22:06:26.098631Z"
    }
   },
   "outputs": [
    {
     "data": {
      "text/plain": [
       "[('trump', 0.042466592),\n",
       " ('mail', 0.03643438),\n",
       " ('state', 0.033681586),\n",
       " ('ballots', 0.024219157),\n",
       " ('voters', 0.023661857),\n",
       " ('election', 0.0217962),\n",
       " ('voting', 0.020539721),\n",
       " ('president', 0.020129776),\n",
       " ('fraud', 0.01975514),\n",
       " ('absentee', 0.01948126),\n",
       " ('states', 0.017411655),\n",
       " ('michigan', 0.016563272),\n",
       " ('voter', 0.016320178),\n",
       " ('said', 0.015854042),\n",
       " ('republican', 0.014262533),\n",
       " ('ballot', 0.013745778),\n",
       " ('percent', 0.013638309),\n",
       " ('vote', 0.013444426),\n",
       " ('democrats', 0.0127053),\n",
       " ('november', 0.011384373)]"
      ]
     },
     "execution_count": 429,
     "metadata": {},
     "output_type": "execute_result"
    }
   ],
   "source": [
    "lda.show_topic(topicid=2,topn=20)"
   ]
  },
  {
   "cell_type": "code",
   "execution_count": 431,
   "metadata": {
    "ExecuteTime": {
     "end_time": "2020-06-18T22:06:39.456261Z",
     "start_time": "2020-06-18T22:06:39.450895Z"
    }
   },
   "outputs": [
    {
     "data": {
      "text/plain": [
       "36"
      ]
     },
     "execution_count": 431,
     "metadata": {},
     "output_type": "execute_result"
    }
   ],
   "source": [
    "len(df)"
   ]
  },
  {
   "cell_type": "code",
   "execution_count": null,
   "metadata": {
    "ExecuteTime": {
     "end_time": "2020-06-18T21:00:40.671064Z",
     "start_time": "2020-06-18T21:00:34.308Z"
    }
   },
   "outputs": [],
   "source": [
    "pd.options.display.max_rows = 4000"
   ]
  },
  {
   "cell_type": "code",
   "execution_count": 432,
   "metadata": {
    "ExecuteTime": {
     "end_time": "2020-06-18T22:06:46.793241Z",
     "start_time": "2020-06-18T22:06:46.782354Z"
    }
   },
   "outputs": [
    {
     "name": "stdout",
     "output_type": "stream",
     "text": [
      "                                                title            source_id  \\\n",
      "0        What voting by mail looks like when it works  the-washington-post   \n",
      "1   Examining the arguments against voting by mail...  the-washington-post   \n",
      "2   Coronavirus makes voting by mail even more imp...            usa-today   \n",
      "3   As Trump attacks voting by mail, GOP builds 20...  the-washington-post   \n",
      "4   The Cybersecurity 202: First DHS chief Tom Rid...  the-washington-post   \n",
      "5   Widespread voting by mail poses risks of disen...            usa-today   \n",
      "6   Trump charges voting by mail will result in ‘r...             fox-news   \n",
      "7   As Trump lashes out at push to expand voting b...             fox-news   \n",
      "8   Nearly two-thirds favor voting by mail, but wi...             fox-news   \n",
      "9   Texas Lt. Gov. Dan Patrick: Mail-in voting is ...             fox-news   \n",
      "10  Ruling that would expand Texas mail-in voting ...             fox-news   \n",
      "11  Pelosi touts $3.6B vote-by-mail bill, now call...             fox-news   \n",
      "12  Texans fearful of contracting the coronavirus ...  the-washington-post   \n",
      "13  There’s no right to vote by mail. New lawsuits...  the-washington-post   \n",
      "14  Democratic vote-by-mail efforts would actually...  the-washington-post   \n",
      "15  In win for Texas GOP officials, federal appeal...  the-washington-post   \n",
      "16  Darrell Issa, Judicial Watch challenge Newsom'...             fox-news   \n",
      "17  GOP sues California Gov. Newsom, claims vote-b...             fox-news   \n",
      "18  Pelosi touts $3.6B vote-by-mail bill, now call...             fox-news   \n",
      "19  Trump’s bogus attacks on mail-in voting could ...  the-washington-post   \n",
      "20  Trump threatens funding for Michigan, Nevada o...  the-washington-post   \n",
      "21  The Cybersecurity 202: Twitter’s action gives ...  the-washington-post   \n",
      "22  Power Up: Trump’s inaccurate claims about mail...  the-washington-post   \n",
      "23  The Cybersecurity 202: GOP launches its bigges...  the-washington-post   \n",
      "24  Minuscule number of potentially fraudulent bal...  the-washington-post   \n",
      "25  The Cybersecurity 202: Trump is trying to make...  the-washington-post   \n",
      "26  Trump charges voting by mail will result in ‘r...             fox-news   \n",
      "27  Senate Democrat: Mail-in ballots needed becaus...             fox-news   \n",
      "28  Ronna McDaniel rips California's mail-in votin...             fox-news   \n",
      "29  Texas Lt. Gov. Dan Patrick: Mail-in voting is ...             fox-news   \n",
      "30  Ruling that would expand Texas mail-in voting ...             fox-news   \n",
      "31  Trump threatens to hold back funding over 'rog...             fox-news   \n",
      "32  Judge ramps up Texas mail-in voting amid coron...             fox-news   \n",
      "33  Ex-Nevada AG describes ballots 'piled up in ap...             fox-news   \n",
      "34  Texas Lt. Gov. Patrick bashes Twitter, Dems ov...             fox-news   \n",
      "35  President Trump blasts governors over nursing ...             fox-news   \n",
      "\n",
      "                                                  url  \n",
      "0   https://www.washingtonpost.com/politics/2020/0...  \n",
      "1   https://www.washingtonpost.com/politics/2020/0...  \n",
      "2   https://www.usatoday.com/story/opinion/todaysd...  \n",
      "3   https://www.washingtonpost.com/politics/as-tru...  \n",
      "4   https://www.washingtonpost.com/news/powerpost/...  \n",
      "5   https://www.usatoday.com/story/opinion/todaysd...  \n",
      "6   https://www.foxnews.com/politics/trump-charges...  \n",
      "7   https://www.foxnews.com/politics/trump-lashes-...  \n",
      "8   https://www.foxnews.com/politics/favor-voting-...  \n",
      "9   https://www.foxnews.com/media/dan-patrick-demo...  \n",
      "10  https://www.foxnews.com/politics/texas-mail-in...  \n",
      "11  https://www.foxnews.com/media/pelosi-touts-3-6...  \n",
      "12  https://www.washingtonpost.com/nation/2020/05/...  \n",
      "13  https://www.washingtonpost.com/politics/2020/0...  \n",
      "14  https://www.washingtonpost.com/opinions/2020/0...  \n",
      "15  https://www.washingtonpost.com/politics/in-win...  \n",
      "16  https://www.foxnews.com/politics/darrell-issa-...  \n",
      "17  https://www.foxnews.com/politics/gop-sues-cali...  \n",
      "18  https://www.foxnews.com/media/pelosi-touts-3-6...  \n",
      "19  https://www.washingtonpost.com/outlook/2020/05...  \n",
      "20  https://www.washingtonpost.com/politics/trump-...  \n",
      "21  https://www.washingtonpost.com/politics/the-cy...  \n",
      "22  https://www.washingtonpost.com/news/powerpost/...  \n",
      "23  https://www.washingtonpost.com/news/powerpost/...  \n",
      "24  https://www.washingtonpost.com/politics/minusc...  \n",
      "25  https://www.washingtonpost.com/politics/the-cy...  \n",
      "26  https://www.foxnews.com/politics/trump-charges...  \n",
      "27  https://www.foxnews.com/media/merkley-mail-in-...  \n",
      "28  https://www.foxnews.com/media/ronna-mcdaniel-c...  \n",
      "29  https://www.foxnews.com/media/dan-patrick-demo...  \n",
      "30  https://www.foxnews.com/politics/texas-mail-in...  \n",
      "31  https://www.foxnews.com/politics/trump-threate...  \n",
      "32  https://www.foxnews.com/politics/judge-ramps-u...  \n",
      "33  https://www.foxnews.com/media/nevada-adam-laxa...  \n",
      "34  https://www.foxnews.com/media/dan-patrick-mail...  \n",
      "35          http://video.foxnews.com/v/6159369992001/  \n"
     ]
    }
   ],
   "source": [
    "print(df[['title','source_id','url']])"
   ]
  },
  {
   "cell_type": "code",
   "execution_count": 326,
   "metadata": {
    "ExecuteTime": {
     "end_time": "2020-06-18T20:36:21.143605Z",
     "start_time": "2020-06-18T20:36:21.121117Z"
    }
   },
   "outputs": [
    {
     "data": {
      "text/html": [
       "<div>\n",
       "<style scoped>\n",
       "    .dataframe tbody tr th:only-of-type {\n",
       "        vertical-align: middle;\n",
       "    }\n",
       "\n",
       "    .dataframe tbody tr th {\n",
       "        vertical-align: top;\n",
       "    }\n",
       "\n",
       "    .dataframe thead th {\n",
       "        text-align: right;\n",
       "    }\n",
       "</style>\n",
       "<table border=\"1\" class=\"dataframe\">\n",
       "  <thead>\n",
       "    <tr style=\"text-align: right;\">\n",
       "      <th></th>\n",
       "      <th>source_id</th>\n",
       "      <th>title</th>\n",
       "      <th>url</th>\n",
       "      <th>content</th>\n",
       "      <th>content_full</th>\n",
       "      <th>tokenized_content</th>\n",
       "    </tr>\n",
       "  </thead>\n",
       "  <tbody>\n",
       "    <tr>\n",
       "      <th>0</th>\n",
       "      <td>the-washington-post</td>\n",
       "      <td>What voting by mail looks like when it works</td>\n",
       "      <td>https://www.washingtonpost.com/politics/2020/0...</td>\n",
       "      <td>Examining the arguments against vote by mail: ...</td>\n",
       "      <td>Voting by mail will be new to millions of Amer...</td>\n",
       "      <td>[voting, mail, new, millions, americans, state...</td>\n",
       "    </tr>\n",
       "    <tr>\n",
       "      <th>1</th>\n",
       "      <td>the-washington-post</td>\n",
       "      <td>Examining the arguments against voting by mail...</td>\n",
       "      <td>https://www.washingtonpost.com/politics/2020/0...</td>\n",
       "      <td>Breaking: Michigan sends absentee ballots to 7...</td>\n",
       "      <td>President Trump is determined to fight against...</td>\n",
       "      <td>[president, trump, efforts, voting, mail, nove...</td>\n",
       "    </tr>\n",
       "    <tr>\n",
       "      <th>2</th>\n",
       "      <td>usa-today</td>\n",
       "      <td>Coronavirus makes voting by mail even more imp...</td>\n",
       "      <td>https://www.usatoday.com/story/opinion/todaysd...</td>\n",
       "      <td>Donald Trump votes by mail, the practice dates...</td>\n",
       "      <td>Less than five months until Election Day, ther...</td>\n",
       "      <td>[less, five, election, day, mail, balloting, p...</td>\n",
       "    </tr>\n",
       "    <tr>\n",
       "      <th>3</th>\n",
       "      <td>the-washington-post</td>\n",
       "      <td>As Trump attacks voting by mail, GOP builds 20...</td>\n",
       "      <td>https://www.washingtonpost.com/politics/as-tru...</td>\n",
       "      <td>Helping drive the effort is William Consovoy, ...</td>\n",
       "      <td>President Trump’s persistent attacks on mail-i...</td>\n",
       "      <td>[president, trump, mail, voting, november, ele...</td>\n",
       "    </tr>\n",
       "    <tr>\n",
       "      <th>4</th>\n",
       "      <td>the-washington-post</td>\n",
       "      <td>The Cybersecurity 202: First DHS chief Tom Rid...</td>\n",
       "      <td>https://www.washingtonpost.com/news/powerpost/...</td>\n",
       "      <td>None</td>\n",
       "      <td>with Tonya Riley\\nThe first secretary of Homel...</td>\n",
       "      <td>[first, secretary, security, president, trump,...</td>\n",
       "    </tr>\n",
       "  </tbody>\n",
       "</table>\n",
       "</div>"
      ],
      "text/plain": [
       "             source_id                                              title  \\\n",
       "0  the-washington-post       What voting by mail looks like when it works   \n",
       "1  the-washington-post  Examining the arguments against voting by mail...   \n",
       "2            usa-today  Coronavirus makes voting by mail even more imp...   \n",
       "3  the-washington-post  As Trump attacks voting by mail, GOP builds 20...   \n",
       "4  the-washington-post  The Cybersecurity 202: First DHS chief Tom Rid...   \n",
       "\n",
       "                                                 url  \\\n",
       "0  https://www.washingtonpost.com/politics/2020/0...   \n",
       "1  https://www.washingtonpost.com/politics/2020/0...   \n",
       "2  https://www.usatoday.com/story/opinion/todaysd...   \n",
       "3  https://www.washingtonpost.com/politics/as-tru...   \n",
       "4  https://www.washingtonpost.com/news/powerpost/...   \n",
       "\n",
       "                                             content  \\\n",
       "0  Examining the arguments against vote by mail: ...   \n",
       "1  Breaking: Michigan sends absentee ballots to 7...   \n",
       "2  Donald Trump votes by mail, the practice dates...   \n",
       "3  Helping drive the effort is William Consovoy, ...   \n",
       "4                                               None   \n",
       "\n",
       "                                        content_full  \\\n",
       "0  Voting by mail will be new to millions of Amer...   \n",
       "1  President Trump is determined to fight against...   \n",
       "2  Less than five months until Election Day, ther...   \n",
       "3  President Trump’s persistent attacks on mail-i...   \n",
       "4  with Tonya Riley\\nThe first secretary of Homel...   \n",
       "\n",
       "                                   tokenized_content  \n",
       "0  [voting, mail, new, millions, americans, state...  \n",
       "1  [president, trump, efforts, voting, mail, nove...  \n",
       "2  [less, five, election, day, mail, balloting, p...  \n",
       "3  [president, trump, mail, voting, november, ele...  \n",
       "4  [first, secretary, security, president, trump,...  "
      ]
     },
     "execution_count": 326,
     "metadata": {},
     "output_type": "execute_result"
    }
   ],
   "source": [
    "train_df.head()"
   ]
  },
  {
   "cell_type": "code",
   "execution_count": 348,
   "metadata": {
    "ExecuteTime": {
     "end_time": "2020-06-18T20:50:02.478920Z",
     "start_time": "2020-06-18T20:50:02.471633Z"
    }
   },
   "outputs": [],
   "source": []
  },
  {
   "cell_type": "code",
   "execution_count": 349,
   "metadata": {
    "ExecuteTime": {
     "end_time": "2020-06-18T20:50:04.459648Z",
     "start_time": "2020-06-18T20:50:04.255458Z"
    },
    "scrolled": true
   },
   "outputs": [
    {
     "data": {
      "image/png": "[encoded data removed]",
      "text/plain": [
       "<Figure size 864x432 with 1 Axes>"
      ]
     },
     "metadata": {
      "needs_background": "light"
     },
     "output_type": "display_data"
    }
   ],
   "source": [
    "import matplotlib.pyplot as plt\n",
    "\n",
    "bow = dictionary.doc2bow(df.iloc[1,5])\n",
    "doc_distribution = np.array([tup[1] for tup in lda.get_document_topics(bow=bow)])\n",
    "# bar plot of topic distribution for this document\n",
    "fig, ax = plt.subplots(figsize=(12,6));\n",
    "# the histogram of the data\n",
    "patches = ax.bar(np.arange(len(doc_distribution)), doc_distribution)\n",
    "ax.set_xlabel('Topic ID', fontsize=15)\n",
    "ax.set_ylabel('Topic Contribution', fontsize=15)\n",
    "ax.set_title(\"Topic Distribution for Article \" + \"Washingtonpost_index_1\", fontsize=20)\n",
    "ax.set_xticks(np.linspace(1,20,20))\n",
    "fig.tight_layout()\n",
    "plt.show()"
   ]
  },
  {
   "cell_type": "code",
   "execution_count": 350,
   "metadata": {
    "ExecuteTime": {
     "end_time": "2020-06-18T20:50:35.931426Z",
     "start_time": "2020-06-18T20:50:35.735046Z"
    }
   },
   "outputs": [
    {
     "data": {
      "image/png": "[encoded data removed]",
      "text/plain": [
       "<Figure size 864x432 with 1 Axes>"
      ]
     },
     "metadata": {
      "needs_background": "light"
     },
     "output_type": "display_data"
    }
   ],
   "source": [
    "bow = dictionary.doc2bow(df.iloc[6,5])\n",
    "doc_distribution = np.array([tup[1] for tup in lda.get_document_topics(bow=bow)])\n",
    "\n",
    "import matplotlib.pyplot as plt\n",
    "# bar plot of topic distribution for this document\n",
    "fig, ax = plt.subplots(figsize=(12,6));\n",
    "# the histogram of the data\n",
    "patches = ax.bar(np.arange(len(doc_distribution)), doc_distribution)\n",
    "ax.set_xlabel('Topic ID', fontsize=15)\n",
    "ax.set_ylabel('Topic Contribution', fontsize=15)\n",
    "ax.set_title(\"Topic Distribution for Article \" + \"Fox News Index 6\", fontsize=20)\n",
    "ax.set_xticks(np.linspace(1,20,20))\n",
    "fig.tight_layout()\n",
    "plt.show()"
   ]
  },
  {
   "cell_type": "markdown",
   "metadata": {},
   "source": [
    "## Looks like Topic 3 is pro voting in mail(washington post), while Topic 2,4 are critical of them(fox news)"
   ]
  },
  {
   "cell_type": "code",
   "execution_count": 370,
   "metadata": {
    "ExecuteTime": {
     "end_time": "2020-06-18T21:04:28.391869Z",
     "start_time": "2020-06-18T21:04:28.195691Z"
    }
   },
   "outputs": [
    {
     "data": {
      "image/png": "[encoded data removed]",
      "text/plain": [
       "<Figure size 864x432 with 1 Axes>"
      ]
     },
     "metadata": {
      "needs_background": "light"
     },
     "output_type": "display_data"
    }
   ],
   "source": [
    "bow = dictionary.doc2bow(df.iloc[23,5])\n",
    "doc_distribution = np.array([tup[1] for tup in lda.get_document_topics(bow=bow)])\n",
    "\n",
    "import matplotlib.pyplot as plt\n",
    "# bar plot of topic distribution for this document\n",
    "fig, ax = plt.subplots(figsize=(12,6));\n",
    "# the histogram of the data\n",
    "patches = ax.bar(np.arange(len(doc_distribution)), doc_distribution)\n",
    "ax.set_xlabel('Topic ID', fontsize=15)\n",
    "ax.set_ylabel('Topic Contribution', fontsize=15)\n",
    "ax.set_title(\"Topic Distribution for Article \" + \"Fox News Index 23\", fontsize=20)\n",
    "ax.set_xticks(np.linspace(1,20,20))\n",
    "fig.tight_layout()\n",
    "plt.show()"
   ]
  },
  {
   "cell_type": "code",
   "execution_count": 371,
   "metadata": {
    "ExecuteTime": {
     "end_time": "2020-06-18T21:07:44.992331Z",
     "start_time": "2020-06-18T21:07:44.793030Z"
    }
   },
   "outputs": [
    {
     "data": {
      "image/png": "[encoded data removed]",
      "text/plain": [
       "<Figure size 864x432 with 1 Axes>"
      ]
     },
     "metadata": {
      "needs_background": "light"
     },
     "output_type": "display_data"
    }
   ],
   "source": [
    "import matplotlib.pyplot as plt\n",
    "\n",
    "bow = dictionary.doc2bow(df.iloc[19,5])\n",
    "doc_distribution = np.array([tup[1] for tup in lda.get_document_topics(bow=bow)])\n",
    "# bar plot of topic distribution for this document\n",
    "fig, ax = plt.subplots(figsize=(12,6));\n",
    "# the histogram of the data\n",
    "patches = ax.bar(np.arange(len(doc_distribution)), doc_distribution)\n",
    "ax.set_xlabel('Topic ID', fontsize=15)\n",
    "ax.set_ylabel('Topic Contribution', fontsize=15)\n",
    "ax.set_title(\"Topic Distribution for Article \" + \"Washingtonpost_index_19\", fontsize=20)\n",
    "ax.set_xticks(np.linspace(1,20,20))\n",
    "fig.tight_layout()\n",
    "plt.show()"
   ]
  },
  {
   "cell_type": "code",
   "execution_count": 372,
   "metadata": {
    "ExecuteTime": {
     "end_time": "2020-06-18T21:08:34.480676Z",
     "start_time": "2020-06-18T21:08:34.298339Z"
    }
   },
   "outputs": [
    {
     "data": {
      "image/png": "[encoded data removed]",
      "text/plain": [
       "<Figure size 864x432 with 1 Axes>"
      ]
     },
     "metadata": {
      "needs_background": "light"
     },
     "output_type": "display_data"
    }
   ],
   "source": [
    "bow = dictionary.doc2bow(df.iloc[16,5])\n",
    "doc_distribution = np.array([tup[1] for tup in lda.get_document_topics(bow=bow)])\n",
    "\n",
    "import matplotlib.pyplot as plt\n",
    "# bar plot of topic distribution for this document\n",
    "fig, ax = plt.subplots(figsize=(12,6));\n",
    "# the histogram of the data\n",
    "patches = ax.bar(np.arange(len(doc_distribution)), doc_distribution)\n",
    "ax.set_xlabel('Topic ID', fontsize=15)\n",
    "ax.set_ylabel('Topic Contribution', fontsize=15)\n",
    "ax.set_title(\"Topic Distribution for Article \" + \"Fox News Index 16\", fontsize=20)\n",
    "ax.set_xticks(np.linspace(1,20,20))\n",
    "fig.tight_layout()\n",
    "plt.show()"
   ]
  },
  {
   "cell_type": "code",
   "execution_count": 374,
   "metadata": {
    "ExecuteTime": {
     "end_time": "2020-06-18T21:10:00.854162Z",
     "start_time": "2020-06-18T21:10:00.664051Z"
    }
   },
   "outputs": [
    {
     "data": {
      "image/png": "[encoded data removed]",
      "text/plain": [
       "<Figure size 864x432 with 1 Axes>"
      ]
     },
     "metadata": {
      "needs_background": "light"
     },
     "output_type": "display_data"
    }
   ],
   "source": [
    "import matplotlib.pyplot as plt\n",
    "\n",
    "bow = dictionary.doc2bow(df.iloc[12,5])\n",
    "doc_distribution = np.array([tup[1] for tup in lda.get_document_topics(bow=bow)])\n",
    "# bar plot of topic distribution for this document\n",
    "fig, ax = plt.subplots(figsize=(12,6));\n",
    "# the histogram of the data\n",
    "patches = ax.bar(np.arange(len(doc_distribution)), doc_distribution)\n",
    "ax.set_xlabel('Topic ID', fontsize=15)\n",
    "ax.set_ylabel('Topic Contribution', fontsize=15)\n",
    "ax.set_title(\"Topic Distribution for Article \" + \"Washingtonpost_index_12\", fontsize=20)\n",
    "ax.set_xticks(np.linspace(1,20,20))\n",
    "fig.tight_layout()\n",
    "plt.show()"
   ]
  },
  {
   "cell_type": "code",
   "execution_count": 433,
   "metadata": {
    "ExecuteTime": {
     "end_time": "2020-06-18T22:08:17.961562Z",
     "start_time": "2020-06-18T22:08:17.954433Z"
    }
   },
   "outputs": [
    {
     "name": "stdout",
     "output_type": "stream",
     "text": [
      "4 [('mail', 0.052834578), ('voting', 0.03348872), ('vote', 0.023804706), ('coronavirus', 0.022172326), ('texas', 0.021839205), ('voters', 0.02168035), ('said', 0.02114153), ('ballots', 0.0194062), ('state', 0.018773938), ('trump', 0.018339543)] \n",
      "\n",
      "1 [('mail', 0.051965196), ('voting', 0.050266217), ('said', 0.042900387), ('election', 0.042451397), ('states', 0.040527757), ('ballots', 0.029051604), ('ballot', 0.027948823), ('voter', 0.027034279), ('elections', 0.024574412), ('vote', 0.023828482)] \n",
      "\n",
      "3 [('mail', 0.066615045), ('voting', 0.044344146), ('ballots', 0.042764198), ('vote', 0.040560756), ('voters', 0.032633048), ('election', 0.025300983), ('states', 0.023398498), ('california', 0.022721468), ('state', 0.022559104), ('democrats', 0.017593669)] \n",
      "\n",
      "2 [('trump', 0.042466592), ('mail', 0.03643438), ('state', 0.033681586), ('ballots', 0.024219157), ('voters', 0.023661857), ('election', 0.0217962), ('voting', 0.020539721), ('president', 0.020129776), ('fraud', 0.01975514), ('absentee', 0.01948126)] \n",
      "\n",
      "0 [('state', 0.034725413), ('ballots', 0.02690738), ('election', 0.026869906), ('voting', 0.026229123), ('mail', 0.0241044), ('trump', 0.023934482), ('voters', 0.018531116), ('ballot', 0.017974798), ('said', 0.017953262), ('absentee', 0.017061)] \n",
      "\n"
     ]
    }
   ],
   "source": [
    "# print the top 5 contributing topics and their words\n",
    "for i in doc_distribution.argsort()[-5:][::-1]:\n",
    "    print(i, lda.show_topic(topicid=i, topn=10), \"\\n\")"
   ]
  },
  {
   "cell_type": "code",
   "execution_count": 105,
   "metadata": {
    "ExecuteTime": {
     "end_time": "2020-06-29T20:15:05.670731Z",
     "start_time": "2020-06-29T20:15:05.636863Z"
    }
   },
   "outputs": [
    {
     "data": {
      "text/plain": [
       "(36, 5)"
      ]
     },
     "execution_count": 105,
     "metadata": {},
     "output_type": "execute_result"
    }
   ],
   "source": [
    "doc_topic_dist = np.array([[tup[1] for tup in lst] for lst in lda[corpus]])\n",
    "doc_topic_dist.shape"
   ]
  },
  {
   "cell_type": "code",
   "execution_count": 103,
   "metadata": {
    "ExecuteTime": {
     "end_time": "2020-06-29T20:14:49.648557Z",
     "start_time": "2020-06-29T20:14:49.639373Z"
    }
   },
   "outputs": [],
   "source": [
    "from scipy.stats import entropy\n",
    "\n",
    "def jensen_shannon(query, matrix):\n",
    "    \"\"\"\n",
    "    This function implements a Jensen-Shannon similarity\n",
    "    between the input query (an LDA topic distribution for a document)\n",
    "    and the entire corpus of topic distributions.\n",
    "    It returns an array of length M where M is the number of documents in the corpus\n",
    "    \"\"\"\n",
    "    # lets keep with the p,q notation above\n",
    "    p = query[None,:].T # take transpose\n",
    "    q = matrix.T # transpose matrix\n",
    "    m = 0.5*(p + q)\n",
    "    return np.sqrt(0.5*(entropy(p,m) + entropy(q,m)))"
   ]
  },
  {
   "cell_type": "code",
   "execution_count": 102,
   "metadata": {
    "ExecuteTime": {
     "end_time": "2020-06-29T20:14:46.017470Z",
     "start_time": "2020-06-29T20:14:46.012547Z"
    }
   },
   "outputs": [],
   "source": [
    "def get_documents_distance(query,matrix,k=10):\n",
    "    \"\"\"\n",
    "    This function implements the Jensen-Shannon distance above\n",
    "    and retruns the top k indices of the smallest jensen shannon distances\n",
    "    \"\"\"\n",
    "    sims = jensen_shannon(query,matrix) # list of jensen shannon distances\n",
    "    '''\n",
    "    for index,val in np.ndenumerate(sims):\n",
    "        print (index[0], val)\n",
    "    '''\n",
    "\n",
    "    df = pd.DataFrame(data=sims,columns=['distance'])\n",
    "    \n",
    "    #print(sims.argsort())\n",
    "    #return sims.argsort()[:k] # the top k positional index of the smallest Jensen Shannon distances\n",
    "    return df"
   ]
  },
  {
   "cell_type": "code",
   "execution_count": 97,
   "metadata": {
    "ExecuteTime": {
     "end_time": "2020-06-29T20:13:39.038491Z",
     "start_time": "2020-06-29T20:13:38.988668Z"
    }
   },
   "outputs": [
    {
     "name": "stdout",
     "output_type": "stream",
     "text": [
      "                                                title            source_id  \\\n",
      "0        What voting by mail looks like when it works  the-washington-post   \n",
      "1   Examining the arguments against voting by mail...  the-washington-post   \n",
      "2   Coronavirus makes voting by mail even more imp...            usa-today   \n",
      "3   As Trump attacks voting by mail, GOP builds 20...  the-washington-post   \n",
      "4   The Cybersecurity 202: First DHS chief Tom Rid...  the-washington-post   \n",
      "5   Widespread voting by mail poses risks of disen...            usa-today   \n",
      "6   Trump charges voting by mail will result in ‘r...             fox-news   \n",
      "7   As Trump lashes out at push to expand voting b...             fox-news   \n",
      "8   Nearly two-thirds favor voting by mail, but wi...             fox-news   \n",
      "9   Texas Lt. Gov. Dan Patrick: Mail-in voting is ...             fox-news   \n",
      "10  Ruling that would expand Texas mail-in voting ...             fox-news   \n",
      "11  Pelosi touts $3.6B vote-by-mail bill, now call...             fox-news   \n",
      "12  Texans fearful of contracting the coronavirus ...  the-washington-post   \n",
      "13  There’s no right to vote by mail. New lawsuits...  the-washington-post   \n",
      "14  Democratic vote-by-mail efforts would actually...  the-washington-post   \n",
      "15  In win for Texas GOP officials, federal appeal...  the-washington-post   \n",
      "16  Darrell Issa, Judicial Watch challenge Newsom'...             fox-news   \n",
      "17  GOP sues California Gov. Newsom, claims vote-b...             fox-news   \n",
      "18  Pelosi touts $3.6B vote-by-mail bill, now call...             fox-news   \n",
      "19  Trump’s bogus attacks on mail-in voting could ...  the-washington-post   \n",
      "20  Trump threatens funding for Michigan, Nevada o...  the-washington-post   \n",
      "21  The Cybersecurity 202: Twitter’s action gives ...  the-washington-post   \n",
      "22  Power Up: Trump’s inaccurate claims about mail...  the-washington-post   \n",
      "23  The Cybersecurity 202: GOP launches its bigges...  the-washington-post   \n",
      "24  Minuscule number of potentially fraudulent bal...  the-washington-post   \n",
      "25  The Cybersecurity 202: Trump is trying to make...  the-washington-post   \n",
      "26  Trump charges voting by mail will result in ‘r...             fox-news   \n",
      "27  Senate Democrat: Mail-in ballots needed becaus...             fox-news   \n",
      "28  Ronna McDaniel rips California's mail-in votin...             fox-news   \n",
      "29  Texas Lt. Gov. Dan Patrick: Mail-in voting is ...             fox-news   \n",
      "30  Ruling that would expand Texas mail-in voting ...             fox-news   \n",
      "31  Trump threatens to hold back funding over 'rog...             fox-news   \n",
      "32  Judge ramps up Texas mail-in voting amid coron...             fox-news   \n",
      "33  Ex-Nevada AG describes ballots 'piled up in ap...             fox-news   \n",
      "34  Texas Lt. Gov. Patrick bashes Twitter, Dems ov...             fox-news   \n",
      "35  President Trump blasts governors over nursing ...             fox-news   \n",
      "\n",
      "                                                  url  \n",
      "0   https://www.washingtonpost.com/politics/2020/0...  \n",
      "1   https://www.washingtonpost.com/politics/2020/0...  \n",
      "2   https://www.usatoday.com/story/opinion/todaysd...  \n",
      "3   https://www.washingtonpost.com/politics/as-tru...  \n",
      "4   https://www.washingtonpost.com/news/powerpost/...  \n",
      "5   https://www.usatoday.com/story/opinion/todaysd...  \n",
      "6   https://www.foxnews.com/politics/trump-charges...  \n",
      "7   https://www.foxnews.com/politics/trump-lashes-...  \n",
      "8   https://www.foxnews.com/politics/favor-voting-...  \n",
      "9   https://www.foxnews.com/media/dan-patrick-demo...  \n",
      "10  https://www.foxnews.com/politics/texas-mail-in...  \n",
      "11  https://www.foxnews.com/media/pelosi-touts-3-6...  \n",
      "12  https://www.washingtonpost.com/nation/2020/05/...  \n",
      "13  https://www.washingtonpost.com/politics/2020/0...  \n",
      "14  https://www.washingtonpost.com/opinions/2020/0...  \n",
      "15  https://www.washingtonpost.com/politics/in-win...  \n",
      "16  https://www.foxnews.com/politics/darrell-issa-...  \n",
      "17  https://www.foxnews.com/politics/gop-sues-cali...  \n",
      "18  https://www.foxnews.com/media/pelosi-touts-3-6...  \n",
      "19  https://www.washingtonpost.com/outlook/2020/05...  \n",
      "20  https://www.washingtonpost.com/politics/trump-...  \n",
      "21  https://www.washingtonpost.com/politics/the-cy...  \n",
      "22  https://www.washingtonpost.com/news/powerpost/...  \n",
      "23  https://www.washingtonpost.com/news/powerpost/...  \n",
      "24  https://www.washingtonpost.com/politics/minusc...  \n",
      "25  https://www.washingtonpost.com/politics/the-cy...  \n",
      "26  https://www.foxnews.com/politics/trump-charges...  \n",
      "27  https://www.foxnews.com/media/merkley-mail-in-...  \n",
      "28  https://www.foxnews.com/media/ronna-mcdaniel-c...  \n",
      "29  https://www.foxnews.com/media/dan-patrick-demo...  \n",
      "30  https://www.foxnews.com/politics/texas-mail-in...  \n",
      "31  https://www.foxnews.com/politics/trump-threate...  \n",
      "32  https://www.foxnews.com/politics/judge-ramps-u...  \n",
      "33  https://www.foxnews.com/media/nevada-adam-laxa...  \n",
      "34  https://www.foxnews.com/media/dan-patrick-mail...  \n",
      "35          http://video.foxnews.com/v/6159369992001/  \n"
     ]
    }
   ],
   "source": [
    "print(df[['title','source_id','url']])"
   ]
  },
  {
   "cell_type": "code",
   "execution_count": 106,
   "metadata": {
    "ExecuteTime": {
     "end_time": "2020-06-29T20:15:10.046742Z",
     "start_time": "2020-06-29T20:15:10.017639Z"
    }
   },
   "outputs": [
    {
     "data": {
      "text/html": [
       "<div>\n",
       "<style scoped>\n",
       "    .dataframe tbody tr th:only-of-type {\n",
       "        vertical-align: middle;\n",
       "    }\n",
       "\n",
       "    .dataframe tbody tr th {\n",
       "        vertical-align: top;\n",
       "    }\n",
       "\n",
       "    .dataframe thead th {\n",
       "        text-align: right;\n",
       "    }\n",
       "</style>\n",
       "<table border=\"1\" class=\"dataframe\">\n",
       "  <thead>\n",
       "    <tr style=\"text-align: right;\">\n",
       "      <th></th>\n",
       "      <th>distance</th>\n",
       "    </tr>\n",
       "  </thead>\n",
       "  <tbody>\n",
       "    <tr>\n",
       "      <th>0</th>\n",
       "      <td>0.361506</td>\n",
       "    </tr>\n",
       "    <tr>\n",
       "      <th>1</th>\n",
       "      <td>0.152144</td>\n",
       "    </tr>\n",
       "    <tr>\n",
       "      <th>2</th>\n",
       "      <td>0.139838</td>\n",
       "    </tr>\n",
       "    <tr>\n",
       "      <th>3</th>\n",
       "      <td>0.000005</td>\n",
       "    </tr>\n",
       "    <tr>\n",
       "      <th>4</th>\n",
       "      <td>0.377333</td>\n",
       "    </tr>\n",
       "    <tr>\n",
       "      <th>5</th>\n",
       "      <td>0.361412</td>\n",
       "    </tr>\n",
       "    <tr>\n",
       "      <th>6</th>\n",
       "      <td>0.566106</td>\n",
       "    </tr>\n",
       "    <tr>\n",
       "      <th>7</th>\n",
       "      <td>0.566129</td>\n",
       "    </tr>\n",
       "    <tr>\n",
       "      <th>8</th>\n",
       "      <td>0.566063</td>\n",
       "    </tr>\n",
       "    <tr>\n",
       "      <th>9</th>\n",
       "      <td>0.832287</td>\n",
       "    </tr>\n",
       "    <tr>\n",
       "      <th>10</th>\n",
       "      <td>0.427642</td>\n",
       "    </tr>\n",
       "    <tr>\n",
       "      <th>11</th>\n",
       "      <td>0.832330</td>\n",
       "    </tr>\n",
       "    <tr>\n",
       "      <th>12</th>\n",
       "      <td>0.400242</td>\n",
       "    </tr>\n",
       "    <tr>\n",
       "      <th>13</th>\n",
       "      <td>0.361482</td>\n",
       "    </tr>\n",
       "    <tr>\n",
       "      <th>14</th>\n",
       "      <td>0.359127</td>\n",
       "    </tr>\n",
       "    <tr>\n",
       "      <th>15</th>\n",
       "      <td>0.365358</td>\n",
       "    </tr>\n",
       "    <tr>\n",
       "      <th>16</th>\n",
       "      <td>0.369591</td>\n",
       "    </tr>\n",
       "    <tr>\n",
       "      <th>17</th>\n",
       "      <td>0.699151</td>\n",
       "    </tr>\n",
       "    <tr>\n",
       "      <th>18</th>\n",
       "      <td>0.832330</td>\n",
       "    </tr>\n",
       "    <tr>\n",
       "      <th>19</th>\n",
       "      <td>0.234464</td>\n",
       "    </tr>\n",
       "    <tr>\n",
       "      <th>20</th>\n",
       "      <td>0.513419</td>\n",
       "    </tr>\n",
       "    <tr>\n",
       "      <th>21</th>\n",
       "      <td>0.683897</td>\n",
       "    </tr>\n",
       "    <tr>\n",
       "      <th>22</th>\n",
       "      <td>0.539485</td>\n",
       "    </tr>\n",
       "    <tr>\n",
       "      <th>23</th>\n",
       "      <td>0.417408</td>\n",
       "    </tr>\n",
       "    <tr>\n",
       "      <th>24</th>\n",
       "      <td>0.361557</td>\n",
       "    </tr>\n",
       "    <tr>\n",
       "      <th>25</th>\n",
       "      <td>0.536322</td>\n",
       "    </tr>\n",
       "    <tr>\n",
       "      <th>26</th>\n",
       "      <td>0.566106</td>\n",
       "    </tr>\n",
       "    <tr>\n",
       "      <th>27</th>\n",
       "      <td>0.292419</td>\n",
       "    </tr>\n",
       "    <tr>\n",
       "      <th>28</th>\n",
       "      <td>0.668231</td>\n",
       "    </tr>\n",
       "    <tr>\n",
       "      <th>29</th>\n",
       "      <td>0.832287</td>\n",
       "    </tr>\n",
       "    <tr>\n",
       "      <th>30</th>\n",
       "      <td>0.427338</td>\n",
       "    </tr>\n",
       "    <tr>\n",
       "      <th>31</th>\n",
       "      <td>0.577761</td>\n",
       "    </tr>\n",
       "    <tr>\n",
       "      <th>32</th>\n",
       "      <td>0.534828</td>\n",
       "    </tr>\n",
       "    <tr>\n",
       "      <th>33</th>\n",
       "      <td>0.201524</td>\n",
       "    </tr>\n",
       "    <tr>\n",
       "      <th>34</th>\n",
       "      <td>0.619527</td>\n",
       "    </tr>\n",
       "    <tr>\n",
       "      <th>35</th>\n",
       "      <td>0.816000</td>\n",
       "    </tr>\n",
       "  </tbody>\n",
       "</table>\n",
       "</div>"
      ],
      "text/plain": [
       "    distance\n",
       "0   0.361506\n",
       "1   0.152144\n",
       "2   0.139838\n",
       "3   0.000005\n",
       "4   0.377333\n",
       "5   0.361412\n",
       "6   0.566106\n",
       "7   0.566129\n",
       "8   0.566063\n",
       "9   0.832287\n",
       "10  0.427642\n",
       "11  0.832330\n",
       "12  0.400242\n",
       "13  0.361482\n",
       "14  0.359127\n",
       "15  0.365358\n",
       "16  0.369591\n",
       "17  0.699151\n",
       "18  0.832330\n",
       "19  0.234464\n",
       "20  0.513419\n",
       "21  0.683897\n",
       "22  0.539485\n",
       "23  0.417408\n",
       "24  0.361557\n",
       "25  0.536322\n",
       "26  0.566106\n",
       "27  0.292419\n",
       "28  0.668231\n",
       "29  0.832287\n",
       "30  0.427338\n",
       "31  0.577761\n",
       "32  0.534828\n",
       "33  0.201524\n",
       "34  0.619527\n",
       "35  0.816000"
      ]
     },
     "execution_count": 106,
     "metadata": {},
     "output_type": "execute_result"
    }
   ],
   "source": [
    "new_bow = dictionary.doc2bow(df.iloc[3,5])\n",
    "new_doc_distribution = np.array([tup[1] for tup in lda.get_document_topics(bow=new_bow)])\n",
    "distance_array = get_documents_distance(new_doc_distribution,doc_topic_dist)\n",
    "distance_array"
   ]
  },
  {
   "cell_type": "code",
   "execution_count": 438,
   "metadata": {
    "ExecuteTime": {
     "end_time": "2020-06-18T22:09:25.638242Z",
     "start_time": "2020-06-18T22:09:25.631686Z"
    }
   },
   "outputs": [],
   "source": [
    "df['distance'] = distance_array['distance']"
   ]
  },
  {
   "cell_type": "code",
   "execution_count": 446,
   "metadata": {
    "ExecuteTime": {
     "end_time": "2020-06-18T22:14:34.806363Z",
     "start_time": "2020-06-18T22:14:34.791847Z"
    }
   },
   "outputs": [
    {
     "name": "stdout",
     "output_type": "stream",
     "text": [
      "                                                title  distance\n",
      "3   As Trump attacks voting by mail, GOP builds 20...  0.000122\n",
      "2   Coronavirus makes voting by mail even more imp...  0.292680\n",
      "33  Ex-Nevada AG describes ballots 'piled up in ap...  0.298249\n",
      "19  Trump’s bogus attacks on mail-in voting could ...  0.339629\n",
      "1   Examining the arguments against voting by mail...  0.378740\n",
      "27  Senate Democrat: Mail-in ballots needed becaus...  0.388567\n",
      "4   The Cybersecurity 202: First DHS chief Tom Rid...  0.439995\n",
      "0        What voting by mail looks like when it works  0.442798\n",
      "24  Minuscule number of potentially fraudulent bal...  0.442843\n",
      "25  The Cybersecurity 202: Trump is trying to make...  0.457393\n",
      "7   As Trump lashes out at push to expand voting b...  0.485974\n",
      "20  Trump threatens funding for Michigan, Nevada o...  0.485991\n",
      "22  Power Up: Trump’s inaccurate claims about mail...  0.486115\n",
      "8   Nearly two-thirds favor voting by mail, but wi...  0.516435\n",
      "31  Trump threatens to hold back funding over 'rog...  0.523282\n",
      "6   Trump charges voting by mail will result in ‘r...  0.555400\n",
      "26  Trump charges voting by mail will result in ‘r...  0.555400\n",
      "21  The Cybersecurity 202: Twitter’s action gives ...  0.585929\n",
      "15  In win for Texas GOP officials, federal appeal...  0.614048\n",
      "14  Democratic vote-by-mail efforts would actually...  0.616320\n",
      "23  The Cybersecurity 202: GOP launches its bigges...  0.683209\n",
      "34  Texas Lt. Gov. Patrick bashes Twitter, Dems ov...  0.732775\n",
      "5   Widespread voting by mail poses risks of disen...  0.779110\n",
      "12  Texans fearful of contracting the coronavirus ...  0.796108\n",
      "16  Darrell Issa, Judicial Watch challenge Newsom'...  0.813009\n",
      "35  President Trump blasts governors over nursing ...  0.815826\n",
      "13  There’s no right to vote by mail. New lawsuits...  0.816557\n",
      "30  Ruling that would expand Texas mail-in voting ...  0.832169\n",
      "10  Ruling that would expand Texas mail-in voting ...  0.832169\n",
      "32  Judge ramps up Texas mail-in voting amid coron...  0.832192\n",
      "28  Ronna McDaniel rips California's mail-in votin...  0.832274\n",
      "29  Texas Lt. Gov. Dan Patrick: Mail-in voting is ...  0.832286\n",
      "9   Texas Lt. Gov. Dan Patrick: Mail-in voting is ...  0.832286\n",
      "11  Pelosi touts $3.6B vote-by-mail bill, now call...  0.832329\n",
      "18  Pelosi touts $3.6B vote-by-mail bill, now call...  0.832329\n",
      "17  GOP sues California Gov. Newsom, claims vote-b...  0.832368\n"
     ]
    }
   ],
   "source": [
    "print(df[['title','distance']].sort_values('distance'))\n",
    "df[['title','distance','url']].sort_values('distance').to_csv('results.csv')"
   ]
  },
  {
   "cell_type": "code",
   "execution_count": 389,
   "metadata": {
    "ExecuteTime": {
     "end_time": "2020-06-18T21:28:31.574399Z",
     "start_time": "2020-06-18T21:28:31.564990Z"
    }
   },
   "outputs": [
    {
     "data": {
      "text/plain": [
       "0     https://www.washingtonpost.com/politics/2020/0...\n",
       "1     https://www.washingtonpost.com/politics/2020/0...\n",
       "2     https://www.usatoday.com/story/opinion/todaysd...\n",
       "3     https://www.washingtonpost.com/politics/as-tru...\n",
       "4     https://www.washingtonpost.com/news/powerpost/...\n",
       "5     https://www.usatoday.com/story/opinion/todaysd...\n",
       "6     https://www.foxnews.com/politics/trump-charges...\n",
       "13    https://www.washingtonpost.com/politics/in-win...\n",
       "14    https://www.foxnews.com/politics/darrell-issa-...\n",
       "19    https://www.washingtonpost.com/news/powerpost/...\n",
       "Name: url, dtype: object"
      ]
     },
     "execution_count": 389,
     "metadata": {},
     "output_type": "execute_result"
    }
   ],
   "source": [
    "most_similar_df = train_df[train_df.index.isin(most_sim_ids)]\n",
    "most_similar_df['url']"
   ]
  },
  {
   "cell_type": "code",
   "execution_count": 38,
   "metadata": {
    "ExecuteTime": {
     "end_time": "2020-06-29T01:18:47.527305Z",
     "start_time": "2020-06-29T01:18:47.512339Z"
    }
   },
   "outputs": [
    {
     "data": {
      "text/html": [
       "<div>\n",
       "<style scoped>\n",
       "    .dataframe tbody tr th:only-of-type {\n",
       "        vertical-align: middle;\n",
       "    }\n",
       "\n",
       "    .dataframe tbody tr th {\n",
       "        vertical-align: top;\n",
       "    }\n",
       "\n",
       "    .dataframe thead th {\n",
       "        text-align: right;\n",
       "    }\n",
       "</style>\n",
       "<table border=\"1\" class=\"dataframe\">\n",
       "  <thead>\n",
       "    <tr style=\"text-align: right;\">\n",
       "      <th></th>\n",
       "      <th>source_id</th>\n",
       "      <th>title</th>\n",
       "      <th>url</th>\n",
       "      <th>content</th>\n",
       "      <th>content_full</th>\n",
       "      <th>tokenized_content</th>\n",
       "    </tr>\n",
       "  </thead>\n",
       "  <tbody>\n",
       "    <tr>\n",
       "      <th>0</th>\n",
       "      <td>the-washington-post</td>\n",
       "      <td>What voting by mail looks like when it works</td>\n",
       "      <td>https://www.washingtonpost.com/politics/2020/0...</td>\n",
       "      <td>Examining the arguments against vote by mail: ...</td>\n",
       "      <td>Voting by mail will be new to millions of Amer...</td>\n",
       "      <td>[voting, mail, new, millions, americans, state...</td>\n",
       "    </tr>\n",
       "    <tr>\n",
       "      <th>1</th>\n",
       "      <td>the-washington-post</td>\n",
       "      <td>Examining the arguments against voting by mail...</td>\n",
       "      <td>https://www.washingtonpost.com/politics/2020/0...</td>\n",
       "      <td>Breaking: Michigan sends absentee ballots to 7...</td>\n",
       "      <td>President Trump is determined to fight against...</td>\n",
       "      <td>[president, trump, efforts, voting, mail, nove...</td>\n",
       "    </tr>\n",
       "    <tr>\n",
       "      <th>2</th>\n",
       "      <td>usa-today</td>\n",
       "      <td>Coronavirus makes voting by mail even more imp...</td>\n",
       "      <td>https://www.usatoday.com/story/opinion/todaysd...</td>\n",
       "      <td>Donald Trump votes by mail, the practice dates...</td>\n",
       "      <td>Less than five months until Election Day, ther...</td>\n",
       "      <td>[less, five, election, day, mail, balloting, p...</td>\n",
       "    </tr>\n",
       "    <tr>\n",
       "      <th>3</th>\n",
       "      <td>the-washington-post</td>\n",
       "      <td>As Trump attacks voting by mail, GOP builds 20...</td>\n",
       "      <td>https://www.washingtonpost.com/politics/as-tru...</td>\n",
       "      <td>Helping drive the effort is William Consovoy, ...</td>\n",
       "      <td>President Trump’s persistent attacks on mail-i...</td>\n",
       "      <td>[president, trump, mail, voting, november, ele...</td>\n",
       "    </tr>\n",
       "    <tr>\n",
       "      <th>4</th>\n",
       "      <td>the-washington-post</td>\n",
       "      <td>The Cybersecurity 202: First DHS chief Tom Rid...</td>\n",
       "      <td>https://www.washingtonpost.com/news/powerpost/...</td>\n",
       "      <td>None</td>\n",
       "      <td>with Tonya Riley\\nThe first secretary of Homel...</td>\n",
       "      <td>[first, secretary, security, president, trump,...</td>\n",
       "    </tr>\n",
       "  </tbody>\n",
       "</table>\n",
       "</div>"
      ],
      "text/plain": [
       "             source_id                                              title  \\\n",
       "0  the-washington-post       What voting by mail looks like when it works   \n",
       "1  the-washington-post  Examining the arguments against voting by mail...   \n",
       "2            usa-today  Coronavirus makes voting by mail even more imp...   \n",
       "3  the-washington-post  As Trump attacks voting by mail, GOP builds 20...   \n",
       "4  the-washington-post  The Cybersecurity 202: First DHS chief Tom Rid...   \n",
       "\n",
       "                                                 url  \\\n",
       "0  https://www.washingtonpost.com/politics/2020/0...   \n",
       "1  https://www.washingtonpost.com/politics/2020/0...   \n",
       "2  https://www.usatoday.com/story/opinion/todaysd...   \n",
       "3  https://www.washingtonpost.com/politics/as-tru...   \n",
       "4  https://www.washingtonpost.com/news/powerpost/...   \n",
       "\n",
       "                                             content  \\\n",
       "0  Examining the arguments against vote by mail: ...   \n",
       "1  Breaking: Michigan sends absentee ballots to 7...   \n",
       "2  Donald Trump votes by mail, the practice dates...   \n",
       "3  Helping drive the effort is William Consovoy, ...   \n",
       "4                                               None   \n",
       "\n",
       "                                        content_full  \\\n",
       "0  Voting by mail will be new to millions of Amer...   \n",
       "1  President Trump is determined to fight against...   \n",
       "2  Less than five months until Election Day, ther...   \n",
       "3  President Trump’s persistent attacks on mail-i...   \n",
       "4  with Tonya Riley\\nThe first secretary of Homel...   \n",
       "\n",
       "                                   tokenized_content  \n",
       "0  [voting, mail, new, millions, americans, state...  \n",
       "1  [president, trump, efforts, voting, mail, nove...  \n",
       "2  [less, five, election, day, mail, balloting, p...  \n",
       "3  [president, trump, mail, voting, november, ele...  \n",
       "4  [first, secretary, security, president, trump,...  "
      ]
     },
     "execution_count": 38,
     "metadata": {},
     "output_type": "execute_result"
    }
   ],
   "source": [
    "df.head()"
   ]
  },
  {
   "cell_type": "code",
   "execution_count": 41,
   "metadata": {
    "ExecuteTime": {
     "end_time": "2020-06-29T01:20:45.824816Z",
     "start_time": "2020-06-29T01:20:45.817296Z"
    }
   },
   "outputs": [],
   "source": [
    "import numpy as np\n",
    "np.savetxt('/Users/tapas/Documents/Repos/all_articles.txt', df[\"content_full\"].values, fmt='%s', delimiter='\\t')"
   ]
  },
  {
   "cell_type": "code",
   "execution_count": 11,
   "metadata": {
    "ExecuteTime": {
     "end_time": "2020-06-29T01:01:59.896375Z",
     "start_time": "2020-06-29T01:01:59.870114Z"
    }
   },
   "outputs": [],
   "source": [
    "import gensim.models as g"
   ]
  },
  {
   "cell_type": "code",
   "execution_count": 42,
   "metadata": {
    "ExecuteTime": {
     "end_time": "2020-06-29T01:22:08.165271Z",
     "start_time": "2020-06-29T01:22:08.160930Z"
    }
   },
   "outputs": [],
   "source": [
    "#doc2vec parameters\n",
    "vector_size = 300\n",
    "window_size = 15\n",
    "min_count = 1\n",
    "sampling_threshold = 1e-5\n",
    "negative_size = 5\n",
    "train_epoch = 100\n",
    "dm = 0 #0 = dbow; 1 = dmpv\n",
    "worker_count = 1 #number of parallel processes\n"
   ]
  },
  {
   "cell_type": "code",
   "execution_count": 54,
   "metadata": {
    "ExecuteTime": {
     "end_time": "2020-06-29T01:59:23.978660Z",
     "start_time": "2020-06-29T01:59:23.974770Z"
    }
   },
   "outputs": [],
   "source": [
    "pretrained_emb = \"/Users/tapas/Documents/Repos/doc2vec/toy_data/pretrained_word_embeddings.txt\"\n",
    "#Pre trained word embeding give better result than randomized word embeddings\n",
    "train_corpus = \"/Users/tapas/Documents/Repos/all_articles.txt\"\n",
    "saved_path = \"/Users/tapas/Documents/Repos/news_analysis/news_model.bin\""
   ]
  },
  {
   "cell_type": "code",
   "execution_count": 73,
   "metadata": {
    "ExecuteTime": {
     "end_time": "2020-06-29T19:18:34.296790Z",
     "start_time": "2020-06-29T19:18:34.287782Z"
    }
   },
   "outputs": [],
   "source": [
    "from gensim.models.doc2vec import TaggedLineDocument,TaggedDocument\n",
    "docs = g.doc2vec.TaggedLineDocument(train_corpus)"
   ]
  },
  {
   "cell_type": "code",
   "execution_count": 70,
   "metadata": {
    "ExecuteTime": {
     "end_time": "2020-06-29T18:16:58.920773Z",
     "start_time": "2020-06-29T18:16:58.916073Z"
    }
   },
   "outputs": [
    {
     "name": "stdout",
     "output_type": "stream",
     "text": [
      "['__class__', '__delattr__', '__dict__', '__dir__', '__doc__', '__eq__', '__format__', '__ge__', '__getattribute__', '__gt__', '__hash__', '__init__', '__init_subclass__', '__iter__', '__le__', '__lt__', '__module__', '__ne__', '__new__', '__reduce__', '__reduce_ex__', '__repr__', '__setattr__', '__sizeof__', '__str__', '__subclasshook__', '__weakref__', 'source']\n"
     ]
    }
   ],
   "source": [
    "print(dir(docs))"
   ]
  },
  {
   "cell_type": "code",
   "execution_count": 83,
   "metadata": {
    "ExecuteTime": {
     "end_time": "2020-06-29T19:24:50.435358Z",
     "start_time": "2020-06-29T19:24:50.427987Z"
    }
   },
   "outputs": [],
   "source": [
    "train_tagged = df.apply(lambda x : TaggedDocument(words=x.tokenized_content,tags=[x.source_id]),axis=1)"
   ]
  },
  {
   "cell_type": "code",
   "execution_count": 156,
   "metadata": {
    "ExecuteTime": {
     "end_time": "2020-06-30T01:43:26.772794Z",
     "start_time": "2020-06-30T01:43:26.752898Z"
    }
   },
   "outputs": [
    {
     "data": {
      "text/plain": [
       "TaggedDocument(words=['president', 'trump', 'mail', 'voting', 'november', 'election', 'millions', 'ballots', 'voter', 'rolls', 'trump', 'campaign', 'republican', 'national', 'committee', 'groups', 'voting', 'could', 'house', 'amid', 'coronavirus', 'pandemic', 'supreme', 'court', 'also', 'one', 'trump', 'law', 'legal', 'rnc', 'several', 'state', 'group', 'election', 'trump', 'legal', 'national', 'party', 'voter', 'fraud', 'voting', 'year', 'groups', 'new', 'president', 'trump', 'widespread', 'mail', 'balloting', 'would', 'republicans', 'claims', 'voter', 'fraud', 'gop', 'legal', 'said', 'integrity', 'elections', 'fraud', 'election', 'time', 'mail', 'ballots', 'send', 'ballot', 'every', 'said', 'elections', 'since', 'think', 'many', 'ballots', 'mailed', 'great', 'public', 'voters', 'may', 'vote', 'trump', 'voting', 'mail', 'claims', 'lead', 'fraud', 'tweeted', 'want', 'mail', 'ballots', 'president', 'said', 'may', 'republicans', 'trump', 'even', 'trying', 'voting', 'mail', 'work', 'gop', 'voting', 'mail', 'trump', 'democrats', 'say', 'republicans', 'trying', 'voters', 'voted', 'mail', 'groups', 'less', 'rnc', 'president', 'campaign', 'mail', 'voting', 'political', 'time', 'right', 'said', 'democratic', 'voting', 'cases', 'year', 'trump', 'voter', 'fraud', 'republican', 'trump', 'long', 'claims', 'voting', 'fraud', 'saying', 'election', 'would', 'results', 'democratic', 'trump', 'claimed', 'without', 'evidence', 'millions', 'voted', 'office', 'trump', 'election', 'integrity', 'voting', 'fraud', 'states', 'voter', 'data', 'house', 'president', 'according', 'one', 'former', 'like', 'trump', 'potential', 'voting', 'fraud', 'right', 'mail', 'ballot', 'pandemic', 'already', 'millions', 'americans', 'cast', 'ballots', 'year', 'trump', 'campaign', 'three', 'ballot', 'including', 'need', 'legal', 'states', 'according', 'campaign', 'campaign', 'voting', 'states', 'including', 'michigan', 'wisconsin', 'florida', 'said', 'campaign', 'trump', 'every', 'state', 'one', 'trump', 'rnc', 'among', 'president', 'office', 'voter', 'fraud', 'public', 'states', 'absentee', 'ballots', 'claiming', 'mail', 'voting', 'fraud', 'lead', 'great', 'republican', 'party', 'tweeted', 'ballot', 'fraud', 'evidence', 'voting', 'mail', 'thousands', 'thousands', 'ballots', 'trump', 'claimed', 'republicans', 'president', 'work', 'party', 'including', 'states', 'trump', 'vote', 'absentee', 'according', 'two', 'people', 'gop', 'republican', 'party', 'wisconsin', 'county', 'said', 'trump', 'mail', 'balloting', 'need', 'said', 'many', 'national', 'state', 'republican', 'efforts', 'expand', 'mail', 'voting', 'rnc', 'california', 'gop', 'california', 'gov', 'newsom', 'may', 'decision', 'send', 'absentee', 'ballots', 'voters', 'general', 'election', 'national', 'state', 'also', 'florida', 'nevada', 'wisconsin', 'among', 'democratic', 'efforts', 'ballot', 'signature', 'voting', 'thousands', 'rnc', 'trump', 'campaign', 'polling', 'year', 'party', 'officials', 'said', 'federal', 'three', 'party', 'voting', 'going', 'said', 'rnc', 'democrats', 'pandemic', 'fraud', 're', 'going', 'make', 'security', 'ballot', 'well', 'million', 'gop', 'claimed', 'state', 'judge', 'democratic', 'allow', 'absentee', 'ballots', 'process', 'republicans', 'ballot', 'group', 'elections', 'many', 'cases', 'also', 'campaign', 'rnc', 'democrats', 'pandemic', 'election', 'group', 'said', 'elections', 'like', 'rnc', 'groups', 'efforts', 'election', 'group', 'also', 'campaign', 'states', 'voter', 'democrats', 'year', 'said', 'states', 'sending', 'absentee', 'ballot', 'applications', 'cases', 'ballots', 'every', 'registered', 'voter', 'primary', 'integrity', 'elections', 'said', 'voter', 'group', 'sent', 'states', 'florida', 'michigan', 'colorado', 'claiming', 'voter', 'rolls', 'states', 'people', 'vote', 'election', 'officials', 'states', 'group', 'claims', 'gop', 'officials', 'voting', 'say', 'groups', 'great', 'work', 'said', 'rnc', 'party', 'campaign', 'would', 'legal', 'groups', 'law', 'trump', 'two', 'also', 'trump', 'campaign', 'national', 'gop', 'state', 'california', 'florida', 'wisconsin', 'well', 'elections', 'trump', 'president', 'rnc', 'million', 'legal', 'work', 'since', 'last', 'year', 'trump', 'campaign', 'campaign', 'also', 'elections', 'sent', 'state', 'election', 'year', 'according', 'washington', 'post', 'campaign', 'president', 'take', 'election', 'cases', 'according', 'campaign', 'rnc', 'said', 'great', 'work', 'request', 'former', 'law', 'voting', 'cases', 'county', 'supreme', 'court', 'case', 'voting', 'voting', 'cases', 'year', 'voting', 'democratic', 'said', 'voting', 'know', 'take', 'case', 'according', 'people', 'know', 'also', 'millions', 'years', 'trump', 'supreme', 'court', 'time', 'voting', 'cases', 'groups', 'support', 'efforts', 'said', 'people', 'request', 'trump', 'supreme', 'court', 'two', 'people', 'said', 'elections', 'people', 'said', 'elections', 'elections', 'trump', 'voter', 'fraud', 'first', 'request', 'voter', 'fraud', 'said', 'work', 'elections', 'said', 'court', 'want', 'group', 'said', 'want', 'voter', 'fraud', 'want', 'make', 'case', 'election', 'integrity', 'new', 'gop', 'work', 'group', 'right', 'long', 'public', 'voting', 'two', 'long', 'voter', 'fraud', 'claims', 'trump', 'election', 'integrity', 'groups', 'election', 'officials', 'voter', 'rolls', 'fraud', 'group', 'public', 'legal', 'report', 'registered', 'voters', 'claimed', 'report', 'saying', 'fact', 'state', 'lead', 'group', 'election', 'officials', 'county', 'county', 'percent', 'case', 'federal', 'judge', 'five', 'day', 'evidence', 'judge', 'group', 'voter', 'group', 'voters', 'rolls', 'vote', 'judge', 'wrote', 'judge', 'wrote', 'federal', 'court', 'decision', 'last', 'year', 'post', 'said', 'vote', 'amid', 'pandemic', 'saying', 'mail', 'ballots', 'said', 'right', 'said', 'long', 'groups', 'including', 'democratic', 'voters', 'year', 'groups', 'many', 'millions', 'years', 'integrity', 'elections', 'said', 'last', 'two', 'elections', 'legal', 'state', 'voter', 'rolls', 'efforts', 'group', 'voter', 'sign', 'people', 'registered', 'states', 'take', 'people', 'rolls', 'voter', 'rolls', 'voters', 'process', 'risk', 'fraud', 'public', 'elections', 'wrote', 'election', 'officials', 'states', 'federal', 'law', 'election', 'officials', 'voter', 'rolls', 'officials', 'election', 'election', 'security', 'experts', 'say', 'voting', 'rolls', 'potential', 'ballot', 'fraud', 'one', 'elections', 'said', 'data', 'elections', 'said', 'political', 'elections', 'florida', 'county', 'case', 'colorado', 'secretary', 'state', 'said', 'state', 'percent', 're', 'people', 'vote', 'said', 'state', 'voter', 'including', 'among', 'sending', 'year', 'said', 'back', 'election', 'officials', 'said', 'group', 'group', 'still', 'whether', 'well', 'whether', 'expand', 'states', 'said', 'court', 'decision', 'said', 'place', 'report'], tags=['the-washington-post'])"
      ]
     },
     "execution_count": 156,
     "metadata": {},
     "output_type": "execute_result"
    }
   ],
   "source": [
    "train_tagged.values[3]"
   ]
  },
  {
   "cell_type": "code",
   "execution_count": 87,
   "metadata": {
    "ExecuteTime": {
     "end_time": "2020-06-29T19:47:21.493230Z",
     "start_time": "2020-06-29T19:47:21.403713Z"
    }
   },
   "outputs": [
    {
     "name": "stderr",
     "output_type": "stream",
     "text": [
      "100%|██████████| 36/36 [00:00<00:00, 28777.39it/s]\n",
      "100%|██████████| 36/36 [00:00<00:00, 107776.55it/s]\n"
     ]
    }
   ],
   "source": [
    "from tqdm import tqdm\n",
    "tqdm.pandas(desc=\"progress-bar\")\n",
    "\n",
    "model = g.Doc2Vec(vector_size=vector_size, window=window_size, min_count=min_count, sample=sampling_threshold, workers=worker_count, hs=0, dm=dm, negative=negative_size, dbow_words=1, dm_concat=1, pretrained_emb=pretrained_emb, epochs=train_epoch)\n",
    "model.build_vocab([x for x in tqdm(train_tagged.values)])\n",
    "model.train([x for x in tqdm(train_tagged.values)],total_examples=len(train_tagged.values), epochs=1)\n",
    "model.save(saved_path)"
   ]
  },
  {
   "cell_type": "code",
   "execution_count": 88,
   "metadata": {
    "ExecuteTime": {
     "end_time": "2020-06-29T19:47:49.292705Z",
     "start_time": "2020-06-29T19:47:49.288882Z"
    }
   },
   "outputs": [
    {
     "name": "stdout",
     "output_type": "stream",
     "text": [
      "Doc2Vec(dbow+w,d300,n5,w15,s1e-05)\n"
     ]
    }
   ],
   "source": [
    "print(model)"
   ]
  },
  {
   "cell_type": "code",
   "execution_count": 56,
   "metadata": {
    "ExecuteTime": {
     "end_time": "2020-06-29T02:07:25.198691Z",
     "start_time": "2020-06-29T02:07:25.189973Z"
    }
   },
   "outputs": [],
   "source": [
    "import gensim.models as g\n",
    "import codecs\n",
    "\n",
    "#parameters\n",
    "#model=\"/Users/tapas/Documents/Repos/news_analysis/news_model.bin\"\n",
    "#test_docs=\"/Users/tapas/Documents/Repos/all_articles.txt\"\n",
    "output_file=\"/Users/tapas/Documents/Repos/news_analysis/test_vectors.txt\"\n",
    "\n",
    "#model = g.Doc2Vec.load(\"/Users/tapas/Documents/Repos/doc2vec/apnews_sg/word2vec.bin\")"
   ]
  },
  {
   "cell_type": "code",
   "execution_count": 90,
   "metadata": {
    "ExecuteTime": {
     "end_time": "2020-06-29T19:57:32.971339Z",
     "start_time": "2020-06-29T19:57:32.965466Z"
    }
   },
   "outputs": [
    {
     "data": {
      "text/plain": [
       "'\\nm = g.Doc2Vec.load(model)\\ntest_docs = [ x.strip().split() for x in codecs.open(test_docs, \"r\", \"utf-8\").readlines()]\\n\\n'"
      ]
     },
     "execution_count": 90,
     "metadata": {},
     "output_type": "execute_result"
    }
   ],
   "source": [
    "#inference hyper-parameters\n",
    "\n",
    "start_alpha=0.01\n",
    "infer_epoch=1000\n",
    "'''\n",
    "m = g.Doc2Vec.load(model)\n",
    "test_docs = [ x.strip().split() for x in codecs.open(test_docs, \"r\", \"utf-8\").readlines()]\n",
    "\n",
    "'''\n"
   ]
  },
  {
   "cell_type": "code",
   "execution_count": 89,
   "metadata": {
    "ExecuteTime": {
     "end_time": "2020-06-29T19:56:00.942107Z",
     "start_time": "2020-06-29T19:56:00.938442Z"
    }
   },
   "outputs": [
    {
     "name": "stdout",
     "output_type": "stream",
     "text": [
      "<class 'gensim.models.doc2vec.Doc2Vec'>\n"
     ]
    }
   ],
   "source": [
    "print(type(model))"
   ]
  },
  {
   "cell_type": "code",
   "execution_count": 91,
   "metadata": {
    "ExecuteTime": {
     "end_time": "2020-06-29T19:57:40.113837Z",
     "start_time": "2020-06-29T19:57:40.109922Z"
    }
   },
   "outputs": [],
   "source": [
    "\n",
    "\n",
    "def get_paragraph_vector(content):\n",
    "    vec = model.infer_vector(content, alpha=start_alpha, steps=infer_epoch)\n",
    "    return vec"
   ]
  },
  {
   "cell_type": "code",
   "execution_count": 92,
   "metadata": {
    "ExecuteTime": {
     "end_time": "2020-06-29T19:57:46.167736Z",
     "start_time": "2020-06-29T19:57:44.083971Z"
    }
   },
   "outputs": [],
   "source": [
    "df['paragraph_vector'] = df.apply(lambda x: get_paragraph_vector(x.tokenized_content),axis=1) "
   ]
  },
  {
   "cell_type": "code",
   "execution_count": 1,
   "metadata": {
    "ExecuteTime": {
     "end_time": "2020-07-02T21:01:05.001841Z",
     "start_time": "2020-07-02T21:01:04.865725Z"
    }
   },
   "outputs": [
    {
     "ename": "NameError",
     "evalue": "name 'df' is not defined",
     "output_type": "error",
     "traceback": [
      "\u001b[0;31m---------------------------------------------------------------------------\u001b[0m",
      "\u001b[0;31mNameError\u001b[0m                                 Traceback (most recent call last)",
      "\u001b[0;32m<ipython-input-1-bad859dd31c2>\u001b[0m in \u001b[0;36m<module>\u001b[0;34m\u001b[0m\n\u001b[0;32m----> 1\u001b[0;31m \u001b[0mlen\u001b[0m\u001b[0;34m(\u001b[0m\u001b[0mdf\u001b[0m\u001b[0;34m.\u001b[0m\u001b[0miloc\u001b[0m\u001b[0;34m[\u001b[0m\u001b[0;36m2\u001b[0m\u001b[0;34m,\u001b[0m\u001b[0;36m6\u001b[0m\u001b[0;34m]\u001b[0m\u001b[0;34m)\u001b[0m\u001b[0;34m\u001b[0m\u001b[0;34m\u001b[0m\u001b[0m\n\u001b[0m",
      "\u001b[0;31mNameError\u001b[0m: name 'df' is not defined"
     ]
    }
   ],
   "source": [
    "len(df.iloc[2,6])"
   ]
  },
  {
   "cell_type": "code",
   "execution_count": 116,
   "metadata": {
    "ExecuteTime": {
     "end_time": "2020-06-29T20:20:25.556076Z",
     "start_time": "2020-06-29T20:20:25.549218Z"
    }
   },
   "outputs": [
    {
     "data": {
      "text/plain": [
       "[('the-washington-post', 0.9290522336959839),\n",
       " ('fox-news', 0.9000449776649475),\n",
       " ('usa-today', 0.07198482006788254)]"
      ]
     },
     "execution_count": 116,
     "metadata": {},
     "output_type": "execute_result"
    }
   ],
   "source": [
    "new_vector = df.iloc[3,6]\n",
    "sims = model.docvecs.most_similar([new_vector])\n",
    "sims"
   ]
  },
  {
   "cell_type": "code",
   "execution_count": 169,
   "metadata": {
    "ExecuteTime": {
     "end_time": "2020-06-30T04:02:12.883183Z",
     "start_time": "2020-06-30T04:02:12.876547Z"
    }
   },
   "outputs": [
    {
     "data": {
      "text/plain": [
       "[('the-washington-post', 0.9289728403091431),\n",
       " ('fox-news', 0.9014730453491211),\n",
       " ('usa-today', 0.07260637730360031)]"
      ]
     },
     "execution_count": 169,
     "metadata": {},
     "output_type": "execute_result"
    }
   ],
   "source": [
    "new_vector = df.iloc[11,6]\n",
    "sims = model.docvecs.most_similar([new_vector])\n",
    "sims"
   ]
  },
  {
   "cell_type": "code",
   "execution_count": 158,
   "metadata": {
    "ExecuteTime": {
     "end_time": "2020-06-30T01:44:04.695592Z",
     "start_time": "2020-06-30T01:44:04.681694Z"
    }
   },
   "outputs": [
    {
     "data": {
      "text/plain": [
       "['president',\n",
       " 'trump',\n",
       " 'mail',\n",
       " 'voting',\n",
       " 'november',\n",
       " 'election',\n",
       " 'millions',\n",
       " 'ballots',\n",
       " 'voter',\n",
       " 'rolls',\n",
       " 'trump',\n",
       " 'campaign',\n",
       " 'republican',\n",
       " 'national',\n",
       " 'committee',\n",
       " 'groups',\n",
       " 'voting',\n",
       " 'could',\n",
       " 'house',\n",
       " 'amid',\n",
       " 'coronavirus',\n",
       " 'pandemic',\n",
       " 'supreme',\n",
       " 'court',\n",
       " 'also',\n",
       " 'one',\n",
       " 'trump',\n",
       " 'law',\n",
       " 'legal',\n",
       " 'rnc',\n",
       " 'several',\n",
       " 'state',\n",
       " 'group',\n",
       " 'election',\n",
       " 'trump',\n",
       " 'legal',\n",
       " 'national',\n",
       " 'party',\n",
       " 'voter',\n",
       " 'fraud',\n",
       " 'voting',\n",
       " 'year',\n",
       " 'groups',\n",
       " 'new',\n",
       " 'president',\n",
       " 'trump',\n",
       " 'widespread',\n",
       " 'mail',\n",
       " 'balloting',\n",
       " 'would',\n",
       " 'republicans',\n",
       " 'claims',\n",
       " 'voter',\n",
       " 'fraud',\n",
       " 'gop',\n",
       " 'legal',\n",
       " 'said',\n",
       " 'integrity',\n",
       " 'elections',\n",
       " 'fraud',\n",
       " 'election',\n",
       " 'time',\n",
       " 'mail',\n",
       " 'ballots',\n",
       " 'send',\n",
       " 'ballot',\n",
       " 'every',\n",
       " 'said',\n",
       " 'elections',\n",
       " 'since',\n",
       " 'think',\n",
       " 'many',\n",
       " 'ballots',\n",
       " 'mailed',\n",
       " 'great',\n",
       " 'public',\n",
       " 'voters',\n",
       " 'may',\n",
       " 'vote',\n",
       " 'trump',\n",
       " 'voting',\n",
       " 'mail',\n",
       " 'claims',\n",
       " 'lead',\n",
       " 'fraud',\n",
       " 'tweeted',\n",
       " 'want',\n",
       " 'mail',\n",
       " 'ballots',\n",
       " 'president',\n",
       " 'said',\n",
       " 'may',\n",
       " 'republicans',\n",
       " 'trump',\n",
       " 'even',\n",
       " 'trying',\n",
       " 'voting',\n",
       " 'mail',\n",
       " 'work',\n",
       " 'gop',\n",
       " 'voting',\n",
       " 'mail',\n",
       " 'trump',\n",
       " 'democrats',\n",
       " 'say',\n",
       " 'republicans',\n",
       " 'trying',\n",
       " 'voters',\n",
       " 'voted',\n",
       " 'mail',\n",
       " 'groups',\n",
       " 'less',\n",
       " 'rnc',\n",
       " 'president',\n",
       " 'campaign',\n",
       " 'mail',\n",
       " 'voting',\n",
       " 'political',\n",
       " 'time',\n",
       " 'right',\n",
       " 'said',\n",
       " 'democratic',\n",
       " 'voting',\n",
       " 'cases',\n",
       " 'year',\n",
       " 'trump',\n",
       " 'voter',\n",
       " 'fraud',\n",
       " 'republican',\n",
       " 'trump',\n",
       " 'long',\n",
       " 'claims',\n",
       " 'voting',\n",
       " 'fraud',\n",
       " 'saying',\n",
       " 'election',\n",
       " 'would',\n",
       " 'results',\n",
       " 'democratic',\n",
       " 'trump',\n",
       " 'claimed',\n",
       " 'without',\n",
       " 'evidence',\n",
       " 'millions',\n",
       " 'voted',\n",
       " 'office',\n",
       " 'trump',\n",
       " 'election',\n",
       " 'integrity',\n",
       " 'voting',\n",
       " 'fraud',\n",
       " 'states',\n",
       " 'voter',\n",
       " 'data',\n",
       " 'house',\n",
       " 'president',\n",
       " 'according',\n",
       " 'one',\n",
       " 'former',\n",
       " 'like',\n",
       " 'trump',\n",
       " 'potential',\n",
       " 'voting',\n",
       " 'fraud',\n",
       " 'right',\n",
       " 'mail',\n",
       " 'ballot',\n",
       " 'pandemic',\n",
       " 'already',\n",
       " 'millions',\n",
       " 'americans',\n",
       " 'cast',\n",
       " 'ballots',\n",
       " 'year',\n",
       " 'trump',\n",
       " 'campaign',\n",
       " 'three',\n",
       " 'ballot',\n",
       " 'including',\n",
       " 'need',\n",
       " 'legal',\n",
       " 'states',\n",
       " 'according',\n",
       " 'campaign',\n",
       " 'campaign',\n",
       " 'voting',\n",
       " 'states',\n",
       " 'including',\n",
       " 'michigan',\n",
       " 'wisconsin',\n",
       " 'florida',\n",
       " 'said',\n",
       " 'campaign',\n",
       " 'trump',\n",
       " 'every',\n",
       " 'state',\n",
       " 'one',\n",
       " 'trump',\n",
       " 'rnc',\n",
       " 'among',\n",
       " 'president',\n",
       " 'office',\n",
       " 'voter',\n",
       " 'fraud',\n",
       " 'public',\n",
       " 'states',\n",
       " 'absentee',\n",
       " 'ballots',\n",
       " 'claiming',\n",
       " 'mail',\n",
       " 'voting',\n",
       " 'fraud',\n",
       " 'lead',\n",
       " 'great',\n",
       " 'republican',\n",
       " 'party',\n",
       " 'tweeted',\n",
       " 'ballot',\n",
       " 'fraud',\n",
       " 'evidence',\n",
       " 'voting',\n",
       " 'mail',\n",
       " 'thousands',\n",
       " 'thousands',\n",
       " 'ballots',\n",
       " 'trump',\n",
       " 'claimed',\n",
       " 'republicans',\n",
       " 'president',\n",
       " 'work',\n",
       " 'party',\n",
       " 'including',\n",
       " 'states',\n",
       " 'trump',\n",
       " 'vote',\n",
       " 'absentee',\n",
       " 'according',\n",
       " 'two',\n",
       " 'people',\n",
       " 'gop',\n",
       " 'republican',\n",
       " 'party',\n",
       " 'wisconsin',\n",
       " 'county',\n",
       " 'said',\n",
       " 'trump',\n",
       " 'mail',\n",
       " 'balloting',\n",
       " 'need',\n",
       " 'said',\n",
       " 'many',\n",
       " 'national',\n",
       " 'state',\n",
       " 'republican',\n",
       " 'efforts',\n",
       " 'expand',\n",
       " 'mail',\n",
       " 'voting',\n",
       " 'rnc',\n",
       " 'california',\n",
       " 'gop',\n",
       " 'california',\n",
       " 'gov',\n",
       " 'newsom',\n",
       " 'may',\n",
       " 'decision',\n",
       " 'send',\n",
       " 'absentee',\n",
       " 'ballots',\n",
       " 'voters',\n",
       " 'general',\n",
       " 'election',\n",
       " 'national',\n",
       " 'state',\n",
       " 'also',\n",
       " 'florida',\n",
       " 'nevada',\n",
       " 'wisconsin',\n",
       " 'among',\n",
       " 'democratic',\n",
       " 'efforts',\n",
       " 'ballot',\n",
       " 'signature',\n",
       " 'voting',\n",
       " 'thousands',\n",
       " 'rnc',\n",
       " 'trump',\n",
       " 'campaign',\n",
       " 'polling',\n",
       " 'year',\n",
       " 'party',\n",
       " 'officials',\n",
       " 'said',\n",
       " 'federal',\n",
       " 'three',\n",
       " 'party',\n",
       " 'voting',\n",
       " 'going',\n",
       " 'said',\n",
       " 'rnc',\n",
       " 'democrats',\n",
       " 'pandemic',\n",
       " 'fraud',\n",
       " 're',\n",
       " 'going',\n",
       " 'make',\n",
       " 'security',\n",
       " 'ballot',\n",
       " 'well',\n",
       " 'million',\n",
       " 'gop',\n",
       " 'claimed',\n",
       " 'state',\n",
       " 'judge',\n",
       " 'democratic',\n",
       " 'allow',\n",
       " 'absentee',\n",
       " 'ballots',\n",
       " 'process',\n",
       " 'republicans',\n",
       " 'ballot',\n",
       " 'group',\n",
       " 'elections',\n",
       " 'many',\n",
       " 'cases',\n",
       " 'also',\n",
       " 'campaign',\n",
       " 'rnc',\n",
       " 'democrats',\n",
       " 'pandemic',\n",
       " 'election',\n",
       " 'group',\n",
       " 'said',\n",
       " 'elections',\n",
       " 'like',\n",
       " 'rnc',\n",
       " 'groups',\n",
       " 'efforts',\n",
       " 'election',\n",
       " 'group',\n",
       " 'also',\n",
       " 'campaign',\n",
       " 'states',\n",
       " 'voter',\n",
       " 'democrats',\n",
       " 'year',\n",
       " 'said',\n",
       " 'states',\n",
       " 'sending',\n",
       " 'absentee',\n",
       " 'ballot',\n",
       " 'applications',\n",
       " 'cases',\n",
       " 'ballots',\n",
       " 'every',\n",
       " 'registered',\n",
       " 'voter',\n",
       " 'primary',\n",
       " 'integrity',\n",
       " 'elections',\n",
       " 'said',\n",
       " 'voter',\n",
       " 'group',\n",
       " 'sent',\n",
       " 'states',\n",
       " 'florida',\n",
       " 'michigan',\n",
       " 'colorado',\n",
       " 'claiming',\n",
       " 'voter',\n",
       " 'rolls',\n",
       " 'states',\n",
       " 'people',\n",
       " 'vote',\n",
       " 'election',\n",
       " 'officials',\n",
       " 'states',\n",
       " 'group',\n",
       " 'claims',\n",
       " 'gop',\n",
       " 'officials',\n",
       " 'voting',\n",
       " 'say',\n",
       " 'groups',\n",
       " 'great',\n",
       " 'work',\n",
       " 'said',\n",
       " 'rnc',\n",
       " 'party',\n",
       " 'campaign',\n",
       " 'would',\n",
       " 'legal',\n",
       " 'groups',\n",
       " 'law',\n",
       " 'trump',\n",
       " 'two',\n",
       " 'also',\n",
       " 'trump',\n",
       " 'campaign',\n",
       " 'national',\n",
       " 'gop',\n",
       " 'state',\n",
       " 'california',\n",
       " 'florida',\n",
       " 'wisconsin',\n",
       " 'well',\n",
       " 'elections',\n",
       " 'trump',\n",
       " 'president',\n",
       " 'rnc',\n",
       " 'million',\n",
       " 'legal',\n",
       " 'work',\n",
       " 'since',\n",
       " 'last',\n",
       " 'year',\n",
       " 'trump',\n",
       " 'campaign',\n",
       " 'campaign',\n",
       " 'also',\n",
       " 'elections',\n",
       " 'sent',\n",
       " 'state',\n",
       " 'election',\n",
       " 'year',\n",
       " 'according',\n",
       " 'washington',\n",
       " 'post',\n",
       " 'campaign',\n",
       " 'president',\n",
       " 'take',\n",
       " 'election',\n",
       " 'cases',\n",
       " 'according',\n",
       " 'campaign',\n",
       " 'rnc',\n",
       " 'said',\n",
       " 'great',\n",
       " 'work',\n",
       " 'request',\n",
       " 'former',\n",
       " 'law',\n",
       " 'voting',\n",
       " 'cases',\n",
       " 'county',\n",
       " 'supreme',\n",
       " 'court',\n",
       " 'case',\n",
       " 'voting',\n",
       " 'voting',\n",
       " 'cases',\n",
       " 'year',\n",
       " 'voting',\n",
       " 'democratic',\n",
       " 'said',\n",
       " 'voting',\n",
       " 'know',\n",
       " 'take',\n",
       " 'case',\n",
       " 'according',\n",
       " 'people',\n",
       " 'know',\n",
       " 'also',\n",
       " 'millions',\n",
       " 'years',\n",
       " 'trump',\n",
       " 'supreme',\n",
       " 'court',\n",
       " 'time',\n",
       " 'voting',\n",
       " 'cases',\n",
       " 'groups',\n",
       " 'support',\n",
       " 'efforts',\n",
       " 'said',\n",
       " 'people',\n",
       " 'request',\n",
       " 'trump',\n",
       " 'supreme',\n",
       " 'court',\n",
       " 'two',\n",
       " 'people',\n",
       " 'said',\n",
       " 'elections',\n",
       " 'people',\n",
       " 'said',\n",
       " 'elections',\n",
       " 'elections',\n",
       " 'trump',\n",
       " 'voter',\n",
       " 'fraud',\n",
       " 'first',\n",
       " 'request',\n",
       " 'voter',\n",
       " 'fraud',\n",
       " 'said',\n",
       " 'work',\n",
       " 'elections',\n",
       " 'said',\n",
       " 'court',\n",
       " 'want',\n",
       " 'group',\n",
       " 'said',\n",
       " 'want',\n",
       " 'voter',\n",
       " 'fraud',\n",
       " 'want',\n",
       " 'make',\n",
       " 'case',\n",
       " 'election',\n",
       " 'integrity',\n",
       " 'new',\n",
       " 'gop',\n",
       " 'work',\n",
       " 'group',\n",
       " 'right',\n",
       " 'long',\n",
       " 'public',\n",
       " 'voting',\n",
       " 'two',\n",
       " 'long',\n",
       " 'voter',\n",
       " 'fraud',\n",
       " 'claims',\n",
       " 'trump',\n",
       " 'election',\n",
       " 'integrity',\n",
       " 'groups',\n",
       " 'election',\n",
       " 'officials',\n",
       " 'voter',\n",
       " 'rolls',\n",
       " 'fraud',\n",
       " 'group',\n",
       " 'public',\n",
       " 'legal',\n",
       " 'report',\n",
       " 'registered',\n",
       " 'voters',\n",
       " 'claimed',\n",
       " 'report',\n",
       " 'saying',\n",
       " 'fact',\n",
       " 'state',\n",
       " 'lead',\n",
       " 'group',\n",
       " 'election',\n",
       " 'officials',\n",
       " 'county',\n",
       " 'county',\n",
       " 'percent',\n",
       " 'case',\n",
       " 'federal',\n",
       " 'judge',\n",
       " 'five',\n",
       " 'day',\n",
       " 'evidence',\n",
       " 'judge',\n",
       " 'group',\n",
       " 'voter',\n",
       " 'group',\n",
       " 'voters',\n",
       " 'rolls',\n",
       " 'vote',\n",
       " 'judge',\n",
       " 'wrote',\n",
       " 'judge',\n",
       " 'wrote',\n",
       " 'federal',\n",
       " 'court',\n",
       " 'decision',\n",
       " 'last',\n",
       " 'year',\n",
       " 'post',\n",
       " 'said',\n",
       " 'vote',\n",
       " 'amid',\n",
       " 'pandemic',\n",
       " 'saying',\n",
       " 'mail',\n",
       " 'ballots',\n",
       " 'said',\n",
       " 'right',\n",
       " 'said',\n",
       " 'long',\n",
       " 'groups',\n",
       " 'including',\n",
       " 'democratic',\n",
       " 'voters',\n",
       " 'year',\n",
       " 'groups',\n",
       " 'many',\n",
       " 'millions',\n",
       " 'years',\n",
       " 'integrity',\n",
       " 'elections',\n",
       " 'said',\n",
       " 'last',\n",
       " 'two',\n",
       " 'elections',\n",
       " 'legal',\n",
       " 'state',\n",
       " 'voter',\n",
       " 'rolls',\n",
       " 'efforts',\n",
       " 'group',\n",
       " 'voter',\n",
       " 'sign',\n",
       " 'people',\n",
       " 'registered',\n",
       " 'states',\n",
       " 'take',\n",
       " 'people',\n",
       " 'rolls',\n",
       " 'voter',\n",
       " 'rolls',\n",
       " 'voters',\n",
       " 'process',\n",
       " 'risk',\n",
       " 'fraud',\n",
       " 'public',\n",
       " 'elections',\n",
       " 'wrote',\n",
       " 'election',\n",
       " 'officials',\n",
       " 'states',\n",
       " 'federal',\n",
       " 'law',\n",
       " 'election',\n",
       " 'officials',\n",
       " 'voter',\n",
       " 'rolls',\n",
       " 'officials',\n",
       " 'election',\n",
       " 'election',\n",
       " 'security',\n",
       " 'experts',\n",
       " 'say',\n",
       " 'voting',\n",
       " 'rolls',\n",
       " 'potential',\n",
       " 'ballot',\n",
       " 'fraud',\n",
       " 'one',\n",
       " 'elections',\n",
       " 'said',\n",
       " 'data',\n",
       " 'elections',\n",
       " 'said',\n",
       " 'political',\n",
       " 'elections',\n",
       " 'florida',\n",
       " 'county',\n",
       " 'case',\n",
       " 'colorado',\n",
       " 'secretary',\n",
       " 'state',\n",
       " 'said',\n",
       " 'state',\n",
       " 'percent',\n",
       " 're',\n",
       " 'people',\n",
       " 'vote',\n",
       " 'said',\n",
       " 'state',\n",
       " 'voter',\n",
       " 'including',\n",
       " 'among',\n",
       " 'sending',\n",
       " 'year',\n",
       " 'said',\n",
       " 'back',\n",
       " 'election',\n",
       " 'officials',\n",
       " 'said',\n",
       " 'group',\n",
       " 'group',\n",
       " 'still',\n",
       " 'whether',\n",
       " 'well',\n",
       " 'whether',\n",
       " 'expand',\n",
       " 'states',\n",
       " 'said',\n",
       " 'court',\n",
       " 'decision',\n",
       " 'said',\n",
       " 'place',\n",
       " 'report']"
      ]
     },
     "execution_count": 158,
     "metadata": {},
     "output_type": "execute_result"
    }
   ],
   "source": [
    "df.iloc[3,5]"
   ]
  },
  {
   "cell_type": "code",
   "execution_count": 155,
   "metadata": {
    "ExecuteTime": {
     "end_time": "2020-06-30T01:42:49.756975Z",
     "start_time": "2020-06-30T01:42:49.684670Z"
    }
   },
   "outputs": [
    {
     "name": "stderr",
     "output_type": "stream",
     "text": [
      "/opt/anaconda3/envs/buan6341/lib/python3.7/site-packages/ipykernel_launcher.py:1: DeprecationWarning: Call to deprecated `most_similar` (Method will be removed in 4.0.0, use self.wv.most_similar() instead).\n",
      "  \"\"\"Entry point for launching an IPython kernel.\n"
     ]
    },
    {
     "data": {
      "text/plain": [
       "[('make', 0.6965751647949219),\n",
       " ('said', 0.6558591723442078),\n",
       " ('gov', 0.6151562333106995),\n",
       " ('voters', 0.6012398600578308),\n",
       " ('voting', 0.5903368592262268),\n",
       " ('voter', 0.5892876982688904),\n",
       " ('fraud', 0.583672285079956),\n",
       " ('still', 0.5423531532287598),\n",
       " ('mail', 0.5362420678138733),\n",
       " ('order', 0.5256496071815491)]"
      ]
     },
     "execution_count": 155,
     "metadata": {},
     "output_type": "execute_result"
    }
   ],
   "source": [
    "\n",
    "sims2 = model.most_similar([new_vector])\n",
    "sims2"
   ]
  },
  {
   "cell_type": "code",
   "execution_count": 134,
   "metadata": {
    "ExecuteTime": {
     "end_time": "2020-06-29T23:19:36.810119Z",
     "start_time": "2020-06-29T23:19:35.949818Z"
    }
   },
   "outputs": [
    {
     "name": "stderr",
     "output_type": "stream",
     "text": [
      "/opt/anaconda3/envs/buan6341/lib/python3.7/site-packages/ipykernel_launcher.py:6: DeprecationWarning: Call to deprecated `doctag_syn0` (Attribute will be removed in 4.0.0, use docvecs.vectors_docs instead).\n",
      "  \n",
      "/opt/anaconda3/envs/buan6341/lib/python3.7/site-packages/ipykernel_launcher.py:9: DeprecationWarning: Call to deprecated `doctag_syn0` (Attribute will be removed in 4.0.0, use docvecs.vectors_docs instead).\n",
      "  if __name__ == '__main__':\n",
      "/opt/anaconda3/envs/buan6341/lib/python3.7/site-packages/ipykernel_launcher.py:10: DeprecationWarning: Call to deprecated `doctag_syn0` (Attribute will be removed in 4.0.0, use docvecs.vectors_docs instead).\n",
      "  # Remove the CWD from sys.path while we load stuff.\n",
      "/opt/anaconda3/envs/buan6341/lib/python3.7/site-packages/ipykernel_launcher.py:11: DeprecationWarning: Call to deprecated `doctag_syn0` (Attribute will be removed in 4.0.0, use docvecs.vectors_docs instead).\n",
      "  # This is added back by InteractiveShellApp.init_path()\n"
     ]
    },
    {
     "data": {
      "image/png": "[encoded data removed]",
      "text/plain": [
       "<Figure size 432x288 with 1 Axes>"
      ]
     },
     "metadata": {
      "needs_background": "light"
     },
     "output_type": "display_data"
    }
   ],
   "source": [
    "from sklearn.cluster import KMeans\n",
    "from sklearn.decomposition import PCA\n",
    "import matplotlib.pyplot as plt\n",
    "\n",
    "kmeans_model = KMeans(n_clusters=3, init='k-means++',max_iter=100)\n",
    "X = kmeans_model.fit(model.docvecs.doctag_syn0)\n",
    "labels = kmeans_model.labels_.tolist()\n",
    "\n",
    "l = kmeans_model.fit_predict(model.docvecs.doctag_syn0)\n",
    "pca = PCA(n_components=2).fit(model.docvecs.doctag_syn0)\n",
    "datapoint = pca.transform(model.docvecs.doctag_syn0)\n",
    "\n",
    "plt.figure\n",
    "label1 = [\"#FFFF00\", \"#008000\", \"#0000FF\", \"#800080\"]\n",
    "color = [label1[i] for i in labels]\n",
    "plt.scatter(datapoint[:, 0], datapoint[:, 1], c=color)\n",
    "centroids = kmeans_model.cluster_centers_\n",
    "centroidpoint = pca.transform(centroids)\n",
    "plt.scatter(centroidpoint[:, 0], centroidpoint[:, 1], marker='^', s=150, c='#000000')\n",
    "plt.show()"
   ]
  },
  {
   "cell_type": "code",
   "execution_count": 141,
   "metadata": {
    "ExecuteTime": {
     "end_time": "2020-06-29T23:27:15.439770Z",
     "start_time": "2020-06-29T23:27:15.435272Z"
    }
   },
   "outputs": [
    {
     "name": "stdout",
     "output_type": "stream",
     "text": [
      "['__class__', '__contains__', '__delattr__', '__dict__', '__dir__', '__doc__', '__eq__', '__format__', '__ge__', '__getattribute__', '__getitem__', '__gt__', '__hash__', '__ignoreds', '__init__', '__init_subclass__', '__le__', '__len__', '__lt__', '__module__', '__ne__', '__new__', '__numpys', '__recursive_saveloads', '__reduce__', '__reduce_ex__', '__repr__', '__scipys', '__setattr__', '__setitem__', '__sizeof__', '__slotnames__', '__str__', '__subclasshook__', '__weakref__', '_adapt_by_suffix', '_index_to_doctag', '_int_index', '_load_specials', '_save_specials', '_smart_save', 'add', 'closer_than', 'count', 'distance', 'distances', 'doctag_syn0', 'doctag_syn0norm', 'doctags', 'doesnt_match', 'get_vector', 'index2entity', 'index_to_doctag', 'init_sims', 'int_index', 'load', 'mapfile_path', 'max_rawint', 'most_similar', 'most_similar_to_given', 'n_similarity', 'offset2doctag', 'rank', 'save', 'save_word2vec_format', 'similarity', 'similarity_unseen_docs', 'vector_size', 'vectors', 'vectors_docs', 'vectors_docs_norm', 'vocab']\n"
     ]
    }
   ],
   "source": [
    "print(dir(model.docvecs))"
   ]
  },
  {
   "cell_type": "code",
   "execution_count": 150,
   "metadata": {
    "ExecuteTime": {
     "end_time": "2020-06-30T01:09:41.413131Z",
     "start_time": "2020-06-30T01:09:41.301266Z"
    }
   },
   "outputs": [
    {
     "ename": "KeyError",
     "evalue": "\"tag '3' not seen in training corpus/invalid\"",
     "output_type": "error",
     "traceback": [
      "\u001b[0;31m---------------------------------------------------------------------------\u001b[0m",
      "\u001b[0;31mKeyError\u001b[0m                                  Traceback (most recent call last)",
      "\u001b[0;32m<ipython-input-150-5edc68250185>\u001b[0m in \u001b[0;36m<module>\u001b[0;34m\u001b[0m\n\u001b[0;32m----> 1\u001b[0;31m \u001b[0mprint\u001b[0m\u001b[0;34m(\u001b[0m\u001b[0mmodel\u001b[0m\u001b[0;34m.\u001b[0m\u001b[0mdocvecs\u001b[0m\u001b[0;34m[\u001b[0m\u001b[0;36m3\u001b[0m\u001b[0;34m]\u001b[0m\u001b[0;34m)\u001b[0m\u001b[0;34m\u001b[0m\u001b[0;34m\u001b[0m\u001b[0m\n\u001b[0m",
      "\u001b[0;32m/opt/anaconda3/envs/buan6341/lib/python3.7/site-packages/gensim/models/keyedvectors.py\u001b[0m in \u001b[0;36m__getitem__\u001b[0;34m(self, index)\u001b[0m\n\u001b[1;32m   1611\u001b[0m                 \u001b[0;32mreturn\u001b[0m \u001b[0mself\u001b[0m\u001b[0;34m.\u001b[0m\u001b[0mvectors_docs\u001b[0m\u001b[0;34m[\u001b[0m\u001b[0mself\u001b[0m\u001b[0;34m.\u001b[0m\u001b[0m_int_index\u001b[0m\u001b[0;34m(\u001b[0m\u001b[0mindex\u001b[0m\u001b[0;34m,\u001b[0m \u001b[0mself\u001b[0m\u001b[0;34m.\u001b[0m\u001b[0mdoctags\u001b[0m\u001b[0;34m,\u001b[0m \u001b[0mself\u001b[0m\u001b[0;34m.\u001b[0m\u001b[0mmax_rawint\u001b[0m\u001b[0;34m)\u001b[0m\u001b[0;34m]\u001b[0m\u001b[0;34m\u001b[0m\u001b[0;34m\u001b[0m\u001b[0m\n\u001b[1;32m   1612\u001b[0m             \u001b[0;32mreturn\u001b[0m \u001b[0mvstack\u001b[0m\u001b[0;34m(\u001b[0m\u001b[0;34m[\u001b[0m\u001b[0mself\u001b[0m\u001b[0;34m[\u001b[0m\u001b[0mi\u001b[0m\u001b[0;34m]\u001b[0m \u001b[0;32mfor\u001b[0m \u001b[0mi\u001b[0m \u001b[0;32min\u001b[0m \u001b[0mindex\u001b[0m\u001b[0;34m]\u001b[0m\u001b[0;34m)\u001b[0m\u001b[0;34m\u001b[0m\u001b[0;34m\u001b[0m\u001b[0m\n\u001b[0;32m-> 1613\u001b[0;31m         \u001b[0;32mraise\u001b[0m \u001b[0mKeyError\u001b[0m\u001b[0;34m(\u001b[0m\u001b[0;34m\"tag '%s' not seen in training corpus/invalid\"\u001b[0m \u001b[0;34m%\u001b[0m \u001b[0mindex\u001b[0m\u001b[0;34m)\u001b[0m\u001b[0;34m\u001b[0m\u001b[0;34m\u001b[0m\u001b[0m\n\u001b[0m\u001b[1;32m   1614\u001b[0m \u001b[0;34m\u001b[0m\u001b[0m\n\u001b[1;32m   1615\u001b[0m     \u001b[0;32mdef\u001b[0m \u001b[0m__contains__\u001b[0m\u001b[0;34m(\u001b[0m\u001b[0mself\u001b[0m\u001b[0;34m,\u001b[0m \u001b[0mindex\u001b[0m\u001b[0;34m)\u001b[0m\u001b[0;34m:\u001b[0m\u001b[0;34m\u001b[0m\u001b[0;34m\u001b[0m\u001b[0m\n",
      "\u001b[0;31mKeyError\u001b[0m: \"tag '3' not seen in training corpus/invalid\""
     ]
    }
   ],
   "source": [
    "print(model.docvecs[3])"
   ]
  },
  {
   "cell_type": "code",
   "execution_count": 146,
   "metadata": {
    "ExecuteTime": {
     "end_time": "2020-06-29T23:30:53.843725Z",
     "start_time": "2020-06-29T23:30:53.817435Z"
    }
   },
   "outputs": [
    {
     "name": "stdout",
     "output_type": "stream",
     "text": [
      "[ 1.24786643e-03 -2.52164202e-03 -1.96052413e-03  3.83259205e-04\n",
      "  8.10176076e-04  2.75077298e-04  2.31673196e-03  1.76863885e-03\n",
      "  2.66257976e-03 -2.20183725e-03  1.40158006e-03 -1.47375592e-03\n",
      "  8.83800851e-04 -2.17223936e-03 -2.66231643e-03  3.64825508e-04\n",
      " -1.05123276e-04  1.69582793e-03  3.13695939e-03 -1.98631594e-03\n",
      "  1.30425920e-04  1.37335993e-03 -4.11634613e-03  6.06799986e-05\n",
      " -4.55813576e-03 -2.74446560e-03 -1.00082869e-03  2.14113342e-03\n",
      "  3.90393776e-03  1.22036471e-03  1.74216437e-03  1.34215225e-04\n",
      " -4.21790313e-03  2.26869155e-03 -2.45356723e-03 -3.24309873e-03\n",
      "  4.38949233e-03  5.13798848e-04 -4.01550176e-04 -1.85021118e-03\n",
      " -3.82045144e-03 -3.75942187e-03 -4.91648819e-03 -4.32498317e-04\n",
      "  1.41665793e-03 -2.02337233e-03  5.66984643e-04 -6.79357350e-03\n",
      " -1.12371380e-03  1.73723907e-03  1.95788639e-03  1.75530964e-04\n",
      " -2.00066529e-03  3.52271809e-03 -4.34569828e-03  3.14525189e-03\n",
      " -2.80779507e-03 -4.39203903e-03  1.73592032e-03 -5.31430647e-04\n",
      " -9.45993175e-04  1.49885495e-03  6.46447646e-04 -3.95340566e-03\n",
      "  3.72078875e-03 -1.49661035e-04 -1.41453242e-03  6.87683816e-04\n",
      "  1.48144399e-03 -3.13385128e-04  1.27904280e-03 -2.58871657e-03\n",
      "  3.60381033e-04 -1.62540132e-03 -5.30993741e-04 -3.31357878e-05\n",
      " -2.17707851e-03  3.74018052e-03 -1.79237186e-03 -2.54841824e-03\n",
      " -2.99613330e-05 -2.27263168e-04 -1.37091940e-03  3.90407606e-03\n",
      "  1.39159732e-03  3.24787688e-04 -7.13853748e-04  1.37298717e-03\n",
      " -1.90747844e-03 -3.00517445e-03 -2.70012510e-03 -4.24076970e-05\n",
      "  8.31723446e-05 -1.09080318e-03 -3.47283226e-03  4.19032585e-04\n",
      "  3.30402749e-03 -1.73743244e-03  1.48369058e-03 -1.09588844e-03\n",
      " -7.30854445e-05 -1.22131140e-03 -3.71439173e-03  1.77590863e-03\n",
      "  8.02106864e-04  3.04232235e-03  1.92616228e-03 -3.08073894e-03\n",
      "  3.29573988e-04  1.07134134e-03 -1.52782653e-03 -3.58625245e-03\n",
      " -1.52503920e-03 -2.15514773e-03  1.07767479e-03 -3.38365440e-03\n",
      " -1.00914156e-04  1.67527783e-03 -3.48851248e-03 -1.44190461e-04\n",
      " -1.81162159e-03  2.30403198e-03  5.55224251e-04  1.01723697e-03\n",
      " -2.99624959e-03  4.16974677e-03 -1.70191599e-03 -2.82199378e-03\n",
      "  1.30303460e-03 -4.51750937e-04 -3.09838168e-03  2.76928302e-03\n",
      " -9.59240948e-04  1.92556763e-03  5.14808227e-04 -4.37655114e-03\n",
      " -2.06754473e-03 -1.29128620e-03  1.79582986e-03 -2.19309214e-03\n",
      "  8.26452568e-04 -3.14740813e-03  2.22002913e-04  6.51962589e-04\n",
      "  1.65857072e-03 -8.37867032e-04  1.17052335e-03 -2.07049027e-03\n",
      "  4.81933681e-03  1.03988010e-03  2.14975467e-03  9.57514101e-04\n",
      "  3.56656587e-04  2.54985434e-03  3.22834775e-03  2.01329892e-03\n",
      "  1.36787572e-03 -1.59800530e-03 -1.11811166e-03 -2.90749874e-03\n",
      " -2.11940613e-03 -6.20262173e-04  2.34315405e-03  1.01026089e-03\n",
      " -7.10081717e-04 -9.20319988e-04  4.34718048e-03  1.66470953e-03\n",
      "  2.91822338e-03  2.31945980e-03 -6.83326786e-03 -3.33274622e-03\n",
      " -2.25835736e-03 -1.98365818e-03  5.29174751e-04 -1.28824764e-03\n",
      " -1.24899345e-03 -2.09161240e-04 -6.02115470e-04 -1.91976794e-03\n",
      "  3.08545050e-03  9.96588613e-04 -1.39187359e-05  2.19253893e-03\n",
      "  9.52944916e-04 -1.99981470e-04 -1.85119244e-03 -1.99487084e-03\n",
      " -3.34246270e-03 -3.32687655e-03  4.49883577e-04  2.05674185e-03\n",
      " -4.62000445e-03 -7.21993492e-05 -2.21991679e-03 -3.39911343e-03\n",
      " -1.27263681e-03  1.29752315e-03  2.13148398e-03 -2.45856401e-03\n",
      " -1.48743717e-03 -1.96327615e-04  2.32026214e-03  1.58505538e-03\n",
      "  3.42767707e-05 -8.09175544e-04  4.77429800e-04 -6.99226512e-04\n",
      " -7.31302367e-04  1.57343701e-03 -1.00882968e-03 -2.06505574e-04\n",
      " -3.93695990e-03 -1.16619887e-03  2.96384038e-04 -2.02279165e-03\n",
      "  2.11571087e-03  2.87312292e-03 -4.07502783e-04 -2.99561629e-03\n",
      " -1.94943044e-04  2.05701054e-03 -5.20911184e-04  1.65838667e-03\n",
      " -3.19002219e-03 -8.40442604e-04 -4.91375895e-03  1.59608631e-03\n",
      " -3.45782447e-03 -6.49099529e-04 -8.74702295e-04  2.74785305e-03\n",
      "  2.30922620e-03 -1.26932515e-03  2.52020219e-03  8.33490485e-05\n",
      "  3.71511839e-03  4.58139781e-04  1.63612713e-03 -2.42830184e-03\n",
      " -2.49129924e-04  1.60145212e-03  3.15397489e-03  2.82666204e-03\n",
      " -3.49369436e-03 -2.45130877e-03 -1.97762693e-03  3.68603593e-04\n",
      "  2.96080438e-03  5.07202884e-03  1.40434981e-03 -1.85239804e-03\n",
      "  2.04833830e-03 -4.78158984e-03 -3.09722475e-03  3.89416819e-03\n",
      "  3.49949463e-03  2.11912161e-03 -1.82047719e-03 -5.16276481e-03\n",
      "  2.48980825e-03 -2.80387467e-03  2.69878237e-03 -2.55010580e-03\n",
      " -2.19532754e-03  2.57798075e-03 -2.06270663e-04 -2.20670551e-03\n",
      " -1.63269904e-03  1.59710378e-03  3.08730919e-03 -1.52025232e-03\n",
      " -2.68302788e-03  2.85184896e-03  2.40228162e-03  3.26994690e-03\n",
      "  2.22718692e-03  3.90075613e-03 -4.73680487e-03  3.61570925e-03\n",
      "  3.08427191e-03 -3.35622509e-03  3.47371888e-03  3.04454146e-03\n",
      "  2.49006692e-03  5.38641878e-04  1.93478772e-03  1.87725091e-04\n",
      " -1.49432546e-03  2.16724840e-03 -8.92582641e-04  1.09474151e-03\n",
      " -1.33582987e-04  4.70861420e-03  5.66025916e-03  5.41249938e-05\n",
      " -5.55758423e-04 -4.75898804e-03  3.36283864e-03  4.69541037e-03]\n",
      "[-8.92306562e-04 -1.63952215e-03 -2.96596758e-04  5.62218600e-04\n",
      " -5.51427365e-04  3.01118445e-04 -3.50224000e-04 -1.38491252e-03\n",
      "  1.67234940e-03 -6.97156764e-04 -7.05995830e-04  1.05973659e-03\n",
      " -3.66802822e-04  2.12540865e-04 -1.54364051e-03  4.97926550e-04\n",
      " -9.43326304e-05  1.15370657e-03  1.41597155e-03  1.06481800e-03\n",
      "  1.48847688e-03  1.48171629e-03  4.35051363e-04 -1.10654894e-03\n",
      "  1.39859703e-03  1.30865467e-03  1.23759976e-03  1.15471252e-03\n",
      "  8.39385903e-04 -9.98649048e-04  1.20140973e-03 -7.12666311e-04\n",
      " -1.64105918e-03  1.64223008e-03 -1.82416799e-04 -4.23717196e-04\n",
      " -1.17017922e-03 -1.57837418e-03 -8.96920334e-04  3.06164759e-04\n",
      "  1.20229772e-04  9.31208255e-04  1.87112615e-04 -9.48670913e-06\n",
      "  1.37571828e-03  4.76608140e-04 -1.16291188e-03  4.33987152e-04\n",
      " -1.46416819e-03  6.58380392e-04 -1.08947116e-03 -7.08954933e-04\n",
      " -1.40254525e-03  1.19280268e-03  6.87660009e-04  3.26257112e-04\n",
      " -6.99812896e-04 -1.00361393e-03 -1.05331978e-03  7.41183903e-05\n",
      "  5.94871235e-04 -6.77438744e-04 -6.90179761e-04  1.57818722e-03\n",
      " -5.80243126e-04 -6.57984056e-04 -9.24731721e-04 -9.11277602e-04\n",
      " -5.85592643e-04  1.00537429e-04 -6.40487648e-04  8.70922086e-05\n",
      "  1.32438564e-03  1.21232821e-03  1.58540136e-03  1.14980701e-03\n",
      " -2.40444089e-04 -1.54056808e-03 -1.17546355e-03 -1.00962375e-03\n",
      "  1.57143164e-04 -1.23803795e-04  1.61607368e-05 -1.14237226e-03\n",
      "  1.20659650e-03  9.49392270e-04  1.08562550e-03 -1.16847374e-03\n",
      " -4.34403075e-04  1.34769164e-03 -1.61869137e-03 -5.89357049e-04\n",
      "  3.24632303e-04  7.35047115e-06 -1.47323380e-03 -3.00225860e-04\n",
      " -5.15005850e-05  1.22501771e-03  1.57864077e-03  1.24142854e-03\n",
      " -7.41372700e-04 -6.39045436e-04  7.16280076e-04 -6.11655181e-04\n",
      "  9.75135423e-04 -1.08098669e-03 -1.51568514e-04  4.42165212e-04\n",
      "  8.58167710e-04 -7.37173890e-04 -5.24447416e-04  7.41314841e-04\n",
      " -1.58598111e-03  6.67456305e-04  1.49264967e-03 -2.49113946e-04\n",
      "  1.49043655e-04  2.30794714e-04 -1.37300999e-03  2.66976422e-04\n",
      " -3.93263326e-04  1.61297561e-03 -7.85646262e-04 -4.88764723e-04\n",
      "  2.80896755e-04  1.11132651e-03 -1.42331491e-03  1.60473434e-03\n",
      "  4.87519690e-04  1.49417168e-03  1.33216483e-04 -1.32682559e-03\n",
      " -1.52090308e-03 -5.75864571e-04 -3.60519916e-04 -1.21192983e-03\n",
      "  1.23748346e-03 -1.24979089e-03  1.80241404e-04 -1.29494537e-03\n",
      "  1.13321305e-03  1.34923088e-03  2.16361208e-04 -6.76353695e-04\n",
      "  9.72878945e-04  1.58380973e-03 -1.29313441e-03 -6.27891161e-04\n",
      "  1.53656316e-03  1.12777727e-03 -1.29045613e-04 -1.54360186e-03\n",
      "  4.48628853e-04 -3.82562066e-05  1.66073011e-03 -3.62535269e-04\n",
      " -6.39318896e-04 -4.28793399e-04 -5.30869991e-04  1.36988028e-03\n",
      "  5.17019420e-04 -1.43073045e-03  1.24683336e-03  1.86495221e-04\n",
      "  1.55673682e-04 -2.57444073e-04 -1.45382143e-03 -1.45007751e-03\n",
      "  1.35997063e-04  1.40114909e-03 -1.15931754e-04  9.90685541e-04\n",
      " -4.44753998e-04 -1.00378727e-03 -1.02489535e-03  8.58307059e-04\n",
      " -1.56569900e-03  6.43213745e-04 -1.28331687e-03  4.97203495e-04\n",
      "  1.66977081e-03 -6.54305855e-04 -1.66889490e-03  1.41889905e-03\n",
      "  7.95176602e-05  1.65339292e-03  1.28526904e-03 -1.61886762e-03\n",
      " -3.84692830e-05  1.65032421e-03 -1.38197257e-03 -4.22274403e-04\n",
      " -1.16808212e-03  1.34391812e-04 -1.01035391e-03  7.66087847e-04\n",
      "  6.33219082e-04  1.29405619e-03  4.46674181e-04 -1.66375842e-03\n",
      " -1.08818256e-03 -1.00254896e-03  1.04740239e-03 -7.58256647e-04\n",
      "  3.62043880e-04 -7.88651523e-04 -1.18799822e-03 -9.53350216e-04\n",
      "  1.47740636e-03  4.01662226e-04 -1.40348345e-03  1.55010738e-03\n",
      " -7.51735177e-04 -1.58687370e-04  2.38156528e-04  2.02496376e-04\n",
      " -1.50846364e-03 -1.63469289e-03  1.35479285e-03  1.32837659e-03\n",
      " -1.93956366e-04 -5.79418338e-05  2.28526449e-04 -1.37459181e-04\n",
      " -1.32294127e-03 -1.11857394e-03  4.74826578e-04 -4.41777200e-04\n",
      " -1.56970706e-03 -8.56058206e-04 -3.60833074e-04  6.54220872e-04\n",
      " -9.21484607e-04 -1.47905166e-03 -9.36503857e-05 -1.35367562e-03\n",
      "  1.74160511e-03 -3.10814910e-04  1.49927000e-04 -6.25205692e-04\n",
      "  1.56040816e-03 -1.48373703e-03  6.91303052e-04  2.33442930e-04\n",
      "  1.08379882e-03 -1.62822695e-03  7.87277066e-04 -5.29642799e-04\n",
      " -1.83531884e-04  5.75178186e-04 -9.60032223e-04  3.63405765e-04\n",
      "  1.65238496e-04  1.61156105e-03  1.15632289e-03 -6.56905642e-04\n",
      "  5.77825063e-04  1.57850701e-03 -1.11195841e-03 -4.56746086e-04\n",
      "  9.31018789e-04 -6.27592439e-04  1.04567723e-03 -1.72839372e-03\n",
      " -7.58009090e-04  8.30092584e-04 -5.52615034e-04  6.49196503e-04\n",
      " -6.76810800e-04  1.49290625e-03 -9.99602606e-04  1.27781695e-03\n",
      "  5.93734498e-04 -6.11573691e-04  5.73832309e-04 -3.33386342e-05\n",
      " -7.89843325e-04  4.42167890e-04 -1.43361045e-04  1.45208475e-03\n",
      "  1.86953548e-04 -6.32712618e-04  1.67668215e-03 -1.53920753e-03\n",
      "  1.62928435e-03 -1.26389263e-03 -3.40985076e-04 -1.16573399e-04\n",
      " -4.18853888e-04 -7.18739757e-04  1.57528778e-03  9.61861981e-04\n",
      " -2.22475210e-05  7.33145047e-04 -1.14524562e-03  1.10867189e-03\n",
      "  8.12793965e-04 -8.81748041e-04  5.94343408e-04  9.38725891e-04]\n",
      "[-1.96739551e-04 -2.84304819e-03  4.43441939e-04  1.99454348e-03\n",
      "  1.37725635e-03  1.59475941e-03  1.14050158e-03  1.37873611e-03\n",
      "  1.25439290e-03 -3.27667047e-04  1.60646602e-03  8.10958096e-04\n",
      "  4.63199947e-04 -1.96541683e-03 -2.45042401e-03 -5.54663711e-04\n",
      " -1.51002221e-03  1.64882303e-03  2.79251626e-03 -7.90361664e-04\n",
      " -1.87663024e-03  1.06659718e-03 -3.77956312e-03 -2.40647886e-03\n",
      " -4.33888379e-03 -3.39178368e-03 -3.35679157e-04  2.40253727e-03\n",
      "  3.34677007e-03  9.36016964e-04  1.63140881e-03 -9.25148721e-04\n",
      " -2.24666460e-03  2.44930806e-03 -2.59043928e-03 -6.71816641e-04\n",
      "  5.16891014e-03 -2.77034380e-03 -1.13915862e-03 -1.92451070e-03\n",
      " -2.40807631e-03 -2.94250995e-03 -4.22009500e-03  2.35698142e-04\n",
      "  3.36438359e-04 -3.18351784e-03 -1.18170318e-03 -4.02734475e-03\n",
      " -1.18140050e-03 -2.77112034e-04  3.80277052e-04  1.50724268e-03\n",
      " -1.64585130e-03  3.33104143e-03 -4.16975655e-03  1.94953091e-03\n",
      " -9.48734349e-04 -5.16602350e-03  8.96705547e-04  7.33626715e-04\n",
      " -2.12174095e-03  2.77252798e-03  2.21701618e-03 -2.55065830e-03\n",
      "  3.63308331e-03  6.35899079e-04 -1.87782769e-03  1.38782925e-04\n",
      "  1.17943040e-03  9.63146857e-04  2.93840934e-03 -1.79268874e-03\n",
      " -2.18653562e-03 -2.88628973e-03  3.98012373e-04  1.41234207e-03\n",
      " -2.30031554e-03  2.36669579e-03  1.30740250e-03 -1.62346521e-03\n",
      " -1.14431011e-03 -1.30679784e-03 -1.86064586e-04  1.16528349e-03\n",
      "  1.28764368e-03  2.94305355e-04 -1.56277441e-03  1.45922671e-03\n",
      " -1.94226124e-03 -1.51390175e-03 -1.09487541e-04  2.09711865e-03\n",
      " -2.37895438e-04 -1.93147268e-03 -3.70313204e-03 -1.95584749e-03\n",
      "  3.12354369e-03 -6.98543387e-04  1.38605363e-03  3.25837202e-04\n",
      "  1.84192695e-03 -3.53601179e-04 -3.06751416e-03  1.01760589e-03\n",
      " -5.01833449e-04  9.69673391e-04  2.05788109e-03 -2.25263718e-03\n",
      " -8.62342946e-04 -1.12892641e-03 -3.26903816e-03 -3.12669994e-03\n",
      " -1.51249196e-03  5.15580759e-04  2.57135089e-03 -3.04319989e-03\n",
      "  2.03824602e-03  1.79022865e-03 -1.84946298e-03  5.37999731e-04\n",
      " -2.36651697e-03  6.59167359e-04 -1.18716984e-04  2.16425140e-03\n",
      " -1.40446099e-03  3.56801902e-03  3.62498802e-04 -5.69243799e-04\n",
      " -1.11708103e-03  9.97658935e-04 -1.54832553e-03  2.30604736e-03\n",
      "  5.75849845e-04  2.14156276e-03  2.51778984e-03 -2.48969439e-03\n",
      " -4.08825756e-04  7.65563513e-04  1.18535070e-03  2.54304876e-04\n",
      " -6.71354239e-04 -3.46922432e-03  1.16450386e-03 -5.10081998e-04\n",
      "  7.42875854e-04 -6.55550510e-04 -1.13113935e-03  7.10532768e-05\n",
      "  3.06060188e-03  6.58628531e-04  2.24944740e-03  1.75259914e-03\n",
      " -2.66437582e-03  4.77243215e-03  1.62708852e-03  4.32416145e-03\n",
      " -8.74949328e-04 -2.22921744e-03  1.30361936e-03 -7.29335952e-05\n",
      " -6.37831399e-04 -9.92125948e-04  3.81352991e-04  1.30910857e-03\n",
      " -3.09807656e-04 -1.38934795e-03  3.03331180e-03  2.00009742e-03\n",
      "  4.82058444e-04  1.76522575e-04 -5.43118361e-03 -2.82567926e-03\n",
      " -1.29666436e-03 -7.32285087e-04 -1.31058029e-03  8.43575690e-04\n",
      " -3.26252822e-03  2.02381844e-03  1.97886513e-03 -3.83333361e-04\n",
      "  3.41944653e-03  9.95723763e-04  1.06156501e-03  4.58881521e-04\n",
      " -5.57546213e-04 -1.28053827e-03  3.59525875e-04 -2.39232113e-03\n",
      " -1.99988601e-03 -3.23838694e-03 -9.46352840e-04 -1.09607063e-04\n",
      " -3.58237023e-03  9.66558582e-04  2.27714176e-04 -1.35733269e-03\n",
      " -1.07955397e-03  1.01209059e-03 -5.32046484e-04 -2.67226333e-05\n",
      " -1.11065910e-03  4.65384510e-05 -3.72989271e-05 -1.02207938e-03\n",
      " -7.68215861e-04 -2.35801144e-03 -3.23120417e-04  7.58011884e-04\n",
      " -1.63924566e-03  1.44151319e-03  1.80890947e-03 -6.33953605e-04\n",
      " -3.18722567e-03  7.43684592e-04 -2.63793132e-04  8.52437279e-06\n",
      "  2.82812136e-04  9.12207761e-05  3.09738971e-04 -2.29483237e-03\n",
      " -8.18625209e-04  8.38502718e-04 -2.92074005e-03  1.38033856e-05\n",
      " -2.30685156e-03  3.70895228e-04 -1.40018901e-03  3.07590177e-04\n",
      " -1.11118110e-03 -4.64991725e-04 -1.12020446e-03  2.08191178e-03\n",
      "  2.14036251e-03  1.24250515e-03  2.04416993e-03  6.84772385e-04\n",
      "  1.36005878e-03 -1.44667760e-03  1.86141045e-03 -1.97036867e-03\n",
      " -2.99450738e-04  4.43175522e-04  2.67645484e-03  2.76441919e-03\n",
      " -3.15966667e-03 -5.38722728e-04  8.26197327e-04  2.68523232e-03\n",
      "  1.91350409e-03  2.61563854e-03 -7.49959203e-04 -7.02803431e-04\n",
      " -1.80069837e-04 -2.38866080e-03 -1.85936107e-03  1.50685699e-03\n",
      "  5.02798473e-04  2.66328268e-03 -2.67144223e-03 -3.38784605e-03\n",
      "  2.55098403e-03  2.27198354e-04  1.78849630e-04 -2.02052691e-03\n",
      " -2.74266535e-03  3.45330359e-03 -1.78821699e-03 -1.61959592e-03\n",
      " -9.81270918e-04  2.42594723e-03  3.92191141e-04 -5.07325458e-04\n",
      " -1.10397162e-03  3.42825265e-03  2.16553477e-03  3.74941598e-03\n",
      " -2.86209368e-04  3.40497517e-03 -1.69016444e-03  1.96423591e-03\n",
      "  3.43299052e-03 -3.34884366e-03  3.31126479e-03  2.13807239e-03\n",
      "  1.34976779e-03 -6.20928127e-04  9.71383299e-04  2.30625481e-03\n",
      " -9.53292983e-05  2.16251402e-03  1.26770092e-03  8.11729697e-04\n",
      " -2.96991644e-03  3.36304028e-03  5.49336756e-03  9.58809222e-04\n",
      "  7.43650889e-04 -4.86872206e-03  3.40338703e-03  4.35127271e-03]\n"
     ]
    },
    {
     "ename": "KeyError",
     "evalue": "\"tag '3' not seen in training corpus/invalid\"",
     "output_type": "error",
     "traceback": [
      "\u001b[0;31m---------------------------------------------------------------------------\u001b[0m",
      "\u001b[0;31mKeyError\u001b[0m                                  Traceback (most recent call last)",
      "\u001b[0;32m<ipython-input-146-7bd645927892>\u001b[0m in \u001b[0;36m<module>\u001b[0;34m\u001b[0m\n\u001b[0;32m----> 1\u001b[0;31m \u001b[0;32mfor\u001b[0m \u001b[0mvec\u001b[0m \u001b[0;32min\u001b[0m \u001b[0mmodel\u001b[0m\u001b[0;34m.\u001b[0m\u001b[0mdocvecs\u001b[0m\u001b[0;34m:\u001b[0m\u001b[0;34m\u001b[0m\u001b[0;34m\u001b[0m\u001b[0m\n\u001b[0m\u001b[1;32m      2\u001b[0m     \u001b[0mprint\u001b[0m\u001b[0;34m(\u001b[0m\u001b[0mvec\u001b[0m\u001b[0;34m)\u001b[0m\u001b[0;34m\u001b[0m\u001b[0;34m\u001b[0m\u001b[0m\n",
      "\u001b[0;32m/opt/anaconda3/envs/buan6341/lib/python3.7/site-packages/gensim/models/keyedvectors.py\u001b[0m in \u001b[0;36m__getitem__\u001b[0;34m(self, index)\u001b[0m\n\u001b[1;32m   1611\u001b[0m                 \u001b[0;32mreturn\u001b[0m \u001b[0mself\u001b[0m\u001b[0;34m.\u001b[0m\u001b[0mvectors_docs\u001b[0m\u001b[0;34m[\u001b[0m\u001b[0mself\u001b[0m\u001b[0;34m.\u001b[0m\u001b[0m_int_index\u001b[0m\u001b[0;34m(\u001b[0m\u001b[0mindex\u001b[0m\u001b[0;34m,\u001b[0m \u001b[0mself\u001b[0m\u001b[0;34m.\u001b[0m\u001b[0mdoctags\u001b[0m\u001b[0;34m,\u001b[0m \u001b[0mself\u001b[0m\u001b[0;34m.\u001b[0m\u001b[0mmax_rawint\u001b[0m\u001b[0;34m)\u001b[0m\u001b[0;34m]\u001b[0m\u001b[0;34m\u001b[0m\u001b[0;34m\u001b[0m\u001b[0m\n\u001b[1;32m   1612\u001b[0m             \u001b[0;32mreturn\u001b[0m \u001b[0mvstack\u001b[0m\u001b[0;34m(\u001b[0m\u001b[0;34m[\u001b[0m\u001b[0mself\u001b[0m\u001b[0;34m[\u001b[0m\u001b[0mi\u001b[0m\u001b[0;34m]\u001b[0m \u001b[0;32mfor\u001b[0m \u001b[0mi\u001b[0m \u001b[0;32min\u001b[0m \u001b[0mindex\u001b[0m\u001b[0;34m]\u001b[0m\u001b[0;34m)\u001b[0m\u001b[0;34m\u001b[0m\u001b[0;34m\u001b[0m\u001b[0m\n\u001b[0;32m-> 1613\u001b[0;31m         \u001b[0;32mraise\u001b[0m \u001b[0mKeyError\u001b[0m\u001b[0;34m(\u001b[0m\u001b[0;34m\"tag '%s' not seen in training corpus/invalid\"\u001b[0m \u001b[0;34m%\u001b[0m \u001b[0mindex\u001b[0m\u001b[0;34m)\u001b[0m\u001b[0;34m\u001b[0m\u001b[0;34m\u001b[0m\u001b[0m\n\u001b[0m\u001b[1;32m   1614\u001b[0m \u001b[0;34m\u001b[0m\u001b[0m\n\u001b[1;32m   1615\u001b[0m     \u001b[0;32mdef\u001b[0m \u001b[0m__contains__\u001b[0m\u001b[0;34m(\u001b[0m\u001b[0mself\u001b[0m\u001b[0;34m,\u001b[0m \u001b[0mindex\u001b[0m\u001b[0;34m)\u001b[0m\u001b[0;34m:\u001b[0m\u001b[0;34m\u001b[0m\u001b[0;34m\u001b[0m\u001b[0m\n",
      "\u001b[0;31mKeyError\u001b[0m: \"tag '3' not seen in training corpus/invalid\""
     ]
    }
   ],
   "source": [
    "for vec in model.docvecs:\n",
    "    print(vec)"
   ]
  },
  {
   "cell_type": "code",
   "execution_count": null,
   "metadata": {},
   "outputs": [],
   "source": []
  }
 ],
 "metadata": {
  "kernelspec": {
   "display_name": "Python 3",
   "language": "python",
   "name": "python3"
  },
  "language_info": {
   "codemirror_mode": {
    "name": "ipython",
    "version": 3
   },
   "file_extension": ".py",
   "mimetype": "text/x-python",
   "name": "python",
   "nbconvert_exporter": "python",
   "pygments_lexer": "ipython3",
   "version": "3.7.6"
  },
  "toc": {
   "base_numbering": 1,
   "nav_menu": {},
   "number_sections": true,
   "sideBar": true,
   "skip_h1_title": false,
   "title_cell": "Table of Contents",
   "title_sidebar": "Contents",
   "toc_cell": true,
   "toc_position": {},
   "toc_section_display": true,
   "toc_window_display": false
  }
 },
 "nbformat": 4,
 "nbformat_minor": 2
}
