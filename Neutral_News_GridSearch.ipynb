{
 "cells": [
  {
   "cell_type": "markdown",
   "metadata": {
    "toc": true
   },
   "source": [
    "<h1>Table of Contents<span class=\"tocSkip\"></span></h1>\n",
    "<div class=\"toc\"><ul class=\"toc-item\"><li><span><a href=\"#Topic-Modelling-using-LDA\" data-toc-modified-id=\"Topic-Modelling-using-LDA-1\"><span class=\"toc-item-num\">1&nbsp;&nbsp;</span>Topic Modelling using LDA</a></span></li><li><span><a href=\"#DBOW-MODEL\" data-toc-modified-id=\"DBOW-MODEL-2\"><span class=\"toc-item-num\">2&nbsp;&nbsp;</span>DBOW MODEL</a></span><ul class=\"toc-item\"><li><span><a href=\"#Checking-similarity-vectors-in-DBOW-Model\" data-toc-modified-id=\"Checking-similarity-vectors-in-DBOW-Model-2.1\"><span class=\"toc-item-num\">2.1&nbsp;&nbsp;</span>Checking similarity vectors in DBOW Model</a></span></li></ul></li><li><span><a href=\"#PV-DMM-(Mean)\" data-toc-modified-id=\"PV-DMM-(Mean)-3\"><span class=\"toc-item-num\">3&nbsp;&nbsp;</span>PV-DMM (Mean)</a></span><ul class=\"toc-item\"><li><span><a href=\"#Checking-similarity-vectors-in-PV-DMM-Model\" data-toc-modified-id=\"Checking-similarity-vectors-in-PV-DMM-Model-3.1\"><span class=\"toc-item-num\">3.1&nbsp;&nbsp;</span>Checking similarity vectors in PV-DMM Model</a></span></li></ul></li><li><span><a href=\"#PV-DMC-(concatnation)\" data-toc-modified-id=\"PV-DMC-(concatnation)-4\"><span class=\"toc-item-num\">4&nbsp;&nbsp;</span>PV-DMC (concatnation)</a></span><ul class=\"toc-item\"><li><span><a href=\"#Checking-similarity-vectors-in-PV-DMC-Model-(concatenation)\" data-toc-modified-id=\"Checking-similarity-vectors-in-PV-DMC-Model-(concatenation)-4.1\"><span class=\"toc-item-num\">4.1&nbsp;&nbsp;</span>Checking similarity vectors in PV-DMC Model (concatenation)</a></span></li></ul></li><li><span><a href=\"#Majority-vote-prediction-from-DBOW,PV-DMM-and-PV-DMC-predictions\" data-toc-modified-id=\"Majority-vote-prediction-from-DBOW,PV-DMM-and-PV-DMC-predictions-5\"><span class=\"toc-item-num\">5&nbsp;&nbsp;</span>Majority vote prediction from DBOW,PV-DMM and PV-DMC predictions</a></span><ul class=\"toc-item\"><li><span><a href=\"#Out-of-sample/-Never-before-seen-accuracy\" data-toc-modified-id=\"Out-of-sample/-Never-before-seen-accuracy-5.1\"><span class=\"toc-item-num\">5.1&nbsp;&nbsp;</span>Out-of-sample/ Never before seen accuracy</a></span></li></ul></li><li><span><a href=\"#t-SNE-representation-of-learned-vectors\" data-toc-modified-id=\"t-SNE-representation-of-learned-vectors-6\"><span class=\"toc-item-num\">6&nbsp;&nbsp;</span>t-SNE representation of learned vectors</a></span></li><li><span><a href=\"#Checking-learned-keywords-for-each-bias-for-pictorial-representation\" data-toc-modified-id=\"Checking-learned-keywords-for-each-bias-for-pictorial-representation-7\"><span class=\"toc-item-num\">7&nbsp;&nbsp;</span>Checking learned keywords for each bias for pictorial representation</a></span></li></ul></div>"
   ]
  },
  {
   "cell_type": "code",
   "execution_count": 560,
   "metadata": {
    "ExecuteTime": {
     "end_time": "2020-07-15T05:04:16.039957Z",
     "start_time": "2020-07-15T05:04:15.795318Z"
    }
   },
   "outputs": [
    {
     "name": "stderr",
     "output_type": "stream",
     "text": [
      "/opt/anaconda3/envs/buan6341/lib/python3.7/site-packages/tqdm/std.py:668: FutureWarning: The Panel class is removed from pandas. Accessing it from the top-level namespace will also be removed in the next version\n",
      "  from pandas import Panel\n",
      "[nltk_data] Downloading package stopwords to /Users/tapas/nltk_data...\n",
      "[nltk_data]   Package stopwords is already up-to-date!\n",
      "[nltk_data] Downloading package punkt to /Users/tapas/nltk_data...\n",
      "[nltk_data]   Package punkt is already up-to-date!\n"
     ]
    }
   ],
   "source": [
    "import sqlite3\n",
    "import pandas as pd\n",
    "import requests\n",
    "from lxml.html import fromstring\n",
    "import nltk\n",
    "from nltk.corpus import stopwords\n",
    "from nltk.stem.porter import PorterStemmer\n",
    "from gensim.models.doc2vec import TaggedLineDocument,TaggedDocument\n",
    "from tqdm import tqdm\n",
    "tqdm.pandas(desc=\"progress-bar\")\n",
    "from sklearn.model_selection import train_test_split\n",
    "nltk.download('stopwords')\n",
    "nltk.download('punkt')\n",
    "from sklearn.pipeline import Pipeline\n",
    "from sklearn.decomposition import PCA\n",
    "from sklearn.base import BaseEstimator,TransformerMixin\n",
    "from sklearn.linear_model import LogisticRegression\n",
    "from sklearn.model_selection import GridSearchCV\n",
    "import gensim.models as g\n",
    "pd.options.mode.chained_assignment = None"
   ]
  },
  {
   "cell_type": "markdown",
   "metadata": {},
   "source": [
    "- Separating data into df and out_of_sample_df \n",
    "- Creating new bias columns "
   ]
  },
  {
   "cell_type": "code",
   "execution_count": 847,
   "metadata": {
    "ExecuteTime": {
     "end_time": "2020-07-16T21:05:09.666571Z",
     "start_time": "2020-07-16T21:05:09.594040Z"
    }
   },
   "outputs": [
    {
     "name": "stdout",
     "output_type": "stream",
     "text": [
      "                      name\n",
      "0   news_abortion         \n",
      "1   news_statue           \n",
      "2   news_CHOP             \n",
      "3   news_supreme_court    \n",
      "4   news_vote_by_mail     \n",
      "5   news_defund_the_police\n",
      "6   news_mask             \n",
      "7   news_obamacare        \n",
      "8   news_bounty           \n",
      "9   news_WHO              \n",
      "10  news_gun_control      \n",
      "11  news_climate_change   \n",
      "12  news_hdxl             \n",
      "13  news_dreamers         \n",
      "14  news_china            \n",
      "15  news_healthcare       \n",
      "16  news_Affordable_Care  \n",
      "17  news_bolton_book      \n"
     ]
    }
   ],
   "source": [
    "conn = sqlite3.connect('news_articles_all_keywords.sqlite')\n",
    "table = pd.read_sql_query(\"SELECT name FROM sqlite_master WHERE type='table'\",conn)\n",
    "print(table)"
   ]
  },
  {
   "cell_type": "code",
   "execution_count": null,
   "metadata": {},
   "outputs": [],
   "source": [
    "df_news_abortion = pd.read_sql('select * from news_abortion', conn)\n",
    "df_news_statue = pd.read_sql('select * from news_statue', conn)\n",
    "df_news_CHOP = pd.read_sql('select * from news_CHOP', conn)\n",
    "df_news_supreme_court = pd.read_sql('select * from news_supreme_court', conn)\n",
    "df_news_vote_by_mail = pd.read_sql('select * from news_vote_by_mail', conn)\n",
    "df_news_defund_the_police = pd.read_sql('select * from news_defund_the_police', conn)\n",
    "df_news_mask = pd.read_sql('select * from news_mask', conn)\n",
    "df_news_obamacare = pd.read_sql('select * from news_obamacare', conn)\n",
    "df_news_bounty = pd.read_sql('select * from news_bounty', conn)\n",
    "df_news_WHO = pd.read_sql('select * from news_WHO', conn)\n",
    "df_news_gun_control = pd.read_sql('select * from news_gun_control', conn)\n",
    "df_news_climate_change = pd.read_sql('select * from news_climate_change', conn)\n",
    "df_news_dreamers = pd.read_sql('select * from news_dreamers', conn)\n",
    "df_news_china = pd.read_sql('select * from news_china', conn)\n",
    "df_news_healthcare = pd.read_sql('select * from news_healthcare', conn)\n",
    "df_news_Affordable_Care = pd.read_sql('select * from news_Affordable_Care', conn)\n",
    "df_news_news_bolton_book = pd.read_sql('select * from news_bolton_book', conn)\n",
    "\n",
    "train_df_list = [df_news_abortion,df_news_statue,df_news_CHOP,df_news_supreme_court,df_news_vote_by_mail,\n",
    "                 df_news_defund_the_police,df_news_mask,df_news_obamacare,df_news_bounty,df_news_WHO,\n",
    "                df_news_gun_control,df_news_climate_change,df_news_dreamers,df_news_china,df_news_healthcare,\n",
    "                df_news_Affordable_Care,df_news_news_bolton_book]\n",
    "\n",
    "df = pd.DataFrame()\n",
    "for temp_df in train_df_list:\n",
    "    df = df.append(temp_df)\n",
    "\n",
    "df = df[~(df['content_full'].isna())].reset_index(drop=True)\n",
    "df['tag'] = df.index\n",
    "\n",
    "df = pd.read_excel('/Users/tapas/Documents/Repos/news_content_v2.xlsx')\n",
    "    \n"
   ]
  },
  {
   "cell_type": "code",
   "execution_count": 582,
   "metadata": {
    "ExecuteTime": {
     "end_time": "2020-07-15T16:48:09.156403Z",
     "start_time": "2020-07-15T16:48:08.824272Z"
    }
   },
   "outputs": [],
   "source": [
    "df = pd.read_excel('/Users/tapas/Documents/Repos/news_content_v3.xlsx')\n",
    "out_of_sample_df = df[(df.topic == 'bolton_book') & (~df['content_full'].isnull())].reset_index(drop=True)\n",
    "df = df[(df['select'] ==1) & (df.topic != 'bolton_book') & (~df['content_full'].isnull())].reset_index(drop=True)\n",
    "df['bias'] = df['Alignment'].map({'left':1,'right':1,'center':0})\n",
    "df['Alignment_int'] = df['Alignment'].map({'left':-1,'right':1,'center':0})\n",
    "df['tag'] = df.index"
   ]
  },
  {
   "cell_type": "code",
   "execution_count": 859,
   "metadata": {
    "ExecuteTime": {
     "end_time": "2020-07-16T23:32:36.475987Z",
     "start_time": "2020-07-16T23:32:36.467615Z"
    }
   },
   "outputs": [
    {
     "data": {
      "text/plain": [
       "bounty               15\n",
       "china                15\n",
       "vote_by_mail         15\n",
       "defund_the_police    15\n",
       "dreamers             15\n",
       "mask                 10\n",
       "abortion             10\n",
       "healthcare           9 \n",
       "COVID                3 \n",
       "WHO                  3 \n",
       "gun_control          2 \n",
       "climate_change       1 \n",
       "sc                   1 \n",
       "Name: topic, dtype: int64"
      ]
     },
     "execution_count": 859,
     "metadata": {},
     "output_type": "execute_result"
    }
   ],
   "source": [
    "df.topic.value_counts()"
   ]
  },
  {
   "cell_type": "code",
   "execution_count": 829,
   "metadata": {
    "ExecuteTime": {
     "end_time": "2020-07-16T20:46:56.325539Z",
     "start_time": "2020-07-16T20:46:56.307734Z"
    }
   },
   "outputs": [],
   "source": [
    "stop_words = stop_words_3"
   ]
  },
  {
   "cell_type": "code",
   "execution_count": 620,
   "metadata": {
    "ExecuteTime": {
     "end_time": "2020-07-15T19:29:45.884088Z",
     "start_time": "2020-07-15T19:29:45.823754Z"
    }
   },
   "outputs": [],
   "source": [
    "## Tokenize Texts\n",
    "stop_words_1 = ['washingtonpost','foxnews','usatoday','washington post','fox']\n",
    "stop_words_2 = ['washingtonpost','foxnews','usatoday','washington post','fox','defund','police','vote','mail','mask',\n",
    "              'obamacare','abortion','bounty','WHO','gun control','climate change','voting','china','healthcare',\n",
    "               'dreamers','daca']\n",
    "\n",
    "stop_words_3 = ['i','me','my','myself','we','our','ours','ourselves','you','your','yours','yourself','yourselves',\n",
    "              'he','him','his','himself','she','her','hers','herself','it','its','itself','they','them','their',\n",
    "              'theirs','themselves','what','which','who','whom','this','that','these','those','am','is','are','was',\n",
    "              'were','be','been','being','have','has','had','having','do','does','did','doing','a','an','the','and',\n",
    "              'but','if','or','because','as','until','while','of','at','by','for','with','about','against','between',\n",
    "              'into','through','during','before','after','above','below','to','from','up','down','in','out','on','off'\n",
    "              ,'over','under','again','further','then','once','here','there','when','where','why','how','all','any',\n",
    "              'both','each','few','more','most','other','some','such','no','nor','not','only','own','same','so','than',\n",
    "              'too','very','s','t','can','will','just','don','should','now','said','could','would','washingtonpost','foxnews','usatoday',\n",
    "               'washington post','fox']\n",
    "\n",
    "stop_words_4 = ['i','me','my','myself','we','our','ours','ourselves','you','your','yours','yourself','yourselves',\n",
    "              'he','him','his','himself','she','her','hers','herself','it','its','itself','they','them','their',\n",
    "              'theirs','themselves','what','which','who','whom','this','that','these','those','am','is','are','was',\n",
    "              'were','be','been','being','have','has','had','having','do','does','did','doing','a','an','the','and',\n",
    "              'but','if','or','because','as','until','while','of','at','by','for','with','about','against','between',\n",
    "              'into','through','during','before','after','above','below','to','from','up','down','in','out','on','off'\n",
    "              ,'over','under','again','further','then','once','here','there','when','where','why','how','all','any',\n",
    "              'both','each','few','more','most','other','some','such','no','nor','not','only','own','same','so','than',\n",
    "              'too','very','s','t','can','will','just','don','should','now','said','could','would','washingtonpost','foxnews','usatoday',\n",
    "               'washington post','fox','defund','police','vote','mail','mask','obamacare','abortion','bounty','WHO','gun control','climate change',\n",
    "               'voting','china','healthcare','dreamers','DACA']\n"
   ]
  },
  {
   "cell_type": "code",
   "execution_count": 130,
   "metadata": {
    "ExecuteTime": {
     "end_time": "2020-07-12T03:56:37.022509Z",
     "start_time": "2020-07-12T03:56:36.855299Z"
    }
   },
   "outputs": [],
   "source": [
    "negative_words = ['2-faced','2-faces','abnormal','abolish','abominable','abominably','abominate','abomination','abort','aborted','aborts','abrade','abrasive','abrupt','abruptly','abscond','absence','absent-minded','absentee','absurd','absurdity','absurdly','absurdness','abuse','abused','abuses','abusive','abysmal','abysmally','abyss','accidental','accost','accursed','accusation','accusations','accuse','accuses','accusing','accusingly','acerbate','acerbic','acerbically','ache','ached','aches','achey','aching','acrid','acridly','acridness','acrimonious','acrimoniously','acrimony','adamant','adamantly','addict','addicted','addicting','addicts','admonish','admonisher','admonishingly','admonishment','admonition','adulterate','adulterated','adulteration','adulterier','adversarial','adversary','adverse','adversity','afflict','affliction','afflictive','affront','afraid','aggravate','aggravating','aggravation','aggression','aggressive','aggressiveness','aggressor','aggrieve','aggrieved','aggrivation','aghast','agonies','agonize','agonizing','agonizingly','agony','aground','ail','ailing','ailment','aimless','alarm','alarmed','alarming','alarmingly','alienate','alienated','alienation','allegation','allegations','allege','allergic','allergies','allergy','aloof','altercation','ambiguity','ambiguous','ambivalence','ambivalent','ambush','amiss','amputate','anarchism','anarchist','anarchistic','anarchy','anemic','anger','angrily','angriness','angry','anguish','animosity','annihilate','annihilation','annoy','annoyance','annoyances','annoyed','annoying','annoyingly','annoys','anomalous','anomaly','antagonism','antagonist','antagonistic','antagonize','anti-','anti-american','anti-israeli','anti-occupation','anti-proliferation','anti-semites','anti-social','anti-us','anti-white','antipathy','antiquated','antithetical','anxieties','anxiety','anxious','anxiously','anxiousness','apathetic','apathetically','apathy','apocalypse','apocalyptic','apologist','apologists','appal','appall','appalled','appalling','appallingly','apprehension','apprehensions','apprehensive','apprehensively','arbitrary','arcane','archaic','arduous','arduously','argumentative','arrogance','arrogant','arrogantly','ashamed','asinine','asininely','asinininity','askance','asperse','aspersion','aspersions','assail','assassin','assassinate','assault','assult','astray','asunder','atrocious','atrocities','atrocity','atrophy','attack','attacks','audacious','audaciously','audaciousness','audacity','audiciously','austere','authoritarian','autocrat','autocratic','avalanche','avarice','avaricious','avariciously','avenge','averse','aversion','aweful','awful','awfully','awfulness','awkward','awkwardness','ax','babble','back-logged','back-wood','back-woods','backache','backaches','backaching','backbite','backbiting','backward','backwardness','backwood','backwoods','bad','badly','baffle','baffled','bafflement','baffling','bait','balk','banal','banalize','bane','banish','banishment','bankrupt','barbarian','barbaric','barbarically','barbarity','barbarous','barbarously','barren','baseless','bash','bashed','bashful','bashing','bastard','bastards','battered','battering','batty','bearish','beastly','bedlam','bedlamite','befoul','beg','beggar','beggarly','begging','beguile','belabor','belated','beleaguer','belie','belittle','belittled','belittling','bellicose','belligerence','belligerent','belligerently','bemoan','bemoaning','bemused','bent','berate','bereave','bereavement','bereft','berserk','beseech','beset','besiege','besmirch','bestial','betray','betrayal','betrayals','betrayer','betraying','betrays','bewail','beware','bewilder','bewildered','bewildering','bewilderingly','bewilderment','bewitch','bias','biased','biases','bicker','bickering','bid-rigging','bigotries','bigotry','bitch','bitchy','biting','bitingly','bitter','bitterly','bitterness','bizarre','blab','blabber','blackmail','blah','blame','blameworthy','bland','blandish','blaspheme','blasphemous','blasphemy','blasted','blatant','blatantly','blather','bleak','bleakly','bleakness','bleed','bleeding','bleeds','blemish','blind','blinding','blindingly','blindside','blister','blistering','bloated','blockage','blockhead','bloodshed','bloodthirsty','bloody','blotchy','blow','blunder','blundering','blunders','blunt','blur','bluring','blurred','blurring','blurry','blurs','blurt','boastful','boggle','bogus','boil','boiling','boisterous','bomb','bombard','bombardment','bombastic','bondage','bonkers','bore','bored','boredom','bores','boring','botch','bother','bothered','bothering','bothers','bothersome','bowdlerize','boycott','braggart','bragger','brainless','brainwash','brash','brashly','brashness','brat','bravado','brazen','brazenly','brazenness','breach','break','break-up','break-ups','breakdown','breaking','breaks','breakup','breakups','bribery','brimstone','bristle','brittle','broke','broken','broken-hearted','brood','browbeat','bruise','bruised','bruises','bruising','brusque','brutal','brutalising','brutalities','brutality','brutalize','brutalizing','brutally','brute','brutish','bs','buckle','bug','bugging','buggy','bugs','bulkier','bulkiness','bulky','bulkyness','bull****','bull----','bullies','bullshit','bullshyt','bully','bullying','bullyingly','bum','bump','bumped','bumping','bumpping','bumps','bumpy','bungle','bungler','bungling','bunk','burden','burdensome','burdensomely','burn','burned','burning','burns','bust','busts','busybody','butcher','butchery','buzzing','byzantine','cackle','calamities','calamitous','calamitously','calamity','callous','calumniate','calumniation','calumnies','calumnious','calumniously','calumny','cancer','cancerous','cannibal','cannibalize','capitulate','capricious','capriciously','capriciousness','capsize','careless','carelessness','caricature','carnage','carp','cartoonish','cash-strapped','castigate','castrated','casualty','cataclysm','cataclysmal','cataclysmic','cataclysmically','catastrophe','catastrophes','catastrophic','catastrophically','catastrophies','caustic','caustically','cautionary','cave','censure','chafe','chaff','chagrin','challenging','chaos','chaotic','chasten','chastise','chastisement','chatter','chatterbox','cheap','cheapen','cheaply','cheat','cheated','cheater','cheating','cheats','checkered','cheerless','cheesy','chide','childish','chill','chilly','chintzy','choke','choleric','choppy','chore','chronic','chunky','clamor','clamorous','clash','cliche','cliched','clique','clog','clogged','clogs','cloud','clouding','cloudy','clueless','clumsy','clunky','coarse','cocky','coerce','coercion','coercive','cold','coldly','collapse','collude','collusion','combative','combust','comical','commiserate','commonplace','commotion','commotions','complacent','complain','complained','complaining','complains','complaint','complaints','complex','complicated','complication','complicit','compulsion','compulsive','concede','conceded','conceit','conceited','concen','concens','concern','concerned','concerns','concession','concessions','condemn','condemnable','condemnation','condemned','condemns','condescend','condescending','condescendingly','condescension','confess','confession','confessions','confined','conflict','conflicted','conflicting','conflicts','confound','confounded','confounding','confront','confrontation','confrontational','confuse','confused','confuses','confusing','confusion','confusions','congested','congestion','cons','conscons','conservative','conspicuous','conspicuously','conspiracies','conspiracy','conspirator','conspiratorial','conspire','consternation','contagious','contaminate','contaminated','contaminates','contaminating','contamination','contempt','contemptible','contemptuous','contemptuously','contend','contention','contentious','contort','contortions','contradict','contradiction','contradictory','contrariness','contravene','contrive','contrived','controversial','controversy','convoluted','corrode','corrosion','corrosions','corrosive','corrupt','corrupted','corrupting','corruption','corrupts','corruptted','costlier','costly','counter-productive','counterproductive','coupists','covetous','coward','cowardly','crabby','crack','cracked','cracks','craftily','craftly','crafty','cramp','cramped','cramping','cranky','crap','crappy','craps','crash','crashed','crashes','crashing','crass','craven','cravenly','craze','crazily','craziness','crazy','creak','creaking','creaks','credulous','creep','creeping','creeps','creepy','crept','crime','criminal','cringe','cringed','cringes','cripple','crippled','cripples','crippling','crisis','critic','critical','criticism','criticisms','criticize','criticized','criticizing','critics','cronyism','crook','crooked','crooks','crowded','crowdedness','crude','cruel','crueler','cruelest','cruelly','cruelness','cruelties','cruelty','crumble','crumbling','crummy','crumple','crumpled','crumples','crush','crushed','crushing','cry','culpable','culprit','cumbersome','cunt','cunts','cuplrit','curse','cursed','curses','curt','cuss','cussed','cutthroat','cynical','cynicism','d*mn','damage','damaged','damages','damaging','damn','damnable','damnably','damnation','damned','damning','damper','danger','dangerous','dangerousness','dark','darken','darkened','darker','darkness','dastard','dastardly','daunt','daunting','dauntingly','dawdle','daze','dazed','dead','deadbeat','deadlock','deadly','deadweight','deaf','dearth','death','debacle','debase','debasement','debaser','debatable','debauch','debaucher','debauchery','debilitate','debilitating','debility','debt','debts','decadence','decadent','decay','decayed','deceit','deceitful','deceitfully','deceitfulness','deceive','deceiver','deceivers','deceiving','deception','deceptive','deceptively','declaim','decline','declines','declining','decrement','decrepit','decrepitude','decry','defamation','defamations','defamatory','defame','defect','defective','defects','defensive','defiance','defiant','defiantly','deficiencies','deficiency','deficient','defile','defiler','deform','deformed','defrauding','defunct','defy','degenerate','degenerately','degeneration','degradation','degrade','degrading','degradingly','dehumanization','dehumanize','deign','deject','dejected','dejectedly','dejection','delay','delayed','delaying','delays','delinquency','delinquent','delirious','delirium','delude','deluded','deluge','delusion','delusional','delusions','demean','demeaning','demise','demolish','demolisher','demon','demonic','demonize','demonized','demonizes','demonizing','demoralize','demoralizing','demoralizingly','denial','denied','denies','denigrate','denounce','dense','dent','dented','dents','denunciate','denunciation','denunciations','deny','denying','deplete','deplorable','deplorably','deplore','deploring','deploringly','deprave','depraved','depravedly','deprecate','depress','depressed','depressing','depressingly','depression','depressions','deprive','deprived','deride','derision','derisive','derisively','derisiveness','derogatory','desecrate','desert','desertion','desiccate','desiccated','desititute','desolate','desolately','desolation','despair','despairing','despairingly','desperate','desperately','desperation','despicable','despicably','despise','despised','despoil','despoiler','despondence','despondency','despondent','despondently','despot','despotic','despotism','destabilisation','destains','destitute','destitution','destroy','destroyer','destruction','destructive','desultory','deter','deteriorate','deteriorating','deterioration','deterrent','detest','detestable','detestably','detested','detesting','detests','detract','detracted','detracting','detraction','detracts','detriment','detrimental','devastate','devastated','devastates','devastating','devastatingly','devastation','deviate','deviation','devil','devilish','devilishly','devilment','devilry','devious','deviously','deviousness','devoid','diabolic','diabolical','diabolically','diametrically','diappointed','diatribe','diatribes','dick','dictator','dictatorial','die','die-hard','died','dies','difficult','difficulties','difficulty','diffidence','dilapidated','dilemma','dilly-dally','dim','dimmer','din','ding','dings','dinky','dire','direly','direness','dirt','dirtbag','dirtbags','dirts','dirty','disable','disabled','disaccord','disadvantage','disadvantaged','disadvantageous','disadvantages','disaffect','disaffected','disaffirm','disagree','disagreeable','disagreeably','disagreed','disagreeing','disagreement','disagrees','disallow','disapointed','disapointing','disapointment','disappoint','disappointed','disappointing','disappointingly','disappointment','disappointments','disappoints','disapprobation','disapproval','disapprove','disapproving','disarm','disarray','disaster','disasterous','disastrous','disastrously','disavow','disavowal','disbelief','disbelieve','disbeliever','disclaim','discombobulate','discomfit','discomfititure','discomfort','discompose','disconcert','disconcerted','disconcerting','disconcertingly','disconsolate','disconsolately','disconsolation','discontent','discontented','discontentedly','discontinued','discontinuity','discontinuous','discord','discordance','discordant','discountenance','discourage','discouragement','discouraging','discouragingly','discourteous','discourteously','discoutinous','discredit','discrepant','discriminate','discrimination','discriminatory','disdain','disdained','disdainful','disdainfully','disfavor','disgrace','disgraced','disgraceful','disgracefully','disgruntle','disgruntled','disgust','disgusted','disgustedly','disgustful','disgustfully','disgusting','disgustingly','dishearten','disheartening','dishearteningly','dishonest','dishonestly','dishonesty','dishonor','dishonorable','dishonorablely','disillusion','disillusioned','disillusionment','disillusions','disinclination','disinclined','disingenuous','disingenuously','disintegrate','disintegrated','disintegrates','disintegration','disinterest','disinterested','dislike','disliked','dislikes','disliking','dislocated','disloyal','disloyalty','dismal','dismally','dismalness','dismay','dismayed','dismaying','dismayingly','dismissive','dismissively','disobedience','disobedient','disobey','disoobedient','disorder','disordered','disorderly','disorganized','disorient','disoriented','disown','disparage','disparaging','disparagingly','dispensable','dispirit','dispirited','dispiritedly','dispiriting','displace','displaced','displease','displeased','displeasing','displeasure','disproportionate','disprove','disputable','dispute','disputed','disquiet','disquieting','disquietingly','disquietude','disregard','disregardful','disreputable','disrepute','disrespect','disrespectable','disrespectablity','disrespectful','disrespectfully','disrespectfulness','disrespecting','disrupt','disruption','disruptive','diss','dissapointed','dissappointed','dissappointing','dissatisfaction','dissatisfactory','dissatisfied','dissatisfies','dissatisfy','dissatisfying','dissed','dissemble','dissembler','dissension','dissent','dissenter','dissention','disservice','disses','dissidence','dissident','dissidents','dissing','dissocial','dissolute','dissolution','dissonance','dissonant','dissonantly','dissuade','dissuasive','distains','distaste','distasteful','distastefully','distort','distorted','distortion','distorts','distract','distracting','distraction','distraught','distraughtly','distraughtness','distress','distressed','distressing','distressingly','distrust','distrustful','distrusting','disturb','disturbance','disturbed','disturbing','disturbingly','disunity','disvalue','divergent','divisive','divisively','divisiveness','dizzing','dizzingly','dizzy','doddering','dodgey','dogged','doggedly','dogmatic','doldrums','domineer','domineering','donside','doom','doomed','doomsday','dope','doubt','doubtful','doubtfully','doubts','douchbag','douchebag','douchebags','downbeat','downcast','downer','downfall','downfallen','downgrade','downhearted','downheartedly','downhill','downside','downsides','downturn','downturns','drab','draconian','draconic','drag','dragged','dragging','dragoon','drags','drain','drained','draining','drains','drastic','drastically','drawback','drawbacks','dread','dreadful','dreadfully','dreadfulness','dreary','dripped','dripping','drippy','drips','drones','droop','droops','drop-out','drop-outs','dropout','dropouts','drought','drowning','drunk','drunkard','drunken','dubious','dubiously','dubitable','dud','dull','dullard','dumb','dumbfound','dump','dumped','dumping','dumps','dunce','dungeon','dungeons','dupe','dust','dusty','dwindling','dying','earsplitting','eccentric','eccentricity','effigy','effrontery','egocentric','egomania','egotism','egotistical','egotistically','egregious','egregiously','election-rigger','elimination','emaciated','emasculate','embarrass','embarrassing','embarrassingly','embarrassment','embattled','embroil','embroiled','embroilment','emergency','emphatic','emphatically','emptiness','encroach','encroachment','endanger','enemies','enemy','enervate','enfeeble','enflame','engulf','enjoin','enmity','enrage','enraged','enraging','enslave','entangle','entanglement','entrap','entrapment','envious','enviously','enviousness','epidemic','equivocal','erase','erode','erodes','erosion','err','errant','erratic','erratically','erroneous','erroneously','error','errors','eruptions','escapade','eschew','estranged','evade','evasion','evasive','evil','evildoer','evils','eviscerate','exacerbate','exagerate','exagerated','exagerates','exaggerate','exaggeration','exasperate','exasperated','exasperating','exasperatingly','exasperation','excessive','excessively','exclusion','excoriate','excruciating','excruciatingly','excuse','excuses','execrate','exhaust','exhausted','exhaustion','exhausts','exhorbitant','exhort','exile','exorbitant','exorbitantance','exorbitantly','expel','expensive','expire','expired','explode','exploit','exploitation','explosive','expropriate','expropriation','expulse','expunge','exterminate','extermination','extinguish','extort','extortion','extraneous','extravagance','extravagant','extravagantly','extremism','extremist','extremists','eyesore','f**k','fabricate','fabrication','facetious','facetiously','fail','failed','failing','fails','failure','failures','faint','fainthearted','faithless','fake','fall','fallacies','fallacious','fallaciously','fallaciousness','fallacy','fallen','falling','fallout','falls','false','falsehood','falsely','falsify','falter','faltered','famine','famished','fanatic','fanatical','fanatically','fanaticism','fanatics','fanciful','far-fetched','farce','farcical','farcical-yet-provocative','farcically','farfetched','fascism','fascist','fastidious','fastidiously','fastuous','fat','fat-cat','fat-cats','fatal','fatalistic','fatalistically','fatally','fatcat','fatcats','fateful','fatefully','fathomless','fatigue','fatigued','fatique','fatty','fatuity','fatuous','fatuously','fault','faults','faulty','fawningly','faze','fear','fearful','fearfully','fears','fearsome','feckless','feeble','feeblely','feebleminded','feign','feint','fell','felon','felonious','ferociously','ferocity','fetid','fever','feverish','fevers','fiasco','fib','fibber','fickle','fiction','fictional','fictitious','fidget','fidgety','fiend','fiendish','fierce','figurehead','filth','filthy','finagle','finicky','fissures','fist','flabbergast','flabbergasted','flagging','flagrant','flagrantly','flair','flairs','flak','flake','flakey','flakieness','flaking','flaky','flare','flares','flareup','flareups','flat-out','flaunt','flaw','flawed','flaws','flee','fleed','fleeing','fleer','flees','fleeting','flicering','flicker','flickering','flickers','flighty','flimflam','flimsy','flirt','flirty','floored','flounder','floundering','flout','fluster','foe','fool','fooled','foolhardy','foolish','foolishly','foolishness','forbid','forbidden','forbidding','forceful','foreboding','forebodingly','forfeit','forged','forgetful','forgetfully','forgetfulness','forlorn','forlornly','forsake','forsaken','forswear','foul','foully','foulness','fractious','fractiously','fracture','fragile','fragmented','frail','frantic','frantically','franticly','fraud','fraudulent','fraught','frazzle','frazzled','freak','freaking','freakish','freakishly','freaks','freeze','freezes','freezing','frenetic','frenetically','frenzied','frenzy','fret','fretful','frets','friction','frictions','fried','friggin','frigging','fright','frighten','frightening','frighteningly','frightful','frightfully','frigid','frost','frown','froze','frozen','fruitless','fruitlessly','frustrate','frustrated','frustrates','frustrating','frustratingly','frustration','frustrations','fuck','fucking','fudge','fugitive','full-blown','fulminate','fumble','fume','fumes','fundamentalism','funky','funnily','funny','furious','furiously','furor','fury','fuss','fussy','fustigate','fusty','futile','futilely','futility','fuzzy','gabble','gaff','gaffe','gainsay','gainsayer','gall','galling','gallingly','galls','gangster','gape','garbage','garish','gasp','gauche','gaudy','gawk','gawky','geezer','genocide','get-rich','ghastly','ghetto','ghosting','gibber','gibberish','gibe','giddy','gimmick','gimmicked','gimmicking','gimmicks','gimmicky','glare','glaringly','glib','glibly','glitch','glitches','gloatingly','gloom','gloomy','glower','glum','glut','gnawing','goad','goading','god-awful','goof','goofy','goon','gossip','graceless','gracelessly','graft','grainy','grapple','grate','grating','gravely','greasy','greed','greedy','grief','grievance','grievances','grieve','grieving','grievous','grievously','grim','grimace','grind','gripe','gripes','grisly','gritty','gross','grossly','grotesque','grouch','grouchy','groundless','grouse','growl','grudge','grudges','grudging','grudgingly','gruesome','gruesomely','gruff','grumble','grumpier','grumpiest','grumpily','grumpish','grumpy','guile','guilt','guiltily','guilty','gullible','gutless','gutter','hack','hacks','haggard','haggle','hairloss','halfhearted','halfheartedly','hallucinate','hallucination','hamper','hampered','handicapped','hang','hangs','haphazard','hapless','harangue','harass','harassed','harasses','harassment','harboring','harbors','hard','hard-hit','hard-line','hard-liner','hardball','harden','hardened','hardheaded','hardhearted','hardliner','hardliners','hardship','hardships','harm','harmed','harmful','harms','harpy','harridan','harried','harrow','harsh','harshly','hasseling','hassle','hassled','hassles','haste','hastily','hasty','hate','hated','hateful','hatefully','hatefulness','hater','haters','hates','hating','hatred','haughtily','haughty','haunt','haunting','havoc','hawkish','haywire','hazard','hazardous','haze','hazy','head-aches','headache','headaches','heartbreaker','heartbreaking','heartbreakingly','heartless','heathen','heavy-handed','heavyhearted','heck','heckle','heckled','heckles','hectic','hedge','hedonistic','heedless','hefty','hegemonism','hegemonistic','hegemony','heinous','hell','hell-bent','hellion','hells','helpless','helplessly','helplessness','heresy','heretic','heretical','hesitant','hestitant','hideous','hideously','hideousness','high-priced','hiliarious','hinder','hindrance','hiss','hissed','hissing','ho-hum','hoard','hoax','hobble','hogs','hollow','hoodium','hoodwink','hooligan','hopeless','hopelessly','hopelessness','horde','horrendous','horrendously','horrible','horrid','horrific','horrified','horrifies','horrify','horrifying','horrifys','hostage','hostile','hostilities','hostility','hotbeds','hothead','hotheaded','hothouse','hubris','huckster','hum','humid','humiliate','humiliating','humiliation','humming','hung','hurt','hurted','hurtful','hurting','hurts','hustler','hype','hypocricy','hypocrisy','hypocrite','hypocrites','hypocritical','hypocritically','hysteria','hysteric','hysterical','hysterically','hysterics','idiocies','idiocy','idiot','idiotic','idiotically','idiots','idle','ignoble','ignominious','ignominiously','ignominy','ignorance','ignorant','ignore','ill-advised','ill-conceived','ill-defined','ill-designed','ill-fated','ill-favored','ill-formed','ill-mannered','ill-natured','ill-sorted','ill-tempered','ill-treated','ill-treatment','ill-usage','ill-used','illegal','illegally','illegitimate','illicit','illiterate','illness','illogic','illogical','illogically','illusion','illusions','illusory','imaginary','imbalance','imbecile','imbroglio','immaterial','immature','imminence','imminently','immobilized','immoderate','immoderately','immodest','immoral','immorality','immorally','immovable','impair','impaired','impasse','impatience','impatient','impatiently','impeach','impedance','impede','impediment','impending','impenitent','imperfect','imperfection','imperfections','imperfectly','imperialist','imperil','imperious','imperiously','impermissible','impersonal','impertinent','impetuous','impetuously','impiety','impinge','impious','implacable','implausible','implausibly','implicate','implication','implode','impolite','impolitely','impolitic','importunate','importune','impose','imposers','imposing','imposition','impossible','impossiblity','impossibly','impotent','impoverish','impoverished','impractical','imprecate','imprecise','imprecisely','imprecision','imprison','imprisonment','improbability','improbable','improbably','improper','improperly','impropriety','imprudence','imprudent','impudence','impudent','impudently','impugn','impulsive','impulsively','impunity','impure','impurity','inability','inaccuracies','inaccuracy','inaccurate','inaccurately','inaction','inactive','inadequacy','inadequate','inadequately','inadverent','inadverently','inadvisable','inadvisably','inane','inanely','inappropriate','inappropriately','inapt','inaptitude','inarticulate','inattentive','inaudible','incapable','incapably','incautious','incendiary','incense','incessant','incessantly','incite','incitement','incivility','inclement','incognizant','incoherence','incoherent','incoherently','incommensurate','incomparable','incomparably','incompatability','incompatibility','incompatible','incompetence','incompetent','incompetently','incomplete','incompliant','incomprehensible','incomprehension','inconceivable','inconceivably','incongruous','incongruously','inconsequent','inconsequential','inconsequentially','inconsequently','inconsiderate','inconsiderately','inconsistence','inconsistencies','inconsistency','inconsistent','inconsolable','inconsolably','inconstant','inconvenience','inconveniently','incorrect','incorrectly','incorrigible','incorrigibly','incredulous','incredulously','inculcate','indecency','indecent','indecently','indecision','indecisive','indecisively','indecorum','indefensible','indelicate','indeterminable','indeterminably','indeterminate','indifference','indifferent','indigent','indignant','indignantly','indignation','indignity','indiscernible','indiscreet','indiscreetly','indiscretion','indiscriminate','indiscriminately','indiscriminating','indistinguishable','indoctrinate','indoctrination','indolent','indulge','ineffective','ineffectively','ineffectiveness','ineffectual','ineffectually','ineffectualness','inefficacious','inefficacy','inefficiency','inefficient','inefficiently','inelegance','inelegant','ineligible','ineloquent','ineloquently','inept','ineptitude','ineptly','inequalities','inequality','inequitable','inequitably','inequities','inescapable','inescapably','inessential','inevitable','inevitably','inexcusable','inexcusably','inexorable','inexorably','inexperience','inexperienced','inexpert','inexpertly','inexpiable','inexplainable','inextricable','inextricably','infamous','infamously','infamy','infected','infection','infections','inferior','inferiority','infernal','infest','infested','infidel','infidels','infiltrator','infiltrators','infirm','inflame','inflammation','inflammatory','inflammed','inflated','inflationary','inflexible','inflict','infraction','infringe','infringement','infringements','infuriate','infuriated','infuriating','infuriatingly','inglorious','ingrate','ingratitude','inhibit','inhibition','inhospitable','inhospitality','inhuman','inhumane','inhumanity','inimical','inimically','iniquitous','iniquity','injudicious','injure','injurious','injury','injustice','injustices','innuendo','inoperable','inopportune','inordinate','inordinately','insane','insanely','insanity','insatiable','insecure','insecurity','insensible','insensitive','insensitively','insensitivity','insidious','insidiously','insignificance','insignificant','insignificantly','insincere','insincerely','insincerity','insinuate','insinuating','insinuation','insociable','insolence','insolent','insolently','insolvent','insouciance','instability','instable','instigate','instigator','instigators','insubordinate','insubstantial','insubstantially','insufferable','insufferably','insufficiency','insufficient','insufficiently','insular','insult','insulted','insulting','insultingly','insults','insupportable','insupportably','insurmountable','insurmountably','insurrection','intefere','inteferes','intense','interfere','interference','interferes','intermittent','interrupt','interruption','interruptions','intimidate','intimidating','intimidatingly','intimidation','intolerable','intolerablely','intolerance','intoxicate','intractable','intransigence','intransigent','intrude','intrusion','intrusive','inundate','inundated','invader','invalid','invalidate','invalidity','invasive','invective','inveigle','invidious','invidiously','invidiousness','invisible','involuntarily','involuntary','irascible','irate','irately','ire','irk','irked','irking','irks','irksome','irksomely','irksomeness','irksomenesses','ironic','ironical','ironically','ironies','irony','irragularity','irrational','irrationalities','irrationality','irrationally','irrationals','irreconcilable','irrecoverable','irrecoverableness','irrecoverablenesses','irrecoverably','irredeemable','irredeemably','irreformable','irregular','irregularity','irrelevance','irrelevant','irreparable','irreplacible','irrepressible','irresolute','irresolvable','irresponsible','irresponsibly','irretating','irretrievable','irreversible','irritable','irritably','irritant','irritate','irritated','irritating','irritation','irritations','isolate','isolated','isolation','issue','issues','itch','itching','itchy','jabber','jaded','jagged','jam','jarring','jaundiced','jealous','jealously','jealousness','jealousy','jeer','jeering','jeeringly','jeers','jeopardize','jeopardy','jerk','jerky','jitter','jitters','jittery','job-killing','jobless','joke','joker','jolt','judder','juddering','judders','jumpy','junk','junky','junkyard','jutter','jutters','kaput','kill','killed','killer','killing','killjoy','kills','knave','knife','knock','knotted','kook','kooky','lack','lackadaisical','lacked','lackey','lackeys','lacking','lackluster','lacks','laconic','lag','lagged','lagging','laggy','lags','laid-off','lambast','lambaste','lame','lame-duck','lament','lamentable','lamentably','languid','languish','languor','languorous','languorously','lanky','lapse','lapsed','lapses','lascivious','last-ditch','latency','laughable','laughably','laughingstock','lawbreaker','lawbreaking','lawless','lawlessness','layoff','layoff-happy','lazy','leak','leakage','leakages','leaking','leaks','leaky','lech','lecher','lecherous','lechery','leech','leer','leery','left-leaning','lemon','lengthy','less-developed','lesser-known','letch','lethal','lethargic','lethargy','lewd','lewdly','lewdness','liability','liable','liar','liars','licentious','licentiously','licentiousness','lie','lied','lier','lies','life-threatening','lifeless','limit','limitation','limitations','limited','limits','limp','listless','litigious','little-known','livid','lividly','loath','loathe','loathing','loathly','loathsome','loathsomely','lone','loneliness','lonely','loner','lonesome','long-time','long-winded','longing','longingly','loophole','loopholes','loose','loot','lorn','lose','loser','losers','loses','losing','loss','losses','lost','loud','louder','lousy','loveless','lovelorn','low-rated','lowly','ludicrous','ludicrously','lugubrious','lukewarm','lull','lumpy','lunatic','lunaticism','lurch','lure','lurid','lurk','lurking','lying','macabre','mad','madden','maddening','maddeningly','madder','madly','madman','madness','maladjusted','maladjustment','malady','malaise','malcontent','malcontented','maledict','malevolence','malevolent','malevolently','malice','malicious','maliciously','maliciousness','malign','malignant','malodorous','maltreatment','mangle','mangled','mangles','mangling','mania','maniac','maniacal','manic','manipulate','manipulation','manipulative','manipulators','mar','marginal','marginally','martyrdom','martyrdom-seeking','mashed','massacre','massacres','matte','mawkish','mawkishly','mawkishness','meager','meaningless','meanness','measly','meddle','meddlesome','mediocre','mediocrity','melancholy','melodramatic','melodramatically','meltdown','menace','menacing','menacingly','mendacious','mendacity','menial','merciless','mercilessly','mess','messed','messes','messing','messy','midget','miff','militancy','mindless','mindlessly','mirage','mire','misalign','misaligned','misaligns','misapprehend','misbecome','misbecoming','misbegotten','misbehave','misbehavior','miscalculate','miscalculation','miscellaneous','mischief','mischievous','mischievously','misconception','misconceptions','miscreant','miscreants','misdirection','miser','miserable','miserableness','miserably','miseries','miserly','misery','misfit','misfortune','misgiving','misgivings','misguidance','misguide','misguided','mishandle','mishap','misinform','misinformed','misinterpret','misjudge','misjudgment','mislead','misleading','misleadingly','mislike','mismanage','mispronounce','mispronounced','mispronounces','misread','misreading','misrepresent','misrepresentation','miss','missed','misses','misstatement','mist','mistake','mistaken','mistakenly','mistakes','mistified','mistress','mistrust','mistrustful','mistrustfully','mists','misunderstand','misunderstanding','misunderstandings','misunderstood','misuse','moan','mobster','mock','mocked','mockeries','mockery','mocking','mockingly','mocks','molest','molestation','monotonous','monotony','monster','monstrosities','monstrosity','monstrous','monstrously','moody','moot','mope','morbid','morbidly','mordant','mordantly','moribund','moron','moronic','morons','mortification','mortified','mortify','mortifying','motionless','motley','mourn','mourner','mournful','mournfully','muddle','muddy','mudslinger','mudslinging','mulish','multi-polarization','mundane','murder','murderer','murderous','murderously','murky','muscle-flexing','mushy','musty','mysterious','mysteriously','mystery','mystify','myth','nag','nagging','naive','naively','narrower','nastily','nastiness','nasty','naughty','nauseate','nauseates','nauseating','nauseatingly','naÔve','nebulous','nebulously','needless','needlessly','needy','nefarious','nefariously','negate','negation','negative','negatives','negativity','neglect','neglected','negligence','negligent','nemesis','nepotism','nervous','nervously','nervousness','nettle','nettlesome','neurotic','neurotically','niggle','niggles','nightmare','nightmarish','nightmarishly','nitpick','nitpicking','noise','noises','noisier','noisy','non-confidence','nonexistent','nonresponsive','nonsense','nosey','notoriety','notorious','notoriously','noxious','nuisance','numb','obese','object','objection','objectionable','objections','oblique','obliterate','obliterated','oblivious','obnoxious','obnoxiously','obscene','obscenely','obscenity','obscure','obscured','obscures','obscurity','obsess','obsessive','obsessively','obsessiveness','obsolete','obstacle','obstinate','obstinately','obstruct','obstructed','obstructing','obstruction','obstructs','obtrusive','obtuse','occlude','occluded','occludes','occluding','odd','odder','oddest','oddities','oddity','oddly','odor','offence','offend','offender','offending','offenses','offensive','offensively','offensiveness','officious','ominous','ominously','omission','omit','one-sided','onerous','onerously','onslaught','opinionated','opponent','opportunistic','oppose','opposition','oppositions','oppress','oppression','oppressive','oppressively','oppressiveness','oppressors','ordeal','orphan','ostracize','outbreak','outburst','outbursts','outcast','outcry','outlaw','outmoded','outrage','outraged','outrageous','outrageously','outrageousness','outrages','outsider','over-acted','over-awe','over-balanced','over-hyped','over-priced','over-valuation','overact','overacted','overawe','overbalance','overbalanced','overbearing','overbearingly','overblown','overdo','overdone','overdue','overemphasize','overheat','overkill','overloaded','overlook','overpaid','overpayed','overplay','overpower','overpriced','overrated','overreach','overrun','overshadow','oversight','oversights','oversimplification','oversimplified','oversimplify','oversize','overstate','overstated','overstatement','overstatements','overstates','overtaxed','overthrow','overthrows','overturn','overweight','overwhelm','overwhelmed','overwhelming','overwhelmingly','overwhelms','overzealous','overzealously','overzelous','pain','painful','painfull','painfully','pains','pale','pales','paltry','pan','pandemonium','pander','pandering','panders','panic','panick','panicked','panicking','panicky','paradoxical','paradoxically','paralize','paralyzed','paranoia','paranoid','parasite','pariah','parody','partiality','partisan','partisans','passe','passive','passiveness','pathetic','pathetically','patronize','paucity','pauper','paupers','payback','peculiar','peculiarly','pedantic','peeled','peeve','peeved','peevish','peevishly','penalize','penalty','perfidious','perfidity','perfunctory','peril','perilous','perilously','perish','pernicious','perplex','perplexed','perplexing','perplexity','persecute','persecution','pertinacious','pertinaciously','pertinacity','perturb','perturbed','pervasive','perverse','perversely','perversion','perversity','pervert','perverted','perverts','pessimism','pessimistic','pessimistically','pest','pestilent','petrified','petrify','pettifog','petty','phobia','phobic','phony','picket','picketed','picketing','pickets','picky','pig','pigs','pillage','pillory','pimple','pinch','pique','pitiable','pitiful','pitifully','pitiless','pitilessly','pittance','pity','plagiarize','plague','plasticky','plaything','plea','pleas','plebeian','plight','plot','plotters','ploy','plunder','plunderer','pointless','pointlessly','poison','poisonous','poisonously','pokey','poky','polarisation','polemize','pollute','polluter','polluters','polution','pompous','poor','poorer','poorest','poorly','posturing','pout','poverty','powerless','prate','pratfall','prattle','precarious','precariously','precipitate','precipitous','predatory','predicament','prejudge','prejudice','prejudices','prejudicial','premeditated','preoccupy','preposterous','preposterously','presumptuous','presumptuously','pretence','pretend','pretense','pretentious','pretentiously','prevaricate','pricey','pricier','prick','prickle','prickles','prideful','prik','primitive','prison','prisoner','problem','problematic','problems','procrastinate','procrastinates','procrastination','profane','profanity','prohibit','prohibitive','prohibitively','propaganda','propagandize','proprietary','prosecute','protest','protested','protesting','protests','protracted','provocation','provocative','provoke','pry','pugnacious','pugnaciously','pugnacity','punch','punish','punishable','punitive','punk','puny','puppet','puppets','puzzled','puzzlement','puzzling','quack','qualm','qualms','quandary','quarrel','quarrellous','quarrellously','quarrels','quarrelsome','quash','queer','questionable','quibble','quibbles','quitter','rabid','racism','racist','racists','racy','radical','radicalization','radically','radicals','rage','ragged','raging','rail','raked','rampage','rampant','ramshackle','rancor','randomly','rankle','rant','ranted','ranting','rantingly','rants','rape','raped','raping','rascal','rascals','rash','rattle','rattled','rattles','ravage','raving','reactionary','rebellious','rebuff','rebuke','recalcitrant','recant','recession','recessionary','reckless','recklessly','recklessness','recoil','recourses','redundancy','redundant','refusal','refuse','refused','refuses','refusing','refutation','refute','refuted','refutes','refuting','regress','regression','regressive','regret','regreted','regretful','regretfully','regrets','regrettable','regrettably','regretted','reject','rejected','rejecting','rejection','rejects','relapse','relentless','relentlessly','relentlessness','reluctance','reluctant','reluctantly','remorse','remorseful','remorsefully','remorseless','remorselessly','remorselessness','renounce','renunciation','repel','repetitive','reprehensible','reprehensibly','reprehension','reprehensive','repress','repression','repressive','reprimand','reproach','reproachful','reprove','reprovingly','repudiate','repudiation','repugn','repugnance','repugnant','repugnantly','repulse','repulsed','repulsing','repulsive','repulsively','repulsiveness','resent','resentful','resentment','resignation','resigned','resistance','restless','restlessness','restrict','restricted','restriction','restrictive','resurgent','retaliate','retaliatory','retard','retarded','retardedness','retards','reticent','retract','retreat','retreated','revenge','revengeful','revengefully','revert','revile','reviled','revoke','revolt','revolting','revoltingly','revulsion','revulsive','rhapsodize','rhetoric','rhetorical','ricer','ridicule','ridicules','ridiculous','ridiculously','rife','rift','rifts','rigid','rigidity','rigidness','rile','riled','rip','rip-off','ripoff','ripped','risk','risks','risky','rival','rivalry','roadblocks','rocky','rogue','rollercoaster','rot','rotten','rough','rremediable','rubbish','rude','rue','ruffian','ruffle','ruin','ruined','ruining','ruinous','ruins','rumbling','rumor','rumors','rumours','rumple','run-down','runaway','rupture','rust','rusts','rusty','rut','ruthless','ruthlessly','ruthlessness','ruts','sabotage','sack','sacrificed','sad','sadden','sadly','sadness','sag','sagged','sagging','saggy','sags','salacious','sanctimonious','sap','sarcasm','sarcastic','sarcastically','sardonic','sardonically','sass','satirical','satirize','savage','savaged','savagery','savages','scaly','scam','scams','scandal','scandalize','scandalized','scandalous','scandalously','scandals','scandel','scandels','scant','scapegoat','scar','scarce','scarcely','scarcity','scare','scared','scarier','scariest','scarily','scarred','scars','scary','scathing','scathingly','sceptical','scoff','scoffingly','scold','scolded','scolding','scoldingly','scorching','scorchingly','scorn','scornful','scornfully','scoundrel','scourge','scowl','scramble','scrambled','scrambles','scrambling','scrap','scratch','scratched','scratches','scratchy','scream','screech','screw-up','screwed','screwed-up','screwy','scuff','scuffs','scum','scummy','second-class','second-tier','secretive','sedentary','seedy','seethe','seething','self-coup','self-criticism','self-defeating','self-destructive','self-humiliation','self-interest','self-interested','self-serving','selfinterested','selfish','selfishly','selfishness','semi-retarded','senile','sensationalize','senseless','senselessly','seriousness','sermonize','servitude','set-up','setback','setbacks','sever','severe','severity','sh*t','shabby','shadowy','shady','shake','shaky','shallow','sham','shambles','shame','shameful','shamefully','shamefulness','shameless','shamelessly','shamelessness','shark','sharply','shatter','shemale','shimmer','shimmy','shipwreck','shirk','shirker','shit','shiver','shock','shocked','shocking','shockingly','shoddy','short-lived','shortage','shortchange','shortcoming','shortcomings','shortness','shortsighted','shortsightedness','showdown','shrew','shriek','shrill','shrilly','shrivel','shroud','shrouded','shrug','shun','shunned','sick','sicken','sickening','sickeningly','sickly','sickness','sidetrack','sidetracked','siege','sillily','silly','simplistic','simplistically','sin','sinful','sinfully','sinister','sinisterly','sink','sinking','skeletons','skeptic','skeptical','skeptically','skepticism','sketchy','skimpy','skinny','skittish','skittishly','skulk','slack','slander','slanderer','slanderous','slanderously','slanders','slap','slashing','slaughter','slaughtered','slave','slaves','sleazy','slime','slog','slogged','slogging','slogs','sloooooooooooooow','sloooow','slooow','sloow','sloppily','sloppy','sloth','slothful','slow','slow-moving','slowed','slower','slowest','slowly','sloww','slowww','slowwww','slug','sluggish','slump','slumping','slumpping','slur','slut','sluts','sly','smack','smallish','smash','smear','smell','smelled','smelling','smells','smelly','smelt','smoke','smokescreen','smolder','smoldering','smother','smoulder','smouldering','smudge','smudged','smudges','smudging','smug','smugly','smut','smuttier','smuttiest','smutty','snag','snagged','snagging','snags','snappish','snappishly','snare','snarky','snarl','sneak','sneakily','sneaky','sneer','sneering','sneeringly','snob','snobbish','snobby','snobish','snobs','snub','so-cal','soapy','sob','sober','sobering','solemn','solicitude','somber','sore','sorely','soreness','sorrow','sorrowful','sorrowfully','sorry','sour','sourly','spade','spank','spendy','spew','spewed','spewing','spews','spilling','spinster','spiritless','spite','spiteful','spitefully','spitefulness','splatter','split','splitting','spoil','spoilage','spoilages','spoiled','spoilled','spoils','spook','spookier','spookiest','spookily','spooky','spoon-fed','spoon-feed','spoonfed','sporadic','spotty','spurious','spurn','sputter','squabble','squabbling','squander','squash','squeak','squeaks','squeaky','squeal','squealing','squeals','squirm','stab','stagnant','stagnate','stagnation','staid','stain','stains','stale','stalemate','stall','stalls','stammer','stampede','standstill','stark','starkly','startle','startling','startlingly','starvation','starve','static','steal','stealing','steals','steep','steeply','stench','stereotype','stereotypical','stereotypically','stern','stew','sticky','stiff','stiffness','stifle','stifling','stiflingly','stigma','stigmatize','sting','stinging','stingingly','stingy','stink','stinks','stodgy','stole','stolen','stooge','stooges','stormy','straggle','straggler','strain','strained','straining','strange','strangely','stranger','strangest','strangle','streaky','strenuous','stress','stresses','stressful','stressfully','stricken','strict','strictly','strident','stridently','strife','strike','stringent','stringently','struck','struggle','struggled','struggles','struggling','strut','stubborn','stubbornly','stubbornness','stuck','stuffy','stumble','stumbled','stumbles','stump','stumped','stumps','stun','stunt','stunted','stupid','stupidest','stupidity','stupidly','stupified','stupify','stupor','stutter','stuttered','stuttering','stutters','sty','stymied','sub-par','subdued','subjected','subjection','subjugate','subjugation','submissive','subordinate','subpoena','subpoenas','subservience','subservient','substandard','subtract','subversion','subversive','subversively','subvert','succumb','suck','sucked','sucker','sucks','sucky','sue','sued','sueing','sues','suffer','suffered','sufferer','sufferers','suffering','suffers','suffocate','sugar-coat','sugar-coated','sugarcoated','suicidal','suicide','sulk','sullen','sully','sunder','sunk','sunken','superficial','superficiality','superficially','superfluous','superstition','superstitious','suppress','suppression','surrender','susceptible','suspect','suspicion','suspicions','suspicious','suspiciously','swagger','swamped','sweaty','swelled','swelling','swindle','swipe','swollen','symptom','symptoms','syndrome','taboo','tacky','taint','tainted','tamper','tangle','tangled','tangles','tank','tanked','tanks','tantrum','tardy','tarnish','tarnished','tarnishes','tarnishing','tattered','taunt','taunting','tauntingly','taunts','taut','tawdry','taxing','tease','teasingly','tedious','tediously','temerity','temper','tempest','temptation','tenderness','tense','tension','tentative','tentatively','tenuous','tenuously','tepid','terrible','terribleness','terribly','terror','terror-genic','terrorism','terrorize','testily','testy','tetchily','tetchy','thankless','thicker','thirst','thorny','thoughtless','thoughtlessly','thoughtlessness','thrash','threat','threaten','threatening','threats','threesome','throb','throbbed','throbbing','throbs','throttle','thug','thumb-down','thumbs-down','thwart','time-consuming','timid','timidity','timidly','timidness','tin-y','tingled','tingling','tired','tiresome','tiring','tiringly','toil','toll','top-heavy','topple','torment','tormented','torrent','tortuous','torture','tortured','tortures','torturing','torturous','torturously','totalitarian','touchy','toughness','tout','touted','touts','toxic','traduce','tragedy','tragic','tragically','traitor','traitorous','traitorously','tramp','trample','transgress','transgression','trap','traped','trapped','trash','trashed','trashy','trauma','traumatic','traumatically','traumatize','traumatized','travesties','travesty','treacherous','treacherously','treachery','treason','treasonous','trick','tricked','trickery','tricky','trivial','trivialize','trouble','troubled','troublemaker','troubles','troublesome','troublesomely','troubling','troublingly','truant','tumble','tumbled','tumbles','tumultuous','turbulent','turmoil','twist','twisted','twists','two-faced','two-faces','tyrannical','tyrannically','tyranny','tyrant','ugh','uglier','ugliest','ugliness','ugly','ulterior','ultimatum','ultimatums','ultra-hardline','un-viewable','unable','unacceptable','unacceptablely','unacceptably','unaccessible','unaccustomed','unachievable','unaffordable','unappealing','unattractive','unauthentic','unavailable','unavoidably','unbearable','unbearablely','unbelievable','unbelievably','uncaring','uncertain','uncivil','uncivilized','unclean','unclear','uncollectible','uncomfortable','uncomfortably','uncomfy','uncompetitive','uncompromising','uncompromisingly','unconfirmed','unconstitutional','uncontrolled','unconvincing','unconvincingly','uncooperative','uncouth','uncreative','undecided','undefined','undependability','undependable','undercut','undercuts','undercutting','underdog','underestimate','underlings','undermine','undermined','undermines','undermining','underpaid','underpowered','undersized','undesirable','undetermined','undid','undignified','undissolved','undocumented','undone','undue','unease','uneasily','uneasiness','uneasy','uneconomical','unemployed','unequal','unethical','uneven','uneventful','unexpected','unexpectedly','unexplained','unfairly','unfaithful','unfaithfully','unfamiliar','unfavorable','unfeeling','unfinished','unfit','unforeseen','unforgiving','unfortunate','unfortunately','unfounded','unfriendly','unfulfilled','unfunded','ungovernable','ungrateful','unhappily','unhappiness','unhappy','unhealthy','unhelpful','unilateralism','unimaginable','unimaginably','unimportant','uninformed','uninsured','unintelligible','unintelligile','unipolar','unjust','unjustifiable','unjustifiably','unjustified','unjustly','unkind','unkindly','unknown','unlamentable','unlamentably','unlawful','unlawfully','unlawfulness','unleash','unlicensed','unlikely','unlucky','unmoved','unnatural','unnaturally','unnecessary','unneeded','unnerve','unnerved','unnerving','unnervingly','unnoticed','unobserved','unorthodox','unorthodoxy','unpleasant','unpleasantries','unpopular','unpredictable','unprepared','unproductive','unprofitable','unprove','unproved','unproven','unproves','unproving','unqualified','unravel','unraveled','unreachable','unreadable','unrealistic','unreasonable','unreasonably','unrelenting','unrelentingly','unreliability','unreliable','unresolved','unresponsive','unrest','unruly','unsafe','unsatisfactory','unsavory','unscrupulous','unscrupulously','unsecure','unseemly','unsettle','unsettled','unsettling','unsettlingly','unskilled','unsophisticated','unsound','unspeakable','unspeakablely','unspecified','unstable','unsteadily','unsteadiness','unsteady','unsuccessful','unsuccessfully','unsupported','unsupportive','unsure','unsuspecting','unsustainable','untenable','untested','unthinkable','unthinkably','untimely','untouched','untrue','untrustworthy','untruthful','unusable','unusably','unuseable','unuseably','unusual','unusually','unviewable','unwanted','unwarranted','unwatchable','unwelcome','unwell','unwieldy','unwilling','unwillingly','unwillingness','unwise','unwisely','unworkable','unworthy','unyielding','upbraid','upheaval','uprising','uproar','uproarious','uproariously','uproarous','uproarously','uproot','upset','upseting','upsets','upsetting','upsettingly','urgent','useless','usurp','usurper','utterly','vagrant','vague','vagueness','vain','vainly','vanity','vehement','vehemently','vengeance','vengeful','vengefully','vengefulness','venom','venomous','venomously','vent','vestiges','vex','vexation','vexing','vexingly','vibrate','vibrated','vibrates','vibrating','vibration','vice','vicious','viciously','viciousness','victimize','vile','vileness','vilify','villainous','villainously','villains','villian','villianous','villianously','villify','vindictive','vindictively','vindictiveness','violate','violation','violator','violators','violent','violently','viper','virulence','virulent','virulently','virus','vociferous','vociferously','volatile','volatility','vomit','vomited','vomiting','vomits','vulgar','vulnerable','wack','wail','wallow','wane','waning','wanton','war-like','warily','wariness','warlike','warned','warning','warp','warped','wary','washed-out','waste','wasted','wasteful','wastefulness','wasting','water-down','watered-down','wayward','weak','weaken','weakening','weaker','weakness','weaknesses','weariness','wearisome','weary','wedge','weed','weep','weird','weirdly','wheedle','whimper','whine','whining','whiny','whips','whore','whores','wicked','wickedly','wickedness','wild','wildly','wiles','wilt','wily','wimpy','wince','wobble','wobbled','wobbles','woe','woebegone','woeful','woefully','womanizer','womanizing','worn','worried','worriedly','worrier','worries','worrisome','worry','worrying','worryingly','worse','worsen','worsening','worst','worthless','worthlessly','worthlessness','wound','wounds','wrangle','wrath','wreak','wreaked','wreaks','wreck','wrest','wrestle','wretch','wretched','wretchedly','wretchedness','wrinkle','wrinkled','wrinkles','wrip','wripped','wripping','writhe','wrong','wrongful','wrongly','wrought','yawn','zap','zapped','zaps','zealot','zealous','zealously','zombie']\n",
    "negative_words_set = set(negative_words)\n"
   ]
  },
  {
   "cell_type": "code",
   "execution_count": 478,
   "metadata": {
    "ExecuteTime": {
     "end_time": "2020-07-15T00:49:57.344487Z",
     "start_time": "2020-07-15T00:49:57.332922Z"
    }
   },
   "outputs": [],
   "source": [
    "## Clean and tokenize texts\n",
    "import re\n",
    "\n",
    "def tokenize_text(text):\n",
    "    tokens = []\n",
    "    for sent in nltk.sent_tokenize(text):\n",
    "        for word in nltk.word_tokenize(sent):\n",
    "            if len(word) < 2:\n",
    "                continue\n",
    "            tokens.append(word.lower())\n",
    "    return tokens\n",
    "\n",
    "def remove_stop_words(content):\n",
    "    return [word for word in content if word.lower() not in stop_words]\n",
    "\n",
    "stemmer = PorterStemmer()\n",
    "\n",
    "def stem_words(text):\n",
    "    try:\n",
    "        #text = [stemmer.stem(word) for word in text]\n",
    "        text = [word for word in text if len(word) > 1]\n",
    "    except IndexError:\n",
    "        pass\n",
    "    return text\n",
    "\n",
    "def clean_text(text):\n",
    "    text = re.sub(\"[^a-zA-Z]\",\" \",text)\n",
    "    text = text.lower()\n",
    "    return text\n",
    "\n",
    "\n",
    "def apply_all(text):\n",
    "    return remove_stop_words(tokenize_text(clean_text(text)))"
   ]
  },
  {
   "cell_type": "code",
   "execution_count": 479,
   "metadata": {
    "ExecuteTime": {
     "end_time": "2020-07-15T00:49:59.810551Z",
     "start_time": "2020-07-15T00:49:59.804775Z"
    }
   },
   "outputs": [],
   "source": [
    "## Clean and tokenize and keep onky negative words sentences in texts\n",
    "import re\n",
    "def sent_has_negwords(sent):\n",
    "    input_set = set(nltk.word_tokenize(sent))\n",
    "    if len(list(negative_words_set & input_set)) > 0:\n",
    "        return True\n",
    "    else:\n",
    "        return False\n",
    "        \n",
    "\n",
    "\n",
    "def keep_negative_sentences(text):\n",
    "    sent_str = []\n",
    "    for sent in text.split('.'):\n",
    "        if sent_has_negwords(sent):\n",
    "            #sent = list(nltk.word_tokenize(sent))\n",
    "            #sent = re.sub(\"[^a-zA-Z]\",\" \",sent)\n",
    "            sent = remove_stop_words(tokenize_text(clean_text(text)))\n",
    "            sent_str+=sent\n",
    "    #print(sent_str)\n",
    "    #print('**************************************************************************************')\n",
    "    return sent_str\n",
    "            \n",
    "    "
   ]
  },
  {
   "cell_type": "markdown",
   "metadata": {},
   "source": [
    "- creating different content columns \n",
    "- all texts, filtered texts (negative keyword sentences) , filtered texts 2 (negative keyword sentences of capped length)\n",
    "- some washingtonpost articles were too long compared to oters, so articles are capped to a certain length"
   ]
  },
  {
   "cell_type": "code",
   "execution_count": 623,
   "metadata": {
    "ExecuteTime": {
     "end_time": "2020-07-15T19:31:25.413376Z",
     "start_time": "2020-07-15T19:31:07.232697Z"
    }
   },
   "outputs": [],
   "source": [
    "df['content_filtered'] = df.apply(lambda x: keep_negative_sentences(x['content_full']),axis=1)\n",
    "out_of_sample_df['content_filtered'] = out_of_sample_df.apply(lambda x: keep_negative_sentences(x['content_full']),axis=1)\n",
    "df['content_filtered_2'] = df.apply(lambda x: x['content_filtered'][0:20000],axis=1)\n",
    "out_of_sample_df['content_filtered_2'] = out_of_sample_df.apply(lambda x: x['content_filtered'][0:20000],axis=1)\n",
    "#df['tokenized_content'] = df.apply(lambda x : apply_all(x['content_full']),axis=1)\n",
    "#df['tokenized_title'] = df.apply(lambda x : apply_all(x['title']),axis=1)"
   ]
  },
  {
   "cell_type": "code",
   "execution_count": 624,
   "metadata": {
    "ExecuteTime": {
     "end_time": "2020-07-15T19:36:52.735711Z",
     "start_time": "2020-07-15T19:36:52.723775Z"
    }
   },
   "outputs": [],
   "source": [
    "train_df,test_df = train_test_split(df,test_size=0.3)"
   ]
  },
  {
   "cell_type": "code",
   "execution_count": 483,
   "metadata": {
    "ExecuteTime": {
     "end_time": "2020-07-15T00:53:14.846845Z",
     "start_time": "2020-07-15T00:53:14.351317Z"
    }
   },
   "outputs": [],
   "source": [
    "from gensim.models import LdaModel\n",
    "from gensim import models, corpora, similarities\n",
    "\n",
    "num_topics = 5\n",
    "dictionary = corpora.Dictionary(df['content_filtered_2'])\n",
    "corpus = [dictionary.doc2bow(doc) for doc in df['content_filtered_2']]"
   ]
  },
  {
   "cell_type": "markdown",
   "metadata": {},
   "source": [
    "## Topic Modelling using LDA"
   ]
  },
  {
   "cell_type": "code",
   "execution_count": 830,
   "metadata": {
    "ExecuteTime": {
     "end_time": "2020-07-16T20:48:02.337984Z",
     "start_time": "2020-07-16T20:47:46.876670Z"
    }
   },
   "outputs": [],
   "source": [
    "lda = LdaModel(corpus=corpus,num_topics=num_topics,id2word=dictionary,alpha=0.5e-2,eta=0.5e-2,minimum_probability=0.0,passes=50)"
   ]
  },
  {
   "cell_type": "code",
   "execution_count": 831,
   "metadata": {
    "ExecuteTime": {
     "end_time": "2020-07-16T20:48:28.889609Z",
     "start_time": "2020-07-16T20:48:28.839515Z"
    }
   },
   "outputs": [
    {
     "data": {
      "text/plain": [
       "[(0,\n",
       "  '0.014*\"police\" + 0.012*\"court\" + 0.010*\"law\" + 0.009*\"abortion\" + 0.006*\"people\" + 0.005*\"masks\" + 0.004*\"state\" + 0.004*\"black\" + 0.004*\"louisiana\" + 0.004*\"case\" + 0.004*\"mask\" + 0.004*\"justice\" + 0.004*\"trump\" + 0.003*\"one\" + 0.003*\"supreme\" + 0.003*\"public\" + 0.003*\"health\" + 0.003*\"officers\" + 0.003*\"floyd\" + 0.003*\"even\"'),\n",
       " (1,\n",
       "  '0.017*\"mail\" + 0.011*\"voting\" + 0.011*\"trump\" + 0.011*\"election\" + 0.011*\"ballots\" + 0.010*\"health\" + 0.009*\"states\" + 0.009*\"care\" + 0.008*\"vote\" + 0.007*\"voters\" + 0.006*\"democrats\" + 0.006*\"ballot\" + 0.006*\"pandemic\" + 0.006*\"court\" + 0.006*\"aca\" + 0.006*\"law\" + 0.005*\"republicans\" + 0.005*\"fraud\" + 0.005*\"president\" + 0.005*\"people\"'),\n",
       " (2,\n",
       "  '0.032*\"trump\" + 0.016*\"president\" + 0.015*\"intelligence\" + 0.010*\"russia\" + 0.008*\"bounties\" + 0.007*\"house\" + 0.007*\"russian\" + 0.006*\"white\" + 0.006*\"reports\" + 0.005*\"national\" + 0.005*\"briefed\" + 0.005*\"bolton\" + 0.005*\"news\" + 0.005*\"afghanistan\" + 0.005*\"taliban\" + 0.005*\"troops\" + 0.005*\"security\" + 0.004*\"putin\" + 0.004*\"report\" + 0.004*\"told\"'),\n",
       " (3,\n",
       "  '0.010*\"china\" + 0.008*\"hong\" + 0.008*\"kong\" + 0.007*\"trump\" + 0.007*\"coronavirus\" + 0.006*\"health\" + 0.005*\"chinese\" + 0.005*\"states\" + 0.005*\"also\" + 0.005*\"president\" + 0.005*\"news\" + 0.004*\"law\" + 0.004*\"united\" + 0.004*\"state\" + 0.004*\"national\" + 0.004*\"security\" + 0.004*\"people\" + 0.004*\"one\" + 0.004*\"pandemic\" + 0.003*\"global\"'),\n",
       " (4,\n",
       "  '0.028*\"bolton\" + 0.020*\"trump\" + 0.015*\"book\" + 0.010*\"national\" + 0.008*\"president\" + 0.008*\"security\" + 0.008*\"government\" + 0.006*\"classified\" + 0.006*\"house\" + 0.005*\"court\" + 0.005*\"police\" + 0.005*\"white\" + 0.005*\"according\" + 0.005*\"information\" + 0.004*\"former\" + 0.004*\"judge\" + 0.004*\"publication\" + 0.004*\"department\" + 0.003*\"criminal\" + 0.003*\"reported\"')]"
      ]
     },
     "execution_count": 831,
     "metadata": {},
     "output_type": "execute_result"
    }
   ],
   "source": [
    "lda.show_topics(num_topics=5,num_words=20)"
   ]
  },
  {
   "cell_type": "code",
   "execution_count": 845,
   "metadata": {
    "ExecuteTime": {
     "end_time": "2020-07-16T21:01:15.073632Z",
     "start_time": "2020-07-16T21:01:15.066474Z"
    }
   },
   "outputs": [
    {
     "data": {
      "text/plain": [
       "[('mail', 0.017362358),\n",
       " ('voting', 0.011491839),\n",
       " ('trump', 0.010871863),\n",
       " ('election', 0.010712173),\n",
       " ('ballots', 0.010520697),\n",
       " ('health', 0.009834845),\n",
       " ('states', 0.009461433),\n",
       " ('care', 0.008507006),\n",
       " ('vote', 0.008374221),\n",
       " ('voters', 0.007079174),\n",
       " ('democrats', 0.006315177),\n",
       " ('ballot', 0.006076458),\n",
       " ('pandemic', 0.005842355),\n",
       " ('court', 0.0058362596),\n",
       " ('aca', 0.0057932884),\n",
       " ('law', 0.0055250647),\n",
       " ('republicans', 0.005484115),\n",
       " ('fraud', 0.0054074824),\n",
       " ('president', 0.0052694473),\n",
       " ('people', 0.0051296833)]"
      ]
     },
     "execution_count": 845,
     "metadata": {},
     "output_type": "execute_result"
    }
   ],
   "source": [
    "lda.show_topic(topicid=1,topn=20)"
   ]
  },
  {
   "cell_type": "code",
   "execution_count": 846,
   "metadata": {
    "ExecuteTime": {
     "end_time": "2020-07-16T21:01:27.388111Z",
     "start_time": "2020-07-16T21:01:27.375521Z"
    }
   },
   "outputs": [
    {
     "data": {
      "text/plain": [
       "[('police', 0.014490699),\n",
       " ('court', 0.01165123),\n",
       " ('law', 0.010262634),\n",
       " ('abortion', 0.008874021),\n",
       " ('people', 0.005819376),\n",
       " ('masks', 0.0046457527),\n",
       " ('state', 0.00439744),\n",
       " ('black', 0.0043186713),\n",
       " ('louisiana', 0.0041384664),\n",
       " ('case', 0.0037109582),\n",
       " ('mask', 0.0036647636),\n",
       " ('justice', 0.0036644598),\n",
       " ('trump', 0.0035463243),\n",
       " ('one', 0.0034773415),\n",
       " ('supreme', 0.0034769257),\n",
       " ('public', 0.0033843624),\n",
       " ('health', 0.003234547),\n",
       " ('officers', 0.0031742407),\n",
       " ('floyd', 0.002870055),\n",
       " ('even', 0.002853896)]"
      ]
     },
     "execution_count": 846,
     "metadata": {},
     "output_type": "execute_result"
    }
   ],
   "source": [
    "lda.show_topic(topicid=0,topn=20)"
   ]
  },
  {
   "cell_type": "markdown",
   "metadata": {},
   "source": [
    "- Define tranform for converting document into vectors"
   ]
  },
  {
   "cell_type": "code",
   "execution_count": 592,
   "metadata": {
    "ExecuteTime": {
     "end_time": "2020-07-15T18:04:07.114260Z",
     "start_time": "2020-07-15T18:04:07.097444Z"
    }
   },
   "outputs": [],
   "source": [
    "import multiprocessing as mp\n",
    "from sklearn import utils\n",
    "import numpy as np\n",
    "from gensim.models.callbacks import CallbackAny2Vec\n",
    "\n",
    "\n",
    "class callback(CallbackAny2Vec):\n",
    "    '''Callback to print loss after each epoch.'''\n",
    "\n",
    "    def __init__(self):\n",
    "        self.epoch = 0\n",
    "\n",
    "    def on_epoch_end(self, model):\n",
    "        #loss = model.get_latest_training_loss()\n",
    "        self.epoch += 1\n",
    "        print('Epoch Number : {}'.format(self.epoch))\n",
    "        print(model.docvecs.doctag_syn0)\n",
    "        \n",
    "class Doc2VecTransformer(BaseEstimator):\n",
    "    def __init__(self,vector_size=300,window_size=15,min_count=1,dm=0,\n",
    "                 dm_mean=0,dm_concat=0,epochs=100,sample=1e-5,model_path=''):\n",
    "        self.vector_size=vector_size\n",
    "        self.window_size=window_size\n",
    "        self.min_count=min_count\n",
    "        self.workers=mp.cpu_count()\n",
    "        self.dm=dm\n",
    "        self.epochs=epochs\n",
    "        self.sample = sample\n",
    "        self.dm_mean = dm_mean\n",
    "        self.dm_concat = dm_concat\n",
    "        #self.learning_rate = learning_rate\n",
    "        self._model = None\n",
    "        self.model_path = model_path\n",
    "        #self.pretrained_emb=pretrained_emb, \n",
    "    def fit(self,X,Y=None):\n",
    "        #tagged_x = [TaggedDocument(apply_all(row['content_full']),[index]) for index,row in X.iterrows()]\n",
    "        tagged_x = [TaggedDocument(row['content_filtered_2'],[index]) for index,row in X.iterrows()]\n",
    "        #tagged_x_array = iter(utils.shuffle([x for x in tagged_x]))\n",
    "        #print(tagged_x_array.__next__())\n",
    "        #print('*******************************************************************')\n",
    "        #print(tagged_x_array.__next__())\n",
    "        #train_tagged = X.apply(lambda x : TaggedDocument(words=x.tokenized_content,tags=[x.tag]),axis=1)\n",
    "        model = g.Doc2Vec(vector_size=self.vector_size, window=self.window_size, min_count=self.min_count,\n",
    "                          sample=self.sample, workers=self.workers, hs=0, dm=self.dm,negative=5, dbow_words=1,\n",
    "                         dm_mean = self.dm_mean,dm_concat=self.dm_concat)\n",
    "        \n",
    "        model.build_vocab([x for x in tqdm(tagged_x)])\n",
    "        model.train(utils.shuffle([x for x in tqdm(tagged_x)]), total_examples=len(tagged_x), epochs=self.epochs)\n",
    "        self._model = model\n",
    "        model.save(self.model_path)\n",
    "        return self\n",
    "\n",
    "    def transform(self,X):\n",
    "        #return np.asmatrix(np.array([self._model.infer_vector(apply_all(row['content_full'])) for index,row in X.iterrows()])) \n",
    "        return np.asmatrix(np.array([self._model.infer_vector(row['content_filtered_2']) for index,row in X.iterrows()])) \n",
    "\n",
    "    \n",
    "    "
   ]
  },
  {
   "cell_type": "markdown",
   "metadata": {},
   "source": [
    "- Define Pipeline and GridSearch for Document embedding and classification using Logistic Regression"
   ]
  },
  {
   "cell_type": "code",
   "execution_count": 772,
   "metadata": {
    "ExecuteTime": {
     "end_time": "2020-07-16T06:10:34.822266Z",
     "start_time": "2020-07-16T06:10:34.778479Z"
    }
   },
   "outputs": [],
   "source": [
    "from sklearn.model_selection import GridSearchCV\n",
    "from  xgboost import XGBClassifier\n",
    "from sklearn.metrics import f1_score,fbeta_score,make_scorer\n",
    "\n",
    "\n",
    "f2_scorer = make_scorer(fbeta_score, beta=0.5,average='weighted')\n",
    "news_pipeline = Pipeline(steps=[('doc2vec',Doc2VecTransformer()),\n",
    "                                ('logistic', LogisticRegression(max_iter=300))])\n",
    "\n",
    "\n",
    "\n",
    "#news_pipeline = Pipeline(steps=[('doc2vec',Doc2VecTransformer()),('xgb', XGBClassifier())])\n",
    "\n",
    "f2_scorer_2 = make_scorer(fbeta_score, beta=2.0,average='weighted')\n",
    "f1_scorer = make_scorer(f1_score,average='weighted')\n",
    "\n",
    "def run_grid_search(dm=0,dm_concat=0,dm_mean=0,model_path='',stop_words=[]):\n",
    "    param_grid = {\n",
    "        'doc2vec__vector_size': [100],\n",
    "        'doc2vec__window_size': [10,20],\n",
    "        'doc2vec__min_count':[1,2],\n",
    "        'doc2vec__sample':[1e-5],\n",
    "        'doc2vec__dm':[dm],\n",
    "        'doc2vec__dm_concat':[dm_concat],\n",
    "        'doc2vec__dm_mean':[dm_mean],\n",
    "        'doc2vec__model_path':[model_path],\n",
    "        'doc2vec__epochs':[50]\n",
    "        }\n",
    "    '''\n",
    "        'xgb__max_depth' : [4,6],\n",
    "        'xgb__n_estimators' : [100],\n",
    "        'xgb__min_child_weight' : [3,5]\n",
    "    '''\n",
    "\n",
    "        \n",
    "    stop_words = stop_words\n",
    "    news_grid = GridSearchCV(news_pipeline, param_grid=param_grid, cv=5, n_jobs=-1,scoring=f2_scorer)\n",
    "    news_grid.fit(train_df,train_df[['Alignment']].values.ravel())\n",
    "    predictions_y = news_grid.predict(test_df)\n",
    "    return news_grid,predictions_y\n",
    "\n",
    "\n",
    "def run_grid_search_2(dm=0,dm_concat=0,dm_mean=0,model_path='',stop_words=[]):\n",
    "    param_grid = {\n",
    "        'doc2vec__vector_size': [100],\n",
    "        'doc2vec__window_size': [10,20],\n",
    "        'doc2vec__min_count':[1,2],\n",
    "        'doc2vec__sample':[1e-5],\n",
    "        'doc2vec__dm':[dm],\n",
    "        'doc2vec__dm_concat':[dm_concat],\n",
    "        'doc2vec__dm_mean':[dm_mean],\n",
    "        'doc2vec__model_path':[model_path],\n",
    "        'doc2vec__epochs':[50]\n",
    "        }\n",
    "    '''\n",
    "        'xgb__max_depth' : [4,6],\n",
    "        'xgb__n_estimators' : [100],\n",
    "        'xgb__min_child_weight' : [3,5]\n",
    "    '''\n",
    "\n",
    "        \n",
    "    stop_words = stop_words\n",
    "    news_grid = GridSearchCV(news_pipeline, param_grid=param_grid, cv=5, n_jobs=-1,scoring=f2_scorer_2)\n",
    "    news_grid.fit(train_df,train_df[['Alignment']].values.ravel())\n",
    "    predictions_y = news_grid.predict(test_df)\n",
    "    return news_grid,predictions_y\n"
   ]
  },
  {
   "cell_type": "markdown",
   "metadata": {
    "ExecuteTime": {
     "end_time": "2020-07-11T01:00:39.133524Z",
     "start_time": "2020-07-11T01:00:39.130150Z"
    }
   },
   "source": [
    "## DBOW MODEL"
   ]
  },
  {
   "cell_type": "code",
   "execution_count": 687,
   "metadata": {
    "ExecuteTime": {
     "end_time": "2020-07-15T23:22:23.563042Z",
     "start_time": "2020-07-15T23:06:10.720314Z"
    }
   },
   "outputs": [
    {
     "name": "stderr",
     "output_type": "stream",
     "text": [
      "100%|██████████| 79/79 [00:00<00:00, 43939.80it/s]\n",
      "100%|██████████| 79/79 [00:00<00:00, 32110.67it/s]\n"
     ]
    },
    {
     "name": "stdout",
     "output_type": "stream",
     "text": [
      "Best Cross Validation Score: 0.3627253905514775\n",
      "Best Params {'doc2vec__dm': 0, 'doc2vec__dm_concat': 0, 'doc2vec__dm_mean': 0, 'doc2vec__epochs': 50, 'doc2vec__min_count': 1, 'doc2vec__model_path': '/Users/tapas/Documents/Repos/news_analysis/model_bow.bin', 'doc2vec__sample': 1e-05, 'doc2vec__vector_size': 100, 'doc2vec__window_size': 15}\n",
      "F-Beta Score:  0.9844155844155844\n"
     ]
    },
    {
     "data": {
      "text/plain": [
       "\"\\nBest Cross Validation Score: 0.34718448930776735\\nBest Params {'doc2vec__dm': 0, 'doc2vec__dm_concat': 0, 'doc2vec__dm_mean': 0, 'doc2vec__epochs': 50, 'doc2vec__min_count': 2, 'doc2vec__model_path': '/Users/tapas/Documents/Repos/news_analysis/model_bow.bin', 'doc2vec__sample': 1e-05, 'doc2vec__vector_size': 100, 'doc2vec__window_size': 15}\\nF-Beta Score:  0.9778126635269493\\n\""
      ]
     },
     "execution_count": 687,
     "metadata": {},
     "output_type": "execute_result"
    }
   ],
   "source": [
    "#beta =0.5\n",
    "path = '/Users/tapas/Documents/Repos/news_analysis/model_bow.bin'\n",
    "news_grid,predictions_y = run_grid_search(model_path=path,dm=0,dm_mean=0,dm_concat=0,stop_words=stop_words_4)\n",
    "\n",
    "print(\"Best Cross Validation Score:\",news_grid.best_score_)\n",
    "print(\"Best Params\",news_grid.best_params_)\n",
    "print('F-Beta Score: ', news_grid.score(test_df[['content_filtered_2']], predictions_y))\n",
    "\n",
    "prediction_df = test_df\n",
    "prediction_df['predictions_bow'] = predictions_y\n",
    "prediction_df[['title','Alignment','predictions_bow']]\n",
    "\n",
    "predictions_y2 = news_grid.predict(out_of_sample_df)\n",
    "out_of_sample_df['predictions_bow'] = predictions_y2\n",
    "'''\n",
    "Best Cross Validation Score: 0.34718448930776735\n",
    "Best Params {'doc2vec__dm': 0, 'doc2vec__dm_concat': 0, 'doc2vec__dm_mean': 0, 'doc2vec__epochs': 50, 'doc2vec__min_count': 2, 'doc2vec__model_path': '/Users/tapas/Documents/Repos/news_analysis/model_bow.bin', 'doc2vec__sample': 1e-05, 'doc2vec__vector_size': 100, 'doc2vec__window_size': 15}\n",
    "F-Beta Score:  0.9778126635269493\n",
    "'''"
   ]
  },
  {
   "cell_type": "code",
   "execution_count": 688,
   "metadata": {
    "ExecuteTime": {
     "end_time": "2020-07-15T23:27:18.910712Z",
     "start_time": "2020-07-15T23:27:18.890026Z"
    }
   },
   "outputs": [
    {
     "data": {
      "text/html": [
       "<div>\n",
       "<style scoped>\n",
       "    .dataframe tbody tr th:only-of-type {\n",
       "        vertical-align: middle;\n",
       "    }\n",
       "\n",
       "    .dataframe tbody tr th {\n",
       "        vertical-align: top;\n",
       "    }\n",
       "\n",
       "    .dataframe thead th {\n",
       "        text-align: right;\n",
       "    }\n",
       "</style>\n",
       "<table border=\"1\" class=\"dataframe\">\n",
       "  <thead>\n",
       "    <tr style=\"text-align: right;\">\n",
       "      <th></th>\n",
       "      <th>title</th>\n",
       "      <th>Alignment</th>\n",
       "      <th>predictions_bow</th>\n",
       "      <th>tag</th>\n",
       "    </tr>\n",
       "  </thead>\n",
       "  <tbody>\n",
       "    <tr>\n",
       "      <th>26</th>\n",
       "      <td>Defund police in schools? How the movement got momentum after George Floyd's death</td>\n",
       "      <td>center</td>\n",
       "      <td>center</td>\n",
       "      <td>26</td>\n",
       "    </tr>\n",
       "    <tr>\n",
       "      <th>2</th>\n",
       "      <td>With abortion ruling, Roberts reasserts his role and Supreme Court’s independence</td>\n",
       "      <td>left</td>\n",
       "      <td>center</td>\n",
       "      <td>2</td>\n",
       "    </tr>\n",
       "    <tr>\n",
       "      <th>24</th>\n",
       "      <td>Trump, at Fox News town hall, says mail-in voting is 'biggest risk' to fair November election, says Dems are 'destroying our country'</td>\n",
       "      <td>right</td>\n",
       "      <td>center</td>\n",
       "      <td>24</td>\n",
       "    </tr>\n",
       "    <tr>\n",
       "      <th>35</th>\n",
       "      <td>Clyburn says 'nobody is going to defund the police,' calls for 'reimagining' of law enforcement</td>\n",
       "      <td>center</td>\n",
       "      <td>center</td>\n",
       "      <td>35</td>\n",
       "    </tr>\n",
       "    <tr>\n",
       "      <th>90</th>\n",
       "      <td>Steve Levy: DACA decision – Supreme Court's blow to common sense and the rule of law</td>\n",
       "      <td>right</td>\n",
       "      <td>center</td>\n",
       "      <td>90</td>\n",
       "    </tr>\n",
       "    <tr>\n",
       "      <th>6</th>\n",
       "      <td>Supreme Court strikes down abortion clinic restrictions in Louisiana, a defeat for conservatives</td>\n",
       "      <td>left</td>\n",
       "      <td>center</td>\n",
       "      <td>6</td>\n",
       "    </tr>\n",
       "    <tr>\n",
       "      <th>22</th>\n",
       "      <td>Liz Harrington: Democrats seek mail-in voting so they can cheat their way to victory in November</td>\n",
       "      <td>right</td>\n",
       "      <td>center</td>\n",
       "      <td>22</td>\n",
       "    </tr>\n",
       "    <tr>\n",
       "      <th>62</th>\n",
       "      <td>National security adviser says Trump’s CIA briefer decided not to share Russia bounty intel</td>\n",
       "      <td>right</td>\n",
       "      <td>left</td>\n",
       "      <td>62</td>\n",
       "    </tr>\n",
       "    <tr>\n",
       "      <th>99</th>\n",
       "      <td>Joe Biden needs a China narrative that refutes today’s political angst</td>\n",
       "      <td>left</td>\n",
       "      <td>center</td>\n",
       "      <td>99</td>\n",
       "    </tr>\n",
       "    <tr>\n",
       "      <th>50</th>\n",
       "      <td>People furious over Detroit Zoo’s outdoor mask policy: 'See how many people pass out' in warmer weather</td>\n",
       "      <td>right</td>\n",
       "      <td>center</td>\n",
       "      <td>50</td>\n",
       "    </tr>\n",
       "    <tr>\n",
       "      <th>79</th>\n",
       "      <td>Rep. Greg Walden: Green New Deal would cripple economy – Republicans have better way to fight climate change</td>\n",
       "      <td>right</td>\n",
       "      <td>center</td>\n",
       "      <td>79</td>\n",
       "    </tr>\n",
       "    <tr>\n",
       "      <th>102</th>\n",
       "      <td>The Cybersecurity 202: FCC strike against Huawei reflects broader split between China and the West</td>\n",
       "      <td>center</td>\n",
       "      <td>center</td>\n",
       "      <td>102</td>\n",
       "    </tr>\n",
       "    <tr>\n",
       "      <th>48</th>\n",
       "      <td>Coronavirus can still pass between face mask wearers — even when they're 4 feet apart: study</td>\n",
       "      <td>center</td>\n",
       "      <td>center</td>\n",
       "      <td>48</td>\n",
       "    </tr>\n",
       "    <tr>\n",
       "      <th>37</th>\n",
       "      <td>Andrew McCarthy: Defund the police? Here's what Dems, BLM ignoring about crime</td>\n",
       "      <td>right</td>\n",
       "      <td>center</td>\n",
       "      <td>37</td>\n",
       "    </tr>\n",
       "    <tr>\n",
       "      <th>57</th>\n",
       "      <td>The Russian bounty story crystallizes questions about Trump’s presidency</td>\n",
       "      <td>left</td>\n",
       "      <td>center</td>\n",
       "      <td>57</td>\n",
       "    </tr>\n",
       "    <tr>\n",
       "      <th>70</th>\n",
       "      <td>Bolton blasts Trump for denying he was briefed on Russia offering bounties to Taliban to kill US troops</td>\n",
       "      <td>center</td>\n",
       "      <td>center</td>\n",
       "      <td>70</td>\n",
       "    </tr>\n",
       "    <tr>\n",
       "      <th>51</th>\n",
       "      <td>Trump administration asks Supreme Court to strike down Obamacare - The Washington Post</td>\n",
       "      <td>center</td>\n",
       "      <td>center</td>\n",
       "      <td>51</td>\n",
       "    </tr>\n",
       "    <tr>\n",
       "      <th>42</th>\n",
       "      <td>‘Don’t be a sheep’: Sheriffs rebel against new statewide mask requirements - The Washington Post</td>\n",
       "      <td>left</td>\n",
       "      <td>center</td>\n",
       "      <td>42</td>\n",
       "    </tr>\n",
       "    <tr>\n",
       "      <th>94</th>\n",
       "      <td>Bolton book and Supreme Court ruling on ‘dreamers’ amount to twin defeats to Trump</td>\n",
       "      <td>left</td>\n",
       "      <td>left</td>\n",
       "      <td>94</td>\n",
       "    </tr>\n",
       "    <tr>\n",
       "      <th>76</th>\n",
       "      <td>Fact check: Verifying President Donald Trump's alleged failures in office</td>\n",
       "      <td>left</td>\n",
       "      <td>center</td>\n",
       "      <td>76</td>\n",
       "    </tr>\n",
       "    <tr>\n",
       "      <th>13</th>\n",
       "      <td>Trump calls it ‘rigged,’ but voting by mail is routine among his top administration and campaign officials</td>\n",
       "      <td>left</td>\n",
       "      <td>left</td>\n",
       "      <td>13</td>\n",
       "    </tr>\n",
       "    <tr>\n",
       "      <th>36</th>\n",
       "      <td>Cory Mills: Want more crime and innocent people killed? Then defund the police</td>\n",
       "      <td>right</td>\n",
       "      <td>center</td>\n",
       "      <td>36</td>\n",
       "    </tr>\n",
       "    <tr>\n",
       "      <th>95</th>\n",
       "      <td>China is censoring its critics on Zoom. Will the tech company continue to comply? - The Washington Post</td>\n",
       "      <td>center</td>\n",
       "      <td>center</td>\n",
       "      <td>95</td>\n",
       "    </tr>\n",
       "    <tr>\n",
       "      <th>103</th>\n",
       "      <td>US, China ramp up South China Sea tension with new military drills</td>\n",
       "      <td>center</td>\n",
       "      <td>center</td>\n",
       "      <td>103</td>\n",
       "    </tr>\n",
       "    <tr>\n",
       "      <th>91</th>\n",
       "      <td>Cotton blasts Roberts over DACA, invites him to resign, run for office</td>\n",
       "      <td>right</td>\n",
       "      <td>left</td>\n",
       "      <td>91</td>\n",
       "    </tr>\n",
       "    <tr>\n",
       "      <th>52</th>\n",
       "      <td>Trump’s unhinged crusade to destroy Obamacare boomerangs back on GOP</td>\n",
       "      <td>left</td>\n",
       "      <td>center</td>\n",
       "      <td>52</td>\n",
       "    </tr>\n",
       "    <tr>\n",
       "      <th>63</th>\n",
       "      <td>Trump’s ugly new spin on Russia bounties actually incriminates him</td>\n",
       "      <td>left</td>\n",
       "      <td>left</td>\n",
       "      <td>63</td>\n",
       "    </tr>\n",
       "    <tr>\n",
       "      <th>100</th>\n",
       "      <td>The Finance 202: Bolton book dismantles Wall Street narrative of Trump as a China hawk</td>\n",
       "      <td>left</td>\n",
       "      <td>center</td>\n",
       "      <td>100</td>\n",
       "    </tr>\n",
       "    <tr>\n",
       "      <th>29</th>\n",
       "      <td>San Diego defies calls to 'defund the police,' but it 'won't be business as usual' in California's second largest city</td>\n",
       "      <td>center</td>\n",
       "      <td>center</td>\n",
       "      <td>29</td>\n",
       "    </tr>\n",
       "    <tr>\n",
       "      <th>17</th>\n",
       "      <td>Trump says surge in voting by mail his ‘biggest risk’</td>\n",
       "      <td>center</td>\n",
       "      <td>left</td>\n",
       "      <td>17</td>\n",
       "    </tr>\n",
       "    <tr>\n",
       "      <th>69</th>\n",
       "      <td>White House insists ‘no consensus’ on intel of Russian bounties for US troops, as pressure mounts</td>\n",
       "      <td>right</td>\n",
       "      <td>center</td>\n",
       "      <td>69</td>\n",
       "    </tr>\n",
       "    <tr>\n",
       "      <th>10</th>\n",
       "      <td>Christian conservatives rattled after Supreme Court rules against LGBT discrimination - The Washington Post</td>\n",
       "      <td>left</td>\n",
       "      <td>center</td>\n",
       "      <td>10</td>\n",
       "    </tr>\n",
       "    <tr>\n",
       "      <th>64</th>\n",
       "      <td>Kayleigh McEnany’s answers on Russia’s bounties and Trump don’t make sense</td>\n",
       "      <td>left</td>\n",
       "      <td>center</td>\n",
       "      <td>64</td>\n",
       "    </tr>\n",
       "    <tr>\n",
       "      <th>27</th>\n",
       "      <td>Fact check: Did Adolf Hitler defund the police in Nazi Germany?</td>\n",
       "      <td>left</td>\n",
       "      <td>center</td>\n",
       "      <td>27</td>\n",
       "    </tr>\n",
       "    <tr>\n",
       "      <th>65</th>\n",
       "      <td>Were Trump’s aides too afraid to tell him about the Russian bounties?</td>\n",
       "      <td>left</td>\n",
       "      <td>center</td>\n",
       "      <td>65</td>\n",
       "    </tr>\n",
       "  </tbody>\n",
       "</table>\n",
       "</div>"
      ],
      "text/plain": [
       "                                                                                                                                     title  \\\n",
       "26   Defund police in schools? How the movement got momentum after George Floyd's death                                                      \n",
       "2    With abortion ruling, Roberts reasserts his role and Supreme Court’s independence                                                       \n",
       "24   Trump, at Fox News town hall, says mail-in voting is 'biggest risk' to fair November election, says Dems are 'destroying our country'   \n",
       "35   Clyburn says 'nobody is going to defund the police,' calls for 'reimagining' of law enforcement                                         \n",
       "90   Steve Levy: DACA decision – Supreme Court's blow to common sense and the rule of law                                                    \n",
       "6    Supreme Court strikes down abortion clinic restrictions in Louisiana, a defeat for conservatives                                        \n",
       "22   Liz Harrington: Democrats seek mail-in voting so they can cheat their way to victory in November                                        \n",
       "62   National security adviser says Trump’s CIA briefer decided not to share Russia bounty intel                                             \n",
       "99   Joe Biden needs a China narrative that refutes today’s political angst                                                                  \n",
       "50   People furious over Detroit Zoo’s outdoor mask policy: 'See how many people pass out' in warmer weather                                 \n",
       "79   Rep. Greg Walden: Green New Deal would cripple economy – Republicans have better way to fight climate change                            \n",
       "102  The Cybersecurity 202: FCC strike against Huawei reflects broader split between China and the West                                      \n",
       "48   Coronavirus can still pass between face mask wearers — even when they're 4 feet apart: study                                            \n",
       "37   Andrew McCarthy: Defund the police? Here's what Dems, BLM ignoring about crime                                                          \n",
       "57   The Russian bounty story crystallizes questions about Trump’s presidency                                                                \n",
       "70   Bolton blasts Trump for denying he was briefed on Russia offering bounties to Taliban to kill US troops                                 \n",
       "51   Trump administration asks Supreme Court to strike down Obamacare - The Washington Post                                                  \n",
       "42   ‘Don’t be a sheep’: Sheriffs rebel against new statewide mask requirements - The Washington Post                                        \n",
       "94   Bolton book and Supreme Court ruling on ‘dreamers’ amount to twin defeats to Trump                                                      \n",
       "76   Fact check: Verifying President Donald Trump's alleged failures in office                                                               \n",
       "13   Trump calls it ‘rigged,’ but voting by mail is routine among his top administration and campaign officials                              \n",
       "36   Cory Mills: Want more crime and innocent people killed? Then defund the police                                                          \n",
       "95   China is censoring its critics on Zoom. Will the tech company continue to comply? - The Washington Post                                 \n",
       "103  US, China ramp up South China Sea tension with new military drills                                                                      \n",
       "91   Cotton blasts Roberts over DACA, invites him to resign, run for office                                                                  \n",
       "52   Trump’s unhinged crusade to destroy Obamacare boomerangs back on GOP                                                                    \n",
       "63   Trump’s ugly new spin on Russia bounties actually incriminates him                                                                      \n",
       "100  The Finance 202: Bolton book dismantles Wall Street narrative of Trump as a China hawk                                                  \n",
       "29   San Diego defies calls to 'defund the police,' but it 'won't be business as usual' in California's second largest city                  \n",
       "17   Trump says surge in voting by mail his ‘biggest risk’                                                                                   \n",
       "69   White House insists ‘no consensus’ on intel of Russian bounties for US troops, as pressure mounts                                       \n",
       "10   Christian conservatives rattled after Supreme Court rules against LGBT discrimination - The Washington Post                             \n",
       "64   Kayleigh McEnany’s answers on Russia’s bounties and Trump don’t make sense                                                              \n",
       "27   Fact check: Did Adolf Hitler defund the police in Nazi Germany?                                                                         \n",
       "65   Were Trump’s aides too afraid to tell him about the Russian bounties?                                                                   \n",
       "\n",
       "    Alignment predictions_bow  tag  \n",
       "26   center    center          26   \n",
       "2    left      center          2    \n",
       "24   right     center          24   \n",
       "35   center    center          35   \n",
       "90   right     center          90   \n",
       "6    left      center          6    \n",
       "22   right     center          22   \n",
       "62   right     left            62   \n",
       "99   left      center          99   \n",
       "50   right     center          50   \n",
       "79   right     center          79   \n",
       "102  center    center          102  \n",
       "48   center    center          48   \n",
       "37   right     center          37   \n",
       "57   left      center          57   \n",
       "70   center    center          70   \n",
       "51   center    center          51   \n",
       "42   left      center          42   \n",
       "94   left      left            94   \n",
       "76   left      center          76   \n",
       "13   left      left            13   \n",
       "36   right     center          36   \n",
       "95   center    center          95   \n",
       "103  center    center          103  \n",
       "91   right     left            91   \n",
       "52   left      center          52   \n",
       "63   left      left            63   \n",
       "100  left      center          100  \n",
       "29   center    center          29   \n",
       "17   center    left            17   \n",
       "69   right     center          69   \n",
       "10   left      center          10   \n",
       "64   left      center          64   \n",
       "27   left      center          27   \n",
       "65   left      center          65   "
      ]
     },
     "execution_count": 688,
     "metadata": {},
     "output_type": "execute_result"
    }
   ],
   "source": [
    "pd.set_option('display.max_colwidth',-1)\n",
    "prediction_df[['title','Alignment','predictions_bow','tag']]"
   ]
  },
  {
   "cell_type": "markdown",
   "metadata": {},
   "source": [
    "### Checking similarity vectors in DBOW Model"
   ]
  },
  {
   "cell_type": "code",
   "execution_count": 756,
   "metadata": {
    "ExecuteTime": {
     "end_time": "2020-07-16T01:53:37.985121Z",
     "start_time": "2020-07-16T01:53:31.086824Z"
    }
   },
   "outputs": [
    {
     "name": "stdout",
     "output_type": "stream",
     "text": [
      "63    Trump’s ugly new spin on Russia bounties actually incriminates him\n",
      "Name: title, dtype: object\n"
     ]
    },
    {
     "data": {
      "text/plain": [
       "[(101, 0.4486703872680664),\n",
       " (83, 0.3195067346096039),\n",
       " (85, 0.29169732332229614),\n",
       " (84, 0.2863686978816986),\n",
       " (93, 0.2789568603038788),\n",
       " (45, 0.25913944840431213),\n",
       " (89, 0.23757733404636383),\n",
       " (53, 0.23568525910377502),\n",
       " (109, 0.23428824543952942),\n",
       " (82, 0.21257035434246063)]"
      ]
     },
     "execution_count": 756,
     "metadata": {},
     "output_type": "execute_result"
    }
   ],
   "source": [
    "model_bow = g.Doc2Vec.load(\"/Users/tapas/Documents/Repos/news_analysis/model_bow.bin\")\n",
    "\n",
    "def get_paragraph_vector(content):\n",
    "    vec = model_bow.infer_vector(content)\n",
    "    return vec\n",
    "\n",
    "test_df['paragraph_vector'] = test_df.apply(lambda x: get_paragraph_vector(x['content_filtered_2']),axis=1)\n",
    "print(test_df[test_df.tag == 63]['title'])\n",
    "test_vector = test_df[test_df.tag == 63]['paragraph_vector']\n",
    "sims_posititve = model_bow.docvecs.most_similar(test_vector)\n",
    "sims_positive\n",
    "\n"
   ]
  },
  {
   "cell_type": "markdown",
   "metadata": {},
   "source": [
    "- Positive similarity"
   ]
  },
  {
   "cell_type": "code",
   "execution_count": 759,
   "metadata": {
    "ExecuteTime": {
     "end_time": "2020-07-16T01:53:53.548435Z",
     "start_time": "2020-07-16T01:53:53.538705Z"
    }
   },
   "outputs": [
    {
     "data": {
      "text/html": [
       "<div>\n",
       "<style scoped>\n",
       "    .dataframe tbody tr th:only-of-type {\n",
       "        vertical-align: middle;\n",
       "    }\n",
       "\n",
       "    .dataframe tbody tr th {\n",
       "        vertical-align: top;\n",
       "    }\n",
       "\n",
       "    .dataframe thead th {\n",
       "        text-align: right;\n",
       "    }\n",
       "</style>\n",
       "<table border=\"1\" class=\"dataframe\">\n",
       "  <thead>\n",
       "    <tr style=\"text-align: right;\">\n",
       "      <th></th>\n",
       "      <th>title</th>\n",
       "      <th>Alignment</th>\n",
       "    </tr>\n",
       "  </thead>\n",
       "  <tbody>\n",
       "    <tr>\n",
       "      <th>101</th>\n",
       "      <td>Russia. Ukraine. China. Bolton account highlights pattern of Trump welcoming foreign political help.</td>\n",
       "      <td>left</td>\n",
       "    </tr>\n",
       "  </tbody>\n",
       "</table>\n",
       "</div>"
      ],
      "text/plain": [
       "                                                                                                    title  \\\n",
       "101  Russia. Ukraine. China. Bolton account highlights pattern of Trump welcoming foreign political help.   \n",
       "\n",
       "    Alignment  \n",
       "101  left      "
      ]
     },
     "execution_count": 759,
     "metadata": {},
     "output_type": "execute_result"
    }
   ],
   "source": [
    "train_df[train_df.tag == 101][['title','Alignment']]"
   ]
  },
  {
   "cell_type": "code",
   "execution_count": 761,
   "metadata": {
    "ExecuteTime": {
     "end_time": "2020-07-16T01:54:11.675062Z",
     "start_time": "2020-07-16T01:54:11.666066Z"
    }
   },
   "outputs": [
    {
     "data": {
      "text/html": [
       "<div>\n",
       "<style scoped>\n",
       "    .dataframe tbody tr th:only-of-type {\n",
       "        vertical-align: middle;\n",
       "    }\n",
       "\n",
       "    .dataframe tbody tr th {\n",
       "        vertical-align: top;\n",
       "    }\n",
       "\n",
       "    .dataframe thead th {\n",
       "        text-align: right;\n",
       "    }\n",
       "</style>\n",
       "<table border=\"1\" class=\"dataframe\">\n",
       "  <thead>\n",
       "    <tr style=\"text-align: right;\">\n",
       "      <th></th>\n",
       "      <th>title</th>\n",
       "      <th>Alignment</th>\n",
       "    </tr>\n",
       "  </thead>\n",
       "  <tbody>\n",
       "    <tr>\n",
       "      <th>83</th>\n",
       "      <td>'We won': DACA recipients overwhelmed by surprise Supreme Court victory over Trump</td>\n",
       "      <td>left</td>\n",
       "    </tr>\n",
       "  </tbody>\n",
       "</table>\n",
       "</div>"
      ],
      "text/plain": [
       "                                                                                 title  \\\n",
       "83  'We won': DACA recipients overwhelmed by surprise Supreme Court victory over Trump   \n",
       "\n",
       "   Alignment  \n",
       "83  left      "
      ]
     },
     "execution_count": 761,
     "metadata": {},
     "output_type": "execute_result"
    }
   ],
   "source": [
    "train_df[train_df.tag == 83][['title','Alignment']]"
   ]
  },
  {
   "cell_type": "code",
   "execution_count": 762,
   "metadata": {
    "ExecuteTime": {
     "end_time": "2020-07-16T01:54:30.144511Z",
     "start_time": "2020-07-16T01:54:30.134154Z"
    }
   },
   "outputs": [
    {
     "data": {
      "text/html": [
       "<div>\n",
       "<style scoped>\n",
       "    .dataframe tbody tr th:only-of-type {\n",
       "        vertical-align: middle;\n",
       "    }\n",
       "\n",
       "    .dataframe tbody tr th {\n",
       "        vertical-align: top;\n",
       "    }\n",
       "\n",
       "    .dataframe thead th {\n",
       "        text-align: right;\n",
       "    }\n",
       "</style>\n",
       "<table border=\"1\" class=\"dataframe\">\n",
       "  <thead>\n",
       "    <tr style=\"text-align: right;\">\n",
       "      <th></th>\n",
       "      <th>title</th>\n",
       "      <th>Alignment</th>\n",
       "    </tr>\n",
       "  </thead>\n",
       "  <tbody>\n",
       "    <tr>\n",
       "      <th>85</th>\n",
       "      <td>Trump blasts DACA decision, asking if people get the impression 'the Supreme Court doesn't like me?'</td>\n",
       "      <td>left</td>\n",
       "    </tr>\n",
       "  </tbody>\n",
       "</table>\n",
       "</div>"
      ],
      "text/plain": [
       "                                                                                                   title  \\\n",
       "85  Trump blasts DACA decision, asking if people get the impression 'the Supreme Court doesn't like me?'   \n",
       "\n",
       "   Alignment  \n",
       "85  left      "
      ]
     },
     "execution_count": 762,
     "metadata": {},
     "output_type": "execute_result"
    }
   ],
   "source": [
    "train_df[train_df.tag == 85][['title','Alignment']]"
   ]
  },
  {
   "cell_type": "code",
   "execution_count": 863,
   "metadata": {
    "ExecuteTime": {
     "end_time": "2020-07-17T00:31:29.075666Z",
     "start_time": "2020-07-17T00:31:29.064222Z"
    }
   },
   "outputs": [
    {
     "data": {
      "text/html": [
       "<div>\n",
       "<style scoped>\n",
       "    .dataframe tbody tr th:only-of-type {\n",
       "        vertical-align: middle;\n",
       "    }\n",
       "\n",
       "    .dataframe tbody tr th {\n",
       "        vertical-align: top;\n",
       "    }\n",
       "\n",
       "    .dataframe thead th {\n",
       "        text-align: right;\n",
       "    }\n",
       "</style>\n",
       "<table border=\"1\" class=\"dataframe\">\n",
       "  <thead>\n",
       "    <tr style=\"text-align: right;\">\n",
       "      <th></th>\n",
       "      <th>title</th>\n",
       "      <th>Alignment</th>\n",
       "    </tr>\n",
       "  </thead>\n",
       "  <tbody>\n",
       "    <tr>\n",
       "      <th>7</th>\n",
       "      <td>Supreme Court strikes down Louisiana law on abortion clinic restrictions</td>\n",
       "      <td>center</td>\n",
       "    </tr>\n",
       "  </tbody>\n",
       "</table>\n",
       "</div>"
      ],
      "text/plain": [
       "                                                                      title  \\\n",
       "7  Supreme Court strikes down Louisiana law on abortion clinic restrictions   \n",
       "\n",
       "  Alignment  \n",
       "7  center    "
      ]
     },
     "execution_count": 863,
     "metadata": {},
     "output_type": "execute_result"
    }
   ],
   "source": [
    "train_df[train_df.tag == 7][['title','Alignment']]"
   ]
  },
  {
   "cell_type": "markdown",
   "metadata": {},
   "source": [
    "- Negative Similarity"
   ]
  },
  {
   "cell_type": "code",
   "execution_count": 749,
   "metadata": {
    "ExecuteTime": {
     "end_time": "2020-07-16T01:51:04.209910Z",
     "start_time": "2020-07-16T01:51:04.203200Z"
    }
   },
   "outputs": [
    {
     "data": {
      "text/plain": [
       "[(35, 0.17234018445014954),\n",
       " (103, 0.1506379246711731),\n",
       " (79, 0.1496298909187317),\n",
       " (29, 0.14263445138931274),\n",
       " (99, 0.1422889083623886),\n",
       " (102, 0.12319527566432953),\n",
       " (55, 0.11329978704452515),\n",
       " (13, 0.08330686390399933),\n",
       " (33, 0.08016876876354218),\n",
       " (62, 0.07218089699745178)]"
      ]
     },
     "execution_count": 749,
     "metadata": {},
     "output_type": "execute_result"
    }
   ],
   "source": [
    "sims_negative = model_bow.docvecs.most_similar(negative=test_vector)\n",
    "sims_negative"
   ]
  },
  {
   "cell_type": "code",
   "execution_count": 696,
   "metadata": {
    "ExecuteTime": {
     "end_time": "2020-07-15T23:29:35.194082Z",
     "start_time": "2020-07-15T23:29:35.184314Z"
    }
   },
   "outputs": [
    {
     "data": {
      "text/html": [
       "<div>\n",
       "<style scoped>\n",
       "    .dataframe tbody tr th:only-of-type {\n",
       "        vertical-align: middle;\n",
       "    }\n",
       "\n",
       "    .dataframe tbody tr th {\n",
       "        vertical-align: top;\n",
       "    }\n",
       "\n",
       "    .dataframe thead th {\n",
       "        text-align: right;\n",
       "    }\n",
       "</style>\n",
       "<table border=\"1\" class=\"dataframe\">\n",
       "  <thead>\n",
       "    <tr style=\"text-align: right;\">\n",
       "      <th></th>\n",
       "      <th>title</th>\n",
       "      <th>Alignment</th>\n",
       "    </tr>\n",
       "  </thead>\n",
       "  <tbody>\n",
       "    <tr>\n",
       "      <th>35</th>\n",
       "      <td>Clyburn says 'nobody is going to defund the police,' calls for 'reimagining' of law enforcement</td>\n",
       "      <td>center</td>\n",
       "    </tr>\n",
       "  </tbody>\n",
       "</table>\n",
       "</div>"
      ],
      "text/plain": [
       "                                                                                              title  \\\n",
       "35  Clyburn says 'nobody is going to defund the police,' calls for 'reimagining' of law enforcement   \n",
       "\n",
       "   Alignment  \n",
       "35  center    "
      ]
     },
     "execution_count": 696,
     "metadata": {},
     "output_type": "execute_result"
    }
   ],
   "source": [
    "test_df[test_df.tag == 35][['title','Alignment']]"
   ]
  },
  {
   "cell_type": "code",
   "execution_count": 697,
   "metadata": {
    "ExecuteTime": {
     "end_time": "2020-07-15T23:29:42.323150Z",
     "start_time": "2020-07-15T23:29:42.311572Z"
    }
   },
   "outputs": [
    {
     "data": {
      "text/html": [
       "<div>\n",
       "<style scoped>\n",
       "    .dataframe tbody tr th:only-of-type {\n",
       "        vertical-align: middle;\n",
       "    }\n",
       "\n",
       "    .dataframe tbody tr th {\n",
       "        vertical-align: top;\n",
       "    }\n",
       "\n",
       "    .dataframe thead th {\n",
       "        text-align: right;\n",
       "    }\n",
       "</style>\n",
       "<table border=\"1\" class=\"dataframe\">\n",
       "  <thead>\n",
       "    <tr style=\"text-align: right;\">\n",
       "      <th></th>\n",
       "      <th>title</th>\n",
       "      <th>Alignment</th>\n",
       "    </tr>\n",
       "  </thead>\n",
       "  <tbody>\n",
       "    <tr>\n",
       "      <th>103</th>\n",
       "      <td>US, China ramp up South China Sea tension with new military drills</td>\n",
       "      <td>center</td>\n",
       "    </tr>\n",
       "  </tbody>\n",
       "</table>\n",
       "</div>"
      ],
      "text/plain": [
       "                                                                  title  \\\n",
       "103  US, China ramp up South China Sea tension with new military drills   \n",
       "\n",
       "    Alignment  \n",
       "103  center    "
      ]
     },
     "execution_count": 697,
     "metadata": {},
     "output_type": "execute_result"
    }
   ],
   "source": [
    "test_df[test_df.tag == 103][['title','Alignment']]"
   ]
  },
  {
   "cell_type": "code",
   "execution_count": 698,
   "metadata": {
    "ExecuteTime": {
     "end_time": "2020-07-15T23:29:49.366906Z",
     "start_time": "2020-07-15T23:29:49.356854Z"
    }
   },
   "outputs": [
    {
     "data": {
      "text/html": [
       "<div>\n",
       "<style scoped>\n",
       "    .dataframe tbody tr th:only-of-type {\n",
       "        vertical-align: middle;\n",
       "    }\n",
       "\n",
       "    .dataframe tbody tr th {\n",
       "        vertical-align: top;\n",
       "    }\n",
       "\n",
       "    .dataframe thead th {\n",
       "        text-align: right;\n",
       "    }\n",
       "</style>\n",
       "<table border=\"1\" class=\"dataframe\">\n",
       "  <thead>\n",
       "    <tr style=\"text-align: right;\">\n",
       "      <th></th>\n",
       "      <th>title</th>\n",
       "      <th>Alignment</th>\n",
       "    </tr>\n",
       "  </thead>\n",
       "  <tbody>\n",
       "    <tr>\n",
       "      <th>79</th>\n",
       "      <td>Rep. Greg Walden: Green New Deal would cripple economy – Republicans have better way to fight climate change</td>\n",
       "      <td>right</td>\n",
       "    </tr>\n",
       "  </tbody>\n",
       "</table>\n",
       "</div>"
      ],
      "text/plain": [
       "                                                                                                           title  \\\n",
       "79  Rep. Greg Walden: Green New Deal would cripple economy – Republicans have better way to fight climate change   \n",
       "\n",
       "   Alignment  \n",
       "79  right     "
      ]
     },
     "execution_count": 698,
     "metadata": {},
     "output_type": "execute_result"
    }
   ],
   "source": [
    "test_df[test_df.tag == 79][['title','Alignment']]"
   ]
  },
  {
   "cell_type": "code",
   "execution_count": 753,
   "metadata": {
    "ExecuteTime": {
     "end_time": "2020-07-16T01:52:20.113071Z",
     "start_time": "2020-07-16T01:52:20.102094Z"
    }
   },
   "outputs": [
    {
     "name": "stdout",
     "output_type": "stream",
     "text": [
      "94    Bolton book and Supreme Court ruling on ‘dreamers’ amount to twin defeats to Trump\n",
      "Name: title, dtype: object\n"
     ]
    },
    {
     "data": {
      "text/plain": [
       "[(101, 0.4486703872680664),\n",
       " (83, 0.3195067346096039),\n",
       " (85, 0.29169732332229614),\n",
       " (84, 0.2863686978816986),\n",
       " (93, 0.2789568603038788),\n",
       " (45, 0.25913944840431213),\n",
       " (89, 0.23757733404636383),\n",
       " (53, 0.23568525910377502),\n",
       " (109, 0.23428824543952942),\n",
       " (82, 0.21257035434246063)]"
      ]
     },
     "execution_count": 753,
     "metadata": {},
     "output_type": "execute_result"
    }
   ],
   "source": [
    "print(test_df[test_df.tag == 94]['title'])\n",
    "test_vector = test_df[test_df.tag == 94]['paragraph_vector']\n",
    "sims_positive = model_bow.docvecs.most_similar(positive=test_vector)\n",
    "sims_positive"
   ]
  },
  {
   "cell_type": "code",
   "execution_count": 677,
   "metadata": {
    "ExecuteTime": {
     "end_time": "2020-07-15T23:01:18.668610Z",
     "start_time": "2020-07-15T23:01:18.659103Z"
    }
   },
   "outputs": [
    {
     "data": {
      "text/html": [
       "<div>\n",
       "<style scoped>\n",
       "    .dataframe tbody tr th:only-of-type {\n",
       "        vertical-align: middle;\n",
       "    }\n",
       "\n",
       "    .dataframe tbody tr th {\n",
       "        vertical-align: top;\n",
       "    }\n",
       "\n",
       "    .dataframe thead th {\n",
       "        text-align: right;\n",
       "    }\n",
       "</style>\n",
       "<table border=\"1\" class=\"dataframe\">\n",
       "  <thead>\n",
       "    <tr style=\"text-align: right;\">\n",
       "      <th></th>\n",
       "      <th>title</th>\n",
       "      <th>Alignment</th>\n",
       "    </tr>\n",
       "  </thead>\n",
       "  <tbody>\n",
       "    <tr>\n",
       "      <th>101</th>\n",
       "      <td>Russia. Ukraine. China. Bolton account highlights pattern of Trump welcoming foreign political help.</td>\n",
       "      <td>left</td>\n",
       "    </tr>\n",
       "  </tbody>\n",
       "</table>\n",
       "</div>"
      ],
      "text/plain": [
       "                                                                                                    title  \\\n",
       "101  Russia. Ukraine. China. Bolton account highlights pattern of Trump welcoming foreign political help.   \n",
       "\n",
       "    Alignment  \n",
       "101  left      "
      ]
     },
     "execution_count": 677,
     "metadata": {},
     "output_type": "execute_result"
    }
   ],
   "source": [
    "train_df[train_df.tag == 101][['title','Alignment']]"
   ]
  },
  {
   "cell_type": "code",
   "execution_count": 678,
   "metadata": {
    "ExecuteTime": {
     "end_time": "2020-07-15T23:01:26.455972Z",
     "start_time": "2020-07-15T23:01:26.446766Z"
    }
   },
   "outputs": [
    {
     "data": {
      "text/html": [
       "<div>\n",
       "<style scoped>\n",
       "    .dataframe tbody tr th:only-of-type {\n",
       "        vertical-align: middle;\n",
       "    }\n",
       "\n",
       "    .dataframe tbody tr th {\n",
       "        vertical-align: top;\n",
       "    }\n",
       "\n",
       "    .dataframe thead th {\n",
       "        text-align: right;\n",
       "    }\n",
       "</style>\n",
       "<table border=\"1\" class=\"dataframe\">\n",
       "  <thead>\n",
       "    <tr style=\"text-align: right;\">\n",
       "      <th></th>\n",
       "      <th>title</th>\n",
       "      <th>Alignment</th>\n",
       "    </tr>\n",
       "  </thead>\n",
       "  <tbody>\n",
       "    <tr>\n",
       "      <th>83</th>\n",
       "      <td>'We won': DACA recipients overwhelmed by surprise Supreme Court victory over Trump</td>\n",
       "      <td>left</td>\n",
       "    </tr>\n",
       "  </tbody>\n",
       "</table>\n",
       "</div>"
      ],
      "text/plain": [
       "                                                                                 title  \\\n",
       "83  'We won': DACA recipients overwhelmed by surprise Supreme Court victory over Trump   \n",
       "\n",
       "   Alignment  \n",
       "83  left      "
      ]
     },
     "execution_count": 678,
     "metadata": {},
     "output_type": "execute_result"
    }
   ],
   "source": [
    "train_df[train_df.tag == 83][['title','Alignment']]"
   ]
  },
  {
   "cell_type": "code",
   "execution_count": 755,
   "metadata": {
    "ExecuteTime": {
     "end_time": "2020-07-16T01:52:48.944172Z",
     "start_time": "2020-07-16T01:52:48.933199Z"
    }
   },
   "outputs": [
    {
     "name": "stdout",
     "output_type": "stream",
     "text": [
      "94    Bolton book and Supreme Court ruling on ‘dreamers’ amount to twin defeats to Trump\n",
      "Name: title, dtype: object\n"
     ]
    },
    {
     "data": {
      "text/plain": [
       "[(22, 0.1827678382396698),\n",
       " (37, 0.14497077465057373),\n",
       " (17, 0.13087917864322662),\n",
       " (63, 0.12950745224952698),\n",
       " (103, 0.11542965471744537),\n",
       " (10, 0.1080268993973732),\n",
       " (100, 0.09833711385726929),\n",
       " (99, 0.08361626416444778),\n",
       " (79, 0.08072808384895325),\n",
       " (6, 0.07446075975894928)]"
      ]
     },
     "execution_count": 755,
     "metadata": {},
     "output_type": "execute_result"
    }
   ],
   "source": [
    "print(test_df[test_df.tag == 94]['title'])\n",
    "test_vector = test_df[test_df.tag == 94]['paragraph_vector']\n",
    "sims_negative = model_bow.docvecs.most_similar(negative=test_vector)\n",
    "sims_negative"
   ]
  },
  {
   "cell_type": "code",
   "execution_count": 701,
   "metadata": {
    "ExecuteTime": {
     "end_time": "2020-07-15T23:30:25.136983Z",
     "start_time": "2020-07-15T23:30:25.126502Z"
    }
   },
   "outputs": [
    {
     "data": {
      "text/html": [
       "<div>\n",
       "<style scoped>\n",
       "    .dataframe tbody tr th:only-of-type {\n",
       "        vertical-align: middle;\n",
       "    }\n",
       "\n",
       "    .dataframe tbody tr th {\n",
       "        vertical-align: top;\n",
       "    }\n",
       "\n",
       "    .dataframe thead th {\n",
       "        text-align: right;\n",
       "    }\n",
       "</style>\n",
       "<table border=\"1\" class=\"dataframe\">\n",
       "  <thead>\n",
       "    <tr style=\"text-align: right;\">\n",
       "      <th></th>\n",
       "      <th>title</th>\n",
       "      <th>Alignment</th>\n",
       "    </tr>\n",
       "  </thead>\n",
       "  <tbody>\n",
       "    <tr>\n",
       "      <th>22</th>\n",
       "      <td>Liz Harrington: Democrats seek mail-in voting so they can cheat their way to victory in November</td>\n",
       "      <td>right</td>\n",
       "    </tr>\n",
       "  </tbody>\n",
       "</table>\n",
       "</div>"
      ],
      "text/plain": [
       "                                                                                               title  \\\n",
       "22  Liz Harrington: Democrats seek mail-in voting so they can cheat their way to victory in November   \n",
       "\n",
       "   Alignment  \n",
       "22  right     "
      ]
     },
     "execution_count": 701,
     "metadata": {},
     "output_type": "execute_result"
    }
   ],
   "source": [
    "test_df[test_df.tag == 22][['title','Alignment']]"
   ]
  },
  {
   "cell_type": "code",
   "execution_count": 702,
   "metadata": {
    "ExecuteTime": {
     "end_time": "2020-07-15T23:30:43.328432Z",
     "start_time": "2020-07-15T23:30:43.318330Z"
    }
   },
   "outputs": [
    {
     "data": {
      "text/html": [
       "<div>\n",
       "<style scoped>\n",
       "    .dataframe tbody tr th:only-of-type {\n",
       "        vertical-align: middle;\n",
       "    }\n",
       "\n",
       "    .dataframe tbody tr th {\n",
       "        vertical-align: top;\n",
       "    }\n",
       "\n",
       "    .dataframe thead th {\n",
       "        text-align: right;\n",
       "    }\n",
       "</style>\n",
       "<table border=\"1\" class=\"dataframe\">\n",
       "  <thead>\n",
       "    <tr style=\"text-align: right;\">\n",
       "      <th></th>\n",
       "      <th>title</th>\n",
       "      <th>Alignment</th>\n",
       "    </tr>\n",
       "  </thead>\n",
       "  <tbody>\n",
       "    <tr>\n",
       "      <th>37</th>\n",
       "      <td>Andrew McCarthy: Defund the police? Here's what Dems, BLM ignoring about crime</td>\n",
       "      <td>right</td>\n",
       "    </tr>\n",
       "  </tbody>\n",
       "</table>\n",
       "</div>"
      ],
      "text/plain": [
       "                                                                             title  \\\n",
       "37  Andrew McCarthy: Defund the police? Here's what Dems, BLM ignoring about crime   \n",
       "\n",
       "   Alignment  \n",
       "37  right     "
      ]
     },
     "execution_count": 702,
     "metadata": {},
     "output_type": "execute_result"
    }
   ],
   "source": [
    "test_df[test_df.tag == 37][['title','Alignment']]"
   ]
  },
  {
   "cell_type": "code",
   "execution_count": 703,
   "metadata": {
    "ExecuteTime": {
     "end_time": "2020-07-15T23:30:50.656181Z",
     "start_time": "2020-07-15T23:30:50.645560Z"
    }
   },
   "outputs": [
    {
     "data": {
      "text/html": [
       "<div>\n",
       "<style scoped>\n",
       "    .dataframe tbody tr th:only-of-type {\n",
       "        vertical-align: middle;\n",
       "    }\n",
       "\n",
       "    .dataframe tbody tr th {\n",
       "        vertical-align: top;\n",
       "    }\n",
       "\n",
       "    .dataframe thead th {\n",
       "        text-align: right;\n",
       "    }\n",
       "</style>\n",
       "<table border=\"1\" class=\"dataframe\">\n",
       "  <thead>\n",
       "    <tr style=\"text-align: right;\">\n",
       "      <th></th>\n",
       "      <th>title</th>\n",
       "      <th>Alignment</th>\n",
       "    </tr>\n",
       "  </thead>\n",
       "  <tbody>\n",
       "    <tr>\n",
       "      <th>17</th>\n",
       "      <td>Trump says surge in voting by mail his ‘biggest risk’</td>\n",
       "      <td>center</td>\n",
       "    </tr>\n",
       "  </tbody>\n",
       "</table>\n",
       "</div>"
      ],
      "text/plain": [
       "                                                    title Alignment\n",
       "17  Trump says surge in voting by mail his ‘biggest risk’  center  "
      ]
     },
     "execution_count": 703,
     "metadata": {},
     "output_type": "execute_result"
    }
   ],
   "source": [
    "test_df[test_df.tag == 17][['title','Alignment']]"
   ]
  },
  {
   "cell_type": "markdown",
   "metadata": {},
   "source": [
    "## PV-DMM (Mean)"
   ]
  },
  {
   "cell_type": "code",
   "execution_count": null,
   "metadata": {},
   "outputs": [],
   "source": [
    "news_grid,predictions_y = run_grid_search(dm=1,dm_mean=1,model_path='/Users/tapas/Documents/Repos/news_analysis/model_dmm.bin',stop_words=stop_words_1)\n",
    "\n",
    "print(\"Best Cross Validation Score:\",news_grid.best_score_)\n",
    "print(\"Best Params\",news_grid.best_params_)\n",
    "print('F-Beta Score: ', news_grid.score(test_df[['content_filtered_2']], predictions_y))\n",
    "\n",
    "prediction_df = test_df\n",
    "prediction_df['predictions_dmm'] = predictions_y\n",
    "\n",
    "predictions_y2 = news_grid.predict(out_of_sample_df)\n",
    "out_of_sample_df['predictions_dmm'] = predictions_y2\n",
    "\n",
    "prediction_df[['title','Alignment','predictions_dmm']]\n",
    "\n",
    "'''\n",
    "Best Cross Validation Score: 0.35812064746847355\n",
    "Best Params {'doc2vec__dm': 1, 'doc2vec__dm_concat': 0, 'doc2vec__dm_mean': 1, 'doc2vec__epochs': 50, 'doc2vec__min_count': 2, \n",
    "'doc2vec__model_path': '/Users/tapas/Documents/Repos/news_analysis/model_dmm.bin', 'doc2vec__sample': 1e-05, 'doc2vec__vector_size': 100,\n",
    "'doc2vec__window_size': 15}\n",
    "'''"
   ]
  },
  {
   "cell_type": "code",
   "execution_count": 720,
   "metadata": {
    "ExecuteTime": {
     "end_time": "2020-07-16T00:45:16.281442Z",
     "start_time": "2020-07-16T00:45:16.252778Z"
    }
   },
   "outputs": [
    {
     "data": {
      "text/html": [
       "<div>\n",
       "<style scoped>\n",
       "    .dataframe tbody tr th:only-of-type {\n",
       "        vertical-align: middle;\n",
       "    }\n",
       "\n",
       "    .dataframe tbody tr th {\n",
       "        vertical-align: top;\n",
       "    }\n",
       "\n",
       "    .dataframe thead th {\n",
       "        text-align: right;\n",
       "    }\n",
       "</style>\n",
       "<table border=\"1\" class=\"dataframe\">\n",
       "  <thead>\n",
       "    <tr style=\"text-align: right;\">\n",
       "      <th></th>\n",
       "      <th>title</th>\n",
       "      <th>Alignment</th>\n",
       "      <th>predictions_dmm</th>\n",
       "    </tr>\n",
       "  </thead>\n",
       "  <tbody>\n",
       "    <tr>\n",
       "      <th>26</th>\n",
       "      <td>Defund police in schools? How the movement got momentum after George Floyd's death</td>\n",
       "      <td>center</td>\n",
       "      <td>center</td>\n",
       "    </tr>\n",
       "    <tr>\n",
       "      <th>2</th>\n",
       "      <td>With abortion ruling, Roberts reasserts his role and Supreme Court’s independence</td>\n",
       "      <td>left</td>\n",
       "      <td>right</td>\n",
       "    </tr>\n",
       "    <tr>\n",
       "      <th>24</th>\n",
       "      <td>Trump, at Fox News town hall, says mail-in voting is 'biggest risk' to fair November election, says Dems are 'destroying our country'</td>\n",
       "      <td>right</td>\n",
       "      <td>right</td>\n",
       "    </tr>\n",
       "    <tr>\n",
       "      <th>35</th>\n",
       "      <td>Clyburn says 'nobody is going to defund the police,' calls for 'reimagining' of law enforcement</td>\n",
       "      <td>center</td>\n",
       "      <td>right</td>\n",
       "    </tr>\n",
       "    <tr>\n",
       "      <th>90</th>\n",
       "      <td>Steve Levy: DACA decision – Supreme Court's blow to common sense and the rule of law</td>\n",
       "      <td>right</td>\n",
       "      <td>right</td>\n",
       "    </tr>\n",
       "    <tr>\n",
       "      <th>6</th>\n",
       "      <td>Supreme Court strikes down abortion clinic restrictions in Louisiana, a defeat for conservatives</td>\n",
       "      <td>left</td>\n",
       "      <td>center</td>\n",
       "    </tr>\n",
       "    <tr>\n",
       "      <th>22</th>\n",
       "      <td>Liz Harrington: Democrats seek mail-in voting so they can cheat their way to victory in November</td>\n",
       "      <td>right</td>\n",
       "      <td>right</td>\n",
       "    </tr>\n",
       "    <tr>\n",
       "      <th>62</th>\n",
       "      <td>National security adviser says Trump’s CIA briefer decided not to share Russia bounty intel</td>\n",
       "      <td>right</td>\n",
       "      <td>center</td>\n",
       "    </tr>\n",
       "    <tr>\n",
       "      <th>99</th>\n",
       "      <td>Joe Biden needs a China narrative that refutes today’s political angst</td>\n",
       "      <td>left</td>\n",
       "      <td>center</td>\n",
       "    </tr>\n",
       "    <tr>\n",
       "      <th>50</th>\n",
       "      <td>People furious over Detroit Zoo’s outdoor mask policy: 'See how many people pass out' in warmer weather</td>\n",
       "      <td>right</td>\n",
       "      <td>center</td>\n",
       "    </tr>\n",
       "    <tr>\n",
       "      <th>79</th>\n",
       "      <td>Rep. Greg Walden: Green New Deal would cripple economy – Republicans have better way to fight climate change</td>\n",
       "      <td>right</td>\n",
       "      <td>center</td>\n",
       "    </tr>\n",
       "    <tr>\n",
       "      <th>102</th>\n",
       "      <td>The Cybersecurity 202: FCC strike against Huawei reflects broader split between China and the West</td>\n",
       "      <td>center</td>\n",
       "      <td>center</td>\n",
       "    </tr>\n",
       "    <tr>\n",
       "      <th>48</th>\n",
       "      <td>Coronavirus can still pass between face mask wearers — even when they're 4 feet apart: study</td>\n",
       "      <td>center</td>\n",
       "      <td>center</td>\n",
       "    </tr>\n",
       "    <tr>\n",
       "      <th>37</th>\n",
       "      <td>Andrew McCarthy: Defund the police? Here's what Dems, BLM ignoring about crime</td>\n",
       "      <td>right</td>\n",
       "      <td>center</td>\n",
       "    </tr>\n",
       "    <tr>\n",
       "      <th>57</th>\n",
       "      <td>The Russian bounty story crystallizes questions about Trump’s presidency</td>\n",
       "      <td>left</td>\n",
       "      <td>center</td>\n",
       "    </tr>\n",
       "    <tr>\n",
       "      <th>70</th>\n",
       "      <td>Bolton blasts Trump for denying he was briefed on Russia offering bounties to Taliban to kill US troops</td>\n",
       "      <td>center</td>\n",
       "      <td>right</td>\n",
       "    </tr>\n",
       "    <tr>\n",
       "      <th>51</th>\n",
       "      <td>Trump administration asks Supreme Court to strike down Obamacare - The Washington Post</td>\n",
       "      <td>center</td>\n",
       "      <td>center</td>\n",
       "    </tr>\n",
       "    <tr>\n",
       "      <th>42</th>\n",
       "      <td>‘Don’t be a sheep’: Sheriffs rebel against new statewide mask requirements - The Washington Post</td>\n",
       "      <td>left</td>\n",
       "      <td>center</td>\n",
       "    </tr>\n",
       "    <tr>\n",
       "      <th>94</th>\n",
       "      <td>Bolton book and Supreme Court ruling on ‘dreamers’ amount to twin defeats to Trump</td>\n",
       "      <td>left</td>\n",
       "      <td>right</td>\n",
       "    </tr>\n",
       "    <tr>\n",
       "      <th>76</th>\n",
       "      <td>Fact check: Verifying President Donald Trump's alleged failures in office</td>\n",
       "      <td>left</td>\n",
       "      <td>center</td>\n",
       "    </tr>\n",
       "    <tr>\n",
       "      <th>13</th>\n",
       "      <td>Trump calls it ‘rigged,’ but voting by mail is routine among his top administration and campaign officials</td>\n",
       "      <td>left</td>\n",
       "      <td>right</td>\n",
       "    </tr>\n",
       "    <tr>\n",
       "      <th>36</th>\n",
       "      <td>Cory Mills: Want more crime and innocent people killed? Then defund the police</td>\n",
       "      <td>right</td>\n",
       "      <td>right</td>\n",
       "    </tr>\n",
       "    <tr>\n",
       "      <th>95</th>\n",
       "      <td>China is censoring its critics on Zoom. Will the tech company continue to comply? - The Washington Post</td>\n",
       "      <td>center</td>\n",
       "      <td>center</td>\n",
       "    </tr>\n",
       "    <tr>\n",
       "      <th>103</th>\n",
       "      <td>US, China ramp up South China Sea tension with new military drills</td>\n",
       "      <td>center</td>\n",
       "      <td>center</td>\n",
       "    </tr>\n",
       "    <tr>\n",
       "      <th>91</th>\n",
       "      <td>Cotton blasts Roberts over DACA, invites him to resign, run for office</td>\n",
       "      <td>right</td>\n",
       "      <td>right</td>\n",
       "    </tr>\n",
       "    <tr>\n",
       "      <th>52</th>\n",
       "      <td>Trump’s unhinged crusade to destroy Obamacare boomerangs back on GOP</td>\n",
       "      <td>left</td>\n",
       "      <td>center</td>\n",
       "    </tr>\n",
       "    <tr>\n",
       "      <th>63</th>\n",
       "      <td>Trump’s ugly new spin on Russia bounties actually incriminates him</td>\n",
       "      <td>left</td>\n",
       "      <td>center</td>\n",
       "    </tr>\n",
       "    <tr>\n",
       "      <th>100</th>\n",
       "      <td>The Finance 202: Bolton book dismantles Wall Street narrative of Trump as a China hawk</td>\n",
       "      <td>left</td>\n",
       "      <td>center</td>\n",
       "    </tr>\n",
       "    <tr>\n",
       "      <th>29</th>\n",
       "      <td>San Diego defies calls to 'defund the police,' but it 'won't be business as usual' in California's second largest city</td>\n",
       "      <td>center</td>\n",
       "      <td>center</td>\n",
       "    </tr>\n",
       "    <tr>\n",
       "      <th>17</th>\n",
       "      <td>Trump says surge in voting by mail his ‘biggest risk’</td>\n",
       "      <td>center</td>\n",
       "      <td>center</td>\n",
       "    </tr>\n",
       "    <tr>\n",
       "      <th>69</th>\n",
       "      <td>White House insists ‘no consensus’ on intel of Russian bounties for US troops, as pressure mounts</td>\n",
       "      <td>right</td>\n",
       "      <td>right</td>\n",
       "    </tr>\n",
       "    <tr>\n",
       "      <th>10</th>\n",
       "      <td>Christian conservatives rattled after Supreme Court rules against LGBT discrimination - The Washington Post</td>\n",
       "      <td>left</td>\n",
       "      <td>right</td>\n",
       "    </tr>\n",
       "    <tr>\n",
       "      <th>64</th>\n",
       "      <td>Kayleigh McEnany’s answers on Russia’s bounties and Trump don’t make sense</td>\n",
       "      <td>left</td>\n",
       "      <td>center</td>\n",
       "    </tr>\n",
       "    <tr>\n",
       "      <th>27</th>\n",
       "      <td>Fact check: Did Adolf Hitler defund the police in Nazi Germany?</td>\n",
       "      <td>left</td>\n",
       "      <td>right</td>\n",
       "    </tr>\n",
       "    <tr>\n",
       "      <th>65</th>\n",
       "      <td>Were Trump’s aides too afraid to tell him about the Russian bounties?</td>\n",
       "      <td>left</td>\n",
       "      <td>center</td>\n",
       "    </tr>\n",
       "  </tbody>\n",
       "</table>\n",
       "</div>"
      ],
      "text/plain": [
       "                                                                                                                                     title  \\\n",
       "26   Defund police in schools? How the movement got momentum after George Floyd's death                                                      \n",
       "2    With abortion ruling, Roberts reasserts his role and Supreme Court’s independence                                                       \n",
       "24   Trump, at Fox News town hall, says mail-in voting is 'biggest risk' to fair November election, says Dems are 'destroying our country'   \n",
       "35   Clyburn says 'nobody is going to defund the police,' calls for 'reimagining' of law enforcement                                         \n",
       "90   Steve Levy: DACA decision – Supreme Court's blow to common sense and the rule of law                                                    \n",
       "6    Supreme Court strikes down abortion clinic restrictions in Louisiana, a defeat for conservatives                                        \n",
       "22   Liz Harrington: Democrats seek mail-in voting so they can cheat their way to victory in November                                        \n",
       "62   National security adviser says Trump’s CIA briefer decided not to share Russia bounty intel                                             \n",
       "99   Joe Biden needs a China narrative that refutes today’s political angst                                                                  \n",
       "50   People furious over Detroit Zoo’s outdoor mask policy: 'See how many people pass out' in warmer weather                                 \n",
       "79   Rep. Greg Walden: Green New Deal would cripple economy – Republicans have better way to fight climate change                            \n",
       "102  The Cybersecurity 202: FCC strike against Huawei reflects broader split between China and the West                                      \n",
       "48   Coronavirus can still pass between face mask wearers — even when they're 4 feet apart: study                                            \n",
       "37   Andrew McCarthy: Defund the police? Here's what Dems, BLM ignoring about crime                                                          \n",
       "57   The Russian bounty story crystallizes questions about Trump’s presidency                                                                \n",
       "70   Bolton blasts Trump for denying he was briefed on Russia offering bounties to Taliban to kill US troops                                 \n",
       "51   Trump administration asks Supreme Court to strike down Obamacare - The Washington Post                                                  \n",
       "42   ‘Don’t be a sheep’: Sheriffs rebel against new statewide mask requirements - The Washington Post                                        \n",
       "94   Bolton book and Supreme Court ruling on ‘dreamers’ amount to twin defeats to Trump                                                      \n",
       "76   Fact check: Verifying President Donald Trump's alleged failures in office                                                               \n",
       "13   Trump calls it ‘rigged,’ but voting by mail is routine among his top administration and campaign officials                              \n",
       "36   Cory Mills: Want more crime and innocent people killed? Then defund the police                                                          \n",
       "95   China is censoring its critics on Zoom. Will the tech company continue to comply? - The Washington Post                                 \n",
       "103  US, China ramp up South China Sea tension with new military drills                                                                      \n",
       "91   Cotton blasts Roberts over DACA, invites him to resign, run for office                                                                  \n",
       "52   Trump’s unhinged crusade to destroy Obamacare boomerangs back on GOP                                                                    \n",
       "63   Trump’s ugly new spin on Russia bounties actually incriminates him                                                                      \n",
       "100  The Finance 202: Bolton book dismantles Wall Street narrative of Trump as a China hawk                                                  \n",
       "29   San Diego defies calls to 'defund the police,' but it 'won't be business as usual' in California's second largest city                  \n",
       "17   Trump says surge in voting by mail his ‘biggest risk’                                                                                   \n",
       "69   White House insists ‘no consensus’ on intel of Russian bounties for US troops, as pressure mounts                                       \n",
       "10   Christian conservatives rattled after Supreme Court rules against LGBT discrimination - The Washington Post                             \n",
       "64   Kayleigh McEnany’s answers on Russia’s bounties and Trump don’t make sense                                                              \n",
       "27   Fact check: Did Adolf Hitler defund the police in Nazi Germany?                                                                         \n",
       "65   Were Trump’s aides too afraid to tell him about the Russian bounties?                                                                   \n",
       "\n",
       "    Alignment predictions_dmm  \n",
       "26   center    center          \n",
       "2    left      right           \n",
       "24   right     right           \n",
       "35   center    right           \n",
       "90   right     right           \n",
       "6    left      center          \n",
       "22   right     right           \n",
       "62   right     center          \n",
       "99   left      center          \n",
       "50   right     center          \n",
       "79   right     center          \n",
       "102  center    center          \n",
       "48   center    center          \n",
       "37   right     center          \n",
       "57   left      center          \n",
       "70   center    right           \n",
       "51   center    center          \n",
       "42   left      center          \n",
       "94   left      right           \n",
       "76   left      center          \n",
       "13   left      right           \n",
       "36   right     right           \n",
       "95   center    center          \n",
       "103  center    center          \n",
       "91   right     right           \n",
       "52   left      center          \n",
       "63   left      center          \n",
       "100  left      center          \n",
       "29   center    center          \n",
       "17   center    center          \n",
       "69   right     right           \n",
       "10   left      right           \n",
       "64   left      center          \n",
       "27   left      right           \n",
       "65   left      center          "
      ]
     },
     "execution_count": 720,
     "metadata": {},
     "output_type": "execute_result"
    }
   ],
   "source": [
    "prediction_df[['title','Alignment','predictions_dmm']]"
   ]
  },
  {
   "cell_type": "markdown",
   "metadata": {
    "ExecuteTime": {
     "end_time": "2020-07-16T21:12:55.159724Z",
     "start_time": "2020-07-16T21:12:55.149013Z"
    }
   },
   "source": [
    "### Checking similarity vectors in PV-DMM Model"
   ]
  },
  {
   "cell_type": "code",
   "execution_count": 763,
   "metadata": {
    "ExecuteTime": {
     "end_time": "2020-07-16T01:55:46.852189Z",
     "start_time": "2020-07-16T01:55:33.936354Z"
    }
   },
   "outputs": [
    {
     "name": "stdout",
     "output_type": "stream",
     "text": [
      "90    Steve Levy: DACA decision – Supreme Court's blow to common sense and the rule of law\n",
      "Name: title, dtype: object\n"
     ]
    },
    {
     "data": {
      "text/plain": [
       "[(70, 0.2970864176750183),\n",
       " (51, 0.20669081807136536),\n",
       " (79, 0.17890359461307526),\n",
       " (100, 0.1635182797908783),\n",
       " (88, 0.10822607576847076),\n",
       " (65, 0.09300696849822998),\n",
       " (59, 0.08922220766544342),\n",
       " (2, 0.07822462916374207),\n",
       " (90, 0.07658231258392334),\n",
       " (52, 0.07638640701770782)]"
      ]
     },
     "execution_count": 763,
     "metadata": {},
     "output_type": "execute_result"
    }
   ],
   "source": [
    "model_dmm = g.Doc2Vec.load(\"/Users/tapas/Documents/Repos/news_analysis/model_dmm.bin\")\n",
    "\n",
    "def get_paragraph_vector(content):\n",
    "    vec = model_dmm.infer_vector(content)\n",
    "    return vec\n",
    "\n",
    "test_df['paragraph_vector'] = test_df.apply(lambda x: get_paragraph_vector(x['content_filtered_2']),axis=1)\n",
    "\n",
    "print(test_df[test_df.tag == 90]['title'])\n",
    "test_vector = test_df[test_df.tag == 90]['paragraph_vector']\n",
    "sims_positive = model_dmm.docvecs.most_similar(positive=test_vector)\n",
    "sims_positive"
   ]
  },
  {
   "cell_type": "markdown",
   "metadata": {},
   "source": [
    "- Positive Similarity"
   ]
  },
  {
   "cell_type": "code",
   "execution_count": 729,
   "metadata": {
    "ExecuteTime": {
     "end_time": "2020-07-16T00:50:20.154092Z",
     "start_time": "2020-07-16T00:50:20.143497Z"
    }
   },
   "outputs": [
    {
     "data": {
      "text/html": [
       "<div>\n",
       "<style scoped>\n",
       "    .dataframe tbody tr th:only-of-type {\n",
       "        vertical-align: middle;\n",
       "    }\n",
       "\n",
       "    .dataframe tbody tr th {\n",
       "        vertical-align: top;\n",
       "    }\n",
       "\n",
       "    .dataframe thead th {\n",
       "        text-align: right;\n",
       "    }\n",
       "</style>\n",
       "<table border=\"1\" class=\"dataframe\">\n",
       "  <thead>\n",
       "    <tr style=\"text-align: right;\">\n",
       "      <th></th>\n",
       "      <th>title</th>\n",
       "      <th>Alignment</th>\n",
       "    </tr>\n",
       "  </thead>\n",
       "  <tbody>\n",
       "    <tr>\n",
       "      <th>51</th>\n",
       "      <td>Trump administration asks Supreme Court to strike down Obamacare - The Washington Post</td>\n",
       "      <td>center</td>\n",
       "    </tr>\n",
       "  </tbody>\n",
       "</table>\n",
       "</div>"
      ],
      "text/plain": [
       "                                                                                     title  \\\n",
       "51  Trump administration asks Supreme Court to strike down Obamacare - The Washington Post   \n",
       "\n",
       "   Alignment  \n",
       "51  center    "
      ]
     },
     "execution_count": 729,
     "metadata": {},
     "output_type": "execute_result"
    }
   ],
   "source": [
    "test_df[test_df.tag == 51][['title','Alignment']]"
   ]
  },
  {
   "cell_type": "code",
   "execution_count": 730,
   "metadata": {
    "ExecuteTime": {
     "end_time": "2020-07-16T00:50:23.182393Z",
     "start_time": "2020-07-16T00:50:23.172321Z"
    }
   },
   "outputs": [
    {
     "data": {
      "text/html": [
       "<div>\n",
       "<style scoped>\n",
       "    .dataframe tbody tr th:only-of-type {\n",
       "        vertical-align: middle;\n",
       "    }\n",
       "\n",
       "    .dataframe tbody tr th {\n",
       "        vertical-align: top;\n",
       "    }\n",
       "\n",
       "    .dataframe thead th {\n",
       "        text-align: right;\n",
       "    }\n",
       "</style>\n",
       "<table border=\"1\" class=\"dataframe\">\n",
       "  <thead>\n",
       "    <tr style=\"text-align: right;\">\n",
       "      <th></th>\n",
       "      <th>title</th>\n",
       "      <th>Alignment</th>\n",
       "    </tr>\n",
       "  </thead>\n",
       "  <tbody>\n",
       "    <tr>\n",
       "      <th>70</th>\n",
       "      <td>Bolton blasts Trump for denying he was briefed on Russia offering bounties to Taliban to kill US troops</td>\n",
       "      <td>center</td>\n",
       "    </tr>\n",
       "  </tbody>\n",
       "</table>\n",
       "</div>"
      ],
      "text/plain": [
       "                                                                                                      title  \\\n",
       "70  Bolton blasts Trump for denying he was briefed on Russia offering bounties to Taliban to kill US troops   \n",
       "\n",
       "   Alignment  \n",
       "70  center    "
      ]
     },
     "execution_count": 730,
     "metadata": {},
     "output_type": "execute_result"
    }
   ],
   "source": [
    "test_df[test_df.tag == 70][['title','Alignment']]"
   ]
  },
  {
   "cell_type": "code",
   "execution_count": 731,
   "metadata": {
    "ExecuteTime": {
     "end_time": "2020-07-16T00:50:26.678878Z",
     "start_time": "2020-07-16T00:50:26.668641Z"
    }
   },
   "outputs": [
    {
     "data": {
      "text/html": [
       "<div>\n",
       "<style scoped>\n",
       "    .dataframe tbody tr th:only-of-type {\n",
       "        vertical-align: middle;\n",
       "    }\n",
       "\n",
       "    .dataframe tbody tr th {\n",
       "        vertical-align: top;\n",
       "    }\n",
       "\n",
       "    .dataframe thead th {\n",
       "        text-align: right;\n",
       "    }\n",
       "</style>\n",
       "<table border=\"1\" class=\"dataframe\">\n",
       "  <thead>\n",
       "    <tr style=\"text-align: right;\">\n",
       "      <th></th>\n",
       "      <th>title</th>\n",
       "      <th>Alignment</th>\n",
       "    </tr>\n",
       "  </thead>\n",
       "  <tbody>\n",
       "    <tr>\n",
       "      <th>79</th>\n",
       "      <td>Rep. Greg Walden: Green New Deal would cripple economy – Republicans have better way to fight climate change</td>\n",
       "      <td>right</td>\n",
       "    </tr>\n",
       "  </tbody>\n",
       "</table>\n",
       "</div>"
      ],
      "text/plain": [
       "                                                                                                           title  \\\n",
       "79  Rep. Greg Walden: Green New Deal would cripple economy – Republicans have better way to fight climate change   \n",
       "\n",
       "   Alignment  \n",
       "79  right     "
      ]
     },
     "execution_count": 731,
     "metadata": {},
     "output_type": "execute_result"
    }
   ],
   "source": [
    "test_df[test_df.tag == 79][['title','Alignment']]"
   ]
  },
  {
   "cell_type": "markdown",
   "metadata": {},
   "source": [
    "-  Negative Similarity"
   ]
  },
  {
   "cell_type": "code",
   "execution_count": 764,
   "metadata": {
    "ExecuteTime": {
     "end_time": "2020-07-16T01:56:04.793559Z",
     "start_time": "2020-07-16T01:56:04.782949Z"
    }
   },
   "outputs": [
    {
     "name": "stdout",
     "output_type": "stream",
     "text": [
      "90    Steve Levy: DACA decision – Supreme Court's blow to common sense and the rule of law\n",
      "Name: title, dtype: object\n"
     ]
    },
    {
     "data": {
      "text/plain": [
       "[(75, 0.37485212087631226),\n",
       " (30, 0.3317723870277405),\n",
       " (112, 0.33068037033081055),\n",
       " (58, 0.3229222297668457),\n",
       " (45, 0.32242706418037415),\n",
       " (46, 0.31581729650497437),\n",
       " (73, 0.2997971773147583),\n",
       " (53, 0.29486748576164246),\n",
       " (71, 0.29220065474510193),\n",
       " (23, 0.2845962345600128)]"
      ]
     },
     "execution_count": 764,
     "metadata": {},
     "output_type": "execute_result"
    }
   ],
   "source": [
    "print(test_df[test_df.tag == 90]['title'])\n",
    "test_vector = test_df[test_df.tag == 90]['paragraph_vector']\n",
    "sims_negative = model_dmm.docvecs.most_similar(negative=test_vector)\n",
    "sims_negative"
   ]
  },
  {
   "cell_type": "code",
   "execution_count": 735,
   "metadata": {
    "ExecuteTime": {
     "end_time": "2020-07-16T00:51:14.370360Z",
     "start_time": "2020-07-16T00:51:14.360297Z"
    }
   },
   "outputs": [
    {
     "data": {
      "text/html": [
       "<div>\n",
       "<style scoped>\n",
       "    .dataframe tbody tr th:only-of-type {\n",
       "        vertical-align: middle;\n",
       "    }\n",
       "\n",
       "    .dataframe tbody tr th {\n",
       "        vertical-align: top;\n",
       "    }\n",
       "\n",
       "    .dataframe thead th {\n",
       "        text-align: right;\n",
       "    }\n",
       "</style>\n",
       "<table border=\"1\" class=\"dataframe\">\n",
       "  <thead>\n",
       "    <tr style=\"text-align: right;\">\n",
       "      <th></th>\n",
       "      <th>title</th>\n",
       "      <th>Alignment</th>\n",
       "    </tr>\n",
       "  </thead>\n",
       "  <tbody>\n",
       "    <tr>\n",
       "      <th>75</th>\n",
       "      <td>As COVID cases top 3 million, it's past time to end the catastrophic Trump presidency</td>\n",
       "      <td>left</td>\n",
       "    </tr>\n",
       "  </tbody>\n",
       "</table>\n",
       "</div>"
      ],
      "text/plain": [
       "                                                                                    title  \\\n",
       "75  As COVID cases top 3 million, it's past time to end the catastrophic Trump presidency   \n",
       "\n",
       "   Alignment  \n",
       "75  left      "
      ]
     },
     "execution_count": 735,
     "metadata": {},
     "output_type": "execute_result"
    }
   ],
   "source": [
    "train_df[train_df.tag == 75][['title','Alignment']]"
   ]
  },
  {
   "cell_type": "code",
   "execution_count": 736,
   "metadata": {
    "ExecuteTime": {
     "end_time": "2020-07-16T00:51:20.332136Z",
     "start_time": "2020-07-16T00:51:20.322138Z"
    }
   },
   "outputs": [
    {
     "data": {
      "text/html": [
       "<div>\n",
       "<style scoped>\n",
       "    .dataframe tbody tr th:only-of-type {\n",
       "        vertical-align: middle;\n",
       "    }\n",
       "\n",
       "    .dataframe tbody tr th {\n",
       "        vertical-align: top;\n",
       "    }\n",
       "\n",
       "    .dataframe thead th {\n",
       "        text-align: right;\n",
       "    }\n",
       "</style>\n",
       "<table border=\"1\" class=\"dataframe\">\n",
       "  <thead>\n",
       "    <tr style=\"text-align: right;\">\n",
       "      <th></th>\n",
       "      <th>title</th>\n",
       "      <th>Alignment</th>\n",
       "    </tr>\n",
       "  </thead>\n",
       "  <tbody>\n",
       "    <tr>\n",
       "      <th>30</th>\n",
       "      <td>Power Up: Protesters ‘defund the police’ rallying cry is achieving some progress</td>\n",
       "      <td>left</td>\n",
       "    </tr>\n",
       "  </tbody>\n",
       "</table>\n",
       "</div>"
      ],
      "text/plain": [
       "                                                                               title  \\\n",
       "30  Power Up: Protesters ‘defund the police’ rallying cry is achieving some progress   \n",
       "\n",
       "   Alignment  \n",
       "30  left      "
      ]
     },
     "execution_count": 736,
     "metadata": {},
     "output_type": "execute_result"
    }
   ],
   "source": [
    "train_df[train_df.tag == 30][['title','Alignment']]"
   ]
  },
  {
   "cell_type": "code",
   "execution_count": 737,
   "metadata": {
    "ExecuteTime": {
     "end_time": "2020-07-16T00:51:28.152111Z",
     "start_time": "2020-07-16T00:51:28.141976Z"
    }
   },
   "outputs": [
    {
     "data": {
      "text/html": [
       "<div>\n",
       "<style scoped>\n",
       "    .dataframe tbody tr th:only-of-type {\n",
       "        vertical-align: middle;\n",
       "    }\n",
       "\n",
       "    .dataframe tbody tr th {\n",
       "        vertical-align: top;\n",
       "    }\n",
       "\n",
       "    .dataframe thead th {\n",
       "        text-align: right;\n",
       "    }\n",
       "</style>\n",
       "<table border=\"1\" class=\"dataframe\">\n",
       "  <thead>\n",
       "    <tr style=\"text-align: right;\">\n",
       "      <th></th>\n",
       "      <th>title</th>\n",
       "      <th>Alignment</th>\n",
       "    </tr>\n",
       "  </thead>\n",
       "  <tbody>\n",
       "    <tr>\n",
       "      <th>112</th>\n",
       "      <td>Imagine a world with a COVID-19 pandemic and without the Affordable Care Act. Trump does.</td>\n",
       "      <td>left</td>\n",
       "    </tr>\n",
       "  </tbody>\n",
       "</table>\n",
       "</div>"
      ],
      "text/plain": [
       "                                                                                         title  \\\n",
       "112  Imagine a world with a COVID-19 pandemic and without the Affordable Care Act. Trump does.   \n",
       "\n",
       "    Alignment  \n",
       "112  left      "
      ]
     },
     "execution_count": 737,
     "metadata": {},
     "output_type": "execute_result"
    }
   ],
   "source": [
    "train_df[train_df.tag == 112][['title','Alignment']]"
   ]
  },
  {
   "cell_type": "markdown",
   "metadata": {},
   "source": [
    "## PV-DMC (concatnation)"
   ]
  },
  {
   "cell_type": "code",
   "execution_count": 775,
   "metadata": {
    "ExecuteTime": {
     "end_time": "2020-07-16T16:28:21.379227Z",
     "start_time": "2020-07-16T14:29:45.614235Z"
    }
   },
   "outputs": [
    {
     "name": "stderr",
     "output_type": "stream",
     "text": [
      "100%|██████████| 79/79 [00:00<00:00, 90065.24it/s]\n",
      "100%|██████████| 79/79 [00:00<00:00, 58781.27it/s]\n"
     ]
    },
    {
     "name": "stdout",
     "output_type": "stream",
     "text": [
      "Best Cross Validation Score: 0.39551992032033684\n",
      "Best Params {'doc2vec__dm': 1, 'doc2vec__dm_concat': 1, 'doc2vec__dm_mean': 0, 'doc2vec__epochs': 50, 'doc2vec__min_count': 2, 'doc2vec__model_path': '/Users/tapas/Documents/Repos/news_analysis/model_dmc.bin', 'doc2vec__sample': 1e-05, 'doc2vec__vector_size': 100, 'doc2vec__window_size': 20}\n",
      "F-Beta Score:  1.0\n"
     ]
    },
    {
     "data": {
      "text/plain": [
       "\"\\nBest Cross Validation Score: 0.4099053030303031\\nBest Params {'doc2vec__dm': 1, 'doc2vec__dm_concat': 1, 'doc2vec__dm_mean': 0, 'doc2vec__epochs': 50, 'doc2vec__min_count': 2, 'doc2vec__model_path': '/Users/tapas/Documents/Repos/news_analysis/model_dmc.bin', 'doc2vec__sample': 1e-05, 'doc2vec__vector_size': 100, 'doc2vec__window_size': 15}\\nF-Beta Score:  1.0\\n\""
      ]
     },
     "execution_count": 775,
     "metadata": {},
     "output_type": "execute_result"
    }
   ],
   "source": [
    "news_grid,predictions_y = run_grid_search(dm=1,dm_concat=1,model_path='/Users/tapas/Documents/Repos/news_analysis/model_dmc.bin',stop_words=stop_words_1)\n",
    "\n",
    "print(\"Best Cross Validation Score:\",news_grid.best_score_)\n",
    "print(\"Best Params\",news_grid.best_params_)\n",
    "print('F-Beta Score: ', news_grid.score(test_df[['content_filtered_2']], predictions_y))\n",
    "\n",
    "prediction_df = test_df\n",
    "prediction_df['predictions_dmc'] = predictions_y\n",
    "\n",
    "predictions_y2 = news_grid.predict(out_of_sample_df)\n",
    "out_of_sample_df['predictions_dmc'] = predictions_y2\n",
    "\n",
    "prediction_df[['title','Alignment','predictions_dmc']]\n",
    "\n",
    "'''\n",
    "Best Cross Validation Score: 0.4099053030303031\n",
    "Best Params {'doc2vec__dm': 1, 'doc2vec__dm_concat': 1, 'doc2vec__dm_mean': 0, 'doc2vec__epochs': 50, 'doc2vec__min_count': 2, 'doc2vec__model_path': '/Users/tapas/Documents/Repos/news_analysis/model_dmc.bin', 'doc2vec__sample': 1e-05, 'doc2vec__vector_size': 100, 'doc2vec__window_size': 15}\n",
    "F-Beta Score:  1.0\n",
    "'''"
   ]
  },
  {
   "cell_type": "code",
   "execution_count": 777,
   "metadata": {
    "ExecuteTime": {
     "end_time": "2020-07-16T17:27:33.458570Z",
     "start_time": "2020-07-16T17:27:33.439397Z"
    }
   },
   "outputs": [
    {
     "data": {
      "text/html": [
       "<div>\n",
       "<style scoped>\n",
       "    .dataframe tbody tr th:only-of-type {\n",
       "        vertical-align: middle;\n",
       "    }\n",
       "\n",
       "    .dataframe tbody tr th {\n",
       "        vertical-align: top;\n",
       "    }\n",
       "\n",
       "    .dataframe thead th {\n",
       "        text-align: right;\n",
       "    }\n",
       "</style>\n",
       "<table border=\"1\" class=\"dataframe\">\n",
       "  <thead>\n",
       "    <tr style=\"text-align: right;\">\n",
       "      <th></th>\n",
       "      <th>title</th>\n",
       "      <th>Alignment</th>\n",
       "      <th>predictions_dmc</th>\n",
       "    </tr>\n",
       "  </thead>\n",
       "  <tbody>\n",
       "    <tr>\n",
       "      <th>26</th>\n",
       "      <td>Defund police in schools? How the movement got momentum after George Floyd's death</td>\n",
       "      <td>center</td>\n",
       "      <td>center</td>\n",
       "    </tr>\n",
       "    <tr>\n",
       "      <th>2</th>\n",
       "      <td>With abortion ruling, Roberts reasserts his role and Supreme Court’s independence</td>\n",
       "      <td>left</td>\n",
       "      <td>center</td>\n",
       "    </tr>\n",
       "    <tr>\n",
       "      <th>24</th>\n",
       "      <td>Trump, at Fox News town hall, says mail-in voting is 'biggest risk' to fair November election, says Dems are 'destroying our country'</td>\n",
       "      <td>right</td>\n",
       "      <td>center</td>\n",
       "    </tr>\n",
       "    <tr>\n",
       "      <th>35</th>\n",
       "      <td>Clyburn says 'nobody is going to defund the police,' calls for 'reimagining' of law enforcement</td>\n",
       "      <td>center</td>\n",
       "      <td>right</td>\n",
       "    </tr>\n",
       "    <tr>\n",
       "      <th>90</th>\n",
       "      <td>Steve Levy: DACA decision – Supreme Court's blow to common sense and the rule of law</td>\n",
       "      <td>right</td>\n",
       "      <td>center</td>\n",
       "    </tr>\n",
       "    <tr>\n",
       "      <th>6</th>\n",
       "      <td>Supreme Court strikes down abortion clinic restrictions in Louisiana, a defeat for conservatives</td>\n",
       "      <td>left</td>\n",
       "      <td>center</td>\n",
       "    </tr>\n",
       "    <tr>\n",
       "      <th>22</th>\n",
       "      <td>Liz Harrington: Democrats seek mail-in voting so they can cheat their way to victory in November</td>\n",
       "      <td>right</td>\n",
       "      <td>center</td>\n",
       "    </tr>\n",
       "    <tr>\n",
       "      <th>62</th>\n",
       "      <td>National security adviser says Trump’s CIA briefer decided not to share Russia bounty intel</td>\n",
       "      <td>right</td>\n",
       "      <td>center</td>\n",
       "    </tr>\n",
       "    <tr>\n",
       "      <th>99</th>\n",
       "      <td>Joe Biden needs a China narrative that refutes today’s political angst</td>\n",
       "      <td>left</td>\n",
       "      <td>center</td>\n",
       "    </tr>\n",
       "    <tr>\n",
       "      <th>50</th>\n",
       "      <td>People furious over Detroit Zoo’s outdoor mask policy: 'See how many people pass out' in warmer weather</td>\n",
       "      <td>right</td>\n",
       "      <td>center</td>\n",
       "    </tr>\n",
       "    <tr>\n",
       "      <th>79</th>\n",
       "      <td>Rep. Greg Walden: Green New Deal would cripple economy – Republicans have better way to fight climate change</td>\n",
       "      <td>right</td>\n",
       "      <td>center</td>\n",
       "    </tr>\n",
       "    <tr>\n",
       "      <th>102</th>\n",
       "      <td>The Cybersecurity 202: FCC strike against Huawei reflects broader split between China and the West</td>\n",
       "      <td>center</td>\n",
       "      <td>center</td>\n",
       "    </tr>\n",
       "    <tr>\n",
       "      <th>48</th>\n",
       "      <td>Coronavirus can still pass between face mask wearers — even when they're 4 feet apart: study</td>\n",
       "      <td>center</td>\n",
       "      <td>center</td>\n",
       "    </tr>\n",
       "    <tr>\n",
       "      <th>37</th>\n",
       "      <td>Andrew McCarthy: Defund the police? Here's what Dems, BLM ignoring about crime</td>\n",
       "      <td>right</td>\n",
       "      <td>center</td>\n",
       "    </tr>\n",
       "    <tr>\n",
       "      <th>57</th>\n",
       "      <td>The Russian bounty story crystallizes questions about Trump’s presidency</td>\n",
       "      <td>left</td>\n",
       "      <td>center</td>\n",
       "    </tr>\n",
       "    <tr>\n",
       "      <th>70</th>\n",
       "      <td>Bolton blasts Trump for denying he was briefed on Russia offering bounties to Taliban to kill US troops</td>\n",
       "      <td>center</td>\n",
       "      <td>center</td>\n",
       "    </tr>\n",
       "    <tr>\n",
       "      <th>51</th>\n",
       "      <td>Trump administration asks Supreme Court to strike down Obamacare - The Washington Post</td>\n",
       "      <td>center</td>\n",
       "      <td>center</td>\n",
       "    </tr>\n",
       "    <tr>\n",
       "      <th>42</th>\n",
       "      <td>‘Don’t be a sheep’: Sheriffs rebel against new statewide mask requirements - The Washington Post</td>\n",
       "      <td>left</td>\n",
       "      <td>center</td>\n",
       "    </tr>\n",
       "    <tr>\n",
       "      <th>94</th>\n",
       "      <td>Bolton book and Supreme Court ruling on ‘dreamers’ amount to twin defeats to Trump</td>\n",
       "      <td>left</td>\n",
       "      <td>left</td>\n",
       "    </tr>\n",
       "    <tr>\n",
       "      <th>76</th>\n",
       "      <td>Fact check: Verifying President Donald Trump's alleged failures in office</td>\n",
       "      <td>left</td>\n",
       "      <td>center</td>\n",
       "    </tr>\n",
       "    <tr>\n",
       "      <th>13</th>\n",
       "      <td>Trump calls it ‘rigged,’ but voting by mail is routine among his top administration and campaign officials</td>\n",
       "      <td>left</td>\n",
       "      <td>center</td>\n",
       "    </tr>\n",
       "    <tr>\n",
       "      <th>36</th>\n",
       "      <td>Cory Mills: Want more crime and innocent people killed? Then defund the police</td>\n",
       "      <td>right</td>\n",
       "      <td>center</td>\n",
       "    </tr>\n",
       "    <tr>\n",
       "      <th>95</th>\n",
       "      <td>China is censoring its critics on Zoom. Will the tech company continue to comply? - The Washington Post</td>\n",
       "      <td>center</td>\n",
       "      <td>center</td>\n",
       "    </tr>\n",
       "    <tr>\n",
       "      <th>103</th>\n",
       "      <td>US, China ramp up South China Sea tension with new military drills</td>\n",
       "      <td>center</td>\n",
       "      <td>center</td>\n",
       "    </tr>\n",
       "    <tr>\n",
       "      <th>91</th>\n",
       "      <td>Cotton blasts Roberts over DACA, invites him to resign, run for office</td>\n",
       "      <td>right</td>\n",
       "      <td>right</td>\n",
       "    </tr>\n",
       "    <tr>\n",
       "      <th>52</th>\n",
       "      <td>Trump’s unhinged crusade to destroy Obamacare boomerangs back on GOP</td>\n",
       "      <td>left</td>\n",
       "      <td>center</td>\n",
       "    </tr>\n",
       "    <tr>\n",
       "      <th>63</th>\n",
       "      <td>Trump’s ugly new spin on Russia bounties actually incriminates him</td>\n",
       "      <td>left</td>\n",
       "      <td>center</td>\n",
       "    </tr>\n",
       "    <tr>\n",
       "      <th>100</th>\n",
       "      <td>The Finance 202: Bolton book dismantles Wall Street narrative of Trump as a China hawk</td>\n",
       "      <td>left</td>\n",
       "      <td>center</td>\n",
       "    </tr>\n",
       "    <tr>\n",
       "      <th>29</th>\n",
       "      <td>San Diego defies calls to 'defund the police,' but it 'won't be business as usual' in California's second largest city</td>\n",
       "      <td>center</td>\n",
       "      <td>center</td>\n",
       "    </tr>\n",
       "    <tr>\n",
       "      <th>17</th>\n",
       "      <td>Trump says surge in voting by mail his ‘biggest risk’</td>\n",
       "      <td>center</td>\n",
       "      <td>center</td>\n",
       "    </tr>\n",
       "    <tr>\n",
       "      <th>69</th>\n",
       "      <td>White House insists ‘no consensus’ on intel of Russian bounties for US troops, as pressure mounts</td>\n",
       "      <td>right</td>\n",
       "      <td>center</td>\n",
       "    </tr>\n",
       "    <tr>\n",
       "      <th>10</th>\n",
       "      <td>Christian conservatives rattled after Supreme Court rules against LGBT discrimination - The Washington Post</td>\n",
       "      <td>left</td>\n",
       "      <td>center</td>\n",
       "    </tr>\n",
       "    <tr>\n",
       "      <th>64</th>\n",
       "      <td>Kayleigh McEnany’s answers on Russia’s bounties and Trump don’t make sense</td>\n",
       "      <td>left</td>\n",
       "      <td>center</td>\n",
       "    </tr>\n",
       "    <tr>\n",
       "      <th>27</th>\n",
       "      <td>Fact check: Did Adolf Hitler defund the police in Nazi Germany?</td>\n",
       "      <td>left</td>\n",
       "      <td>center</td>\n",
       "    </tr>\n",
       "    <tr>\n",
       "      <th>65</th>\n",
       "      <td>Were Trump’s aides too afraid to tell him about the Russian bounties?</td>\n",
       "      <td>left</td>\n",
       "      <td>center</td>\n",
       "    </tr>\n",
       "  </tbody>\n",
       "</table>\n",
       "</div>"
      ],
      "text/plain": [
       "                                                                                                                                     title  \\\n",
       "26   Defund police in schools? How the movement got momentum after George Floyd's death                                                      \n",
       "2    With abortion ruling, Roberts reasserts his role and Supreme Court’s independence                                                       \n",
       "24   Trump, at Fox News town hall, says mail-in voting is 'biggest risk' to fair November election, says Dems are 'destroying our country'   \n",
       "35   Clyburn says 'nobody is going to defund the police,' calls for 'reimagining' of law enforcement                                         \n",
       "90   Steve Levy: DACA decision – Supreme Court's blow to common sense and the rule of law                                                    \n",
       "6    Supreme Court strikes down abortion clinic restrictions in Louisiana, a defeat for conservatives                                        \n",
       "22   Liz Harrington: Democrats seek mail-in voting so they can cheat their way to victory in November                                        \n",
       "62   National security adviser says Trump’s CIA briefer decided not to share Russia bounty intel                                             \n",
       "99   Joe Biden needs a China narrative that refutes today’s political angst                                                                  \n",
       "50   People furious over Detroit Zoo’s outdoor mask policy: 'See how many people pass out' in warmer weather                                 \n",
       "79   Rep. Greg Walden: Green New Deal would cripple economy – Republicans have better way to fight climate change                            \n",
       "102  The Cybersecurity 202: FCC strike against Huawei reflects broader split between China and the West                                      \n",
       "48   Coronavirus can still pass between face mask wearers — even when they're 4 feet apart: study                                            \n",
       "37   Andrew McCarthy: Defund the police? Here's what Dems, BLM ignoring about crime                                                          \n",
       "57   The Russian bounty story crystallizes questions about Trump’s presidency                                                                \n",
       "70   Bolton blasts Trump for denying he was briefed on Russia offering bounties to Taliban to kill US troops                                 \n",
       "51   Trump administration asks Supreme Court to strike down Obamacare - The Washington Post                                                  \n",
       "42   ‘Don’t be a sheep’: Sheriffs rebel against new statewide mask requirements - The Washington Post                                        \n",
       "94   Bolton book and Supreme Court ruling on ‘dreamers’ amount to twin defeats to Trump                                                      \n",
       "76   Fact check: Verifying President Donald Trump's alleged failures in office                                                               \n",
       "13   Trump calls it ‘rigged,’ but voting by mail is routine among his top administration and campaign officials                              \n",
       "36   Cory Mills: Want more crime and innocent people killed? Then defund the police                                                          \n",
       "95   China is censoring its critics on Zoom. Will the tech company continue to comply? - The Washington Post                                 \n",
       "103  US, China ramp up South China Sea tension with new military drills                                                                      \n",
       "91   Cotton blasts Roberts over DACA, invites him to resign, run for office                                                                  \n",
       "52   Trump’s unhinged crusade to destroy Obamacare boomerangs back on GOP                                                                    \n",
       "63   Trump’s ugly new spin on Russia bounties actually incriminates him                                                                      \n",
       "100  The Finance 202: Bolton book dismantles Wall Street narrative of Trump as a China hawk                                                  \n",
       "29   San Diego defies calls to 'defund the police,' but it 'won't be business as usual' in California's second largest city                  \n",
       "17   Trump says surge in voting by mail his ‘biggest risk’                                                                                   \n",
       "69   White House insists ‘no consensus’ on intel of Russian bounties for US troops, as pressure mounts                                       \n",
       "10   Christian conservatives rattled after Supreme Court rules against LGBT discrimination - The Washington Post                             \n",
       "64   Kayleigh McEnany’s answers on Russia’s bounties and Trump don’t make sense                                                              \n",
       "27   Fact check: Did Adolf Hitler defund the police in Nazi Germany?                                                                         \n",
       "65   Were Trump’s aides too afraid to tell him about the Russian bounties?                                                                   \n",
       "\n",
       "    Alignment predictions_dmc  \n",
       "26   center    center          \n",
       "2    left      center          \n",
       "24   right     center          \n",
       "35   center    right           \n",
       "90   right     center          \n",
       "6    left      center          \n",
       "22   right     center          \n",
       "62   right     center          \n",
       "99   left      center          \n",
       "50   right     center          \n",
       "79   right     center          \n",
       "102  center    center          \n",
       "48   center    center          \n",
       "37   right     center          \n",
       "57   left      center          \n",
       "70   center    center          \n",
       "51   center    center          \n",
       "42   left      center          \n",
       "94   left      left            \n",
       "76   left      center          \n",
       "13   left      center          \n",
       "36   right     center          \n",
       "95   center    center          \n",
       "103  center    center          \n",
       "91   right     right           \n",
       "52   left      center          \n",
       "63   left      center          \n",
       "100  left      center          \n",
       "29   center    center          \n",
       "17   center    center          \n",
       "69   right     center          \n",
       "10   left      center          \n",
       "64   left      center          \n",
       "27   left      center          \n",
       "65   left      center          "
      ]
     },
     "execution_count": 777,
     "metadata": {},
     "output_type": "execute_result"
    }
   ],
   "source": [
    "prediction_df[['title','Alignment','predictions_dmc']]"
   ]
  },
  {
   "cell_type": "markdown",
   "metadata": {},
   "source": [
    "### Checking similarity vectors in PV-DMC Model (concatenation)"
   ]
  },
  {
   "cell_type": "code",
   "execution_count": 820,
   "metadata": {
    "ExecuteTime": {
     "end_time": "2020-07-16T19:01:49.732661Z",
     "start_time": "2020-07-16T19:00:48.388866Z"
    }
   },
   "outputs": [
    {
     "name": "stdout",
     "output_type": "stream",
     "text": [
      "94    Bolton book and Supreme Court ruling on ‘dreamers’ amount to twin defeats to Trump\n",
      "Name: title, dtype: object\n"
     ]
    },
    {
     "data": {
      "text/plain": [
       "[(101, 0.40012869238853455),\n",
       " (81, 0.3045628070831299),\n",
       " (85, 0.3034391701221466),\n",
       " (31, 0.2964189648628235),\n",
       " (93, 0.2962888181209564)]"
      ]
     },
     "execution_count": 820,
     "metadata": {},
     "output_type": "execute_result"
    }
   ],
   "source": [
    "model_dmc = g.Doc2Vec.load(\"/Users/tapas/Documents/Repos/news_analysis/model_dmc.bin\")\n",
    "\n",
    "def get_paragraph_vector(content):\n",
    "    vec = model_dmc.infer_vector(content)\n",
    "    return vec\n",
    "\n",
    "test_df['paragraph_vector'] = test_df.apply(lambda x: get_paragraph_vector(x['content_filtered_2']),axis=1)\n",
    "\n",
    "print(test_df[test_df.tag == 94]['title'])\n",
    "test_vector = test_df[test_df.tag == 94]['paragraph_vector']\n",
    "sims_positive = model_dmc.docvecs.most_similar(positive=test_vector,topn=5)\n",
    "sims_positive"
   ]
  },
  {
   "cell_type": "markdown",
   "metadata": {},
   "source": [
    "- Positive similarity"
   ]
  },
  {
   "cell_type": "code",
   "execution_count": 781,
   "metadata": {
    "ExecuteTime": {
     "end_time": "2020-07-16T17:34:46.170813Z",
     "start_time": "2020-07-16T17:34:46.153132Z"
    }
   },
   "outputs": [
    {
     "data": {
      "text/html": [
       "<div>\n",
       "<style scoped>\n",
       "    .dataframe tbody tr th:only-of-type {\n",
       "        vertical-align: middle;\n",
       "    }\n",
       "\n",
       "    .dataframe tbody tr th {\n",
       "        vertical-align: top;\n",
       "    }\n",
       "\n",
       "    .dataframe thead th {\n",
       "        text-align: right;\n",
       "    }\n",
       "</style>\n",
       "<table border=\"1\" class=\"dataframe\">\n",
       "  <thead>\n",
       "    <tr style=\"text-align: right;\">\n",
       "      <th></th>\n",
       "      <th>title</th>\n",
       "      <th>Alignment</th>\n",
       "    </tr>\n",
       "  </thead>\n",
       "  <tbody>\n",
       "    <tr>\n",
       "      <th>101</th>\n",
       "      <td>Russia. Ukraine. China. Bolton account highlights pattern of Trump welcoming foreign political help.</td>\n",
       "      <td>left</td>\n",
       "    </tr>\n",
       "  </tbody>\n",
       "</table>\n",
       "</div>"
      ],
      "text/plain": [
       "                                                                                                    title  \\\n",
       "101  Russia. Ukraine. China. Bolton account highlights pattern of Trump welcoming foreign political help.   \n",
       "\n",
       "    Alignment  \n",
       "101  left      "
      ]
     },
     "execution_count": 781,
     "metadata": {},
     "output_type": "execute_result"
    }
   ],
   "source": [
    "train_df[train_df.tag == 101][['title','Alignment']]"
   ]
  },
  {
   "cell_type": "code",
   "execution_count": 782,
   "metadata": {
    "ExecuteTime": {
     "end_time": "2020-07-16T17:35:02.432072Z",
     "start_time": "2020-07-16T17:35:02.421215Z"
    }
   },
   "outputs": [
    {
     "data": {
      "text/html": [
       "<div>\n",
       "<style scoped>\n",
       "    .dataframe tbody tr th:only-of-type {\n",
       "        vertical-align: middle;\n",
       "    }\n",
       "\n",
       "    .dataframe tbody tr th {\n",
       "        vertical-align: top;\n",
       "    }\n",
       "\n",
       "    .dataframe thead th {\n",
       "        text-align: right;\n",
       "    }\n",
       "</style>\n",
       "<table border=\"1\" class=\"dataframe\">\n",
       "  <thead>\n",
       "    <tr style=\"text-align: right;\">\n",
       "      <th></th>\n",
       "      <th>title</th>\n",
       "      <th>Alignment</th>\n",
       "    </tr>\n",
       "  </thead>\n",
       "  <tbody>\n",
       "    <tr>\n",
       "      <th>81</th>\n",
       "      <td>On DACA, the Supreme Court tells Trump: You have to follow the rules to change the rules.</td>\n",
       "      <td>left</td>\n",
       "    </tr>\n",
       "  </tbody>\n",
       "</table>\n",
       "</div>"
      ],
      "text/plain": [
       "                                                                                        title  \\\n",
       "81  On DACA, the Supreme Court tells Trump: You have to follow the rules to change the rules.   \n",
       "\n",
       "   Alignment  \n",
       "81  left      "
      ]
     },
     "execution_count": 782,
     "metadata": {},
     "output_type": "execute_result"
    }
   ],
   "source": [
    "train_df[train_df.tag == 81][['title','Alignment']]"
   ]
  },
  {
   "cell_type": "markdown",
   "metadata": {},
   "source": [
    "- Negative Similarity"
   ]
  },
  {
   "cell_type": "code",
   "execution_count": 821,
   "metadata": {
    "ExecuteTime": {
     "end_time": "2020-07-16T19:11:32.738059Z",
     "start_time": "2020-07-16T19:11:32.723334Z"
    }
   },
   "outputs": [
    {
     "name": "stdout",
     "output_type": "stream",
     "text": [
      "94    Bolton book and Supreme Court ruling on ‘dreamers’ amount to twin defeats to Trump\n",
      "Name: title, dtype: object\n"
     ]
    },
    {
     "data": {
      "text/plain": [
       "[(64, 0.2067500650882721),\n",
       " (94, 0.18115828931331635),\n",
       " (27, 0.15818731486797333),\n",
       " (63, 0.1371428668498993),\n",
       " (50, 0.1309593915939331)]"
      ]
     },
     "execution_count": 821,
     "metadata": {},
     "output_type": "execute_result"
    }
   ],
   "source": [
    "print(test_df[test_df.tag == 94]['title'])\n",
    "test_vector = test_df[test_df.tag == 94]['paragraph_vector']\n",
    "sims_negative = model_dmc.docvecs.most_similar(negative=test_vector,topn = 5)\n",
    "sims_negative"
   ]
  },
  {
   "cell_type": "code",
   "execution_count": 785,
   "metadata": {
    "ExecuteTime": {
     "end_time": "2020-07-16T17:36:15.083433Z",
     "start_time": "2020-07-16T17:36:15.072057Z"
    }
   },
   "outputs": [
    {
     "data": {
      "text/html": [
       "<div>\n",
       "<style scoped>\n",
       "    .dataframe tbody tr th:only-of-type {\n",
       "        vertical-align: middle;\n",
       "    }\n",
       "\n",
       "    .dataframe tbody tr th {\n",
       "        vertical-align: top;\n",
       "    }\n",
       "\n",
       "    .dataframe thead th {\n",
       "        text-align: right;\n",
       "    }\n",
       "</style>\n",
       "<table border=\"1\" class=\"dataframe\">\n",
       "  <thead>\n",
       "    <tr style=\"text-align: right;\">\n",
       "      <th></th>\n",
       "      <th>title</th>\n",
       "      <th>Alignment</th>\n",
       "    </tr>\n",
       "  </thead>\n",
       "  <tbody>\n",
       "    <tr>\n",
       "      <th>64</th>\n",
       "      <td>Kayleigh McEnany’s answers on Russia’s bounties and Trump don’t make sense</td>\n",
       "      <td>left</td>\n",
       "    </tr>\n",
       "  </tbody>\n",
       "</table>\n",
       "</div>"
      ],
      "text/plain": [
       "                                                                         title  \\\n",
       "64  Kayleigh McEnany’s answers on Russia’s bounties and Trump don’t make sense   \n",
       "\n",
       "   Alignment  \n",
       "64  left      "
      ]
     },
     "execution_count": 785,
     "metadata": {},
     "output_type": "execute_result"
    }
   ],
   "source": [
    "test_df[test_df.tag == 64][['title','Alignment']]"
   ]
  },
  {
   "cell_type": "code",
   "execution_count": 790,
   "metadata": {
    "ExecuteTime": {
     "end_time": "2020-07-16T17:39:04.451013Z",
     "start_time": "2020-07-16T17:39:04.441129Z"
    }
   },
   "outputs": [
    {
     "data": {
      "text/html": [
       "<div>\n",
       "<style scoped>\n",
       "    .dataframe tbody tr th:only-of-type {\n",
       "        vertical-align: middle;\n",
       "    }\n",
       "\n",
       "    .dataframe tbody tr th {\n",
       "        vertical-align: top;\n",
       "    }\n",
       "\n",
       "    .dataframe thead th {\n",
       "        text-align: right;\n",
       "    }\n",
       "</style>\n",
       "<table border=\"1\" class=\"dataframe\">\n",
       "  <thead>\n",
       "    <tr style=\"text-align: right;\">\n",
       "      <th></th>\n",
       "      <th>title</th>\n",
       "      <th>Alignment</th>\n",
       "    </tr>\n",
       "  </thead>\n",
       "  <tbody>\n",
       "    <tr>\n",
       "      <th>94</th>\n",
       "      <td>Bolton book and Supreme Court ruling on ‘dreamers’ amount to twin defeats to Trump</td>\n",
       "      <td>left</td>\n",
       "    </tr>\n",
       "  </tbody>\n",
       "</table>\n",
       "</div>"
      ],
      "text/plain": [
       "                                                                                 title  \\\n",
       "94  Bolton book and Supreme Court ruling on ‘dreamers’ amount to twin defeats to Trump   \n",
       "\n",
       "   Alignment  \n",
       "94  left      "
      ]
     },
     "execution_count": 790,
     "metadata": {},
     "output_type": "execute_result"
    }
   ],
   "source": [
    "test_df[test_df.tag == 94][['title','Alignment']]"
   ]
  },
  {
   "cell_type": "code",
   "execution_count": 792,
   "metadata": {
    "ExecuteTime": {
     "end_time": "2020-07-16T17:39:52.206210Z",
     "start_time": "2020-07-16T17:39:52.192965Z"
    }
   },
   "outputs": [
    {
     "name": "stdout",
     "output_type": "stream",
     "text": [
      "91    Cotton blasts Roberts over DACA, invites him to resign, run for office\n",
      "Name: title, dtype: object\n"
     ]
    },
    {
     "data": {
      "text/plain": [
       "[(92, 0.5574864149093628),\n",
       " (45, 0.41880011558532715),\n",
       " (89, 0.37993699312210083),\n",
       " (88, 0.37665361166000366),\n",
       " (93, 0.3760470449924469),\n",
       " (87, 0.37565821409225464),\n",
       " (85, 0.37419044971466064),\n",
       " (19, 0.36854809522628784),\n",
       " (108, 0.36389291286468506),\n",
       " (30, 0.36339402198791504)]"
      ]
     },
     "execution_count": 792,
     "metadata": {},
     "output_type": "execute_result"
    }
   ],
   "source": [
    "print(test_df[test_df.tag == 91]['title'])\n",
    "test_vector = test_df[test_df.tag == 91]['paragraph_vector']\n",
    "sims_positive = model_dmc.docvecs.most_similar(positive=test_vector)\n",
    "sims_positive"
   ]
  },
  {
   "cell_type": "code",
   "execution_count": 794,
   "metadata": {
    "ExecuteTime": {
     "end_time": "2020-07-16T17:40:18.358654Z",
     "start_time": "2020-07-16T17:40:18.347152Z"
    }
   },
   "outputs": [
    {
     "data": {
      "text/html": [
       "<div>\n",
       "<style scoped>\n",
       "    .dataframe tbody tr th:only-of-type {\n",
       "        vertical-align: middle;\n",
       "    }\n",
       "\n",
       "    .dataframe tbody tr th {\n",
       "        vertical-align: top;\n",
       "    }\n",
       "\n",
       "    .dataframe thead th {\n",
       "        text-align: right;\n",
       "    }\n",
       "</style>\n",
       "<table border=\"1\" class=\"dataframe\">\n",
       "  <thead>\n",
       "    <tr style=\"text-align: right;\">\n",
       "      <th></th>\n",
       "      <th>title</th>\n",
       "      <th>Alignment</th>\n",
       "    </tr>\n",
       "  </thead>\n",
       "  <tbody>\n",
       "    <tr>\n",
       "      <th>92</th>\n",
       "      <td>Trump calls for 'new justices' after Supreme Court ruling on DACA as conservatives take aim at Roberts</td>\n",
       "      <td>right</td>\n",
       "    </tr>\n",
       "  </tbody>\n",
       "</table>\n",
       "</div>"
      ],
      "text/plain": [
       "                                                                                                     title  \\\n",
       "92  Trump calls for 'new justices' after Supreme Court ruling on DACA as conservatives take aim at Roberts   \n",
       "\n",
       "   Alignment  \n",
       "92  right     "
      ]
     },
     "execution_count": 794,
     "metadata": {},
     "output_type": "execute_result"
    }
   ],
   "source": [
    "train_df[train_df.tag == 92][['title','Alignment']]"
   ]
  },
  {
   "cell_type": "code",
   "execution_count": 795,
   "metadata": {
    "ExecuteTime": {
     "end_time": "2020-07-16T17:40:37.983795Z",
     "start_time": "2020-07-16T17:40:37.970804Z"
    }
   },
   "outputs": [
    {
     "data": {
      "text/html": [
       "<div>\n",
       "<style scoped>\n",
       "    .dataframe tbody tr th:only-of-type {\n",
       "        vertical-align: middle;\n",
       "    }\n",
       "\n",
       "    .dataframe tbody tr th {\n",
       "        vertical-align: top;\n",
       "    }\n",
       "\n",
       "    .dataframe thead th {\n",
       "        text-align: right;\n",
       "    }\n",
       "</style>\n",
       "<table border=\"1\" class=\"dataframe\">\n",
       "  <thead>\n",
       "    <tr style=\"text-align: right;\">\n",
       "      <th></th>\n",
       "      <th>title</th>\n",
       "      <th>Alignment</th>\n",
       "    </tr>\n",
       "  </thead>\n",
       "  <tbody>\n",
       "    <tr>\n",
       "      <th>45</th>\n",
       "      <td>As support for mask-wearing grows, so do political risks for forgoing them</td>\n",
       "      <td>left</td>\n",
       "    </tr>\n",
       "  </tbody>\n",
       "</table>\n",
       "</div>"
      ],
      "text/plain": [
       "                                                                         title  \\\n",
       "45  As support for mask-wearing grows, so do political risks for forgoing them   \n",
       "\n",
       "   Alignment  \n",
       "45  left      "
      ]
     },
     "execution_count": 795,
     "metadata": {},
     "output_type": "execute_result"
    }
   ],
   "source": [
    "train_df[train_df.tag == 45][['title','Alignment']]"
   ]
  },
  {
   "cell_type": "code",
   "execution_count": 796,
   "metadata": {
    "ExecuteTime": {
     "end_time": "2020-07-16T17:41:12.750057Z",
     "start_time": "2020-07-16T17:41:12.738675Z"
    }
   },
   "outputs": [
    {
     "data": {
      "text/html": [
       "<div>\n",
       "<style scoped>\n",
       "    .dataframe tbody tr th:only-of-type {\n",
       "        vertical-align: middle;\n",
       "    }\n",
       "\n",
       "    .dataframe tbody tr th {\n",
       "        vertical-align: top;\n",
       "    }\n",
       "\n",
       "    .dataframe thead th {\n",
       "        text-align: right;\n",
       "    }\n",
       "</style>\n",
       "<table border=\"1\" class=\"dataframe\">\n",
       "  <thead>\n",
       "    <tr style=\"text-align: right;\">\n",
       "      <th></th>\n",
       "      <th>title</th>\n",
       "      <th>Alignment</th>\n",
       "    </tr>\n",
       "  </thead>\n",
       "  <tbody>\n",
       "    <tr>\n",
       "      <th>89</th>\n",
       "      <td>Biden calls Supreme Court DACA ruling a ‘victory,’ vows to make program ‘permanent’</td>\n",
       "      <td>right</td>\n",
       "    </tr>\n",
       "  </tbody>\n",
       "</table>\n",
       "</div>"
      ],
      "text/plain": [
       "                                                                                  title  \\\n",
       "89  Biden calls Supreme Court DACA ruling a ‘victory,’ vows to make program ‘permanent’   \n",
       "\n",
       "   Alignment  \n",
       "89  right     "
      ]
     },
     "execution_count": 796,
     "metadata": {},
     "output_type": "execute_result"
    }
   ],
   "source": [
    "train_df[train_df.tag == 89][['title','Alignment']]"
   ]
  },
  {
   "cell_type": "code",
   "execution_count": 797,
   "metadata": {
    "ExecuteTime": {
     "end_time": "2020-07-16T17:47:20.835513Z",
     "start_time": "2020-07-16T17:47:20.823197Z"
    }
   },
   "outputs": [
    {
     "name": "stdout",
     "output_type": "stream",
     "text": [
      "91    Cotton blasts Roberts over DACA, invites him to resign, run for office\n",
      "Name: title, dtype: object\n"
     ]
    },
    {
     "data": {
      "text/plain": [
       "[(42, 0.23184587061405182),\n",
       " (64, 0.21274758875370026),\n",
       " (48, 0.19854673743247986),\n",
       " (65, 0.08098895847797394),\n",
       " (17, 0.07695845514535904),\n",
       " (69, 0.07347670197486877),\n",
       " (13, 0.06149737164378166),\n",
       " (36, 0.06063408404588699),\n",
       " (24, 0.05848829448223114),\n",
       " (90, 0.05781293287873268)]"
      ]
     },
     "execution_count": 797,
     "metadata": {},
     "output_type": "execute_result"
    }
   ],
   "source": [
    "print(test_df[test_df.tag == 91]['title'])\n",
    "test_vector = test_df[test_df.tag == 91]['paragraph_vector']\n",
    "sims_negative = model_dmc.docvecs.most_similar(negative=test_vector)\n",
    "sims_negative"
   ]
  },
  {
   "cell_type": "code",
   "execution_count": 799,
   "metadata": {
    "ExecuteTime": {
     "end_time": "2020-07-16T17:47:51.467829Z",
     "start_time": "2020-07-16T17:47:51.457657Z"
    }
   },
   "outputs": [
    {
     "data": {
      "text/html": [
       "<div>\n",
       "<style scoped>\n",
       "    .dataframe tbody tr th:only-of-type {\n",
       "        vertical-align: middle;\n",
       "    }\n",
       "\n",
       "    .dataframe tbody tr th {\n",
       "        vertical-align: top;\n",
       "    }\n",
       "\n",
       "    .dataframe thead th {\n",
       "        text-align: right;\n",
       "    }\n",
       "</style>\n",
       "<table border=\"1\" class=\"dataframe\">\n",
       "  <thead>\n",
       "    <tr style=\"text-align: right;\">\n",
       "      <th></th>\n",
       "      <th>title</th>\n",
       "      <th>Alignment</th>\n",
       "    </tr>\n",
       "  </thead>\n",
       "  <tbody>\n",
       "    <tr>\n",
       "      <th>42</th>\n",
       "      <td>‘Don’t be a sheep’: Sheriffs rebel against new statewide mask requirements - The Washington Post</td>\n",
       "      <td>left</td>\n",
       "    </tr>\n",
       "  </tbody>\n",
       "</table>\n",
       "</div>"
      ],
      "text/plain": [
       "                                                                                               title  \\\n",
       "42  ‘Don’t be a sheep’: Sheriffs rebel against new statewide mask requirements - The Washington Post   \n",
       "\n",
       "   Alignment  \n",
       "42  left      "
      ]
     },
     "execution_count": 799,
     "metadata": {},
     "output_type": "execute_result"
    }
   ],
   "source": [
    "test_df[test_df.tag == 42][['title','Alignment']]"
   ]
  },
  {
   "cell_type": "code",
   "execution_count": 800,
   "metadata": {
    "ExecuteTime": {
     "end_time": "2020-07-16T17:48:08.069465Z",
     "start_time": "2020-07-16T17:48:08.061466Z"
    }
   },
   "outputs": [
    {
     "data": {
      "text/html": [
       "<div>\n",
       "<style scoped>\n",
       "    .dataframe tbody tr th:only-of-type {\n",
       "        vertical-align: middle;\n",
       "    }\n",
       "\n",
       "    .dataframe tbody tr th {\n",
       "        vertical-align: top;\n",
       "    }\n",
       "\n",
       "    .dataframe thead th {\n",
       "        text-align: right;\n",
       "    }\n",
       "</style>\n",
       "<table border=\"1\" class=\"dataframe\">\n",
       "  <thead>\n",
       "    <tr style=\"text-align: right;\">\n",
       "      <th></th>\n",
       "      <th>title</th>\n",
       "      <th>Alignment</th>\n",
       "    </tr>\n",
       "  </thead>\n",
       "  <tbody>\n",
       "    <tr>\n",
       "      <th>64</th>\n",
       "      <td>Kayleigh McEnany’s answers on Russia’s bounties and Trump don’t make sense</td>\n",
       "      <td>left</td>\n",
       "    </tr>\n",
       "  </tbody>\n",
       "</table>\n",
       "</div>"
      ],
      "text/plain": [
       "                                                                         title  \\\n",
       "64  Kayleigh McEnany’s answers on Russia’s bounties and Trump don’t make sense   \n",
       "\n",
       "   Alignment  \n",
       "64  left      "
      ]
     },
     "execution_count": 800,
     "metadata": {},
     "output_type": "execute_result"
    }
   ],
   "source": [
    "test_df[test_df.tag == 64][['title','Alignment']]"
   ]
  },
  {
   "cell_type": "markdown",
   "metadata": {},
   "source": [
    "## Majority vote prediction from DBOW,PV-DMM and PV-DMC predictions"
   ]
  },
  {
   "cell_type": "code",
   "execution_count": 808,
   "metadata": {
    "ExecuteTime": {
     "end_time": "2020-07-16T17:55:03.902697Z",
     "start_time": "2020-07-16T17:55:03.715429Z"
    }
   },
   "outputs": [],
   "source": [
    "prediction_df[['title','Alignment','predictions_bow','predictions_dmm','predictions_dmc']].to_excel('prediction_comparison.xlsx')"
   ]
  },
  {
   "cell_type": "code",
   "execution_count": 812,
   "metadata": {
    "ExecuteTime": {
     "end_time": "2020-07-16T17:55:50.405740Z",
     "start_time": "2020-07-16T17:55:50.395010Z"
    }
   },
   "outputs": [],
   "source": [
    "#print('Accuracy: ', metrics.accuracy_score(y_true=test_df[['bias']], y_pred=predictions_y))\n",
    "mostCommonVote=[]\n",
    "for row in prediction_df[['predictions_bow','predictions_dmm','predictions_dmc']].values:\n",
    "    votes, values = np.unique(row, return_counts=True)\n",
    "    if np.all(values<=1):\n",
    "            mostCommonVote.append( row[0] )\n",
    "    else:\n",
    "        mostCommonVote.append( votes[np.argmax(values)] )\n",
    "\n",
    "prediction_df['majority_prediction'] = mostCommonVote"
   ]
  },
  {
   "cell_type": "code",
   "execution_count": 817,
   "metadata": {
    "ExecuteTime": {
     "end_time": "2020-07-16T17:56:49.603816Z",
     "start_time": "2020-07-16T17:56:49.595172Z"
    }
   },
   "outputs": [
    {
     "name": "stdout",
     "output_type": "stream",
     "text": [
      "Accuracy:  0.34285714285714286\n"
     ]
    }
   ],
   "source": [
    "from sklearn.metrics import accuracy_score\n",
    "\n",
    "print('Accuracy: ', accuracy_score(y_true=prediction_df[['Alignment']], y_pred=prediction_df[['majority_prediction']]))\n",
    "\n"
   ]
  },
  {
   "cell_type": "markdown",
   "metadata": {
    "ExecuteTime": {
     "end_time": "2020-07-16T21:21:15.559666Z",
     "start_time": "2020-07-16T21:21:15.556610Z"
    }
   },
   "source": [
    "### Out-of-sample/ Never before seen accuracy"
   ]
  },
  {
   "cell_type": "code",
   "execution_count": 818,
   "metadata": {
    "ExecuteTime": {
     "end_time": "2020-07-16T17:57:54.240901Z",
     "start_time": "2020-07-16T17:56:57.169047Z"
    }
   },
   "outputs": [],
   "source": [
    "predictions_y = news_grid.predict(out_of_sample_df)"
   ]
  },
  {
   "cell_type": "code",
   "execution_count": 850,
   "metadata": {
    "ExecuteTime": {
     "end_time": "2020-07-16T21:21:50.742739Z",
     "start_time": "2020-07-16T21:21:50.717936Z"
    }
   },
   "outputs": [],
   "source": [
    "out_of_sample_df['predictions'] = predictions_y"
   ]
  },
  {
   "cell_type": "code",
   "execution_count": 458,
   "metadata": {
    "ExecuteTime": {
     "end_time": "2020-07-14T22:02:17.770200Z",
     "start_time": "2020-07-14T22:02:17.751510Z"
    }
   },
   "outputs": [
    {
     "name": "stdout",
     "output_type": "stream",
     "text": [
      "Accuracy:  0.5454545454545454\n"
     ]
    }
   ],
   "source": [
    "print('Accuracy: ', accuracy_score(y_true=out_of_sample_df[['Alignment']], y_pred=predictions_y))"
   ]
  },
  {
   "cell_type": "code",
   "execution_count": 851,
   "metadata": {
    "ExecuteTime": {
     "end_time": "2020-07-16T21:21:53.706081Z",
     "start_time": "2020-07-16T21:21:53.700221Z"
    }
   },
   "outputs": [],
   "source": [
    "out_of_sample_df['predictions'] = predictions_y"
   ]
  },
  {
   "cell_type": "markdown",
   "metadata": {},
   "source": [
    "## t-SNE representation of learned vectors"
   ]
  },
  {
   "cell_type": "code",
   "execution_count": 825,
   "metadata": {
    "ExecuteTime": {
     "end_time": "2020-07-16T20:09:19.082749Z",
     "start_time": "2020-07-16T20:09:18.764009Z"
    }
   },
   "outputs": [],
   "source": [
    "from MulticoreTSNE import MulticoreTSNE as TSNE\n",
    "\n",
    "tsne_model = TSNE(n_jobs=4,\n",
    "                  early_exaggeration=4,\n",
    "                  n_components=2,\n",
    "                  verbose=1,\n",
    "                  random_state=2018,\n",
    "                  n_iter=300)\n",
    "tsne_d2v = tsne_model.fit_transform(model_dmc.docvecs.vectors_docs)\n",
    "\n",
    "# Putting the tsne information into sq\n",
    "tsne_d2v_df = pd.DataFrame(data=tsne_d2v, columns=[\"x\", \"y\"])\n",
    "# tsne_tfidf_df.columns = [\"x\", \"y\"]\n",
    "#print(len(tsne_d2v_df))\n",
    "\n",
    "tsne_d2v_df[\"source_id\"] = df[\"source_id\"].values\n",
    "tsne_d2v_df[\"tag\"] = df[\"tag\"].values\n",
    "tsne_d2v_df[\"title\"] = df[\"title\"].values\n",
    "tsne_d2v_df[\"Alignment\"] = df[\"Alignment\"].values\n",
    "\n",
    "\n",
    "tsne_d2v_df.to_excel(\"tsne_viz.xlsx\")"
   ]
  },
  {
   "cell_type": "code",
   "execution_count": 556,
   "metadata": {
    "ExecuteTime": {
     "end_time": "2020-07-15T04:58:51.597253Z",
     "start_time": "2020-07-15T04:58:51.585076Z"
    }
   },
   "outputs": [
    {
     "data": {
      "text/html": [
       "<div>\n",
       "<style scoped>\n",
       "    .dataframe tbody tr th:only-of-type {\n",
       "        vertical-align: middle;\n",
       "    }\n",
       "\n",
       "    .dataframe tbody tr th {\n",
       "        vertical-align: top;\n",
       "    }\n",
       "\n",
       "    .dataframe thead th {\n",
       "        text-align: right;\n",
       "    }\n",
       "</style>\n",
       "<table border=\"1\" class=\"dataframe\">\n",
       "  <thead>\n",
       "    <tr style=\"text-align: right;\">\n",
       "      <th></th>\n",
       "      <th>title</th>\n",
       "      <th>Alignment</th>\n",
       "      <th>predictions_bow</th>\n",
       "      <th>tag</th>\n",
       "    </tr>\n",
       "  </thead>\n",
       "  <tbody>\n",
       "    <tr>\n",
       "      <th>35</th>\n",
       "      <td>Clyburn says 'nobody is going to defund the police,' calls for 'reimagining' of law enforcement</td>\n",
       "      <td>center</td>\n",
       "      <td>center</td>\n",
       "      <td>35</td>\n",
       "    </tr>\n",
       "    <tr>\n",
       "      <th>94</th>\n",
       "      <td>Pompeo: China waging disinformation campaign to drive wedge between US and Europe</td>\n",
       "      <td>center</td>\n",
       "      <td>center</td>\n",
       "      <td>94</td>\n",
       "    </tr>\n",
       "    <tr>\n",
       "      <th>70</th>\n",
       "      <td>Bolton blasts Trump for denying he was briefed on Russia offering bounties to Taliban to kill US troops</td>\n",
       "      <td>center</td>\n",
       "      <td>center</td>\n",
       "      <td>70</td>\n",
       "    </tr>\n",
       "    <tr>\n",
       "      <th>27</th>\n",
       "      <td>Fact check: Did Adolf Hitler defund the police in Nazi Germany?</td>\n",
       "      <td>left</td>\n",
       "      <td>center</td>\n",
       "      <td>27</td>\n",
       "    </tr>\n",
       "    <tr>\n",
       "      <th>22</th>\n",
       "      <td>Liz Harrington: Democrats seek mail-in voting so they can cheat their way to victory in November</td>\n",
       "      <td>right</td>\n",
       "      <td>center</td>\n",
       "      <td>22</td>\n",
       "    </tr>\n",
       "    <tr>\n",
       "      <th>62</th>\n",
       "      <td>National security adviser says Trump’s CIA briefer decided not to share Russia bounty intel</td>\n",
       "      <td>right</td>\n",
       "      <td>center</td>\n",
       "      <td>62</td>\n",
       "    </tr>\n",
       "    <tr>\n",
       "      <th>17</th>\n",
       "      <td>Trump says surge in voting by mail his ‘biggest risk’</td>\n",
       "      <td>center</td>\n",
       "      <td>right</td>\n",
       "      <td>17</td>\n",
       "    </tr>\n",
       "    <tr>\n",
       "      <th>101</th>\n",
       "      <td>Judge blasts Bolton for abandoning classified information review but doubts he can block book publication...</td>\n",
       "      <td>center</td>\n",
       "      <td>center</td>\n",
       "      <td>101</td>\n",
       "    </tr>\n",
       "    <tr>\n",
       "      <th>53</th>\n",
       "      <td>Trump administration’s move to end Obamacare amid pandemic reignites political fight</td>\n",
       "      <td>left</td>\n",
       "      <td>right</td>\n",
       "      <td>53</td>\n",
       "    </tr>\n",
       "    <tr>\n",
       "      <th>18</th>\n",
       "      <td>Fact-checking the GOP’s ‘satirical’ vote-by-mail video</td>\n",
       "      <td>left</td>\n",
       "      <td>center</td>\n",
       "      <td>18</td>\n",
       "    </tr>\n",
       "    <tr>\n",
       "      <th>45</th>\n",
       "      <td>As support for mask-wearing grows, so do political risks for forgoing them</td>\n",
       "      <td>left</td>\n",
       "      <td>center</td>\n",
       "      <td>45</td>\n",
       "    </tr>\n",
       "    <tr>\n",
       "      <th>52</th>\n",
       "      <td>Trump’s unhinged crusade to destroy Obamacare boomerangs back on GOP</td>\n",
       "      <td>left</td>\n",
       "      <td>center</td>\n",
       "      <td>52</td>\n",
       "    </tr>\n",
       "    <tr>\n",
       "      <th>33</th>\n",
       "      <td>Power Up: Rep. Clyburn to today’s activists: Don’t let ’defund the police’ hijack new momentum for reform</td>\n",
       "      <td>center</td>\n",
       "      <td>center</td>\n",
       "      <td>33</td>\n",
       "    </tr>\n",
       "    <tr>\n",
       "      <th>71</th>\n",
       "      <td>Trump has officially withdrawn the US from the World Health Organization as pandemic spikes</td>\n",
       "      <td>center</td>\n",
       "      <td>center</td>\n",
       "      <td>71</td>\n",
       "    </tr>\n",
       "    <tr>\n",
       "      <th>44</th>\n",
       "      <td>Republicans are practically begging Trump to tell people to wear a mask. He still won’t listen.</td>\n",
       "      <td>left</td>\n",
       "      <td>center</td>\n",
       "      <td>44</td>\n",
       "    </tr>\n",
       "    <tr>\n",
       "      <th>84</th>\n",
       "      <td>Joe Biden needs a China narrative that refutes today’s political angst</td>\n",
       "      <td>left</td>\n",
       "      <td>center</td>\n",
       "      <td>84</td>\n",
       "    </tr>\n",
       "    <tr>\n",
       "      <th>11</th>\n",
       "      <td>Supreme Court denies Texas Democrats' request for mail-in ballots</td>\n",
       "      <td>center</td>\n",
       "      <td>center</td>\n",
       "      <td>11</td>\n",
       "    </tr>\n",
       "    <tr>\n",
       "      <th>13</th>\n",
       "      <td>Trump calls it ‘rigged,’ but voting by mail is routine among his top administration and campaign officials</td>\n",
       "      <td>left</td>\n",
       "      <td>center</td>\n",
       "      <td>13</td>\n",
       "    </tr>\n",
       "    <tr>\n",
       "      <th>30</th>\n",
       "      <td>Power Up: Protesters ‘defund the police’ rallying cry is achieving some progress</td>\n",
       "      <td>left</td>\n",
       "      <td>center</td>\n",
       "      <td>30</td>\n",
       "    </tr>\n",
       "    <tr>\n",
       "      <th>82</th>\n",
       "      <td>Dow futures tumble then recover after Navarro, Trump clarify China trade deal not 'over'</td>\n",
       "      <td>center</td>\n",
       "      <td>right</td>\n",
       "      <td>82</td>\n",
       "    </tr>\n",
       "    <tr>\n",
       "      <th>15</th>\n",
       "      <td>The Cybersecurity 202: First DHS chief Tom Ridge knocks Trump’s attacks on voting by mail</td>\n",
       "      <td>left</td>\n",
       "      <td>center</td>\n",
       "      <td>15</td>\n",
       "    </tr>\n",
       "    <tr>\n",
       "      <th>8</th>\n",
       "      <td>White House rips Supreme Court’s ‘unfortunate ruling’ on Louisiana abortion clinic restrictions</td>\n",
       "      <td>right</td>\n",
       "      <td>center</td>\n",
       "      <td>8</td>\n",
       "    </tr>\n",
       "    <tr>\n",
       "      <th>40</th>\n",
       "      <td>Trump vows executive order to address law enforcement use of force, but slams 'Defund The Police' movement</td>\n",
       "      <td>right</td>\n",
       "      <td>center</td>\n",
       "      <td>40</td>\n",
       "    </tr>\n",
       "    <tr>\n",
       "      <th>3</th>\n",
       "      <td>I run a Louisiana abortion clinic. Despite Supreme Court win, I'm nervous for our future.</td>\n",
       "      <td>center</td>\n",
       "      <td>center</td>\n",
       "      <td>3</td>\n",
       "    </tr>\n",
       "    <tr>\n",
       "      <th>37</th>\n",
       "      <td>Andrew McCarthy: Defund the police? Here's what Dems, BLM ignoring about crime</td>\n",
       "      <td>right</td>\n",
       "      <td>center</td>\n",
       "      <td>37</td>\n",
       "    </tr>\n",
       "    <tr>\n",
       "      <th>63</th>\n",
       "      <td>Trump’s ugly new spin on Russia bounties actually incriminates him</td>\n",
       "      <td>left</td>\n",
       "      <td>right</td>\n",
       "      <td>63</td>\n",
       "    </tr>\n",
       "    <tr>\n",
       "      <th>80</th>\n",
       "      <td>China is censoring its critics on Zoom. Will the tech company continue to comply? - The Washington Post</td>\n",
       "      <td>center</td>\n",
       "      <td>center</td>\n",
       "      <td>80</td>\n",
       "    </tr>\n",
       "    <tr>\n",
       "      <th>28</th>\n",
       "      <td>Defund the police? Here’s what that really means. - The Washington Post</td>\n",
       "      <td>center</td>\n",
       "      <td>center</td>\n",
       "      <td>28</td>\n",
       "    </tr>\n",
       "    <tr>\n",
       "      <th>36</th>\n",
       "      <td>Cory Mills: Want more crime and innocent people killed? Then defund the police</td>\n",
       "      <td>right</td>\n",
       "      <td>center</td>\n",
       "      <td>36</td>\n",
       "    </tr>\n",
       "    <tr>\n",
       "      <th>51</th>\n",
       "      <td>Trump administration asks Supreme Court to strike down Obamacare - The Washington Post</td>\n",
       "      <td>center</td>\n",
       "      <td>right</td>\n",
       "      <td>51</td>\n",
       "    </tr>\n",
       "    <tr>\n",
       "      <th>41</th>\n",
       "      <td>Fact check: Wearing a face mask will not cause hypoxia, hypoxemia or hypercapnia</td>\n",
       "      <td>center</td>\n",
       "      <td>center</td>\n",
       "      <td>41</td>\n",
       "    </tr>\n",
       "    <tr>\n",
       "      <th>0</th>\n",
       "      <td>After yearlong fight, Missouri's lone abortion clinic gets its license renewed</td>\n",
       "      <td>center</td>\n",
       "      <td>center</td>\n",
       "      <td>0</td>\n",
       "    </tr>\n",
       "    <tr>\n",
       "      <th>49</th>\n",
       "      <td>Washington state sheriff tells residents to not be 'sheep' over statewide coronavirus mask mandate</td>\n",
       "      <td>center</td>\n",
       "      <td>center</td>\n",
       "      <td>49</td>\n",
       "    </tr>\n",
       "    <tr>\n",
       "      <th>19</th>\n",
       "      <td>In win for Texas GOP officials, federal appeals panel blocks lower court decision to allow any Texan to vote by mail</td>\n",
       "      <td>left</td>\n",
       "      <td>center</td>\n",
       "      <td>19</td>\n",
       "    </tr>\n",
       "    <tr>\n",
       "      <th>108</th>\n",
       "      <td>Sarah Sanders slams Bolton as man 'drunk on power,' in her forthcoming book</td>\n",
       "      <td>right</td>\n",
       "      <td>right</td>\n",
       "      <td>108</td>\n",
       "    </tr>\n",
       "  </tbody>\n",
       "</table>\n",
       "</div>"
      ],
      "text/plain": [
       "                                                                                                                    title  \\\n",
       "35   Clyburn says 'nobody is going to defund the police,' calls for 'reimagining' of law enforcement                        \n",
       "94   Pompeo: China waging disinformation campaign to drive wedge between US and Europe                                      \n",
       "70   Bolton blasts Trump for denying he was briefed on Russia offering bounties to Taliban to kill US troops                \n",
       "27   Fact check: Did Adolf Hitler defund the police in Nazi Germany?                                                        \n",
       "22   Liz Harrington: Democrats seek mail-in voting so they can cheat their way to victory in November                       \n",
       "62   National security adviser says Trump’s CIA briefer decided not to share Russia bounty intel                            \n",
       "17   Trump says surge in voting by mail his ‘biggest risk’                                                                  \n",
       "101  Judge blasts Bolton for abandoning classified information review but doubts he can block book publication...           \n",
       "53   Trump administration’s move to end Obamacare amid pandemic reignites political fight                                   \n",
       "18   Fact-checking the GOP’s ‘satirical’ vote-by-mail video                                                                 \n",
       "45   As support for mask-wearing grows, so do political risks for forgoing them                                             \n",
       "52   Trump’s unhinged crusade to destroy Obamacare boomerangs back on GOP                                                   \n",
       "33   Power Up: Rep. Clyburn to today’s activists: Don’t let ’defund the police’ hijack new momentum for reform              \n",
       "71   Trump has officially withdrawn the US from the World Health Organization as pandemic spikes                            \n",
       "44   Republicans are practically begging Trump to tell people to wear a mask. He still won’t listen.                        \n",
       "84   Joe Biden needs a China narrative that refutes today’s political angst                                                 \n",
       "11   Supreme Court denies Texas Democrats' request for mail-in ballots                                                      \n",
       "13   Trump calls it ‘rigged,’ but voting by mail is routine among his top administration and campaign officials             \n",
       "30   Power Up: Protesters ‘defund the police’ rallying cry is achieving some progress                                       \n",
       "82   Dow futures tumble then recover after Navarro, Trump clarify China trade deal not 'over'                               \n",
       "15   The Cybersecurity 202: First DHS chief Tom Ridge knocks Trump’s attacks on voting by mail                              \n",
       "8    White House rips Supreme Court’s ‘unfortunate ruling’ on Louisiana abortion clinic restrictions                        \n",
       "40   Trump vows executive order to address law enforcement use of force, but slams 'Defund The Police' movement             \n",
       "3    I run a Louisiana abortion clinic. Despite Supreme Court win, I'm nervous for our future.                              \n",
       "37   Andrew McCarthy: Defund the police? Here's what Dems, BLM ignoring about crime                                         \n",
       "63   Trump’s ugly new spin on Russia bounties actually incriminates him                                                     \n",
       "80   China is censoring its critics on Zoom. Will the tech company continue to comply? - The Washington Post                \n",
       "28   Defund the police? Here’s what that really means. - The Washington Post                                                \n",
       "36   Cory Mills: Want more crime and innocent people killed? Then defund the police                                         \n",
       "51   Trump administration asks Supreme Court to strike down Obamacare - The Washington Post                                 \n",
       "41   Fact check: Wearing a face mask will not cause hypoxia, hypoxemia or hypercapnia                                       \n",
       "0    After yearlong fight, Missouri's lone abortion clinic gets its license renewed                                         \n",
       "49   Washington state sheriff tells residents to not be 'sheep' over statewide coronavirus mask mandate                     \n",
       "19   In win for Texas GOP officials, federal appeals panel blocks lower court decision to allow any Texan to vote by mail   \n",
       "108  Sarah Sanders slams Bolton as man 'drunk on power,' in her forthcoming book                                            \n",
       "\n",
       "    Alignment predictions_bow  tag  \n",
       "35   center    center          35   \n",
       "94   center    center          94   \n",
       "70   center    center          70   \n",
       "27   left      center          27   \n",
       "22   right     center          22   \n",
       "62   right     center          62   \n",
       "17   center    right           17   \n",
       "101  center    center          101  \n",
       "53   left      right           53   \n",
       "18   left      center          18   \n",
       "45   left      center          45   \n",
       "52   left      center          52   \n",
       "33   center    center          33   \n",
       "71   center    center          71   \n",
       "44   left      center          44   \n",
       "84   left      center          84   \n",
       "11   center    center          11   \n",
       "13   left      center          13   \n",
       "30   left      center          30   \n",
       "82   center    right           82   \n",
       "15   left      center          15   \n",
       "8    right     center          8    \n",
       "40   right     center          40   \n",
       "3    center    center          3    \n",
       "37   right     center          37   \n",
       "63   left      right           63   \n",
       "80   center    center          80   \n",
       "28   center    center          28   \n",
       "36   right     center          36   \n",
       "51   center    right           51   \n",
       "41   center    center          41   \n",
       "0    center    center          0    \n",
       "49   center    center          49   \n",
       "19   left      center          19   \n",
       "108  right     right           108  "
      ]
     },
     "execution_count": 556,
     "metadata": {},
     "output_type": "execute_result"
    }
   ],
   "source": [
    "pd.set_option('display.max_colwidth', -1)\n",
    "prediction_df[['title','Alignment','predictions_bow','tag']]"
   ]
  },
  {
   "cell_type": "code",
   "execution_count": 302,
   "metadata": {
    "ExecuteTime": {
     "end_time": "2020-07-13T00:19:57.377622Z",
     "start_time": "2020-07-13T00:19:57.373725Z"
    }
   },
   "outputs": [
    {
     "name": "stdout",
     "output_type": "stream",
     "text": [
      "['__class__', '__contains__', '__delattr__', '__dict__', '__dir__', '__doc__', '__eq__', '__format__', '__ge__', '__getattribute__', '__getitem__', '__gt__', '__hash__', '__ignoreds', '__init__', '__init_subclass__', '__le__', '__len__', '__lt__', '__module__', '__ne__', '__new__', '__numpys', '__recursive_saveloads', '__reduce__', '__reduce_ex__', '__repr__', '__scipys', '__setattr__', '__setitem__', '__sizeof__', '__slotnames__', '__str__', '__subclasshook__', '__weakref__', '_adapt_by_suffix', '_index_to_doctag', '_int_index', '_load_specials', '_save_specials', '_smart_save', 'add', 'closer_than', 'count', 'distance', 'distances', 'doctag_syn0', 'doctag_syn0norm', 'doctags', 'doesnt_match', 'get_vector', 'index2entity', 'index_to_doctag', 'init_sims', 'int_index', 'load', 'mapfile_path', 'max_rawint', 'most_similar', 'most_similar_to_given', 'n_similarity', 'offset2doctag', 'rank', 'save', 'save_word2vec_format', 'similarity', 'similarity_unseen_docs', 'vector_size', 'vectors', 'vectors_docs', 'vectors_docs_norm', 'vocab']\n"
     ]
    }
   ],
   "source": [
    "print(dir(model_dmm.docvecs))"
   ]
  },
  {
   "cell_type": "code",
   "execution_count": 334,
   "metadata": {
    "ExecuteTime": {
     "end_time": "2020-07-14T00:38:32.482638Z",
     "start_time": "2020-07-14T00:38:32.473478Z"
    }
   },
   "outputs": [
    {
     "data": {
      "text/plain": [
       "[('republicans', 0.6308056712150574),\n",
       " ('operative', 0.6204031705856323),\n",
       " ('dowless', 0.6086461544036865),\n",
       " ('orchestrated', 0.5964101552963257),\n",
       " ('substantially', 0.5941324830055237),\n",
       " ('mccrae', 0.5941246747970581),\n",
       " ('coordinated', 0.5940231680870056),\n",
       " ('concluding', 0.5716716051101685),\n",
       " ('resourced', 0.5710254907608032),\n",
       " ('congressional', 0.5533759593963623),\n",
       " ('initiated', 0.5450226068496704),\n",
       " ('letting', 0.5266408920288086),\n",
       " ('candidate', 0.5251789689064026),\n",
       " ('vegas', 0.5183722376823425),\n",
       " ('invalidate', 0.5167734622955322),\n",
       " ('shattered', 0.5137361288070679),\n",
       " ('lawsuit', 0.5105844140052795),\n",
       " ('ironically', 0.5105476379394531),\n",
       " ('las', 0.5104647874832153),\n",
       " ('presidential', 0.5025284290313721)]"
      ]
     },
     "execution_count": 334,
     "metadata": {},
     "output_type": "execute_result"
    }
   ],
   "source": [
    "#model_dmm.most_similar(['93','37'])\n",
    "model_dmm.wv.most_similar(\"republican\", topn=20)"
   ]
  },
  {
   "cell_type": "markdown",
   "metadata": {},
   "source": [
    "## Checking learned keywords for each bias for pictorial representation"
   ]
  },
  {
   "cell_type": "code",
   "execution_count": 828,
   "metadata": {
    "ExecuteTime": {
     "end_time": "2020-07-16T20:35:07.523381Z",
     "start_time": "2020-07-16T20:35:07.486030Z"
    }
   },
   "outputs": [
    {
     "name": "stdout",
     "output_type": "stream",
     "text": [
      "['three', 'summers', 'ago', 'about', 'students', 'and', 'activists', 'gathered', 'outside', 'the', 'minneapolis', 'public', 'schools', 'headquarters', 'to', 'demand', 'the', 'school', 'board', 'end', 'contract', 'that', 'placed', 'police', 'officers', 'in', 'schools', 'the', 'officers', 'whose', 'role', 'was', 'to', 'keep', 'schools', 'safe', 'actually', 'made', 'students', 'especially', 'black', 'students', 'feel', 'criminalized', 'activists', 'said', 'but', 'the', 'majority', 'of', 'teachers', 'staff', 'and', 'parents', 'liked', 'officers', 'in', 'schools', 'district', 'wide', 'survey', 'showed', 'at', 'the', 'time', 'the', 'board', 'renewed', 'the', 'three', 'year', 'contract', 'fast', 'forward', 'to', 'june', 'eight', 'days', 'after', 'george', 'floyd', 'died', 'under', 'the', 'knee', 'of', 'minneapolis', 'police', 'officer', 'the', 'school', 'board', 'revisited', 'that', 'contract', 'and', 'ended', 'it', 'the', 'vote', 'on', 'june', 'after', 'an', 'even', 'larger', 'crowd', 'of', 'protesters', 'gathered', 'outside', 'was', 'unanimous', 'the', 'values', 'we', 'see', 'in', 'the', 'police', 'department', 'do', 'not', 'match', 'our', 'values', 'said', 'kim', 'ellison', 'chair', 'of', 'the', 'minneapolis', 'school', 'board', 'the', 'school', 'board', 'became', 'one', 'of', 'the', 'first', 'major', 'governmental', 'bodies', 'to', 'change', 'the', 'balance', 'of', 'power', 'with', 'police', 'in', 'the', 'wake', 'of', 'floyd', 'death', 'the', 'change', 'has', 'prompted', 'wave', 'of', 'districts', 'nationwide', 'to', 'consider', 'terminating', 'their', 'relationships', 'with', 'police', 'from', 'chicago', 'new', 'york', 'and', 'los', 'angeles', 'to', 'smaller', 'cities', 'like', 'rochester', 'new', 'york', 'columbus', 'ohio', 'and', 'portland', 'maine', 'and', 'fort', 'collins', 'colorado', 'students', 'and', 'activists', 'are', 'demanding', 'the', 'discontinuation', 'of', 'school', 'resource', 'officers', 'they', 'want', 'the', 'money', 'spent', 'on', 'those', 'programs', 'to', 'go', 'to', 'other', 'peacekeeping', 'strategies', 'teen', 'activists', 'too', 'young', 'to', 'vote', 'in', 'but', 'fighting', 'for', 'change', 'police', 'in', 'schools', 'contribute', 'to', 'the', 'marginalization', 'of', 'students', 'of', 'color', 'they', 'say', 'that', 'because', 'schools', 'with', 'large', 'populations', 'of', 'black', 'and', 'brown', 'students', 'are', 'more', 'likely', 'to', 'have', 'law', 'enforcement', 'on', 'site', 'and', 'in', 'those', 'places', 'students', 'are', 'more', 'likely', 'to', 'be', 'arrested', 'for', 'certain', 'behaviors', 'rather', 'than', 'disciplined', 'by', 'an', 'administrator', 'last', 'week', 'portland', 'oregon', 'school', 'superintendent', 'announced', 'he', 'planned', 'to', 'remove', 'police', 'from', 'schools', 'denver', 'school', 'board', 'is', 'slated', 'to', 'vote', 'thursday', 'on', 'ending', 'contract', 'for', 'uniformed', 'officers', 'in', 'oakland', 'california', 'the', 'majority', 'of', 'the', 'school', 'board', 'and', 'superintendent', 'wednesday', 'backed', 'proposal', 'to', 'eliminate', 'the', 'district', 'million', 'internal', 'police', 'force', 'despite', 'concerns', 'from', 'some', 'principals', 'according', 'to', 'the', 'san', 'francisco', 'chronicle', 'advocates', 'for', 'school', 'resource', 'officers', 'say', 'the', 'problem', 'lies', 'with', 'inconsistent', 'training', 'for', 'law', 'enforcement', 'on', 'how', 'to', 'work', 'with', 'students', 'making', 'rash', 'moves', 'to', 'end', 'the', 'programs', 'because', 'of', 'political', 'and', 'social', 'pressure', 'could', 'make', 'schools', 'less', 'safe', 'they', 'say', 'and', 'also', 'disrupt', 'the', 'opportunity', 'for', 'healthy', 'relationships', 'to', 'grow', 'between', 'law', 'enforcement', 'and', 'students', 'when', 'this', 'is', 'done', 'the', 'right', 'way', 'it', 'the', 'epitome', 'of', 'community', 'based', 'policing', 'said', 'mo', 'canady', 'executive', 'director', 'of', 'the', 'national', 'association', 'of', 'school', 'resource', 'officers', 'that', 'philosophy', 'where', 'police', 'and', 'the', 'community', 'work', 'together', 'to', 'solve', 'crimes', 'and', 'improve', 'everyone', 'quality', 'of', 'life', 'canady', 'organization', 'trains', 'officers', 'how', 'to', 'enforce', 'the', 'law', 'in', 'school', 'setting', 'informally', 'counsel', 'students', 'and', 'act', 'as', 'an', 'educator', 'but', 'nothing', 'requires', 'school', 'resource', 'officers', 'to', 'undergo', 'such', 'training', 'canady', 'said', 'there', 'federal', 'resistance', 'to', 'that', 'idea', 'out', 'of', 'respect', 'for', 'the', 'tradition', 'of', 'local', 'control', 'he', 'added', 'it', 'better', 'if', 'districts', 'would', 'say', 'we', 'need', 'these', 'officers', 'trained', 'on', 'national', 'level', 'canady', 'said', 'nationally', 'protesters', 'seeking', 'justice', 'for', 'floyd', 'want', 'to', 'reduce', 'city', 'police', 'department', 'budgets', 'and', 'redirect', 'more', 'money', 'to', 'social', 'services', 'but', 'what', 'happening', 'at', 'schools', 'offers', 'window', 'into', 'the', 'relationship', 'between', 'law', 'enforcement', 'and', 'youth', 'while', 'police', 'have', 'been', 'stationed', 'in', 'schools', 'for', 'decades', 'they', 'don', 'make', 'schools', 'overwhelmingly', 'more', 'safe', 'studies', 'show', 'review', 'of', 'the', 'most', 'comprehensive', 'studies', 'on', 'school', 'based', 'law', 'enforcement', 'showed', 'the', 'officers', 'did', 'not', 'improve', 'students', 'perception', 'of', 'safety', 'and', 'out', 'of', 'school', 'suspensions', 'and', 'expulsions', 'increased', 'after', 'school', 'resource', 'officers', 'were', 'introduced', 'to', 'building', 'it', 'not', 'like', 'there', 'really', 'strong', 'research', 'base', 'that', 'says', 'with', 'police', 'in', 'schools', 'crime', 'goes', 'down', 'and', 'bullying', 'goes', 'down', 'and', 'there', 'are', 'no', 'shootings', 'said', 'anthony', 'petrosino', 'director', 'of', 'the', 'justice', 'and', 'prevention', 'research', 'center', 'at', 'wested', 'nonpartisan', 'research', 'organization', 'that', 'focuses', 'on', 'education', 'school', 'policing', 'is', 'much', 'more', 'common', 'in', 'schools', 'with', 'kids', 'of', 'color', 'petrosino', 'added', 'there', 'real', 'question', 'of', 'whether', 'it', 'helping', 'or', 'hurting', 'is', 'it', 'leading', 'to', 'more', 'of', 'these', 'kids', 'being', 'involved', 'in', 'the', 'justice', 'system', 'or', 'being', 'kicked', 'out', 'of', 'school', 'one', 'big', 'problem', 'is', 'children', 'of', 'racial', 'minorities', 'especially', 'black', 'students', 'are', 'more', 'likely', 'to', 'be', 'suspended', 'and', 'expelled', 'from', 'school', 'than', 'white', 'students', 'even', 'when', 'they', 'commit', 'similar', 'offenses', 'research', 'shows', 'pushed', 'out', 'and', 'punished', 'black', 'girls', 'punished', 'more', 'harshly', 'than', 'white', 'girls', 'and', 'of', 'the', 'approximate', 'million', 'students', 'in', 'america', 'attending', 'schools', 'with', 'police', 'officers', 'but', 'no', 'counselors', 'more', 'of', 'those', 'students', 'are', 'black', 'than', 'white', 'by', 'contrast', 'white', 'students', 'are', 'more', 'likely', 'to', 'attend', 'schools', 'with', 'counselors', 'but', 'not', 'police', 'federal', 'data', 'show', 'on', 'top', 'of', 'that', 'number', 'of', 'high', 'profile', 'incidents', 'in', 'recent', 'years', 'have', 'put', 'spotlight', 'on', 'police', 'brutality', 'toward', 'black', 'kids', 'and', 'teens', 'inside', 'and', 'outside', 'of', 'school', 'white', 'school', 'resource', 'officer', 'in', 'south', 'carolina', 'high', 'school', 'flipped', 'black', 'girl', 'out', 'of', 'her', 'desk', 'and', 'dragged', 'her', 'across', 'the', 'floor', 'in', 'black', 'school', 'resource', 'officer', 'in', 'orlando', 'arrested', 'sobbing', 'year', 'old', 'black', 'student', 'in', 'september', 'securing', 'her', 'with', 'zip', 'ties', 'because', 'she', 'was', 'too', 'small', 'for', 'handcuffs', 'white', 'officer', 'in', 'ferguson', 'missouri', 'shot', 'and', 'killed', 'michael', 'brown', 'an', 'unarmed', 'year', 'old', 'black', 'man', 'in', 'the', 'street', 'in', 'later', 'that', 'year', 'white', 'officer', 'in', 'cleveland', 'ohio', 'shot', 'and', 'killed', 'tamir', 'rice', 'year', 'old', 'black', 'boy', 'rice', 'had', 'been', 'playing', 'with', 'toy', 'gun', 'outside', 'recreation', 'center', 'change', 'in', 'ferguson', 'city', 'elects', 'first', 'black', 'female', 'mayor', 'years', 'after', 'michael', 'brown', 'death', 'in', 'the', 'only', 'of', 'schools', 'had', 'law', 'enforcement', 'officer', 'stationed', 'in', 'them', 'according', 'to', 'federal', 'data', 'now', 'of', 'schools', 'have', 'police', 'officer', 'in', 'the', 'building', 'at', 'least', 'one', 'day', 'week', 'according', 'to', 'the', 'most', 'recent', 'federal', 'data', 'and', 'among', 'large', 'schools', 'almost', 'had', 'sworn', 'officer', 'in', 'the', 'building', 'at', 'least', 'one', 'day', 'week', 'in', 'the', 'school', 'year', 'the', 'number', 'of', 'officers', 'in', 'schools', 'accelerated', 'rapidly', 'after', 'the', 'year', 'of', 'the', 'shooting', 'at', 'columbine', 'high', 'school', 'in', 'colorado', 'the', 'massacre', 'spurred', 'national', 'discussion', 'about', 'school', 'safety', 'and', 'boost', 'in', 'federal', 'funds', 'helped', 'pay', 'for', 'more', 'cops', 'in', 'schools', 'years', 'after', 'columbine', 'survivors', 'find', 'that', 'new', 'normal', 'between', 'and', 'program', 'started', 'under', 'the', 'clinton', 'administration', 'doled', 'out', 'million', 'in', 'grants', 'to', 'police', 'departments', 'to', 'support', 'hiring', 'thousands', 'more', 'school', 'resource', 'officers', 'since', 'then', 'law', 'enforcement', 'in', 'schools', 'seemed', 'like', 'the', 'one', 'thing', 'that', 'district', 'leaders', 'would', 'not', 'change', 'said', 'aaron', 'kupchik', 'professor', 'of', 'sociology', 'and', 'criminal', 'justice', 'at', 'the', 'university', 'of', 'delaware', 'we', 'typically', 'don', 'even', 'discuss', 'it', 'because', 'it', 'common', 'assumption', 'they', 're', 'here', 'to', 'stay', 'kupchik', 'said', 'so', 'people', 'focus', 'on', 'how', 'to', 'make', 'it', 'less', 'harmful', 'like', 'by', 'ending', 'zero', 'tolerance', 'policies', 'and', 'adding', 'more', 'restorative', 'justice', 'programs', 'under', 'zero', 'tolerance', 'students', 'who', 'break', 'school', 'rules', 'are', 'subject', 'to', 'mandatory', 'severe', 'consequences', 'such', 'as', 'being', 'expelled', 'restorative', 'justice', 'programs', 'offer', 'misbehaving', 'students', 'chance', 'to', 'take', 'ownership', 'of', 'their', 'actions', 'talk', 'through', 'what', 'prompted', 'them', 'and', 'repair', 'harm', 'they', 've', 'caused', 'to', 'others', 'restorative', 'justice', 'how', 'circle', 'keeping', 'works', 'at', 'one', 'midwestern', 'school', 'despite', 'talks', 'of', 'reform', 'students', 'social', 'justice', 'groups', 'and', 'the', 'american', 'civil', 'liberties', 'union', 'have', 'been', 'working', 'for', 'years', 'to', 'end', 'school', 'policing', 'long', 'before', 'the', 'calls', 'emerged', 'as', 'part', 'of', 'the', 'floyd', 'protests', 'that', 'key', 'reason', 'districts', 'are', 'taking', 'action', 'now', 'said', 'sarah', 'hinger', 'senior', 'staff', 'attorney', 'for', 'the', 'aclu', 'racial', 'justice', 'program', 'another', 'reason', 'school', 'districts', 'are', 'more', 'inclined', 'now', 'to', 'remove', 'police', 'officers', 'money', 'districts', 'are', 'facing', 'major', 'financial', 'shortfalls', 'because', 'of', 'the', 'covid', 'pandemic', 'and', 'loss', 'of', 'tax', 'revenue', 'because', 'of', 'the', 'economic', 'shutdown', 'it', 'widely', 'acknowledged', 'that', 'low', 'income', 'children', 'group', 'that', 'includes', 'many', 'black', 'and', 'brown', 'children', 'will', 'need', 'more', 'support', 'to', 'get', 'back', 'on', 'track', 'once', 'schools', 'reopen', 'many', 'haven', 'had', 'access', 'to', 'all', 'the', 'tools', 'needed', 'for', 'online', 'learning', 'such', 'as', 'high', 'speed', 'internet', 'or', 'their', 'own', 'computer', 'police', 'contracts', 'are', 'one', 'non', 'academic', 'budget', 'item', 'that', 'could', 'be', 'dropped', 'all', 'of', 'that', 'is', 'contributing', 'to', 'why', 'this', 'movement', 'is', 'really', 'catching', 'on', 'hinger', 'said', 'kids', 'need', 'to', 'talk', 'about', 'george', 'floyd', 'with', 'coronavirus', 'school', 'closures', 'it', 'hard', 'to', 'do', 'seattle', 'public', 'schools', 'announced', 'this', 'week', 'that', 'it', 'would', 'suspend', 'officers', 'from', 'schools', 'for', 'one', 'year', 'in', 'oakland', 'wednesday', 'the', 'school', 'superintendent', 'joined', 'the', 'majority', 'of', 'the', 'school', 'board', 'in', 'backing', 'the', 'elimination', 'of', 'the', 'district', 'in', 'house', 'police', 'force', 'one', 'idea', 'is', 'to', 'replace', 'it', 'with', 'non', 'uniformed', 'ambassadors', 'to', 'keep', 'the', 'peace', 'in', 'schools', 'black', 'students', 'account', 'for', 'of', 'the', 'students', 'arrested', 'in', 'oakland', 'schools', 'while', 'only', 'making', 'up', 'of', 'the', 'district', 'population', 'according', 'to', 'the', 'black', 'organizing', 'project', 'local', 'advocacy', 'group', 'oakland', 'board', 'is', 'slated', 'to', 'vote', 'on', 'eliminating', 'the', 'police', 'force', 'on', 'june', 'some', 'districts', 'are', 'less', 'inclined', 'to', 'remove', 'officers', 'the', 'chicago', 'teachers', 'union', 'has', 'reinvigorated', 'its', 'call', 'for', 'the', 'city', 'to', 'replace', 'school', 'resource', 'officers', 'with', 'counselors', 'but', 'mayor', 'lori', 'lightfoot', 'who', 'runs', 'the', 'city', 'as', 'well', 'as', 'the', 'district', 'indicated', 'she', 'not', 'interested', 'in', 'dumping', 'the', 'million', 'contract', 'with', 'the', 'chicago', 'police', 'department', 'more', 'than', 'three', 'quarters', 'of', 'the', 'city', 'high', 'schools', 'have', 'police', 'in', 'them', 'and', 'the', 'local', 'parent', 'and', 'teacher', 'councils', 'at', 'all', 'of', 'them', 'voted', 'to', 'keep', 'the', 'officers', 'this', 'year', 'according', 'to', 'local', 'news', 'reports', 'unfortunately', 'we', 'need', 'security', 'in', 'our', 'schools', 'lightfoot', 'said', 'in', 'protest', 'chicago', 'teachers', 'and', 'students', 'have', 'recently', 'staged', 'marches', 'and', 'car', 'caravan', 'parades', 'between', 'high', 'schools', 'chicago', 'protests', 'kanye', 'west', 'joins', 'march', 'offers', 'to', 'pay', 'legal', 'fees', 'for', 'breonna', 'taylor', 'family', 'in', 'los', 'angeles', 'the', 'teachers', 'union', 'said', 'monday', 'it', 'supports', 'ending', 'the', 'district', 'in', 'house', 'police', 'force', 'the', 'unit', 'places', 'about', 'officers', 'throughout', 'the', 'nation', 'second', 'largest', 'school', 'district', 'at', 'cost', 'of', 'about', 'million', 'annually', 'but', 'the', 'head', 'of', 'the', 'district', 'school', 'police', 'union', 'said', 'officers', 'are', 'better', 'trained', 'to', 'de', 'escalate', 'situations', 'in', 'buildings', 'than', 'outside', 'cops', 'called', 'to', 'campus', 'according', 'to', 'the', 'los', 'angeles', 'times', 'in', 'phoenix', 'hundreds', 'of', 'students', 'have', 'been', 'protesting', 'the', 'use', 'of', 'on', 'campus', 'police', 'officers', 'but', 'the', 'school', 'board', 'has', 'not', 'yet', 'taken', 'vote', 'on', 'whether', 'to', 'renew', 'the', 'contract', 'there', 'not', 'much', 'good', 'data', 'on', 'what', 'happens', 'when', 'you', 'remove', 'police', 'officers', 'from', 'schools', 'but', 'new', 'york', 'and', 'louisville', 'have', 'tried', 'some', 'new', 'ideas', 'decade', 'ago', 'report', 'from', 'new', 'york', 'city', 'examined', 'how', 'handful', 'of', 'high', 'schools', 'serving', 'at', 'risk', 'students', 'maintained', 'safe', 'environments', 'without', 'police', 'district', 'safety', 'agents', 'patrolled', 'halls', 'instead', 'metal', 'detectors', 'were', 'removed', 'administrators', 'created', 'alternatives', 'to', 'harsh', 'discipline', 'policies', 'the', 'aclu', 'which', 'published', 'the', 'report', 'is', 'notably', 'in', 'favor', 'of', 'removing', 'police', 'from', 'schools', 'in', 'louisville', 'kentucky', 'the', 'jefferson', 'county', 'public', 'schools', 'cut', 'ties', 'with', 'school', 'resource', 'officers', 'last', 'august', 'because', 'of', 'issues', 'related', 'to', 'the', 'criminalization', 'of', 'black', 'students', 'the', 'district', 'this', 'week', 'couldn', 'provide', 'comparison', 'of', 'school', 'arrest', 'data', 'from', 'before', 'and', 'after', 'police', 'were', 'removed', 'but', 'in', 'general', 'according', 'to', 'the', 'louisville', 'courier', 'journal', 'school', 'safety', 'hasn', 'changed', 'much', 'though', 'one', 'school', 'made', 'headlines', 'for', 'some', 'high', 'profile', 'student', 'on', 'teacher', 'altercations', 'louisville', 'has', 'seen', 'even', 'more', 'forceful', 'protests', 'than', 'some', 'cities', 'in', 'the', 'wake', 'of', 'the', 'death', 'of', 'breonna', 'taylor', 'who', 'was', 'shot', 'by', 'white', 'police', 'officer', 'in', 'her', 'bedroom', 'in', 'march', 'district', 'spokesperson', 'in', 'jefferson', 'county', 'said', 'this', 'week', 'the', 'district', 'is', 're', 'evaluating', 'its', 'school', 'safety', 'plan', 'which', 'could', 'still', 'include', 'armed', 'guards', 'in', 'schools', 'in', 'florida', 'janice', 'scott', 'cover', 'former', 'assistant', 'superintendent', 'in', 'the', 'palm', 'beach', 'county', 'school', 'district', 'said', 'administrators', 'can', 'also', 'work', 'harder', 'to', 'identify', 'the', 'root', 'cause', 'of', 'student', 'misbehavior', 'whether', 'cops', 'are', 'there', 'or', 'not', 'when', 'she', 'became', 'principal', 'of', 'troubled', 'elementary', 'school', 'two', 'decades', 'ago', 'the', 'school', 'resource', 'officer', 'arrested', 'children', 'for', 'fighting', 'disrespecting', 'teachers', 'and', 'walking', 'out', 'of', 'class', 'not', 'all', 'the', 'resource', 'officers', 'understand', 'how', 'to', 'police', 'in', 'schools', 'cover', 'said', 'some', 'still', 'behave', 'like', 'they', 're', 'out', 'on', 'the', 'street', 'grabbing', 'people', 'and', 'throwing', 'them', 'down', 'and', 'did', 'not', 'want', 'that', 'on', 'the', 'campus', 'cover', 'rearranged', 'the', 'budget', 'to', 'hire', 'another', 'social', 'worker', 'who', 'became', 'the', 'first', 'stop', 'for', 'misbehaving', 'children', 'she', 'had', 'teachers', 'rearrange', 'classrooms', 'so', 'students', 'worked', 'in', 'groups', 'and', 'practiced', 'cooperation', 'she', 'and', 'her', 'teachers', 'doubled', 'down', 'on', 'prodding', 'into', 'students', 'lives', 'often', 'getting', 'them', 'needed', 'household', 'or', 'personal', 'items', 'over', 'time', 'the', 'climate', 'and', 'academics', 'improved', 'something', 'cover', 'recounts', 'in', 'her', 'book', 'about', 'turning', 'around', 'low', 'performing', 'elementary', 'schools', 'happy', 'now', 'that', 'people', 'are', 'beginning', 'to', 'look', 'at', 'this', 'said', 'cover', 'who', 'is', 'black', 'my', 'hope', 'is', 'that', 'you', 'don', 'just', 'remove', 'the', 'police', 'officers', 'but', 'replace', 'them', 'with', 'something', 'else', 'like', 'counselors', 'or', 'mental', 'health', 'professionals', 'or', 'school', 'psychologists', 'olivia', 'krauth', 'contributed', 'to', 'this', 'story', 'from', 'louisville', 'kentucky', 'lily', 'altavena', 'contributed', 'from', 'phoenix', 'arizona', 'education', 'coverage', 'at', 'usa', 'today', 'is', 'made', 'possible', 'in', 'part', 'by', 'grant', 'from', 'the', 'bill', 'melinda', 'gates', 'foundation', 'the', 'gates', 'foundation', 'does', 'not', 'provide', 'editorial', 'input', 'three', 'summers', 'ago', 'about', 'students', 'and', 'activists', 'gathered', 'outside', 'the', 'minneapolis', 'public', 'schools', 'headquarters', 'to', 'demand', 'the', 'school', 'board', 'end', 'contract', 'that', 'placed', 'police', 'officers', 'in', 'schools', 'the', 'officers', 'whose', 'role', 'was', 'to', 'keep', 'schools', 'safe', 'actually', 'made', 'students', 'especially', 'black', 'students', 'feel', 'criminalized', 'activists', 'said', 'but', 'the', 'majority', 'of', 'teachers', 'staff', 'and', 'parents', 'liked', 'officers', 'in', 'schools', 'district', 'wide', 'survey', 'showed', 'at', 'the', 'time', 'the', 'board', 'renewed', 'the', 'three', 'year', 'contract', 'fast', 'forward', 'to', 'june', 'eight', 'days', 'after', 'george', 'floyd', 'died', 'under', 'the', 'knee', 'of', 'minneapolis', 'police', 'officer', 'the', 'school', 'board', 'revisited', 'that', 'contract', 'and', 'ended', 'it', 'the', 'vote', 'on', 'june', 'after', 'an', 'even', 'larger', 'crowd', 'of', 'protesters', 'gathered', 'outside', 'was', 'unanimous', 'the', 'values', 'we', 'see', 'in', 'the', 'police', 'department', 'do', 'not', 'match', 'our', 'values', 'said', 'kim', 'ellison', 'chair', 'of', 'the', 'minneapolis', 'school', 'board', 'the', 'school', 'board', 'became', 'one', 'of', 'the', 'first', 'major', 'governmental', 'bodies', 'to', 'change', 'the', 'balance', 'of', 'power', 'with', 'police', 'in', 'the', 'wake', 'of', 'floyd', 'death', 'the', 'change', 'has', 'prompted', 'wave', 'of', 'districts', 'nationwide', 'to', 'consider', 'terminating', 'their', 'relationships', 'with', 'police', 'from', 'chicago', 'new', 'york', 'and', 'los', 'angeles', 'to', 'smaller', 'cities', 'like', 'rochester', 'new', 'york', 'columbus', 'ohio', 'and', 'portland', 'maine', 'and', 'fort', 'collins', 'colorado', 'students', 'and', 'activists', 'are', 'demanding', 'the', 'discontinuation', 'of', 'school', 'resource', 'officers', 'they', 'want', 'the', 'money', 'spent', 'on', 'those', 'programs', 'to', 'go', 'to', 'other', 'peacekeeping', 'strategies', 'teen', 'activists', 'too', 'young', 'to', 'vote', 'in', 'but', 'fighting', 'for', 'change', 'police', 'in', 'schools', 'contribute', 'to', 'the', 'marginalization', 'of', 'students', 'of', 'color', 'they', 'say', 'that', 'because', 'schools', 'with', 'large', 'populations', 'of', 'black', 'and', 'brown', 'students', 'are', 'more', 'likely', 'to', 'have', 'law', 'enforcement', 'on', 'site', 'and', 'in', 'those', 'places', 'students', 'are', 'more', 'likely', 'to', 'be', 'arrested', 'for', 'certain', 'behaviors', 'rather', 'than', 'disciplined', 'by', 'an', 'administrator', 'last', 'week', 'portland', 'oregon', 'school', 'superintendent', 'announced', 'he', 'planned', 'to', 'remove', 'police', 'from', 'schools', 'denver', 'school', 'board', 'is', 'slated', 'to', 'vote', 'thursday', 'on', 'ending', 'contract', 'for', 'uniformed', 'officers', 'in', 'oakland', 'california', 'the', 'majority', 'of', 'the', 'school', 'board', 'and', 'superintendent', 'wednesday', 'backed', 'proposal', 'to', 'eliminate', 'the', 'district', 'million', 'internal', 'police', 'force', 'despite', 'concerns', 'from', 'some', 'principals', 'according', 'to', 'the', 'san', 'francisco', 'chronicle', 'advocates', 'for', 'school', 'resource', 'officers', 'say', 'the', 'problem', 'lies', 'with', 'inconsistent', 'training', 'for', 'law', 'enforcement', 'on', 'how', 'to', 'work', 'with', 'students', 'making', 'rash', 'moves', 'to', 'end', 'the', 'programs', 'because', 'of', 'political', 'and', 'social', 'pressure', 'could', 'make', 'schools', 'less', 'safe', 'they', 'say', 'and', 'also', 'disrupt', 'the', 'opportunity', 'for', 'healthy', 'relationships', 'to', 'grow', 'between', 'law', 'enforcement', 'and', 'students', 'when', 'this', 'is', 'done', 'the', 'right', 'way', 'it', 'the', 'epitome', 'of', 'community', 'based', 'policing', 'said', 'mo', 'canady', 'executive', 'director', 'of', 'the', 'national', 'association', 'of', 'school', 'resource', 'officers', 'that', 'philosophy', 'where', 'police', 'and', 'the', 'community', 'work', 'together', 'to', 'solve', 'crimes', 'and', 'improve', 'everyone', 'quality', 'of', 'life', 'canady', 'organization', 'trains', 'officers', 'how', 'to', 'enforce', 'the', 'law', 'in', 'school', 'setting', 'informally', 'counsel', 'students', 'and', 'act', 'as', 'an', 'educator', 'but', 'nothing', 'requires', 'school', 'resource', 'officers', 'to', 'undergo', 'such', 'training', 'canady', 'said', 'there', 'federal', 'resistance', 'to', 'that', 'idea', 'out', 'of', 'respect', 'for', 'the', 'tradition', 'of', 'local', 'control', 'he', 'added', 'it', 'better', 'if', 'districts', 'would', 'say', 'we', 'need', 'these', 'officers', 'trained', 'on', 'national', 'level', 'canady', 'said', 'nationally', 'protesters', 'seeking', 'justice', 'for', 'floyd', 'want', 'to', 'reduce', 'city', 'police', 'department', 'budgets', 'and', 'redirect', 'more', 'money', 'to', 'social', 'services', 'but', 'what', 'happening', 'at', 'schools', 'offers', 'window', 'into', 'the', 'relationship', 'between', 'law', 'enforcement', 'and', 'youth', 'while', 'police', 'have', 'been', 'stationed', 'in', 'schools', 'for', 'decades', 'they', 'don', 'make', 'schools', 'overwhelmingly', 'more', 'safe', 'studies', 'show', 'review', 'of', 'the', 'most', 'comprehensive', 'studies', 'on', 'school', 'based', 'law', 'enforcement', 'showed', 'the', 'officers', 'did', 'not', 'improve', 'students', 'perception', 'of', 'safety', 'and', 'out', 'of', 'school', 'suspensions', 'and', 'expulsions', 'increased', 'after', 'school', 'resource', 'officers', 'were', 'introduced', 'to', 'building', 'it', 'not', 'like', 'there', 'really', 'strong', 'research', 'base', 'that', 'says', 'with', 'police', 'in', 'schools', 'crime', 'goes', 'down', 'and', 'bullying', 'goes', 'down', 'and', 'there', 'are', 'no', 'shootings', 'said', 'anthony', 'petrosino', 'director', 'of', 'the', 'justice', 'and', 'prevention', 'research', 'center', 'at', 'wested', 'nonpartisan', 'research', 'organization', 'that', 'focuses', 'on', 'education', 'school', 'policing', 'is', 'much', 'more', 'common', 'in', 'schools', 'with', 'kids', 'of', 'color', 'petrosino', 'added', 'there', 'real', 'question', 'of', 'whether', 'it', 'helping', 'or', 'hurting', 'is', 'it', 'leading', 'to', 'more', 'of', 'these', 'kids', 'being', 'involved', 'in', 'the', 'justice', 'system', 'or', 'being', 'kicked', 'out', 'of', 'school', 'one', 'big', 'problem', 'is', 'children', 'of', 'racial', 'minorities', 'especially', 'black', 'students', 'are', 'more', 'likely', 'to', 'be', 'suspended', 'and', 'expelled', 'from', 'school', 'than', 'white', 'students', 'even', 'when', 'they', 'commit', 'similar', 'offenses', 'research', 'shows', 'pushed', 'out', 'and', 'punished', 'black', 'girls', 'punished', 'more', 'harshly', 'than', 'white', 'girls', 'and', 'of', 'the', 'approximate', 'million', 'students', 'in', 'america', 'attending', 'schools', 'with', 'police', 'officers', 'but', 'no', 'counselors', 'more', 'of', 'those', 'students', 'are', 'black', 'than', 'white', 'by', 'contrast', 'white', 'students', 'are', 'more', 'likely', 'to', 'attend', 'schools', 'with', 'counselors', 'but', 'not', 'police', 'federal', 'data', 'show', 'on', 'top', 'of', 'that', 'number', 'of', 'high', 'profile', 'incidents', 'in', 'recent', 'years', 'have', 'put', 'spotlight', 'on', 'police', 'brutality', 'toward', 'black', 'kids', 'and', 'teens', 'inside', 'and', 'outside', 'of', 'school', 'white', 'school', 'resource', 'officer', 'in', 'south', 'carolina', 'high', 'school', 'flipped', 'black', 'girl', 'out', 'of', 'her', 'desk', 'and', 'dragged', 'her', 'across', 'the', 'floor', 'in', 'black', 'school', 'resource', 'officer', 'in', 'orlando', 'arrested', 'sobbing', 'year', 'old', 'black', 'student', 'in', 'september', 'securing', 'her', 'with', 'zip', 'ties', 'because', 'she', 'was', 'too', 'small', 'for', 'handcuffs', 'white', 'officer', 'in', 'ferguson', 'missouri', 'shot', 'and', 'killed', 'michael', 'brown', 'an', 'unarmed', 'year', 'old', 'black', 'man', 'in', 'the', 'street', 'in', 'later', 'that', 'year', 'white', 'officer', 'in', 'cleveland', 'ohio', 'shot', 'and', 'killed', 'tamir', 'rice', 'year', 'old', 'black', 'boy', 'rice', 'had', 'been', 'playing', 'with', 'toy', 'gun', 'outside', 'recreation', 'center', 'change', 'in', 'ferguson', 'city', 'elects', 'first', 'black', 'female', 'mayor', 'years', 'after', 'michael', 'brown', 'death', 'in', 'the', 'only', 'of', 'schools', 'had', 'law', 'enforcement', 'officer', 'stationed', 'in', 'them', 'according', 'to', 'federal', 'data', 'now', 'of', 'schools', 'have', 'police', 'officer', 'in', 'the', 'building', 'at', 'least', 'one', 'day', 'week', 'according', 'to', 'the', 'most', 'recent', 'federal', 'data', 'and', 'among', 'large', 'schools', 'almost', 'had', 'sworn', 'officer', 'in', 'the', 'building', 'at', 'least', 'one', 'day', 'week', 'in', 'the', 'school', 'year', 'the', 'number', 'of', 'officers', 'in', 'schools', 'accelerated', 'rapidly', 'after', 'the', 'year', 'of', 'the', 'shooting', 'at', 'columbine', 'high', 'school', 'in', 'colorado', 'the', 'massacre', 'spurred', 'national', 'discussion', 'about', 'school', 'safety', 'and', 'boost', 'in', 'federal', 'funds', 'helped', 'pay', 'for', 'more', 'cops', 'in', 'schools', 'years', 'after', 'columbine', 'survivors', 'find', 'that', 'new', 'normal', 'between', 'and', 'program', 'started', 'under', 'the', 'clinton', 'administration', 'doled', 'out', 'million', 'in', 'grants', 'to', 'police', 'departments', 'to', 'support', 'hiring', 'thousands', 'more', 'school', 'resource', 'officers', 'since', 'then', 'law', 'enforcement', 'in', 'schools', 'seemed', 'like', 'the', 'one', 'thing', 'that', 'district', 'leaders', 'would', 'not', 'change', 'said', 'aaron', 'kupchik', 'professor', 'of', 'sociology', 'and', 'criminal', 'justice', 'at', 'the', 'university', 'of', 'delaware', 'we', 'typically', 'don', 'even', 'discuss', 'it', 'because', 'it', 'common', 'assumption', 'they', 're', 'here', 'to', 'stay', 'kupchik', 'said', 'so', 'people', 'focus', 'on', 'how', 'to', 'make', 'it', 'less', 'harmful', 'like', 'by', 'ending', 'zero', 'tolerance', 'policies', 'and', 'adding', 'more', 'restorative', 'justice', 'programs', 'under', 'zero', 'tolerance', 'students', 'who', 'break', 'school', 'rules', 'are', 'subject', 'to', 'mandatory', 'severe', 'consequences', 'such', 'as', 'being', 'expelled', 'restorative', 'justice', 'programs', 'offer', 'misbehaving', 'students', 'chance', 'to', 'take', 'ownership', 'of', 'their', 'actions', 'talk', 'through', 'what', 'prompted', 'them', 'and', 'repair', 'harm', 'they', 've', 'caused', 'to', 'others', 'restorative', 'justice', 'how', 'circle', 'keeping', 'works', 'at', 'one', 'midwestern', 'school', 'despite', 'talks', 'of', 'reform', 'students', 'social', 'justice', 'groups', 'and', 'the', 'american', 'civil', 'liberties', 'union', 'have', 'been', 'working', 'for', 'years', 'to', 'end', 'school', 'policing', 'long', 'before', 'the', 'calls', 'emerged', 'as', 'part', 'of', 'the', 'floyd', 'protests', 'that', 'key', 'reason', 'districts', 'are', 'taking', 'action', 'now', 'said', 'sarah', 'hinger', 'senior', 'staff', 'attorney', 'for', 'the', 'aclu', 'racial', 'justice', 'program', 'another', 'reason', 'school', 'districts', 'are', 'more', 'inclined', 'now', 'to', 'remove', 'police', 'officers', 'money', 'districts', 'are', 'facing', 'major', 'financial', 'shortfalls', 'because', 'of', 'the', 'covid', 'pandemic', 'and', 'loss', 'of', 'tax', 'revenue', 'because', 'of', 'the', 'economic', 'shutdown', 'it', 'widely', 'acknowledged', 'that', 'low', 'income', 'children', 'group', 'that', 'includes', 'many', 'black', 'and', 'brown', 'children', 'will', 'need', 'more', 'support', 'to', 'get', 'back', 'on', 'track', 'once', 'schools', 'reopen', 'many', 'haven', 'had', 'access', 'to', 'all', 'the', 'tools', 'needed', 'for', 'online', 'learning', 'such', 'as', 'high', 'speed', 'internet', 'or', 'their', 'own', 'computer', 'police', 'contracts', 'are', 'one', 'non', 'academic', 'budget', 'item', 'that', 'could', 'be', 'dropped', 'all', 'of', 'that', 'is', 'contributing', 'to', 'why', 'this', 'movement', 'is', 'really', 'catching', 'on', 'hinger', 'said', 'kids', 'need', 'to', 'talk', 'about', 'george', 'floyd', 'with', 'coronavirus', 'school', 'closures', 'it', 'hard', 'to', 'do', 'seattle', 'public', 'schools', 'announced', 'this', 'week', 'that', 'it', 'would', 'suspend', 'officers', 'from', 'schools', 'for', 'one', 'year', 'in', 'oakland', 'wednesday', 'the', 'school', 'superintendent', 'joined', 'the', 'majority', 'of', 'the', 'school', 'board', 'in', 'backing', 'the', 'elimination', 'of', 'the', 'district', 'in', 'house', 'police', 'force', 'one', 'idea', 'is', 'to', 'replace', 'it', 'with', 'non', 'uniformed', 'ambassadors', 'to', 'keep', 'the', 'peace', 'in', 'schools', 'black', 'students', 'account', 'for', 'of', 'the', 'students', 'arrested', 'in', 'oakland', 'schools', 'while', 'only', 'making', 'up', 'of', 'the', 'district', 'population', 'according', 'to', 'the', 'black', 'organizing', 'project', 'local', 'advocacy', 'group', 'oakland', 'board', 'is', 'slated', 'to', 'vote', 'on', 'eliminating', 'the', 'police', 'force', 'on', 'june', 'some', 'districts', 'are', 'less', 'inclined', 'to', 'remove', 'officers', 'the', 'chicago', 'teachers', 'union', 'has', 'reinvigorated', 'its', 'call', 'for', 'the', 'city', 'to', 'replace', 'school', 'resource', 'officers', 'with', 'counselors', 'but', 'mayor', 'lori', 'lightfoot', 'who', 'runs', 'the', 'city', 'as', 'well', 'as', 'the', 'district', 'indicated', 'she', 'not', 'interested', 'in', 'dumping', 'the', 'million', 'contract', 'with', 'the', 'chicago', 'police', 'department', 'more', 'than', 'three', 'quarters', 'of', 'the', 'city', 'high', 'schools', 'have', 'police', 'in', 'them', 'and', 'the', 'local', 'parent', 'and', 'teacher', 'councils', 'at', 'all', 'of', 'them', 'voted', 'to', 'keep', 'the', 'officers', 'this', 'year', 'according', 'to', 'local', 'news', 'reports', 'unfortunately', 'we', 'need', 'security', 'in', 'our', 'schools', 'lightfoot', 'said', 'in', 'protest', 'chicago', 'teachers', 'and', 'students', 'have', 'recently', 'staged', 'marches', 'and', 'car', 'caravan', 'parades', 'between', 'high', 'schools', 'chicago', 'protests', 'kanye', 'west', 'joins', 'march', 'offers', 'to', 'pay', 'legal', 'fees', 'for', 'breonna', 'taylor', 'family', 'in', 'los', 'angeles', 'the', 'teachers', 'union', 'said', 'monday', 'it', 'supports', 'ending', 'the', 'district', 'in', 'house', 'police', 'force', 'the', 'unit', 'places', 'about', 'officers', 'throughout', 'the', 'nation', 'second', 'largest', 'school', 'district', 'at', 'cost', 'of', 'about', 'million', 'annually', 'but', 'the', 'head', 'of', 'the', 'district', 'school', 'police', 'union', 'said', 'officers', 'are', 'better', 'trained', 'to', 'de', 'escalate', 'situations', 'in', 'buildings', 'than', 'outside', 'cops', 'called', 'to', 'campus', 'according', 'to', 'the', 'los', 'angeles', 'times', 'in', 'phoenix', 'hundreds', 'of', 'students', 'have', 'been', 'protesting', 'the', 'use', 'of', 'on', 'campus', 'police', 'officers', 'but', 'the', 'school', 'board', 'has', 'not', 'yet', 'taken', 'vote', 'on', 'whether', 'to', 'renew', 'the', 'contract', 'there', 'not', 'much', 'good', 'data', 'on', 'what', 'happens', 'when', 'you', 'remove', 'police', 'officers', 'from', 'schools', 'but', 'new', 'york', 'and', 'louisville', 'have', 'tried', 'some', 'new', 'ideas', 'decade', 'ago', 'report', 'from', 'new', 'york', 'city', 'examined', 'how', 'handful', 'of', 'high', 'schools', 'serving', 'at', 'risk', 'students', 'maintained', 'safe', 'environments', 'without', 'police', 'district', 'safety', 'agents', 'patrolled', 'halls', 'instead', 'metal', 'detectors', 'were', 'removed', 'administrators', 'created', 'alternatives', 'to', 'harsh', 'discipline', 'policies', 'the', 'aclu', 'which', 'published', 'the', 'report', 'is', 'notably', 'in', 'favor', 'of', 'removing', 'police', 'from', 'schools', 'in', 'louisville', 'kentucky', 'the', 'jefferson', 'county', 'public', 'schools', 'cut', 'ties', 'with', 'school', 'resource', 'officers', 'last', 'august', 'because', 'of', 'issues', 'related', 'to', 'the', 'criminalization', 'of', 'black', 'students', 'the', 'district', 'this', 'week', 'couldn', 'provide', 'comparison', 'of', 'school', 'arrest', 'data', 'from', 'before', 'and', 'after', 'police', 'were', 'removed', 'but', 'in', 'general', 'according', 'to', 'the', 'louisville', 'courier', 'journal', 'school', 'safety', 'hasn', 'changed', 'much', 'though', 'one', 'school', 'made', 'headlines', 'for', 'some', 'high', 'profile', 'student', 'on', 'teacher', 'altercations', 'louisville', 'has', 'seen', 'even', 'more', 'forceful', 'protests', 'than', 'some', 'cities', 'in', 'the', 'wake', 'of', 'the', 'death', 'of', 'breonna', 'taylor', 'who', 'was', 'shot', 'by', 'white', 'police', 'officer', 'in', 'her', 'bedroom', 'in', 'march', 'district', 'spokesperson', 'in', 'jefferson', 'county', 'said', 'this', 'week', 'the', 'district', 'is', 're', 'evaluating', 'its', 'school', 'safety', 'plan', 'which', 'could', 'still', 'include', 'armed', 'guards', 'in', 'schools', 'in', 'florida', 'janice', 'scott', 'cover', 'former', 'assistant', 'superintendent', 'in', 'the', 'palm', 'beach', 'county', 'school', 'district', 'said', 'administrators', 'can', 'also', 'work', 'harder', 'to', 'identify', 'the', 'root', 'cause', 'of', 'student', 'misbehavior', 'whether', 'cops', 'are', 'there', 'or', 'not', 'when', 'she', 'became', 'principal', 'of', 'troubled', 'elementary', 'school', 'two', 'decades', 'ago', 'the', 'school', 'resource', 'officer', 'arrested', 'children', 'for', 'fighting', 'disrespecting', 'teachers', 'and', 'walking', 'out', 'of', 'class', 'not', 'all', 'the', 'resource', 'officers', 'understand', 'how', 'to', 'police', 'in', 'schools', 'cover', 'said', 'some', 'still', 'behave', 'like', 'they', 're', 'out', 'on', 'the', 'street', 'grabbing', 'people', 'and', 'throwing', 'them', 'down', 'and', 'did', 'not', 'want', 'that', 'on', 'the', 'campus', 'cover', 'rearranged', 'the', 'budget', 'to', 'hire', 'another', 'social', 'worker', 'who', 'became', 'the', 'first', 'stop', 'for', 'misbehaving', 'children', 'she', 'had', 'teachers', 'rearrange', 'classrooms', 'so', 'students', 'worked', 'in', 'groups', 'and', 'practiced', 'cooperation', 'she', 'and', 'her', 'teachers', 'doubled', 'down', 'on', 'prodding', 'into', 'students', 'lives', 'often', 'getting', 'them', 'needed', 'household', 'or', 'personal', 'items', 'over', 'time', 'the', 'climate', 'and', 'academics', 'improved', 'something', 'cover', 'recounts', 'in', 'her', 'book', 'about', 'turning', 'around', 'low', 'performing', 'elementary', 'schools', 'happy', 'now', 'that', 'people', 'are', 'beginning', 'to', 'look', 'at', 'this', 'said', 'cover', 'who', 'is', 'black', 'my', 'hope', 'is', 'that', 'you', 'don', 'just', 'remove', 'the', 'police', 'officers', 'but', 'replace', 'them', 'with', 'something', 'else', 'like', 'counselors', 'or', 'mental', 'health', 'professionals', 'or', 'school', 'psychologists', 'olivia', 'krauth', 'contributed', 'to', 'this', 'story', 'from', 'louisville', 'kentucky', 'lily', 'altavena', 'contributed', 'from', 'phoenix', 'arizona', 'education', 'coverage', 'at', 'usa', 'today', 'is', 'made', 'possible', 'in', 'part', 'by', 'grant', 'from', 'the', 'bill', 'melinda', 'gates', 'foundation', 'the', 'gates', 'foundation', 'does', 'not', 'provide', 'editorial', 'input', 'three', 'summers', 'ago', 'about', 'students', 'and', 'activists', 'gathered', 'outside', 'the', 'minneapolis', 'public', 'schools', 'headquarters', 'to', 'demand', 'the', 'school', 'board', 'end', 'contract', 'that', 'placed', 'police', 'officers', 'in', 'schools', 'the', 'officers', 'whose', 'role', 'was', 'to', 'keep', 'schools', 'safe', 'actually', 'made', 'students', 'especially', 'black', 'students', 'feel', 'criminalized', 'activists', 'said', 'but', 'the', 'majority', 'of', 'teachers', 'staff', 'and', 'parents', 'liked', 'officers', 'in', 'schools', 'district', 'wide', 'survey', 'showed', 'at', 'the', 'time', 'the', 'board', 'renewed', 'the', 'three', 'year', 'contract', 'fast', 'forward', 'to', 'june', 'eight', 'days', 'after', 'george', 'floyd', 'died', 'under', 'the', 'knee', 'of', 'minneapolis', 'police', 'officer', 'the', 'school', 'board', 'revisited', 'that', 'contract', 'and', 'ended', 'it', 'the', 'vote', 'on', 'june', 'after', 'an', 'even', 'larger', 'crowd', 'of', 'protesters', 'gathered', 'outside', 'was', 'unanimous', 'the', 'values', 'we', 'see', 'in', 'the', 'police', 'department', 'do', 'not', 'match', 'our', 'values', 'said', 'kim', 'ellison', 'chair', 'of', 'the', 'minneapolis', 'school', 'board', 'the', 'school', 'board', 'became', 'one', 'of', 'the', 'first', 'major', 'governmental', 'bodies', 'to', 'change', 'the', 'balance', 'of', 'power', 'with', 'police', 'in', 'the', 'wake', 'of', 'floyd', 'death', 'the', 'change', 'has', 'prompted', 'wave', 'of', 'districts', 'nationwide', 'to', 'consider', 'terminating', 'their', 'relationships', 'with', 'police', 'from', 'chicago', 'new', 'york', 'and', 'los', 'angeles', 'to', 'smaller', 'cities', 'like', 'rochester', 'new', 'york', 'columbus', 'ohio', 'and', 'portland', 'maine', 'and', 'fort', 'collins', 'colorado', 'students', 'and', 'activists', 'are', 'demanding', 'the', 'discontinuation', 'of', 'school', 'resource', 'officers', 'they', 'want', 'the', 'money', 'spent', 'on', 'those', 'programs', 'to', 'go', 'to', 'other', 'peacekeeping', 'strategies', 'teen', 'activists', 'too', 'young', 'to', 'vote', 'in', 'but', 'fighting', 'for', 'change', 'police', 'in', 'schools', 'contribute', 'to', 'the', 'marginalization', 'of', 'students', 'of', 'color', 'they', 'say', 'that', 'because', 'schools', 'with', 'large', 'populations', 'of', 'black', 'and', 'brown', 'students', 'are', 'more', 'likely', 'to', 'have', 'law', 'enforcement', 'on', 'site', 'and', 'in', 'those', 'places', 'students', 'are', 'more', 'likely', 'to', 'be', 'arrested', 'for', 'certain', 'behaviors', 'rather', 'than', 'disciplined', 'by', 'an', 'administrator', 'last', 'week', 'portland', 'oregon', 'school', 'superintendent', 'announced', 'he', 'planned', 'to', 'remove', 'police', 'from', 'schools', 'denver', 'school', 'board', 'is', 'slated', 'to', 'vote', 'thursday', 'on', 'ending', 'contract', 'for', 'uniformed', 'officers', 'in', 'oakland', 'california', 'the', 'majority', 'of', 'the', 'school', 'board', 'and', 'superintendent', 'wednesday', 'backed', 'proposal', 'to', 'eliminate', 'the', 'district', 'million', 'internal', 'police', 'force', 'despite', 'concerns', 'from', 'some', 'principals', 'according', 'to', 'the', 'san', 'francisco', 'chronicle', 'advocates', 'for', 'school', 'resource', 'officers', 'say', 'the', 'problem', 'lies', 'with', 'inconsistent', 'training', 'for', 'law', 'enforcement', 'on', 'how', 'to', 'work', 'with', 'students', 'making', 'rash', 'moves', 'to', 'end', 'the', 'programs', 'because', 'of', 'political', 'and', 'social', 'pressure', 'could', 'make', 'schools', 'less', 'safe', 'they', 'say', 'and', 'also', 'disrupt', 'the', 'opportunity', 'for', 'healthy', 'relationships', 'to', 'grow', 'between', 'law', 'enforcement', 'and', 'students', 'when', 'this', 'is', 'done', 'the', 'right', 'way', 'it', 'the', 'epitome', 'of', 'community', 'based', 'policing', 'said', 'mo', 'canady', 'executive', 'director', 'of', 'the', 'national', 'association', 'of', 'school', 'resource', 'officers', 'that', 'philosophy', 'where', 'police', 'and', 'the', 'community', 'work', 'together', 'to', 'solve', 'crimes', 'and', 'improve', 'everyone', 'quality', 'of', 'life', 'canady', 'organization', 'trains', 'officers', 'how', 'to', 'enforce', 'the', 'law', 'in', 'school', 'setting', 'informally', 'counsel', 'students', 'and', 'act', 'as', 'an', 'educator', 'but', 'nothing', 'requires', 'school', 'resource', 'officers', 'to', 'undergo', 'such', 'training', 'canady', 'said', 'there', 'federal', 'resistance', 'to', 'that', 'idea', 'out', 'of', 'respect', 'for', 'the', 'tradition', 'of', 'local', 'control', 'he', 'added', 'it', 'better', 'if', 'districts', 'would', 'say', 'we', 'need', 'these', 'officers', 'trained', 'on', 'national', 'level', 'canady', 'said', 'nationally', 'protesters', 'seeking', 'justice', 'for', 'floyd', 'want', 'to', 'reduce', 'city', 'police', 'department', 'budgets', 'and', 'redirect', 'more', 'money', 'to', 'social', 'services', 'but', 'what', 'happening', 'at', 'schools', 'offers', 'window', 'into', 'the', 'relationship', 'between', 'law', 'enforcement', 'and', 'youth', 'while', 'police', 'have', 'been', 'stationed', 'in', 'schools', 'for', 'decades', 'they', 'don', 'make', 'schools', 'overwhelmingly', 'more', 'safe', 'studies', 'show', 'review', 'of', 'the', 'most', 'comprehensive', 'studies', 'on', 'school', 'based', 'law', 'enforcement', 'showed', 'the', 'officers', 'did', 'not', 'improve', 'students', 'perception', 'of', 'safety', 'and', 'out', 'of', 'school', 'suspensions', 'and', 'expulsions', 'increased', 'after', 'school', 'resource', 'officers', 'were', 'introduced', 'to', 'building', 'it', 'not', 'like', 'there', 'really', 'strong', 'research', 'base', 'that', 'says', 'with', 'police', 'in', 'schools', 'crime', 'goes', 'down', 'and', 'bullying', 'goes', 'down', 'and', 'there', 'are', 'no', 'shootings', 'said', 'anthony', 'petrosino', 'director', 'of', 'the', 'justice', 'and', 'prevention', 'research', 'center', 'at', 'wested', 'nonpartisan', 'research', 'organization', 'that', 'focuses', 'on', 'education', 'school', 'policing', 'is', 'much', 'more', 'common', 'in', 'schools', 'with', 'kids', 'of', 'color', 'petrosino', 'added', 'there', 'real', 'question', 'of', 'whether', 'it', 'helping', 'or', 'hurting', 'is', 'it', 'leading', 'to', 'more', 'of', 'these', 'kids', 'being', 'involved', 'in', 'the', 'justice', 'system', 'or', 'being', 'kicked', 'out', 'of', 'school', 'one', 'big', 'problem', 'is', 'children', 'of', 'racial', 'minorities', 'especially', 'black', 'students', 'are', 'more', 'likely', 'to', 'be', 'suspended', 'and', 'expelled', 'from', 'school', 'than', 'white', 'students', 'even', 'when', 'they', 'commit', 'similar', 'offenses', 'research', 'shows', 'pushed', 'out', 'and', 'punished', 'black', 'girls', 'punished', 'more', 'harshly', 'than', 'white', 'girls', 'and', 'of', 'the', 'approximate', 'million', 'students', 'in', 'america', 'attending', 'schools', 'with', 'police', 'officers', 'but', 'no', 'counselors', 'more', 'of', 'those', 'students', 'are', 'black', 'than', 'white', 'by', 'contrast', 'white', 'students', 'are', 'more', 'likely', 'to', 'attend', 'schools', 'with', 'counselors', 'but', 'not', 'police', 'federal', 'data', 'show', 'on', 'top', 'of', 'that', 'number', 'of', 'high', 'profile', 'incidents', 'in', 'recent', 'years', 'have', 'put', 'spotlight', 'on', 'police', 'brutality', 'toward', 'black', 'kids', 'and', 'teens', 'inside', 'and', 'outside', 'of', 'school', 'white', 'school', 'resource', 'officer', 'in', 'south', 'carolina', 'high', 'school', 'flipped', 'black', 'girl', 'out', 'of', 'her', 'desk', 'and', 'dragged', 'her', 'across', 'the', 'floor', 'in', 'black', 'school', 'resource', 'officer', 'in', 'orlando', 'arrested', 'sobbing', 'year', 'old', 'black', 'student', 'in', 'september', 'securing', 'her', 'with', 'zip', 'ties', 'because', 'she', 'was', 'too', 'small', 'for', 'handcuffs', 'white', 'officer', 'in', 'ferguson', 'missouri', 'shot', 'and', 'killed', 'michael', 'brown', 'an', 'unarmed', 'year', 'old', 'black', 'man', 'in', 'the', 'street', 'in', 'later', 'that', 'year', 'white', 'officer', 'in', 'cleveland', 'ohio', 'shot', 'and', 'killed', 'tamir', 'rice', 'year', 'old', 'black', 'boy', 'rice', 'had', 'been', 'playing', 'with', 'toy', 'gun', 'outside', 'recreation', 'center', 'change', 'in', 'ferguson', 'city', 'elects', 'first', 'black', 'female', 'mayor', 'years', 'after', 'michael', 'brown', 'death', 'in', 'the', 'only', 'of', 'schools', 'had', 'law', 'enforcement', 'officer', 'stationed', 'in', 'them', 'according', 'to', 'federal', 'data', 'now', 'of', 'schools', 'have', 'police', 'officer', 'in', 'the', 'building', 'at', 'least', 'one', 'day', 'week', 'according', 'to', 'the', 'most', 'recent', 'federal', 'data', 'and', 'among', 'large', 'schools', 'almost', 'had', 'sworn', 'officer', 'in', 'the', 'building', 'at', 'least', 'one', 'day', 'week', 'in', 'the', 'school', 'year', 'the', 'number', 'of', 'officers', 'in', 'schools', 'accelerated', 'rapidly', 'after', 'the', 'year', 'of', 'the', 'shooting', 'at', 'columbine', 'high', 'school', 'in', 'colorado', 'the', 'massacre', 'spurred', 'national', 'discussion', 'about', 'school', 'safety', 'and', 'boost', 'in', 'federal', 'funds', 'helped', 'pay', 'for', 'more', 'cops', 'in', 'schools', 'years', 'after', 'columbine', 'survivors', 'find', 'that', 'new', 'normal', 'between', 'and', 'program', 'started', 'under', 'the', 'clinton', 'administration', 'doled', 'out', 'million', 'in', 'grants', 'to', 'police', 'departments', 'to', 'support', 'hiring', 'thousands', 'more', 'school', 'resource', 'officers', 'since', 'then', 'law', 'enforcement', 'in', 'schools', 'seemed', 'like', 'the', 'one', 'thing', 'that', 'district', 'leaders', 'would', 'not', 'change', 'said', 'aaron', 'kupchik', 'professor', 'of', 'sociology', 'and', 'criminal', 'justice', 'at', 'the', 'university', 'of', 'delaware', 'we', 'typically', 'don', 'even', 'discuss', 'it', 'because', 'it', 'common', 'assumption', 'they', 're', 'here', 'to', 'stay', 'kupchik', 'said', 'so', 'people', 'focus', 'on', 'how', 'to', 'make', 'it', 'less', 'harmful', 'like', 'by', 'ending', 'zero', 'tolerance', 'policies', 'and', 'adding', 'more', 'restorative', 'justice', 'programs', 'under', 'zero', 'tolerance', 'students', 'who', 'break', 'school', 'rules', 'are', 'subject', 'to', 'mandatory', 'severe', 'consequences', 'such', 'as', 'being', 'expelled', 'restorative', 'justice', 'programs', 'offer', 'misbehaving', 'students', 'chance', 'to', 'take', 'ownership', 'of', 'their', 'actions', 'talk', 'through', 'what', 'prompted', 'them', 'and', 'repair', 'harm', 'they', 've', 'caused', 'to', 'others', 'restorative', 'justice', 'how', 'circle', 'keeping', 'works', 'at', 'one', 'midwestern', 'school', 'despite', 'talks', 'of', 'reform', 'students', 'social', 'justice', 'groups', 'and', 'the', 'american', 'civil', 'liberties', 'union', 'have', 'been', 'working', 'for', 'years', 'to', 'end', 'school', 'policing', 'long', 'before', 'the', 'calls', 'emerged', 'as', 'part', 'of', 'the', 'floyd', 'protests', 'that', 'key', 'reason', 'districts', 'are', 'taking', 'action', 'now', 'said', 'sarah', 'hinger', 'senior', 'staff', 'attorney', 'for', 'the', 'aclu', 'racial', 'justice', 'program', 'another', 'reason', 'school', 'districts', 'are', 'more', 'inclined', 'now', 'to', 'remove', 'police', 'officers', 'money', 'districts', 'are', 'facing', 'major', 'financial', 'shortfalls', 'because', 'of', 'the', 'covid', 'pandemic', 'and', 'loss', 'of', 'tax', 'revenue', 'because', 'of', 'the', 'economic', 'shutdown', 'it', 'widely', 'acknowledged', 'that', 'low', 'income', 'children', 'group', 'that', 'includes', 'many', 'black', 'and', 'brown', 'children', 'will', 'need', 'more', 'support', 'to', 'get', 'back', 'on', 'track', 'once', 'schools', 'reopen', 'many', 'haven', 'had', 'access', 'to', 'all', 'the', 'tools', 'needed', 'for', 'online', 'learning', 'such', 'as', 'high', 'speed', 'internet', 'or', 'their', 'own', 'computer', 'police', 'contracts', 'are', 'one', 'non', 'academic', 'budget', 'item', 'that', 'could', 'be', 'dropped', 'all', 'of', 'that', 'is', 'contributing', 'to', 'why', 'this', 'movement', 'is', 'really', 'catching', 'on', 'hinger', 'said', 'kids', 'need', 'to', 'talk', 'about', 'george', 'floyd', 'with', 'coronavirus', 'school', 'closures', 'it', 'hard', 'to', 'do', 'seattle', 'public', 'schools', 'announced', 'this', 'week', 'that', 'it', 'would', 'suspend', 'officers', 'from', 'schools', 'for', 'one', 'year', 'in', 'oakland', 'wednesday', 'the', 'school', 'superintendent', 'joined', 'the', 'majority', 'of', 'the', 'school', 'board', 'in', 'backing', 'the', 'elimination', 'of', 'the', 'district', 'in', 'house', 'police', 'force', 'one', 'idea', 'is', 'to', 'replace', 'it', 'with', 'non', 'uniformed', 'ambassadors', 'to', 'keep', 'the', 'peace', 'in', 'schools', 'black', 'students', 'account', 'for', 'of', 'the', 'students', 'arrested', 'in', 'oakland', 'schools', 'while', 'only', 'making', 'up', 'of', 'the', 'district', 'population', 'according', 'to', 'the', 'black', 'organizing', 'project', 'local', 'advocacy', 'group', 'oakland', 'board', 'is', 'slated', 'to', 'vote', 'on', 'eliminating', 'the', 'police', 'force', 'on', 'june', 'some', 'districts', 'are', 'less', 'inclined', 'to', 'remove', 'officers', 'the', 'chicago', 'teachers', 'union', 'has', 'reinvigorated', 'its', 'call', 'for', 'the', 'city', 'to', 'replace', 'school', 'resource', 'officers', 'with', 'counselors', 'but', 'mayor', 'lori', 'lightfoot', 'who', 'runs', 'the', 'city', 'as', 'well', 'as', 'the', 'district', 'indicated', 'she', 'not', 'interested', 'in', 'dumping', 'the', 'million', 'contract', 'with', 'the', 'chicago', 'police', 'department', 'more', 'than', 'three', 'quarters', 'of', 'the', 'city', 'high', 'schools', 'have', 'police', 'in', 'them', 'and', 'the', 'local', 'parent', 'and', 'teacher', 'councils', 'at', 'all', 'of', 'them', 'voted', 'to', 'keep', 'the', 'officers', 'this', 'year', 'according', 'to', 'local', 'news', 'reports', 'unfortunately', 'we', 'need', 'security', 'in', 'our', 'schools', 'lightfoot', 'said', 'in', 'protest', 'chicago', 'teachers', 'and', 'students', 'have', 'recently', 'staged', 'marches', 'and', 'car', 'caravan', 'parades', 'between', 'high', 'schools', 'chicago', 'protests', 'kanye', 'west', 'joins', 'march', 'offers', 'to', 'pay', 'legal', 'fees', 'for', 'breonna', 'taylor', 'family', 'in', 'los', 'angeles', 'the', 'teachers', 'union', 'said', 'monday', 'it', 'supports', 'ending', 'the', 'district', 'in', 'house', 'police', 'force', 'the', 'unit', 'places', 'about', 'officers', 'throughout', 'the', 'nation', 'second', 'largest', 'school', 'district', 'at', 'cost', 'of', 'about', 'million', 'annually', 'but', 'the', 'head', 'of', 'the', 'district', 'school', 'police', 'union', 'said', 'officers', 'are', 'better', 'trained', 'to', 'de', 'escalate', 'situations', 'in', 'buildings', 'than', 'outside', 'cops', 'called', 'to', 'campus', 'according', 'to', 'the', 'los', 'angeles', 'times', 'in', 'phoenix', 'hundreds', 'of', 'students', 'have', 'been', 'protesting', 'the', 'use', 'of', 'on', 'campus', 'police', 'officers', 'but', 'the', 'school', 'board', 'has', 'not', 'yet', 'taken', 'vote', 'on', 'whether', 'to', 'renew', 'the', 'contract', 'there', 'not', 'much', 'good', 'data', 'on', 'what', 'happens', 'when', 'you', 'remove', 'police', 'officers', 'from', 'schools', 'but', 'new', 'york', 'and', 'louisville', 'have', 'tried', 'some', 'new', 'ideas', 'decade', 'ago', 'report', 'from', 'new', 'york', 'city', 'examined', 'how', 'handful', 'of', 'high', 'schools', 'serving', 'at', 'risk', 'students', 'maintained', 'safe', 'environments', 'without', 'police', 'district', 'safety', 'agents', 'patrolled', 'halls', 'instead', 'metal', 'detectors', 'were', 'removed', 'administrators', 'created', 'alternatives', 'to', 'harsh', 'discipline', 'policies', 'the', 'aclu', 'which', 'published', 'the', 'report', 'is', 'notably', 'in', 'favor', 'of', 'removing', 'police', 'from', 'schools', 'in', 'louisville', 'kentucky', 'the', 'jefferson', 'county', 'public', 'schools', 'cut', 'ties', 'with', 'school', 'resource', 'officers', 'last', 'august', 'because', 'of', 'issues', 'related', 'to', 'the', 'criminalization', 'of', 'black', 'students', 'the', 'district', 'this', 'week', 'couldn', 'provide', 'comparison', 'of', 'school', 'arrest', 'data', 'from', 'before', 'and', 'after', 'police', 'were', 'removed', 'but', 'in', 'general', 'according', 'to', 'the', 'louisville', 'courier', 'journal', 'school', 'safety', 'hasn', 'changed', 'much', 'though', 'one', 'school', 'made', 'headlines', 'for', 'some', 'high', 'profile', 'student', 'on', 'teacher', 'altercations', 'louisville', 'has', 'seen', 'even', 'more', 'forceful', 'protests', 'than', 'some', 'cities', 'in', 'the', 'wake', 'of', 'the', 'death', 'of', 'breonna', 'taylor', 'who', 'was', 'shot', 'by', 'white', 'police', 'officer', 'in', 'her', 'bedroom', 'in', 'march', 'district', 'spokesperson', 'in', 'jefferson', 'county', 'said', 'this', 'week', 'the', 'district', 'is', 're', 'evaluating', 'its', 'school', 'safety', 'plan', 'which', 'could', 'still', 'include', 'armed', 'guards', 'in', 'schools', 'in', 'florida', 'janice', 'scott', 'cover', 'former', 'assistant', 'superintendent', 'in', 'the', 'palm', 'beach', 'county', 'school', 'district', 'said', 'administrators', 'can', 'also', 'work', 'harder', 'to', 'identify', 'the', 'root', 'cause', 'of', 'student', 'misbehavior', 'whether', 'cops', 'are', 'there', 'or', 'not', 'when', 'she', 'became', 'principal', 'of', 'troubled', 'elementary', 'school', 'two', 'decades', 'ago', 'the', 'school', 'resource', 'officer', 'arrested', 'children', 'for', 'fighting', 'disrespecting', 'teachers', 'and', 'walking', 'out', 'of', 'class', 'not', 'all', 'the', 'resource', 'officers', 'understand', 'how', 'to', 'police', 'in', 'schools', 'cover', 'said', 'some', 'still', 'behave', 'like', 'they', 're', 'out', 'on', 'the', 'street', 'grabbing', 'people', 'and', 'throwing', 'them', 'down', 'and', 'did', 'not', 'want', 'that', 'on', 'the', 'campus', 'cover', 'rearranged', 'the', 'budget', 'to', 'hire', 'another', 'social', 'worker', 'who', 'became', 'the', 'first', 'stop', 'for', 'misbehaving', 'children', 'she', 'had', 'teachers', 'rearrange', 'classrooms', 'so', 'students', 'worked', 'in', 'groups', 'and', 'practiced', 'cooperation', 'she', 'and', 'her', 'teachers', 'doubled', 'down', 'on', 'prodding', 'into', 'students', 'lives', 'often', 'getting', 'them', 'needed', 'household', 'or', 'personal', 'items', 'over', 'time', 'the', 'climate', 'and', 'academics', 'improved', 'something', 'cover', 'recounts', 'in', 'her', 'book', 'about', 'turning', 'around', 'low', 'performing', 'elementary', 'schools', 'happy', 'now', 'that', 'people', 'are', 'beginning', 'to', 'look', 'at', 'this', 'said', 'cover', 'who', 'is', 'black', 'my', 'hope', 'is', 'that', 'you', 'don', 'just', 'remove', 'the', 'police', 'officers', 'but', 'replace', 'them', 'with', 'something', 'else', 'like', 'counselors', 'or', 'mental', 'health', 'professionals', 'or', 'school', 'psychologists', 'olivia', 'krauth', 'contributed', 'to', 'this', 'story', 'from', 'louisville', 'kentucky', 'lily', 'altavena', 'contributed', 'from', 'phoenix', 'arizona', 'education', 'coverage', 'at', 'usa', 'today', 'is', 'made', 'possible', 'in', 'part', 'by', 'grant', 'from', 'the', 'bill', 'melinda', 'gates', 'foundation', 'the', 'gates', 'foundation', 'does', 'not', 'provide', 'editorial', 'input', 'three', 'summers', 'ago', 'about', 'students', 'and', 'activists', 'gathered', 'outside', 'the', 'minneapolis', 'public', 'schools', 'headquarters', 'to', 'demand', 'the', 'school', 'board', 'end', 'contract', 'that', 'placed', 'police', 'officers', 'in', 'schools', 'the', 'officers', 'whose', 'role', 'was', 'to', 'keep', 'schools', 'safe', 'actually', 'made', 'students', 'especially', 'black', 'students', 'feel', 'criminalized', 'activists', 'said', 'but', 'the', 'majority', 'of', 'teachers', 'staff', 'and', 'parents', 'liked', 'officers', 'in', 'schools', 'district', 'wide', 'survey', 'showed', 'at', 'the', 'time', 'the', 'board', 'renewed', 'the', 'three', 'year', 'contract', 'fast', 'forward', 'to', 'june', 'eight', 'days', 'after', 'george', 'floyd', 'died', 'under', 'the', 'knee', 'of', 'minneapolis', 'police', 'officer', 'the', 'school', 'board', 'revisited', 'that', 'contract', 'and', 'ended', 'it', 'the', 'vote', 'on', 'june', 'after', 'an', 'even', 'larger', 'crowd', 'of', 'protesters', 'gathered', 'outside', 'was', 'unanimous', 'the', 'values', 'we', 'see', 'in', 'the', 'police', 'department', 'do', 'not', 'match', 'our', 'values', 'said', 'kim', 'ellison', 'chair', 'of', 'the', 'minneapolis', 'school', 'board', 'the', 'school', 'board', 'became', 'one', 'of', 'the', 'first', 'major', 'governmental', 'bodies', 'to', 'change', 'the', 'balance', 'of', 'power', 'with', 'police', 'in', 'the', 'wake', 'of', 'floyd', 'death', 'the', 'change', 'has', 'prompted', 'wave', 'of', 'districts', 'nationwide', 'to', 'consider', 'terminating', 'their', 'relationships', 'with', 'police', 'from', 'chicago', 'new', 'york', 'and', 'los', 'angeles', 'to', 'smaller', 'cities', 'like', 'rochester', 'new', 'york', 'columbus', 'ohio', 'and', 'portland', 'maine', 'and', 'fort', 'collins', 'colorado', 'students', 'and', 'activists', 'are', 'demanding', 'the', 'discontinuation', 'of', 'school', 'resource', 'officers', 'they', 'want', 'the', 'money', 'spent', 'on', 'those', 'programs', 'to', 'go', 'to', 'other', 'peacekeeping', 'strategies', 'teen', 'activists', 'too', 'young', 'to', 'vote', 'in', 'but', 'fighting', 'for', 'change', 'police', 'in', 'schools', 'contribute', 'to', 'the', 'marginalization', 'of', 'students', 'of', 'color', 'they', 'say', 'that', 'because', 'schools', 'with', 'large', 'populations', 'of', 'black', 'and', 'brown', 'students', 'are', 'more', 'likely', 'to', 'have', 'law', 'enforcement', 'on', 'site', 'and', 'in', 'those', 'places', 'students', 'are', 'more', 'likely', 'to', 'be', 'arrested', 'for', 'certain', 'behaviors', 'rather', 'than', 'disciplined', 'by', 'an', 'administrator', 'last', 'week', 'portland', 'oregon', 'school', 'superintendent', 'announced', 'he', 'planned', 'to', 'remove', 'police', 'from', 'schools', 'denver', 'school', 'board', 'is', 'slated', 'to', 'vote', 'thursday', 'on', 'ending', 'contract', 'for', 'uniformed', 'officers', 'in', 'oakland', 'california', 'the', 'majority', 'of', 'the', 'school', 'board', 'and', 'superintendent', 'wednesday', 'backed', 'proposal', 'to', 'eliminate', 'the', 'district', 'million', 'internal', 'police', 'force', 'despite', 'concerns', 'from', 'some', 'principals', 'according', 'to', 'the', 'san', 'francisco', 'chronicle', 'advocates', 'for', 'school', 'resource', 'officers', 'say', 'the', 'problem', 'lies', 'with', 'inconsistent', 'training', 'for', 'law', 'enforcement', 'on', 'how', 'to', 'work', 'with', 'students', 'making', 'rash', 'moves', 'to', 'end', 'the', 'programs', 'because', 'of', 'political', 'and', 'social', 'pressure', 'could', 'make', 'schools', 'less', 'safe', 'they', 'say', 'and', 'also', 'disrupt', 'the', 'opportunity', 'for', 'healthy', 'relationships', 'to', 'grow', 'between', 'law', 'enforcement', 'and', 'students', 'when', 'this', 'is', 'done', 'the', 'right', 'way', 'it', 'the', 'epitome', 'of', 'community', 'based', 'policing', 'said', 'mo', 'canady', 'executive', 'director', 'of', 'the', 'national', 'association', 'of', 'school', 'resource', 'officers', 'that', 'philosophy', 'where', 'police', 'and', 'the', 'community', 'work', 'together', 'to', 'solve', 'crimes', 'and', 'improve', 'everyone', 'quality', 'of', 'life', 'canady', 'organization', 'trains', 'officers', 'how', 'to', 'enforce', 'the', 'law', 'in', 'school', 'setting', 'informally', 'counsel', 'students', 'and', 'act', 'as', 'an', 'educator', 'but', 'nothing', 'requires', 'school', 'resource', 'officers', 'to', 'undergo', 'such', 'training', 'canady', 'said', 'there', 'federal', 'resistance', 'to', 'that', 'idea', 'out', 'of', 'respect', 'for', 'the', 'tradition', 'of', 'local', 'control', 'he', 'added', 'it', 'better', 'if', 'districts', 'would', 'say', 'we', 'need', 'these', 'officers', 'trained', 'on', 'national', 'level', 'canady', 'said', 'nationally', 'protesters', 'seeking', 'justice', 'for', 'floyd', 'want', 'to', 'reduce', 'city', 'police', 'department', 'budgets', 'and', 'redirect', 'more', 'money', 'to', 'social', 'services', 'but', 'what', 'happening', 'at', 'schools', 'offers', 'window', 'into', 'the', 'relationship', 'between', 'law', 'enforcement', 'and', 'youth', 'while', 'police', 'have', 'been', 'stationed', 'in', 'schools', 'for', 'decades', 'they', 'don', 'make', 'schools', 'overwhelmingly', 'more', 'safe', 'studies', 'show', 'review', 'of', 'the', 'most', 'comprehensive', 'studies', 'on', 'school', 'based', 'law', 'enforcement', 'showed', 'the', 'officers', 'did', 'not', 'improve', 'students', 'perception', 'of', 'safety', 'and', 'out', 'of', 'school', 'suspensions', 'and', 'expulsions', 'increased', 'after', 'school', 'resource', 'officers', 'were', 'introduced', 'to', 'building', 'it', 'not', 'like', 'there', 'really', 'strong', 'research', 'base', 'that', 'says', 'with', 'police', 'in', 'schools', 'crime', 'goes', 'down', 'and', 'bullying', 'goes', 'down', 'and', 'there', 'are', 'no', 'shootings', 'said', 'anthony', 'petrosino', 'director', 'of', 'the', 'justice', 'and', 'prevention', 'research', 'center', 'at', 'wested', 'nonpartisan', 'research', 'organization', 'that', 'focuses', 'on', 'education', 'school', 'policing', 'is', 'much', 'more', 'common', 'in', 'schools', 'with', 'kids', 'of', 'color', 'petrosino', 'added', 'there', 'real', 'question', 'of', 'whether', 'it', 'helping', 'or', 'hurting', 'is', 'it', 'leading', 'to', 'more', 'of', 'these', 'kids', 'being', 'involved', 'in', 'the', 'justice', 'system', 'or', 'being', 'kicked', 'out', 'of', 'school', 'one', 'big', 'problem', 'is', 'children', 'of', 'racial', 'minorities', 'especially', 'black', 'students', 'are', 'more', 'likely', 'to', 'be', 'suspended', 'and', 'expelled', 'from', 'school', 'than', 'white', 'students', 'even', 'when', 'they', 'commit', 'similar', 'offenses', 'research', 'shows', 'pushed', 'out', 'and', 'punished', 'black', 'girls', 'punished', 'more', 'harshly', 'than', 'white', 'girls', 'and', 'of', 'the', 'approximate', 'million', 'students', 'in', 'america', 'attending', 'schools', 'with', 'police', 'officers', 'but', 'no', 'counselors', 'more', 'of', 'those', 'students', 'are', 'black', 'than', 'white', 'by', 'contrast', 'white', 'students', 'are', 'more', 'likely', 'to', 'attend', 'schools', 'with', 'counselors', 'but', 'not', 'police', 'federal', 'data', 'show', 'on', 'top', 'of', 'that', 'number', 'of', 'high', 'profile', 'incidents', 'in', 'recent', 'years', 'have', 'put', 'spotlight', 'on', 'police', 'brutality', 'toward', 'black', 'kids', 'and', 'teens', 'inside', 'and', 'outside', 'of', 'school', 'white', 'school', 'resource', 'officer', 'in', 'south', 'carolina', 'high', 'school', 'flipped', 'black', 'girl', 'out', 'of', 'her', 'desk', 'and', 'dragged', 'her', 'across', 'the', 'floor', 'in', 'black', 'school', 'resource', 'officer', 'in', 'orlando', 'arrested', 'sobbing', 'year', 'old', 'black', 'student', 'in', 'september', 'securing', 'her', 'with', 'zip', 'ties', 'because', 'she', 'was', 'too', 'small', 'for', 'handcuffs', 'white', 'officer', 'in', 'ferguson', 'missouri', 'shot', 'and', 'killed', 'michael', 'brown', 'an', 'unarmed', 'year', 'old', 'black', 'man', 'in', 'the', 'street', 'in', 'later', 'that', 'year', 'white', 'officer', 'in', 'cleveland', 'ohio', 'shot', 'and', 'killed', 'tamir', 'rice', 'year', 'old', 'black', 'boy', 'rice', 'had', 'been', 'playing', 'with', 'toy', 'gun', 'outside', 'recreation', 'center', 'change', 'in', 'ferguson', 'city', 'elects', 'first', 'black', 'female', 'mayor', 'years', 'after', 'michael', 'brown', 'death', 'in', 'the', 'only', 'of', 'schools', 'had', 'law', 'enforcement', 'officer', 'stationed', 'in', 'them', 'according', 'to', 'federal', 'data', 'now', 'of', 'schools', 'have', 'police', 'officer', 'in', 'the', 'building', 'at', 'least', 'one', 'day', 'week', 'according', 'to', 'the', 'most', 'recent', 'federal', 'data', 'and', 'among', 'large', 'schools', 'almost', 'had', 'sworn', 'officer', 'in', 'the', 'building', 'at', 'least', 'one', 'day', 'week', 'in', 'the', 'school', 'year', 'the', 'number', 'of', 'officers', 'in', 'schools', 'accelerated', 'rapidly', 'after', 'the', 'year', 'of', 'the', 'shooting', 'at', 'columbine', 'high', 'school', 'in', 'colorado', 'the', 'massacre', 'spurred', 'national', 'discussion', 'about', 'school', 'safety', 'and', 'boost', 'in', 'federal', 'funds', 'helped', 'pay', 'for', 'more', 'cops', 'in', 'schools', 'years', 'after', 'columbine', 'survivors', 'find', 'that', 'new', 'normal', 'between', 'and', 'program', 'started', 'under', 'the', 'clinton', 'administration', 'doled', 'out', 'million', 'in', 'grants', 'to', 'police', 'departments', 'to', 'support', 'hiring', 'thousands', 'more', 'school', 'resource', 'officers', 'since', 'then', 'law', 'enforcement', 'in', 'schools', 'seemed', 'like', 'the', 'one', 'thing', 'that', 'district', 'leaders', 'would', 'not', 'change', 'said', 'aaron', 'kupchik', 'professor', 'of', 'sociology', 'and', 'criminal', 'justice', 'at', 'the', 'university', 'of', 'delaware', 'we', 'typically', 'don', 'even', 'discuss', 'it', 'because', 'it', 'common', 'assumption', 'they', 're', 'here', 'to', 'stay', 'kupchik', 'said', 'so', 'people', 'focus', 'on', 'how', 'to', 'make', 'it', 'less', 'harmful', 'like', 'by', 'ending', 'zero', 'tolerance', 'policies', 'and', 'adding', 'more', 'restorative', 'justice', 'programs', 'under', 'zero', 'tolerance', 'students', 'who', 'break', 'school', 'rules', 'are', 'subject', 'to', 'mandatory', 'severe', 'consequences', 'such', 'as', 'being', 'expelled', 'restorative', 'justice', 'programs', 'offer', 'misbehaving', 'students', 'chance', 'to', 'take', 'ownership', 'of', 'their', 'actions', 'talk', 'through', 'what', 'prompted', 'them', 'and', 'repair', 'harm', 'they', 've', 'caused', 'to', 'others', 'restorative', 'justice', 'how', 'circle', 'keeping', 'works', 'at', 'one', 'midwestern', 'school', 'despite', 'talks', 'of', 'reform', 'students', 'social', 'justice', 'groups', 'and', 'the', 'american', 'civil', 'liberties', 'union', 'have', 'been', 'working', 'for', 'years', 'to', 'end', 'school', 'policing', 'long', 'before', 'the', 'calls', 'emerged', 'as', 'part', 'of', 'the', 'floyd', 'protests', 'that', 'key', 'reason', 'districts', 'are', 'taking', 'action', 'now', 'said', 'sarah', 'hinger', 'senior', 'staff', 'attorney', 'for', 'the', 'aclu', 'racial', 'justice', 'program', 'another', 'reason', 'school', 'districts', 'are', 'more', 'inclined', 'now', 'to', 'remove', 'police', 'officers', 'money', 'districts', 'are', 'facing', 'major', 'financial', 'shortfalls', 'because', 'of', 'the', 'covid', 'pandemic', 'and', 'loss', 'of', 'tax', 'revenue', 'because', 'of', 'the', 'economic', 'shutdown', 'it', 'widely', 'acknowledged', 'that', 'low', 'income', 'children', 'group', 'that', 'includes', 'many', 'black', 'and', 'brown', 'children', 'will', 'need', 'more', 'support', 'to', 'get', 'back', 'on', 'track', 'once', 'schools', 'reopen', 'many', 'haven', 'had', 'access', 'to', 'all', 'the', 'tools', 'needed', 'for', 'online', 'learning', 'such', 'as', 'high', 'speed', 'internet', 'or', 'their', 'own', 'computer', 'police', 'contracts', 'are', 'one', 'non', 'academic', 'budget', 'item', 'that', 'could', 'be', 'dropped', 'all', 'of', 'that', 'is', 'contributing', 'to', 'why', 'this', 'movement', 'is', 'really', 'catching', 'on', 'hinger', 'said', 'kids', 'need', 'to', 'talk', 'about', 'george', 'floyd', 'with', 'coronavirus', 'school', 'closures', 'it', 'hard', 'to', 'do', 'seattle', 'public', 'schools', 'announced', 'this', 'week', 'that', 'it', 'would', 'suspend', 'officers', 'from', 'schools', 'for', 'one', 'year', 'in', 'oakland', 'wednesday', 'the', 'school', 'superintendent', 'joined', 'the', 'majority', 'of', 'the', 'school', 'board', 'in', 'backing', 'the', 'elimination', 'of', 'the', 'district', 'in', 'house', 'police', 'force', 'one', 'idea', 'is', 'to', 'replace', 'it', 'with', 'non', 'uniformed', 'ambassadors', 'to', 'keep', 'the', 'peace', 'in', 'schools', 'black', 'students', 'account', 'for', 'of', 'the', 'students', 'arrested', 'in', 'oakland', 'schools', 'while', 'only', 'making', 'up', 'of', 'the', 'district', 'population', 'according', 'to', 'the', 'black', 'organizing', 'project', 'local', 'advocacy', 'group', 'oakland', 'board', 'is', 'slated', 'to', 'vote', 'on', 'eliminating', 'the', 'police', 'force', 'on', 'june', 'some', 'districts', 'are', 'less', 'inclined', 'to', 'remove', 'officers', 'the', 'chicago', 'teachers', 'union', 'has', 'reinvigorated', 'its', 'call', 'for', 'the', 'city', 'to', 'replace', 'school', 'resource', 'officers', 'with', 'counselors', 'but', 'mayor', 'lori', 'lightfoot', 'who', 'runs', 'the', 'city', 'as', 'well', 'as', 'the', 'district', 'indicated', 'she', 'not', 'interested', 'in', 'dumping', 'the', 'million', 'contract', 'with', 'the', 'chicago', 'police', 'department', 'more', 'than', 'three', 'quarters', 'of', 'the', 'city', 'high', 'schools', 'have', 'police', 'in', 'them', 'and', 'the', 'local', 'parent', 'and', 'teacher', 'councils', 'at', 'all', 'of', 'them', 'voted', 'to', 'keep', 'the', 'officers', 'this', 'year', 'according', 'to', 'local', 'news', 'reports', 'unfortunately', 'we', 'need', 'security', 'in', 'our', 'schools', 'lightfoot', 'said', 'in', 'protest', 'chicago', 'teachers', 'and', 'students', 'have', 'recently', 'staged', 'marches', 'and', 'car', 'caravan', 'parades', 'between', 'high', 'schools', 'chicago', 'protests', 'kanye', 'west', 'joins', 'march', 'offers', 'to', 'pay', 'legal', 'fees', 'for', 'breonna', 'taylor', 'family', 'in', 'los', 'angeles', 'the', 'teachers', 'union', 'said', 'monday', 'it', 'supports', 'ending', 'the', 'district', 'in', 'house', 'police', 'force', 'the', 'unit', 'places', 'about', 'officers', 'throughout', 'the', 'nation', 'second', 'largest', 'school', 'district', 'at', 'cost', 'of', 'about', 'million', 'annually', 'but', 'the', 'head', 'of', 'the', 'district', 'school', 'police', 'union', 'said', 'officers', 'are', 'better', 'trained', 'to', 'de', 'escalate', 'situations', 'in', 'buildings', 'than', 'outside', 'cops', 'called', 'to', 'campus', 'according', 'to', 'the', 'los', 'angeles', 'times', 'in', 'phoenix', 'hundreds', 'of', 'students', 'have', 'been', 'protesting', 'the', 'use', 'of', 'on', 'campus', 'police', 'officers', 'but', 'the', 'school', 'board', 'has', 'not', 'yet', 'taken', 'vote', 'on', 'whether', 'to', 'renew', 'the', 'contract', 'there', 'not', 'much', 'good', 'data', 'on', 'what', 'happens', 'when', 'you', 'remove', 'police', 'officers', 'from', 'schools', 'but', 'new', 'york', 'and', 'louisville', 'have', 'tried', 'some', 'new', 'ideas', 'decade', 'ago', 'report', 'from', 'new', 'york', 'city', 'examined', 'how', 'handful', 'of', 'high', 'schools', 'serving', 'at', 'risk', 'students', 'maintained', 'safe', 'environments', 'without', 'police', 'district', 'safety', 'agents', 'patrolled', 'halls', 'instead', 'metal', 'detectors', 'were', 'removed', 'administrators', 'created', 'alternatives', 'to', 'harsh', 'discipline', 'policies', 'the', 'aclu', 'which', 'published', 'the', 'report', 'is', 'notably', 'in', 'favor', 'of', 'removing', 'police', 'from', 'schools', 'in', 'louisville', 'kentucky', 'the', 'jefferson', 'county', 'public', 'schools', 'cut', 'ties', 'with', 'school', 'resource', 'officers', 'last', 'august', 'because', 'of', 'issues', 'related', 'to', 'the', 'criminalization', 'of', 'black', 'students', 'the', 'district', 'this', 'week', 'couldn', 'provide', 'comparison', 'of', 'school', 'arrest', 'data', 'from', 'before', 'and', 'after', 'police', 'were', 'removed', 'but', 'in', 'general', 'according', 'to', 'the', 'louisville', 'courier', 'journal', 'school', 'safety', 'hasn', 'changed', 'much', 'though', 'one', 'school', 'made', 'headlines', 'for', 'some', 'high', 'profile', 'student', 'on', 'teacher', 'altercations', 'louisville', 'has', 'seen', 'even', 'more', 'forceful', 'protests', 'than', 'some', 'cities', 'in', 'the', 'wake', 'of', 'the', 'death', 'of', 'breonna', 'taylor', 'who', 'was', 'shot', 'by', 'white', 'police', 'officer', 'in', 'her', 'bedroom', 'in', 'march', 'district', 'spokesperson', 'in', 'jefferson', 'county', 'said', 'this', 'week', 'the', 'district', 'is', 're', 'evaluating', 'its', 'school', 'safety', 'plan', 'which', 'could', 'still', 'include', 'armed', 'guards', 'in', 'schools', 'in', 'florida', 'janice', 'scott', 'cover', 'former', 'assistant', 'superintendent', 'in', 'the', 'palm', 'beach', 'county', 'school', 'district', 'said', 'administrators', 'can', 'also', 'work', 'harder', 'to', 'identify', 'the', 'root', 'cause', 'of', 'student', 'misbehavior', 'whether', 'cops', 'are', 'there', 'or', 'not', 'when', 'she', 'became', 'principal', 'of', 'troubled', 'elementary', 'school', 'two', 'decades', 'ago', 'the', 'school', 'resource', 'officer', 'arrested', 'children', 'for', 'fighting', 'disrespecting', 'teachers', 'and', 'walking', 'out', 'of', 'class', 'not', 'all', 'the', 'resource', 'officers', 'understand', 'how', 'to', 'police', 'in', 'schools', 'cover', 'said', 'some', 'still', 'behave', 'like', 'they', 're', 'out', 'on', 'the', 'street', 'grabbing', 'people', 'and', 'throwing', 'them', 'down', 'and', 'did', 'not', 'want', 'that', 'on', 'the', 'campus', 'cover', 'rearranged', 'the', 'budget', 'to', 'hire', 'another', 'social', 'worker', 'who', 'became', 'the', 'first', 'stop', 'for', 'misbehaving', 'children', 'she', 'had', 'teachers', 'rearrange', 'classrooms', 'so', 'students', 'worked', 'in', 'groups', 'and', 'practiced', 'cooperation', 'she', 'and', 'her', 'teachers', 'doubled', 'down', 'on', 'prodding', 'into', 'students', 'lives', 'often', 'getting', 'them', 'needed', 'household', 'or', 'personal', 'items', 'over', 'time', 'the', 'climate', 'and', 'academics', 'improved', 'something', 'cover', 'recounts', 'in', 'her', 'book', 'about', 'turning', 'around', 'low', 'performing', 'elementary', 'schools', 'happy', 'now', 'that', 'people', 'are', 'beginning', 'to', 'look', 'at', 'this', 'said', 'cover', 'who', 'is', 'black', 'my', 'hope', 'is', 'that', 'you', 'don', 'just', 'remove', 'the', 'police', 'officers', 'but', 'replace', 'them', 'with', 'something', 'else', 'like', 'counselors', 'or', 'mental', 'health', 'professionals', 'or', 'school', 'psychologists', 'olivia', 'krauth', 'contributed', 'to', 'this', 'story', 'from', 'louisville', 'kentucky', 'lily', 'altavena', 'contributed', 'from', 'phoenix', 'arizona', 'education', 'coverage', 'at', 'usa', 'today', 'is', 'made', 'possible', 'in', 'part', 'by', 'grant', 'from', 'the', 'bill', 'melinda', 'gates', 'foundation', 'the', 'gates', 'foundation', 'does', 'not', 'provide', 'editorial', 'input', 'three', 'summers', 'ago', 'about', 'students', 'and', 'activists', 'gathered', 'outside', 'the', 'minneapolis', 'public', 'schools', 'headquarters', 'to', 'demand', 'the', 'school', 'board', 'end', 'contract', 'that', 'placed', 'police', 'officers', 'in', 'schools', 'the', 'officers', 'whose', 'role', 'was', 'to', 'keep', 'schools', 'safe', 'actually', 'made', 'students', 'especially', 'black', 'students', 'feel', 'criminalized', 'activists', 'said', 'but', 'the', 'majority', 'of', 'teachers', 'staff', 'and', 'parents', 'liked', 'officers', 'in', 'schools', 'district', 'wide', 'survey', 'showed', 'at', 'the', 'time', 'the', 'board', 'renewed', 'the', 'three', 'year', 'contract', 'fast', 'forward', 'to', 'june', 'eight', 'days', 'after', 'george', 'floyd', 'died', 'under', 'the', 'knee', 'of', 'minneapolis', 'police', 'officer', 'the', 'school', 'board', 'revisited', 'that', 'contract', 'and', 'ended', 'it', 'the', 'vote', 'on', 'june', 'after', 'an', 'even', 'larger', 'crowd', 'of', 'protesters', 'gathered', 'outside', 'was', 'unanimous', 'the', 'values', 'we', 'see', 'in', 'the', 'police', 'department', 'do', 'not', 'match', 'our', 'values', 'said', 'kim', 'ellison', 'chair', 'of', 'the', 'minneapolis', 'school', 'board', 'the', 'school', 'board', 'became', 'one', 'of', 'the', 'first', 'major', 'governmental', 'bodies', 'to', 'change', 'the', 'balance', 'of', 'power', 'with', 'police', 'in', 'the', 'wake', 'of', 'floyd', 'death', 'the', 'change', 'has', 'prompted', 'wave', 'of', 'districts', 'nationwide', 'to', 'consider', 'terminating', 'their', 'relationships', 'with', 'police', 'from', 'chicago', 'new', 'york', 'and', 'los', 'angeles', 'to', 'smaller', 'cities', 'like', 'rochester', 'new', 'york', 'columbus', 'ohio', 'and', 'portland', 'maine', 'and', 'fort', 'collins', 'colorado', 'students', 'and', 'activists', 'are', 'demanding', 'the', 'discontinuation', 'of', 'school', 'resource', 'officers', 'they', 'want', 'the', 'money', 'spent', 'on', 'those', 'programs', 'to', 'go', 'to', 'other', 'peacekeeping', 'strategies', 'teen', 'activists', 'too', 'young', 'to', 'vote', 'in', 'but', 'fighting', 'for', 'change', 'police', 'in', 'schools', 'contribute', 'to', 'the', 'marginalization', 'of', 'students', 'of', 'color', 'they', 'say', 'that', 'because', 'schools', 'with', 'large', 'populations', 'of', 'black', 'and', 'brown', 'students', 'are', 'more', 'likely', 'to', 'have', 'law', 'enforcement', 'on', 'site', 'and', 'in', 'those', 'places', 'students', 'are', 'more', 'likely', 'to', 'be', 'arrested', 'for', 'certain', 'behaviors', 'rather', 'than', 'disciplined', 'by', 'an', 'administrator', 'last', 'week', 'portland', 'oregon', 'school', 'superintendent', 'announced', 'he', 'planned', 'to', 'remove', 'police', 'from', 'schools', 'denver', 'school', 'board', 'is', 'slated', 'to', 'vote', 'thursday', 'on', 'ending', 'contract', 'for', 'uniformed', 'officers', 'in', 'oakland', 'california', 'the', 'majority', 'of', 'the', 'school', 'board', 'and', 'superintendent', 'wednesday', 'backed', 'proposal', 'to', 'eliminate', 'the', 'district', 'million', 'internal', 'police', 'force', 'despite', 'concerns', 'from', 'some', 'principals', 'according', 'to', 'the', 'san', 'francisco', 'chronicle', 'advocates', 'for', 'school', 'resource', 'officers', 'say', 'the', 'problem', 'lies', 'with', 'inconsistent', 'training', 'for', 'law', 'enforcement', 'on', 'how', 'to', 'work', 'with', 'students', 'making', 'rash', 'moves', 'to', 'end', 'the', 'programs', 'because', 'of', 'political', 'and', 'social', 'pressure', 'could', 'make', 'schools', 'less', 'safe', 'they', 'say', 'and', 'also', 'disrupt', 'the', 'opportunity', 'for', 'healthy', 'relationships', 'to', 'grow', 'between', 'law', 'enforcement', 'and', 'students', 'when', 'this', 'is', 'done', 'the', 'right', 'way', 'it', 'the', 'epitome', 'of', 'community', 'based', 'policing', 'said', 'mo', 'canady', 'executive', 'director', 'of', 'the', 'national', 'association', 'of', 'school', 'resource', 'officers', 'that', 'philosophy', 'where', 'police', 'and', 'the', 'community', 'work', 'together', 'to', 'solve', 'crimes', 'and', 'improve', 'everyone', 'quality', 'of', 'life', 'canady', 'organization', 'trains', 'officers', 'how', 'to', 'enforce', 'the', 'law', 'in', 'school', 'setting', 'informally', 'counsel', 'students', 'and', 'act', 'as', 'an', 'educator', 'but', 'nothing', 'requires', 'school', 'resource', 'officers', 'to', 'undergo', 'such', 'training', 'canady', 'said', 'there', 'federal', 'resistance', 'to', 'that', 'idea', 'out', 'of', 'respect', 'for', 'the', 'tradition', 'of', 'local', 'control', 'he', 'added', 'it', 'better', 'if', 'districts', 'would', 'say', 'we', 'need', 'these', 'officers', 'trained', 'on', 'national', 'level', 'canady', 'said', 'nationally', 'protesters', 'seeking', 'justice', 'for', 'floyd', 'want', 'to', 'reduce', 'city', 'police', 'department', 'budgets', 'and', 'redirect', 'more', 'money', 'to', 'social', 'services', 'but', 'what', 'happening', 'at', 'schools', 'offers', 'window', 'into', 'the', 'relationship', 'between', 'law', 'enforcement', 'and', 'youth', 'while', 'police', 'have', 'been', 'stationed', 'in', 'schools', 'for', 'decades', 'they', 'don', 'make', 'schools', 'overwhelmingly', 'more', 'safe', 'studies', 'show', 'review', 'of', 'the', 'most', 'comprehensive', 'studies', 'on', 'school', 'based', 'law', 'enforcement', 'showed', 'the', 'officers', 'did', 'not', 'improve', 'students', 'perception', 'of', 'safety', 'and', 'out', 'of', 'school', 'suspensions', 'and', 'expulsions', 'increased', 'after', 'school', 'resource', 'officers', 'were', 'introduced', 'to', 'building', 'it', 'not', 'like', 'there', 'really', 'strong', 'research', 'base', 'that', 'says', 'with', 'police', 'in', 'schools', 'crime', 'goes', 'down', 'and', 'bullying', 'goes', 'down', 'and', 'there', 'are', 'no', 'shootings', 'said', 'anthony', 'petrosino', 'director', 'of', 'the', 'justice', 'and', 'prevention', 'research', 'center', 'at', 'wested', 'nonpartisan', 'research', 'organization', 'that', 'focuses', 'on', 'education', 'school', 'policing', 'is', 'much', 'more', 'common', 'in', 'schools', 'with', 'kids', 'of', 'color', 'petrosino', 'added', 'there', 'real', 'question', 'of', 'whether', 'it', 'helping', 'or', 'hurting', 'is', 'it', 'leading', 'to', 'more', 'of', 'these', 'kids', 'being', 'involved', 'in', 'the', 'justice', 'system', 'or', 'being', 'kicked', 'out', 'of', 'school', 'one', 'big', 'problem', 'is', 'children', 'of', 'racial', 'minorities', 'especially', 'black', 'students', 'are', 'more', 'likely', 'to', 'be', 'suspended', 'and', 'expelled', 'from', 'school', 'than', 'white', 'students', 'even', 'when', 'they', 'commit', 'similar', 'offenses', 'research', 'shows', 'pushed', 'out', 'and', 'punished', 'black', 'girls', 'punished', 'more', 'harshly', 'than', 'white', 'girls', 'and', 'of', 'the', 'approximate', 'million', 'students', 'in', 'america', 'attending', 'schools', 'with', 'police', 'officers', 'but', 'no', 'counselors', 'more', 'of', 'those', 'students', 'are', 'black', 'than', 'white', 'by', 'contrast', 'white', 'students', 'are', 'more', 'likely', 'to', 'attend', 'schools', 'with', 'counselors', 'but', 'not', 'police', 'federal', 'data', 'show', 'on', 'top', 'of', 'that', 'number', 'of', 'high', 'profile', 'incidents', 'in', 'recent', 'years', 'have', 'put', 'spotlight', 'on', 'police', 'brutality', 'toward', 'black', 'kids', 'and', 'teens', 'inside', 'and', 'outside', 'of', 'school', 'white', 'school', 'resource', 'officer', 'in', 'south', 'carolina', 'high', 'school', 'flipped', 'black', 'girl', 'out', 'of', 'her', 'desk', 'and', 'dragged', 'her', 'across', 'the', 'floor', 'in', 'black', 'school', 'resource', 'officer', 'in', 'orlando', 'arrested', 'sobbing', 'year', 'old', 'black', 'student', 'in', 'september', 'securing', 'her', 'with', 'zip', 'ties', 'because', 'she', 'was', 'too', 'small', 'for', 'handcuffs', 'white', 'officer', 'in', 'ferguson', 'missouri', 'shot', 'and', 'killed', 'michael', 'brown', 'an', 'unarmed', 'year', 'old', 'black', 'man', 'in', 'the', 'street', 'in', 'later', 'that', 'year', 'white', 'officer', 'in', 'cleveland', 'ohio', 'shot', 'and', 'killed', 'tamir', 'rice', 'year', 'old', 'black', 'boy', 'rice', 'had', 'been', 'playing', 'with', 'toy', 'gun', 'outside', 'recreation', 'center', 'change', 'in', 'ferguson', 'city', 'elects', 'first', 'black', 'female', 'mayor', 'years', 'after', 'michael', 'brown', 'death', 'in', 'the', 'only', 'of', 'schools', 'had', 'law', 'enforcement', 'officer', 'stationed', 'in', 'them', 'according', 'to', 'federal', 'data', 'now', 'of', 'schools', 'have', 'police', 'officer', 'in', 'the', 'building', 'at', 'least', 'one', 'day', 'week', 'according', 'to', 'the', 'most', 'recent', 'federal', 'data', 'and', 'among', 'large', 'schools', 'almost', 'had', 'sworn', 'officer', 'in', 'the', 'building', 'at', 'least', 'one', 'day', 'week', 'in', 'the', 'school', 'year', 'the', 'number', 'of', 'officers', 'in', 'schools', 'accelerated', 'rapidly', 'after', 'the', 'year', 'of', 'the', 'shooting', 'at', 'columbine', 'high', 'school', 'in', 'colorado', 'the', 'massacre', 'spurred', 'national', 'discussion', 'about', 'school', 'safety', 'and', 'boost', 'in', 'federal', 'funds', 'helped', 'pay', 'for', 'more', 'cops', 'in', 'schools', 'years', 'after', 'columbine', 'survivors', 'find', 'that', 'new', 'normal', 'between', 'and', 'program', 'started', 'under', 'the', 'clinton', 'administration', 'doled', 'out', 'million', 'in', 'grants', 'to', 'police', 'departments', 'to', 'support', 'hiring', 'thousands', 'more', 'school', 'resource', 'officers', 'since', 'then', 'law', 'enforcement', 'in', 'schools', 'seemed', 'like', 'the', 'one', 'thing', 'that', 'district', 'leaders', 'would', 'not', 'change', 'said', 'aaron', 'kupchik', 'professor', 'of', 'sociology', 'and', 'criminal', 'justice', 'at', 'the', 'university', 'of', 'delaware', 'we', 'typically', 'don', 'even', 'discuss', 'it', 'because', 'it', 'common', 'assumption', 'they', 're', 'here', 'to', 'stay', 'kupchik', 'said', 'so', 'people', 'focus', 'on', 'how', 'to', 'make', 'it', 'less', 'harmful', 'like', 'by', 'ending', 'zero', 'tolerance', 'policies', 'and', 'adding', 'more', 'restorative', 'justice', 'programs', 'under', 'zero', 'tolerance', 'students', 'who', 'break', 'school', 'rules', 'are', 'subject', 'to', 'mandatory', 'severe', 'consequences', 'such', 'as', 'being', 'expelled', 'restorative', 'justice', 'programs', 'offer', 'misbehaving', 'students', 'chance', 'to', 'take', 'ownership', 'of', 'their', 'actions', 'talk', 'through', 'what', 'prompted', 'them', 'and', 'repair', 'harm', 'they', 've', 'caused', 'to', 'others', 'restorative', 'justice', 'how', 'circle', 'keeping', 'works', 'at', 'one', 'midwestern', 'school', 'despite', 'talks', 'of', 'reform', 'students', 'social', 'justice', 'groups', 'and', 'the', 'american', 'civil', 'liberties', 'union', 'have', 'been', 'working', 'for', 'years', 'to', 'end', 'school', 'policing', 'long', 'before', 'the', 'calls', 'emerged', 'as', 'part', 'of', 'the', 'floyd', 'protests', 'that', 'key', 'reason', 'districts', 'are', 'taking', 'action', 'now', 'said', 'sarah', 'hinger', 'senior', 'staff', 'attorney', 'for', 'the', 'aclu', 'racial', 'justice', 'program', 'another', 'reason', 'school', 'districts', 'are', 'more', 'inclined', 'now', 'to', 'remove', 'police', 'officers', 'money', 'districts', 'are', 'facing', 'major', 'financial', 'shortfalls', 'because', 'of', 'the', 'covid', 'pandemic', 'and', 'loss', 'of', 'tax', 'revenue', 'because', 'of', 'the', 'economic', 'shutdown', 'it', 'widely', 'acknowledged', 'that', 'low', 'income', 'children', 'group', 'that', 'includes', 'many', 'black', 'and', 'brown', 'children', 'will', 'need', 'more', 'support', 'to', 'get', 'back', 'on', 'track', 'once', 'schools', 'reopen', 'many', 'haven', 'had', 'access', 'to', 'all', 'the', 'tools', 'needed', 'for', 'online', 'learning', 'such', 'as', 'high', 'speed', 'internet', 'or', 'their', 'own', 'computer', 'police', 'contracts', 'are', 'one', 'non', 'academic', 'budget', 'item', 'that', 'could', 'be', 'dropped', 'all', 'of', 'that', 'is', 'contributing', 'to', 'why', 'this', 'movement', 'is', 'really', 'catching', 'on', 'hinger', 'said', 'kids', 'need', 'to', 'talk', 'about', 'george', 'floyd', 'with', 'coronavirus', 'school', 'closures', 'it', 'hard', 'to', 'do', 'seattle', 'public', 'schools', 'announced', 'this', 'week', 'that', 'it', 'would', 'suspend', 'officers', 'from', 'schools', 'for', 'one', 'year', 'in', 'oakland', 'wednesday', 'the', 'school', 'superintendent', 'joined', 'the', 'majority', 'of', 'the', 'school', 'board', 'in', 'backing', 'the', 'elimination', 'of', 'the', 'district', 'in', 'house', 'police', 'force', 'one', 'idea', 'is', 'to', 'replace', 'it', 'with', 'non', 'uniformed', 'ambassadors', 'to', 'keep', 'the', 'peace', 'in', 'schools', 'black', 'students', 'account', 'for', 'of', 'the', 'students', 'arrested', 'in', 'oakland', 'schools', 'while', 'only', 'making', 'up', 'of', 'the', 'district', 'population', 'according', 'to', 'the', 'black', 'organizing', 'project', 'local', 'advocacy', 'group', 'oakland', 'board', 'is', 'slated', 'to', 'vote', 'on', 'eliminating', 'the', 'police', 'force', 'on', 'june', 'some', 'districts', 'are', 'less', 'inclined', 'to', 'remove', 'officers', 'the', 'chicago', 'teachers', 'union', 'has', 'reinvigorated', 'its', 'call', 'for', 'the', 'city', 'to', 'replace', 'school', 'resource', 'officers', 'with', 'counselors', 'but', 'mayor', 'lori', 'lightfoot', 'who', 'runs', 'the', 'city', 'as', 'well', 'as', 'the', 'district', 'indicated', 'she', 'not', 'interested', 'in', 'dumping', 'the', 'million', 'contract', 'with', 'the', 'chicago', 'police', 'department', 'more', 'than', 'three', 'quarters', 'of', 'the', 'city', 'high', 'schools', 'have', 'police', 'in', 'them', 'and', 'the', 'local', 'parent', 'and', 'teacher', 'councils', 'at', 'all', 'of', 'them', 'voted', 'to', 'keep', 'the', 'officers', 'this', 'year', 'according', 'to', 'local', 'news', 'reports', 'unfortunately', 'we', 'need', 'security', 'in', 'our', 'schools', 'lightfoot', 'said', 'in', 'protest', 'chicago', 'teachers', 'and', 'students', 'have', 'recently', 'staged', 'marches', 'and', 'car', 'caravan', 'parades', 'between', 'high', 'schools', 'chicago', 'protests', 'kanye', 'west', 'joins', 'march', 'offers', 'to', 'pay', 'legal', 'fees', 'for', 'breonna', 'taylor', 'family', 'in', 'los', 'angeles', 'the', 'teachers', 'union', 'said', 'monday', 'it', 'supports', 'ending', 'the', 'district', 'in', 'house', 'police', 'force', 'the', 'unit', 'places', 'about', 'officers', 'throughout', 'the', 'nation', 'second', 'largest', 'school', 'district', 'at', 'cost', 'of', 'about', 'million', 'annually', 'but', 'the', 'head', 'of', 'the', 'district', 'school', 'police', 'union', 'said', 'officers', 'are', 'better', 'trained', 'to', 'de', 'escalate', 'situations', 'in', 'buildings', 'than', 'outside', 'cops', 'called', 'to', 'campus', 'according', 'to', 'the', 'los', 'angeles', 'times', 'in', 'phoenix', 'hundreds', 'of', 'students', 'have', 'been', 'protesting', 'the', 'use', 'of', 'on', 'campus', 'police', 'officers', 'but', 'the', 'school', 'board', 'has', 'not', 'yet', 'taken', 'vote', 'on', 'whether', 'to', 'renew', 'the', 'contract', 'there', 'not', 'much', 'good', 'data', 'on', 'what', 'happens', 'when', 'you', 'remove', 'police', 'officers', 'from', 'schools', 'but', 'new', 'york', 'and', 'louisville', 'have', 'tried', 'some', 'new', 'ideas', 'decade', 'ago', 'report', 'from', 'new', 'york', 'city', 'examined', 'how', 'handful', 'of', 'high', 'schools', 'serving', 'at', 'risk', 'students', 'maintained', 'safe', 'environments', 'without', 'police', 'district', 'safety', 'agents', 'patrolled', 'halls', 'instead', 'metal', 'detectors', 'were', 'removed', 'administrators', 'created', 'alternatives', 'to', 'harsh', 'discipline', 'policies', 'the', 'aclu', 'which', 'published', 'the', 'report', 'is', 'notably', 'in', 'favor', 'of', 'removing', 'police', 'from', 'schools', 'in', 'louisville', 'kentucky', 'the', 'jefferson', 'county', 'public', 'schools', 'cut', 'ties', 'with', 'school', 'resource', 'officers', 'last', 'august', 'because', 'of', 'issues', 'related', 'to', 'the', 'criminalization', 'of', 'black', 'students', 'the', 'district', 'this', 'week', 'couldn', 'provide', 'comparison', 'of', 'school', 'arrest', 'data', 'from', 'before', 'and', 'after', 'police', 'were', 'removed', 'but', 'in', 'general', 'according', 'to', 'the', 'louisville', 'courier', 'journal', 'school', 'safety', 'hasn', 'changed', 'much', 'though', 'one', 'school', 'made', 'headlines', 'for', 'some', 'high', 'profile', 'student', 'on', 'teacher', 'altercations', 'louisville', 'has', 'seen', 'even', 'more', 'forceful', 'protests', 'than', 'some', 'cities', 'in', 'the', 'wake', 'of', 'the', 'death', 'of', 'breonna', 'taylor', 'who', 'was', 'shot', 'by', 'white', 'police', 'officer', 'in', 'her', 'bedroom', 'in', 'march', 'district', 'spokesperson', 'in', 'jefferson', 'county', 'said', 'this', 'week', 'the', 'district', 'is', 're', 'evaluating', 'its', 'school', 'safety', 'plan', 'which', 'could', 'still', 'include', 'armed', 'guards', 'in', 'schools', 'in', 'florida', 'janice', 'scott', 'cover', 'former', 'assistant', 'superintendent', 'in', 'the', 'palm', 'beach', 'county', 'school', 'district', 'said', 'administrators', 'can', 'also', 'work', 'harder', 'to', 'identify', 'the', 'root', 'cause', 'of', 'student', 'misbehavior', 'whether', 'cops', 'are', 'there', 'or', 'not', 'when', 'she', 'became', 'principal', 'of', 'troubled', 'elementary', 'school', 'two', 'decades', 'ago', 'the', 'school', 'resource', 'officer', 'arrested', 'children', 'for', 'fighting', 'disrespecting', 'teachers', 'and', 'walking', 'out', 'of', 'class', 'not', 'all', 'the', 'resource', 'officers', 'understand', 'how', 'to', 'police', 'in', 'schools', 'cover', 'said', 'some', 'still', 'behave', 'like', 'they', 're', 'out', 'on', 'the', 'street', 'grabbing', 'people', 'and', 'throwing', 'them', 'down', 'and', 'did', 'not', 'want', 'that', 'on', 'the', 'campus', 'cover', 'rearranged', 'the', 'budget', 'to', 'hire', 'another', 'social', 'worker', 'who', 'became', 'the', 'first', 'stop', 'for', 'misbehaving', 'children', 'she', 'had', 'teachers', 'rearrange', 'classrooms', 'so', 'students', 'worked', 'in', 'groups', 'and', 'practiced', 'cooperation', 'she', 'and', 'her', 'teachers', 'doubled', 'down', 'on', 'prodding', 'into', 'students', 'lives', 'often', 'getting', 'them', 'needed', 'household', 'or', 'personal', 'items', 'over', 'time', 'the', 'climate', 'and', 'academics', 'improved', 'something', 'cover', 'recounts', 'in', 'her', 'book', 'about', 'turning', 'around', 'low', 'performing', 'elementary', 'schools', 'happy', 'now', 'that', 'people', 'are', 'beginning', 'to', 'look', 'at', 'this', 'said', 'cover', 'who', 'is', 'black', 'my', 'hope', 'is', 'that', 'you', 'don', 'just', 'remove', 'the', 'police', 'officers', 'but', 'replace', 'them', 'with', 'something', 'else', 'like', 'counselors', 'or', 'mental', 'health', 'professionals', 'or', 'school', 'psychologists', 'olivia', 'krauth', 'contributed', 'to', 'this', 'story', 'from', 'louisville', 'kentucky', 'lily', 'altavena', 'contributed', 'from', 'phoenix', 'arizona', 'education', 'coverage', 'at', 'usa', 'today', 'is', 'made', 'possible', 'in', 'part', 'by', 'grant', 'from', 'the', 'bill', 'melinda', 'gates', 'foundation', 'the', 'gates', 'foundation', 'does', 'not', 'provide', 'editorial', 'input', 'three', 'summers', 'ago', 'about', 'students', 'and', 'activists', 'gathered', 'outside', 'the', 'minneapolis', 'public', 'schools', 'headquarters', 'to', 'demand', 'the', 'school', 'board', 'end', 'contract', 'that', 'placed', 'police', 'officers', 'in', 'schools', 'the', 'officers', 'whose', 'role', 'was', 'to', 'keep', 'schools', 'safe', 'actually', 'made', 'students', 'especially', 'black', 'students', 'feel', 'criminalized', 'activists', 'said', 'but', 'the', 'majority', 'of', 'teachers', 'staff', 'and', 'parents', 'liked', 'officers', 'in', 'schools', 'district', 'wide', 'survey', 'showed', 'at', 'the', 'time', 'the', 'board', 'renewed', 'the', 'three', 'year', 'contract', 'fast', 'forward', 'to', 'june', 'eight', 'days', 'after', 'george', 'floyd', 'died', 'under', 'the', 'knee', 'of', 'minneapolis', 'police', 'officer', 'the', 'school', 'board', 'revisited', 'that', 'contract', 'and', 'ended', 'it', 'the', 'vote', 'on', 'june', 'after', 'an', 'even', 'larger', 'crowd', 'of', 'protesters', 'gathered', 'outside', 'was', 'unanimous', 'the', 'values', 'we', 'see', 'in', 'the', 'police', 'department', 'do', 'not', 'match', 'our', 'values', 'said', 'kim', 'ellison', 'chair', 'of', 'the', 'minneapolis', 'school', 'board', 'the', 'school', 'board', 'became', 'one', 'of', 'the', 'first', 'major', 'governmental', 'bodies', 'to', 'change', 'the', 'balance', 'of', 'power', 'with', 'police', 'in', 'the', 'wake', 'of', 'floyd', 'death', 'the', 'change', 'has', 'prompted', 'wave', 'of', 'districts', 'nationwide', 'to', 'consider', 'terminating', 'their', 'relationships', 'with', 'police', 'from', 'chicago', 'new', 'york', 'and', 'los', 'angeles', 'to', 'smaller', 'cities', 'like', 'rochester', 'new', 'york', 'columbus', 'ohio', 'and', 'portland', 'maine', 'and', 'fort', 'collins', 'colorado', 'students', 'and', 'activists', 'are', 'demanding', 'the', 'discontinuation', 'of', 'school', 'resource', 'officers', 'they', 'want', 'the', 'money', 'spent', 'on', 'those', 'programs', 'to', 'go', 'to', 'other', 'peacekeeping', 'strategies', 'teen', 'activists', 'too', 'young', 'to', 'vote', 'in', 'but', 'fighting', 'for', 'change', 'police', 'in', 'schools', 'contribute', 'to', 'the', 'marginalization', 'of', 'students', 'of', 'color', 'they', 'say', 'that', 'because', 'schools', 'with', 'large', 'populations', 'of', 'black', 'and', 'brown', 'students', 'are', 'more', 'likely', 'to', 'have', 'law', 'enforcement', 'on', 'site', 'and', 'in', 'those', 'places', 'students', 'are', 'more', 'likely', 'to', 'be', 'arrested', 'for', 'certain', 'behaviors', 'rather', 'than', 'disciplined', 'by', 'an', 'administrator', 'last', 'week', 'portland', 'oregon', 'school', 'superintendent', 'announced', 'he', 'planned', 'to', 'remove', 'police', 'from', 'schools', 'denver', 'school', 'board', 'is', 'slated', 'to', 'vote', 'thursday', 'on', 'ending', 'contract', 'for', 'uniformed', 'officers', 'in', 'oakland', 'california', 'the', 'majority', 'of', 'the', 'school', 'board', 'and', 'superintendent', 'wednesday', 'backed', 'proposal', 'to', 'eliminate', 'the', 'district', 'million', 'internal', 'police', 'force', 'despite', 'concerns', 'from', 'some', 'principals', 'according', 'to', 'the', 'san', 'francisco', 'chronicle', 'advocates', 'for', 'school', 'resource', 'officers', 'say', 'the', 'problem', 'lies', 'with', 'inconsistent', 'training', 'for', 'law', 'enforcement', 'on', 'how', 'to', 'work', 'with', 'students', 'making', 'rash', 'moves', 'to', 'end', 'the', 'programs', 'because', 'of', 'political', 'and', 'social', 'pressure', 'could', 'make', 'schools', 'less', 'safe', 'they', 'say', 'and', 'also', 'disrupt', 'the', 'opportunity', 'for', 'healthy', 'relationships', 'to', 'grow', 'between', 'law', 'enforcement', 'and', 'students', 'when', 'this', 'is', 'done', 'the', 'right', 'way', 'it', 'the', 'epitome', 'of', 'community', 'based', 'policing', 'said', 'mo', 'canady', 'executive', 'director', 'of', 'the', 'national', 'association', 'of', 'school', 'resource', 'officers', 'that', 'philosophy', 'where', 'police', 'and', 'the', 'community', 'work', 'together', 'to', 'solve', 'crimes', 'and', 'improve', 'everyone', 'quality', 'of', 'life', 'canady', 'organization', 'trains', 'officers', 'how', 'to', 'enforce', 'the', 'law', 'in', 'school', 'setting', 'informally', 'counsel', 'students', 'and', 'act', 'as', 'an', 'educator', 'but', 'nothing', 'requires', 'school', 'resource', 'officers', 'to', 'undergo', 'such', 'training', 'canady', 'said', 'there', 'federal', 'resistance', 'to', 'that', 'idea', 'out', 'of', 'respect', 'for', 'the', 'tradition', 'of', 'local', 'control', 'he', 'added', 'it', 'better', 'if', 'districts', 'would', 'say', 'we', 'need', 'these', 'officers', 'trained', 'on', 'national', 'level', 'canady', 'said', 'nationally', 'protesters', 'seeking', 'justice', 'for', 'floyd', 'want', 'to', 'reduce', 'city', 'police', 'department', 'budgets', 'and', 'redirect', 'more', 'money', 'to', 'social', 'services', 'but', 'what', 'happening', 'at', 'schools', 'offers', 'window', 'into', 'the', 'relationship', 'between', 'law', 'enforcement', 'and', 'youth', 'while', 'police', 'have', 'been', 'stationed', 'in', 'schools', 'for', 'decades', 'they', 'don', 'make', 'schools', 'overwhelmingly', 'more', 'safe', 'studies', 'show', 'review', 'of', 'the', 'most', 'comprehensive', 'studies', 'on', 'school', 'based', 'law', 'enforcement', 'showed', 'the', 'officers', 'did', 'not', 'improve', 'students', 'perception', 'of', 'safety', 'and', 'out', 'of', 'school', 'suspensions', 'and', 'expulsions', 'increased', 'after', 'school', 'resource', 'officers', 'were', 'introduced', 'to', 'building', 'it', 'not', 'like', 'there', 'really', 'strong', 'research', 'base', 'that', 'says', 'with', 'police', 'in', 'schools', 'crime', 'goes', 'down', 'and', 'bullying', 'goes', 'down', 'and', 'there', 'are', 'no', 'shootings', 'said', 'anthony', 'petrosino', 'director', 'of', 'the', 'justice', 'and', 'prevention', 'research', 'center', 'at', 'wested', 'nonpartisan', 'research', 'organization', 'that', 'focuses', 'on', 'education', 'school', 'policing', 'is', 'much', 'more', 'common', 'in', 'schools', 'with', 'kids', 'of', 'color', 'petrosino', 'added', 'there', 'real', 'question', 'of', 'whether', 'it', 'helping', 'or', 'hurting', 'is', 'it', 'leading', 'to', 'more', 'of', 'these', 'kids', 'being', 'involved', 'in', 'the', 'justice', 'system', 'or', 'being', 'kicked', 'out', 'of', 'school', 'one', 'big', 'problem', 'is', 'children', 'of', 'racial', 'minorities', 'especially', 'black', 'students', 'are', 'more', 'likely', 'to', 'be', 'suspended', 'and', 'expelled', 'from', 'school', 'than', 'white', 'students', 'even', 'when', 'they', 'commit', 'similar', 'offenses', 'research', 'shows', 'pushed', 'out', 'and', 'punished', 'black', 'girls', 'punished', 'more', 'harshly', 'than', 'white', 'girls', 'and', 'of', 'the', 'approximate', 'million', 'students', 'in', 'america', 'attending', 'schools', 'with', 'police', 'officers', 'but', 'no', 'counselors', 'more', 'of', 'those', 'students', 'are', 'black', 'than', 'white', 'by', 'contrast', 'white', 'students', 'are', 'more', 'likely', 'to', 'attend', 'schools', 'with', 'counselors', 'but', 'not', 'police', 'federal', 'data', 'show', 'on', 'top', 'of', 'that', 'number', 'of', 'high', 'profile', 'incidents', 'in', 'recent', 'years', 'have', 'put', 'spotlight', 'on', 'police', 'brutality', 'toward', 'black', 'kids', 'and', 'teens', 'inside', 'and', 'outside', 'of', 'school', 'white', 'school', 'resource', 'officer', 'in', 'south', 'carolina', 'high', 'school', 'flipped', 'black', 'girl', 'out', 'of', 'her', 'desk', 'and', 'dragged', 'her', 'across', 'the', 'floor', 'in', 'black', 'school', 'resource', 'officer', 'in', 'orlando', 'arrested', 'sobbing', 'year', 'old', 'black', 'student', 'in', 'september', 'securing', 'her', 'with', 'zip', 'ties', 'because', 'she', 'was', 'too', 'small', 'for', 'handcuffs', 'white', 'officer', 'in', 'ferguson', 'missouri', 'shot', 'and', 'killed', 'michael', 'brown', 'an', 'unarmed', 'year', 'old', 'black', 'man', 'in', 'the', 'street', 'in', 'later', 'that', 'year', 'white', 'officer', 'in', 'cleveland', 'ohio', 'shot', 'and', 'killed', 'tamir', 'rice', 'year', 'old', 'black', 'boy', 'rice', 'had', 'been', 'playing', 'with', 'toy', 'gun', 'outside', 'recreation', 'center', 'change', 'in', 'ferguson', 'city', 'elects', 'first', 'black', 'female', 'mayor', 'years', 'after', 'michael', 'brown', 'death', 'in', 'the', 'only', 'of', 'schools', 'had', 'law', 'enforcement', 'officer', 'stationed', 'in', 'them', 'according', 'to', 'federal', 'data', 'now', 'of', 'schools', 'have', 'police', 'officer', 'in', 'the', 'building', 'at', 'least', 'one', 'day', 'week', 'according', 'to', 'the', 'most', 'recent', 'federal', 'data', 'and', 'among', 'large', 'schools', 'almost', 'had', 'sworn', 'officer', 'in', 'the', 'building', 'at', 'least', 'one', 'day', 'week', 'in', 'the', 'school', 'year', 'the', 'number', 'of', 'officers', 'in', 'schools', 'accelerated', 'rapidly', 'after', 'the', 'year', 'of', 'the', 'shooting', 'at', 'columbine', 'high', 'school', 'in', 'colorado', 'the', 'massacre', 'spurred', 'national', 'discussion', 'about', 'school', 'safety', 'and', 'boost', 'in', 'federal', 'funds', 'helped', 'pay', 'for', 'more', 'cops', 'in', 'schools', 'years', 'after', 'columbine', 'survivors', 'find', 'that', 'new', 'normal', 'between', 'and', 'program', 'started', 'under', 'the', 'clinton', 'administration', 'doled', 'out', 'million', 'in', 'grants', 'to', 'police', 'departments', 'to', 'support', 'hiring', 'thousands', 'more', 'school', 'resource', 'officers', 'since', 'then', 'law', 'enforcement', 'in', 'schools', 'seemed', 'like', 'the', 'one', 'thing', 'that', 'district', 'leaders', 'would', 'not', 'change', 'said', 'aaron', 'kupchik', 'professor', 'of', 'sociology', 'and', 'criminal', 'justice', 'at', 'the', 'university', 'of', 'delaware', 'we', 'typically', 'don', 'even', 'discuss', 'it', 'because', 'it', 'common', 'assumption', 'they', 're', 'here', 'to', 'stay', 'kupchik', 'said', 'so', 'people', 'focus', 'on', 'how', 'to', 'make', 'it', 'less', 'harmful', 'like', 'by', 'ending', 'zero', 'tolerance', 'policies', 'and', 'adding', 'more', 'restorative', 'justice', 'programs', 'under', 'zero', 'tolerance', 'students', 'who', 'break', 'school', 'rules', 'are', 'subject', 'to', 'mandatory', 'severe', 'consequences', 'such', 'as', 'being', 'expelled', 'restorative', 'justice', 'programs', 'offer', 'misbehaving', 'students', 'chance', 'to', 'take', 'ownership', 'of', 'their', 'actions', 'talk', 'through', 'what', 'prompted', 'them', 'and', 'repair', 'harm', 'they', 've', 'caused', 'to', 'others', 'restorative', 'justice', 'how', 'circle', 'keeping', 'works', 'at', 'one', 'midwestern', 'school', 'despite', 'talks', 'of', 'reform', 'students', 'social', 'justice', 'groups', 'and', 'the', 'american', 'civil', 'liberties', 'union', 'have', 'been', 'working', 'for', 'years', 'to', 'end', 'school', 'policing', 'long', 'before', 'the', 'calls', 'emerged', 'as', 'part', 'of', 'the', 'floyd', 'protests', 'that', 'key', 'reason', 'districts', 'are', 'taking', 'action', 'now', 'said', 'sarah', 'hinger', 'senior', 'staff', 'attorney', 'for', 'the', 'aclu', 'racial', 'justice', 'program', 'another', 'reason', 'school', 'districts', 'are', 'more', 'inclined', 'now', 'to', 'remove', 'police', 'officers', 'money', 'districts', 'are', 'facing', 'major', 'financial', 'shortfalls', 'because', 'of', 'the', 'covid', 'pandemic', 'and', 'loss', 'of', 'tax', 'revenue', 'because', 'of', 'the', 'economic', 'shutdown', 'it', 'widely', 'acknowledged', 'that', 'low', 'income', 'children', 'group', 'that', 'includes', 'many', 'black', 'and', 'brown', 'children', 'will', 'need', 'more', 'support', 'to', 'get', 'back', 'on', 'track', 'once', 'schools', 'reopen', 'many', 'haven', 'had', 'access', 'to', 'all', 'the', 'tools', 'needed', 'for', 'online', 'learning', 'such', 'as', 'high', 'speed', 'internet', 'or', 'their', 'own', 'computer', 'police', 'contracts', 'are', 'one', 'non', 'academic', 'budget', 'item', 'that', 'could', 'be', 'dropped', 'all', 'of', 'that', 'is', 'contributing', 'to', 'why', 'this', 'movement', 'is', 'really', 'catching', 'on', 'hinger', 'said', 'kids', 'need', 'to', 'talk', 'about', 'george', 'floyd', 'with', 'coronavirus', 'school', 'closures', 'it', 'hard', 'to', 'do', 'seattle', 'public', 'schools', 'announced', 'this', 'week', 'that', 'it', 'would', 'suspend', 'officers', 'from', 'schools', 'for', 'one', 'year', 'in', 'oakland', 'wednesday', 'the', 'school', 'superintendent', 'joined', 'the', 'majority', 'of', 'the', 'school', 'board', 'in', 'backing', 'the', 'elimination', 'of', 'the', 'district', 'in', 'house', 'police', 'force', 'one', 'idea', 'is', 'to', 'replace', 'it', 'with', 'non', 'uniformed', 'ambassadors', 'to', 'keep', 'the', 'peace', 'in', 'schools', 'black', 'students', 'account', 'for', 'of', 'the', 'students', 'arrested', 'in', 'oakland', 'schools', 'while', 'only', 'making', 'up', 'of', 'the', 'district', 'population', 'according', 'to', 'the', 'black', 'organizing', 'project', 'local', 'advocacy', 'group', 'oakland', 'board', 'is', 'slated', 'to', 'vote', 'on', 'eliminating', 'the', 'police', 'force', 'on', 'june', 'some', 'districts', 'are', 'less', 'inclined', 'to', 'remove', 'officers', 'the', 'chicago', 'teachers', 'union', 'has', 'reinvigorated', 'its', 'call', 'for', 'the', 'city', 'to', 'replace', 'school', 'resource', 'officers', 'with', 'counselors', 'but', 'mayor', 'lori', 'lightfoot', 'who', 'runs', 'the', 'city', 'as', 'well', 'as', 'the', 'district', 'indicated', 'she', 'not', 'interested', 'in', 'dumping', 'the', 'million', 'contract', 'with', 'the', 'chicago', 'police', 'department', 'more', 'than', 'three', 'quarters', 'of', 'the', 'city', 'high', 'schools', 'have', 'police', 'in', 'them', 'and', 'the', 'local', 'parent', 'and', 'teacher', 'councils', 'at', 'all', 'of', 'them', 'voted', 'to', 'keep', 'the', 'officers', 'this', 'year', 'according', 'to', 'local', 'news', 'reports', 'unfortunately', 'we', 'need', 'security', 'in', 'our', 'schools', 'lightfoot', 'said', 'in', 'protest', 'chicago', 'teachers', 'and', 'students', 'have', 'recently', 'staged', 'marches', 'and', 'car', 'caravan', 'parades', 'between', 'high', 'schools', 'chicago', 'protests', 'kanye', 'west', 'joins', 'march', 'offers', 'to', 'pay', 'legal', 'fees', 'for', 'breonna', 'taylor', 'family', 'in', 'los', 'angeles', 'the', 'teachers', 'union', 'said', 'monday', 'it', 'supports', 'ending', 'the', 'district', 'in', 'house', 'police', 'force', 'the', 'unit', 'places', 'about', 'officers', 'throughout', 'the', 'nation', 'second', 'largest', 'school', 'district', 'at', 'cost', 'of', 'about', 'million', 'annually', 'but', 'the', 'head', 'of', 'the', 'district', 'school', 'police', 'union', 'said', 'officers', 'are', 'better', 'trained', 'to', 'de', 'escalate', 'situations', 'in', 'buildings', 'than', 'outside', 'cops', 'called', 'to', 'campus', 'according', 'to', 'the', 'los', 'angeles', 'times', 'in', 'phoenix', 'hundreds', 'of', 'students', 'have', 'been', 'protesting', 'the', 'use', 'of', 'on', 'campus', 'police', 'officers', 'but', 'the', 'school', 'board', 'has', 'not', 'yet', 'taken', 'vote', 'on', 'whether', 'to', 'renew', 'the', 'contract', 'there', 'not', 'much', 'good', 'data', 'on', 'what', 'happens', 'when', 'you', 'remove', 'police', 'officers', 'from', 'schools', 'but', 'new', 'york', 'and', 'louisville', 'have', 'tried', 'some', 'new', 'ideas', 'decade', 'ago', 'report', 'from', 'new', 'york', 'city', 'examined', 'how', 'handful', 'of', 'high', 'schools', 'serving', 'at', 'risk', 'students', 'maintained', 'safe', 'environments', 'without', 'police', 'district', 'safety', 'agents', 'patrolled', 'halls', 'instead', 'metal', 'detectors', 'were', 'removed', 'administrators', 'created', 'alternatives', 'to', 'harsh', 'discipline', 'policies', 'the', 'aclu', 'which', 'published', 'the', 'report', 'is', 'notably', 'in', 'favor', 'of', 'removing', 'police', 'from', 'schools', 'in', 'louisville', 'kentucky', 'the', 'jefferson', 'county', 'public', 'schools', 'cut', 'ties', 'with', 'school', 'resource', 'officers', 'last', 'august', 'because', 'of', 'issues', 'related', 'to', 'the', 'criminalization', 'of', 'black', 'students', 'the', 'district', 'this', 'week', 'couldn', 'provide', 'comparison', 'of', 'school', 'arrest', 'data', 'from', 'before', 'and', 'after', 'police', 'were', 'removed', 'but', 'in', 'general', 'according', 'to', 'the', 'louisville', 'courier', 'journal', 'school', 'safety', 'hasn', 'changed', 'much', 'though', 'one', 'school', 'made', 'headlines', 'for', 'some', 'high', 'profile', 'student', 'on', 'teacher', 'altercations', 'louisville', 'has', 'seen', 'even', 'more', 'forceful', 'protests', 'than', 'some', 'cities', 'in', 'the', 'wake', 'of', 'the', 'death', 'of', 'breonna', 'taylor', 'who', 'was', 'shot', 'by', 'white', 'police', 'officer', 'in', 'her', 'bedroom', 'in', 'march', 'district', 'spokesperson', 'in', 'jefferson', 'county', 'said', 'this', 'week', 'the', 'district', 'is', 're', 'evaluating', 'its', 'school', 'safety', 'plan', 'which', 'could', 'still', 'include', 'armed', 'guards', 'in', 'schools', 'in', 'florida', 'janice', 'scott', 'cover', 'former', 'assistant', 'superintendent', 'in', 'the', 'palm', 'beach', 'county', 'school', 'district', 'said', 'administrators', 'can', 'also', 'work', 'harder', 'to', 'identify', 'the', 'root', 'cause', 'of', 'student', 'misbehavior', 'whether', 'cops', 'are', 'there', 'or', 'not', 'when', 'she', 'became', 'principal', 'of', 'troubled', 'elementary', 'school', 'two', 'decades', 'ago', 'the', 'school', 'resource', 'officer', 'arrested', 'children', 'for', 'fighting', 'disrespecting', 'teachers', 'and', 'walking', 'out', 'of', 'class', 'not', 'all', 'the', 'resource', 'officers', 'understand', 'how', 'to', 'police', 'in', 'schools', 'cover', 'said', 'some', 'still', 'behave', 'like', 'they', 're', 'out', 'on', 'the', 'street', 'grabbing', 'people', 'and', 'throwing', 'them', 'down', 'and', 'did', 'not', 'want', 'that', 'on', 'the', 'campus', 'cover', 'rearranged', 'the', 'budget', 'to', 'hire', 'another', 'social', 'worker', 'who', 'became', 'the', 'first', 'stop', 'for', 'misbehaving', 'children', 'she', 'had', 'teachers', 'rearrange', 'classrooms', 'so', 'students', 'worked', 'in', 'groups', 'and', 'practiced', 'cooperation', 'she', 'and', 'her', 'teachers', 'doubled', 'down', 'on', 'prodding', 'into', 'students', 'lives', 'often', 'getting', 'them', 'needed', 'household', 'or', 'personal', 'items', 'over', 'time', 'the', 'climate', 'and', 'academics', 'improved', 'something', 'cover', 'recounts', 'in', 'her', 'book', 'about', 'turning', 'around', 'low', 'performing', 'elementary', 'schools', 'happy', 'now', 'that', 'people', 'are', 'beginning', 'to', 'look', 'at', 'this', 'said', 'cover', 'who', 'is', 'black', 'my', 'hope', 'is', 'that', 'you', 'don', 'just', 'remove', 'the', 'police', 'officers', 'but', 'replace', 'them', 'with', 'something', 'else', 'like', 'counselors', 'or', 'mental', 'health', 'professionals', 'or', 'school', 'psychologists', 'olivia', 'krauth', 'contributed', 'to', 'this', 'story', 'from', 'louisville', 'kentucky', 'lily', 'altavena', 'contributed', 'from', 'phoenix', 'arizona', 'education', 'coverage', 'at', 'usa', 'today', 'is', 'made', 'possible', 'in', 'part', 'by', 'grant', 'from', 'the', 'bill', 'melinda', 'gates', 'foundation', 'the', 'gates', 'foundation', 'does', 'not', 'provide', 'editorial', 'input', 'three', 'summers', 'ago', 'about', 'students', 'and', 'activists', 'gathered', 'outside', 'the', 'minneapolis', 'public', 'schools', 'headquarters', 'to', 'demand', 'the', 'school', 'board', 'end', 'contract', 'that', 'placed', 'police', 'officers', 'in', 'schools', 'the', 'officers', 'whose', 'role', 'was', 'to', 'keep', 'schools', 'safe', 'actually', 'made', 'students', 'especially', 'black', 'students', 'feel', 'criminalized', 'activists', 'said', 'but', 'the', 'majority', 'of', 'teachers', 'staff', 'and', 'parents', 'liked', 'officers', 'in', 'schools', 'district', 'wide', 'survey', 'showed', 'at', 'the', 'time', 'the', 'board', 'renewed', 'the', 'three', 'year', 'contract', 'fast', 'forward', 'to', 'june', 'eight', 'days', 'after', 'george', 'floyd', 'died', 'under', 'the', 'knee', 'of', 'minneapolis', 'police', 'officer', 'the', 'school', 'board', 'revisited', 'that', 'contract', 'and', 'ended', 'it', 'the', 'vote', 'on', 'june', 'after', 'an', 'even', 'larger', 'crowd', 'of', 'protesters', 'gathered', 'outside', 'was', 'unanimous', 'the', 'values', 'we', 'see', 'in', 'the', 'police', 'department', 'do', 'not', 'match', 'our', 'values', 'said', 'kim', 'ellison', 'chair', 'of', 'the', 'minneapolis', 'school', 'board', 'the', 'school', 'board', 'became', 'one', 'of', 'the', 'first', 'major', 'governmental', 'bodies', 'to', 'change', 'the', 'balance', 'of', 'power', 'with', 'police', 'in', 'the', 'wake', 'of', 'floyd', 'death', 'the', 'change', 'has', 'prompted', 'wave', 'of', 'districts', 'nationwide', 'to', 'consider', 'terminating', 'their', 'relationships', 'with', 'police', 'from', 'chicago', 'new', 'york', 'and', 'los', 'angeles', 'to', 'smaller', 'cities', 'like', 'rochester', 'new', 'york', 'columbus', 'ohio', 'and', 'portland', 'maine', 'and', 'fort', 'collins', 'colorado', 'students', 'and', 'activists', 'are', 'demanding', 'the', 'discontinuation', 'of', 'school', 'resource', 'officers', 'they', 'want', 'the', 'money', 'spent', 'on', 'those', 'programs', 'to', 'go', 'to', 'other', 'peacekeeping', 'strategies', 'teen', 'activists', 'too', 'young', 'to', 'vote', 'in', 'but', 'fighting', 'for', 'change', 'police', 'in', 'schools', 'contribute', 'to', 'the', 'marginalization', 'of', 'students', 'of', 'color', 'they', 'say', 'that', 'because', 'schools', 'with', 'large', 'populations', 'of', 'black', 'and', 'brown', 'students', 'are', 'more', 'likely', 'to', 'have', 'law', 'enforcement', 'on', 'site', 'and', 'in', 'those', 'places', 'students', 'are', 'more', 'likely', 'to', 'be', 'arrested', 'for', 'certain', 'behaviors', 'rather', 'than', 'disciplined', 'by', 'an', 'administrator', 'last', 'week', 'portland', 'oregon', 'school', 'superintendent', 'announced', 'he', 'planned', 'to', 'remove', 'police', 'from', 'schools', 'denver', 'school', 'board', 'is', 'slated', 'to', 'vote', 'thursday', 'on', 'ending', 'contract', 'for', 'uniformed', 'officers', 'in', 'oakland', 'california', 'the', 'majority', 'of', 'the', 'school', 'board', 'and', 'superintendent', 'wednesday', 'backed', 'proposal', 'to', 'eliminate', 'the', 'district', 'million', 'internal', 'police', 'force', 'despite', 'concerns', 'from', 'some', 'principals', 'according', 'to', 'the', 'san', 'francisco', 'chronicle', 'advocates', 'for', 'school', 'resource', 'officers', 'say', 'the', 'problem', 'lies', 'with', 'inconsistent', 'training', 'for', 'law', 'enforcement', 'on', 'how', 'to', 'work', 'with', 'students', 'making', 'rash', 'moves', 'to', 'end', 'the', 'programs', 'because', 'of', 'political', 'and', 'social', 'pressure', 'could', 'make', 'schools', 'less', 'safe', 'they', 'say', 'and', 'also', 'disrupt', 'the', 'opportunity', 'for', 'healthy', 'relationships', 'to', 'grow', 'between', 'law', 'enforcement', 'and', 'students', 'when', 'this', 'is', 'done', 'the', 'right', 'way', 'it', 'the', 'epitome', 'of', 'community', 'based', 'policing', 'said', 'mo', 'canady', 'executive', 'director', 'of', 'the', 'national', 'association', 'of', 'school', 'resource', 'officers', 'that', 'philosophy', 'where', 'police', 'and', 'the', 'community', 'work', 'together', 'to', 'solve', 'crimes', 'and', 'improve', 'everyone', 'quality', 'of', 'life', 'canady', 'organization', 'trains', 'officers', 'how', 'to', 'enforce', 'the', 'law', 'in', 'school', 'setting', 'informally', 'counsel', 'students', 'and', 'act', 'as', 'an', 'educator', 'but', 'nothing', 'requires', 'school', 'resource', 'officers', 'to', 'undergo', 'such', 'training', 'canady', 'said', 'there', 'federal', 'resistance', 'to', 'that', 'idea', 'out', 'of', 'respect', 'for', 'the', 'tradition', 'of', 'local', 'control', 'he', 'added', 'it', 'better', 'if', 'districts', 'would', 'say', 'we', 'need', 'these', 'officers', 'trained', 'on', 'national', 'level', 'canady', 'said', 'nationally', 'protesters', 'seeking', 'justice', 'for', 'floyd', 'want', 'to', 'reduce', 'city', 'police', 'department', 'budgets', 'and', 'redirect', 'more', 'money', 'to', 'social', 'services', 'but', 'what', 'happening', 'at', 'schools', 'offers', 'window', 'into', 'the', 'relationship', 'between', 'law', 'enforcement', 'and', 'youth', 'while', 'police', 'have', 'been', 'stationed', 'in', 'schools', 'for', 'decades', 'they', 'don', 'make', 'schools', 'overwhelmingly', 'more', 'safe', 'studies', 'show', 'review', 'of', 'the', 'most', 'comprehensive', 'studies', 'on', 'school', 'based', 'law', 'enforcement', 'showed', 'the', 'officers', 'did', 'not', 'improve', 'students', 'perception', 'of', 'safety', 'and', 'out', 'of', 'school', 'suspensions', 'and', 'expulsions', 'increased', 'after', 'school', 'resource', 'officers', 'were', 'introduced', 'to', 'building', 'it', 'not', 'like', 'there', 'really', 'strong', 'research', 'base', 'that', 'says', 'with', 'police', 'in', 'schools', 'crime', 'goes', 'down', 'and', 'bullying', 'goes', 'down', 'and', 'there', 'are', 'no', 'shootings', 'said', 'anthony', 'petrosino', 'director', 'of', 'the', 'justice', 'and', 'prevention', 'research', 'center', 'at', 'wested', 'nonpartisan', 'research', 'organization', 'that', 'focuses', 'on', 'education', 'school', 'policing', 'is', 'much', 'more', 'common', 'in', 'schools', 'with', 'kids', 'of', 'color', 'petrosino', 'added', 'there', 'real', 'question', 'of', 'whether', 'it', 'helping', 'or', 'hurting', 'is', 'it', 'leading', 'to', 'more', 'of', 'these', 'kids', 'being', 'involved', 'in', 'the', 'justice', 'system', 'or', 'being', 'kicked', 'out', 'of', 'school', 'one', 'big', 'problem', 'is', 'children', 'of', 'racial', 'minorities', 'especially', 'black', 'students', 'are', 'more', 'likely', 'to', 'be', 'suspended', 'and', 'expelled', 'from', 'school', 'than', 'white', 'students', 'even', 'when', 'they', 'commit', 'similar', 'offenses', 'research', 'shows', 'pushed', 'out', 'and', 'punished', 'black', 'girls', 'punished', 'more', 'harshly', 'than', 'white', 'girls', 'and', 'of', 'the', 'approximate', 'million', 'students', 'in', 'america', 'attending', 'schools', 'with', 'police', 'officers', 'but', 'no', 'counselors', 'more', 'of', 'those', 'students', 'are', 'black', 'than', 'white', 'by', 'contrast', 'white', 'students', 'are', 'more', 'likely', 'to', 'attend', 'schools', 'with', 'counselors', 'but', 'not', 'police', 'federal', 'data', 'show', 'on', 'top', 'of', 'that', 'number', 'of', 'high', 'profile', 'incidents', 'in', 'recent', 'years', 'have', 'put', 'spotlight', 'on', 'police', 'brutality', 'toward', 'black', 'kids', 'and', 'teens', 'inside', 'and', 'outside', 'of', 'school', 'white', 'school', 'resource', 'officer', 'in', 'south', 'carolina', 'high', 'school', 'flipped', 'black', 'girl', 'out', 'of', 'her', 'desk', 'and', 'dragged', 'her', 'across', 'the', 'floor', 'in', 'black', 'school', 'resource', 'officer', 'in', 'orlando', 'arrested', 'sobbing', 'year', 'old', 'black', 'student', 'in', 'september', 'securing', 'her', 'with', 'zip', 'ties', 'because', 'she', 'was', 'too', 'small', 'for', 'handcuffs', 'white', 'officer', 'in', 'ferguson', 'missouri', 'shot', 'and', 'killed', 'michael', 'brown', 'an', 'unarmed', 'year', 'old', 'black', 'man', 'in', 'the', 'street', 'in', 'later', 'that', 'year', 'white', 'officer', 'in', 'cleveland', 'ohio', 'shot', 'and', 'killed', 'tamir', 'rice', 'year', 'old', 'black', 'boy', 'rice', 'had', 'been', 'playing', 'with', 'toy', 'gun', 'outside', 'recreation', 'center', 'change', 'in', 'ferguson', 'city', 'elects', 'first', 'black', 'female', 'mayor', 'years', 'after', 'michael', 'brown', 'death', 'in', 'the', 'only', 'of', 'schools', 'had', 'law', 'enforcement', 'officer', 'stationed', 'in', 'them', 'according', 'to', 'federal', 'data', 'now', 'of', 'schools', 'have', 'police', 'officer', 'in', 'the', 'building', 'at', 'least', 'one', 'day', 'week', 'according', 'to', 'the', 'most', 'recent', 'federal', 'data', 'and', 'among', 'large', 'schools', 'almost', 'had', 'sworn', 'officer', 'in', 'the', 'building', 'at', 'least', 'one', 'day', 'week', 'in', 'the', 'school', 'year', 'the', 'number', 'of', 'officers', 'in', 'schools', 'accelerated', 'rapidly', 'after', 'the', 'year', 'of', 'the', 'shooting', 'at', 'columbine', 'high', 'school', 'in', 'colorado', 'the', 'massacre', 'spurred', 'national', 'discussion', 'about', 'school', 'safety', 'and', 'boost', 'in', 'federal', 'funds', 'helped', 'pay', 'for', 'more', 'cops', 'in', 'schools', 'years', 'after', 'columbine', 'survivors', 'find', 'that', 'new', 'normal', 'between', 'and', 'program', 'started', 'under', 'the', 'clinton', 'administration', 'doled', 'out', 'million', 'in', 'grants', 'to', 'police', 'departments', 'to', 'support', 'hiring', 'thousands', 'more', 'school', 'resource', 'officers', 'since', 'then', 'law', 'enforcement', 'in', 'schools', 'seemed', 'like', 'the', 'one', 'thing', 'that', 'district', 'leaders', 'would', 'not', 'change', 'said', 'aaron', 'kupchik', 'professor', 'of', 'sociology', 'and', 'criminal', 'justice', 'at', 'the', 'university', 'of', 'delaware', 'we', 'typically', 'don', 'even', 'discuss', 'it', 'because', 'it', 'common', 'assumption', 'they', 're', 'here', 'to', 'stay', 'kupchik', 'said', 'so', 'people', 'focus', 'on', 'how', 'to', 'make', 'it', 'less', 'harmful', 'like', 'by', 'ending', 'zero', 'tolerance', 'policies', 'and', 'adding', 'more', 'restorative', 'justice', 'programs', 'under', 'zero', 'tolerance', 'students', 'who', 'break', 'school', 'rules', 'are', 'subject', 'to', 'mandatory', 'severe', 'consequences', 'such', 'as', 'being', 'expelled', 'restorative', 'justice', 'programs', 'offer', 'misbehaving', 'students', 'chance', 'to', 'take', 'ownership', 'of', 'their', 'actions', 'talk', 'through', 'what', 'prompted', 'them', 'and', 'repair', 'harm', 'they', 've', 'caused', 'to', 'others', 'restorative', 'justice', 'how', 'circle', 'keeping', 'works', 'at', 'one', 'midwestern', 'school', 'despite', 'talks', 'of', 'reform', 'students', 'social', 'justice', 'groups', 'and', 'the', 'american', 'civil', 'liberties', 'union', 'have', 'been', 'working', 'for', 'years', 'to', 'end', 'school', 'policing', 'long', 'before', 'the', 'calls', 'emerged', 'as', 'part', 'of', 'the', 'floyd', 'protests', 'that', 'key', 'reason', 'districts', 'are', 'taking', 'action', 'now', 'said', 'sarah', 'hinger', 'senior', 'staff', 'attorney', 'for', 'the', 'aclu', 'racial', 'justice', 'program', 'another', 'reason', 'school', 'districts', 'are', 'more', 'inclined', 'now', 'to', 'remove', 'police', 'officers', 'money', 'districts', 'are', 'facing', 'major', 'financial', 'shortfalls', 'because', 'of', 'the', 'covid', 'pandemic', 'and', 'loss', 'of', 'tax', 'revenue', 'because', 'of', 'the', 'economic', 'shutdown', 'it', 'widely', 'acknowledged', 'that', 'low', 'income', 'children', 'group', 'that', 'includes', 'many', 'black', 'and', 'brown', 'children', 'will', 'need', 'more', 'support', 'to', 'get', 'back', 'on', 'track', 'once', 'schools', 'reopen', 'many', 'haven', 'had', 'access', 'to', 'all', 'the', 'tools', 'needed', 'for', 'online', 'learning', 'such', 'as', 'high', 'speed', 'internet', 'or', 'their', 'own', 'computer', 'police', 'contracts', 'are', 'one', 'non', 'academic', 'budget', 'item', 'that', 'could', 'be', 'dropped', 'all', 'of', 'that', 'is', 'contributing', 'to', 'why', 'this', 'movement', 'is', 'really', 'catching', 'on', 'hinger', 'said', 'kids', 'need', 'to', 'talk', 'about', 'george', 'floyd', 'with', 'coronavirus', 'school', 'closures', 'it', 'hard', 'to', 'do', 'seattle', 'public', 'schools', 'announced', 'this', 'week', 'that', 'it', 'would', 'suspend', 'officers', 'from', 'schools', 'for', 'one', 'year', 'in', 'oakland', 'wednesday', 'the', 'school', 'superintendent', 'joined', 'the', 'majority', 'of', 'the', 'school', 'board', 'in', 'backing', 'the', 'elimination', 'of', 'the', 'district', 'in', 'house', 'police', 'force', 'one', 'idea', 'is', 'to', 'replace', 'it', 'with', 'non', 'uniformed', 'ambassadors', 'to', 'keep', 'the', 'peace', 'in', 'schools', 'black', 'students', 'account', 'for', 'of', 'the', 'students', 'arrested', 'in', 'oakland', 'schools', 'while', 'only', 'making', 'up', 'of', 'the', 'district', 'population', 'according', 'to', 'the', 'black', 'organizing', 'project', 'local', 'advocacy', 'group', 'oakland', 'board', 'is', 'slated', 'to', 'vote', 'on', 'eliminating', 'the', 'police', 'force', 'on', 'june', 'some', 'districts', 'are', 'less', 'inclined', 'to', 'remove', 'officers', 'the', 'chicago', 'teachers', 'union', 'has', 'reinvigorated', 'its', 'call', 'for', 'the', 'city', 'to', 'replace', 'school', 'resource', 'officers', 'with', 'counselors', 'but', 'mayor', 'lori', 'lightfoot', 'who', 'runs', 'the', 'city', 'as', 'well', 'as', 'the', 'district', 'indicated', 'she', 'not', 'interested', 'in', 'dumping', 'the', 'million', 'contract', 'with', 'the', 'chicago', 'police', 'department', 'more', 'than', 'three', 'quarters', 'of', 'the', 'city', 'high', 'schools', 'have', 'police', 'in', 'them', 'and', 'the', 'local', 'parent', 'and', 'teacher', 'councils', 'at', 'all', 'of', 'them', 'voted', 'to', 'keep', 'the', 'officers', 'this', 'year', 'according', 'to', 'local', 'news', 'reports', 'unfortunately', 'we', 'need', 'security', 'in', 'our', 'schools', 'lightfoot', 'said', 'in', 'protest', 'chicago', 'teachers', 'and', 'students', 'have', 'recently', 'staged', 'marches', 'and', 'car', 'caravan', 'parades', 'between', 'high', 'schools', 'chicago', 'protests', 'kanye', 'west', 'joins', 'march', 'offers', 'to', 'pay', 'legal', 'fees', 'for', 'breonna', 'taylor', 'family', 'in', 'los', 'angeles', 'the', 'teachers', 'union', 'said', 'monday', 'it', 'supports', 'ending', 'the', 'district', 'in', 'house', 'police', 'force', 'the', 'unit', 'places', 'about', 'officers', 'throughout', 'the', 'nation', 'second', 'largest', 'school', 'district', 'at', 'cost', 'of', 'about', 'million', 'annually', 'but', 'the', 'head', 'of', 'the', 'district', 'school', 'police', 'union', 'said', 'officers', 'are', 'better', 'trained', 'to', 'de', 'escalate', 'situations', 'in', 'buildings', 'than', 'outside', 'cops', 'called', 'to', 'campus', 'according', 'to', 'the', 'los', 'angeles', 'times', 'in', 'phoenix', 'hundreds', 'of', 'students', 'have', 'been', 'protesting', 'the', 'use', 'of', 'on', 'campus', 'police', 'officers', 'but', 'the', 'school', 'board', 'has', 'not', 'yet', 'taken', 'vote', 'on', 'whether', 'to', 'renew', 'the', 'contract', 'there', 'not', 'much', 'good', 'data', 'on', 'what', 'happens', 'when', 'you', 'remove', 'police', 'officers', 'from', 'schools', 'but', 'new', 'york', 'and', 'louisville', 'have', 'tried', 'some', 'new', 'ideas', 'decade', 'ago', 'report', 'from', 'new', 'york', 'city', 'examined', 'how', 'handful', 'of', 'high', 'schools', 'serving', 'at', 'risk', 'students', 'maintained', 'safe', 'environments', 'without', 'police', 'district', 'safety', 'agents', 'patrolled', 'halls', 'instead', 'metal', 'detectors', 'were', 'removed', 'administrators', 'created', 'alternatives', 'to', 'harsh', 'discipline', 'policies', 'the', 'aclu', 'which', 'published', 'the', 'report', 'is', 'notably', 'in', 'favor', 'of', 'removing', 'police', 'from', 'schools', 'in', 'louisville', 'kentucky', 'the', 'jefferson', 'county', 'public', 'schools', 'cut', 'ties', 'with', 'school', 'resource', 'officers', 'last', 'august', 'because', 'of', 'issues', 'related', 'to', 'the', 'criminalization', 'of', 'black', 'students', 'the', 'district', 'this', 'week', 'couldn', 'provide', 'comparison', 'of', 'school', 'arrest', 'data', 'from', 'before', 'and', 'after', 'police', 'were', 'removed', 'but', 'in', 'general', 'according', 'to', 'the', 'louisville', 'courier', 'journal', 'school', 'safety', 'hasn', 'changed', 'much', 'though', 'one', 'school', 'made', 'headlines', 'for', 'some', 'high', 'profile', 'student', 'on', 'teacher', 'altercations', 'louisville', 'has', 'seen', 'even', 'more', 'forceful', 'protests', 'than', 'some', 'cities', 'in', 'the', 'wake', 'of', 'the', 'death', 'of', 'breonna', 'taylor', 'who', 'was', 'shot', 'by', 'white', 'police', 'officer', 'in', 'her', 'bedroom', 'in', 'march', 'district', 'spokesperson', 'in', 'jefferson', 'county', 'said', 'this', 'week', 'the', 'district', 'is', 're', 'evaluating', 'its', 'school', 'safety', 'plan', 'which', 'could', 'still', 'include', 'armed', 'guards', 'in', 'schools', 'in', 'florida', 'janice', 'scott', 'cover', 'former', 'assistant', 'superintendent', 'in', 'the', 'palm', 'beach', 'county', 'school', 'district', 'said', 'administrators', 'can', 'also', 'work', 'harder', 'to', 'identify', 'the', 'root', 'cause', 'of', 'student', 'misbehavior', 'whether', 'cops', 'are', 'there', 'or', 'not', 'when', 'she', 'became', 'principal', 'of', 'troubled', 'elementary', 'school', 'two', 'decades', 'ago', 'the', 'school', 'resource', 'officer', 'arrested', 'children', 'for', 'fighting', 'disrespecting', 'teachers', 'and', 'walking', 'out', 'of', 'class', 'not', 'all', 'the', 'resource', 'officers', 'understand', 'how', 'to', 'police', 'in', 'schools', 'cover', 'said', 'some', 'still', 'behave', 'like', 'they', 're', 'out', 'on', 'the', 'street', 'grabbing', 'people', 'and', 'throwing', 'them', 'down', 'and', 'did', 'not', 'want', 'that', 'on', 'the', 'campus', 'cover', 'rearranged', 'the', 'budget', 'to', 'hire', 'another', 'social', 'worker', 'who', 'became', 'the', 'first', 'stop', 'for', 'misbehaving', 'children', 'she', 'had', 'teachers', 'rearrange', 'classrooms', 'so', 'students', 'worked', 'in', 'groups', 'and', 'practiced', 'cooperation', 'she', 'and', 'her', 'teachers', 'doubled', 'down', 'on', 'prodding', 'into', 'students', 'lives', 'often', 'getting', 'them', 'needed', 'household', 'or', 'personal', 'items', 'over', 'time', 'the', 'climate', 'and', 'academics', 'improved', 'something', 'cover', 'recounts', 'in', 'her', 'book', 'about', 'turning', 'around', 'low', 'performing', 'elementary', 'schools', 'happy', 'now', 'that', 'people', 'are', 'beginning', 'to', 'look', 'at', 'this', 'said', 'cover', 'who', 'is', 'black', 'my', 'hope', 'is', 'that', 'you', 'don', 'just', 'remove', 'the', 'police', 'officers', 'but', 'replace', 'them', 'with', 'something', 'else', 'like', 'counselors', 'or', 'mental', 'health', 'professionals', 'or', 'school', 'psychologists', 'olivia', 'krauth', 'contributed', 'to', 'this', 'story', 'from', 'louisville', 'kentucky', 'lily', 'altavena', 'contributed', 'from', 'phoenix', 'arizona', 'education', 'coverage', 'at', 'usa', 'today', 'is', 'made', 'possible', 'in', 'part', 'by', 'grant', 'from', 'the', 'bill', 'melinda', 'gates', 'foundation', 'the', 'gates', 'foundation', 'does', 'not', 'provide', 'editorial', 'input', 'three', 'summers', 'ago', 'about', 'students', 'and', 'activists', 'gathered', 'outside', 'the', 'minneapolis', 'public', 'schools', 'headquarters', 'to', 'demand', 'the', 'school', 'board', 'end', 'contract', 'that', 'placed', 'police', 'officers', 'in', 'schools', 'the', 'officers', 'whose', 'role', 'was', 'to', 'keep', 'schools', 'safe', 'actually', 'made', 'students', 'especially', 'black', 'students', 'feel', 'criminalized', 'activists', 'said', 'but', 'the', 'majority', 'of', 'teachers', 'staff', 'and', 'parents', 'liked', 'officers', 'in', 'schools', 'district', 'wide', 'survey', 'showed', 'at', 'the', 'time', 'the', 'board', 'renewed', 'the', 'three', 'year', 'contract', 'fast', 'forward', 'to', 'june', 'eight', 'days', 'after', 'george', 'floyd', 'died', 'under', 'the', 'knee', 'of', 'minneapolis', 'police', 'officer', 'the', 'school', 'board', 'revisited', 'that', 'contract', 'and', 'ended', 'it', 'the', 'vote', 'on', 'june', 'after', 'an', 'even', 'larger', 'crowd', 'of', 'protesters', 'gathered', 'outside', 'was', 'unanimous', 'the', 'values', 'we', 'see', 'in', 'the', 'police', 'department', 'do', 'not', 'match', 'our', 'values', 'said', 'kim', 'ellison', 'chair', 'of', 'the', 'minneapolis', 'school', 'board', 'the', 'school', 'board', 'became', 'one', 'of', 'the', 'first', 'major', 'governmental', 'bodies', 'to', 'change', 'the', 'balance', 'of', 'power', 'with', 'police', 'in', 'the', 'wake', 'of', 'floyd', 'death', 'the', 'change', 'has', 'prompted', 'wave', 'of', 'districts', 'nationwide', 'to', 'consider', 'terminating', 'their', 'relationships', 'with', 'police', 'from', 'chicago', 'new', 'york', 'and', 'los', 'angeles', 'to', 'smaller', 'cities', 'like', 'rochester', 'new', 'york', 'columbus', 'ohio', 'and', 'portland', 'maine', 'and', 'fort', 'collins', 'colorado', 'students', 'and', 'activists', 'are', 'demanding', 'the', 'discontinuation', 'of', 'school', 'resource', 'officers', 'they', 'want', 'the', 'money', 'spent', 'on', 'those', 'programs', 'to', 'go', 'to', 'other', 'peacekeeping', 'strategies', 'teen', 'activists', 'too', 'young', 'to', 'vote', 'in', 'but', 'fighting', 'for', 'change', 'police', 'in', 'schools', 'contribute', 'to', 'the', 'marginalization', 'of', 'students', 'of', 'color', 'they', 'say', 'that', 'because', 'schools', 'with', 'large', 'populations', 'of', 'black', 'and', 'brown', 'students', 'are', 'more', 'likely', 'to', 'have', 'law', 'enforcement', 'on', 'site', 'and', 'in', 'those', 'places', 'students', 'are', 'more', 'likely', 'to', 'be', 'arrested', 'for', 'certain', 'behaviors', 'rather', 'than', 'disciplined', 'by', 'an', 'administrator', 'last', 'week', 'portland', 'oregon', 'school', 'superintendent', 'announced', 'he', 'planned', 'to', 'remove', 'police', 'from', 'schools', 'denver', 'school', 'board', 'is', 'slated', 'to', 'vote', 'thursday', 'on', 'ending', 'contract', 'for', 'uniformed', 'officers', 'in', 'oakland', 'california', 'the', 'majority', 'of', 'the', 'school', 'board', 'and', 'superintendent', 'wednesday', 'backed', 'proposal', 'to', 'eliminate', 'the', 'district', 'million', 'internal', 'police', 'force', 'despite', 'concerns', 'from', 'some', 'principals', 'according', 'to', 'the', 'san', 'francisco', 'chronicle', 'advocates', 'for', 'school', 'resource', 'officers', 'say', 'the', 'problem', 'lies', 'with', 'inconsistent', 'training', 'for', 'law', 'enforcement', 'on', 'how', 'to', 'work', 'with', 'students', 'making', 'rash', 'moves', 'to', 'end', 'the', 'programs', 'because', 'of', 'political', 'and', 'social', 'pressure', 'could', 'make', 'schools', 'less', 'safe', 'they', 'say', 'and', 'also', 'disrupt', 'the', 'opportunity', 'for', 'healthy', 'relationships', 'to', 'grow', 'between', 'law', 'enforcement', 'and', 'students', 'when', 'this', 'is', 'done', 'the', 'right', 'way', 'it', 'the', 'epitome', 'of', 'community', 'based', 'policing', 'said', 'mo', 'canady', 'executive', 'director', 'of', 'the', 'national', 'association', 'of', 'school', 'resource', 'officers', 'that', 'philosophy', 'where', 'police', 'and', 'the', 'community', 'work', 'together', 'to', 'solve', 'crimes', 'and', 'improve', 'everyone', 'quality', 'of', 'life', 'canady', 'organization', 'trains', 'officers', 'how', 'to', 'enforce', 'the', 'law', 'in', 'school', 'setting', 'informally', 'counsel', 'students', 'and', 'act', 'as', 'an', 'educator', 'but', 'nothing', 'requires', 'school', 'resource', 'officers', 'to', 'undergo', 'such', 'training', 'canady', 'said', 'there', 'federal', 'resistance', 'to', 'that', 'idea', 'out', 'of', 'respect', 'for', 'the', 'tradition', 'of', 'local', 'control', 'he', 'added', 'it', 'better', 'if', 'districts', 'would', 'say', 'we', 'need', 'these', 'officers', 'trained', 'on', 'national', 'level', 'canady', 'said', 'nationally', 'protesters', 'seeking', 'justice', 'for', 'floyd', 'want', 'to', 'reduce', 'city', 'police', 'department', 'budgets', 'and', 'redirect', 'more', 'money', 'to', 'social', 'services', 'but', 'what', 'happening', 'at', 'schools', 'offers', 'window', 'into', 'the', 'relationship', 'between', 'law', 'enforcement', 'and', 'youth', 'while', 'police', 'have', 'been', 'stationed', 'in', 'schools', 'for', 'decades', 'they', 'don', 'make', 'schools', 'overwhelmingly', 'more', 'safe', 'studies', 'show', 'review', 'of', 'the', 'most', 'comprehensive', 'studies', 'on', 'school', 'based', 'law', 'enforcement', 'showed', 'the', 'officers', 'did', 'not', 'improve', 'students', 'perception', 'of', 'safety', 'and', 'out', 'of', 'school', 'suspensions', 'and', 'expulsions', 'increased', 'after', 'school', 'resource', 'officers', 'were', 'introduced', 'to', 'building', 'it', 'not', 'like', 'there', 'really', 'strong', 'research', 'base', 'that', 'says', 'with', 'police', 'in', 'schools', 'crime', 'goes', 'down', 'and', 'bullying', 'goes', 'down', 'and', 'there', 'are', 'no', 'shootings', 'said', 'anthony', 'petrosino', 'director', 'of', 'the', 'justice', 'and', 'prevention', 'research', 'center', 'at', 'wested', 'nonpartisan', 'research', 'organization', 'that', 'focuses', 'on', 'education', 'school', 'policing', 'is', 'much', 'more', 'common', 'in', 'schools', 'with', 'kids', 'of', 'color', 'petrosino', 'added', 'there', 'real', 'question', 'of', 'whether', 'it', 'helping', 'or', 'hurting', 'is', 'it', 'leading', 'to', 'more', 'of', 'these', 'kids', 'being', 'involved', 'in', 'the', 'justice', 'system', 'or', 'being', 'kicked', 'out', 'of', 'school', 'one', 'big', 'problem', 'is', 'children', 'of', 'racial', 'minorities', 'especially', 'black', 'students', 'are', 'more', 'likely', 'to', 'be', 'suspended', 'and', 'expelled', 'from', 'school', 'than', 'white', 'students', 'even', 'when', 'they', 'commit', 'similar', 'offenses', 'research', 'shows', 'pushed', 'out', 'and', 'punished', 'black', 'girls', 'punished', 'more', 'harshly', 'than', 'white', 'girls', 'and', 'of', 'the', 'approximate', 'million', 'students', 'in', 'america', 'attending', 'schools', 'with', 'police', 'officers', 'but', 'no', 'counselors', 'more', 'of', 'those', 'students', 'are', 'black', 'than', 'white', 'by', 'contrast', 'white', 'students', 'are', 'more', 'likely', 'to', 'attend', 'schools', 'with', 'counselors', 'but', 'not', 'police', 'federal', 'data', 'show', 'on', 'top', 'of', 'that', 'number', 'of', 'high', 'profile', 'incidents', 'in', 'recent', 'years', 'have', 'put', 'spotlight', 'on', 'police', 'brutality', 'toward', 'black', 'kids', 'and', 'teens', 'inside', 'and', 'outside', 'of', 'school', 'white', 'school', 'resource', 'officer', 'in', 'south', 'carolina', 'high', 'school', 'flipped', 'black', 'girl', 'out', 'of', 'her', 'desk', 'and', 'dragged', 'her', 'across', 'the', 'floor', 'in', 'black', 'school', 'resource', 'officer', 'in', 'orlando', 'arrested', 'sobbing', 'year', 'old', 'black', 'student', 'in', 'september', 'securing', 'her', 'with', 'zip', 'ties', 'because', 'she', 'was', 'too', 'small', 'for', 'handcuffs', 'white', 'officer', 'in', 'ferguson', 'missouri', 'shot', 'and', 'killed', 'michael', 'brown', 'an', 'unarmed', 'year', 'old', 'black', 'man', 'in', 'the', 'street', 'in', 'later', 'that', 'year', 'white', 'officer', 'in', 'cleveland', 'ohio', 'shot', 'and', 'killed', 'tamir', 'rice', 'year', 'old', 'black', 'boy', 'rice', 'had', 'been', 'playing', 'with', 'toy', 'gun', 'outside', 'recreation', 'center', 'change', 'in', 'ferguson', 'city', 'elects', 'first', 'black', 'female', 'mayor', 'years', 'after', 'michael', 'brown', 'death', 'in', 'the', 'only', 'of', 'schools', 'had', 'law', 'enforcement', 'officer', 'stationed', 'in', 'them', 'according', 'to', 'federal', 'data', 'now', 'of', 'schools', 'have', 'police', 'officer', 'in', 'the', 'building', 'at', 'least', 'one', 'day', 'week', 'according', 'to', 'the', 'most', 'recent', 'federal', 'data', 'and', 'among', 'large', 'schools', 'almost', 'had', 'sworn', 'officer', 'in', 'the', 'building', 'at', 'least', 'one', 'day', 'week', 'in', 'the', 'school', 'year', 'the', 'number', 'of', 'officers', 'in', 'schools', 'accelerated', 'rapidly', 'after', 'the', 'year', 'of', 'the', 'shooting', 'at', 'columbine', 'high', 'school', 'in', 'colorado', 'the', 'massacre', 'spurred', 'national', 'discussion', 'about', 'school', 'safety', 'and', 'boost', 'in', 'federal', 'funds', 'helped', 'pay', 'for', 'more', 'cops', 'in', 'schools', 'years', 'after', 'columbine', 'survivors', 'find', 'that', 'new', 'normal', 'between', 'and', 'program', 'started', 'under', 'the', 'clinton', 'administration', 'doled', 'out', 'million', 'in', 'grants', 'to', 'police', 'departments', 'to', 'support', 'hiring', 'thousands', 'more', 'school', 'resource', 'officers', 'since', 'then', 'law', 'enforcement', 'in', 'schools', 'seemed', 'like', 'the', 'one', 'thing', 'that', 'district', 'leaders', 'would', 'not', 'change', 'said', 'aaron', 'kupchik', 'professor', 'of', 'sociology', 'and', 'criminal', 'justice', 'at', 'the', 'university', 'of', 'delaware', 'we', 'typically', 'don', 'even', 'discuss', 'it', 'because', 'it', 'common', 'assumption', 'they', 're', 'here', 'to', 'stay', 'kupchik', 'said', 'so', 'people', 'focus', 'on', 'how', 'to', 'make', 'it', 'less', 'harmful', 'like', 'by', 'ending', 'zero', 'tolerance', 'policies', 'and', 'adding', 'more', 'restorative', 'justice', 'programs', 'under', 'zero', 'tolerance', 'students', 'who', 'break', 'school', 'rules', 'are', 'subject', 'to', 'mandatory', 'severe', 'consequences', 'such', 'as', 'being', 'expelled', 'restorative', 'justice', 'programs', 'offer', 'misbehaving', 'students', 'chance', 'to', 'take', 'ownership', 'of', 'their', 'actions', 'talk', 'through', 'what', 'prompted', 'them', 'and', 'repair', 'harm', 'they', 've', 'caused', 'to', 'others', 'restorative', 'justice', 'how', 'circle', 'keeping', 'works', 'at', 'one', 'midwestern', 'school', 'despite', 'talks', 'of', 'reform', 'students', 'social', 'justice', 'groups', 'and', 'the', 'american', 'civil', 'liberties', 'union', 'have', 'been', 'working', 'for', 'years', 'to', 'end', 'school', 'policing', 'long', 'before', 'the', 'calls', 'emerged', 'as', 'part', 'of', 'the', 'floyd', 'protests', 'that', 'key', 'reason', 'districts', 'are', 'taking', 'action', 'now', 'said', 'sarah', 'hinger', 'senior', 'staff', 'attorney', 'for', 'the', 'aclu', 'racial', 'justice', 'program', 'another', 'reason', 'school', 'districts', 'are', 'more', 'inclined', 'now', 'to', 'remove', 'police', 'officers', 'money', 'districts', 'are', 'facing', 'major', 'financial', 'shortfalls', 'because', 'of', 'the', 'covid', 'pandemic', 'and', 'loss', 'of', 'tax', 'revenue', 'because', 'of', 'the', 'economic', 'shutdown', 'it', 'widely', 'acknowledged', 'that', 'low', 'income', 'children', 'group', 'that', 'includes', 'many', 'black', 'and', 'brown', 'children', 'will', 'need', 'more', 'support', 'to', 'get', 'back', 'on', 'track', 'once', 'schools', 'reopen', 'many', 'haven', 'had', 'access', 'to', 'all', 'the', 'tools', 'needed', 'for', 'online', 'learning', 'such', 'as', 'high', 'speed', 'internet', 'or', 'their', 'own', 'computer', 'police', 'contracts', 'are', 'one', 'non', 'academic', 'budget', 'item', 'that', 'could', 'be', 'dropped', 'all', 'of', 'that', 'is', 'contributing', 'to', 'why', 'this', 'movement', 'is', 'really', 'catching', 'on', 'hinger', 'said', 'kids', 'need', 'to', 'talk', 'about', 'george', 'floyd', 'with', 'coronavirus', 'school', 'closures', 'it', 'hard', 'to', 'do', 'seattle', 'public', 'schools', 'announced', 'this', 'week', 'that', 'it', 'would', 'suspend', 'officers', 'from', 'schools', 'for', 'one', 'year', 'in', 'oakland', 'wednesday', 'the', 'school', 'superintendent', 'joined', 'the', 'majority', 'of', 'the', 'school', 'board', 'in', 'backing', 'the', 'elimination', 'of', 'the', 'district', 'in', 'house', 'police', 'force', 'one', 'idea', 'is', 'to', 'replace', 'it', 'with', 'non', 'uniformed', 'ambassadors', 'to', 'keep', 'the', 'peace', 'in', 'schools', 'black', 'students', 'account', 'for', 'of', 'the', 'students', 'arrested', 'in', 'oakland', 'schools', 'while', 'only', 'making', 'up', 'of', 'the', 'district', 'population', 'according', 'to', 'the', 'black', 'organizing', 'project', 'local', 'advocacy', 'group', 'oakland', 'board', 'is', 'slated', 'to', 'vote', 'on', 'eliminating', 'the', 'police', 'force', 'on', 'june', 'some', 'districts', 'are', 'less', 'inclined', 'to', 'remove', 'officers', 'the', 'chicago', 'teachers', 'union', 'has', 'reinvigorated', 'its', 'call', 'for', 'the', 'city', 'to', 'replace', 'school', 'resource', 'officers', 'with', 'counselors', 'but', 'mayor', 'lori', 'lightfoot', 'who', 'runs', 'the', 'city', 'as', 'well', 'as', 'the', 'district', 'indicated', 'she', 'not', 'interested', 'in', 'dumping', 'the', 'million', 'contract', 'with', 'the', 'chicago', 'police', 'department', 'more', 'than', 'three', 'quarters', 'of', 'the', 'city', 'high', 'schools', 'have', 'police', 'in', 'them', 'and', 'the', 'local', 'parent', 'and', 'teacher', 'councils', 'at', 'all', 'of', 'them', 'voted', 'to', 'keep', 'the', 'officers', 'this', 'year', 'according', 'to', 'local', 'news', 'reports', 'unfortunately', 'we', 'need', 'security', 'in', 'our', 'schools', 'lightfoot', 'said', 'in', 'protest', 'chicago', 'teachers', 'and', 'students', 'have', 'recently', 'staged', 'marches', 'and', 'car', 'caravan', 'parades', 'between', 'high', 'schools', 'chicago', 'protests', 'kanye', 'west', 'joins', 'march', 'offers', 'to', 'pay', 'legal', 'fees', 'for', 'breonna', 'taylor', 'family', 'in', 'los', 'angeles', 'the', 'teachers', 'union', 'said', 'monday', 'it', 'supports', 'ending', 'the', 'district', 'in', 'house', 'police', 'force', 'the', 'unit', 'places', 'about', 'officers', 'throughout', 'the', 'nation', 'second', 'largest', 'school', 'district', 'at', 'cost', 'of', 'about', 'million', 'annually', 'but', 'the', 'head', 'of', 'the', 'district', 'school', 'police', 'union', 'said', 'officers', 'are', 'better', 'trained', 'to', 'de', 'escalate', 'situations', 'in', 'buildings', 'than', 'outside', 'cops', 'called', 'to', 'campus', 'according', 'to', 'the', 'los', 'angeles', 'times', 'in', 'phoenix', 'hundreds', 'of', 'students', 'have', 'been', 'protesting', 'the', 'use', 'of', 'on', 'campus', 'police', 'officers', 'but', 'the', 'school', 'board', 'has', 'not', 'yet', 'taken', 'vote', 'on', 'whether', 'to', 'renew', 'the', 'contract', 'there', 'not', 'much', 'good', 'data', 'on', 'what', 'happens', 'when', 'you', 'remove', 'police', 'officers', 'from', 'schools', 'but', 'new', 'york', 'and', 'louisville', 'have', 'tried', 'some', 'new', 'ideas', 'decade', 'ago', 'report', 'from', 'new', 'york', 'city', 'examined', 'how', 'handful', 'of', 'high', 'schools', 'serving', 'at', 'risk', 'students', 'maintained', 'safe', 'environments', 'without', 'police', 'district', 'safety', 'agents', 'patrolled', 'halls', 'instead', 'metal', 'detectors', 'were', 'removed', 'administrators', 'created', 'alternatives', 'to', 'harsh', 'discipline', 'policies', 'the', 'aclu', 'which', 'published', 'the', 'report', 'is', 'notably', 'in', 'favor', 'of', 'removing', 'police', 'from', 'schools', 'in', 'louisville', 'kentucky', 'the', 'jefferson', 'county', 'public', 'schools', 'cut', 'ties', 'with', 'school', 'resource', 'officers', 'last', 'august', 'because', 'of', 'issues', 'related', 'to', 'the', 'criminalization', 'of', 'black', 'students', 'the', 'district', 'this', 'week', 'couldn', 'provide', 'comparison', 'of', 'school', 'arrest', 'data', 'from', 'before', 'and', 'after', 'police', 'were', 'removed', 'but', 'in', 'general', 'according', 'to', 'the', 'louisville', 'courier', 'journal', 'school', 'safety', 'hasn', 'changed', 'much', 'though', 'one', 'school', 'made', 'headlines', 'for', 'some', 'high', 'profile', 'student', 'on', 'teacher', 'altercations', 'louisville', 'has', 'seen', 'even', 'more', 'forceful', 'protests', 'than', 'some', 'cities', 'in', 'the', 'wake', 'of', 'the', 'death', 'of', 'breonna', 'taylor', 'who', 'was', 'shot', 'by', 'white', 'police', 'officer', 'in', 'her', 'bedroom', 'in', 'march', 'district', 'spokesperson', 'in', 'jefferson', 'county', 'said', 'this', 'week', 'the', 'district', 'is', 're', 'evaluating', 'its', 'school', 'safety', 'plan', 'which', 'could', 'still', 'include', 'armed', 'guards', 'in', 'schools', 'in', 'florida', 'janice', 'scott', 'cover', 'former', 'assistant', 'superintendent', 'in', 'the', 'palm', 'beach', 'county', 'school', 'district', 'said', 'administrators', 'can', 'also', 'work', 'harder', 'to', 'identify', 'the', 'root', 'cause', 'of', 'student', 'misbehavior', 'whether', 'cops', 'are', 'there', 'or', 'not', 'when', 'she', 'became', 'principal', 'of', 'troubled', 'elementary', 'school', 'two', 'decades', 'ago', 'the', 'school', 'resource', 'officer', 'arrested', 'children', 'for', 'fighting', 'disrespecting', 'teachers', 'and', 'walking', 'out', 'of', 'class', 'not', 'all', 'the', 'resource', 'officers', 'understand', 'how', 'to', 'police', 'in', 'schools', 'cover', 'said', 'some', 'still', 'behave', 'like', 'they', 're', 'out', 'on', 'the', 'street', 'grabbing', 'people', 'and', 'throwing', 'them', 'down', 'and', 'did', 'not', 'want', 'that', 'on', 'the', 'campus', 'cover', 'rearranged', 'the', 'budget', 'to', 'hire', 'another', 'social', 'worker', 'who', 'became', 'the', 'first', 'stop', 'for', 'misbehaving', 'children', 'she', 'had', 'teachers', 'rearrange', 'classrooms', 'so', 'students', 'worked', 'in', 'groups', 'and', 'practiced', 'cooperation', 'she', 'and', 'her', 'teachers', 'doubled', 'down', 'on', 'prodding', 'into', 'students', 'lives', 'often', 'getting', 'them', 'needed', 'household', 'or', 'personal', 'items', 'over', 'time', 'the', 'climate', 'and', 'academics', 'improved', 'something', 'cover', 'recounts', 'in', 'her', 'book', 'about', 'turning', 'around', 'low', 'performing', 'elementary', 'schools', 'happy', 'now', 'that', 'people', 'are', 'beginning', 'to', 'look', 'at', 'this', 'said', 'cover', 'who', 'is', 'black', 'my', 'hope', 'is', 'that', 'you', 'don', 'just', 'remove', 'the', 'police', 'officers', 'but', 'replace', 'them', 'with', 'something', 'else', 'like', 'counselors', 'or', 'mental', 'health', 'professionals', 'or', 'school', 'psychologists', 'olivia', 'krauth', 'contributed', 'to', 'this', 'story', 'from', 'louisville', 'kentucky', 'lily', 'altavena', 'contributed', 'from', 'phoenix', 'arizona', 'education', 'coverage', 'at', 'usa', 'today', 'is', 'made', 'possible', 'in', 'part', 'by', 'grant', 'from', 'the', 'bill', 'melinda', 'gates', 'foundation', 'the', 'gates', 'foundation', 'does', 'not', 'provide', 'editorial', 'input', 'three', 'summers', 'ago', 'about', 'students', 'and', 'activists', 'gathered', 'outside', 'the', 'minneapolis', 'public', 'schools', 'headquarters', 'to', 'demand', 'the', 'school', 'board', 'end', 'contract', 'that', 'placed', 'police', 'officers', 'in', 'schools', 'the', 'officers', 'whose', 'role', 'was', 'to', 'keep', 'schools', 'safe', 'actually', 'made', 'students', 'especially', 'black', 'students', 'feel', 'criminalized', 'activists', 'said', 'but', 'the', 'majority', 'of', 'teachers', 'staff', 'and', 'parents', 'liked', 'officers', 'in', 'schools', 'district', 'wide', 'survey', 'showed', 'at', 'the', 'time', 'the', 'board', 'renewed', 'the', 'three', 'year', 'contract', 'fast', 'forward', 'to', 'june', 'eight', 'days', 'after', 'george', 'floyd', 'died', 'under', 'the', 'knee', 'of', 'minneapolis', 'police', 'officer', 'the', 'school', 'board', 'revisited', 'that', 'contract', 'and', 'ended', 'it', 'the', 'vote', 'on', 'june', 'after', 'an', 'even', 'larger', 'crowd', 'of', 'protesters', 'gathered', 'outside', 'was', 'unanimous', 'the', 'values', 'we', 'see', 'in', 'the', 'police', 'department', 'do', 'not', 'match', 'our', 'values', 'said', 'kim', 'ellison', 'chair', 'of', 'the', 'minneapolis', 'school', 'board', 'the', 'school', 'board', 'became', 'one', 'of', 'the', 'first', 'major', 'governmental', 'bodies', 'to', 'change', 'the', 'balance', 'of', 'power', 'with', 'police', 'in', 'the', 'wake', 'of', 'floyd', 'death', 'the', 'change', 'has', 'prompted', 'wave', 'of', 'districts', 'nationwide', 'to', 'consider', 'terminating', 'their', 'relationships', 'with', 'police', 'from', 'chicago', 'new', 'york', 'and', 'los', 'angeles', 'to', 'smaller', 'cities', 'like', 'rochester', 'new', 'york', 'columbus', 'ohio', 'and', 'portland', 'maine', 'and', 'fort', 'collins', 'colorado', 'students', 'and', 'activists', 'are', 'demanding', 'the', 'discontinuation', 'of', 'school', 'resource', 'officers', 'they', 'want', 'the', 'money', 'spent', 'on', 'those', 'programs', 'to', 'go', 'to', 'other', 'peacekeeping', 'strategies', 'teen', 'activists', 'too', 'young', 'to', 'vote', 'in', 'but', 'fighting', 'for', 'change', 'police', 'in', 'schools', 'contribute', 'to', 'the', 'marginalization', 'of', 'students', 'of', 'color', 'they', 'say', 'that', 'because', 'schools', 'with', 'large', 'populations', 'of', 'black', 'and', 'brown', 'students', 'are', 'more', 'likely', 'to', 'have', 'law', 'enforcement', 'on', 'site', 'and', 'in', 'those', 'places', 'students', 'are', 'more', 'likely', 'to', 'be', 'arrested', 'for', 'certain', 'behaviors', 'rather', 'than', 'disciplined', 'by', 'an', 'administrator', 'last', 'week', 'portland', 'oregon', 'school', 'superintendent', 'announced', 'he', 'planned', 'to', 'remove', 'police', 'from', 'schools', 'denver', 'school', 'board', 'is', 'slated', 'to', 'vote', 'thursday', 'on', 'ending', 'contract', 'for', 'uniformed', 'officers', 'in', 'oakland', 'california', 'the', 'majority', 'of', 'the', 'school', 'board', 'and', 'superintendent', 'wednesday', 'backed', 'proposal', 'to', 'eliminate', 'the', 'district', 'million', 'internal', 'police', 'force', 'despite', 'concerns', 'from', 'some', 'principals', 'according', 'to', 'the', 'san', 'francisco', 'chronicle', 'advocates', 'for', 'school', 'resource', 'officers', 'say', 'the', 'problem', 'lies', 'with', 'inconsistent', 'training', 'for', 'law', 'enforcement', 'on', 'how', 'to', 'work', 'with', 'students', 'making', 'rash', 'moves', 'to', 'end', 'the', 'programs', 'because', 'of', 'political', 'and', 'social', 'pressure', 'could', 'make', 'schools', 'less', 'safe', 'they', 'say', 'and', 'also', 'disrupt', 'the', 'opportunity', 'for', 'healthy', 'relationships', 'to', 'grow', 'between', 'law', 'enforcement', 'and', 'students', 'when', 'this', 'is', 'done', 'the', 'right', 'way', 'it', 'the', 'epitome', 'of', 'community', 'based', 'policing', 'said', 'mo', 'canady', 'executive', 'director', 'of', 'the', 'national', 'association', 'of', 'school', 'resource', 'officers', 'that', 'philosophy', 'where', 'police', 'and', 'the', 'community', 'work', 'together', 'to', 'solve', 'crimes', 'and', 'improve', 'everyone', 'quality', 'of', 'life', 'canady', 'organization', 'trains', 'officers', 'how', 'to', 'enforce', 'the', 'law', 'in', 'school', 'setting', 'informally', 'counsel', 'students', 'and', 'act', 'as', 'an', 'educator', 'but', 'nothing', 'requires', 'school', 'resource', 'officers', 'to', 'undergo', 'such', 'training', 'canady', 'said', 'there', 'federal', 'resistance', 'to', 'that', 'idea', 'out', 'of', 'respect', 'for', 'the', 'tradition', 'of', 'local', 'control', 'he', 'added', 'it', 'better', 'if', 'districts', 'would', 'say', 'we', 'need', 'these', 'officers', 'trained', 'on', 'national', 'level', 'canady', 'said', 'nationally', 'protesters', 'seeking', 'justice', 'for', 'floyd', 'want', 'to', 'reduce', 'city', 'police', 'department', 'budgets', 'and', 'redirect', 'more', 'money', 'to', 'social', 'services', 'but', 'what', 'happening', 'at', 'schools', 'offers', 'window', 'into', 'the', 'relationship', 'between', 'law', 'enforcement', 'and', 'youth', 'while', 'police', 'have', 'been', 'stationed', 'in', 'schools', 'for', 'decades', 'they', 'don', 'make', 'schools', 'overwhelmingly', 'more', 'safe', 'studies', 'show', 'review', 'of', 'the', 'most', 'comprehensive', 'studies', 'on', 'school', 'based', 'law', 'enforcement', 'showed', 'the', 'officers', 'did', 'not', 'improve', 'students', 'perception', 'of', 'safety', 'and', 'out', 'of', 'school', 'suspensions', 'and', 'expulsions', 'increased', 'after', 'school', 'resource', 'officers', 'were', 'introduced', 'to', 'building', 'it', 'not', 'like', 'there', 'really', 'strong', 'research', 'base', 'that', 'says', 'with', 'police', 'in', 'schools', 'crime', 'goes', 'down', 'and', 'bullying', 'goes', 'down', 'and', 'there', 'are', 'no', 'shootings', 'said', 'anthony', 'petrosino', 'director', 'of', 'the', 'justice', 'and', 'prevention', 'research', 'center', 'at', 'wested', 'nonpartisan', 'research', 'organization', 'that', 'focuses', 'on', 'education', 'school', 'policing', 'is', 'much', 'more', 'common', 'in', 'schools', 'with', 'kids', 'of', 'color', 'petrosino', 'added', 'there', 'real', 'question', 'of', 'whether', 'it', 'helping', 'or', 'hurting', 'is', 'it', 'leading', 'to', 'more', 'of', 'these', 'kids', 'being', 'involved', 'in', 'the', 'justice', 'system', 'or', 'being', 'kicked', 'out', 'of', 'school', 'one', 'big', 'problem', 'is', 'children', 'of', 'racial', 'minorities', 'especially', 'black', 'students', 'are', 'more', 'likely', 'to', 'be', 'suspended', 'and', 'expelled', 'from', 'school', 'than', 'white', 'students', 'even', 'when', 'they', 'commit', 'similar', 'offenses', 'research', 'shows', 'pushed', 'out', 'and', 'punished', 'black', 'girls', 'punished', 'more', 'harshly', 'than', 'white', 'girls', 'and', 'of', 'the', 'approximate', 'million', 'students', 'in', 'america', 'attending', 'schools', 'with', 'police', 'officers', 'but', 'no', 'counselors', 'more', 'of', 'those', 'students', 'are', 'black', 'than', 'white', 'by', 'contrast', 'white', 'students', 'are', 'more', 'likely', 'to', 'attend', 'schools', 'with', 'counselors', 'but', 'not', 'police', 'federal', 'data', 'show', 'on', 'top', 'of', 'that', 'number', 'of', 'high', 'profile', 'incidents', 'in', 'recent', 'years', 'have', 'put', 'spotlight', 'on', 'police', 'brutality', 'toward', 'black', 'kids', 'and', 'teens', 'inside', 'and', 'outside', 'of', 'school', 'white', 'school', 'resource', 'officer', 'in', 'south', 'carolina', 'high', 'school', 'flipped', 'black', 'girl', 'out', 'of', 'her', 'desk', 'and', 'dragged', 'her', 'across', 'the', 'floor', 'in', 'black', 'school', 'resource', 'officer', 'in', 'orlando', 'arrested', 'sobbing', 'year', 'old', 'black', 'student', 'in', 'september', 'securing', 'her', 'with', 'zip', 'ties', 'because', 'she', 'was', 'too', 'small', 'for', 'handcuffs', 'white', 'officer', 'in', 'ferguson', 'missouri', 'shot', 'and', 'killed', 'michael', 'brown', 'an', 'unarmed', 'year', 'old', 'black', 'man', 'in', 'the', 'street', 'in', 'later', 'that', 'year', 'white', 'officer', 'in', 'cleveland', 'ohio', 'shot', 'and', 'killed', 'tamir', 'rice', 'year', 'old', 'black', 'boy', 'rice', 'had', 'been', 'playing', 'with', 'toy', 'gun', 'outside', 'recreation', 'center', 'change', 'in', 'ferguson', 'city', 'elects', 'first', 'black', 'female', 'mayor', 'years', 'after', 'michael', 'brown', 'death', 'in', 'the', 'only', 'of', 'schools', 'had', 'law', 'enforcement', 'officer', 'stationed', 'in', 'them', 'according', 'to', 'federal', 'data', 'now', 'of', 'schools', 'have', 'police', 'officer', 'in', 'the', 'building', 'at', 'least', 'one', 'day', 'week', 'according', 'to', 'the', 'most', 'recent', 'federal', 'data', 'and', 'among', 'large', 'schools', 'almost', 'had', 'sworn', 'officer', 'in', 'the', 'building', 'at', 'least', 'one', 'day', 'week', 'in', 'the', 'school', 'year', 'the', 'number', 'of', 'officers', 'in', 'schools', 'accelerated', 'rapidly', 'after', 'the', 'year', 'of', 'the', 'shooting', 'at', 'columbine', 'high', 'school', 'in', 'colorado', 'the', 'massacre', 'spurred', 'national', 'discussion', 'about', 'school', 'safety', 'and', 'boost', 'in', 'federal', 'funds', 'helped', 'pay', 'for', 'more', 'cops', 'in', 'schools', 'years', 'after', 'columbine', 'survivors', 'find', 'that', 'new', 'normal', 'between', 'and', 'program', 'started', 'under', 'the', 'clinton', 'administration', 'doled', 'out', 'million', 'in', 'grants', 'to', 'police', 'departments', 'to', 'support', 'hiring', 'thousands', 'more', 'school', 'resource', 'officers', 'since', 'then', 'law', 'enforcement', 'in', 'schools', 'seemed', 'like', 'the', 'one', 'thing', 'that', 'district', 'leaders', 'would', 'not', 'change', 'said', 'aaron', 'kupchik', 'professor', 'of', 'sociology', 'and', 'criminal', 'justice', 'at', 'the', 'university', 'of', 'delaware', 'we', 'typically', 'don', 'even', 'discuss', 'it', 'because', 'it', 'common', 'assumption', 'they', 're', 'here', 'to', 'stay', 'kupchik', 'said', 'so', 'people', 'focus', 'on', 'how', 'to', 'make', 'it', 'less', 'harmful', 'like', 'by', 'ending', 'zero', 'tolerance', 'policies', 'and', 'adding', 'more', 'restorative', 'justice', 'programs', 'under', 'zero', 'tolerance', 'students', 'who', 'break', 'school', 'rules', 'are', 'subject', 'to', 'mandatory', 'severe', 'consequences', 'such', 'as', 'being', 'expelled', 'restorative', 'justice', 'programs', 'offer', 'misbehaving', 'students', 'chance', 'to', 'take', 'ownership', 'of', 'their', 'actions', 'talk', 'through', 'what', 'prompted', 'them', 'and', 'repair', 'harm', 'they', 've', 'caused', 'to', 'others', 'restorative', 'justice', 'how', 'circle', 'keeping', 'works', 'at', 'one', 'midwestern', 'school', 'despite', 'talks', 'of', 'reform', 'students', 'social', 'justice', 'groups', 'and', 'the', 'american', 'civil', 'liberties', 'union', 'have', 'been', 'working', 'for', 'years', 'to', 'end', 'school', 'policing', 'long', 'before', 'the', 'calls', 'emerged', 'as', 'part', 'of', 'the', 'floyd', 'protests', 'that', 'key', 'reason', 'districts', 'are', 'taking', 'action', 'now', 'said', 'sarah', 'hinger', 'senior', 'staff', 'attorney', 'for', 'the', 'aclu', 'racial', 'justice', 'program', 'another', 'reason', 'school', 'districts', 'are', 'more', 'inclined', 'now', 'to', 'remove', 'police', 'officers', 'money', 'districts', 'are', 'facing', 'major', 'financial', 'shortfalls', 'because', 'of', 'the', 'covid', 'pandemic', 'and', 'loss', 'of', 'tax', 'revenue', 'because', 'of', 'the', 'economic', 'shutdown', 'it', 'widely', 'acknowledged', 'that', 'low', 'income', 'children', 'group', 'that', 'includes', 'many', 'black', 'and', 'brown', 'children', 'will', 'need', 'more', 'support', 'to', 'get', 'back', 'on', 'track', 'once', 'schools', 'reopen', 'many', 'haven', 'had', 'access', 'to', 'all', 'the', 'tools', 'needed', 'for', 'online', 'learning', 'such', 'as', 'high', 'speed', 'internet', 'or', 'their', 'own', 'computer', 'police', 'contracts', 'are', 'one', 'non', 'academic', 'budget', 'item', 'that', 'could', 'be', 'dropped', 'all', 'of', 'that', 'is', 'contributing', 'to', 'why', 'this', 'movement', 'is', 'really', 'catching', 'on', 'hinger', 'said', 'kids', 'need', 'to', 'talk', 'about', 'george', 'floyd', 'with', 'coronavirus', 'school', 'closures', 'it', 'hard', 'to', 'do', 'seattle', 'public', 'schools', 'announced', 'this', 'week', 'that', 'it', 'would', 'suspend', 'officers', 'from', 'schools', 'for', 'one', 'year', 'in', 'oakland', 'wednesday', 'the', 'school', 'superintendent', 'joined', 'the', 'majority', 'of', 'the', 'school', 'board', 'in', 'backing', 'the', 'elimination', 'of', 'the', 'district', 'in', 'house', 'police', 'force', 'one', 'idea', 'is', 'to', 'replace', 'it', 'with', 'non', 'uniformed', 'ambassadors', 'to', 'keep', 'the', 'peace', 'in', 'schools', 'black', 'students', 'account', 'for', 'of', 'the', 'students', 'arrested', 'in', 'oakland', 'schools', 'while', 'only', 'making', 'up', 'of', 'the', 'district', 'population', 'according', 'to', 'the', 'black', 'organizing', 'project', 'local', 'advocacy', 'group', 'oakland', 'board', 'is', 'slated', 'to', 'vote', 'on', 'eliminating', 'the', 'police', 'force', 'on', 'june', 'some', 'districts', 'are', 'less', 'inclined', 'to', 'remove', 'officers', 'the', 'chicago', 'teachers', 'union', 'has', 'reinvigorated', 'its', 'call', 'for', 'the', 'city', 'to', 'replace', 'school', 'resource', 'officers', 'with', 'counselors', 'but', 'mayor', 'lori', 'lightfoot', 'who', 'runs', 'the', 'city', 'as', 'well', 'as', 'the', 'district', 'indicated', 'she', 'not', 'interested', 'in', 'dumping', 'the', 'million', 'contract', 'with', 'the', 'chicago', 'police', 'department', 'more', 'than', 'three', 'quarters', 'of', 'the', 'city', 'high', 'schools', 'have', 'police', 'in', 'them', 'and', 'the', 'local', 'parent', 'and', 'teacher', 'councils', 'at', 'all', 'of', 'them', 'voted', 'to', 'keep', 'the', 'officers', 'this', 'year', 'according', 'to', 'local', 'news', 'reports', 'unfortunately', 'we', 'need', 'security', 'in', 'our', 'schools', 'lightfoot', 'said', 'in', 'protest', 'chicago', 'teachers', 'and', 'students', 'have', 'recently', 'staged', 'marches', 'and', 'car', 'caravan', 'parades', 'between', 'high', 'schools', 'chicago', 'protests', 'kanye', 'west', 'joins', 'march', 'offers', 'to', 'pay', 'legal', 'fees', 'for', 'breonna', 'taylor', 'family', 'in', 'los', 'angeles', 'the', 'teachers', 'union', 'said', 'monday', 'it', 'supports', 'ending', 'the', 'district', 'in', 'house', 'police', 'force', 'the', 'unit', 'places', 'about', 'officers', 'throughout', 'the', 'nation', 'second', 'largest', 'school', 'district', 'at', 'cost', 'of', 'about', 'million', 'annually', 'but', 'the', 'head', 'of', 'the', 'district', 'school', 'police', 'union', 'said', 'officers', 'are', 'better', 'trained', 'to', 'de', 'escalate', 'situations', 'in', 'buildings', 'than', 'outside', 'cops', 'called', 'to', 'campus', 'according', 'to', 'the', 'los', 'angeles', 'times', 'in', 'phoenix', 'hundreds', 'of', 'students', 'have', 'been', 'protesting', 'the', 'use', 'of', 'on', 'campus', 'police', 'officers', 'but', 'the', 'school', 'board', 'has', 'not', 'yet', 'taken', 'vote', 'on', 'whether', 'to', 'renew', 'the', 'contract', 'there', 'not', 'much', 'good', 'data', 'on', 'what', 'happens', 'when', 'you', 'remove', 'police', 'officers', 'from', 'schools', 'but', 'new', 'york', 'and', 'louisville', 'have', 'tried', 'some', 'new', 'ideas', 'decade', 'ago', 'report', 'from', 'new', 'york', 'city', 'examined', 'how', 'handful', 'of', 'high', 'schools', 'serving', 'at', 'risk', 'students', 'maintained', 'safe', 'environments', 'without', 'police', 'district', 'safety', 'agents', 'patrolled', 'halls', 'instead', 'metal', 'detectors', 'were', 'removed', 'administrators', 'created', 'alternatives', 'to', 'harsh', 'discipline', 'policies', 'the', 'aclu', 'which', 'published', 'the', 'report', 'is', 'notably', 'in', 'favor', 'of', 'removing', 'police', 'from', 'schools', 'in', 'louisville', 'kentucky', 'the', 'jefferson', 'county', 'public', 'schools', 'cut', 'ties', 'with', 'school', 'resource', 'officers', 'last', 'august', 'because', 'of', 'issues', 'related', 'to', 'the', 'criminalization', 'of', 'black', 'students', 'the', 'district', 'this', 'week', 'couldn', 'provide', 'comparison', 'of', 'school', 'arrest', 'data', 'from', 'before', 'and', 'after', 'police', 'were', 'removed', 'but', 'in', 'general', 'according', 'to', 'the', 'louisville', 'courier', 'journal', 'school', 'safety', 'hasn', 'changed', 'much', 'though', 'one', 'school', 'made', 'headlines', 'for', 'some', 'high', 'profile', 'student', 'on', 'teacher', 'altercations', 'louisville', 'has', 'seen', 'even', 'more', 'forceful', 'protests', 'than', 'some', 'cities', 'in', 'the', 'wake', 'of', 'the', 'death', 'of', 'breonna', 'taylor', 'who', 'was', 'shot', 'by', 'white', 'police', 'officer', 'in', 'her', 'bedroom', 'in', 'march', 'district', 'spokesperson', 'in', 'jefferson', 'county', 'said', 'this', 'week', 'the', 'district', 'is', 're', 'evaluating', 'its', 'school', 'safety', 'plan', 'which', 'could', 'still', 'include', 'armed', 'guards', 'in', 'schools', 'in', 'florida', 'janice', 'scott', 'cover', 'former', 'assistant', 'superintendent', 'in', 'the', 'palm', 'beach', 'county', 'school', 'district', 'said', 'administrators', 'can', 'also', 'work', 'harder', 'to', 'identify', 'the', 'root', 'cause', 'of', 'student', 'misbehavior', 'whether', 'cops', 'are', 'there', 'or', 'not', 'when', 'she', 'became', 'principal', 'of', 'troubled', 'elementary', 'school', 'two', 'decades', 'ago', 'the', 'school', 'resource', 'officer', 'arrested', 'children', 'for', 'fighting', 'disrespecting', 'teachers', 'and', 'walking', 'out', 'of', 'class', 'not', 'all', 'the', 'resource', 'officers', 'understand', 'how', 'to', 'police', 'in', 'schools', 'cover', 'said', 'some', 'still', 'behave', 'like', 'they', 're', 'out', 'on', 'the', 'street', 'grabbing', 'people', 'and', 'throwing', 'them', 'down', 'and', 'did', 'not', 'want', 'that', 'on', 'the', 'campus', 'cover', 'rearranged', 'the', 'budget', 'to', 'hire', 'another', 'social', 'worker', 'who', 'became', 'the', 'first', 'stop', 'for', 'misbehaving', 'children', 'she', 'had', 'teachers', 'rearrange', 'classrooms', 'so', 'students', 'worked', 'in', 'groups', 'and', 'practiced', 'cooperation', 'she', 'and', 'her', 'teachers', 'doubled', 'down', 'on', 'prodding', 'into', 'students', 'lives', 'often', 'getting', 'them', 'needed', 'household', 'or', 'personal', 'items', 'over', 'time', 'the', 'climate', 'and', 'academics', 'improved', 'something', 'cover', 'recounts', 'in', 'her', 'book', 'about', 'turning', 'around', 'low', 'performing', 'elementary', 'schools', 'happy', 'now', 'that', 'people', 'are', 'beginning', 'to', 'look', 'at', 'this', 'said', 'cover', 'who', 'is', 'black', 'my', 'hope', 'is', 'that', 'you', 'don', 'just', 'remove', 'the', 'police', 'officers', 'but', 'replace', 'them', 'with', 'something', 'else', 'like', 'counselors', 'or', 'mental', 'health', 'professionals', 'or', 'school', 'psychologists', 'olivia', 'krauth', 'contributed', 'to', 'this', 'story', 'from', 'louisville', 'kentucky', 'lily', 'altavena', 'contributed', 'from', 'phoenix', 'arizona', 'education', 'coverage', 'at', 'usa', 'today', 'is', 'made', 'possible', 'in', 'part', 'by', 'grant', 'from', 'the', 'bill', 'melinda', 'gates', 'foundation', 'the', 'gates', 'foundation', 'does', 'not', 'provide', 'editorial', 'input', 'three', 'summers', 'ago', 'about', 'students', 'and', 'activists', 'gathered', 'outside', 'the', 'minneapolis', 'public', 'schools', 'headquarters', 'to', 'demand', 'the', 'school', 'board', 'end', 'contract', 'that', 'placed', 'police', 'officers', 'in', 'schools', 'the', 'officers', 'whose', 'role', 'was', 'to', 'keep', 'schools', 'safe', 'actually', 'made', 'students', 'especially', 'black', 'students', 'feel', 'criminalized', 'activists', 'said', 'but', 'the', 'majority', 'of', 'teachers', 'staff', 'and', 'parents', 'liked', 'officers', 'in', 'schools', 'district', 'wide', 'survey', 'showed', 'at', 'the', 'time', 'the', 'board', 'renewed', 'the', 'three', 'year', 'contract', 'fast', 'forward', 'to', 'june', 'eight', 'days', 'after', 'george', 'floyd', 'died', 'under', 'the', 'knee', 'of', 'minneapolis', 'police', 'officer', 'the', 'school', 'board', 'revisited', 'that', 'contract', 'and', 'ended', 'it', 'the', 'vote', 'on', 'june', 'after', 'an', 'even', 'larger', 'crowd', 'of', 'protesters', 'gathered', 'outside', 'was', 'unanimous', 'the', 'values', 'we', 'see', 'in', 'the', 'police', 'department', 'do', 'not', 'match', 'our', 'values', 'said', 'kim', 'ellison', 'chair', 'of', 'the', 'minneapolis', 'school', 'board', 'the', 'school', 'board', 'became', 'one', 'of', 'the', 'first', 'major', 'governmental', 'bodies', 'to', 'change', 'the', 'balance', 'of', 'power', 'with', 'police', 'in', 'the', 'wake', 'of', 'floyd', 'death', 'the', 'change', 'has', 'prompted', 'wave', 'of', 'districts', 'nationwide', 'to', 'consider', 'terminating', 'their', 'relationships', 'with', 'police', 'from', 'chicago', 'new', 'york', 'and', 'los', 'angeles', 'to', 'smaller', 'cities', 'like', 'rochester', 'new', 'york', 'columbus', 'ohio', 'and', 'portland', 'maine', 'and', 'fort', 'collins', 'colorado', 'students', 'and', 'activists', 'are', 'demanding', 'the', 'discontinuation', 'of', 'school', 'resource', 'officers', 'they', 'want', 'the', 'money', 'spent', 'on', 'those', 'programs', 'to', 'go', 'to', 'other', 'peacekeeping', 'strategies', 'teen', 'activists', 'too', 'young', 'to', 'vote', 'in', 'but', 'fighting', 'for', 'change', 'police', 'in', 'schools', 'contribute', 'to', 'the', 'marginalization', 'of', 'students', 'of', 'color', 'they', 'say', 'that', 'because', 'schools', 'with', 'large', 'populations', 'of', 'black', 'and', 'brown', 'students', 'are', 'more', 'likely', 'to', 'have', 'law', 'enforcement', 'on', 'site', 'and', 'in', 'those', 'places', 'students', 'are', 'more', 'likely', 'to', 'be', 'arrested', 'for', 'certain', 'behaviors', 'rather', 'than', 'disciplined', 'by', 'an', 'administrator', 'last', 'week', 'portland', 'oregon', 'school', 'superintendent', 'announced', 'he', 'planned', 'to', 'remove', 'police', 'from', 'schools', 'denver', 'school', 'board', 'is', 'slated', 'to', 'vote', 'thursday', 'on', 'ending', 'contract', 'for', 'uniformed', 'officers', 'in', 'oakland', 'california', 'the', 'majority', 'of', 'the', 'school', 'board', 'and', 'superintendent', 'wednesday', 'backed', 'proposal', 'to', 'eliminate', 'the', 'district', 'million', 'internal', 'police', 'force', 'despite', 'concerns', 'from', 'some', 'principals', 'according', 'to', 'the', 'san', 'francisco', 'chronicle', 'advocates', 'for', 'school', 'resource', 'officers', 'say', 'the', 'problem', 'lies', 'with', 'inconsistent', 'training', 'for', 'law', 'enforcement', 'on', 'how', 'to', 'work', 'with', 'students', 'making', 'rash', 'moves', 'to', 'end', 'the', 'programs', 'because', 'of', 'political', 'and', 'social', 'pressure', 'could', 'make', 'schools', 'less', 'safe', 'they', 'say', 'and', 'also', 'disrupt', 'the', 'opportunity', 'for', 'healthy', 'relationships', 'to', 'grow', 'between', 'law', 'enforcement', 'and', 'students', 'when', 'this', 'is', 'done', 'the', 'right', 'way', 'it', 'the', 'epitome', 'of', 'community', 'based', 'policing', 'said', 'mo', 'canady', 'executive', 'director', 'of', 'the', 'national', 'association', 'of', 'school', 'resource', 'officers', 'that', 'philosophy', 'where', 'police', 'and', 'the', 'community', 'work', 'together', 'to', 'solve', 'crimes', 'and', 'improve', 'everyone', 'quality', 'of', 'life', 'canady', 'organization', 'trains', 'officers', 'how', 'to', 'enforce', 'the', 'law', 'in', 'school', 'setting', 'informally', 'counsel', 'students', 'and', 'act', 'as', 'an', 'educator', 'but', 'nothing', 'requires', 'school', 'resource', 'officers', 'to', 'undergo', 'such', 'training', 'canady', 'said', 'there', 'federal', 'resistance', 'to', 'that', 'idea', 'out', 'of', 'respect', 'for', 'the', 'tradition', 'of', 'local', 'control', 'he', 'added', 'it', 'better', 'if', 'districts', 'would', 'say', 'we', 'need', 'these', 'officers', 'trained', 'on', 'national', 'level', 'canady', 'said', 'nationally', 'protesters', 'seeking', 'justice', 'for', 'floyd', 'want', 'to', 'reduce', 'city', 'police', 'department', 'budgets', 'and', 'redirect', 'more', 'money', 'to', 'social', 'services', 'but', 'what', 'happening', 'at', 'schools', 'offers', 'window', 'into', 'the', 'relationship', 'between', 'law', 'enforcement', 'and', 'youth', 'while', 'police', 'have', 'been', 'stationed', 'in', 'schools', 'for', 'decades', 'they', 'don', 'make', 'schools', 'overwhelmingly', 'more', 'safe', 'studies', 'show', 'review', 'of', 'the', 'most', 'comprehensive', 'studies', 'on', 'school', 'based', 'law', 'enforcement', 'showed', 'the', 'officers', 'did', 'not', 'improve', 'students', 'perception', 'of', 'safety', 'and', 'out', 'of', 'school', 'suspensions', 'and', 'expulsions', 'increased', 'after', 'school', 'resource', 'officers', 'were', 'introduced', 'to', 'building', 'it', 'not', 'like', 'there', 'really', 'strong', 'research', 'base', 'that', 'says', 'with', 'police', 'in', 'schools', 'crime', 'goes', 'down', 'and', 'bullying', 'goes', 'down', 'and', 'there', 'are', 'no', 'shootings', 'said', 'anthony', 'petrosino', 'director', 'of', 'the', 'justice', 'and', 'prevention', 'research', 'center', 'at', 'wested', 'nonpartisan', 'research', 'organization', 'that', 'focuses', 'on', 'education', 'school', 'policing', 'is', 'much', 'more', 'common', 'in', 'schools', 'with', 'kids', 'of', 'color', 'petrosino', 'added', 'there', 'real', 'question', 'of', 'whether', 'it', 'helping', 'or', 'hurting', 'is', 'it', 'leading', 'to', 'more', 'of', 'these', 'kids', 'being', 'involved', 'in', 'the', 'justice', 'system', 'or', 'being', 'kicked', 'out', 'of', 'school', 'one', 'big', 'problem', 'is', 'children', 'of', 'racial', 'minorities', 'especially', 'black', 'students', 'are', 'more', 'likely', 'to', 'be', 'suspended', 'and', 'expelled', 'from', 'school', 'than', 'white', 'students', 'even', 'when', 'they', 'commit', 'similar', 'offenses', 'research', 'shows', 'pushed', 'out', 'and', 'punished', 'black', 'girls', 'punished', 'more', 'harshly', 'than', 'white', 'girls', 'and', 'of', 'the', 'approximate', 'million', 'students', 'in', 'america', 'attending', 'schools', 'with', 'police', 'officers', 'but', 'no', 'counselors', 'more', 'of', 'those', 'students', 'are', 'black', 'than', 'white', 'by', 'contrast', 'white', 'students', 'are', 'more', 'likely', 'to', 'attend', 'schools', 'with', 'counselors', 'but', 'not', 'police', 'federal', 'data', 'show', 'on', 'top', 'of', 'that', 'number', 'of', 'high', 'profile', 'incidents', 'in', 'recent', 'years', 'have', 'put', 'spotlight', 'on', 'police', 'brutality', 'toward', 'black', 'kids', 'and', 'teens', 'inside', 'and', 'outside', 'of', 'school', 'white', 'school', 'resource', 'officer', 'in', 'south', 'carolina', 'high', 'school', 'flipped', 'black', 'girl', 'out', 'of', 'her', 'desk', 'and', 'dragged', 'her', 'across', 'the', 'floor', 'in', 'black', 'school', 'resource', 'officer', 'in', 'orlando', 'arrested', 'sobbing', 'year', 'old', 'black', 'student', 'in', 'september', 'securing', 'her', 'with', 'zip', 'ties', 'because', 'she', 'was', 'too', 'small', 'for', 'handcuffs', 'white', 'officer', 'in', 'ferguson', 'missouri', 'shot', 'and', 'killed', 'michael', 'brown', 'an', 'unarmed', 'year', 'old', 'black', 'man', 'in', 'the', 'street', 'in', 'later', 'that', 'year', 'white', 'officer', 'in', 'cleveland', 'ohio', 'shot', 'and', 'killed', 'tamir', 'rice', 'year', 'old', 'black', 'boy', 'rice', 'had', 'been', 'playing', 'with', 'toy', 'gun', 'outside', 'recreation', 'center', 'change', 'in', 'ferguson', 'city', 'elects', 'first', 'black', 'female', 'mayor', 'years', 'after', 'michael', 'brown', 'death', 'in', 'the', 'only', 'of', 'schools', 'had', 'law', 'enforcement', 'officer', 'stationed', 'in', 'them', 'according', 'to', 'federal', 'data', 'now', 'of', 'schools', 'have', 'police', 'officer', 'in', 'the', 'building', 'at', 'least', 'one', 'day', 'week', 'according', 'to', 'the', 'most', 'recent', 'federal', 'data', 'and', 'among', 'large', 'schools', 'almost', 'had', 'sworn', 'officer', 'in', 'the', 'building', 'at', 'least', 'one', 'day', 'week', 'in', 'the', 'school', 'year', 'the', 'number', 'of', 'officers', 'in', 'schools', 'accelerated', 'rapidly', 'after', 'the', 'year', 'of', 'the', 'shooting', 'at', 'columbine', 'high', 'school', 'in', 'colorado', 'the', 'massacre', 'spurred', 'national', 'discussion', 'about', 'school', 'safety', 'and', 'boost', 'in', 'federal', 'funds', 'helped', 'pay', 'for', 'more', 'cops', 'in', 'schools', 'years', 'after', 'columbine', 'survivors', 'find', 'that', 'new', 'normal', 'between', 'and', 'program', 'started', 'under', 'the', 'clinton', 'administration', 'doled', 'out', 'million', 'in', 'grants', 'to', 'police', 'departments', 'to', 'support', 'hiring', 'thousands', 'more', 'school', 'resource', 'officers', 'since', 'then', 'law', 'enforcement', 'in', 'schools', 'seemed', 'like', 'the', 'one', 'thing', 'that', 'district', 'leaders', 'would', 'not', 'change', 'said', 'aaron', 'kupchik', 'professor', 'of', 'sociology', 'and', 'criminal', 'justice', 'at', 'the', 'university', 'of', 'delaware', 'we', 'typically', 'don', 'even', 'discuss', 'it', 'because', 'it', 'common', 'assumption', 'they', 're', 'here', 'to', 'stay', 'kupchik', 'said', 'so', 'people', 'focus', 'on', 'how', 'to', 'make', 'it', 'less', 'harmful', 'like', 'by', 'ending', 'zero', 'tolerance', 'policies', 'and', 'adding', 'more', 'restorative', 'justice', 'programs', 'under', 'zero', 'tolerance', 'students', 'who', 'break', 'school', 'rules', 'are', 'subject', 'to', 'mandatory', 'severe', 'consequences', 'such', 'as', 'being', 'expelled', 'restorative', 'justice', 'programs', 'offer', 'misbehaving', 'students', 'chance', 'to', 'take', 'ownership', 'of', 'their', 'actions', 'talk', 'through', 'what', 'prompted', 'them', 'and', 'repair', 'harm', 'they', 've', 'caused', 'to', 'others', 'restorative', 'justice', 'how', 'circle', 'keeping', 'works', 'at', 'one', 'midwestern', 'school', 'despite', 'talks', 'of', 'reform', 'students', 'social', 'justice', 'groups', 'and', 'the', 'american', 'civil', 'liberties', 'union', 'have', 'been', 'working', 'for', 'years', 'to', 'end', 'school', 'policing', 'long', 'before', 'the', 'calls', 'emerged', 'as', 'part', 'of', 'the', 'floyd', 'protests', 'that', 'key', 'reason', 'districts', 'are', 'taking', 'action', 'now', 'said', 'sarah', 'hinger', 'senior', 'staff', 'attorney', 'for', 'the', 'aclu', 'racial', 'justice', 'program', 'another', 'reason', 'school', 'districts', 'are', 'more', 'inclined', 'now', 'to', 'remove', 'police', 'officers', 'money', 'districts', 'are', 'facing', 'major', 'financial', 'shortfalls', 'because', 'of', 'the', 'covid', 'pandemic', 'and', 'loss', 'of', 'tax', 'revenue', 'because', 'of', 'the', 'economic', 'shutdown', 'it', 'widely', 'acknowledged', 'that', 'low', 'income', 'children', 'group', 'that', 'includes', 'many', 'black', 'and', 'brown', 'children', 'will', 'need', 'more', 'support', 'to', 'get', 'back', 'on', 'track', 'once', 'schools', 'reopen', 'many', 'haven', 'had', 'access', 'to', 'all', 'the', 'tools', 'needed', 'for', 'online', 'learning', 'such', 'as', 'high', 'speed', 'internet', 'or', 'their', 'own', 'computer', 'police', 'contracts', 'are', 'one', 'non', 'academic', 'budget', 'item', 'that', 'could', 'be', 'dropped', 'all', 'of', 'that', 'is', 'contributing', 'to', 'why', 'this', 'movement', 'is', 'really', 'catching', 'on', 'hinger', 'said', 'kids', 'need', 'to', 'talk', 'about', 'george', 'floyd', 'with', 'coronavirus', 'school', 'closures', 'it', 'hard', 'to', 'do', 'seattle', 'public', 'schools', 'announced', 'this', 'week', 'that', 'it', 'would', 'suspend', 'officers', 'from', 'schools', 'for', 'one', 'year', 'in', 'oakland', 'wednesday', 'the', 'school', 'superintendent', 'joined', 'the', 'majority', 'of', 'the', 'school', 'board', 'in', 'backing', 'the', 'elimination', 'of', 'the', 'district', 'in', 'house', 'police', 'force', 'one', 'idea', 'is', 'to', 'replace', 'it', 'with', 'non', 'uniformed', 'ambassadors', 'to', 'keep', 'the', 'peace', 'in', 'schools', 'black', 'students', 'account', 'for', 'of', 'the', 'students', 'arrested', 'in', 'oakland', 'schools', 'while', 'only', 'making', 'up', 'of', 'the', 'district', 'population', 'according', 'to', 'the', 'black', 'organizing', 'project', 'local', 'advocacy', 'group', 'oakland', 'board', 'is', 'slated', 'to', 'vote', 'on', 'eliminating', 'the', 'police', 'force', 'on', 'june', 'some', 'districts', 'are', 'less', 'inclined', 'to', 'remove', 'officers', 'the', 'chicago', 'teachers', 'union', 'has', 'reinvigorated', 'its', 'call', 'for', 'the', 'city', 'to', 'replace', 'school', 'resource', 'officers', 'with', 'counselors', 'but', 'mayor', 'lori', 'lightfoot', 'who', 'runs', 'the', 'city', 'as', 'well', 'as', 'the', 'district', 'indicated', 'she', 'not', 'interested', 'in', 'dumping', 'the', 'million', 'contract', 'with', 'the', 'chicago', 'police', 'department', 'more', 'than', 'three', 'quarters', 'of', 'the', 'city', 'high', 'schools', 'have', 'police', 'in', 'them', 'and', 'the', 'local', 'parent', 'and', 'teacher', 'councils', 'at', 'all', 'of', 'them', 'voted', 'to', 'keep', 'the', 'officers', 'this', 'year', 'according', 'to', 'local', 'news', 'reports', 'unfortunately', 'we', 'need', 'security', 'in', 'our', 'schools', 'lightfoot', 'said', 'in', 'protest', 'chicago', 'teachers', 'and', 'students', 'have', 'recently', 'staged', 'marches', 'and', 'car', 'caravan', 'parades', 'between', 'high', 'schools', 'chicago', 'protests', 'kanye', 'west', 'joins', 'march', 'offers', 'to', 'pay', 'legal', 'fees', 'for', 'breonna', 'taylor', 'family', 'in', 'los', 'angeles', 'the', 'teachers', 'union', 'said', 'monday', 'it', 'supports', 'ending', 'the', 'district', 'in', 'house', 'police', 'force', 'the', 'unit', 'places', 'about', 'officers', 'throughout', 'the', 'nation', 'second', 'largest', 'school', 'district', 'at', 'cost', 'of', 'about', 'million', 'annually', 'but', 'the', 'head', 'of', 'the', 'district', 'school', 'police', 'union', 'said', 'officers', 'are', 'better', 'trained', 'to', 'de', 'escalate', 'situations', 'in', 'buildings', 'than', 'outside', 'cops', 'called', 'to', 'campus', 'according', 'to', 'the', 'los', 'angeles', 'times', 'in', 'phoenix', 'hundreds', 'of', 'students', 'have', 'been', 'protesting', 'the', 'use', 'of', 'on', 'campus', 'police', 'officers', 'but', 'the', 'school', 'board', 'has', 'not', 'yet', 'taken', 'vote', 'on', 'whether', 'to', 'renew', 'the', 'contract', 'there', 'not', 'much', 'good', 'data', 'on', 'what', 'happens', 'when', 'you', 'remove', 'police', 'officers', 'from', 'schools', 'but', 'new', 'york', 'and', 'louisville', 'have', 'tried', 'some', 'new', 'ideas', 'decade', 'ago', 'report', 'from', 'new', 'york', 'city', 'examined', 'how', 'handful', 'of', 'high', 'schools', 'serving', 'at', 'risk', 'students', 'maintained', 'safe', 'environments', 'without', 'police', 'district', 'safety', 'agents', 'patrolled', 'halls', 'instead', 'metal', 'detectors', 'were', 'removed', 'administrators', 'created', 'alternatives', 'to', 'harsh', 'discipline', 'policies', 'the', 'aclu', 'which', 'published', 'the', 'report', 'is', 'notably', 'in', 'favor', 'of', 'removing', 'police', 'from', 'schools', 'in', 'louisville', 'kentucky', 'the', 'jefferson', 'county', 'public', 'schools', 'cut', 'ties', 'with', 'school', 'resource', 'officers', 'last', 'august', 'because', 'of', 'issues', 'related', 'to', 'the', 'criminalization', 'of', 'black', 'students', 'the', 'district', 'this', 'week', 'couldn', 'provide', 'comparison', 'of', 'school', 'arrest', 'data', 'from', 'before', 'and', 'after', 'police', 'were', 'removed', 'but', 'in', 'general', 'according', 'to', 'the', 'louisville', 'courier', 'journal', 'school', 'safety', 'hasn', 'changed', 'much', 'though', 'one', 'school', 'made', 'headlines', 'for', 'some', 'high', 'profile', 'student', 'on', 'teacher', 'altercations', 'louisville', 'has', 'seen', 'even', 'more', 'forceful', 'protests', 'than', 'some', 'cities', 'in', 'the', 'wake', 'of', 'the', 'death', 'of', 'breonna', 'taylor', 'who', 'was', 'shot', 'by', 'white', 'police', 'officer', 'in', 'her', 'bedroom', 'in', 'march', 'district', 'spokesperson', 'in', 'jefferson', 'county', 'said', 'this', 'week', 'the', 'district', 'is', 're', 'evaluating', 'its', 'school', 'safety', 'plan', 'which', 'could', 'still', 'include', 'armed', 'guards', 'in', 'schools', 'in', 'florida', 'janice', 'scott', 'cover', 'former', 'assistant', 'superintendent', 'in', 'the', 'palm', 'beach', 'county', 'school', 'district', 'said', 'administrators', 'can', 'also', 'work', 'harder', 'to', 'identify', 'the', 'root', 'cause', 'of', 'student', 'misbehavior', 'whether', 'cops', 'are', 'there', 'or', 'not', 'when', 'she', 'became', 'principal', 'of', 'troubled', 'elementary', 'school', 'two', 'decades', 'ago', 'the', 'school', 'resource', 'officer', 'arrested', 'children', 'for', 'fighting', 'disrespecting', 'teachers', 'and', 'walking', 'out', 'of', 'class', 'not', 'all', 'the', 'resource', 'officers', 'understand', 'how', 'to', 'police', 'in', 'schools', 'cover', 'said', 'some', 'still', 'behave', 'like', 'they', 're', 'out', 'on', 'the', 'street', 'grabbing', 'people', 'and', 'throwing', 'them', 'down', 'and', 'did', 'not', 'want', 'that', 'on', 'the', 'campus', 'cover', 'rearranged', 'the', 'budget', 'to', 'hire', 'another', 'social', 'worker', 'who', 'became', 'the', 'first', 'stop', 'for', 'misbehaving', 'children', 'she', 'had', 'teachers', 'rearrange', 'classrooms', 'so', 'students', 'worked', 'in', 'groups', 'and', 'practiced', 'cooperation', 'she', 'and', 'her', 'teachers', 'doubled', 'down', 'on', 'prodding', 'into', 'students', 'lives', 'often', 'getting', 'them', 'needed', 'household', 'or', 'personal', 'items', 'over', 'time', 'the', 'climate', 'and', 'academics', 'improved', 'something', 'cover', 'recounts', 'in', 'her', 'book', 'about', 'turning', 'around', 'low', 'performing', 'elementary', 'schools', 'happy', 'now', 'that', 'people', 'are', 'beginning', 'to', 'look', 'at', 'this', 'said', 'cover', 'who', 'is', 'black', 'my', 'hope', 'is', 'that', 'you', 'don', 'just', 'remove', 'the', 'police', 'officers', 'but', 'replace', 'them', 'with', 'something', 'else', 'like', 'counselors', 'or', 'mental', 'health', 'professionals', 'or', 'school', 'psychologists', 'olivia', 'krauth', 'contributed', 'to', 'this', 'story', 'from', 'louisville', 'kentucky', 'lily', 'altavena', 'contributed', 'from', 'phoenix', 'arizona', 'education', 'coverage', 'at', 'usa', 'today', 'is', 'made', 'possible', 'in', 'part', 'by', 'grant', 'from', 'the', 'bill', 'melinda', 'gates', 'foundation', 'the', 'gates', 'foundation', 'does', 'not', 'provide', 'editorial', 'input', 'three', 'summers', 'ago', 'about', 'students', 'and', 'activists', 'gathered', 'outside', 'the', 'minneapolis', 'public', 'schools', 'headquarters', 'to', 'demand', 'the', 'school', 'board', 'end', 'contract', 'that', 'placed', 'police', 'officers', 'in', 'schools', 'the', 'officers', 'whose', 'role', 'was', 'to', 'keep', 'schools', 'safe', 'actually', 'made', 'students', 'especially', 'black', 'students', 'feel', 'criminalized', 'activists', 'said', 'but', 'the', 'majority', 'of', 'teachers', 'staff', 'and', 'parents', 'liked', 'officers', 'in', 'schools', 'district', 'wide', 'survey', 'showed', 'at', 'the', 'time', 'the', 'board', 'renewed', 'the', 'three', 'year', 'contract', 'fast', 'forward', 'to', 'june', 'eight', 'days', 'after', 'george', 'floyd', 'died', 'under', 'the', 'knee', 'of', 'minneapolis', 'police', 'officer', 'the', 'school', 'board', 'revisited', 'that', 'contract', 'and', 'ended', 'it', 'the', 'vote', 'on', 'june', 'after', 'an', 'even', 'larger', 'crowd', 'of', 'protesters', 'gathered', 'outside', 'was', 'unanimous', 'the', 'values', 'we', 'see', 'in', 'the', 'police', 'department', 'do', 'not', 'match', 'our', 'values', 'said', 'kim', 'ellison', 'chair', 'of', 'the', 'minneapolis', 'school', 'board', 'the', 'school', 'board', 'became', 'one', 'of', 'the', 'first', 'major', 'governmental', 'bodies', 'to', 'change', 'the', 'balance', 'of', 'power', 'with', 'police', 'in', 'the', 'wake', 'of', 'floyd', 'death', 'the', 'change', 'has', 'prompted', 'wave', 'of', 'districts', 'nationwide', 'to', 'consider', 'terminating', 'their', 'relationships', 'with', 'police', 'from', 'chicago', 'new', 'york', 'and', 'los', 'angeles', 'to', 'smaller', 'cities', 'like', 'rochester', 'new', 'york', 'columbus', 'ohio', 'and', 'portland', 'maine', 'and', 'fort', 'collins', 'colorado', 'students', 'and', 'activists', 'are', 'demanding', 'the', 'discontinuation', 'of', 'school', 'resource', 'officers', 'they', 'want', 'the', 'money', 'spent', 'on', 'those', 'programs', 'to', 'go', 'to', 'other', 'peacekeeping', 'strategies', 'teen', 'activists', 'too', 'young', 'to', 'vote', 'in', 'but', 'fighting', 'for', 'change', 'police', 'in', 'schools', 'contribute', 'to', 'the', 'marginalization', 'of', 'students', 'of', 'color', 'they', 'say', 'that', 'because', 'schools', 'with', 'large', 'populations', 'of', 'black', 'and', 'brown', 'students', 'are', 'more', 'likely', 'to', 'have', 'law', 'enforcement', 'on', 'site', 'and', 'in', 'those', 'places', 'students', 'are', 'more', 'likely', 'to', 'be', 'arrested', 'for', 'certain', 'behaviors', 'rather', 'than', 'disciplined', 'by', 'an', 'administrator', 'last', 'week', 'portland', 'oregon', 'school', 'superintendent', 'announced', 'he', 'planned', 'to', 'remove', 'police', 'from', 'schools', 'denver', 'school', 'board', 'is', 'slated', 'to', 'vote', 'thursday', 'on', 'ending', 'contract', 'for', 'uniformed', 'officers', 'in', 'oakland', 'california', 'the', 'majority', 'of', 'the', 'school', 'board', 'and', 'superintendent', 'wednesday', 'backed', 'proposal', 'to', 'eliminate', 'the', 'district', 'million', 'internal', 'police', 'force', 'despite', 'concerns', 'from', 'some', 'principals', 'according', 'to', 'the', 'san', 'francisco', 'chronicle', 'advocates', 'for', 'school', 'resource', 'officers', 'say', 'the', 'problem', 'lies', 'with', 'inconsistent', 'training', 'for', 'law', 'enforcement', 'on', 'how', 'to', 'work', 'with', 'students', 'making', 'rash', 'moves', 'to', 'end', 'the', 'programs', 'because', 'of', 'political', 'and', 'social', 'pressure', 'could', 'make', 'schools', 'less', 'safe', 'they', 'say', 'and', 'also', 'disrupt', 'the', 'opportunity', 'for', 'healthy', 'relationships', 'to', 'grow', 'between', 'law', 'enforcement', 'and', 'students', 'when', 'this', 'is', 'done', 'the', 'right', 'way', 'it', 'the', 'epitome', 'of', 'community', 'based', 'policing', 'said', 'mo', 'canady', 'executive', 'director', 'of', 'the', 'national', 'association', 'of', 'school', 'resource', 'officers', 'that', 'philosophy', 'where', 'police', 'and', 'the', 'community', 'work', 'together', 'to', 'solve', 'crimes', 'and', 'improve', 'everyone', 'quality', 'of', 'life', 'canady', 'organization', 'trains', 'officers', 'how', 'to', 'enforce', 'the', 'law', 'in', 'school', 'setting', 'informally', 'counsel', 'students', 'and', 'act', 'as', 'an', 'educator', 'but', 'nothing', 'requires', 'school', 'resource', 'officers', 'to', 'undergo', 'such', 'training', 'canady', 'said', 'there', 'federal', 'resistance', 'to', 'that', 'idea', 'out', 'of', 'respect', 'for', 'the', 'tradition', 'of', 'local', 'control', 'he', 'added', 'it', 'better', 'if', 'districts', 'would', 'say', 'we', 'need', 'these', 'officers', 'trained', 'on', 'national', 'level', 'canady', 'said', 'nationally', 'protesters', 'seeking', 'justice', 'for', 'floyd', 'want', 'to', 'reduce', 'city', 'police', 'department', 'budgets', 'and', 'redirect', 'more', 'money', 'to', 'social', 'services', 'but', 'what', 'happening', 'at', 'schools', 'offers', 'window', 'into', 'the', 'relationship', 'between', 'law', 'enforcement', 'and', 'youth', 'while', 'police', 'have', 'been', 'stationed', 'in', 'schools', 'for', 'decades', 'they', 'don', 'make', 'schools', 'overwhelmingly', 'more', 'safe', 'studies', 'show', 'review', 'of', 'the', 'most', 'comprehensive', 'studies', 'on', 'school', 'based', 'law', 'enforcement', 'showed', 'the', 'officers', 'did', 'not', 'improve', 'students', 'perception', 'of', 'safety', 'and', 'out', 'of', 'school', 'suspensions', 'and', 'expulsions', 'increased', 'after', 'school', 'resource', 'officers', 'were', 'introduced', 'to', 'building', 'it', 'not', 'like', 'there', 'really', 'strong', 'research', 'base', 'that', 'says', 'with', 'police', 'in', 'schools', 'crime', 'goes', 'down', 'and', 'bullying', 'goes', 'down', 'and', 'there', 'are', 'no', 'shootings', 'said', 'anthony', 'petrosino', 'director', 'of', 'the', 'justice', 'and', 'prevention', 'research', 'center', 'at', 'wested', 'nonpartisan', 'research', 'organization', 'that', 'focuses', 'on', 'education', 'school', 'policing', 'is', 'much', 'more', 'common', 'in', 'schools', 'with', 'kids', 'of', 'color', 'petrosino', 'added', 'there', 'real', 'question', 'of', 'whether', 'it', 'helping', 'or', 'hurting', 'is', 'it', 'leading', 'to', 'more', 'of', 'these', 'kids', 'being', 'involved', 'in', 'the', 'justice', 'system', 'or', 'being', 'kicked', 'out', 'of', 'school', 'one', 'big', 'problem', 'is', 'children', 'of', 'racial', 'minorities', 'especially', 'black', 'students', 'are', 'more', 'likely', 'to', 'be', 'suspended', 'and', 'expelled', 'from', 'school', 'than', 'white', 'students', 'even', 'when', 'they', 'commit', 'similar', 'offenses', 'research', 'shows', 'pushed', 'out', 'and', 'punished', 'black', 'girls', 'punished', 'more', 'harshly', 'than', 'white', 'girls', 'and', 'of', 'the', 'approximate', 'million', 'students', 'in', 'america', 'attending', 'schools', 'with', 'police', 'officers', 'but', 'no', 'counselors', 'more', 'of', 'those', 'students', 'are', 'black', 'than', 'white', 'by', 'contrast', 'white', 'students', 'are', 'more', 'likely', 'to', 'attend', 'schools', 'with', 'counselors', 'but', 'not', 'police', 'federal', 'data', 'show', 'on', 'top', 'of', 'that', 'number', 'of', 'high', 'profile', 'incidents', 'in', 'recent', 'years', 'have', 'put', 'spotlight', 'on', 'police', 'brutality', 'toward', 'black', 'kids', 'and', 'teens', 'inside', 'and', 'outside', 'of', 'school', 'white', 'school', 'resource', 'officer', 'in', 'south', 'carolina', 'high', 'school', 'flipped', 'black', 'girl', 'out', 'of', 'her', 'desk', 'and', 'dragged', 'her', 'across', 'the', 'floor', 'in', 'black', 'school', 'resource', 'officer', 'in', 'orlando', 'arrested', 'sobbing', 'year', 'old', 'black', 'student', 'in', 'september', 'securing', 'her', 'with', 'zip', 'ties', 'because', 'she', 'was', 'too', 'small', 'for', 'handcuffs', 'white', 'officer', 'in', 'ferguson', 'missouri', 'shot', 'and', 'killed', 'michael', 'brown', 'an', 'unarmed', 'year', 'old', 'black', 'man', 'in', 'the', 'street', 'in', 'later', 'that', 'year', 'white', 'officer', 'in', 'cleveland', 'ohio', 'shot', 'and', 'killed', 'tamir', 'rice', 'year', 'old', 'black', 'boy', 'rice', 'had', 'been', 'playing', 'with', 'toy', 'gun', 'outside', 'recreation', 'center', 'change', 'in', 'ferguson', 'city', 'elects', 'first', 'black', 'female', 'mayor', 'years', 'after', 'michael', 'brown', 'death', 'in', 'the', 'only', 'of', 'schools', 'had', 'law', 'enforcement', 'officer', 'stationed', 'in', 'them', 'according', 'to', 'federal', 'data', 'now', 'of', 'schools', 'have', 'police', 'officer', 'in', 'the', 'building', 'at', 'least', 'one', 'day', 'week', 'according', 'to', 'the', 'most', 'recent', 'federal', 'data', 'and', 'among', 'large', 'schools', 'almost', 'had', 'sworn', 'officer', 'in', 'the', 'building', 'at', 'least', 'one', 'day', 'week', 'in', 'the', 'school', 'year', 'the', 'number', 'of', 'officers', 'in', 'schools', 'accelerated', 'rapidly', 'after', 'the', 'year', 'of', 'the', 'shooting', 'at', 'columbine', 'high', 'school', 'in', 'colorado', 'the', 'massacre', 'spurred', 'national', 'discussion', 'about', 'school', 'safety', 'and', 'boost', 'in', 'federal', 'funds', 'helped', 'pay', 'for', 'more', 'cops', 'in', 'schools', 'years', 'after', 'columbine', 'survivors', 'find', 'that', 'new', 'normal', 'between', 'and', 'program', 'started', 'under', 'the', 'clinton', 'administration', 'doled', 'out', 'million', 'in', 'grants', 'to', 'police', 'departments', 'to', 'support', 'hiring', 'thousands', 'more', 'school', 'resource', 'officers', 'since', 'then', 'law', 'enforcement', 'in', 'schools', 'seemed', 'like', 'the', 'one', 'thing', 'that', 'district', 'leaders', 'would', 'not', 'change', 'said', 'aaron', 'kupchik', 'professor', 'of', 'sociology', 'and', 'criminal', 'justice', 'at', 'the', 'university', 'of', 'delaware', 'we', 'typically', 'don', 'even', 'discuss', 'it', 'because', 'it', 'common', 'assumption', 'they', 're', 'here', 'to', 'stay', 'kupchik', 'said', 'so', 'people', 'focus', 'on', 'how', 'to', 'make', 'it', 'less', 'harmful', 'like', 'by', 'ending', 'zero', 'tolerance', 'policies', 'and', 'adding', 'more', 'restorative', 'justice', 'programs', 'under', 'zero', 'tolerance', 'students', 'who', 'break', 'school', 'rules', 'are', 'subject', 'to', 'mandatory', 'severe', 'consequences', 'such', 'as', 'being', 'expelled', 'restorative', 'justice', 'programs', 'offer', 'misbehaving', 'students', 'chance', 'to', 'take', 'ownership', 'of', 'their', 'actions', 'talk', 'through', 'what', 'prompted', 'them', 'and', 'repair', 'harm', 'they', 've', 'caused', 'to', 'others', 'restorative', 'justice', 'how', 'circle', 'keeping', 'works', 'at', 'one', 'midwestern', 'school', 'despite', 'talks', 'of', 'reform', 'students', 'social', 'justice', 'groups', 'and', 'the', 'american', 'civil', 'liberties', 'union', 'have', 'been', 'working', 'for', 'years', 'to', 'end', 'school', 'policing', 'long', 'before', 'the', 'calls', 'emerged', 'as', 'part', 'of', 'the', 'floyd', 'protests', 'that', 'key', 'reason', 'districts', 'are', 'taking', 'action', 'now', 'said', 'sarah', 'hinger', 'senior', 'staff', 'attorney', 'for', 'the', 'aclu', 'racial', 'justice', 'program', 'another', 'reason', 'school', 'districts', 'are', 'more', 'inclined', 'now', 'to', 'remove', 'police', 'officers', 'money', 'districts', 'are', 'facing', 'major', 'financial', 'shortfalls', 'because', 'of', 'the', 'covid', 'pandemic', 'and', 'loss', 'of', 'tax', 'revenue', 'because', 'of', 'the', 'economic', 'shutdown', 'it', 'widely', 'acknowledged', 'that', 'low', 'income', 'children', 'group', 'that', 'includes', 'many', 'black', 'and', 'brown', 'children', 'will', 'need', 'more', 'support', 'to', 'get', 'back', 'on', 'track', 'once', 'schools', 'reopen', 'many', 'haven', 'had', 'access', 'to', 'all', 'the', 'tools', 'needed', 'for', 'online', 'learning', 'such', 'as', 'high', 'speed', 'internet', 'or', 'their', 'own', 'computer', 'police', 'contracts', 'are', 'one', 'non', 'academic', 'budget', 'item', 'that', 'could', 'be', 'dropped', 'all', 'of', 'that', 'is', 'contributing', 'to', 'why', 'this', 'movement', 'is', 'really', 'catching', 'on', 'hinger', 'said', 'kids', 'need', 'to', 'talk', 'about', 'george', 'floyd', 'with', 'coronavirus', 'school', 'closures', 'it', 'hard', 'to', 'do', 'seattle', 'public', 'schools', 'announced', 'this', 'week', 'that', 'it', 'would', 'suspend', 'officers', 'from', 'schools', 'for', 'one', 'year', 'in', 'oakland', 'wednesday', 'the', 'school', 'superintendent', 'joined', 'the', 'majority', 'of', 'the', 'school', 'board', 'in', 'backing', 'the', 'elimination', 'of', 'the', 'district', 'in', 'house', 'police', 'force', 'one', 'idea', 'is', 'to', 'replace', 'it', 'with', 'non', 'uniformed', 'ambassadors', 'to', 'keep', 'the', 'peace', 'in', 'schools', 'black', 'students', 'account', 'for', 'of', 'the', 'students', 'arrested', 'in', 'oakland', 'schools', 'while', 'only', 'making', 'up', 'of', 'the', 'district', 'population', 'according', 'to', 'the', 'black', 'organizing', 'project', 'local', 'advocacy', 'group', 'oakland', 'board', 'is', 'slated', 'to', 'vote', 'on', 'eliminating', 'the', 'police', 'force', 'on', 'june', 'some', 'districts', 'are', 'less', 'inclined', 'to', 'remove', 'officers', 'the', 'chicago', 'teachers', 'union', 'has', 'reinvigorated', 'its', 'call', 'for', 'the', 'city', 'to', 'replace', 'school', 'resource', 'officers', 'with', 'counselors', 'but', 'mayor', 'lori', 'lightfoot', 'who', 'runs', 'the', 'city', 'as', 'well', 'as', 'the', 'district', 'indicated', 'she', 'not', 'interested', 'in', 'dumping', 'the', 'million', 'contract', 'with', 'the', 'chicago', 'police', 'department', 'more', 'than', 'three', 'quarters', 'of', 'the', 'city', 'high', 'schools', 'have', 'police', 'in', 'them', 'and', 'the', 'local', 'parent', 'and', 'teacher', 'councils', 'at', 'all', 'of', 'them', 'voted', 'to', 'keep', 'the', 'officers', 'this', 'year', 'according', 'to', 'local', 'news', 'reports', 'unfortunately', 'we', 'need', 'security', 'in', 'our', 'schools', 'lightfoot', 'said', 'in', 'protest', 'chicago', 'teachers', 'and', 'students', 'have', 'recently', 'staged', 'marches', 'and', 'car', 'caravan', 'parades', 'between', 'high', 'schools', 'chicago', 'protests', 'kanye', 'west', 'joins', 'march', 'offers', 'to', 'pay', 'legal', 'fees', 'for', 'breonna', 'taylor', 'family', 'in', 'los', 'angeles', 'the', 'teachers', 'union', 'said', 'monday', 'it', 'supports', 'ending', 'the', 'district', 'in', 'house', 'police', 'force', 'the', 'unit', 'places', 'about', 'officers', 'throughout', 'the', 'nation', 'second', 'largest', 'school', 'district', 'at', 'cost', 'of', 'about', 'million', 'annually', 'but', 'the', 'head', 'of', 'the', 'district', 'school', 'police', 'union', 'said', 'officers', 'are', 'better', 'trained', 'to', 'de', 'escalate', 'situations', 'in', 'buildings', 'than', 'outside', 'cops', 'called', 'to', 'campus', 'according', 'to', 'the', 'los', 'angeles', 'times', 'in', 'phoenix', 'hundreds', 'of', 'students', 'have', 'been', 'protesting', 'the', 'use', 'of', 'on', 'campus', 'police', 'officers', 'but', 'the', 'school', 'board', 'has', 'not', 'yet', 'taken', 'vote', 'on', 'whether', 'to', 'renew', 'the', 'contract', 'there', 'not', 'much', 'good', 'data', 'on', 'what', 'happens', 'when', 'you', 'remove', 'police', 'officers', 'from', 'schools', 'but', 'new', 'york', 'and', 'louisville', 'have', 'tried', 'some', 'new', 'ideas', 'decade', 'ago', 'report', 'from', 'new', 'york', 'city', 'examined', 'how', 'handful', 'of', 'high', 'schools', 'serving', 'at', 'risk', 'students', 'maintained', 'safe', 'environments', 'without', 'police', 'district', 'safety', 'agents', 'patrolled', 'halls', 'instead', 'metal', 'detectors', 'were', 'removed', 'administrators', 'created', 'alternatives', 'to', 'harsh', 'discipline', 'policies', 'the', 'aclu', 'which', 'published', 'the', 'report', 'is', 'notably', 'in', 'favor', 'of', 'removing', 'police', 'from', 'schools', 'in', 'louisville', 'kentucky', 'the', 'jefferson', 'county', 'public', 'schools', 'cut', 'ties', 'with', 'school', 'resource', 'officers', 'last', 'august', 'because', 'of', 'issues', 'related', 'to', 'the', 'criminalization', 'of', 'black', 'students', 'the', 'district', 'this', 'week', 'couldn', 'provide', 'comparison', 'of', 'school', 'arrest', 'data', 'from', 'before', 'and', 'after', 'police', 'were', 'removed', 'but', 'in', 'general', 'according', 'to', 'the', 'louisville', 'courier', 'journal', 'school', 'safety', 'hasn', 'changed', 'much', 'though', 'one', 'school', 'made', 'headlines', 'for', 'some', 'high', 'profile', 'student', 'on', 'teacher', 'altercations', 'louisville', 'has', 'seen', 'even', 'more', 'forceful', 'protests', 'than', 'some', 'cities', 'in', 'the', 'wake', 'of', 'the', 'death', 'of', 'breonna', 'taylor', 'who', 'was', 'shot', 'by', 'white', 'police', 'officer', 'in', 'her', 'bedroom', 'in', 'march', 'district', 'spokesperson', 'in', 'jefferson', 'county', 'said', 'this', 'week', 'the', 'district', 'is', 're', 'evaluating', 'its', 'school', 'safety', 'plan', 'which', 'could', 'still', 'include', 'armed', 'guards', 'in', 'schools', 'in', 'florida', 'janice', 'scott', 'cover', 'former', 'assistant', 'superintendent', 'in', 'the', 'palm', 'beach', 'county', 'school', 'district', 'said', 'administrators', 'can', 'also', 'work', 'harder', 'to', 'identify', 'the', 'root', 'cause', 'of', 'student', 'misbehavior', 'whether', 'cops', 'are', 'there', 'or', 'not', 'when', 'she', 'became', 'principal', 'of', 'troubled', 'elementary', 'school', 'two', 'decades', 'ago', 'the', 'school', 'resource', 'officer', 'arrested', 'children', 'for', 'fighting', 'disrespecting', 'teachers', 'and', 'walking', 'out', 'of', 'class', 'not', 'all', 'the', 'resource', 'officers', 'understand', 'how', 'to', 'police', 'in', 'schools', 'cover', 'said', 'some', 'still', 'behave', 'like', 'they', 're', 'out', 'on', 'the', 'street', 'grabbing', 'people', 'and', 'throwing', 'them', 'down', 'and', 'did', 'not', 'want', 'that', 'on', 'the', 'campus', 'cover', 'rearranged', 'the', 'budget', 'to', 'hire', 'another', 'social', 'worker', 'who', 'became', 'the', 'first', 'stop', 'for', 'misbehaving', 'children', 'she', 'had', 'teachers', 'rearrange', 'classrooms', 'so', 'students', 'worked', 'in', 'groups', 'and', 'practiced', 'cooperation', 'she', 'and', 'her', 'teachers', 'doubled', 'down', 'on', 'prodding', 'into', 'students', 'lives', 'often', 'getting', 'them', 'needed', 'household', 'or', 'personal', 'items', 'over', 'time', 'the', 'climate', 'and', 'academics', 'improved', 'something', 'cover', 'recounts', 'in', 'her', 'book', 'about', 'turning', 'around', 'low', 'performing', 'elementary', 'schools', 'happy', 'now', 'that', 'people', 'are', 'beginning', 'to', 'look', 'at', 'this', 'said', 'cover', 'who', 'is', 'black', 'my', 'hope', 'is', 'that', 'you', 'don', 'just', 'remove', 'the', 'police', 'officers', 'but', 'replace', 'them', 'with', 'something', 'else', 'like', 'counselors', 'or', 'mental', 'health', 'professionals', 'or', 'school', 'psychologists', 'olivia', 'krauth', 'contributed', 'to', 'this', 'story', 'from', 'louisville', 'kentucky', 'lily', 'altavena', 'contributed', 'from', 'phoenix', 'arizona', 'education', 'coverage', 'at', 'usa', 'today', 'is', 'made', 'possible', 'in', 'part', 'by', 'grant', 'from', 'the', 'bill', 'melinda', 'gates', 'foundation', 'the', 'gates', 'foundation', 'does', 'not', 'provide', 'editorial', 'input', 'three', 'summers', 'ago', 'about', 'students', 'and', 'activists', 'gathered', 'outside', 'the', 'minneapolis', 'public', 'schools', 'headquarters', 'to', 'demand', 'the', 'school', 'board', 'end', 'contract', 'that', 'placed', 'police', 'officers', 'in', 'schools', 'the', 'officers', 'whose', 'role', 'was', 'to', 'keep', 'schools', 'safe', 'actually', 'made', 'students', 'especially', 'black', 'students', 'feel', 'criminalized', 'activists', 'said', 'but', 'the', 'majority', 'of', 'teachers', 'staff', 'and', 'parents', 'liked', 'officers', 'in', 'schools', 'district', 'wide', 'survey', 'showed', 'at', 'the', 'time', 'the', 'board', 'renewed', 'the', 'three', 'year', 'contract', 'fast', 'forward', 'to', 'june', 'eight', 'days', 'after', 'george', 'floyd', 'died', 'under', 'the', 'knee', 'of', 'minneapolis', 'police', 'officer', 'the', 'school', 'board', 'revisited', 'that', 'contract', 'and', 'ended', 'it', 'the', 'vote', 'on', 'june', 'after', 'an', 'even', 'larger', 'crowd', 'of', 'protesters', 'gathered', 'outside', 'was', 'unanimous', 'the', 'values', 'we', 'see', 'in', 'the', 'police', 'department', 'do', 'not', 'match', 'our', 'values', 'said', 'kim', 'ellison', 'chair', 'of', 'the', 'minneapolis', 'school', 'board', 'the', 'school', 'board', 'became', 'one', 'of', 'the', 'first', 'major', 'governmental', 'bodies', 'to', 'change', 'the', 'balance', 'of', 'power', 'with', 'police', 'in', 'the', 'wake', 'of', 'floyd', 'death', 'the', 'change', 'has', 'prompted', 'wave', 'of', 'districts', 'nationwide', 'to', 'consider', 'terminating', 'their', 'relationships', 'with', 'police', 'from', 'chicago', 'new', 'york', 'and', 'los', 'angeles', 'to', 'smaller', 'cities', 'like', 'rochester', 'new', 'york', 'columbus', 'ohio', 'and', 'portland', 'maine', 'and', 'fort', 'collins', 'colorado', 'students', 'and', 'activists', 'are', 'demanding', 'the', 'discontinuation', 'of', 'school', 'resource', 'officers', 'they', 'want', 'the', 'money', 'spent', 'on', 'those', 'programs', 'to', 'go', 'to', 'other', 'peacekeeping', 'strategies', 'teen', 'activists', 'too', 'young', 'to', 'vote', 'in', 'but', 'fighting', 'for', 'change', 'police', 'in', 'schools', 'contribute', 'to', 'the', 'marginalization', 'of', 'students', 'of', 'color', 'they', 'say', 'that', 'because', 'schools', 'with', 'large', 'populations', 'of', 'black', 'and', 'brown', 'students', 'are', 'more', 'likely', 'to', 'have', 'law', 'enforcement', 'on', 'site', 'and', 'in', 'those', 'places', 'students', 'are', 'more', 'likely', 'to', 'be', 'arrested', 'for', 'certain', 'behaviors', 'rather', 'than', 'disciplined', 'by', 'an', 'administrator', 'last', 'week', 'portland', 'oregon', 'school', 'superintendent', 'announced', 'he', 'planned', 'to', 'remove', 'police', 'from', 'schools', 'denver', 'school', 'board', 'is', 'slated', 'to', 'vote', 'thursday', 'on', 'ending', 'contract', 'for', 'uniformed', 'officers', 'in', 'oakland', 'california', 'the', 'majority', 'of', 'the', 'school', 'board', 'and', 'superintendent', 'wednesday', 'backed', 'proposal', 'to', 'eliminate', 'the', 'district', 'million', 'internal', 'police', 'force', 'despite', 'concerns', 'from', 'some', 'principals', 'according', 'to', 'the', 'san', 'francisco', 'chronicle', 'advocates', 'for', 'school', 'resource', 'officers', 'say', 'the', 'problem', 'lies', 'with', 'inconsistent', 'training', 'for', 'law', 'enforcement', 'on', 'how', 'to', 'work', 'with', 'students', 'making', 'rash', 'moves', 'to', 'end', 'the', 'programs', 'because', 'of', 'political', 'and', 'social', 'pressure', 'could', 'make', 'schools', 'less', 'safe', 'they', 'say', 'and', 'also', 'disrupt', 'the', 'opportunity', 'for', 'healthy', 'relationships', 'to', 'grow', 'between', 'law', 'enforcement', 'and', 'students', 'when', 'this', 'is', 'done', 'the', 'right', 'way', 'it', 'the', 'epitome', 'of', 'community', 'based', 'policing', 'said', 'mo', 'canady', 'executive', 'director', 'of', 'the', 'national', 'association', 'of', 'school', 'resource', 'officers', 'that', 'philosophy', 'where', 'police', 'and', 'the', 'community', 'work', 'together', 'to', 'solve', 'crimes', 'and', 'improve', 'everyone', 'quality', 'of', 'life', 'canady', 'organization', 'trains', 'officers', 'how', 'to', 'enforce', 'the', 'law', 'in', 'school', 'setting', 'informally', 'counsel', 'students', 'and', 'act', 'as', 'an', 'educator', 'but', 'nothing', 'requires', 'school', 'resource', 'officers', 'to', 'undergo', 'such', 'training', 'canady', 'said', 'there', 'federal', 'resistance', 'to', 'that', 'idea', 'out', 'of', 'respect', 'for', 'the', 'tradition', 'of', 'local', 'control', 'he', 'added', 'it', 'better', 'if', 'districts', 'would', 'say', 'we', 'need', 'these', 'officers', 'trained', 'on', 'national', 'level', 'canady', 'said', 'nationally', 'protesters', 'seeking', 'justice', 'for', 'floyd', 'want', 'to', 'reduce', 'city', 'police', 'department', 'budgets', 'and', 'redirect', 'more', 'money', 'to', 'social', 'services', 'but', 'what', 'happening', 'at', 'schools', 'offers', 'window', 'into', 'the', 'relationship', 'between', 'law', 'enforcement', 'and', 'youth', 'while', 'police', 'have', 'been', 'stationed', 'in', 'schools', 'for', 'decades', 'they', 'don', 'make', 'schools', 'overwhelmingly', 'more', 'safe', 'studies', 'show', 'review', 'of', 'the', 'most', 'comprehensive', 'studies', 'on', 'school', 'based', 'law', 'enforcement', 'showed', 'the', 'officers', 'did', 'not', 'improve', 'students', 'perception', 'of', 'safety', 'and', 'out', 'of', 'school', 'suspensions', 'and', 'expulsions', 'increased', 'after', 'school', 'resource', 'officers', 'were', 'introduced', 'to', 'building', 'it', 'not', 'like', 'there', 'really', 'strong', 'research', 'base', 'that', 'says', 'with', 'police', 'in', 'schools', 'crime', 'goes', 'down', 'and', 'bullying', 'goes', 'down', 'and', 'there', 'are', 'no', 'shootings', 'said', 'anthony', 'petrosino', 'director', 'of', 'the', 'justice', 'and', 'prevention', 'research', 'center', 'at', 'wested', 'nonpartisan', 'research', 'organization', 'that', 'focuses', 'on', 'education', 'school', 'policing', 'is', 'much', 'more', 'common', 'in', 'schools', 'with', 'kids', 'of', 'color', 'petrosino', 'added', 'there', 'real', 'question', 'of', 'whether', 'it', 'helping', 'or', 'hurting', 'is', 'it', 'leading', 'to', 'more', 'of', 'these', 'kids', 'being', 'involved', 'in', 'the', 'justice', 'system', 'or', 'being', 'kicked', 'out', 'of', 'school', 'one', 'big', 'problem', 'is', 'children', 'of', 'racial', 'minorities', 'especially', 'black', 'students', 'are', 'more', 'likely', 'to', 'be', 'suspended', 'and', 'expelled', 'from', 'school', 'than', 'white', 'students', 'even', 'when', 'they', 'commit', 'similar', 'offenses', 'research', 'shows', 'pushed', 'out', 'and', 'punished', 'black', 'girls', 'punished', 'more', 'harshly', 'than', 'white', 'girls', 'and', 'of', 'the', 'approximate', 'million', 'students', 'in', 'america', 'attending', 'schools', 'with', 'police', 'officers', 'but', 'no', 'counselors', 'more', 'of', 'those', 'students', 'are', 'black', 'than', 'white', 'by', 'contrast', 'white', 'students', 'are', 'more', 'likely', 'to', 'attend', 'schools', 'with', 'counselors', 'but', 'not', 'police', 'federal', 'data', 'show', 'on', 'top', 'of', 'that', 'number', 'of', 'high', 'profile', 'incidents', 'in', 'recent', 'years', 'have', 'put', 'spotlight', 'on', 'police', 'brutality', 'toward', 'black', 'kids', 'and', 'teens', 'inside', 'and', 'outside', 'of', 'school', 'white', 'school', 'resource', 'officer', 'in', 'south', 'carolina', 'high', 'school', 'flipped', 'black', 'girl', 'out', 'of', 'her', 'desk', 'and', 'dragged', 'her', 'across', 'the', 'floor', 'in', 'black', 'school', 'resource', 'officer', 'in', 'orlando', 'arrested', 'sobbing', 'year', 'old', 'black', 'student', 'in', 'september', 'securing', 'her', 'with', 'zip', 'ties', 'because', 'she', 'was', 'too', 'small', 'for', 'handcuffs', 'white', 'officer', 'in', 'ferguson', 'missouri', 'shot', 'and', 'killed', 'michael', 'brown', 'an', 'unarmed', 'year', 'old', 'black', 'man', 'in', 'the', 'street', 'in', 'later', 'that', 'year', 'white', 'officer', 'in', 'cleveland', 'ohio', 'shot', 'and', 'killed', 'tamir', 'rice', 'year', 'old', 'black', 'boy', 'rice', 'had', 'been', 'playing', 'with', 'toy', 'gun', 'outside', 'recreation', 'center', 'change', 'in', 'ferguson', 'city', 'elects', 'first', 'black', 'female', 'mayor', 'years', 'after', 'michael', 'brown', 'death', 'in', 'the', 'only', 'of', 'schools', 'had', 'law', 'enforcement', 'officer', 'stationed', 'in', 'them', 'according', 'to', 'federal', 'data', 'now', 'of', 'schools', 'have', 'police', 'officer', 'in', 'the', 'building', 'at', 'least', 'one', 'day', 'week', 'according', 'to', 'the', 'most', 'recent', 'federal', 'data', 'and', 'among', 'large', 'schools', 'almost', 'had', 'sworn', 'officer', 'in', 'the', 'building', 'at', 'least', 'one', 'day', 'week', 'in', 'the', 'school', 'year', 'the', 'number', 'of', 'officers', 'in', 'schools', 'accelerated', 'rapidly', 'after', 'the', 'year', 'of', 'the', 'shooting', 'at', 'columbine', 'high', 'school', 'in', 'colorado', 'the', 'massacre', 'spurred', 'national', 'discussion', 'about', 'school', 'safety', 'and', 'boost', 'in', 'federal', 'funds', 'helped', 'pay', 'for', 'more', 'cops', 'in', 'schools', 'years', 'after', 'columbine', 'survivors', 'find', 'that', 'new', 'normal', 'between', 'and', 'program', 'started', 'under', 'the', 'clinton', 'administration', 'doled', 'out', 'million', 'in', 'grants', 'to', 'police', 'departments', 'to', 'support', 'hiring', 'thousands', 'more', 'school', 'resource', 'officers', 'since', 'then', 'law', 'enforcement', 'in', 'schools', 'seemed', 'like', 'the', 'one', 'thing', 'that', 'district', 'leaders', 'would', 'not', 'change', 'said', 'aaron', 'kupchik', 'professor', 'of', 'sociology', 'and', 'criminal', 'justice', 'at', 'the', 'university', 'of', 'delaware', 'we', 'typically', 'don', 'even', 'discuss', 'it', 'because', 'it', 'common', 'assumption', 'they', 're', 'here', 'to', 'stay', 'kupchik', 'said', 'so', 'people', 'focus', 'on', 'how', 'to', 'make', 'it', 'less', 'harmful', 'like', 'by', 'ending', 'zero', 'tolerance', 'policies', 'and', 'adding', 'more', 'restorative', 'justice', 'programs', 'under', 'zero', 'tolerance', 'students', 'who', 'break', 'school', 'rules', 'are', 'subject', 'to', 'mandatory', 'severe', 'consequences', 'such', 'as', 'being', 'expelled', 'restorative', 'justice', 'programs', 'offer', 'misbehaving', 'students', 'chance', 'to', 'take', 'ownership', 'of', 'their', 'actions', 'talk', 'through', 'what', 'prompted', 'them', 'and', 'repair', 'harm', 'they', 've', 'caused', 'to', 'others', 'restorative', 'justice', 'how', 'circle', 'keeping', 'works', 'at', 'one', 'midwestern', 'school', 'despite', 'talks', 'of', 'reform', 'students', 'social', 'justice', 'groups', 'and', 'the', 'american', 'civil', 'liberties', 'union', 'have', 'been', 'working', 'for', 'years', 'to', 'end', 'school', 'policing', 'long', 'before', 'the', 'calls', 'emerged', 'as', 'part', 'of', 'the', 'floyd', 'protests', 'that', 'key', 'reason', 'districts', 'are', 'taking', 'action', 'now', 'said', 'sarah', 'hinger', 'senior', 'staff', 'attorney', 'for', 'the', 'aclu', 'racial', 'justice', 'program', 'another', 'reason', 'school', 'districts', 'are', 'more', 'inclined', 'now', 'to', 'remove', 'police', 'officers', 'money', 'districts', 'are', 'facing', 'major', 'financial', 'shortfalls', 'because', 'of', 'the', 'covid', 'pandemic', 'and', 'loss', 'of', 'tax', 'revenue', 'because', 'of', 'the', 'economic', 'shutdown', 'it', 'widely', 'acknowledged', 'that', 'low', 'income', 'children', 'group', 'that', 'includes', 'many', 'black', 'and', 'brown', 'children', 'will', 'need', 'more', 'support', 'to', 'get', 'back', 'on', 'track', 'once', 'schools', 'reopen', 'many', 'haven', 'had', 'access', 'to', 'all', 'the', 'tools', 'needed', 'for', 'online', 'learning', 'such', 'as', 'high', 'speed', 'internet', 'or', 'their', 'own', 'computer', 'police', 'contracts', 'are', 'one', 'non', 'academic', 'budget', 'item', 'that', 'could', 'be', 'dropped', 'all', 'of', 'that', 'is', 'contributing', 'to', 'why', 'this', 'movement', 'is', 'really', 'catching', 'on', 'hinger', 'said', 'kids', 'need', 'to', 'talk', 'about', 'george', 'floyd', 'with', 'coronavirus', 'school', 'closures', 'it', 'hard', 'to', 'do', 'seattle', 'public', 'schools', 'announced', 'this', 'week', 'that', 'it', 'would', 'suspend', 'officers', 'from', 'schools', 'for', 'one', 'year', 'in', 'oakland', 'wednesday', 'the', 'school', 'superintendent', 'joined', 'the', 'majority', 'of', 'the', 'school', 'board', 'in', 'backing', 'the', 'elimination', 'of', 'the', 'district', 'in', 'house', 'police', 'force', 'one', 'idea', 'is', 'to', 'replace', 'it', 'with', 'non', 'uniformed', 'ambassadors', 'to', 'keep', 'the', 'peace', 'in', 'schools', 'black', 'students', 'account', 'for', 'of', 'the', 'students', 'arrested', 'in', 'oakland', 'schools', 'while', 'only', 'making', 'up', 'of', 'the', 'district', 'population', 'according', 'to', 'the', 'black', 'organizing', 'project', 'local', 'advocacy', 'group', 'oakland', 'board', 'is', 'slated', 'to', 'vote', 'on', 'eliminating', 'the', 'police', 'force', 'on', 'june', 'some', 'districts', 'are', 'less', 'inclined', 'to', 'remove', 'officers', 'the', 'chicago', 'teachers', 'union', 'has', 'reinvigorated', 'its', 'call', 'for', 'the', 'city', 'to', 'replace', 'school', 'resource', 'officers', 'with', 'counselors', 'but', 'mayor', 'lori', 'lightfoot', 'who', 'runs', 'the', 'city', 'as', 'well', 'as', 'the', 'district', 'indicated', 'she', 'not', 'interested', 'in', 'dumping', 'the', 'million', 'contract', 'with', 'the', 'chicago', 'police', 'department', 'more', 'than', 'three', 'quarters', 'of', 'the', 'city', 'high', 'schools', 'have', 'police', 'in', 'them', 'and', 'the', 'local', 'parent', 'and', 'teacher', 'councils', 'at', 'all', 'of', 'them', 'voted', 'to', 'keep', 'the', 'officers', 'this', 'year', 'according', 'to', 'local', 'news', 'reports', 'unfortunately', 'we', 'need', 'security', 'in', 'our', 'schools', 'lightfoot', 'said', 'in', 'protest', 'chicago', 'teachers', 'and', 'students', 'have', 'recently', 'staged', 'marches', 'and', 'car', 'caravan', 'parades', 'between', 'high', 'schools', 'chicago', 'protests', 'kanye', 'west', 'joins', 'march', 'offers', 'to', 'pay', 'legal', 'fees', 'for', 'breonna', 'taylor', 'family', 'in', 'los', 'angeles', 'the', 'teachers', 'union', 'said', 'monday', 'it', 'supports', 'ending', 'the', 'district', 'in', 'house', 'police', 'force', 'the', 'unit', 'places', 'about', 'officers', 'throughout', 'the', 'nation', 'second', 'largest', 'school', 'district', 'at', 'cost', 'of', 'about', 'million', 'annually', 'but', 'the', 'head', 'of', 'the', 'district', 'school', 'police', 'union', 'said', 'officers', 'are', 'better', 'trained', 'to', 'de', 'escalate', 'situations', 'in', 'buildings', 'than', 'outside', 'cops', 'called', 'to', 'campus', 'according', 'to', 'the', 'los', 'angeles', 'times', 'in', 'phoenix', 'hundreds', 'of', 'students', 'have', 'been', 'protesting', 'the', 'use', 'of', 'on', 'campus', 'police', 'officers', 'but', 'the', 'school', 'board', 'has', 'not', 'yet', 'taken', 'vote', 'on', 'whether', 'to', 'renew', 'the', 'contract', 'there', 'not', 'much', 'good', 'data', 'on', 'what', 'happens', 'when', 'you', 'remove', 'police', 'officers', 'from', 'schools', 'but', 'new', 'york', 'and', 'louisville', 'have', 'tried', 'some', 'new', 'ideas', 'decade', 'ago', 'report', 'from', 'new', 'york', 'city', 'examined', 'how', 'handful', 'of', 'high', 'schools', 'serving', 'at', 'risk', 'students', 'maintained', 'safe', 'environments', 'without', 'police', 'district', 'safety', 'agents', 'patrolled', 'halls', 'instead', 'metal', 'detectors', 'were', 'removed', 'administrators', 'created', 'alternatives', 'to', 'harsh', 'discipline', 'policies', 'the', 'aclu', 'which', 'published', 'the', 'report', 'is', 'notably', 'in', 'favor', 'of', 'removing', 'police', 'from', 'schools', 'in', 'louisville', 'kentucky', 'the', 'jefferson', 'county', 'public', 'schools', 'cut', 'ties', 'with', 'school', 'resource', 'officers', 'last', 'august', 'because', 'of', 'issues', 'related', 'to', 'the', 'criminalization', 'of', 'black', 'students', 'the', 'district', 'this', 'week', 'couldn', 'provide', 'comparison', 'of', 'school', 'arrest', 'data', 'from', 'before', 'and', 'after', 'police', 'were', 'removed', 'but', 'in', 'general', 'according', 'to', 'the', 'louisville', 'courier', 'journal', 'school', 'safety', 'hasn', 'changed', 'much', 'though', 'one', 'school', 'made', 'headlines', 'for', 'some', 'high', 'profile', 'student', 'on', 'teacher', 'altercations', 'louisville', 'has', 'seen', 'even', 'more', 'forceful', 'protests', 'than', 'some', 'cities', 'in', 'the', 'wake', 'of', 'the', 'death', 'of', 'breonna', 'taylor', 'who', 'was', 'shot', 'by', 'white', 'police', 'officer', 'in', 'her', 'bedroom', 'in', 'march', 'district', 'spokesperson', 'in', 'jefferson', 'county', 'said', 'this', 'week', 'the', 'district', 'is', 're', 'evaluating', 'its', 'school', 'safety', 'plan', 'which', 'could', 'still', 'include', 'armed', 'guards', 'in', 'schools', 'in', 'florida', 'janice', 'scott', 'cover', 'former', 'assistant', 'superintendent', 'in', 'the', 'palm', 'beach', 'county', 'school', 'district', 'said', 'administrators', 'can', 'also', 'work', 'harder', 'to', 'identify', 'the', 'root', 'cause', 'of', 'student', 'misbehavior', 'whether', 'cops', 'are', 'there', 'or', 'not', 'when', 'she', 'became', 'principal', 'of', 'troubled', 'elementary', 'school', 'two', 'decades', 'ago', 'the', 'school', 'resource', 'officer', 'arrested', 'children', 'for', 'fighting', 'disrespecting', 'teachers', 'and', 'walking', 'out', 'of', 'class', 'not', 'all', 'the', 'resource', 'officers', 'understand', 'how', 'to', 'police', 'in', 'schools', 'cover', 'said', 'some', 'still', 'behave', 'like', 'they', 're', 'out', 'on', 'the', 'street', 'grabbing', 'people', 'and', 'throwing', 'them', 'down', 'and', 'did', 'not', 'want', 'that', 'on', 'the', 'campus', 'cover', 'rearranged', 'the', 'budget', 'to', 'hire', 'another', 'social', 'worker', 'who', 'became', 'the', 'first', 'stop', 'for', 'misbehaving', 'children', 'she', 'had', 'teachers', 'rearrange', 'classrooms', 'so', 'students', 'worked', 'in', 'groups', 'and', 'practiced', 'cooperation', 'she', 'and', 'her', 'teachers', 'doubled', 'down', 'on', 'prodding', 'into', 'students', 'lives', 'often', 'getting', 'them', 'needed', 'household', 'or', 'personal', 'items', 'over', 'time', 'the', 'climate', 'and', 'academics', 'improved', 'something', 'cover', 'recounts', 'in', 'her', 'book', 'about', 'turning', 'around', 'low', 'performing', 'elementary', 'schools', 'happy', 'now', 'that', 'people', 'are', 'beginning', 'to', 'look', 'at', 'this', 'said', 'cover', 'who', 'is', 'black', 'my', 'hope', 'is', 'that', 'you', 'don', 'just', 'remove', 'the', 'police', 'officers', 'but', 'replace', 'them', 'with', 'something', 'else', 'like', 'counselors', 'or', 'mental', 'health', 'professionals', 'or', 'school', 'psychologists', 'olivia', 'krauth', 'contributed', 'to', 'this', 'story', 'from', 'louisville', 'kentucky', 'lily', 'altavena', 'contributed', 'from', 'phoenix', 'arizona', 'education', 'coverage', 'at', 'usa', 'today', 'is', 'made', 'possible', 'in', 'part', 'by', 'grant', 'from', 'the', 'bill', 'melinda', 'gates', 'foundation', 'the', 'gates', 'foundation', 'does', 'not', 'provide', 'editorial', 'input', 'three', 'summers', 'ago', 'about', 'students', 'and', 'activists', 'gathered', 'outside', 'the', 'minneapolis', 'public', 'schools', 'headquarters', 'to', 'demand', 'the', 'school', 'board', 'end', 'contract', 'that', 'placed', 'police', 'officers', 'in', 'schools', 'the', 'officers', 'whose', 'role', 'was', 'to', 'keep', 'schools', 'safe', 'actually', 'made', 'students', 'especially', 'black', 'students', 'feel', 'criminalized', 'activists', 'said', 'but', 'the', 'majority', 'of', 'teachers', 'staff', 'and', 'parents', 'liked', 'officers', 'in', 'schools', 'district', 'wide', 'survey', 'showed', 'at', 'the', 'time', 'the', 'board', 'renewed', 'the', 'three', 'year', 'contract', 'fast', 'forward', 'to', 'june', 'eight', 'days', 'after', 'george', 'floyd', 'died', 'under', 'the', 'knee', 'of', 'minneapolis', 'police', 'officer', 'the', 'school', 'board', 'revisited', 'that', 'contract', 'and', 'ended', 'it', 'the', 'vote', 'on', 'june', 'after', 'an', 'even', 'larger', 'crowd', 'of', 'protesters', 'gathered', 'outside', 'was', 'unanimous', 'the', 'values', 'we', 'see', 'in', 'the', 'police', 'department', 'do', 'not', 'match', 'our', 'values', 'said', 'kim', 'ellison', 'chair', 'of', 'the', 'minneapolis', 'school', 'board', 'the', 'school', 'board', 'became', 'one', 'of', 'the', 'first', 'major', 'governmental', 'bodies', 'to', 'change', 'the', 'balance', 'of', 'power', 'with', 'police', 'in', 'the', 'wake', 'of', 'floyd', 'death', 'the', 'change', 'has', 'prompted', 'wave', 'of', 'districts', 'nationwide', 'to', 'consider', 'terminating', 'their', 'relationships', 'with', 'police', 'from', 'chicago', 'new', 'york', 'and', 'los', 'angeles', 'to', 'smaller', 'cities', 'like', 'rochester', 'new', 'york', 'columbus', 'ohio', 'and', 'portland', 'maine', 'and', 'fort', 'collins', 'colorado', 'students', 'and', 'activists', 'are', 'demanding', 'the', 'discontinuation', 'of', 'school', 'resource', 'officers', 'they', 'want', 'the', 'money', 'spent', 'on', 'those', 'programs', 'to', 'go', 'to', 'other', 'peacekeeping', 'strategies', 'teen', 'activists', 'too', 'young', 'to', 'vote', 'in', 'but', 'fighting', 'for', 'change', 'police', 'in', 'schools', 'contribute', 'to', 'the', 'marginalization', 'of', 'students', 'of', 'color', 'they', 'say', 'that', 'because', 'schools', 'with', 'large', 'populations', 'of', 'black', 'and', 'brown', 'students', 'are', 'more', 'likely', 'to', 'have', 'law', 'enforcement', 'on', 'site', 'and', 'in', 'those', 'places', 'students', 'are', 'more', 'likely', 'to', 'be', 'arrested', 'for', 'certain', 'behaviors', 'rather', 'than', 'disciplined', 'by', 'an', 'administrator', 'last', 'week', 'portland', 'oregon', 'school', 'superintendent', 'announced', 'he', 'planned', 'to', 'remove', 'police', 'from', 'schools', 'denver', 'school', 'board', 'is', 'slated', 'to', 'vote', 'thursday', 'on', 'ending', 'contract', 'for', 'uniformed', 'officers', 'in', 'oakland', 'california', 'the', 'majority', 'of', 'the', 'school', 'board', 'and', 'superintendent', 'wednesday', 'backed', 'proposal', 'to', 'eliminate', 'the', 'district', 'million', 'internal', 'police', 'force', 'despite', 'concerns', 'from', 'some', 'principals', 'according', 'to', 'the', 'san', 'francisco', 'chronicle', 'advocates', 'for', 'school', 'resource', 'officers', 'say', 'the', 'problem', 'lies', 'with', 'inconsistent', 'training', 'for', 'law', 'enforcement', 'on', 'how', 'to', 'work', 'with', 'students', 'making', 'rash', 'moves', 'to', 'end', 'the', 'programs', 'because', 'of', 'political', 'and', 'social', 'pressure', 'could', 'make', 'schools', 'less', 'safe', 'they', 'say', 'and', 'also', 'disrupt', 'the', 'opportunity', 'for', 'healthy', 'relationships', 'to', 'grow', 'between', 'law', 'enforcement', 'and', 'students', 'when', 'this', 'is', 'done', 'the', 'right', 'way', 'it', 'the', 'epitome', 'of', 'community', 'based', 'policing', 'said', 'mo', 'canady', 'executive', 'director', 'of', 'the', 'national', 'association', 'of', 'school', 'resource', 'officers', 'that', 'philosophy', 'where', 'police', 'and', 'the', 'community', 'work', 'together', 'to', 'solve', 'crimes', 'and', 'improve', 'everyone', 'quality', 'of', 'life', 'canady', 'organization', 'trains', 'officers', 'how', 'to', 'enforce', 'the', 'law', 'in', 'school', 'setting', 'informally', 'counsel', 'students', 'and', 'act', 'as', 'an', 'educator', 'but', 'nothing', 'requires', 'school', 'resource', 'officers', 'to', 'undergo', 'such', 'training', 'canady', 'said', 'there', 'federal', 'resistance', 'to', 'that', 'idea', 'out', 'of', 'respect', 'for', 'the', 'tradition', 'of', 'local', 'control', 'he', 'added', 'it', 'better', 'if', 'districts', 'would', 'say', 'we', 'need', 'these', 'officers', 'trained', 'on', 'national', 'level', 'canady', 'said', 'nationally', 'protesters', 'seeking', 'justice', 'for', 'floyd', 'want', 'to', 'reduce', 'city', 'police', 'department', 'budgets', 'and', 'redirect', 'more', 'money', 'to', 'social', 'services', 'but', 'what', 'happening', 'at', 'schools', 'offers', 'window', 'into', 'the', 'relationship', 'between', 'law', 'enforcement', 'and', 'youth', 'while', 'police', 'have', 'been', 'stationed', 'in', 'schools', 'for', 'decades', 'they', 'don', 'make', 'schools', 'overwhelmingly', 'more', 'safe', 'studies', 'show', 'review', 'of', 'the', 'most', 'comprehensive', 'studies', 'on', 'school', 'based', 'law', 'enforcement', 'showed', 'the', 'officers', 'did', 'not', 'improve', 'students', 'perception', 'of', 'safety', 'and', 'out', 'of', 'school', 'suspensions', 'and', 'expulsions', 'increased', 'after', 'school', 'resource', 'officers', 'were', 'introduced', 'to', 'building', 'it', 'not', 'like', 'there', 'really', 'strong', 'research', 'base', 'that', 'says', 'with', 'police', 'in', 'schools', 'crime', 'goes', 'down', 'and', 'bullying', 'goes', 'down', 'and', 'there', 'are', 'no', 'shootings', 'said', 'anthony', 'petrosino', 'director', 'of', 'the', 'justice', 'and', 'prevention', 'research', 'center', 'at', 'wested', 'nonpartisan', 'research', 'organization', 'that', 'focuses', 'on', 'education', 'school', 'policing', 'is', 'much', 'more', 'common', 'in', 'schools', 'with', 'kids', 'of', 'color', 'petrosino', 'added', 'there', 'real', 'question', 'of', 'whether', 'it', 'helping', 'or', 'hurting', 'is', 'it', 'leading', 'to', 'more', 'of', 'these', 'kids', 'being', 'involved', 'in', 'the', 'justice', 'system', 'or', 'being', 'kicked', 'out', 'of', 'school', 'one', 'big', 'problem', 'is', 'children', 'of', 'racial', 'minorities', 'especially', 'black', 'students', 'are', 'more', 'likely', 'to', 'be', 'suspended', 'and', 'expelled', 'from', 'school', 'than', 'white', 'students', 'even', 'when', 'they', 'commit', 'similar', 'offenses', 'research', 'shows', 'pushed', 'out', 'and', 'punished', 'black', 'girls', 'punished', 'more', 'harshly', 'than', 'white', 'girls', 'and', 'of', 'the', 'approximate', 'million', 'students', 'in', 'america', 'attending', 'schools', 'with', 'police', 'officers', 'but', 'no', 'counselors', 'more', 'of', 'those', 'students', 'are', 'black', 'than', 'white', 'by', 'contrast', 'white', 'students', 'are', 'more', 'likely', 'to', 'attend', 'schools', 'with', 'counselors', 'but', 'not', 'police', 'federal', 'data', 'show', 'on', 'top', 'of', 'that', 'number', 'of', 'high', 'profile', 'incidents', 'in', 'recent', 'years', 'have', 'put', 'spotlight', 'on', 'police', 'brutality', 'toward', 'black', 'kids', 'and', 'teens', 'inside', 'and', 'outside', 'of', 'school', 'white', 'school', 'resource', 'officer', 'in', 'south', 'carolina', 'high', 'school', 'flipped', 'black', 'girl', 'out', 'of', 'her', 'desk', 'and', 'dragged', 'her', 'across', 'the', 'floor', 'in', 'black', 'school', 'resource', 'officer', 'in', 'orlando', 'arrested', 'sobbing', 'year', 'old', 'black', 'student', 'in', 'september', 'securing', 'her', 'with', 'zip', 'ties', 'because', 'she', 'was', 'too', 'small', 'for', 'handcuffs', 'white', 'officer', 'in', 'ferguson', 'missouri', 'shot', 'and', 'killed', 'michael', 'brown', 'an', 'unarmed', 'year', 'old', 'black', 'man', 'in', 'the', 'street', 'in', 'later', 'that', 'year', 'white', 'officer', 'in', 'cleveland', 'ohio', 'shot', 'and', 'killed', 'tamir', 'rice', 'year', 'old', 'black', 'boy', 'rice', 'had', 'been', 'playing', 'with', 'toy', 'gun', 'outside', 'recreation', 'center', 'change', 'in', 'ferguson', 'city', 'elects', 'first', 'black', 'female', 'mayor', 'years', 'after', 'michael', 'brown', 'death', 'in', 'the', 'only', 'of', 'schools', 'had', 'law', 'enforcement', 'officer', 'stationed', 'in', 'them', 'according', 'to', 'federal', 'data', 'now', 'of', 'schools', 'have', 'police', 'officer', 'in', 'the', 'building', 'at', 'least', 'one', 'day', 'week', 'according', 'to', 'the', 'most', 'recent', 'federal', 'data', 'and', 'among', 'large', 'schools', 'almost', 'had', 'sworn', 'officer', 'in', 'the', 'building', 'at', 'least', 'one', 'day', 'week', 'in', 'the', 'school', 'year', 'the', 'number', 'of', 'officers', 'in', 'schools', 'accelerated', 'rapidly', 'after', 'the', 'year', 'of', 'the', 'shooting', 'at', 'columbine', 'high', 'school', 'in', 'colorado', 'the', 'massacre', 'spurred', 'national', 'discussion', 'about', 'school', 'safety', 'and', 'boost', 'in', 'federal', 'funds', 'helped', 'pay', 'for', 'more', 'cops', 'in', 'schools', 'years', 'after', 'columbine', 'survivors', 'find', 'that', 'new', 'normal', 'between', 'and', 'program', 'started', 'under', 'the', 'clinton', 'administration', 'doled', 'out', 'million', 'in', 'grants', 'to', 'police', 'departments', 'to', 'support', 'hiring', 'thousands', 'more', 'school', 'resource', 'officers', 'since', 'then', 'law', 'enforcement', 'in', 'schools', 'seemed', 'like', 'the', 'one', 'thing', 'that', 'district', 'leaders', 'would', 'not', 'change', 'said', 'aaron', 'kupchik', 'professor', 'of', 'sociology', 'and', 'criminal', 'justice', 'at', 'the', 'university', 'of', 'delaware', 'we', 'typically', 'don', 'even', 'discuss', 'it', 'because', 'it', 'common', 'assumption', 'they', 're', 'here', 'to', 'stay', 'kupchik', 'said', 'so', 'people', 'focus', 'on', 'how', 'to', 'make', 'it', 'less', 'harmful', 'like', 'by', 'ending', 'zero', 'tolerance', 'policies', 'and', 'adding', 'more', 'restorative', 'justice', 'programs', 'under', 'zero', 'tolerance', 'students', 'who', 'break', 'school', 'rules', 'are', 'subject', 'to', 'mandatory', 'severe', 'consequences', 'such', 'as', 'being', 'expelled', 'restorative', 'justice', 'programs', 'offer', 'misbehaving', 'students', 'chance', 'to', 'take', 'ownership', 'of', 'their', 'actions', 'talk', 'through', 'what', 'prompted', 'them', 'and', 'repair', 'harm', 'they', 've', 'caused', 'to', 'others', 'restorative', 'justice', 'how', 'circle', 'keeping', 'works', 'at', 'one', 'midwestern', 'school', 'despite', 'talks', 'of', 'reform', 'students', 'social', 'justice', 'groups', 'and', 'the', 'american', 'civil', 'liberties', 'union', 'have', 'been', 'working', 'for', 'years', 'to', 'end', 'school', 'policing', 'long', 'before', 'the', 'calls', 'emerged', 'as', 'part', 'of', 'the', 'floyd', 'protests', 'that', 'key', 'reason', 'districts', 'are', 'taking', 'action', 'now', 'said', 'sarah', 'hinger', 'senior', 'staff', 'attorney', 'for', 'the', 'aclu', 'racial', 'justice', 'program', 'another', 'reason', 'school', 'districts', 'are', 'more', 'inclined', 'now', 'to', 'remove', 'police', 'officers', 'money', 'districts', 'are', 'facing', 'major', 'financial', 'shortfalls', 'because', 'of', 'the', 'covid', 'pandemic', 'and', 'loss', 'of', 'tax', 'revenue', 'because', 'of', 'the', 'economic', 'shutdown', 'it', 'widely', 'acknowledged', 'that', 'low', 'income', 'children', 'group', 'that', 'includes', 'many', 'black', 'and', 'brown', 'children', 'will', 'need', 'more', 'support', 'to', 'get', 'back', 'on', 'track', 'once', 'schools', 'reopen', 'many', 'haven', 'had', 'access', 'to', 'all', 'the', 'tools', 'needed', 'for', 'online', 'learning', 'such', 'as', 'high', 'speed', 'internet', 'or', 'their', 'own', 'computer', 'police', 'contracts', 'are', 'one', 'non', 'academic', 'budget', 'item', 'that', 'could', 'be', 'dropped', 'all', 'of', 'that', 'is', 'contributing', 'to', 'why', 'this', 'movement', 'is', 'really', 'catching', 'on', 'hinger', 'said', 'kids', 'need', 'to', 'talk', 'about', 'george', 'floyd', 'with', 'coronavirus', 'school', 'closures', 'it', 'hard', 'to', 'do', 'seattle', 'public', 'schools', 'announced', 'this', 'week', 'that', 'it', 'would', 'suspend', 'officers', 'from', 'schools', 'for', 'one', 'year', 'in', 'oakland', 'wednesday', 'the', 'school', 'superintendent', 'joined', 'the', 'majority', 'of', 'the', 'school', 'board', 'in', 'backing', 'the', 'elimination', 'of', 'the', 'district', 'in', 'house', 'police', 'force', 'one', 'idea', 'is', 'to', 'replace', 'it', 'with', 'non', 'uniformed', 'ambassadors', 'to', 'keep', 'the', 'peace', 'in', 'schools', 'black', 'students', 'account', 'for', 'of', 'the', 'students', 'arrested', 'in', 'oakland', 'schools', 'while', 'only', 'making', 'up', 'of', 'the', 'district', 'population', 'according', 'to', 'the', 'black', 'organizing', 'project', 'local', 'advocacy', 'group', 'oakland', 'board', 'is', 'slated', 'to', 'vote', 'on', 'eliminating', 'the', 'police', 'force', 'on', 'june', 'some', 'districts', 'are', 'less', 'inclined', 'to', 'remove', 'officers', 'the', 'chicago', 'teachers', 'union', 'has', 'reinvigorated', 'its', 'call', 'for', 'the', 'city', 'to', 'replace', 'school', 'resource', 'officers', 'with', 'counselors', 'but', 'mayor', 'lori', 'lightfoot', 'who', 'runs', 'the', 'city', 'as', 'well', 'as', 'the', 'district', 'indicated', 'she', 'not', 'interested', 'in', 'dumping', 'the', 'million', 'contract', 'with', 'the', 'chicago', 'police', 'department', 'more', 'than', 'three', 'quarters', 'of', 'the', 'city', 'high', 'schools', 'have', 'police', 'in', 'them', 'and', 'the', 'local', 'parent', 'and', 'teacher', 'councils', 'at', 'all', 'of', 'them', 'voted', 'to', 'keep', 'the', 'officers', 'this', 'year', 'according', 'to', 'local', 'news', 'reports', 'unfortunately', 'we', 'need', 'security', 'in', 'our', 'schools', 'lightfoot', 'said', 'in', 'protest', 'chicago', 'teachers', 'and', 'students', 'have', 'recently', 'staged', 'marches', 'and', 'car', 'caravan', 'parades', 'between', 'high', 'schools', 'chicago', 'protests', 'kanye', 'west', 'joins', 'march', 'offers', 'to', 'pay', 'legal', 'fees', 'for', 'breonna', 'taylor', 'family', 'in', 'los', 'angeles', 'the', 'teachers', 'union', 'said', 'monday', 'it', 'supports', 'ending', 'the', 'district', 'in', 'house', 'police', 'force', 'the', 'unit', 'places', 'about', 'officers', 'throughout', 'the', 'nation', 'second', 'largest', 'school', 'district', 'at', 'cost', 'of', 'about', 'million', 'annually', 'but', 'the', 'head', 'of', 'the', 'district', 'school', 'police', 'union', 'said', 'officers', 'are', 'better', 'trained', 'to', 'de', 'escalate', 'situations', 'in', 'buildings', 'than', 'outside', 'cops', 'called', 'to', 'campus', 'according', 'to', 'the', 'los', 'angeles', 'times', 'in', 'phoenix', 'hundreds', 'of', 'students', 'have', 'been', 'protesting', 'the', 'use', 'of', 'on', 'campus', 'police', 'officers', 'but', 'the', 'school', 'board', 'has', 'not', 'yet', 'taken', 'vote', 'on', 'whether', 'to', 'renew', 'the', 'contract', 'there', 'not', 'much', 'good', 'data', 'on', 'what', 'happens', 'when', 'you', 'remove', 'police', 'officers', 'from', 'schools', 'but', 'new', 'york', 'and', 'louisville', 'have', 'tried', 'some', 'new', 'ideas', 'decade', 'ago', 'report', 'from', 'new', 'york', 'city', 'examined', 'how', 'handful', 'of', 'high', 'schools', 'serving', 'at', 'risk', 'students', 'maintained', 'safe', 'environments', 'without', 'police', 'district', 'safety', 'agents', 'patrolled', 'halls', 'instead', 'metal', 'detectors', 'were', 'removed', 'administrators', 'created', 'alternatives', 'to', 'harsh', 'discipline', 'policies', 'the', 'aclu', 'which', 'published', 'the', 'report', 'is', 'notably', 'in', 'favor', 'of', 'removing', 'police', 'from', 'schools', 'in', 'louisville', 'kentucky', 'the', 'jefferson', 'county', 'public', 'schools', 'cut', 'ties', 'with', 'school', 'resource', 'officers', 'last', 'august', 'because', 'of', 'issues', 'related', 'to', 'the', 'criminalization', 'of', 'black', 'students', 'the', 'district', 'this', 'week', 'couldn', 'provide', 'comparison', 'of', 'school', 'arrest', 'data', 'from', 'before', 'and', 'after', 'police', 'were', 'removed', 'but', 'in', 'general', 'according', 'to', 'the', 'louisville', 'courier', 'journal', 'school', 'safety', 'hasn', 'changed', 'much', 'though', 'one', 'school', 'made', 'headlines', 'for', 'some', 'high', 'profile', 'student', 'on', 'teacher', 'altercations', 'louisville', 'has', 'seen', 'even', 'more', 'forceful', 'protests', 'than', 'some', 'cities', 'in', 'the', 'wake', 'of', 'the', 'death', 'of', 'breonna', 'taylor', 'who', 'was', 'shot', 'by', 'white', 'police', 'officer', 'in', 'her', 'bedroom', 'in', 'march', 'district', 'spokesperson', 'in', 'jefferson', 'county', 'said', 'this', 'week', 'the', 'district', 'is', 're', 'evaluating', 'its', 'school', 'safety', 'plan', 'which', 'could', 'still', 'include', 'armed', 'guards', 'in', 'schools', 'in', 'florida', 'janice', 'scott', 'cover', 'former', 'assistant', 'superintendent', 'in', 'the', 'palm', 'beach', 'county', 'school', 'district', 'said', 'administrators', 'can', 'also', 'work', 'harder', 'to', 'identify', 'the', 'root', 'cause', 'of', 'student', 'misbehavior', 'whether', 'cops', 'are', 'there', 'or', 'not', 'when', 'she', 'became', 'principal', 'of', 'troubled', 'elementary', 'school', 'two', 'decades', 'ago', 'the', 'school', 'resource', 'officer', 'arrested', 'children', 'for', 'fighting', 'disrespecting', 'teachers', 'and', 'walking', 'out', 'of', 'class', 'not', 'all', 'the', 'resource', 'officers', 'understand', 'how', 'to', 'police', 'in', 'schools', 'cover', 'said', 'some', 'still', 'behave', 'like', 'they', 're', 'out', 'on', 'the', 'street', 'grabbing', 'people', 'and', 'throwing', 'them', 'down', 'and', 'did', 'not', 'want', 'that', 'on', 'the', 'campus', 'cover', 'rearranged', 'the', 'budget', 'to', 'hire', 'another', 'social', 'worker', 'who', 'became', 'the', 'first', 'stop', 'for', 'misbehaving', 'children', 'she', 'had', 'teachers', 'rearrange', 'classrooms', 'so', 'students', 'worked', 'in', 'groups', 'and', 'practiced', 'cooperation', 'she', 'and', 'her', 'teachers', 'doubled', 'down', 'on', 'prodding', 'into', 'students', 'lives', 'often', 'getting', 'them', 'needed', 'household', 'or', 'personal', 'items', 'over', 'time', 'the', 'climate', 'and', 'academics', 'improved', 'something', 'cover', 'recounts', 'in', 'her', 'book', 'about', 'turning', 'around', 'low', 'performing', 'elementary', 'schools', 'happy', 'now', 'that', 'people', 'are', 'beginning', 'to', 'look', 'at', 'this', 'said', 'cover', 'who', 'is', 'black', 'my', 'hope', 'is', 'that', 'you', 'don', 'just', 'remove', 'the', 'police', 'officers', 'but', 'replace', 'them', 'with', 'something', 'else', 'like', 'counselors', 'or', 'mental', 'health', 'professionals', 'or', 'school', 'psychologists', 'olivia', 'krauth', 'contributed', 'to', 'this', 'story', 'from', 'louisville', 'kentucky', 'lily', 'altavena', 'contributed', 'from', 'phoenix', 'arizona', 'education', 'coverage', 'at', 'usa', 'today', 'is', 'made', 'possible', 'in', 'part', 'by', 'grant', 'from', 'the', 'bill', 'melinda', 'gates', 'foundation', 'the', 'gates', 'foundation', 'does', 'not', 'provide', 'editorial', 'input', 'three', 'summers', 'ago', 'about', 'students', 'and', 'activists', 'gathered', 'outside', 'the', 'minneapolis', 'public', 'schools', 'headquarters', 'to', 'demand', 'the', 'school', 'board', 'end', 'contract', 'that', 'placed', 'police', 'officers', 'in', 'schools', 'the', 'officers', 'whose', 'role', 'was', 'to', 'keep', 'schools', 'safe', 'actually', 'made', 'students', 'especially', 'black', 'students', 'feel', 'criminalized', 'activists', 'said', 'but', 'the', 'majority', 'of', 'teachers', 'staff', 'and', 'parents', 'liked', 'officers', 'in', 'schools', 'district', 'wide', 'survey', 'showed', 'at', 'the', 'time', 'the', 'board', 'renewed', 'the', 'three', 'year', 'contract', 'fast', 'forward', 'to', 'june', 'eight', 'days', 'after', 'george', 'floyd', 'died', 'under', 'the', 'knee', 'of', 'minneapolis', 'police', 'officer', 'the', 'school', 'board', 'revisited', 'that', 'contract', 'and', 'ended', 'it', 'the', 'vote', 'on', 'june', 'after', 'an', 'even', 'larger', 'crowd', 'of', 'protesters', 'gathered', 'outside', 'was', 'unanimous', 'the', 'values', 'we', 'see', 'in', 'the', 'police', 'department', 'do', 'not', 'match', 'our', 'values', 'said', 'kim', 'ellison', 'chair', 'of', 'the', 'minneapolis', 'school', 'board', 'the', 'school', 'board', 'became', 'one', 'of', 'the', 'first', 'major', 'governmental', 'bodies', 'to', 'change', 'the', 'balance', 'of', 'power', 'with', 'police', 'in', 'the', 'wake', 'of', 'floyd', 'death', 'the', 'change', 'has', 'prompted', 'wave', 'of', 'districts', 'nationwide', 'to', 'consider', 'terminating', 'their', 'relationships', 'with', 'police', 'from', 'chicago', 'new', 'york', 'and', 'los', 'angeles', 'to', 'smaller', 'cities', 'like', 'rochester', 'new', 'york', 'columbus', 'ohio', 'and', 'portland', 'maine', 'and', 'fort', 'collins', 'colorado', 'students', 'and', 'activists', 'are', 'demanding', 'the', 'discontinuation', 'of', 'school', 'resource', 'officers', 'they', 'want', 'the', 'money', 'spent', 'on', 'those', 'programs', 'to', 'go', 'to', 'other', 'peacekeeping', 'strategies', 'teen', 'activists', 'too', 'young', 'to', 'vote', 'in', 'but', 'fighting', 'for', 'change', 'police', 'in', 'schools', 'contribute', 'to', 'the', 'marginalization', 'of', 'students', 'of', 'color', 'they', 'say', 'that', 'because', 'schools', 'with', 'large', 'populations', 'of', 'black', 'and', 'brown', 'students', 'are', 'more', 'likely', 'to', 'have', 'law', 'enforcement', 'on', 'site', 'and', 'in', 'those', 'places', 'students', 'are', 'more', 'likely', 'to', 'be', 'arrested', 'for', 'certain', 'behaviors', 'rather', 'than', 'disciplined', 'by', 'an', 'administrator', 'last', 'week', 'portland', 'oregon', 'school', 'superintendent', 'announced', 'he', 'planned', 'to', 'remove', 'police', 'from', 'schools', 'denver', 'school', 'board', 'is', 'slated', 'to', 'vote', 'thursday', 'on', 'ending', 'contract', 'for', 'uniformed', 'officers', 'in', 'oakland', 'california', 'the', 'majority', 'of', 'the', 'school', 'board', 'and', 'superintendent', 'wednesday', 'backed', 'proposal', 'to', 'eliminate', 'the', 'district', 'million', 'internal', 'police', 'force', 'despite', 'concerns', 'from', 'some', 'principals', 'according', 'to', 'the', 'san', 'francisco', 'chronicle', 'advocates', 'for', 'school', 'resource', 'officers', 'say', 'the', 'problem', 'lies', 'with', 'inconsistent', 'training', 'for', 'law', 'enforcement', 'on', 'how', 'to', 'work', 'with', 'students', 'making', 'rash', 'moves', 'to', 'end', 'the', 'programs', 'because', 'of', 'political', 'and', 'social', 'pressure', 'could', 'make', 'schools', 'less', 'safe', 'they', 'say', 'and', 'also', 'disrupt', 'the', 'opportunity', 'for', 'healthy', 'relationships', 'to', 'grow', 'between', 'law', 'enforcement', 'and', 'students', 'when', 'this', 'is', 'done', 'the', 'right', 'way', 'it', 'the', 'epitome', 'of', 'community', 'based', 'policing', 'said', 'mo', 'canady', 'executive', 'director', 'of', 'the', 'national', 'association', 'of', 'school', 'resource', 'officers', 'that', 'philosophy', 'where', 'police', 'and', 'the', 'community', 'work', 'together', 'to', 'solve', 'crimes', 'and', 'improve', 'everyone', 'quality', 'of', 'life', 'canady', 'organization', 'trains', 'officers', 'how', 'to', 'enforce', 'the', 'law', 'in', 'school', 'setting', 'informally', 'counsel', 'students', 'and', 'act', 'as', 'an', 'educator', 'but', 'nothing', 'requires', 'school', 'resource', 'officers', 'to', 'undergo', 'such', 'training', 'canady', 'said', 'there', 'federal', 'resistance', 'to', 'that', 'idea', 'out', 'of', 'respect', 'for', 'the', 'tradition', 'of', 'local', 'control', 'he', 'added', 'it', 'better', 'if', 'districts', 'would', 'say', 'we', 'need', 'these', 'officers', 'trained', 'on', 'national', 'level', 'canady', 'said', 'nationally', 'protesters', 'seeking', 'justice', 'for', 'floyd', 'want', 'to', 'reduce', 'city', 'police', 'department', 'budgets', 'and', 'redirect', 'more', 'money', 'to', 'social', 'services', 'but', 'what', 'happening', 'at', 'schools', 'offers', 'window', 'into', 'the', 'relationship', 'between', 'law', 'enforcement', 'and', 'youth', 'while', 'police', 'have', 'been', 'stationed', 'in', 'schools', 'for', 'decades', 'they', 'don', 'make', 'schools', 'overwhelmingly', 'more', 'safe', 'studies', 'show', 'review', 'of', 'the', 'most', 'comprehensive', 'studies', 'on', 'school', 'based', 'law', 'enforcement', 'showed', 'the', 'officers', 'did', 'not', 'improve', 'students', 'perception', 'of', 'safety', 'and', 'out', 'of', 'school', 'suspensions', 'and', 'expulsions', 'increased', 'after', 'school', 'resource', 'officers', 'were', 'introduced', 'to', 'building', 'it', 'not', 'like', 'there', 'really', 'strong', 'research', 'base', 'that', 'says', 'with', 'police', 'in', 'schools', 'crime', 'goes', 'down', 'and', 'bullying', 'goes', 'down', 'and', 'there', 'are', 'no', 'shootings', 'said', 'anthony', 'petrosino', 'director', 'of', 'the', 'justice', 'and', 'prevention', 'research', 'center', 'at', 'wested', 'nonpartisan', 'research', 'organization', 'that', 'focuses', 'on', 'education', 'school', 'policing', 'is', 'much', 'more', 'common', 'in', 'schools', 'with', 'kids', 'of', 'color', 'petrosino', 'added', 'there', 'real', 'question', 'of', 'whether', 'it', 'helping', 'or', 'hurting', 'is', 'it', 'leading', 'to', 'more', 'of', 'these', 'kids', 'being', 'involved', 'in', 'the', 'justice', 'system', 'or', 'being', 'kicked', 'out', 'of', 'school', 'one', 'big', 'problem', 'is', 'children', 'of', 'racial', 'minorities', 'especially', 'black', 'students', 'are', 'more', 'likely', 'to', 'be', 'suspended', 'and', 'expelled', 'from', 'school', 'than', 'white', 'students', 'even', 'when', 'they', 'commit', 'similar', 'offenses', 'research', 'shows', 'pushed', 'out', 'and', 'punished', 'black', 'girls', 'punished', 'more', 'harshly', 'than', 'white', 'girls', 'and', 'of', 'the', 'approximate', 'million', 'students', 'in', 'america', 'attending', 'schools', 'with', 'police', 'officers', 'but', 'no', 'counselors', 'more', 'of', 'those', 'students', 'are', 'black', 'than', 'white', 'by', 'contrast', 'white', 'students', 'are', 'more', 'likely', 'to', 'attend', 'schools', 'with', 'counselors', 'but', 'not', 'police', 'federal', 'data', 'show', 'on', 'top', 'of', 'that', 'number', 'of', 'high', 'profile', 'incidents', 'in', 'recent', 'years', 'have', 'put', 'spotlight', 'on', 'police', 'brutality', 'toward', 'black', 'kids', 'and', 'teens', 'inside', 'and', 'outside', 'of', 'school', 'white', 'school', 'resource', 'officer', 'in', 'south', 'carolina', 'high', 'school', 'flipped', 'black', 'girl', 'out', 'of', 'her', 'desk', 'and', 'dragged', 'her', 'across', 'the', 'floor', 'in', 'black', 'school', 'resource', 'officer', 'in', 'orlando', 'arrested', 'sobbing', 'year', 'old', 'black', 'student', 'in', 'september', 'securing', 'her', 'with', 'zip', 'ties', 'because', 'she', 'was', 'too', 'small', 'for', 'handcuffs', 'white', 'officer', 'in', 'ferguson', 'missouri', 'shot', 'and', 'killed', 'michael', 'brown', 'an', 'unarmed', 'year', 'old', 'black', 'man', 'in', 'the', 'street', 'in', 'later', 'that', 'year', 'white', 'officer', 'in', 'cleveland', 'ohio', 'shot', 'and', 'killed', 'tamir', 'rice', 'year', 'old', 'black', 'boy', 'rice', 'had', 'been', 'playing', 'with', 'toy', 'gun', 'outside', 'recreation', 'center', 'change', 'in', 'ferguson', 'city', 'elects', 'first', 'black', 'female', 'mayor', 'years', 'after', 'michael', 'brown', 'death', 'in', 'the', 'only', 'of', 'schools', 'had', 'law', 'enforcement', 'officer', 'stationed', 'in', 'them', 'according', 'to', 'federal', 'data', 'now', 'of', 'schools', 'have', 'police', 'officer', 'in', 'the', 'building', 'at', 'least', 'one', 'day', 'week', 'according', 'to', 'the', 'most', 'recent', 'federal', 'data', 'and', 'among', 'large', 'schools', 'almost', 'had', 'sworn', 'officer', 'in', 'the', 'building', 'at', 'least', 'one', 'day', 'week', 'in', 'the', 'school', 'year', 'the', 'number', 'of', 'officers', 'in', 'schools', 'accelerated', 'rapidly', 'after', 'the', 'year', 'of', 'the', 'shooting', 'at', 'columbine', 'high', 'school', 'in', 'colorado', 'the', 'massacre', 'spurred', 'national', 'discussion', 'about', 'school', 'safety', 'and', 'boost', 'in', 'federal', 'funds', 'helped', 'pay', 'for', 'more', 'cops', 'in', 'schools', 'years', 'after', 'columbine', 'survivors', 'find', 'that', 'new', 'normal', 'between', 'and', 'program', 'started', 'under', 'the', 'clinton', 'administration', 'doled', 'out', 'million', 'in', 'grants', 'to', 'police', 'departments', 'to', 'support', 'hiring', 'thousands', 'more', 'school', 'resource', 'officers', 'since', 'then', 'law', 'enforcement', 'in', 'schools', 'seemed', 'like', 'the', 'one', 'thing', 'that', 'district', 'leaders', 'would', 'not', 'change', 'said', 'aaron', 'kupchik', 'professor', 'of', 'sociology', 'and', 'criminal', 'justice', 'at', 'the', 'university', 'of', 'delaware', 'we', 'typically', 'don', 'even', 'discuss', 'it', 'because', 'it', 'common', 'assumption', 'they', 're', 'here', 'to', 'stay', 'kupchik', 'said', 'so', 'people', 'focus', 'on', 'how', 'to', 'make', 'it', 'less', 'harmful', 'like', 'by', 'ending', 'zero', 'tolerance', 'policies', 'and', 'adding', 'more', 'restorative', 'justice', 'programs', 'under', 'zero', 'tolerance', 'students', 'who', 'break', 'school', 'rules', 'are', 'subject', 'to', 'mandatory', 'severe', 'consequences', 'such', 'as', 'being', 'expelled', 'restorative', 'justice', 'programs', 'offer', 'misbehaving', 'students', 'chance', 'to', 'take', 'ownership', 'of', 'their', 'actions', 'talk', 'through', 'what', 'prompted', 'them', 'and', 'repair', 'harm', 'they', 've', 'caused', 'to', 'others', 'restorative', 'justice', 'how', 'circle', 'keeping', 'works', 'at', 'one', 'midwestern', 'school', 'despite', 'talks', 'of', 'reform', 'students', 'social', 'justice', 'groups', 'and', 'the', 'american', 'civil', 'liberties', 'union', 'have', 'been', 'working', 'for', 'years', 'to', 'end', 'school', 'policing', 'long', 'before', 'the', 'calls', 'emerged', 'as', 'part', 'of', 'the', 'floyd', 'protests', 'that', 'key', 'reason', 'districts', 'are', 'taking', 'action', 'now', 'said', 'sarah', 'hinger', 'senior', 'staff', 'attorney', 'for', 'the', 'aclu', 'racial', 'justice', 'program', 'another', 'reason', 'school', 'districts', 'are', 'more', 'inclined', 'now', 'to', 'remove', 'police', 'officers', 'money', 'districts', 'are', 'facing', 'major', 'financial', 'shortfalls', 'because', 'of', 'the', 'covid', 'pandemic', 'and', 'loss', 'of', 'tax', 'revenue', 'because', 'of', 'the', 'economic', 'shutdown', 'it', 'widely', 'acknowledged', 'that', 'low', 'income', 'children', 'group', 'that', 'includes', 'many', 'black', 'and', 'brown', 'children', 'will', 'need', 'more', 'support', 'to', 'get', 'back', 'on', 'track', 'once', 'schools', 'reopen', 'many', 'haven', 'had', 'access', 'to', 'all', 'the', 'tools', 'needed', 'for', 'online', 'learning', 'such', 'as', 'high', 'speed', 'internet', 'or', 'their', 'own', 'computer', 'police', 'contracts', 'are', 'one', 'non', 'academic', 'budget', 'item', 'that', 'could', 'be', 'dropped', 'all', 'of', 'that', 'is', 'contributing', 'to', 'why', 'this', 'movement', 'is', 'really', 'catching', 'on', 'hinger', 'said', 'kids', 'need', 'to', 'talk', 'about', 'george', 'floyd', 'with', 'coronavirus', 'school', 'closures', 'it', 'hard', 'to', 'do', 'seattle', 'public', 'schools', 'announced', 'this', 'week', 'that', 'it', 'would', 'suspend', 'officers', 'from', 'schools', 'for', 'one', 'year', 'in', 'oakland', 'wednesday', 'the', 'school', 'superintendent', 'joined', 'the', 'majority', 'of', 'the', 'school', 'board', 'in', 'backing', 'the', 'elimination', 'of', 'the', 'district', 'in', 'house', 'police', 'force', 'one', 'idea', 'is', 'to', 'replace', 'it', 'with', 'non', 'uniformed', 'ambassadors', 'to', 'keep', 'the', 'peace', 'in', 'schools', 'black', 'students', 'account', 'for', 'of', 'the', 'students', 'arrested', 'in', 'oakland', 'schools', 'while', 'only', 'making', 'up', 'of', 'the', 'district', 'population', 'according', 'to', 'the', 'black', 'organizing', 'project', 'local', 'advocacy', 'group', 'oakland', 'board', 'is', 'slated', 'to', 'vote', 'on', 'eliminating', 'the', 'police', 'force', 'on', 'june', 'some', 'districts', 'are', 'less', 'inclined', 'to', 'remove', 'officers', 'the', 'chicago', 'teachers', 'union', 'has', 'reinvigorated', 'its', 'call', 'for', 'the', 'city', 'to', 'replace', 'school', 'resource', 'officers', 'with', 'counselors', 'but', 'mayor', 'lori', 'lightfoot', 'who', 'runs', 'the', 'city', 'as', 'well', 'as', 'the', 'district', 'indicated', 'she', 'not', 'interested', 'in', 'dumping', 'the', 'million', 'contract', 'with', 'the', 'chicago', 'police', 'department', 'more', 'than', 'three', 'quarters', 'of', 'the', 'city', 'high', 'schools', 'have', 'police', 'in', 'them', 'and', 'the', 'local', 'parent', 'and', 'teacher', 'councils', 'at', 'all', 'of', 'them', 'voted', 'to', 'keep', 'the', 'officers', 'this', 'year', 'according', 'to', 'local', 'news', 'reports', 'unfortunately', 'we', 'need', 'security', 'in', 'our', 'schools', 'lightfoot', 'said', 'in', 'protest', 'chicago', 'teachers', 'and', 'students', 'have', 'recently', 'staged', 'marches', 'and', 'car', 'caravan', 'parades', 'between', 'high', 'schools', 'chicago', 'protests', 'kanye', 'west', 'joins', 'march', 'offers', 'to', 'pay', 'legal', 'fees', 'for', 'breonna', 'taylor', 'family', 'in', 'los', 'angeles', 'the', 'teachers', 'union', 'said', 'monday', 'it', 'supports', 'ending', 'the', 'district', 'in', 'house', 'police', 'force', 'the', 'unit', 'places', 'about', 'officers', 'throughout', 'the', 'nation', 'second', 'largest', 'school', 'district', 'at', 'cost', 'of', 'about', 'million', 'annually', 'but', 'the', 'head', 'of', 'the', 'district', 'school', 'police', 'union', 'said', 'officers', 'are', 'better', 'trained', 'to', 'de', 'escalate', 'situations', 'in', 'buildings', 'than', 'outside', 'cops', 'called', 'to', 'campus', 'according', 'to', 'the', 'los', 'angeles', 'times', 'in', 'phoenix', 'hundreds', 'of', 'students', 'have', 'been', 'protesting', 'the', 'use', 'of', 'on', 'campus', 'police', 'officers', 'but', 'the', 'school', 'board', 'has', 'not', 'yet', 'taken', 'vote', 'on', 'whether', 'to', 'renew', 'the', 'contract', 'there', 'not', 'much', 'good', 'data', 'on', 'what', 'happens', 'when', 'you', 'remove', 'police', 'officers', 'from', 'schools', 'but', 'new', 'york', 'and', 'louisville', 'have', 'tried', 'some', 'new', 'ideas', 'decade', 'ago', 'report', 'from', 'new', 'york', 'city', 'examined', 'how', 'handful', 'of', 'high', 'schools', 'serving', 'at', 'risk', 'students', 'maintained', 'safe', 'environments', 'without', 'police', 'district', 'safety', 'agents', 'patrolled', 'halls', 'instead', 'metal', 'detectors', 'were', 'removed', 'administrators', 'created', 'alternatives', 'to', 'harsh', 'discipline', 'policies', 'the', 'aclu', 'which', 'published', 'the', 'report', 'is', 'notably', 'in', 'favor', 'of', 'removing', 'police', 'from', 'schools', 'in', 'louisville', 'kentucky', 'the', 'jefferson', 'county', 'public', 'schools', 'cut', 'ties', 'with', 'school', 'resource', 'officers', 'last', 'august', 'because', 'of', 'issues', 'related', 'to', 'the', 'criminalization', 'of', 'black', 'students', 'the', 'district', 'this', 'week', 'couldn', 'provide', 'comparison', 'of', 'school', 'arrest', 'data', 'from', 'before', 'and', 'after', 'police', 'were', 'removed', 'but', 'in', 'general', 'according', 'to', 'the', 'louisville', 'courier', 'journal', 'school', 'safety', 'hasn', 'changed', 'much', 'though', 'one', 'school', 'made', 'headlines', 'for', 'some', 'high', 'profile', 'student', 'on', 'teacher', 'altercations', 'louisville', 'has', 'seen', 'even', 'more', 'forceful', 'protests', 'than', 'some', 'cities', 'in', 'the', 'wake', 'of', 'the', 'death', 'of', 'breonna', 'taylor', 'who', 'was', 'shot', 'by', 'white', 'police', 'officer', 'in', 'her', 'bedroom', 'in', 'march', 'district', 'spokesperson', 'in', 'jefferson', 'county', 'said', 'this', 'week', 'the', 'district', 'is', 're', 'evaluating', 'its', 'school', 'safety', 'plan', 'which', 'could', 'still', 'include', 'armed', 'guards', 'in', 'schools', 'in', 'florida', 'janice', 'scott', 'cover', 'former', 'assistant', 'superintendent', 'in', 'the', 'palm', 'beach', 'county', 'school', 'district', 'said', 'administrators', 'can', 'also', 'work', 'harder', 'to', 'identify', 'the', 'root', 'cause', 'of', 'student', 'misbehavior', 'whether', 'cops', 'are', 'there', 'or', 'not', 'when', 'she', 'became', 'principal', 'of', 'troubled', 'elementary', 'school', 'two', 'decades', 'ago', 'the', 'school', 'resource', 'officer', 'arrested', 'children', 'for', 'fighting', 'disrespecting', 'teachers', 'and', 'walking', 'out', 'of', 'class', 'not', 'all', 'the', 'resource', 'officers', 'understand', 'how', 'to', 'police', 'in', 'schools', 'cover', 'said', 'some', 'still', 'behave', 'like', 'they', 're', 'out', 'on', 'the', 'street', 'grabbing', 'people', 'and', 'throwing', 'them', 'down', 'and', 'did', 'not', 'want', 'that', 'on', 'the', 'campus', 'cover', 'rearranged', 'the', 'budget', 'to', 'hire', 'another', 'social', 'worker', 'who', 'became', 'the', 'first', 'stop', 'for', 'misbehaving', 'children', 'she', 'had', 'teachers', 'rearrange', 'classrooms', 'so', 'students', 'worked', 'in', 'groups', 'and', 'practiced', 'cooperation', 'she', 'and', 'her', 'teachers', 'doubled', 'down', 'on', 'prodding', 'into', 'students', 'lives', 'often', 'getting', 'them', 'needed', 'household', 'or', 'personal', 'items', 'over', 'time', 'the', 'climate', 'and', 'academics', 'improved', 'something', 'cover', 'recounts', 'in', 'her', 'book', 'about', 'turning', 'around', 'low', 'performing', 'elementary', 'schools', 'happy', 'now', 'that', 'people', 'are', 'beginning', 'to', 'look', 'at', 'this', 'said', 'cover', 'who', 'is', 'black', 'my', 'hope', 'is', 'that', 'you', 'don', 'just', 'remove', 'the', 'police', 'officers', 'but', 'replace', 'them', 'with', 'something', 'else', 'like', 'counselors', 'or', 'mental', 'health', 'professionals', 'or', 'school', 'psychologists', 'olivia', 'krauth', 'contributed', 'to', 'this', 'story', 'from', 'louisville', 'kentucky', 'lily', 'altavena', 'contributed', 'from', 'phoenix', 'arizona', 'education', 'coverage', 'at', 'usa', 'today', 'is', 'made', 'possible', 'in', 'part', 'by', 'grant', 'from', 'the', 'bill', 'melinda', 'gates', 'foundation', 'the', 'gates', 'foundation', 'does', 'not', 'provide', 'editorial', 'input', 'three', 'summers', 'ago', 'about', 'students', 'and', 'activists', 'gathered', 'outside', 'the', 'minneapolis', 'public', 'schools', 'headquarters', 'to', 'demand', 'the', 'school', 'board', 'end', 'contract', 'that', 'placed', 'police', 'officers', 'in', 'schools', 'the', 'officers', 'whose', 'role', 'was', 'to', 'keep', 'schools', 'safe', 'actually', 'made', 'students', 'especially', 'black', 'students', 'feel', 'criminalized', 'activists', 'said', 'but', 'the', 'majority', 'of', 'teachers', 'staff', 'and', 'parents', 'liked', 'officers', 'in', 'schools', 'district', 'wide', 'survey', 'showed', 'at', 'the', 'time', 'the', 'board', 'renewed', 'the', 'three', 'year', 'contract', 'fast', 'forward', 'to', 'june', 'eight', 'days', 'after', 'george', 'floyd', 'died', 'under', 'the', 'knee', 'of', 'minneapolis', 'police', 'officer', 'the', 'school', 'board', 'revisited', 'that', 'contract', 'and', 'ended', 'it', 'the', 'vote', 'on', 'june', 'after', 'an', 'even', 'larger', 'crowd', 'of', 'protesters', 'gathered', 'outside', 'was', 'unanimous', 'the', 'values', 'we', 'see', 'in', 'the', 'police', 'department', 'do', 'not', 'match', 'our', 'values', 'said', 'kim', 'ellison', 'chair', 'of', 'the', 'minneapolis', 'school', 'board', 'the', 'school', 'board', 'became', 'one', 'of', 'the', 'first', 'major', 'governmental', 'bodies', 'to', 'change', 'the', 'balance', 'of', 'power', 'with', 'police', 'in', 'the', 'wake', 'of', 'floyd', 'death', 'the', 'change', 'has', 'prompted', 'wave', 'of', 'districts', 'nationwide', 'to', 'consider', 'terminating', 'their', 'relationships', 'with', 'police', 'from', 'chicago', 'new', 'york', 'and', 'los', 'angeles', 'to', 'smaller', 'cities', 'like', 'rochester', 'new', 'york', 'columbus', 'ohio', 'and', 'portland', 'maine', 'and', 'fort', 'collins', 'colorado', 'students', 'and', 'activists', 'are', 'demanding', 'the', 'discontinuation', 'of', 'school', 'resource', 'officers', 'they', 'want', 'the', 'money', 'spent', 'on', 'those', 'programs', 'to', 'go', 'to', 'other', 'peacekeeping', 'strategies', 'teen', 'activists', 'too', 'young', 'to', 'vote', 'in', 'but', 'fighting', 'for', 'change', 'police', 'in', 'schools', 'contribute', 'to', 'the', 'marginalization', 'of', 'students', 'of', 'color', 'they', 'say', 'that', 'because', 'schools', 'with', 'large', 'populations', 'of', 'black', 'and', 'brown', 'students', 'are', 'more', 'likely', 'to', 'have', 'law', 'enforcement', 'on', 'site', 'and', 'in', 'those', 'places', 'students', 'are', 'more', 'likely', 'to', 'be', 'arrested', 'for', 'certain', 'behaviors', 'rather', 'than', 'disciplined', 'by', 'an', 'administrator', 'last', 'week', 'portland', 'oregon', 'school', 'superintendent', 'announced', 'he', 'planned', 'to', 'remove', 'police', 'from', 'schools', 'denver', 'school', 'board', 'is', 'slated', 'to', 'vote', 'thursday', 'on', 'ending', 'contract', 'for', 'uniformed', 'officers', 'in', 'oakland', 'california', 'the', 'majority', 'of', 'the', 'school', 'board', 'and', 'superintendent', 'wednesday', 'backed', 'proposal', 'to', 'eliminate', 'the', 'district', 'million', 'internal', 'police', 'force', 'despite', 'concerns', 'from', 'some', 'principals', 'according', 'to', 'the', 'san', 'francisco', 'chronicle', 'advocates', 'for', 'school', 'resource', 'officers', 'say', 'the', 'problem', 'lies', 'with', 'inconsistent', 'training', 'for', 'law', 'enforcement', 'on', 'how', 'to', 'work', 'with', 'students', 'making', 'rash', 'moves', 'to', 'end', 'the', 'programs', 'because', 'of', 'political', 'and', 'social', 'pressure', 'could', 'make', 'schools', 'less', 'safe', 'they', 'say', 'and', 'also', 'disrupt', 'the', 'opportunity', 'for', 'healthy', 'relationships', 'to', 'grow', 'between', 'law', 'enforcement', 'and', 'students', 'when', 'this', 'is', 'done', 'the', 'right', 'way', 'it', 'the', 'epitome', 'of', 'community', 'based', 'policing', 'said', 'mo', 'canady', 'executive', 'director', 'of', 'the', 'national', 'association', 'of', 'school', 'resource', 'officers', 'that', 'philosophy', 'where', 'police', 'and', 'the', 'community', 'work', 'together', 'to', 'solve', 'crimes', 'and', 'improve', 'everyone', 'quality', 'of', 'life', 'canady', 'organization', 'trains', 'officers', 'how', 'to', 'enforce', 'the', 'law', 'in', 'school', 'setting', 'informally', 'counsel', 'students', 'and', 'act', 'as', 'an', 'educator', 'but', 'nothing', 'requires', 'school', 'resource', 'officers', 'to', 'undergo', 'such', 'training', 'canady', 'said', 'there', 'federal', 'resistance', 'to', 'that', 'idea', 'out', 'of', 'respect', 'for', 'the', 'tradition', 'of', 'local', 'control', 'he', 'added', 'it', 'better', 'if', 'districts', 'would', 'say', 'we', 'need', 'these', 'officers', 'trained', 'on', 'national', 'level', 'canady', 'said', 'nationally', 'protesters', 'seeking', 'justice', 'for', 'floyd', 'want', 'to', 'reduce', 'city', 'police', 'department', 'budgets', 'and', 'redirect', 'more', 'money', 'to', 'social', 'services', 'but', 'what', 'happening', 'at', 'schools', 'offers', 'window', 'into', 'the', 'relationship', 'between', 'law', 'enforcement', 'and', 'youth', 'while', 'police', 'have', 'been', 'stationed', 'in', 'schools', 'for', 'decades', 'they', 'don', 'make', 'schools', 'overwhelmingly', 'more', 'safe', 'studies', 'show', 'review', 'of', 'the', 'most', 'comprehensive', 'studies', 'on', 'school', 'based', 'law', 'enforcement', 'showed', 'the', 'officers', 'did', 'not', 'improve', 'students', 'perception', 'of', 'safety', 'and', 'out', 'of', 'school', 'suspensions', 'and', 'expulsions', 'increased', 'after', 'school', 'resource', 'officers', 'were', 'introduced', 'to', 'building', 'it', 'not', 'like', 'there', 'really', 'strong', 'research', 'base', 'that', 'says', 'with', 'police', 'in', 'schools', 'crime', 'goes', 'down', 'and', 'bullying', 'goes', 'down', 'and', 'there', 'are', 'no', 'shootings', 'said', 'anthony', 'petrosino', 'director', 'of', 'the', 'justice', 'and', 'prevention', 'research', 'center', 'at', 'wested', 'nonpartisan', 'research', 'organization', 'that', 'focuses', 'on', 'education', 'school', 'policing', 'is', 'much', 'more', 'common', 'in', 'schools', 'with', 'kids', 'of', 'color', 'petrosino', 'added', 'there', 'real', 'question', 'of', 'whether', 'it', 'helping', 'or', 'hurting', 'is', 'it', 'leading', 'to', 'more', 'of', 'these', 'kids', 'being', 'involved', 'in', 'the', 'justice', 'system', 'or', 'being', 'kicked', 'out', 'of', 'school', 'one', 'big', 'problem', 'is', 'children', 'of', 'racial', 'minorities', 'especially', 'black', 'students', 'are', 'more', 'likely', 'to', 'be', 'suspended', 'and', 'expelled', 'from', 'school', 'than', 'white', 'students', 'even', 'when', 'they', 'commit', 'similar', 'offenses', 'research', 'shows', 'pushed', 'out', 'and', 'punished', 'black', 'girls', 'punished', 'more', 'harshly', 'than', 'white', 'girls', 'and', 'of', 'the', 'approximate', 'million', 'students', 'in', 'america', 'attending', 'schools', 'with', 'police', 'officers', 'but', 'no', 'counselors', 'more', 'of', 'those', 'students', 'are', 'black', 'than', 'white', 'by', 'contrast', 'white', 'students', 'are', 'more', 'likely', 'to', 'attend', 'schools', 'with', 'counselors', 'but', 'not', 'police', 'federal', 'data', 'show', 'on', 'top', 'of', 'that', 'number', 'of', 'high', 'profile', 'incidents', 'in', 'recent', 'years', 'have', 'put', 'spotlight', 'on', 'police', 'brutality', 'toward', 'black', 'kids', 'and', 'teens', 'inside', 'and', 'outside', 'of', 'school', 'white', 'school', 'resource', 'officer', 'in', 'south', 'carolina', 'high', 'school', 'flipped', 'black', 'girl', 'out', 'of', 'her', 'desk', 'and', 'dragged', 'her', 'across', 'the', 'floor', 'in', 'black', 'school', 'resource', 'officer', 'in', 'orlando', 'arrested', 'sobbing', 'year', 'old', 'black', 'student', 'in', 'september', 'securing', 'her', 'with', 'zip', 'ties', 'because', 'she', 'was', 'too', 'small', 'for', 'handcuffs', 'white', 'officer', 'in', 'ferguson', 'missouri', 'shot', 'and', 'killed', 'michael', 'brown', 'an', 'unarmed', 'year', 'old', 'black', 'man', 'in', 'the', 'street', 'in', 'later', 'that', 'year', 'white', 'officer', 'in', 'cleveland', 'ohio', 'shot', 'and', 'killed', 'tamir', 'rice', 'year', 'old', 'black', 'boy', 'rice', 'had', 'been', 'playing', 'with', 'toy', 'gun', 'outside', 'recreation', 'center', 'change', 'in', 'ferguson', 'city', 'elects', 'first', 'black', 'female', 'mayor', 'years', 'after', 'michael', 'brown', 'death', 'in', 'the', 'only', 'of', 'schools', 'had', 'law', 'enforcement', 'officer', 'stationed', 'in', 'them', 'according', 'to', 'federal', 'data', 'now', 'of', 'schools', 'have', 'police', 'officer', 'in', 'the', 'building', 'at', 'least', 'one', 'day', 'week', 'according', 'to', 'the', 'most', 'recent', 'federal', 'data', 'and', 'among', 'large', 'schools', 'almost', 'had', 'sworn', 'officer', 'in', 'the', 'building', 'at', 'least', 'one', 'day', 'week', 'in', 'the', 'school', 'year', 'the', 'number', 'of', 'officers', 'in', 'schools', 'accelerated', 'rapidly', 'after', 'the', 'year', 'of', 'the', 'shooting', 'at', 'columbine', 'high', 'school', 'in', 'colorado', 'the', 'massacre', 'spurred', 'national', 'discussion', 'about', 'school', 'safety', 'and', 'boost', 'in', 'federal', 'funds', 'helped', 'pay', 'for', 'more', 'cops', 'in', 'schools', 'years', 'after', 'columbine', 'survivors', 'find', 'that', 'new', 'normal', 'between', 'and', 'program', 'started', 'under', 'the', 'clinton', 'administration', 'doled', 'out', 'million', 'in', 'grants', 'to', 'police', 'departments', 'to', 'support', 'hiring', 'thousands', 'more', 'school', 'resource', 'officers', 'since', 'then', 'law', 'enforcement', 'in', 'schools', 'seemed', 'like', 'the', 'one', 'thing', 'that', 'district', 'leaders', 'would', 'not', 'change', 'said', 'aaron', 'kupchik', 'professor', 'of', 'sociology', 'and', 'criminal', 'justice', 'at', 'the', 'university', 'of', 'delaware', 'we', 'typically', 'don', 'even', 'discuss', 'it', 'because', 'it', 'common', 'assumption', 'they', 're', 'here', 'to', 'stay', 'kupchik', 'said', 'so', 'people', 'focus', 'on', 'how', 'to', 'make', 'it', 'less', 'harmful', 'like', 'by', 'ending', 'zero', 'tolerance', 'policies', 'and', 'adding', 'more', 'restorative', 'justice', 'programs', 'under', 'zero', 'tolerance', 'students', 'who', 'break', 'school', 'rules', 'are', 'subject', 'to', 'mandatory', 'severe', 'consequences', 'such', 'as', 'being', 'expelled', 'restorative', 'justice', 'programs', 'offer', 'misbehaving', 'students', 'chance', 'to', 'take', 'ownership', 'of', 'their', 'actions', 'talk', 'through', 'what', 'prompted', 'them', 'and', 'repair', 'harm', 'they', 've', 'caused', 'to', 'others', 'restorative', 'justice', 'how', 'circle', 'keeping', 'works', 'at', 'one', 'midwestern', 'school', 'despite', 'talks', 'of', 'reform', 'students', 'social', 'justice', 'groups', 'and', 'the', 'american', 'civil', 'liberties', 'union', 'have', 'been', 'working', 'for', 'years', 'to', 'end', 'school', 'policing', 'long', 'before', 'the', 'calls', 'emerged', 'as', 'part', 'of', 'the', 'floyd', 'protests', 'that', 'key', 'reason', 'districts', 'are', 'taking', 'action', 'now', 'said', 'sarah', 'hinger', 'senior', 'staff', 'attorney', 'for', 'the', 'aclu', 'racial', 'justice', 'program', 'another', 'reason', 'school', 'districts', 'are', 'more', 'inclined', 'now', 'to', 'remove', 'police', 'officers', 'money', 'districts', 'are', 'facing', 'major', 'financial', 'shortfalls', 'because', 'of', 'the', 'covid', 'pandemic', 'and', 'loss', 'of', 'tax', 'revenue', 'because', 'of', 'the', 'economic', 'shutdown', 'it', 'widely', 'acknowledged', 'that', 'low', 'income', 'children', 'group', 'that', 'includes', 'many', 'black', 'and', 'brown', 'children', 'will', 'need', 'more', 'support', 'to', 'get', 'back', 'on', 'track', 'once', 'schools', 'reopen', 'many', 'haven', 'had', 'access', 'to', 'all', 'the', 'tools', 'needed', 'for', 'online', 'learning', 'such', 'as', 'high', 'speed', 'internet', 'or', 'their', 'own', 'computer', 'police', 'contracts', 'are', 'one', 'non', 'academic', 'budget', 'item', 'that', 'could', 'be', 'dropped', 'all', 'of', 'that', 'is', 'contributing', 'to', 'why', 'this', 'movement', 'is', 'really', 'catching', 'on', 'hinger', 'said', 'kids', 'need', 'to', 'talk', 'about', 'george', 'floyd', 'with', 'coronavirus', 'school', 'closures', 'it', 'hard', 'to', 'do', 'seattle', 'public', 'schools', 'announced', 'this', 'week', 'that', 'it', 'would', 'suspend', 'officers', 'from', 'schools', 'for', 'one', 'year', 'in', 'oakland', 'wednesday', 'the', 'school', 'superintendent', 'joined', 'the', 'majority', 'of', 'the', 'school', 'board', 'in', 'backing', 'the', 'elimination', 'of', 'the', 'district', 'in', 'house', 'police', 'force', 'one', 'idea', 'is', 'to', 'replace', 'it', 'with', 'non', 'uniformed', 'ambassadors', 'to', 'keep', 'the', 'peace', 'in', 'schools', 'black', 'students', 'account', 'for', 'of', 'the', 'students', 'arrested', 'in', 'oakland', 'schools', 'while', 'only', 'making', 'up', 'of', 'the', 'district', 'population', 'according', 'to', 'the', 'black', 'organizing', 'project', 'local', 'advocacy', 'group', 'oakland', 'board', 'is', 'slated', 'to', 'vote', 'on', 'eliminating', 'the', 'police', 'force', 'on', 'june', 'some', 'districts', 'are', 'less', 'inclined', 'to', 'remove', 'officers', 'the', 'chicago', 'teachers', 'union', 'has', 'reinvigorated', 'its', 'call', 'for', 'the', 'city', 'to', 'replace', 'school', 'resource', 'officers', 'with', 'counselors', 'but', 'mayor', 'lori', 'lightfoot', 'who', 'runs', 'the', 'city', 'as', 'well', 'as', 'the', 'district', 'indicated', 'she', 'not', 'interested', 'in', 'dumping', 'the', 'million', 'contract', 'with', 'the', 'chicago', 'police', 'department', 'more', 'than', 'three', 'quarters', 'of', 'the', 'city', 'high', 'schools', 'have', 'police', 'in', 'them', 'and', 'the', 'local', 'parent', 'and', 'teacher', 'councils', 'at', 'all', 'of', 'them', 'voted', 'to', 'keep', 'the', 'officers', 'this', 'year', 'according', 'to', 'local', 'news', 'reports', 'unfortunately', 'we', 'need', 'security', 'in', 'our', 'schools', 'lightfoot', 'said', 'in', 'protest', 'chicago', 'teachers', 'and', 'students', 'have', 'recently', 'staged', 'marches', 'and', 'car', 'caravan', 'parades', 'between', 'high', 'schools', 'chicago', 'protests', 'kanye', 'west', 'joins', 'march', 'offers', 'to', 'pay', 'legal', 'fees', 'for', 'breonna', 'taylor', 'family', 'in', 'los', 'angeles', 'the', 'teachers', 'union', 'said', 'monday', 'it', 'supports', 'ending', 'the', 'district', 'in', 'house', 'police', 'force', 'the', 'unit', 'places', 'about', 'officers', 'throughout', 'the', 'nation', 'second', 'largest', 'school', 'district', 'at', 'cost', 'of', 'about', 'million', 'annually', 'but', 'the', 'head', 'of', 'the', 'district', 'school', 'police', 'union', 'said', 'officers', 'are', 'better', 'trained', 'to', 'de', 'escalate', 'situations', 'in', 'buildings', 'than', 'outside', 'cops', 'called', 'to', 'campus', 'according', 'to', 'the', 'los', 'angeles', 'times', 'in', 'phoenix', 'hundreds', 'of', 'students', 'have', 'been', 'protesting', 'the', 'use', 'of', 'on', 'campus', 'police', 'officers', 'but', 'the', 'school', 'board', 'has', 'not', 'yet', 'taken', 'vote', 'on', 'whether', 'to', 'renew', 'the', 'contract', 'there', 'not', 'much', 'good', 'data', 'on', 'what', 'happens', 'when', 'you', 'remove', 'police', 'officers', 'from', 'schools', 'but', 'new', 'york', 'and', 'louisville', 'have', 'tried', 'some', 'new', 'ideas', 'decade', 'ago', 'report', 'from', 'new', 'york', 'city', 'examined', 'how', 'handful', 'of', 'high', 'schools', 'serving', 'at', 'risk', 'students', 'maintained', 'safe', 'environments', 'without', 'police', 'district', 'safety', 'agents', 'patrolled', 'halls', 'instead', 'metal', 'detectors', 'were', 'removed', 'administrators', 'created', 'alternatives', 'to', 'harsh', 'discipline', 'policies', 'the', 'aclu', 'which', 'published', 'the', 'report', 'is', 'notably', 'in', 'favor', 'of', 'removing', 'police', 'from', 'schools', 'in', 'louisville', 'kentucky', 'the', 'jefferson', 'county', 'public', 'schools', 'cut', 'ties', 'with', 'school', 'resource', 'officers', 'last', 'august', 'because', 'of', 'issues', 'related', 'to', 'the', 'criminalization', 'of', 'black', 'students', 'the', 'district', 'this', 'week', 'couldn', 'provide', 'comparison', 'of', 'school', 'arrest', 'data', 'from', 'before', 'and', 'after', 'police', 'were', 'removed', 'but', 'in', 'general', 'according', 'to', 'the', 'louisville', 'courier', 'journal', 'school', 'safety', 'hasn', 'changed', 'much', 'though', 'one', 'school', 'made', 'headlines', 'for', 'some', 'high', 'profile', 'student', 'on', 'teacher', 'altercations', 'louisville', 'has', 'seen', 'even', 'more', 'forceful', 'protests', 'than', 'some', 'cities', 'in', 'the', 'wake', 'of', 'the', 'death', 'of', 'breonna', 'taylor', 'who', 'was', 'shot', 'by', 'white', 'police', 'officer', 'in', 'her', 'bedroom', 'in', 'march', 'district', 'spokesperson', 'in', 'jefferson', 'county', 'said', 'this', 'week', 'the', 'district', 'is', 're', 'evaluating', 'its', 'school', 'safety', 'plan', 'which', 'could', 'still', 'include', 'armed', 'guards', 'in', 'schools', 'in', 'florida', 'janice', 'scott', 'cover', 'former', 'assistant', 'superintendent', 'in', 'the', 'palm', 'beach', 'county', 'school', 'district', 'said', 'administrators', 'can', 'also', 'work', 'harder', 'to', 'identify', 'the', 'root', 'cause', 'of', 'student', 'misbehavior', 'whether', 'cops', 'are', 'there', 'or', 'not', 'when', 'she', 'became', 'principal', 'of', 'troubled', 'elementary', 'school', 'two', 'decades', 'ago', 'the', 'school', 'resource', 'officer', 'arrested', 'children', 'for', 'fighting', 'disrespecting', 'teachers', 'and', 'walking', 'out', 'of', 'class', 'not', 'all', 'the', 'resource', 'officers', 'understand', 'how', 'to', 'police', 'in', 'schools', 'cover', 'said', 'some', 'still', 'behave', 'like', 'they', 're', 'out', 'on', 'the', 'street', 'grabbing', 'people', 'and', 'throwing', 'them', 'down', 'and', 'did', 'not', 'want', 'that', 'on', 'the', 'campus', 'cover', 'rearranged', 'the', 'budget', 'to', 'hire', 'another', 'social', 'worker', 'who', 'became', 'the', 'first', 'stop', 'for', 'misbehaving', 'children', 'she', 'had', 'teachers', 'rearrange', 'classrooms', 'so', 'students', 'worked', 'in', 'groups', 'and', 'practiced', 'cooperation', 'she', 'and', 'her', 'teachers', 'doubled', 'down', 'on', 'prodding', 'into', 'students', 'lives', 'often', 'getting', 'them', 'needed', 'household', 'or', 'personal', 'items', 'over', 'time', 'the', 'climate', 'and', 'academics', 'improved', 'something', 'cover', 'recounts', 'in', 'her', 'book', 'about', 'turning', 'around', 'low', 'performing', 'elementary', 'schools', 'happy', 'now', 'that', 'people', 'are', 'beginning', 'to', 'look', 'at', 'this', 'said', 'cover', 'who', 'is', 'black', 'my', 'hope', 'is', 'that', 'you', 'don', 'just', 'remove', 'the', 'police', 'officers', 'but', 'replace', 'them', 'with', 'something', 'else', 'like', 'counselors', 'or', 'mental', 'health', 'professionals', 'or', 'school', 'psychologists', 'olivia', 'krauth', 'contributed', 'to', 'this', 'story', 'from', 'louisville', 'kentucky', 'lily', 'altavena', 'contributed', 'from', 'phoenix', 'arizona', 'education', 'coverage', 'at', 'usa', 'today', 'is', 'made', 'possible', 'in', 'part', 'by', 'grant', 'from', 'the', 'bill', 'melinda', 'gates', 'foundation', 'the', 'gates', 'foundation', 'does', 'not', 'provide', 'editorial', 'input', 'three', 'summers', 'ago', 'about', 'students', 'and', 'activists', 'gathered', 'outside', 'the', 'minneapolis', 'public', 'schools', 'headquarters', 'to', 'demand', 'the', 'school', 'board', 'end', 'contract', 'that', 'placed', 'police', 'officers', 'in', 'schools', 'the', 'officers', 'whose', 'role', 'was', 'to', 'keep', 'schools', 'safe', 'actually', 'made', 'students', 'especially', 'black', 'students', 'feel', 'criminalized', 'activists', 'said', 'but', 'the', 'majority', 'of', 'teachers', 'staff', 'and', 'parents', 'liked', 'officers', 'in', 'schools', 'district', 'wide', 'survey', 'showed', 'at', 'the', 'time', 'the', 'board', 'renewed', 'the', 'three', 'year', 'contract', 'fast', 'forward', 'to', 'june', 'eight', 'days', 'after', 'george', 'floyd', 'died', 'under', 'the', 'knee', 'of', 'minneapolis', 'police', 'officer', 'the', 'school', 'board', 'revisited', 'that', 'contract', 'and', 'ended', 'it', 'the', 'vote', 'on', 'june', 'after', 'an', 'even', 'larger', 'crowd', 'of', 'protesters', 'gathered', 'outside', 'was', 'unanimous', 'the', 'values', 'we', 'see', 'in', 'the', 'police', 'department', 'do', 'not', 'match', 'our', 'values', 'said', 'kim', 'ellison', 'chair', 'of', 'the', 'minneapolis', 'school', 'board', 'the', 'school', 'board', 'became', 'one', 'of', 'the', 'first', 'major', 'governmental', 'bodies', 'to', 'change', 'the', 'balance', 'of', 'power', 'with', 'police', 'in', 'the', 'wake', 'of', 'floyd', 'death', 'the', 'change', 'has', 'prompted', 'wave', 'of', 'districts', 'nationwide', 'to', 'consider', 'terminating', 'their', 'relationships', 'with', 'police', 'from', 'chicago', 'new', 'york', 'and', 'los', 'angeles', 'to', 'smaller', 'cities', 'like', 'rochester', 'new', 'york', 'columbus', 'ohio', 'and', 'portland', 'maine', 'and', 'fort', 'collins', 'colorado', 'students', 'and', 'activists', 'are', 'demanding', 'the', 'discontinuation', 'of', 'school', 'resource', 'officers', 'they', 'want', 'the', 'money', 'spent', 'on', 'those', 'programs', 'to', 'go', 'to', 'other', 'peacekeeping', 'strategies', 'teen', 'activists', 'too', 'young', 'to', 'vote', 'in', 'but', 'fighting', 'for', 'change', 'police', 'in', 'schools', 'contribute', 'to', 'the', 'marginalization', 'of', 'students', 'of', 'color', 'they', 'say', 'that', 'because', 'schools', 'with', 'large', 'populations', 'of', 'black', 'and', 'brown', 'students', 'are', 'more', 'likely', 'to', 'have', 'law', 'enforcement', 'on', 'site', 'and', 'in', 'those', 'places', 'students', 'are', 'more', 'likely', 'to', 'be', 'arrested', 'for', 'certain', 'behaviors', 'rather', 'than', 'disciplined', 'by', 'an', 'administrator', 'last', 'week', 'portland', 'oregon', 'school', 'superintendent', 'announced', 'he', 'planned', 'to', 'remove', 'police', 'from', 'schools', 'denver', 'school', 'board', 'is', 'slated', 'to', 'vote', 'thursday', 'on', 'ending', 'contract', 'for', 'uniformed', 'officers', 'in', 'oakland', 'california', 'the', 'majority', 'of', 'the', 'school', 'board', 'and', 'superintendent', 'wednesday', 'backed', 'proposal', 'to', 'eliminate', 'the', 'district', 'million', 'internal', 'police', 'force', 'despite', 'concerns', 'from', 'some', 'principals', 'according', 'to', 'the', 'san', 'francisco', 'chronicle', 'advocates', 'for', 'school', 'resource', 'officers', 'say', 'the', 'problem', 'lies', 'with', 'inconsistent', 'training', 'for', 'law', 'enforcement', 'on', 'how', 'to', 'work', 'with', 'students', 'making', 'rash', 'moves', 'to', 'end', 'the', 'programs', 'because', 'of', 'political', 'and', 'social', 'pressure', 'could', 'make', 'schools', 'less', 'safe', 'they', 'say', 'and', 'also', 'disrupt', 'the', 'opportunity', 'for', 'healthy', 'relationships', 'to', 'grow', 'between', 'law', 'enforcement', 'and', 'students', 'when', 'this', 'is', 'done', 'the', 'right', 'way', 'it', 'the', 'epitome', 'of', 'community', 'based', 'policing', 'said', 'mo', 'canady', 'executive', 'director', 'of', 'the', 'national', 'association', 'of', 'school', 'resource', 'officers', 'that', 'philosophy', 'where', 'police', 'and', 'the', 'community', 'work', 'together', 'to', 'solve', 'crimes', 'and', 'improve', 'everyone', 'quality', 'of', 'life', 'canady', 'organization', 'trains', 'officers', 'how', 'to', 'enforce', 'the', 'law', 'in', 'school', 'setting', 'informally', 'counsel', 'students', 'and', 'act', 'as', 'an', 'educator', 'but', 'nothing', 'requires', 'school', 'resource', 'officers', 'to', 'undergo', 'such', 'training', 'canady', 'said', 'there', 'federal', 'resistance', 'to', 'that', 'idea', 'out', 'of', 'respect', 'for', 'the', 'tradition', 'of', 'local', 'control', 'he', 'added', 'it', 'better', 'if', 'districts', 'would', 'say', 'we', 'need', 'these', 'officers', 'trained', 'on', 'national', 'level', 'canady', 'said', 'nationally', 'protesters', 'seeking', 'justice', 'for', 'floyd', 'want', 'to', 'reduce', 'city', 'police', 'department', 'budgets', 'and', 'redirect', 'more', 'money', 'to', 'social', 'services', 'but', 'what', 'happening', 'at', 'schools', 'offers', 'window', 'into', 'the', 'relationship', 'between', 'law', 'enforcement', 'and', 'youth', 'while', 'police', 'have', 'been', 'stationed', 'in', 'schools', 'for', 'decades', 'they', 'don', 'make', 'schools', 'overwhelmingly', 'more', 'safe', 'studies', 'show', 'review', 'of', 'the', 'most', 'comprehensive', 'studies', 'on', 'school', 'based', 'law', 'enforcement', 'showed', 'the', 'officers', 'did', 'not', 'improve', 'students', 'perception', 'of', 'safety', 'and', 'out', 'of', 'school', 'suspensions', 'and', 'expulsions', 'increased', 'after', 'school', 'resource', 'officers', 'were', 'introduced', 'to', 'building', 'it', 'not', 'like', 'there', 'really', 'strong', 'research', 'base', 'that', 'says', 'with', 'police', 'in', 'schools', 'crime', 'goes', 'down', 'and', 'bullying', 'goes', 'down', 'and', 'there', 'are', 'no', 'shootings', 'said', 'anthony', 'petrosino', 'director', 'of', 'the', 'justice', 'and', 'prevention', 'research', 'center', 'at', 'wested', 'nonpartisan', 'research', 'organization', 'that', 'focuses', 'on', 'education', 'school', 'policing', 'is', 'much', 'more', 'common', 'in', 'schools', 'with', 'kids', 'of', 'color', 'petrosino', 'added', 'there', 'real', 'question', 'of', 'whether', 'it', 'helping', 'or', 'hurting', 'is', 'it', 'leading', 'to', 'more', 'of', 'these', 'kids', 'being', 'involved', 'in', 'the', 'justice', 'system', 'or', 'being', 'kicked', 'out', 'of', 'school', 'one', 'big', 'problem', 'is', 'children', 'of', 'racial', 'minorities', 'especially', 'black', 'students', 'are', 'more', 'likely', 'to', 'be', 'suspended', 'and', 'expelled', 'from', 'school', 'than', 'white', 'students', 'even', 'when', 'they', 'commit', 'similar', 'offenses', 'research', 'shows', 'pushed', 'out', 'and', 'punished', 'black', 'girls', 'punished', 'more', 'harshly', 'than', 'white', 'girls', 'and', 'of', 'the', 'approximate', 'million', 'students', 'in', 'america', 'attending', 'schools', 'with', 'police', 'officers', 'but', 'no', 'counselors', 'more', 'of', 'those', 'students', 'are', 'black', 'than', 'white', 'by', 'contrast', 'white', 'students', 'are', 'more', 'likely', 'to', 'attend', 'schools', 'with', 'counselors', 'but', 'not', 'police', 'federal', 'data', 'show', 'on', 'top', 'of', 'that', 'number', 'of', 'high', 'profile', 'incidents', 'in', 'recent', 'years', 'have', 'put', 'spotlight', 'on', 'police', 'brutality', 'toward', 'black', 'kids', 'and', 'teens', 'inside', 'and', 'outside', 'of', 'school', 'white', 'school', 'resource', 'officer', 'in', 'south', 'carolina', 'high', 'school', 'flipped', 'black', 'girl', 'out', 'of', 'her', 'desk', 'and', 'dragged', 'her', 'across', 'the', 'floor', 'in', 'black', 'school', 'resource', 'officer', 'in', 'orlando', 'arrested', 'sobbing', 'year', 'old', 'black', 'student', 'in', 'september', 'securing', 'her', 'with', 'zip', 'ties', 'because', 'she', 'was', 'too', 'small', 'for', 'handcuffs', 'white', 'officer', 'in', 'ferguson', 'missouri', 'shot', 'and', 'killed', 'michael', 'brown', 'an', 'unarmed', 'year', 'old', 'black', 'man', 'in', 'the', 'street', 'in', 'later', 'that', 'year', 'white', 'officer', 'in', 'cleveland', 'ohio', 'shot', 'and', 'killed', 'tamir', 'rice', 'year', 'old', 'black', 'boy', 'rice', 'had', 'been', 'playing', 'with', 'toy', 'gun', 'outside', 'recreation', 'center', 'change', 'in', 'ferguson', 'city', 'elects', 'first', 'black', 'female', 'mayor', 'years', 'after', 'michael', 'brown', 'death', 'in', 'the', 'only', 'of', 'schools', 'had', 'law', 'enforcement', 'officer', 'stationed', 'in', 'them', 'according', 'to', 'federal', 'data', 'now', 'of', 'schools', 'have', 'police', 'officer', 'in', 'the', 'building', 'at', 'least', 'one', 'day', 'week', 'according', 'to', 'the', 'most', 'recent', 'federal', 'data', 'and', 'among', 'large', 'schools', 'almost', 'had', 'sworn', 'officer', 'in', 'the', 'building', 'at', 'least', 'one', 'day', 'week', 'in', 'the', 'school', 'year', 'the', 'number', 'of', 'officers', 'in', 'schools', 'accelerated', 'rapidly', 'after', 'the', 'year', 'of', 'the', 'shooting', 'at', 'columbine', 'high', 'school', 'in', 'colorado', 'the', 'massacre', 'spurred', 'national', 'discussion', 'about', 'school', 'safety', 'and', 'boost', 'in', 'federal', 'funds', 'helped', 'pay', 'for', 'more', 'cops', 'in', 'schools', 'years', 'after', 'columbine', 'survivors', 'find', 'that', 'new', 'normal', 'between', 'and', 'program', 'started', 'under', 'the', 'clinton', 'administration', 'doled', 'out', 'million', 'in', 'grants', 'to', 'police', 'departments', 'to', 'support', 'hiring', 'thousands', 'more', 'school', 'resource', 'officers', 'since', 'then', 'law', 'enforcement', 'in', 'schools', 'seemed', 'like', 'the', 'one', 'thing', 'that', 'district', 'leaders', 'would', 'not', 'change', 'said', 'aaron', 'kupchik', 'professor', 'of', 'sociology', 'and', 'criminal', 'justice', 'at', 'the', 'university', 'of', 'delaware', 'we', 'typically', 'don', 'even', 'discuss', 'it', 'because', 'it', 'common', 'assumption', 'they', 're', 'here', 'to', 'stay', 'kupchik', 'said', 'so', 'people', 'focus', 'on', 'how', 'to', 'make', 'it', 'less', 'harmful', 'like', 'by', 'ending', 'zero', 'tolerance', 'policies', 'and', 'adding', 'more', 'restorative', 'justice', 'programs', 'under', 'zero', 'tolerance', 'students', 'who', 'break', 'school', 'rules', 'are', 'subject', 'to', 'mandatory', 'severe', 'consequences', 'such', 'as', 'being', 'expelled', 'restorative', 'justice', 'programs', 'offer', 'misbehaving', 'students', 'chance', 'to', 'take', 'ownership', 'of', 'their', 'actions', 'talk', 'through', 'what', 'prompted', 'them', 'and', 'repair', 'harm', 'they', 've', 'caused', 'to', 'others', 'restorative', 'justice', 'how', 'circle', 'keeping', 'works', 'at', 'one', 'midwestern', 'school', 'despite', 'talks', 'of', 'reform', 'students', 'social', 'justice', 'groups', 'and', 'the', 'american', 'civil', 'liberties', 'union', 'have', 'been', 'working', 'for', 'years', 'to', 'end', 'school', 'policing', 'long', 'before', 'the', 'calls', 'emerged', 'as', 'part', 'of', 'the', 'floyd', 'protests', 'that', 'key', 'reason', 'districts', 'are', 'taking', 'action', 'now', 'said', 'sarah', 'hinger', 'senior', 'staff', 'attorney', 'for', 'the', 'aclu', 'racial', 'justice', 'program', 'another', 'reason', 'school', 'districts', 'are', 'more', 'inclined', 'now', 'to', 'remove', 'police', 'officers', 'money', 'districts', 'are', 'facing', 'major', 'financial', 'shortfalls', 'because', 'of', 'the', 'covid', 'pandemic', 'and', 'loss', 'of', 'tax', 'revenue', 'because', 'of', 'the', 'economic', 'shutdown', 'it', 'widely', 'acknowledged', 'that', 'low', 'income', 'children', 'group', 'that', 'includes', 'many', 'black', 'and', 'brown', 'children', 'will', 'need', 'more', 'support', 'to', 'get', 'back', 'on', 'track', 'once', 'schools', 'reopen', 'many', 'haven', 'had', 'access', 'to', 'all', 'the', 'tools', 'needed', 'for', 'online', 'learning', 'such', 'as', 'high', 'speed', 'internet', 'or', 'their', 'own', 'computer', 'police', 'contracts', 'are', 'one', 'non', 'academic', 'budget', 'item', 'that', 'could', 'be', 'dropped', 'all', 'of', 'that', 'is', 'contributing', 'to', 'why', 'this', 'movement', 'is', 'really', 'catching', 'on', 'hinger', 'said', 'kids', 'need', 'to', 'talk', 'about', 'george', 'floyd', 'with', 'coronavirus', 'school', 'closures', 'it', 'hard', 'to', 'do', 'seattle', 'public', 'schools', 'announced', 'this', 'week', 'that', 'it', 'would', 'suspend', 'officers', 'from', 'schools', 'for', 'one', 'year', 'in', 'oakland', 'wednesday', 'the', 'school', 'superintendent', 'joined', 'the', 'majority', 'of', 'the', 'school', 'board', 'in', 'backing', 'the', 'elimination', 'of', 'the', 'district', 'in', 'house', 'police', 'force', 'one', 'idea', 'is', 'to', 'replace', 'it', 'with', 'non', 'uniformed', 'ambassadors', 'to', 'keep', 'the', 'peace', 'in', 'schools', 'black', 'students', 'account', 'for', 'of', 'the', 'students', 'arrested', 'in', 'oakland', 'schools', 'while', 'only', 'making', 'up', 'of', 'the', 'district', 'population', 'according', 'to', 'the', 'black', 'organizing', 'project', 'local', 'advocacy', 'group', 'oakland', 'board', 'is', 'slated', 'to', 'vote', 'on', 'eliminating', 'the', 'police', 'force', 'on', 'june', 'some', 'districts', 'are', 'less', 'inclined', 'to', 'remove', 'officers', 'the', 'chicago', 'teachers', 'union', 'has', 'reinvigorated', 'its', 'call', 'for', 'the', 'city', 'to', 'replace', 'school', 'resource', 'officers', 'with', 'counselors', 'but', 'mayor', 'lori', 'lightfoot', 'who', 'runs', 'the', 'city', 'as', 'well', 'as', 'the', 'district', 'indicated', 'she', 'not', 'interested', 'in', 'dumping', 'the', 'million', 'contract', 'with', 'the', 'chicago', 'police', 'department', 'more', 'than', 'three', 'quarters', 'of', 'the', 'city', 'high', 'schools', 'have', 'police', 'in', 'them', 'and', 'the', 'local', 'parent', 'and', 'teacher', 'councils', 'at', 'all', 'of', 'them', 'voted', 'to', 'keep', 'the', 'officers', 'this', 'year', 'according', 'to', 'local', 'news', 'reports', 'unfortunately', 'we', 'need', 'security', 'in', 'our', 'schools', 'lightfoot', 'said', 'in', 'protest', 'chicago', 'teachers', 'and', 'students', 'have', 'recently', 'staged', 'marches', 'and', 'car', 'caravan', 'parades', 'between', 'high', 'schools', 'chicago', 'protests', 'kanye', 'west', 'joins', 'march', 'offers', 'to', 'pay', 'legal', 'fees', 'for', 'breonna', 'taylor', 'family', 'in', 'los', 'angeles', 'the', 'teachers', 'union', 'said', 'monday', 'it', 'supports', 'ending', 'the', 'district', 'in', 'house', 'police', 'force', 'the', 'unit', 'places', 'about', 'officers', 'throughout', 'the', 'nation', 'second', 'largest', 'school', 'district', 'at', 'cost', 'of', 'about', 'million', 'annually', 'but', 'the', 'head', 'of', 'the', 'district', 'school', 'police', 'union', 'said', 'officers', 'are', 'better', 'trained', 'to', 'de', 'escalate', 'situations', 'in', 'buildings', 'than', 'outside', 'cops', 'called', 'to', 'campus', 'according', 'to', 'the', 'los', 'angeles', 'times', 'in', 'phoenix', 'hundreds', 'of', 'students', 'have', 'been', 'protesting', 'the', 'use', 'of', 'on', 'campus', 'police', 'officers', 'but', 'the', 'school', 'board', 'has', 'not', 'yet', 'taken', 'vote', 'on', 'whether', 'to', 'renew', 'the', 'contract', 'there', 'not', 'much', 'good', 'data', 'on', 'what', 'happens', 'when', 'you', 'remove', 'police', 'officers', 'from', 'schools', 'but', 'new', 'york', 'and', 'louisville', 'have', 'tried', 'some', 'new', 'ideas', 'decade', 'ago', 'report', 'from', 'new', 'york', 'city', 'examined', 'how', 'handful', 'of', 'high', 'schools', 'serving', 'at', 'risk', 'students', 'maintained', 'safe', 'environments', 'without', 'police', 'district', 'safety', 'agents', 'patrolled', 'halls', 'instead', 'metal', 'detectors', 'were', 'removed', 'administrators', 'created', 'alternatives', 'to', 'harsh', 'discipline', 'policies', 'the', 'aclu', 'which', 'published', 'the', 'report', 'is', 'notably', 'in', 'favor', 'of', 'removing', 'police', 'from', 'schools', 'in', 'louisville', 'kentucky', 'the', 'jefferson', 'county', 'public', 'schools', 'cut', 'ties', 'with', 'school', 'resource', 'officers', 'last', 'august', 'because', 'of', 'issues', 'related', 'to', 'the', 'criminalization', 'of', 'black', 'students', 'the', 'district', 'this', 'week', 'couldn', 'provide', 'comparison', 'of', 'school', 'arrest', 'data', 'from', 'before', 'and', 'after', 'police', 'were', 'removed', 'but', 'in', 'general', 'according', 'to', 'the', 'louisville', 'courier', 'journal', 'school', 'safety', 'hasn', 'changed', 'much', 'though', 'one', 'school', 'made', 'headlines', 'for', 'some', 'high', 'profile', 'student', 'on', 'teacher', 'altercations', 'louisville', 'has', 'seen', 'even', 'more', 'forceful', 'protests', 'than', 'some', 'cities', 'in', 'the', 'wake', 'of', 'the', 'death', 'of', 'breonna', 'taylor', 'who', 'was', 'shot', 'by', 'white', 'police', 'officer', 'in', 'her', 'bedroom', 'in', 'march', 'district', 'spokesperson', 'in', 'jefferson', 'county', 'said', 'this', 'week', 'the', 'district', 'is', 're', 'evaluating', 'its', 'school', 'safety', 'plan', 'which', 'could', 'still', 'include', 'armed', 'guards', 'in', 'schools', 'in', 'florida', 'janice', 'scott', 'cover', 'former', 'assistant', 'superintendent', 'in', 'the', 'palm', 'beach', 'county', 'school', 'district', 'said', 'administrators', 'can', 'also', 'work', 'harder', 'to', 'identify', 'the', 'root', 'cause', 'of', 'student', 'misbehavior', 'whether', 'cops', 'are', 'there', 'or', 'not', 'when', 'she', 'became', 'principal', 'of', 'troubled', 'elementary', 'school', 'two', 'decades', 'ago', 'the', 'school', 'resource', 'officer', 'arrested', 'children', 'for', 'fighting', 'disrespecting', 'teachers', 'and', 'walking', 'out', 'of', 'class', 'not', 'all', 'the', 'resource', 'officers', 'understand', 'how', 'to', 'police', 'in', 'schools', 'cover', 'said', 'some', 'still', 'behave', 'like', 'they', 're', 'out', 'on', 'the', 'street', 'grabbing', 'people', 'and', 'throwing', 'them', 'down', 'and', 'did', 'not', 'want', 'that', 'on', 'the', 'campus', 'cover', 'rearranged', 'the', 'budget', 'to', 'hire', 'another', 'social', 'worker', 'who', 'became', 'the', 'first', 'stop', 'for', 'misbehaving', 'children', 'she', 'had', 'teachers', 'rearrange', 'classrooms', 'so', 'students', 'worked', 'in', 'groups', 'and', 'practiced', 'cooperation', 'she', 'and', 'her', 'teachers', 'doubled', 'down', 'on', 'prodding', 'into', 'students', 'lives', 'often', 'getting', 'them', 'needed', 'household', 'or', 'personal', 'items', 'over', 'time', 'the', 'climate', 'and', 'academics', 'improved', 'something', 'cover', 'recounts', 'in', 'her', 'book', 'about', 'turning', 'around', 'low', 'performing', 'elementary', 'schools', 'happy', 'now', 'that', 'people', 'are', 'beginning', 'to', 'look', 'at', 'this', 'said', 'cover', 'who', 'is', 'black', 'my', 'hope', 'is', 'that', 'you', 'don', 'just', 'remove', 'the', 'police', 'officers', 'but', 'replace', 'them', 'with', 'something', 'else', 'like', 'counselors', 'or', 'mental', 'health', 'professionals', 'or', 'school', 'psychologists', 'olivia', 'krauth', 'contributed', 'to', 'this', 'story', 'from', 'louisville', 'kentucky', 'lily', 'altavena', 'contributed', 'from', 'phoenix', 'arizona', 'education', 'coverage', 'at', 'usa', 'today', 'is', 'made', 'possible', 'in', 'part', 'by', 'grant', 'from', 'the', 'bill', 'melinda', 'gates', 'foundation', 'the', 'gates', 'foundation', 'does', 'not', 'provide', 'editorial', 'input', 'three', 'summers', 'ago', 'about', 'students', 'and', 'activists', 'gathered', 'outside', 'the', 'minneapolis', 'public', 'schools', 'headquarters', 'to', 'demand', 'the', 'school', 'board', 'end', 'contract', 'that', 'placed', 'police', 'officers', 'in', 'schools', 'the', 'officers', 'whose', 'role', 'was', 'to', 'keep', 'schools', 'safe', 'actually', 'made', 'students', 'especially', 'black', 'students', 'feel', 'criminalized', 'activists', 'said', 'but', 'the', 'majority', 'of', 'teachers', 'staff', 'and', 'parents', 'liked', 'officers', 'in', 'schools', 'district', 'wide', 'survey', 'showed', 'at', 'the', 'time', 'the', 'board', 'renewed', 'the', 'three', 'year', 'contract', 'fast', 'forward', 'to', 'june', 'eight', 'days', 'after', 'george', 'floyd', 'died', 'under', 'the', 'knee', 'of', 'minneapolis', 'police', 'officer', 'the', 'school', 'board', 'revisited', 'that', 'contract', 'and', 'ended', 'it', 'the', 'vote', 'on', 'june', 'after', 'an', 'even', 'larger', 'crowd', 'of', 'protesters', 'gathered', 'outside', 'was', 'unanimous', 'the', 'values', 'we', 'see', 'in', 'the', 'police', 'department', 'do', 'not', 'match', 'our', 'values', 'said', 'kim', 'ellison', 'chair', 'of', 'the', 'minneapolis', 'school', 'board', 'the', 'school', 'board', 'became', 'one', 'of', 'the', 'first', 'major', 'governmental', 'bodies', 'to', 'change', 'the', 'balance', 'of', 'power', 'with', 'police', 'in', 'the', 'wake', 'of', 'floyd', 'death', 'the', 'change', 'has', 'prompted', 'wave', 'of', 'districts', 'nationwide', 'to', 'consider', 'terminating', 'their', 'relationships', 'with', 'police', 'from', 'chicago', 'new', 'york', 'and', 'los', 'angeles', 'to', 'smaller', 'cities', 'like', 'rochester', 'new', 'york', 'columbus', 'ohio', 'and', 'portland', 'maine', 'and', 'fort', 'collins', 'colorado', 'students', 'and', 'activists', 'are', 'demanding', 'the', 'discontinuation', 'of', 'school', 'resource', 'officers', 'they', 'want', 'the', 'money', 'spent', 'on', 'those', 'programs', 'to', 'go', 'to', 'other', 'peacekeeping', 'strategies', 'teen', 'activists', 'too', 'young', 'to', 'vote', 'in', 'but', 'fighting', 'for', 'change', 'police', 'in', 'schools', 'contribute', 'to', 'the', 'marginalization', 'of', 'students', 'of', 'color', 'they', 'say', 'that', 'because', 'schools', 'with', 'large', 'populations', 'of', 'black', 'and', 'brown', 'students', 'are', 'more', 'likely', 'to', 'have', 'law', 'enforcement', 'on', 'site', 'and', 'in', 'those', 'places', 'students', 'are', 'more', 'likely', 'to', 'be', 'arrested', 'for', 'certain', 'behaviors', 'rather', 'than', 'disciplined', 'by', 'an', 'administrator', 'last', 'week', 'portland', 'oregon', 'school', 'superintendent', 'announced', 'he', 'planned', 'to', 'remove', 'police', 'from', 'schools', 'denver', 'school', 'board', 'is', 'slated', 'to', 'vote', 'thursday', 'on', 'ending', 'contract', 'for', 'uniformed', 'officers', 'in', 'oakland', 'california', 'the', 'majority', 'of', 'the', 'school', 'board', 'and', 'superintendent', 'wednesday', 'backed', 'proposal', 'to', 'eliminate', 'the', 'district', 'million', 'internal', 'police', 'force', 'despite', 'concerns', 'from', 'some', 'principals', 'according', 'to', 'the', 'san', 'francisco', 'chronicle', 'advocates', 'for', 'school', 'resource', 'officers', 'say', 'the', 'problem', 'lies', 'with', 'inconsistent', 'training', 'for', 'law', 'enforcement', 'on', 'how', 'to', 'work', 'with', 'students', 'making', 'rash', 'moves', 'to', 'end', 'the', 'programs', 'because', 'of', 'political', 'and', 'social', 'pressure', 'could', 'make', 'schools', 'less', 'safe', 'they', 'say', 'and', 'also', 'disrupt', 'the', 'opportunity', 'for', 'healthy', 'relationships', 'to', 'grow', 'between', 'law', 'enforcement', 'and', 'students', 'when', 'this', 'is', 'done', 'the', 'right', 'way', 'it', 'the', 'epitome', 'of', 'community', 'based', 'policing', 'said', 'mo', 'canady', 'executive', 'director', 'of', 'the', 'national', 'association', 'of', 'school', 'resource', 'officers', 'that', 'philosophy', 'where', 'police', 'and', 'the', 'community', 'work', 'together', 'to', 'solve', 'crimes', 'and', 'improve', 'everyone', 'quality', 'of', 'life', 'canady', 'organization', 'trains', 'officers', 'how', 'to', 'enforce', 'the', 'law', 'in', 'school', 'setting', 'informally', 'counsel', 'students', 'and', 'act', 'as', 'an', 'educator', 'but', 'nothing', 'requires', 'school', 'resource', 'officers', 'to', 'undergo', 'such', 'training', 'canady', 'said', 'there', 'federal', 'resistance', 'to', 'that', 'idea', 'out', 'of', 'respect', 'for', 'the', 'tradition', 'of', 'local', 'control', 'he', 'added', 'it', 'better', 'if', 'districts', 'would', 'say', 'we', 'need', 'these', 'officers', 'trained', 'on', 'national', 'level', 'canady', 'said', 'nationally', 'protesters', 'seeking', 'justice', 'for', 'floyd', 'want', 'to', 'reduce', 'city', 'police', 'department', 'budgets', 'and', 'redirect', 'more', 'money', 'to', 'social', 'services', 'but', 'what', 'happening', 'at', 'schools', 'offers', 'window', 'into', 'the', 'relationship', 'between', 'law', 'enforcement', 'and', 'youth', 'while', 'police', 'have', 'been', 'stationed', 'in', 'schools', 'for', 'decades', 'they', 'don', 'make', 'schools', 'overwhelmingly', 'more', 'safe', 'studies', 'show', 'review', 'of', 'the', 'most', 'comprehensive', 'studies', 'on', 'school', 'based', 'law', 'enforcement', 'showed', 'the', 'officers', 'did', 'not', 'improve', 'students', 'perception', 'of', 'safety', 'and', 'out', 'of', 'school', 'suspensions', 'and', 'expulsions', 'increased', 'after', 'school', 'resource', 'officers', 'were', 'introduced', 'to', 'building', 'it', 'not', 'like', 'there', 'really', 'strong', 'research', 'base', 'that', 'says', 'with', 'police', 'in', 'schools', 'crime', 'goes', 'down', 'and', 'bullying', 'goes', 'down', 'and', 'there', 'are', 'no', 'shootings', 'said', 'anthony', 'petrosino', 'director', 'of', 'the', 'justice', 'and', 'prevention', 'research', 'center', 'at', 'wested', 'nonpartisan', 'research', 'organization', 'that', 'focuses', 'on', 'education', 'school', 'policing', 'is', 'much', 'more', 'common', 'in', 'schools', 'with', 'kids', 'of', 'color', 'petrosino', 'added', 'there', 'real', 'question', 'of', 'whether', 'it', 'helping', 'or', 'hurting', 'is', 'it', 'leading', 'to', 'more', 'of', 'these', 'kids', 'being', 'involved', 'in', 'the', 'justice', 'system', 'or', 'being', 'kicked', 'out', 'of', 'school', 'one', 'big', 'problem', 'is', 'children', 'of', 'racial', 'minorities', 'especially', 'black', 'students', 'are', 'more', 'likely', 'to', 'be', 'suspended', 'and', 'expelled', 'from', 'school', 'than', 'white', 'students', 'even', 'when', 'they', 'commit', 'similar', 'offenses', 'research', 'shows', 'pushed', 'out', 'and', 'punished', 'black', 'girls', 'punished', 'more', 'harshly', 'than', 'white', 'girls', 'and', 'of', 'the', 'approximate', 'million', 'students', 'in', 'america', 'attending', 'schools', 'with', 'police', 'officers', 'but', 'no', 'counselors', 'more', 'of', 'those', 'students', 'are', 'black', 'than', 'white', 'by', 'contrast', 'white', 'students', 'are', 'more', 'likely', 'to', 'attend', 'schools', 'with', 'counselors', 'but', 'not', 'police', 'federal', 'data', 'show', 'on', 'top', 'of', 'that', 'number', 'of', 'high', 'profile', 'incidents', 'in', 'recent', 'years', 'have', 'put', 'spotlight', 'on', 'police', 'brutality', 'toward', 'black', 'kids', 'and', 'teens', 'inside', 'and', 'outside', 'of', 'school', 'white', 'school', 'resource', 'officer', 'in', 'south', 'carolina', 'high', 'school', 'flipped', 'black', 'girl', 'out', 'of', 'her', 'desk', 'and', 'dragged', 'her', 'across', 'the', 'floor', 'in', 'black', 'school', 'resource', 'officer', 'in', 'orlando', 'arrested', 'sobbing', 'year', 'old', 'black', 'student', 'in', 'september', 'securing', 'her', 'with', 'zip', 'ties', 'because', 'she', 'was', 'too', 'small', 'for', 'handcuffs', 'white', 'officer', 'in', 'ferguson', 'missouri', 'shot', 'and', 'killed', 'michael', 'brown', 'an', 'unarmed', 'year', 'old', 'black', 'man', 'in', 'the', 'street', 'in', 'later', 'that', 'year', 'white', 'officer', 'in', 'cleveland', 'ohio', 'shot', 'and', 'killed', 'tamir', 'rice', 'year', 'old', 'black', 'boy', 'rice', 'had', 'been', 'playing', 'with', 'toy', 'gun', 'outside', 'recreation', 'center', 'change', 'in', 'ferguson', 'city', 'elects', 'first', 'black', 'female', 'mayor', 'years', 'after', 'michael', 'brown', 'death', 'in', 'the', 'only', 'of', 'schools', 'had', 'law', 'enforcement', 'officer', 'stationed', 'in', 'them', 'according', 'to', 'federal', 'data', 'now', 'of', 'schools', 'have', 'police', 'officer', 'in', 'the', 'building', 'at', 'least', 'one', 'day', 'week', 'according', 'to', 'the', 'most', 'recent', 'federal', 'data', 'and', 'among', 'large', 'schools', 'almost', 'had', 'sworn', 'officer', 'in', 'the', 'building', 'at', 'least', 'one', 'day', 'week', 'in', 'the', 'school', 'year', 'the', 'number', 'of', 'officers', 'in', 'schools', 'accelerated', 'rapidly', 'after', 'the', 'year', 'of', 'the', 'shooting', 'at', 'columbine', 'high', 'school', 'in', 'colorado', 'the', 'massacre', 'spurred', 'national', 'discussion', 'about', 'school', 'safety', 'and', 'boost', 'in', 'federal', 'funds', 'helped', 'pay', 'for', 'more', 'cops', 'in', 'schools', 'years', 'after', 'columbine', 'survivors', 'find', 'that', 'new', 'normal', 'between', 'and', 'program', 'started', 'under', 'the', 'clinton', 'administration', 'doled', 'out', 'million', 'in', 'grants', 'to', 'police', 'departments', 'to', 'support', 'hiring', 'thousands', 'more', 'school', 'resource', 'officers', 'since', 'then', 'law', 'enforcement', 'in', 'schools', 'seemed', 'like', 'the', 'one', 'thing', 'that', 'district', 'leaders', 'would', 'not', 'change', 'said', 'aaron', 'kupchik', 'professor', 'of', 'sociology', 'and', 'criminal', 'justice', 'at', 'the', 'university', 'of', 'delaware', 'we', 'typically', 'don', 'even', 'discuss', 'it', 'because', 'it', 'common', 'assumption', 'they', 're', 'here', 'to', 'stay', 'kupchik', 'said', 'so', 'people', 'focus', 'on', 'how', 'to', 'make', 'it', 'less', 'harmful', 'like', 'by', 'ending', 'zero', 'tolerance', 'policies', 'and', 'adding', 'more', 'restorative', 'justice', 'programs', 'under', 'zero', 'tolerance', 'students', 'who', 'break', 'school', 'rules', 'are', 'subject', 'to', 'mandatory', 'severe', 'consequences', 'such', 'as', 'being', 'expelled', 'restorative', 'justice', 'programs', 'offer', 'misbehaving', 'students', 'chance', 'to', 'take', 'ownership', 'of', 'their', 'actions', 'talk', 'through', 'what', 'prompted', 'them', 'and', 'repair', 'harm', 'they', 've', 'caused', 'to', 'others', 'restorative', 'justice', 'how', 'circle', 'keeping', 'works', 'at', 'one', 'midwestern', 'school', 'despite', 'talks', 'of', 'reform', 'students', 'social', 'justice', 'groups', 'and', 'the', 'american', 'civil', 'liberties', 'union', 'have', 'been', 'working', 'for', 'years', 'to', 'end', 'school', 'policing', 'long', 'before', 'the', 'calls', 'emerged', 'as', 'part', 'of', 'the', 'floyd', 'protests', 'that', 'key', 'reason', 'districts', 'are', 'taking', 'action', 'now', 'said', 'sarah', 'hinger', 'senior', 'staff', 'attorney', 'for', 'the', 'aclu', 'racial', 'justice', 'program', 'another', 'reason', 'school', 'districts', 'are', 'more', 'inclined', 'now', 'to', 'remove', 'police', 'officers', 'money', 'districts', 'are', 'facing', 'major', 'financial', 'shortfalls', 'because', 'of', 'the', 'covid', 'pandemic', 'and', 'loss', 'of', 'tax', 'revenue', 'because', 'of', 'the', 'economic', 'shutdown', 'it', 'widely', 'acknowledged', 'that', 'low', 'income', 'children', 'group', 'that', 'includes', 'many', 'black', 'and', 'brown', 'children', 'will', 'need', 'more', 'support', 'to', 'get', 'back', 'on', 'track', 'once', 'schools', 'reopen', 'many', 'haven', 'had', 'access', 'to', 'all', 'the', 'tools', 'needed', 'for', 'online', 'learning', 'such', 'as', 'high', 'speed', 'internet', 'or', 'their', 'own', 'computer', 'police', 'contracts', 'are', 'one', 'non', 'academic', 'budget', 'item', 'that', 'could', 'be', 'dropped', 'all', 'of', 'that', 'is', 'contributing', 'to', 'why', 'this', 'movement', 'is', 'really', 'catching', 'on', 'hinger', 'said', 'kids', 'need', 'to', 'talk', 'about', 'george', 'floyd', 'with', 'coronavirus', 'school', 'closures', 'it', 'hard', 'to', 'do', 'seattle', 'public', 'schools', 'announced', 'this', 'week', 'that', 'it', 'would', 'suspend', 'officers', 'from', 'schools', 'for', 'one', 'year', 'in', 'oakland', 'wednesday', 'the', 'school', 'superintendent', 'joined', 'the', 'majority', 'of', 'the', 'school', 'board', 'in', 'backing', 'the', 'elimination', 'of', 'the', 'district', 'in', 'house', 'police', 'force', 'one', 'idea', 'is', 'to', 'replace', 'it', 'with', 'non', 'uniformed', 'ambassadors', 'to', 'keep', 'the', 'peace', 'in', 'schools', 'black', 'students', 'account', 'for', 'of', 'the', 'students', 'arrested', 'in', 'oakland', 'schools', 'while', 'only', 'making', 'up', 'of', 'the', 'district', 'population', 'according', 'to', 'the', 'black', 'organizing', 'project', 'local', 'advocacy', 'group', 'oakland', 'board', 'is', 'slated', 'to', 'vote', 'on', 'eliminating', 'the', 'police', 'force', 'on', 'june', 'some', 'districts', 'are', 'less', 'inclined', 'to', 'remove', 'officers', 'the', 'chicago', 'teachers', 'union', 'has', 'reinvigorated', 'its', 'call', 'for', 'the', 'city', 'to', 'replace', 'school', 'resource', 'officers', 'with', 'counselors', 'but', 'mayor', 'lori', 'lightfoot', 'who', 'runs', 'the', 'city', 'as', 'well', 'as', 'the', 'district', 'indicated', 'she', 'not', 'interested', 'in', 'dumping', 'the', 'million', 'contract', 'with', 'the', 'chicago', 'police', 'department', 'more', 'than', 'three', 'quarters', 'of', 'the', 'city', 'high', 'schools', 'have', 'police', 'in', 'them', 'and', 'the', 'local', 'parent', 'and', 'teacher', 'councils', 'at', 'all', 'of', 'them', 'voted', 'to', 'keep', 'the', 'officers', 'this', 'year', 'according', 'to', 'local', 'news', 'reports', 'unfortunately', 'we', 'need', 'security', 'in', 'our', 'schools', 'lightfoot', 'said', 'in', 'protest', 'chicago', 'teachers', 'and', 'students', 'have', 'recently', 'staged', 'marches', 'and', 'car', 'caravan', 'parades', 'between', 'high', 'schools', 'chicago', 'protests', 'kanye', 'west', 'joins', 'march', 'offers', 'to', 'pay', 'legal', 'fees', 'for', 'breonna', 'taylor', 'family', 'in', 'los', 'angeles', 'the', 'teachers', 'union', 'said', 'monday', 'it', 'supports', 'ending', 'the', 'district', 'in', 'house', 'police', 'force', 'the', 'unit', 'places', 'about', 'officers', 'throughout', 'the', 'nation', 'second', 'largest', 'school', 'district', 'at', 'cost', 'of', 'about', 'million', 'annually', 'but', 'the', 'head', 'of', 'the', 'district', 'school', 'police', 'union', 'said', 'officers', 'are', 'better', 'trained', 'to', 'de', 'escalate', 'situations', 'in', 'buildings', 'than', 'outside', 'cops', 'called', 'to', 'campus', 'according', 'to', 'the', 'los', 'angeles', 'times', 'in', 'phoenix', 'hundreds', 'of', 'students', 'have', 'been', 'protesting', 'the', 'use', 'of', 'on', 'campus', 'police', 'officers', 'but', 'the', 'school', 'board', 'has', 'not', 'yet', 'taken', 'vote', 'on', 'whether', 'to', 'renew', 'the', 'contract', 'there', 'not', 'much', 'good', 'data', 'on', 'what', 'happens', 'when', 'you', 'remove', 'police', 'officers', 'from', 'schools', 'but', 'new', 'york', 'and', 'louisville', 'have', 'tried', 'some', 'new', 'ideas', 'decade', 'ago', 'report', 'from', 'new', 'york', 'city', 'examined', 'how', 'handful', 'of', 'high', 'schools', 'serving', 'at', 'risk', 'students', 'maintained', 'safe', 'environments', 'without', 'police', 'district', 'safety', 'agents', 'patrolled', 'halls', 'instead', 'metal', 'detectors', 'were', 'removed', 'administrators', 'created', 'alternatives', 'to', 'harsh', 'discipline', 'policies', 'the', 'aclu', 'which', 'published', 'the', 'report', 'is', 'notably', 'in', 'favor', 'of', 'removing', 'police', 'from', 'schools', 'in', 'louisville', 'kentucky', 'the', 'jefferson', 'county', 'public', 'schools', 'cut', 'ties', 'with', 'school', 'resource', 'officers', 'last', 'august', 'because', 'of', 'issues', 'related', 'to', 'the', 'criminalization', 'of', 'black', 'students', 'the', 'district', 'this', 'week', 'couldn', 'provide', 'comparison', 'of', 'school', 'arrest', 'data', 'from', 'before', 'and', 'after', 'police', 'were', 'removed', 'but', 'in', 'general', 'according', 'to', 'the', 'louisville', 'courier', 'journal', 'school', 'safety', 'hasn', 'changed', 'much', 'though', 'one', 'school', 'made', 'headlines', 'for', 'some', 'high', 'profile', 'student', 'on', 'teacher', 'altercations', 'louisville', 'has', 'seen', 'even', 'more', 'forceful', 'protests', 'than', 'some', 'cities', 'in', 'the', 'wake', 'of', 'the', 'death', 'of', 'breonna', 'taylor', 'who', 'was', 'shot', 'by', 'white', 'police', 'officer', 'in', 'her', 'bedroom', 'in', 'march', 'district', 'spokesperson', 'in', 'jefferson', 'county', 'said', 'this', 'week', 'the', 'district', 'is', 're', 'evaluating', 'its', 'school', 'safety', 'plan', 'which', 'could', 'still', 'include', 'armed', 'guards', 'in', 'schools', 'in', 'florida', 'janice', 'scott', 'cover', 'former', 'assistant', 'superintendent', 'in', 'the', 'palm', 'beach', 'county', 'school', 'district', 'said', 'administrators', 'can', 'also', 'work', 'harder', 'to', 'identify', 'the', 'root', 'cause', 'of', 'student', 'misbehavior', 'whether', 'cops', 'are', 'there', 'or', 'not', 'when', 'she', 'became', 'principal', 'of', 'troubled', 'elementary', 'school', 'two', 'decades', 'ago', 'the', 'school', 'resource', 'officer', 'arrested', 'children', 'for', 'fighting', 'disrespecting', 'teachers', 'and', 'walking', 'out', 'of', 'class', 'not', 'all', 'the', 'resource', 'officers', 'understand', 'how', 'to', 'police', 'in', 'schools', 'cover', 'said', 'some', 'still', 'behave', 'like', 'they', 're', 'out', 'on', 'the', 'street', 'grabbing', 'people', 'and', 'throwing', 'them', 'down', 'and', 'did', 'not', 'want', 'that', 'on', 'the', 'campus', 'cover', 'rearranged', 'the', 'budget', 'to', 'hire', 'another', 'social', 'worker', 'who', 'became', 'the', 'first', 'stop', 'for', 'misbehaving', 'children', 'she', 'had', 'teachers', 'rearrange', 'classrooms', 'so', 'students', 'worked', 'in', 'groups', 'and', 'practiced', 'cooperation', 'she', 'and', 'her', 'teachers', 'doubled', 'down', 'on', 'prodding', 'into', 'students', 'lives', 'often', 'getting', 'them', 'needed', 'household', 'or', 'personal', 'items', 'over', 'time', 'the', 'climate', 'and', 'academics', 'improved', 'something', 'cover', 'recounts', 'in', 'her', 'book', 'about', 'turning', 'around', 'low', 'performing', 'elementary', 'schools', 'happy', 'now', 'that', 'people', 'are', 'beginning', 'to', 'look', 'at', 'this', 'said', 'cover', 'who', 'is', 'black', 'my', 'hope', 'is', 'that', 'you', 'don', 'just', 'remove', 'the', 'police', 'officers', 'but', 'replace', 'them', 'with', 'something', 'else', 'like', 'counselors', 'or', 'mental', 'health', 'professionals', 'or', 'school', 'psychologists', 'olivia', 'krauth', 'contributed', 'to', 'this', 'story', 'from', 'louisville', 'kentucky', 'lily', 'altavena', 'contributed', 'from', 'phoenix', 'arizona', 'education', 'coverage', 'at', 'usa', 'today', 'is', 'made', 'possible', 'in', 'part', 'by', 'grant', 'from', 'the', 'bill', 'melinda', 'gates', 'foundation', 'the', 'gates', 'foundation', 'does', 'not', 'provide', 'editorial', 'input', 'three', 'summers', 'ago', 'about', 'students', 'and', 'activists', 'gathered', 'outside', 'the', 'minneapolis', 'public', 'schools', 'headquarters', 'to', 'demand', 'the', 'school', 'board', 'end', 'contract', 'that', 'placed', 'police', 'officers', 'in', 'schools', 'the', 'officers', 'whose', 'role', 'was', 'to', 'keep', 'schools', 'safe', 'actually', 'made', 'students', 'especially', 'black', 'students', 'feel', 'criminalized', 'activists', 'said', 'but', 'the', 'majority', 'of', 'teachers', 'staff', 'and', 'parents', 'liked', 'officers', 'in', 'schools', 'district', 'wide', 'survey', 'showed', 'at', 'the', 'time', 'the', 'board', 'renewed', 'the', 'three', 'year', 'contract', 'fast', 'forward', 'to', 'june', 'eight', 'days', 'after', 'george', 'floyd', 'died', 'under', 'the', 'knee', 'of', 'minneapolis', 'police', 'officer', 'the', 'school', 'board', 'revisited', 'that', 'contract', 'and', 'ended', 'it', 'the', 'vote', 'on', 'june', 'after', 'an', 'even', 'larger', 'crowd', 'of', 'protesters', 'gathered', 'outside', 'was', 'unanimous', 'the', 'values', 'we', 'see', 'in', 'the', 'police', 'department', 'do', 'not', 'match', 'our', 'values', 'said', 'kim', 'ellison', 'chair', 'of', 'the', 'minneapolis', 'school', 'board', 'the', 'school', 'board', 'became', 'one', 'of', 'the', 'first', 'major', 'governmental', 'bodies', 'to', 'change', 'the', 'balance', 'of', 'power', 'with', 'police', 'in', 'the', 'wake', 'of', 'floyd', 'death', 'the', 'change', 'has', 'prompted', 'wave', 'of', 'districts', 'nationwide', 'to', 'consider', 'terminating', 'their', 'relationships', 'with', 'police', 'from', 'chicago', 'new', 'york', 'and', 'los', 'angeles', 'to', 'smaller', 'cities', 'like', 'rochester', 'new', 'york', 'columbus', 'ohio', 'and', 'portland', 'maine', 'and', 'fort', 'collins', 'colorado', 'students', 'and', 'activists', 'are', 'demanding', 'the', 'discontinuation', 'of', 'school', 'resource', 'officers', 'they', 'want', 'the', 'money', 'spent', 'on', 'those', 'programs', 'to', 'go', 'to', 'other', 'peacekeeping', 'strategies', 'teen', 'activists', 'too', 'young', 'to', 'vote', 'in', 'but', 'fighting', 'for', 'change', 'police', 'in', 'schools', 'contribute', 'to', 'the', 'marginalization', 'of', 'students', 'of', 'color', 'they', 'say', 'that', 'because', 'schools', 'with', 'large', 'populations', 'of', 'black', 'and', 'brown', 'students', 'are', 'more', 'likely', 'to', 'have', 'law', 'enforcement', 'on', 'site', 'and', 'in', 'those', 'places', 'students', 'are', 'more', 'likely', 'to', 'be', 'arrested', 'for', 'certain', 'behaviors', 'rather', 'than', 'disciplined', 'by', 'an', 'administrator', 'last', 'week', 'portland', 'oregon', 'school', 'superintendent', 'announced', 'he', 'planned', 'to', 'remove', 'police', 'from', 'schools', 'denver', 'school', 'board', 'is', 'slated', 'to', 'vote', 'thursday', 'on', 'ending', 'contract', 'for', 'uniformed', 'officers', 'in', 'oakland', 'california', 'the', 'majority', 'of', 'the', 'school', 'board', 'and', 'superintendent', 'wednesday', 'backed', 'proposal', 'to', 'eliminate', 'the', 'district', 'million', 'internal', 'police', 'force', 'despite', 'concerns', 'from', 'some', 'principals', 'according', 'to', 'the', 'san', 'francisco', 'chronicle', 'advocates', 'for', 'school', 'resource', 'officers', 'say', 'the', 'problem', 'lies', 'with', 'inconsistent', 'training', 'for', 'law', 'enforcement', 'on', 'how', 'to', 'work', 'with', 'students', 'making', 'rash', 'moves', 'to', 'end', 'the', 'programs', 'because', 'of', 'political', 'and', 'social', 'pressure', 'could', 'make', 'schools', 'less', 'safe', 'they', 'say', 'and', 'also', 'disrupt', 'the', 'opportunity', 'for', 'healthy', 'relationships', 'to', 'grow', 'between', 'law', 'enforcement', 'and', 'students', 'when', 'this', 'is', 'done', 'the', 'right', 'way', 'it', 'the', 'epitome', 'of', 'community', 'based', 'policing', 'said', 'mo', 'canady', 'executive', 'director', 'of', 'the', 'national', 'association', 'of', 'school', 'resource', 'officers', 'that', 'philosophy', 'where', 'police', 'and', 'the', 'community', 'work', 'together', 'to', 'solve', 'crimes', 'and', 'improve', 'everyone', 'quality', 'of', 'life', 'canady', 'organization', 'trains', 'officers', 'how', 'to', 'enforce', 'the', 'law', 'in', 'school', 'setting', 'informally', 'counsel', 'students', 'and', 'act', 'as', 'an', 'educator', 'but', 'nothing', 'requires', 'school', 'resource', 'officers', 'to', 'undergo', 'such', 'training', 'canady', 'said', 'there', 'federal', 'resistance', 'to', 'that', 'idea', 'out', 'of', 'respect', 'for', 'the', 'tradition', 'of', 'local', 'control', 'he', 'added', 'it', 'better', 'if', 'districts', 'would', 'say', 'we', 'need', 'these', 'officers', 'trained', 'on', 'national', 'level', 'canady', 'said', 'nationally', 'protesters', 'seeking', 'justice', 'for', 'floyd', 'want', 'to', 'reduce', 'city', 'police', 'department', 'budgets', 'and', 'redirect', 'more', 'money', 'to', 'social', 'services', 'but', 'what', 'happening', 'at', 'schools', 'offers', 'window', 'into', 'the', 'relationship', 'between', 'law', 'enforcement', 'and', 'youth', 'while', 'police', 'have', 'been', 'stationed', 'in', 'schools', 'for', 'decades', 'they', 'don', 'make', 'schools', 'overwhelmingly', 'more', 'safe', 'studies', 'show', 'review', 'of', 'the', 'most', 'comprehensive', 'studies', 'on', 'school', 'based', 'law', 'enforcement', 'showed', 'the', 'officers', 'did', 'not', 'improve', 'students', 'perception', 'of', 'safety', 'and', 'out', 'of', 'school', 'suspensions', 'and', 'expulsions', 'increased', 'after', 'school', 'resource', 'officers', 'were', 'introduced', 'to', 'building', 'it', 'not', 'like', 'there', 'really', 'strong', 'research', 'base', 'that', 'says', 'with', 'police', 'in', 'schools', 'crime', 'goes', 'down', 'and', 'bullying', 'goes', 'down', 'and', 'there', 'are', 'no', 'shootings', 'said', 'anthony', 'petrosino', 'director', 'of', 'the', 'justice', 'and', 'prevention', 'research', 'center', 'at', 'wested', 'nonpartisan', 'research', 'organization', 'that', 'focuses', 'on', 'education', 'school', 'policing', 'is', 'much', 'more', 'common', 'in', 'schools', 'with', 'kids', 'of', 'color', 'petrosino', 'added', 'there', 'real', 'question', 'of', 'whether', 'it', 'helping', 'or', 'hurting', 'is', 'it', 'leading', 'to', 'more', 'of', 'these', 'kids', 'being', 'involved', 'in', 'the', 'justice', 'system', 'or', 'being', 'kicked', 'out', 'of', 'school', 'one', 'big', 'problem', 'is', 'children', 'of', 'racial', 'minorities', 'especially', 'black', 'students', 'are', 'more', 'likely', 'to', 'be', 'suspended', 'and', 'expelled', 'from', 'school', 'than', 'white', 'students', 'even', 'when', 'they', 'commit', 'similar', 'offenses', 'research', 'shows', 'pushed', 'out', 'and', 'punished', 'black', 'girls', 'punished', 'more', 'harshly', 'than', 'white', 'girls', 'and', 'of', 'the', 'approximate', 'million', 'students', 'in', 'america', 'attending', 'schools', 'with', 'police', 'officers', 'but', 'no', 'counselors', 'more', 'of', 'those', 'students', 'are', 'black', 'than', 'white', 'by', 'contrast', 'white', 'students', 'are', 'more', 'likely', 'to', 'attend', 'schools', 'with', 'counselors', 'but', 'not', 'police', 'federal', 'data', 'show', 'on', 'top', 'of', 'that', 'number', 'of', 'high', 'profile', 'incidents', 'in', 'recent', 'years', 'have', 'put', 'spotlight', 'on', 'police', 'brutality', 'toward', 'black', 'kids', 'and', 'teens', 'inside', 'and', 'outside', 'of', 'school', 'white', 'school', 'resource', 'officer', 'in', 'south', 'carolina', 'high', 'school', 'flipped', 'black', 'girl', 'out', 'of', 'her', 'desk', 'and', 'dragged', 'her', 'across', 'the', 'floor', 'in', 'black', 'school', 'resource', 'officer', 'in', 'orlando', 'arrested', 'sobbing', 'year', 'old', 'black', 'student', 'in', 'september', 'securing', 'her', 'with', 'zip', 'ties', 'because', 'she', 'was', 'too', 'small', 'for', 'handcuffs', 'white', 'officer', 'in', 'ferguson', 'missouri', 'shot', 'and', 'killed', 'michael', 'brown', 'an', 'unarmed', 'year', 'old', 'black', 'man', 'in', 'the', 'street', 'in', 'later', 'that', 'year', 'white', 'officer', 'in', 'cleveland', 'ohio', 'shot', 'and', 'killed', 'tamir', 'rice', 'year', 'old', 'black', 'boy', 'rice', 'had', 'been', 'playing', 'with', 'toy', 'gun', 'outside', 'recreation', 'center', 'change', 'in', 'ferguson', 'city', 'elects', 'first', 'black', 'female', 'mayor', 'years', 'after', 'michael', 'brown', 'death', 'in', 'the', 'only', 'of', 'schools', 'had', 'law', 'enforcement', 'officer', 'stationed', 'in', 'them', 'according', 'to', 'federal', 'data', 'now', 'of', 'schools', 'have', 'police', 'officer', 'in', 'the', 'building', 'at', 'least', 'one', 'day', 'week', 'according', 'to', 'the', 'most', 'recent', 'federal', 'data', 'and', 'among', 'large', 'schools', 'almost', 'had', 'sworn', 'officer', 'in', 'the', 'building', 'at', 'least', 'one', 'day', 'week', 'in', 'the', 'school', 'year', 'the', 'number', 'of', 'officers', 'in', 'schools', 'accelerated', 'rapidly', 'after', 'the', 'year', 'of', 'the', 'shooting', 'at', 'columbine', 'high', 'school', 'in', 'colorado', 'the', 'massacre', 'spurred', 'national', 'discussion', 'about', 'school', 'safety', 'and', 'boost', 'in', 'federal', 'funds', 'helped', 'pay', 'for', 'more', 'cops', 'in', 'schools', 'years', 'after', 'columbine', 'survivors', 'find', 'that', 'new', 'normal', 'between', 'and', 'program', 'started', 'under', 'the', 'clinton', 'administration', 'doled', 'out', 'million', 'in', 'grants', 'to', 'police', 'departments', 'to', 'support', 'hiring', 'thousands', 'more', 'school', 'resource', 'officers', 'since', 'then', 'law', 'enforcement', 'in', 'schools', 'seemed', 'like', 'the', 'one', 'thing', 'that', 'district', 'leaders', 'would', 'not', 'change', 'said', 'aaron', 'kupchik', 'professor', 'of', 'sociology', 'and', 'criminal', 'justice', 'at', 'the', 'university', 'of', 'delaware', 'we', 'typically', 'don', 'even', 'discuss', 'it', 'because', 'it', 'common', 'assumption', 'they', 're', 'here', 'to', 'stay', 'kupchik', 'said', 'so', 'people', 'focus', 'on', 'how', 'to', 'make', 'it', 'less', 'harmful', 'like', 'by', 'ending', 'zero', 'tolerance', 'policies', 'and', 'adding', 'more', 'restorative', 'justice', 'programs', 'under', 'zero', 'tolerance', 'students', 'who', 'break', 'school', 'rules', 'are', 'subject', 'to', 'mandatory', 'severe', 'consequences', 'such', 'as', 'being', 'expelled', 'restorative', 'justice', 'programs', 'offer', 'misbehaving', 'students', 'chance', 'to', 'take', 'ownership', 'of', 'their', 'actions', 'talk', 'through', 'what', 'prompted', 'them', 'and', 'repair', 'harm', 'they', 've', 'caused', 'to', 'others', 'restorative', 'justice', 'how', 'circle', 'keeping', 'works', 'at', 'one', 'midwestern', 'school', 'despite', 'talks', 'of', 'reform', 'students', 'social', 'justice', 'groups', 'and', 'the', 'american', 'civil', 'liberties', 'union', 'have', 'been', 'working', 'for', 'years', 'to', 'end', 'school', 'policing', 'long', 'before', 'the', 'calls', 'emerged', 'as', 'part', 'of', 'the', 'floyd', 'protests', 'that', 'key', 'reason', 'districts', 'are', 'taking', 'action', 'now', 'said', 'sarah', 'hinger', 'senior', 'staff', 'attorney', 'for', 'the', 'aclu', 'racial', 'justice', 'program', 'another', 'reason', 'school', 'districts', 'are', 'more', 'inclined', 'now', 'to', 'remove', 'police', 'officers', 'money', 'districts', 'are', 'facing', 'major', 'financial', 'shortfalls', 'because', 'of', 'the', 'covid', 'pandemic', 'and', 'loss', 'of', 'tax', 'revenue', 'because', 'of', 'the', 'economic', 'shutdown', 'it', 'widely', 'acknowledged', 'that', 'low', 'income', 'children', 'group', 'that', 'includes', 'many', 'black', 'and', 'brown', 'children', 'will', 'need', 'more', 'support', 'to', 'get', 'back', 'on', 'track', 'once', 'schools', 'reopen', 'many', 'haven', 'had', 'access', 'to', 'all', 'the', 'tools', 'needed', 'for', 'online', 'learning', 'such', 'as', 'high', 'speed', 'internet', 'or', 'their', 'own', 'computer', 'police', 'contracts', 'are', 'one', 'non', 'academic', 'budget', 'item', 'that', 'could', 'be', 'dropped', 'all', 'of', 'that', 'is', 'contributing', 'to', 'why', 'this', 'movement', 'is', 'really', 'catching', 'on', 'hinger', 'said', 'kids', 'need', 'to', 'talk', 'about', 'george', 'floyd', 'with', 'coronavirus', 'school', 'closures', 'it', 'hard', 'to', 'do', 'seattle', 'public', 'schools', 'announced', 'this', 'week', 'that', 'it', 'would', 'suspend', 'officers', 'from', 'schools', 'for', 'one', 'year', 'in', 'oakland', 'wednesday', 'the', 'school', 'superintendent', 'joined', 'the', 'majority', 'of', 'the', 'school', 'board', 'in', 'backing', 'the', 'elimination', 'of', 'the', 'district', 'in', 'house', 'police', 'force', 'one', 'idea', 'is', 'to', 'replace', 'it', 'with', 'non', 'uniformed', 'ambassadors', 'to', 'keep', 'the', 'peace', 'in', 'schools', 'black', 'students', 'account', 'for', 'of', 'the', 'students', 'arrested', 'in', 'oakland', 'schools', 'while', 'only', 'making', 'up', 'of', 'the', 'district', 'population', 'according', 'to', 'the', 'black', 'organizing', 'project', 'local', 'advocacy', 'group', 'oakland', 'board', 'is', 'slated', 'to', 'vote', 'on', 'eliminating', 'the', 'police', 'force', 'on', 'june', 'some', 'districts', 'are', 'less', 'inclined', 'to', 'remove', 'officers', 'the', 'chicago', 'teachers', 'union', 'has', 'reinvigorated', 'its', 'call', 'for', 'the', 'city', 'to', 'replace', 'school', 'resource', 'officers', 'with', 'counselors', 'but', 'mayor', 'lori', 'lightfoot', 'who', 'runs', 'the', 'city', 'as', 'well', 'as', 'the', 'district', 'indicated', 'she', 'not', 'interested', 'in', 'dumping', 'the', 'million', 'contract', 'with', 'the', 'chicago', 'police', 'department', 'more', 'than', 'three', 'quarters', 'of', 'the', 'city', 'high', 'schools', 'have', 'police', 'in', 'them', 'and', 'the', 'local', 'parent', 'and', 'teacher', 'councils', 'at', 'all', 'of', 'them', 'voted', 'to', 'keep', 'the', 'officers', 'this', 'year', 'according', 'to', 'local', 'news', 'reports', 'unfortunately', 'we', 'need', 'security', 'in', 'our', 'schools', 'lightfoot', 'said', 'in', 'protest', 'chicago', 'teachers', 'and', 'students', 'have', 'recently', 'staged', 'marches', 'and', 'car', 'caravan', 'parades', 'between', 'high', 'schools', 'chicago', 'protests', 'kanye', 'west', 'joins', 'march', 'offers', 'to', 'pay', 'legal', 'fees', 'for', 'breonna', 'taylor', 'family', 'in', 'los', 'angeles', 'the', 'teachers', 'union', 'said', 'monday', 'it', 'supports', 'ending', 'the', 'district', 'in', 'house', 'police', 'force', 'the', 'unit', 'places', 'about', 'officers', 'throughout', 'the', 'nation', 'second', 'largest', 'school', 'district', 'at', 'cost', 'of', 'about', 'million', 'annually', 'but', 'the', 'head', 'of', 'the', 'district', 'school', 'police', 'union', 'said', 'officers', 'are', 'better', 'trained', 'to', 'de', 'escalate', 'situations', 'in', 'buildings', 'than', 'outside', 'cops', 'called', 'to', 'campus', 'according', 'to', 'the', 'los', 'angeles', 'times', 'in', 'phoenix', 'hundreds', 'of', 'students', 'have', 'been', 'protesting', 'the', 'use', 'of', 'on', 'campus', 'police', 'officers', 'but', 'the', 'school', 'board', 'has', 'not', 'yet', 'taken', 'vote', 'on', 'whether', 'to', 'renew', 'the', 'contract', 'there', 'not', 'much', 'good', 'data', 'on', 'what', 'happens', 'when', 'you', 'remove', 'police', 'officers', 'from', 'schools', 'but', 'new', 'york', 'and', 'louisville', 'have', 'tried', 'some', 'new', 'ideas', 'decade', 'ago', 'report', 'from', 'new', 'york', 'city', 'examined', 'how', 'handful', 'of', 'high', 'schools', 'serving', 'at', 'risk', 'students', 'maintained', 'safe', 'environments', 'without', 'police', 'district', 'safety', 'agents', 'patrolled', 'halls', 'instead', 'metal', 'detectors', 'were', 'removed', 'administrators', 'created', 'alternatives', 'to', 'harsh', 'discipline', 'policies', 'the', 'aclu', 'which', 'published', 'the', 'report', 'is', 'notably', 'in', 'favor', 'of', 'removing', 'police', 'from', 'schools', 'in', 'louisville', 'kentucky', 'the', 'jefferson', 'county', 'public', 'schools', 'cut', 'ties', 'with', 'school', 'resource', 'officers', 'last', 'august', 'because', 'of', 'issues', 'related', 'to', 'the', 'criminalization', 'of', 'black', 'students', 'the', 'district', 'this', 'week', 'couldn', 'provide', 'comparison', 'of', 'school', 'arrest', 'data', 'from', 'before', 'and', 'after', 'police', 'were', 'removed', 'but', 'in', 'general', 'according', 'to', 'the', 'louisville', 'courier', 'journal', 'school', 'safety', 'hasn', 'changed', 'much', 'though', 'one', 'school', 'made', 'headlines', 'for', 'some', 'high', 'profile', 'student', 'on', 'teacher', 'altercations', 'louisville', 'has', 'seen', 'even', 'more', 'forceful', 'protests', 'than', 'some', 'cities', 'in', 'the', 'wake', 'of', 'the', 'death', 'of', 'breonna', 'taylor', 'who', 'was', 'shot', 'by', 'white', 'police', 'officer', 'in', 'her', 'bedroom', 'in', 'march', 'district', 'spokesperson', 'in', 'jefferson', 'county', 'said', 'this', 'week', 'the', 'district', 'is', 're', 'evaluating', 'its', 'school', 'safety', 'plan', 'which', 'could', 'still', 'include', 'armed', 'guards', 'in', 'schools', 'in', 'florida', 'janice', 'scott', 'cover', 'former', 'assistant', 'superintendent', 'in', 'the', 'palm', 'beach', 'county', 'school', 'district', 'said', 'administrators', 'can', 'also', 'work', 'harder', 'to', 'identify', 'the', 'root', 'cause', 'of', 'student', 'misbehavior', 'whether', 'cops', 'are', 'there', 'or', 'not', 'when', 'she', 'became', 'principal', 'of', 'troubled', 'elementary', 'school', 'two', 'decades', 'ago', 'the', 'school', 'resource', 'officer', 'arrested', 'children', 'for', 'fighting', 'disrespecting', 'teachers', 'and', 'walking', 'out', 'of', 'class', 'not', 'all', 'the', 'resource', 'officers', 'understand', 'how', 'to', 'police', 'in', 'schools', 'cover', 'said', 'some', 'still', 'behave', 'like', 'they', 're', 'out', 'on', 'the', 'street', 'grabbing', 'people', 'and', 'throwing', 'them', 'down', 'and', 'did', 'not', 'want', 'that', 'on', 'the', 'campus', 'cover', 'rearranged', 'the', 'budget', 'to', 'hire', 'another', 'social', 'worker', 'who', 'became', 'the', 'first', 'stop', 'for', 'misbehaving', 'children', 'she', 'had', 'teachers', 'rearrange', 'classrooms', 'so', 'students', 'worked', 'in', 'groups', 'and', 'practiced', 'cooperation', 'she', 'and', 'her', 'teachers', 'doubled', 'down', 'on', 'prodding', 'into', 'students', 'lives', 'often', 'getting', 'them', 'needed', 'household', 'or', 'personal', 'items', 'over', 'time', 'the', 'climate', 'and', 'academics', 'improved', 'something', 'cover', 'recounts', 'in', 'her', 'book', 'about', 'turning', 'around', 'low', 'performing', 'elementary', 'schools', 'happy', 'now', 'that', 'people', 'are', 'beginning', 'to', 'look', 'at', 'this', 'said', 'cover', 'who', 'is', 'black', 'my', 'hope', 'is', 'that', 'you', 'don', 'just', 'remove', 'the', 'police', 'officers', 'but', 'replace', 'them', 'with', 'something', 'else', 'like', 'counselors', 'or', 'mental', 'health', 'professionals', 'or', 'school', 'psychologists', 'olivia', 'krauth', 'contributed', 'to', 'this', 'story', 'from', 'louisville', 'kentucky', 'lily', 'altavena', 'contributed', 'from', 'phoenix', 'arizona', 'education', 'coverage', 'at', 'usa', 'today', 'is', 'made', 'possible', 'in', 'part', 'by', 'grant', 'from', 'the', 'bill', 'melinda', 'gates', 'foundation', 'the', 'gates', 'foundation', 'does', 'not', 'provide', 'editorial', 'input', 'three', 'summers', 'ago', 'about', 'students', 'and', 'activists', 'gathered', 'outside', 'the', 'minneapolis', 'public', 'schools', 'headquarters', 'to', 'demand', 'the', 'school', 'board', 'end', 'contract', 'that', 'placed', 'police', 'officers', 'in', 'schools', 'the', 'officers', 'whose', 'role', 'was', 'to', 'keep', 'schools', 'safe', 'actually', 'made', 'students', 'especially', 'black', 'students', 'feel', 'criminalized', 'activists', 'said', 'but', 'the', 'majority', 'of', 'teachers', 'staff', 'and', 'parents', 'liked', 'officers', 'in', 'schools', 'district', 'wide', 'survey', 'showed', 'at', 'the', 'time', 'the', 'board', 'renewed', 'the', 'three', 'year', 'contract', 'fast', 'forward', 'to', 'june', 'eight', 'days', 'after', 'george', 'floyd', 'died', 'under', 'the', 'knee', 'of', 'minneapolis', 'police', 'officer', 'the', 'school', 'board', 'revisited', 'that', 'contract', 'and', 'ended', 'it', 'the', 'vote', 'on', 'june', 'after', 'an', 'even', 'larger', 'crowd', 'of', 'protesters', 'gathered', 'outside', 'was', 'unanimous', 'the', 'values', 'we', 'see', 'in', 'the', 'police', 'department', 'do', 'not', 'match', 'our', 'values', 'said', 'kim', 'ellison', 'chair', 'of', 'the', 'minneapolis', 'school', 'board', 'the', 'school', 'board', 'became', 'one', 'of', 'the', 'first', 'major', 'governmental', 'bodies', 'to', 'change', 'the', 'balance', 'of', 'power', 'with', 'police', 'in', 'the', 'wake', 'of', 'floyd', 'death', 'the', 'change', 'has', 'prompted', 'wave', 'of', 'districts', 'nationwide', 'to', 'consider', 'terminating', 'their', 'relationships', 'with', 'police', 'from', 'chicago', 'new', 'york', 'and', 'los', 'angeles', 'to', 'smaller', 'cities', 'like', 'rochester', 'new', 'york', 'columbus', 'ohio', 'and', 'portland', 'maine', 'and', 'fort', 'collins', 'colorado', 'students', 'and', 'activists', 'are', 'demanding', 'the', 'discontinuation', 'of', 'school', 'resource', 'officers', 'they', 'want', 'the', 'money', 'spent', 'on', 'those', 'programs', 'to', 'go', 'to', 'other', 'peacekeeping', 'strategies', 'teen', 'activists', 'too', 'young', 'to', 'vote', 'in', 'but', 'fighting', 'for', 'change', 'police', 'in', 'schools', 'contribute', 'to', 'the', 'marginalization', 'of', 'students', 'of', 'color', 'they', 'say', 'that', 'because', 'schools', 'with', 'large', 'populations', 'of', 'black', 'and', 'brown', 'students', 'are', 'more', 'likely', 'to', 'have', 'law', 'enforcement', 'on', 'site', 'and', 'in', 'those', 'places', 'students', 'are', 'more', 'likely', 'to', 'be', 'arrested', 'for', 'certain', 'behaviors', 'rather', 'than', 'disciplined', 'by', 'an', 'administrator', 'last', 'week', 'portland', 'oregon', 'school', 'superintendent', 'announced', 'he', 'planned', 'to', 'remove', 'police', 'from', 'schools', 'denver', 'school', 'board', 'is', 'slated', 'to', 'vote', 'thursday', 'on', 'ending', 'contract', 'for', 'uniformed', 'officers', 'in', 'oakland', 'california', 'the', 'majority', 'of', 'the', 'school', 'board', 'and', 'superintendent', 'wednesday', 'backed', 'proposal', 'to', 'eliminate', 'the', 'district', 'million', 'internal', 'police', 'force', 'despite', 'concerns', 'from', 'some', 'principals', 'according', 'to', 'the', 'san', 'francisco', 'chronicle', 'advocates', 'for', 'school', 'resource', 'officers', 'say', 'the', 'problem', 'lies', 'with', 'inconsistent', 'training', 'for', 'law', 'enforcement', 'on', 'how', 'to', 'work', 'with', 'students', 'making', 'rash', 'moves', 'to', 'end', 'the', 'programs', 'because', 'of', 'political', 'and', 'social', 'pressure', 'could', 'make', 'schools', 'less', 'safe', 'they', 'say', 'and', 'also', 'disrupt', 'the', 'opportunity', 'for', 'healthy', 'relationships', 'to', 'grow', 'between', 'law', 'enforcement', 'and', 'students', 'when', 'this', 'is', 'done', 'the', 'right', 'way', 'it', 'the', 'epitome', 'of', 'community', 'based', 'policing', 'said', 'mo', 'canady', 'executive', 'director', 'of', 'the', 'national', 'association', 'of', 'school', 'resource', 'officers', 'that', 'philosophy', 'where', 'police', 'and', 'the', 'community', 'work', 'together', 'to', 'solve', 'crimes', 'and', 'improve', 'everyone', 'quality', 'of', 'life', 'canady', 'organization', 'trains', 'officers', 'how', 'to', 'enforce', 'the', 'law', 'in', 'school', 'setting', 'informally', 'counsel', 'students', 'and', 'act', 'as', 'an', 'educator', 'but', 'nothing', 'requires', 'school', 'resource', 'officers', 'to', 'undergo', 'such', 'training', 'canady', 'said', 'there', 'federal', 'resistance', 'to', 'that', 'idea', 'out', 'of', 'respect', 'for', 'the', 'tradition', 'of', 'local', 'control', 'he', 'added', 'it', 'better', 'if', 'districts', 'would', 'say', 'we', 'need', 'these', 'officers', 'trained', 'on', 'national', 'level', 'canady', 'said', 'nationally', 'protesters', 'seeking', 'justice', 'for', 'floyd', 'want', 'to', 'reduce', 'city', 'police', 'department', 'budgets', 'and', 'redirect', 'more', 'money', 'to', 'social', 'services', 'but', 'what', 'happening', 'at', 'schools', 'offers', 'window', 'into', 'the', 'relationship', 'between', 'law', 'enforcement', 'and', 'youth', 'while', 'police', 'have', 'been', 'stationed', 'in', 'schools', 'for', 'decades', 'they', 'don', 'make', 'schools', 'overwhelmingly', 'more', 'safe', 'studies', 'show', 'review', 'of', 'the', 'most', 'comprehensive', 'studies', 'on', 'school', 'based', 'law', 'enforcement', 'showed', 'the', 'officers', 'did', 'not', 'improve', 'students', 'perception', 'of', 'safety', 'and', 'out', 'of', 'school', 'suspensions', 'and', 'expulsions', 'increased', 'after', 'school', 'resource', 'officers', 'were', 'introduced', 'to', 'building', 'it', 'not', 'like', 'there', 'really', 'strong', 'research', 'base', 'that', 'says', 'with', 'police', 'in', 'schools', 'crime', 'goes', 'down', 'and', 'bullying', 'goes', 'down', 'and', 'there', 'are', 'no', 'shootings', 'said', 'anthony', 'petrosino', 'director', 'of', 'the', 'justice', 'and', 'prevention', 'research', 'center', 'at', 'wested', 'nonpartisan', 'research', 'organization', 'that', 'focuses', 'on', 'education', 'school', 'policing', 'is', 'much', 'more', 'common', 'in', 'schools', 'with', 'kids', 'of', 'color', 'petrosino', 'added', 'there', 'real', 'question', 'of', 'whether', 'it', 'helping', 'or', 'hurting', 'is', 'it', 'leading', 'to', 'more', 'of', 'these', 'kids', 'being', 'involved', 'in', 'the', 'justice', 'system', 'or', 'being', 'kicked', 'out', 'of', 'school', 'one', 'big', 'problem', 'is', 'children', 'of', 'racial', 'minorities', 'especially', 'black', 'students', 'are', 'more', 'likely', 'to', 'be', 'suspended', 'and', 'expelled', 'from', 'school', 'than', 'white', 'students', 'even', 'when', 'they', 'commit', 'similar', 'offenses', 'research', 'shows', 'pushed', 'out', 'and', 'punished', 'black', 'girls', 'punished', 'more', 'harshly', 'than', 'white', 'girls', 'and', 'of', 'the', 'approximate', 'million', 'students', 'in', 'america', 'attending', 'schools', 'with', 'police', 'officers', 'but', 'no', 'counselors', 'more', 'of', 'those', 'students', 'are', 'black', 'than', 'white', 'by', 'contrast', 'white', 'students', 'are', 'more', 'likely', 'to', 'attend', 'schools', 'with', 'counselors', 'but', 'not', 'police', 'federal', 'data', 'show', 'on', 'top', 'of', 'that', 'number', 'of', 'high', 'profile', 'incidents', 'in', 'recent', 'years', 'have', 'put', 'spotlight', 'on', 'police', 'brutality', 'toward', 'black', 'kids', 'and', 'teens', 'inside', 'and', 'outside', 'of', 'school', 'white', 'school', 'resource', 'officer', 'in', 'south', 'carolina', 'high', 'school', 'flipped', 'black', 'girl', 'out', 'of', 'her', 'desk', 'and', 'dragged', 'her', 'across', 'the', 'floor', 'in', 'black', 'school', 'resource', 'officer', 'in', 'orlando', 'arrested', 'sobbing', 'year', 'old', 'black', 'student', 'in', 'september', 'securing', 'her', 'with', 'zip', 'ties', 'because', 'she', 'was', 'too', 'small', 'for', 'handcuffs', 'white', 'officer', 'in', 'ferguson', 'missouri', 'shot', 'and', 'killed', 'michael', 'brown', 'an', 'unarmed', 'year', 'old', 'black', 'man', 'in', 'the', 'street', 'in', 'later', 'that', 'year', 'white', 'officer', 'in', 'cleveland', 'ohio', 'shot', 'and', 'killed', 'tamir', 'rice', 'year', 'old', 'black', 'boy', 'rice', 'had', 'been', 'playing', 'with', 'toy', 'gun', 'outside', 'recreation', 'center', 'change', 'in', 'ferguson', 'city', 'elects', 'first', 'black', 'female', 'mayor', 'years', 'after', 'michael', 'brown', 'death', 'in', 'the', 'only', 'of', 'schools', 'had', 'law', 'enforcement', 'officer', 'stationed', 'in', 'them', 'according', 'to', 'federal', 'data', 'now', 'of', 'schools', 'have', 'police', 'officer', 'in', 'the', 'building', 'at', 'least', 'one', 'day', 'week', 'according', 'to', 'the', 'most', 'recent', 'federal', 'data', 'and', 'among', 'large', 'schools', 'almost', 'had', 'sworn', 'officer', 'in', 'the', 'building', 'at', 'least', 'one', 'day', 'week', 'in', 'the', 'school', 'year', 'the', 'number', 'of', 'officers', 'in', 'schools', 'accelerated', 'rapidly', 'after', 'the', 'year', 'of', 'the', 'shooting', 'at', 'columbine', 'high', 'school', 'in', 'colorado', 'the', 'massacre', 'spurred', 'national', 'discussion', 'about', 'school', 'safety', 'and', 'boost', 'in', 'federal', 'funds', 'helped', 'pay', 'for', 'more', 'cops', 'in', 'schools', 'years', 'after', 'columbine', 'survivors', 'find', 'that', 'new', 'normal', 'between', 'and', 'program', 'started', 'under', 'the', 'clinton', 'administration', 'doled', 'out', 'million', 'in', 'grants', 'to', 'police', 'departments', 'to', 'support', 'hiring', 'thousands', 'more', 'school', 'resource', 'officers', 'since', 'then', 'law', 'enforcement', 'in', 'schools', 'seemed', 'like', 'the', 'one', 'thing', 'that', 'district', 'leaders', 'would', 'not', 'change', 'said', 'aaron', 'kupchik', 'professor', 'of', 'sociology', 'and', 'criminal', 'justice', 'at', 'the', 'university', 'of', 'delaware', 'we', 'typically', 'don', 'even', 'discuss', 'it', 'because', 'it', 'common', 'assumption', 'they', 're', 'here', 'to', 'stay', 'kupchik', 'said', 'so', 'people', 'focus', 'on', 'how', 'to', 'make', 'it', 'less', 'harmful', 'like', 'by', 'ending', 'zero', 'tolerance', 'policies', 'and', 'adding', 'more', 'restorative', 'justice', 'programs', 'under', 'zero', 'tolerance', 'students', 'who', 'break', 'school', 'rules', 'are', 'subject', 'to', 'mandatory', 'severe', 'consequences', 'such', 'as', 'being', 'expelled', 'restorative', 'justice', 'programs', 'offer', 'misbehaving', 'students', 'chance', 'to', 'take', 'ownership', 'of', 'their', 'actions', 'talk', 'through', 'what', 'prompted', 'them', 'and', 'repair', 'harm', 'they', 've', 'caused', 'to', 'others', 'restorative', 'justice', 'how', 'circle', 'keeping', 'works', 'at', 'one', 'midwestern', 'school', 'despite', 'talks', 'of', 'reform', 'students', 'social', 'justice', 'groups', 'and', 'the', 'american', 'civil', 'liberties', 'union', 'have', 'been', 'working', 'for', 'years', 'to', 'end', 'school', 'policing', 'long', 'before', 'the', 'calls', 'emerged', 'as', 'part', 'of', 'the', 'floyd', 'protests', 'that', 'key', 'reason', 'districts', 'are', 'taking', 'action', 'now', 'said', 'sarah', 'hinger', 'senior', 'staff', 'attorney', 'for', 'the', 'aclu', 'racial', 'justice', 'program', 'another', 'reason', 'school', 'districts', 'are', 'more', 'inclined', 'now', 'to', 'remove', 'police', 'officers', 'money', 'districts', 'are', 'facing', 'major', 'financial', 'shortfalls', 'because', 'of', 'the', 'covid', 'pandemic', 'and', 'loss', 'of', 'tax', 'revenue', 'because', 'of', 'the', 'economic', 'shutdown', 'it', 'widely', 'acknowledged', 'that', 'low', 'income', 'children', 'group', 'that', 'includes', 'many', 'black', 'and', 'brown', 'children', 'will', 'need', 'more', 'support', 'to', 'get', 'back', 'on', 'track', 'once', 'schools', 'reopen', 'many', 'haven', 'had', 'access', 'to', 'all', 'the', 'tools', 'needed', 'for', 'online', 'learning', 'such', 'as', 'high', 'speed', 'internet', 'or', 'their', 'own', 'computer', 'police', 'contracts', 'are', 'one', 'non', 'academic', 'budget', 'item', 'that', 'could', 'be', 'dropped', 'all', 'of', 'that', 'is', 'contributing', 'to', 'why', 'this', 'movement', 'is', 'really', 'catching', 'on', 'hinger', 'said', 'kids', 'need', 'to', 'talk', 'about', 'george', 'floyd', 'with', 'coronavirus', 'school', 'closures', 'it', 'hard', 'to', 'do', 'seattle', 'public', 'schools', 'announced', 'this', 'week', 'that', 'it', 'would', 'suspend', 'officers', 'from', 'schools', 'for', 'one', 'year', 'in', 'oakland', 'wednesday', 'the', 'school', 'superintendent', 'joined', 'the', 'majority', 'of', 'the', 'school', 'board', 'in', 'backing', 'the', 'elimination', 'of', 'the', 'district', 'in', 'house', 'police', 'force', 'one', 'idea', 'is', 'to', 'replace', 'it', 'with', 'non', 'uniformed', 'ambassadors', 'to', 'keep', 'the', 'peace', 'in', 'schools', 'black', 'students', 'account', 'for', 'of', 'the', 'students', 'arrested', 'in', 'oakland', 'schools', 'while', 'only', 'making', 'up', 'of', 'the', 'district', 'population', 'according', 'to', 'the', 'black', 'organizing', 'project', 'local', 'advocacy', 'group', 'oakland', 'board', 'is', 'slated', 'to', 'vote', 'on', 'eliminating', 'the', 'police', 'force', 'on', 'june', 'some', 'districts', 'are', 'less', 'inclined', 'to', 'remove', 'officers', 'the', 'chicago', 'teachers', 'union', 'has', 'reinvigorated', 'its', 'call', 'for', 'the', 'city', 'to', 'replace', 'school', 'resource', 'officers', 'with', 'counselors', 'but', 'mayor', 'lori', 'lightfoot', 'who', 'runs', 'the', 'city', 'as', 'well', 'as', 'the', 'district', 'indicated', 'she', 'not', 'interested', 'in', 'dumping', 'the', 'million', 'contract', 'with', 'the', 'chicago', 'police', 'department', 'more', 'than', 'three', 'quarters', 'of', 'the', 'city', 'high', 'schools', 'have', 'police', 'in', 'them', 'and', 'the', 'local', 'parent', 'and', 'teacher', 'councils', 'at', 'all', 'of', 'them', 'voted', 'to', 'keep', 'the', 'officers', 'this', 'year', 'according', 'to', 'local', 'news', 'reports', 'unfortunately', 'we', 'need', 'security', 'in', 'our', 'schools', 'lightfoot', 'said', 'in', 'protest', 'chicago', 'teachers', 'and', 'students', 'have', 'recently', 'staged', 'marches', 'and', 'car', 'caravan', 'parades', 'between', 'high', 'schools', 'chicago', 'protests', 'kanye', 'west', 'joins', 'march', 'offers', 'to', 'pay', 'legal', 'fees', 'for', 'breonna', 'taylor', 'family', 'in', 'los', 'angeles', 'the', 'teachers', 'union', 'said', 'monday', 'it', 'supports', 'ending', 'the', 'district', 'in', 'house', 'police', 'force', 'the', 'unit', 'places', 'about', 'officers', 'throughout', 'the', 'nation', 'second', 'largest', 'school', 'district', 'at', 'cost', 'of', 'about', 'million', 'annually', 'but', 'the', 'head', 'of', 'the', 'district', 'school', 'police', 'union', 'said', 'officers', 'are', 'better', 'trained', 'to', 'de', 'escalate', 'situations', 'in', 'buildings', 'than', 'outside', 'cops', 'called', 'to', 'campus', 'according', 'to', 'the', 'los', 'angeles', 'times', 'in', 'phoenix', 'hundreds', 'of', 'students', 'have', 'been', 'protesting', 'the', 'use', 'of', 'on', 'campus', 'police', 'officers', 'but', 'the', 'school', 'board', 'has', 'not', 'yet', 'taken', 'vote', 'on', 'whether', 'to', 'renew', 'the', 'contract', 'there', 'not', 'much', 'good', 'data', 'on', 'what', 'happens', 'when', 'you', 'remove', 'police', 'officers', 'from', 'schools', 'but', 'new', 'york', 'and', 'louisville', 'have', 'tried', 'some', 'new', 'ideas', 'decade', 'ago', 'report', 'from', 'new', 'york', 'city', 'examined', 'how', 'handful', 'of', 'high', 'schools', 'serving', 'at', 'risk', 'students', 'maintained', 'safe', 'environments', 'without', 'police', 'district', 'safety', 'agents', 'patrolled', 'halls', 'instead', 'metal', 'detectors', 'were', 'removed', 'administrators', 'created', 'alternatives', 'to', 'harsh', 'discipline', 'policies', 'the', 'aclu', 'which', 'published', 'the', 'report', 'is', 'notably', 'in', 'favor', 'of', 'removing', 'police', 'from', 'schools', 'in', 'louisville', 'kentucky', 'the', 'jefferson', 'county', 'public', 'schools', 'cut', 'ties', 'with', 'school', 'resource', 'officers', 'last', 'august', 'because', 'of', 'issues', 'related', 'to', 'the', 'criminalization', 'of', 'black', 'students', 'the', 'district', 'this', 'week', 'couldn', 'provide', 'comparison', 'of', 'school', 'arrest', 'data', 'from', 'before', 'and', 'after', 'police', 'were', 'removed', 'but', 'in', 'general', 'according', 'to', 'the', 'louisville', 'courier', 'journal', 'school', 'safety', 'hasn', 'changed', 'much', 'though', 'one', 'school', 'made', 'headlines', 'for', 'some', 'high', 'profile', 'student', 'on', 'teacher', 'altercations', 'louisville', 'has', 'seen', 'even', 'more', 'forceful', 'protests', 'than', 'some', 'cities', 'in', 'the', 'wake', 'of', 'the', 'death', 'of', 'breonna', 'taylor', 'who', 'was', 'shot', 'by', 'white', 'police', 'officer', 'in', 'her', 'bedroom', 'in', 'march', 'district', 'spokesperson', 'in', 'jefferson', 'county', 'said', 'this', 'week', 'the', 'district', 'is', 're', 'evaluating', 'its', 'school', 'safety', 'plan', 'which', 'could', 'still', 'include', 'armed', 'guards', 'in', 'schools', 'in', 'florida', 'janice', 'scott', 'cover', 'former', 'assistant', 'superintendent', 'in', 'the', 'palm', 'beach', 'county', 'school', 'district', 'said', 'administrators', 'can', 'also', 'work', 'harder', 'to', 'identify', 'the', 'root', 'cause', 'of', 'student', 'misbehavior', 'whether', 'cops', 'are', 'there', 'or', 'not', 'when', 'she', 'became', 'principal', 'of', 'troubled', 'elementary', 'school', 'two', 'decades', 'ago', 'the', 'school', 'resource', 'officer', 'arrested', 'children', 'for', 'fighting', 'disrespecting', 'teachers', 'and', 'walking', 'out', 'of', 'class', 'not', 'all', 'the', 'resource', 'officers', 'understand', 'how', 'to', 'police', 'in', 'schools', 'cover', 'said', 'some', 'still', 'behave', 'like', 'they', 're', 'out', 'on', 'the', 'street', 'grabbing', 'people', 'and', 'throwing', 'them', 'down', 'and', 'did', 'not', 'want', 'that', 'on', 'the', 'campus', 'cover', 'rearranged', 'the', 'budget', 'to', 'hire', 'another', 'social', 'worker', 'who', 'became', 'the', 'first', 'stop', 'for', 'misbehaving', 'children', 'she', 'had', 'teachers', 'rearrange', 'classrooms', 'so', 'students', 'worked', 'in', 'groups', 'and', 'practiced', 'cooperation', 'she', 'and', 'her', 'teachers', 'doubled', 'down', 'on', 'prodding', 'into', 'students', 'lives', 'often', 'getting', 'them', 'needed', 'household', 'or', 'personal', 'items', 'over', 'time', 'the', 'climate', 'and', 'academics', 'improved', 'something', 'cover', 'recounts', 'in', 'her', 'book', 'about', 'turning', 'around', 'low', 'performing', 'elementary', 'schools', 'happy', 'now', 'that', 'people', 'are', 'beginning', 'to', 'look', 'at', 'this', 'said', 'cover', 'who', 'is', 'black', 'my', 'hope', 'is', 'that', 'you', 'don', 'just', 'remove', 'the', 'police', 'officers', 'but', 'replace', 'them', 'with', 'something', 'else', 'like', 'counselors', 'or', 'mental', 'health', 'professionals', 'or', 'school', 'psychologists', 'olivia', 'krauth', 'contributed', 'to', 'this', 'story', 'from', 'louisville', 'kentucky', 'lily', 'altavena', 'contributed', 'from', 'phoenix', 'arizona', 'education', 'coverage', 'at', 'usa', 'today', 'is', 'made', 'possible', 'in', 'part', 'by', 'grant', 'from', 'the', 'bill', 'melinda', 'gates', 'foundation', 'the', 'gates', 'foundation', 'does', 'not', 'provide', 'editorial', 'input', 'three', 'summers', 'ago', 'about', 'students', 'and', 'activists', 'gathered', 'outside', 'the', 'minneapolis', 'public', 'schools', 'headquarters', 'to', 'demand', 'the', 'school', 'board', 'end', 'contract', 'that', 'placed', 'police', 'officers', 'in', 'schools', 'the', 'officers', 'whose', 'role', 'was', 'to', 'keep', 'schools', 'safe', 'actually', 'made', 'students', 'especially', 'black', 'students', 'feel', 'criminalized', 'activists', 'said', 'but', 'the', 'majority', 'of', 'teachers', 'staff', 'and', 'parents', 'liked', 'officers', 'in', 'schools', 'district', 'wide', 'survey', 'showed', 'at', 'the', 'time', 'the', 'board', 'renewed', 'the', 'three', 'year', 'contract', 'fast', 'forward', 'to', 'june', 'eight', 'days', 'after', 'george', 'floyd', 'died', 'under', 'the', 'knee', 'of', 'minneapolis', 'police', 'officer', 'the', 'school', 'board', 'revisited', 'that', 'contract', 'and', 'ended', 'it', 'the', 'vote', 'on', 'june', 'after', 'an', 'even', 'larger', 'crowd', 'of', 'protesters', 'gathered', 'outside', 'was', 'unanimous', 'the', 'values', 'we', 'see', 'in', 'the', 'police', 'department', 'do', 'not', 'match', 'our', 'values', 'said', 'kim', 'ellison', 'chair', 'of', 'the', 'minneapolis', 'school', 'board', 'the', 'school', 'board', 'became', 'one', 'of', 'the', 'first', 'major', 'governmental', 'bodies', 'to', 'change', 'the', 'balance', 'of', 'power', 'with', 'police', 'in', 'the', 'wake', 'of', 'floyd', 'death', 'the', 'change', 'has', 'prompted', 'wave', 'of', 'districts', 'nationwide', 'to', 'consider', 'terminating', 'their', 'relationships', 'with', 'police', 'from', 'chicago', 'new', 'york', 'and', 'los', 'angeles', 'to', 'smaller', 'cities', 'like', 'rochester', 'new', 'york', 'columbus', 'ohio', 'and', 'portland', 'maine', 'and', 'fort', 'collins', 'colorado', 'students', 'and', 'activists', 'are', 'demanding', 'the', 'discontinuation', 'of', 'school', 'resource', 'officers', 'they', 'want', 'the', 'money', 'spent', 'on', 'those', 'programs', 'to', 'go', 'to', 'other', 'peacekeeping', 'strategies', 'teen', 'activists', 'too', 'young', 'to', 'vote', 'in', 'but', 'fighting', 'for', 'change', 'police', 'in', 'schools', 'contribute', 'to', 'the', 'marginalization', 'of', 'students', 'of', 'color', 'they', 'say', 'that', 'because', 'schools', 'with', 'large', 'populations', 'of', 'black', 'and', 'brown', 'students', 'are', 'more', 'likely', 'to', 'have', 'law', 'enforcement', 'on', 'site', 'and', 'in', 'those', 'places', 'students', 'are', 'more', 'likely', 'to', 'be', 'arrested', 'for', 'certain', 'behaviors', 'rather', 'than', 'disciplined', 'by', 'an', 'administrator', 'last', 'week', 'portland', 'oregon', 'school', 'superintendent', 'announced', 'he', 'planned', 'to', 'remove', 'police', 'from', 'schools', 'denver', 'school', 'board', 'is', 'slated', 'to', 'vote', 'thursday', 'on', 'ending', 'contract', 'for', 'uniformed', 'officers', 'in', 'oakland', 'california', 'the', 'majority', 'of', 'the', 'school', 'board', 'and', 'superintendent', 'wednesday', 'backed', 'proposal', 'to', 'eliminate', 'the', 'district', 'million', 'internal', 'police', 'force', 'despite', 'concerns', 'from', 'some', 'principals', 'according', 'to', 'the', 'san', 'francisco', 'chronicle', 'advocates', 'for', 'school', 'resource', 'officers', 'say', 'the', 'problem', 'lies', 'with', 'inconsistent', 'training', 'for', 'law', 'enforcement', 'on', 'how', 'to', 'work', 'with', 'students', 'making', 'rash', 'moves', 'to', 'end', 'the', 'programs', 'because', 'of', 'political', 'and', 'social', 'pressure', 'could', 'make', 'schools', 'less', 'safe', 'they', 'say', 'and', 'also', 'disrupt', 'the', 'opportunity', 'for', 'healthy', 'relationships', 'to', 'grow', 'between', 'law', 'enforcement', 'and', 'students', 'when', 'this', 'is', 'done', 'the', 'right', 'way', 'it', 'the', 'epitome', 'of', 'community', 'based', 'policing', 'said', 'mo', 'canady', 'executive', 'director', 'of', 'the', 'national', 'association', 'of', 'school', 'resource', 'officers', 'that', 'philosophy', 'where', 'police', 'and', 'the', 'community', 'work', 'together', 'to', 'solve', 'crimes', 'and', 'improve', 'everyone', 'quality', 'of', 'life', 'canady', 'organization', 'trains', 'officers', 'how', 'to', 'enforce', 'the', 'law', 'in', 'school', 'setting', 'informally', 'counsel', 'students', 'and', 'act', 'as', 'an', 'educator', 'but', 'nothing', 'requires', 'school', 'resource', 'officers', 'to', 'undergo', 'such', 'training', 'canady', 'said', 'there', 'federal', 'resistance', 'to', 'that', 'idea', 'out', 'of', 'respect', 'for', 'the', 'tradition', 'of', 'local', 'control', 'he', 'added', 'it', 'better', 'if', 'districts', 'would', 'say', 'we', 'need', 'these', 'officers', 'trained', 'on', 'national', 'level', 'canady', 'said', 'nationally', 'protesters', 'seeking', 'justice', 'for', 'floyd', 'want', 'to', 'reduce', 'city', 'police', 'department', 'budgets', 'and', 'redirect', 'more', 'money', 'to', 'social', 'services', 'but', 'what', 'happening', 'at', 'schools', 'offers', 'window', 'into', 'the', 'relationship', 'between', 'law', 'enforcement', 'and', 'youth', 'while', 'police', 'have', 'been', 'stationed', 'in', 'schools', 'for', 'decades', 'they', 'don', 'make', 'schools', 'overwhelmingly', 'more', 'safe', 'studies', 'show', 'review', 'of', 'the', 'most', 'comprehensive', 'studies', 'on', 'school', 'based', 'law', 'enforcement', 'showed', 'the', 'officers', 'did', 'not', 'improve', 'students', 'perception', 'of', 'safety', 'and', 'out', 'of', 'school', 'suspensions', 'and', 'expulsions', 'increased', 'after', 'school', 'resource', 'officers', 'were', 'introduced', 'to', 'building', 'it', 'not', 'like', 'there', 'really', 'strong', 'research', 'base', 'that', 'says', 'with', 'police', 'in', 'schools', 'crime', 'goes', 'down', 'and', 'bullying', 'goes', 'down', 'and', 'there', 'are', 'no', 'shootings', 'said', 'anthony', 'petrosino', 'director', 'of', 'the', 'justice', 'and', 'prevention', 'research', 'center', 'at', 'wested', 'nonpartisan', 'research', 'organization', 'that', 'focuses', 'on', 'education', 'school', 'policing', 'is', 'much', 'more', 'common', 'in', 'schools', 'with', 'kids', 'of', 'color', 'petrosino', 'added', 'there', 'real', 'question', 'of', 'whether', 'it', 'helping', 'or', 'hurting', 'is', 'it', 'leading', 'to', 'more', 'of', 'these', 'kids', 'being', 'involved', 'in', 'the', 'justice', 'system', 'or', 'being', 'kicked', 'out', 'of', 'school', 'one', 'big', 'problem', 'is', 'children', 'of', 'racial', 'minorities', 'especially', 'black', 'students', 'are', 'more', 'likely', 'to', 'be', 'suspended', 'and', 'expelled', 'from', 'school', 'than', 'white', 'students', 'even', 'when', 'they', 'commit', 'similar', 'offenses', 'research', 'shows', 'pushed', 'out', 'and', 'punished', 'black', 'girls', 'punished', 'more', 'harshly', 'than', 'white', 'girls', 'and', 'of', 'the', 'approximate', 'million', 'students', 'in', 'america', 'attending', 'schools', 'with', 'police', 'officers', 'but', 'no', 'counselors', 'more', 'of', 'those', 'students', 'are', 'black', 'than', 'white', 'by', 'contrast', 'white', 'students', 'are', 'more', 'likely', 'to', 'attend', 'schools', 'with', 'counselors', 'but', 'not', 'police', 'federal', 'data', 'show', 'on', 'top', 'of', 'that', 'number', 'of', 'high', 'profile', 'incidents', 'in', 'recent', 'years', 'have', 'put', 'spotlight', 'on', 'police', 'brutality', 'toward', 'black', 'kids', 'and', 'teens', 'inside', 'and', 'outside', 'of', 'school', 'white', 'school', 'resource', 'officer', 'in', 'south', 'carolina', 'high', 'school', 'flipped', 'black', 'girl', 'out', 'of', 'her', 'desk', 'and', 'dragged', 'her', 'across', 'the', 'floor', 'in', 'black', 'school', 'resource', 'officer', 'in', 'orlando', 'arrested', 'sobbing', 'year', 'old', 'black', 'student', 'in', 'september', 'securing', 'her', 'with', 'zip', 'ties', 'because', 'she', 'was', 'too', 'small', 'for', 'handcuffs', 'white', 'officer', 'in', 'ferguson', 'missouri', 'shot', 'and', 'killed', 'michael', 'brown', 'an', 'unarmed', 'year', 'old', 'black', 'man', 'in', 'the', 'street', 'in', 'later', 'that', 'year', 'white', 'officer', 'in', 'cleveland', 'ohio', 'shot', 'and', 'killed', 'tamir', 'rice', 'year', 'old', 'black', 'boy', 'rice', 'had', 'been', 'playing', 'with', 'toy', 'gun', 'outside', 'recreation', 'center', 'change', 'in', 'ferguson', 'city', 'elects', 'first', 'black', 'female', 'mayor', 'years', 'after', 'michael', 'brown', 'death', 'in', 'the', 'only', 'of', 'schools', 'had', 'law', 'enforcement', 'officer', 'stationed', 'in', 'them', 'according', 'to', 'federal', 'data', 'now', 'of', 'schools', 'have', 'police', 'officer', 'in', 'the', 'building', 'at', 'least', 'one', 'day', 'week', 'according', 'to', 'the', 'most', 'recent', 'federal', 'data', 'and', 'among', 'large', 'schools', 'almost', 'had', 'sworn', 'officer', 'in', 'the', 'building', 'at', 'least', 'one', 'day', 'week', 'in', 'the', 'school', 'year', 'the', 'number', 'of', 'officers', 'in', 'schools', 'accelerated', 'rapidly', 'after', 'the', 'year', 'of', 'the', 'shooting', 'at', 'columbine', 'high', 'school', 'in', 'colorado', 'the', 'massacre', 'spurred', 'national', 'discussion', 'about', 'school', 'safety', 'and', 'boost', 'in', 'federal', 'funds', 'helped', 'pay', 'for', 'more', 'cops', 'in', 'schools', 'years', 'after', 'columbine', 'survivors', 'find', 'that', 'new', 'normal', 'between', 'and', 'program', 'started', 'under', 'the', 'clinton', 'administration', 'doled', 'out', 'million', 'in', 'grants', 'to', 'police', 'departments', 'to', 'support', 'hiring', 'thousands', 'more', 'school', 'resource', 'officers', 'since', 'then', 'law', 'enforcement', 'in', 'schools', 'seemed', 'like', 'the', 'one', 'thing', 'that', 'district', 'leaders', 'would', 'not', 'change', 'said', 'aaron', 'kupchik', 'professor', 'of', 'sociology', 'and', 'criminal', 'justice', 'at', 'the', 'university', 'of', 'delaware', 'we', 'typically', 'don', 'even', 'discuss', 'it', 'because', 'it', 'common', 'assumption', 'they', 're', 'here', 'to', 'stay', 'kupchik', 'said', 'so', 'people', 'focus', 'on', 'how', 'to', 'make', 'it', 'less', 'harmful', 'like', 'by', 'ending', 'zero', 'tolerance', 'policies', 'and', 'adding', 'more', 'restorative', 'justice', 'programs', 'under', 'zero', 'tolerance', 'students', 'who', 'break', 'school', 'rules', 'are', 'subject', 'to', 'mandatory', 'severe', 'consequences', 'such', 'as', 'being', 'expelled', 'restorative', 'justice', 'programs', 'offer', 'misbehaving', 'students', 'chance', 'to', 'take', 'ownership', 'of', 'their', 'actions', 'talk', 'through', 'what', 'prompted', 'them', 'and', 'repair', 'harm', 'they', 've', 'caused', 'to', 'others', 'restorative', 'justice', 'how', 'circle', 'keeping', 'works', 'at', 'one', 'midwestern', 'school', 'despite', 'talks', 'of', 'reform', 'students', 'social', 'justice', 'groups', 'and', 'the', 'american', 'civil', 'liberties', 'union', 'have', 'been', 'working', 'for', 'years', 'to', 'end', 'school', 'policing', 'long', 'before', 'the', 'calls', 'emerged', 'as', 'part', 'of', 'the', 'floyd', 'protests', 'that', 'key', 'reason', 'districts', 'are', 'taking', 'action', 'now', 'said', 'sarah', 'hinger', 'senior', 'staff', 'attorney', 'for', 'the', 'aclu', 'racial', 'justice', 'program', 'another', 'reason', 'school', 'districts', 'are', 'more', 'inclined', 'now', 'to', 'remove', 'police', 'officers', 'money', 'districts', 'are', 'facing', 'major', 'financial', 'shortfalls', 'because', 'of', 'the', 'covid', 'pandemic', 'and', 'loss', 'of', 'tax', 'revenue', 'because', 'of', 'the', 'economic', 'shutdown', 'it', 'widely', 'acknowledged', 'that', 'low', 'income', 'children', 'group', 'that', 'includes', 'many', 'black', 'and', 'brown', 'children', 'will', 'need', 'more', 'support', 'to', 'get', 'back', 'on', 'track', 'once', 'schools', 'reopen', 'many', 'haven', 'had', 'access', 'to', 'all', 'the', 'tools', 'needed', 'for', 'online', 'learning', 'such', 'as', 'high', 'speed', 'internet', 'or', 'their', 'own', 'computer', 'police', 'contracts', 'are', 'one', 'non', 'academic', 'budget', 'item', 'that', 'could', 'be', 'dropped', 'all', 'of', 'that', 'is', 'contributing', 'to', 'why', 'this', 'movement', 'is', 'really', 'catching', 'on', 'hinger', 'said', 'kids', 'need', 'to', 'talk', 'about', 'george', 'floyd', 'with', 'coronavirus', 'school', 'closures', 'it', 'hard', 'to', 'do', 'seattle', 'public', 'schools', 'announced', 'this', 'week', 'that', 'it', 'would', 'suspend', 'officers', 'from', 'schools', 'for', 'one', 'year', 'in', 'oakland', 'wednesday', 'the', 'school', 'superintendent', 'joined', 'the', 'majority', 'of', 'the', 'school', 'board', 'in', 'backing', 'the', 'elimination', 'of', 'the', 'district', 'in', 'house', 'police', 'force', 'one', 'idea', 'is', 'to', 'replace', 'it', 'with', 'non', 'uniformed', 'ambassadors', 'to', 'keep', 'the', 'peace', 'in', 'schools', 'black', 'students', 'account', 'for', 'of', 'the', 'students', 'arrested', 'in', 'oakland', 'schools', 'while', 'only', 'making', 'up', 'of', 'the', 'district', 'population', 'according', 'to', 'the', 'black', 'organizing', 'project', 'local', 'advocacy', 'group', 'oakland', 'board', 'is', 'slated', 'to', 'vote', 'on', 'eliminating', 'the', 'police', 'force', 'on', 'june', 'some', 'districts', 'are', 'less', 'inclined', 'to', 'remove', 'officers', 'the', 'chicago', 'teachers', 'union', 'has', 'reinvigorated', 'its', 'call', 'for', 'the', 'city', 'to', 'replace', 'school', 'resource', 'officers', 'with', 'counselors', 'but', 'mayor', 'lori', 'lightfoot', 'who', 'runs', 'the', 'city', 'as', 'well', 'as', 'the', 'district', 'indicated', 'she', 'not', 'interested', 'in', 'dumping', 'the', 'million', 'contract', 'with', 'the', 'chicago', 'police', 'department', 'more', 'than', 'three', 'quarters', 'of', 'the', 'city', 'high', 'schools', 'have', 'police', 'in', 'them', 'and', 'the', 'local', 'parent', 'and', 'teacher', 'councils', 'at', 'all', 'of', 'them', 'voted', 'to', 'keep', 'the', 'officers', 'this', 'year', 'according', 'to', 'local', 'news', 'reports', 'unfortunately', 'we', 'need', 'security', 'in', 'our', 'schools', 'lightfoot', 'said', 'in', 'protest', 'chicago', 'teachers', 'and', 'students', 'have', 'recently', 'staged', 'marches', 'and', 'car', 'caravan', 'parades', 'between', 'high', 'schools', 'chicago', 'protests', 'kanye', 'west', 'joins', 'march', 'offers', 'to', 'pay', 'legal', 'fees', 'for', 'breonna', 'taylor', 'family', 'in', 'los', 'angeles', 'the', 'teachers', 'union', 'said', 'monday', 'it', 'supports', 'ending', 'the', 'district', 'in', 'house', 'police', 'force', 'the', 'unit', 'places', 'about', 'officers', 'throughout', 'the', 'nation', 'second', 'largest', 'school', 'district', 'at', 'cost', 'of', 'about', 'million', 'annually', 'but', 'the', 'head', 'of', 'the', 'district', 'school', 'police', 'union', 'said', 'officers', 'are', 'better', 'trained', 'to', 'de', 'escalate', 'situations', 'in', 'buildings', 'than', 'outside', 'cops', 'called', 'to', 'campus', 'according', 'to', 'the', 'los', 'angeles', 'times', 'in', 'phoenix', 'hundreds', 'of', 'students', 'have', 'been', 'protesting', 'the', 'use', 'of', 'on', 'campus', 'police', 'officers', 'but', 'the', 'school', 'board', 'has', 'not', 'yet', 'taken', 'vote', 'on', 'whether', 'to', 'renew', 'the', 'contract', 'there', 'not', 'much', 'good', 'data', 'on', 'what', 'happens', 'when', 'you', 'remove', 'police', 'officers', 'from', 'schools', 'but', 'new', 'york', 'and', 'louisville', 'have', 'tried', 'some', 'new', 'ideas', 'decade', 'ago', 'report', 'from', 'new', 'york', 'city', 'examined', 'how', 'handful', 'of', 'high', 'schools', 'serving', 'at', 'risk', 'students', 'maintained', 'safe', 'environments', 'without', 'police', 'district', 'safety', 'agents', 'patrolled', 'halls', 'instead', 'metal', 'detectors', 'were', 'removed', 'administrators', 'created', 'alternatives', 'to', 'harsh', 'discipline', 'policies', 'the', 'aclu', 'which', 'published', 'the', 'report', 'is', 'notably', 'in', 'favor', 'of', 'removing', 'police', 'from', 'schools', 'in', 'louisville', 'kentucky', 'the', 'jefferson', 'county', 'public', 'schools', 'cut', 'ties', 'with', 'school', 'resource', 'officers', 'last', 'august', 'because', 'of', 'issues', 'related', 'to', 'the', 'criminalization', 'of', 'black', 'students', 'the', 'district', 'this', 'week', 'couldn', 'provide', 'comparison', 'of', 'school', 'arrest', 'data', 'from', 'before', 'and', 'after', 'police', 'were', 'removed', 'but', 'in', 'general', 'according', 'to', 'the', 'louisville', 'courier', 'journal', 'school', 'safety', 'hasn', 'changed', 'much', 'though', 'one', 'school', 'made', 'headlines', 'for', 'some', 'high', 'profile', 'student', 'on', 'teacher', 'altercations', 'louisville', 'has', 'seen', 'even', 'more', 'forceful', 'protests', 'than', 'some', 'cities', 'in', 'the', 'wake', 'of', 'the', 'death', 'of', 'breonna', 'taylor', 'who', 'was', 'shot', 'by', 'white', 'police', 'officer', 'in', 'her', 'bedroom', 'in', 'march', 'district', 'spokesperson', 'in', 'jefferson', 'county', 'said', 'this', 'week', 'the', 'district', 'is', 're', 'evaluating', 'its', 'school', 'safety', 'plan', 'which', 'could', 'still', 'include', 'armed', 'guards', 'in', 'schools', 'in', 'florida', 'janice', 'scott', 'cover', 'former', 'assistant', 'superintendent', 'in', 'the', 'palm', 'beach', 'county', 'school', 'district', 'said', 'administrators', 'can', 'also', 'work', 'harder', 'to', 'identify', 'the', 'root', 'cause', 'of', 'student', 'misbehavior', 'whether', 'cops', 'are', 'there', 'or', 'not', 'when', 'she', 'became', 'principal', 'of', 'troubled', 'elementary', 'school', 'two', 'decades', 'ago', 'the', 'school', 'resource', 'officer', 'arrested', 'children', 'for', 'fighting', 'disrespecting', 'teachers', 'and', 'walking', 'out', 'of', 'class', 'not', 'all', 'the', 'resource', 'officers', 'understand', 'how', 'to', 'police', 'in', 'schools', 'cover', 'said', 'some', 'still', 'behave', 'like', 'they', 're', 'out', 'on', 'the', 'street', 'grabbing', 'people', 'and', 'throwing', 'them', 'down', 'and', 'did', 'not', 'want', 'that', 'on', 'the', 'campus', 'cover', 'rearranged', 'the', 'budget', 'to', 'hire', 'another', 'social', 'worker', 'who', 'became', 'the', 'first', 'stop', 'for', 'misbehaving', 'children', 'she', 'had', 'teachers', 'rearrange', 'classrooms', 'so', 'students', 'worked', 'in', 'groups', 'and', 'practiced', 'cooperation', 'she', 'and', 'her', 'teachers', 'doubled', 'down', 'on', 'prodding', 'into', 'students', 'lives', 'often', 'getting', 'them', 'needed', 'household', 'or', 'personal', 'items', 'over', 'time', 'the', 'climate', 'and', 'academics', 'improved', 'something', 'cover', 'recounts', 'in', 'her', 'book', 'about', 'turning', 'around', 'low', 'performing', 'elementary', 'schools', 'happy', 'now', 'that', 'people', 'are', 'beginning', 'to', 'look', 'at', 'this', 'said', 'cover', 'who', 'is', 'black', 'my', 'hope', 'is', 'that', 'you', 'don', 'just', 'remove', 'the', 'police', 'officers', 'but', 'replace', 'them', 'with', 'something', 'else', 'like', 'counselors', 'or', 'mental', 'health', 'professionals', 'or', 'school', 'psychologists', 'olivia', 'krauth', 'contributed', 'to', 'this', 'story', 'from', 'louisville', 'kentucky', 'lily', 'altavena', 'contributed', 'from', 'phoenix', 'arizona', 'education', 'coverage', 'at', 'usa', 'today', 'is', 'made', 'possible', 'in', 'part', 'by', 'grant', 'from', 'the', 'bill', 'melinda', 'gates', 'foundation', 'the', 'gates', 'foundation', 'does', 'not', 'provide', 'editorial', 'input', 'three', 'summers', 'ago', 'about', 'students', 'and', 'activists', 'gathered', 'outside', 'the', 'minneapolis', 'public', 'schools', 'headquarters', 'to', 'demand', 'the', 'school', 'board', 'end', 'contract', 'that', 'placed', 'police', 'officers', 'in', 'schools', 'the', 'officers', 'whose', 'role', 'was', 'to', 'keep', 'schools', 'safe', 'actually', 'made', 'students', 'especially', 'black', 'students', 'feel', 'criminalized', 'activists', 'said', 'but', 'the', 'majority', 'of', 'teachers', 'staff', 'and', 'parents', 'liked', 'officers', 'in', 'schools', 'district', 'wide', 'survey', 'showed', 'at', 'the', 'time', 'the', 'board', 'renewed', 'the', 'three', 'year', 'contract', 'fast', 'forward', 'to', 'june', 'eight', 'days', 'after', 'george', 'floyd', 'died', 'under', 'the', 'knee', 'of', 'minneapolis', 'police', 'officer', 'the', 'school', 'board', 'revisited', 'that', 'contract', 'and', 'ended', 'it', 'the', 'vote', 'on', 'june', 'after', 'an', 'even', 'larger', 'crowd', 'of', 'protesters', 'gathered', 'outside', 'was', 'unanimous', 'the', 'values', 'we', 'see', 'in', 'the', 'police', 'department', 'do', 'not', 'match', 'our', 'values', 'said', 'kim', 'ellison', 'chair', 'of', 'the', 'minneapolis', 'school', 'board', 'the', 'school', 'board', 'became', 'one', 'of', 'the', 'first', 'major', 'governmental', 'bodies', 'to', 'change', 'the', 'balance', 'of', 'power', 'with', 'police', 'in', 'the', 'wake', 'of', 'floyd', 'death', 'the', 'change', 'has', 'prompted', 'wave', 'of', 'districts', 'nationwide', 'to', 'consider', 'terminating', 'their', 'relationships', 'with', 'police', 'from', 'chicago', 'new', 'york', 'and', 'los', 'angeles', 'to', 'smaller', 'cities', 'like', 'rochester', 'new', 'york', 'columbus', 'ohio', 'and', 'portland', 'maine', 'and', 'fort', 'collins', 'colorado', 'students', 'and', 'activists', 'are', 'demanding', 'the', 'discontinuation', 'of', 'school', 'resource', 'officers', 'they', 'want', 'the', 'money', 'spent', 'on', 'those', 'programs', 'to', 'go', 'to', 'other', 'peacekeeping', 'strategies', 'teen', 'activists', 'too', 'young', 'to', 'vote', 'in', 'but', 'fighting', 'for', 'change', 'police', 'in', 'schools', 'contribute', 'to', 'the', 'marginalization', 'of', 'students', 'of', 'color', 'they', 'say', 'that', 'because', 'schools', 'with', 'large', 'populations', 'of', 'black', 'and', 'brown', 'students', 'are', 'more', 'likely', 'to', 'have', 'law', 'enforcement', 'on', 'site', 'and', 'in', 'those', 'places', 'students', 'are', 'more', 'likely', 'to', 'be', 'arrested', 'for', 'certain', 'behaviors', 'rather', 'than', 'disciplined', 'by', 'an', 'administrator', 'last', 'week', 'portland', 'oregon', 'school', 'superintendent', 'announced', 'he', 'planned', 'to', 'remove', 'police', 'from', 'schools', 'denver', 'school', 'board', 'is', 'slated', 'to', 'vote', 'thursday', 'on', 'ending', 'contract', 'for', 'uniformed', 'officers', 'in', 'oakland', 'california', 'the', 'majority', 'of', 'the', 'school', 'board', 'and', 'superintendent', 'wednesday', 'backed', 'proposal', 'to', 'eliminate', 'the', 'district', 'million', 'internal', 'police', 'force', 'despite', 'concerns', 'from', 'some', 'principals', 'according', 'to', 'the', 'san', 'francisco', 'chronicle', 'advocates', 'for', 'school', 'resource', 'officers', 'say', 'the', 'problem', 'lies', 'with', 'inconsistent', 'training', 'for', 'law', 'enforcement', 'on', 'how', 'to', 'work', 'with', 'students', 'making', 'rash', 'moves', 'to', 'end', 'the', 'programs', 'because', 'of', 'political', 'and', 'social', 'pressure', 'could', 'make', 'schools', 'less', 'safe', 'they', 'say', 'and', 'also', 'disrupt', 'the', 'opportunity', 'for', 'healthy', 'relationships', 'to', 'grow', 'between', 'law', 'enforcement', 'and', 'students', 'when', 'this', 'is', 'done', 'the', 'right', 'way', 'it', 'the', 'epitome', 'of', 'community', 'based', 'policing', 'said', 'mo', 'canady', 'executive', 'director', 'of', 'the', 'national', 'association', 'of', 'school', 'resource', 'officers', 'that', 'philosophy', 'where', 'police', 'and', 'the', 'community', 'work', 'together', 'to', 'solve', 'crimes', 'and', 'improve', 'everyone', 'quality', 'of', 'life', 'canady', 'organization', 'trains', 'officers', 'how', 'to', 'enforce', 'the', 'law', 'in', 'school', 'setting', 'informally', 'counsel', 'students', 'and', 'act', 'as', 'an', 'educator', 'but', 'nothing', 'requires', 'school', 'resource', 'officers', 'to', 'undergo', 'such', 'training', 'canady', 'said', 'there', 'federal', 'resistance', 'to', 'that', 'idea', 'out', 'of', 'respect', 'for', 'the', 'tradition', 'of', 'local', 'control', 'he', 'added', 'it', 'better', 'if', 'districts', 'would', 'say', 'we', 'need', 'these', 'officers', 'trained', 'on', 'national', 'level', 'canady', 'said', 'nationally', 'protesters', 'seeking', 'justice', 'for', 'floyd', 'want', 'to', 'reduce', 'city', 'police', 'department', 'budgets', 'and', 'redirect', 'more', 'money', 'to', 'social', 'services', 'but', 'what', 'happening', 'at', 'schools', 'offers', 'window', 'into', 'the', 'relationship', 'between', 'law', 'enforcement', 'and', 'youth', 'while', 'police', 'have', 'been', 'stationed', 'in', 'schools', 'for', 'decades', 'they', 'don', 'make', 'schools', 'overwhelmingly', 'more', 'safe', 'studies', 'show', 'review', 'of', 'the', 'most', 'comprehensive', 'studies', 'on', 'school', 'based', 'law', 'enforcement', 'showed', 'the', 'officers', 'did', 'not', 'improve', 'students', 'perception', 'of', 'safety', 'and', 'out', 'of', 'school', 'suspensions', 'and', 'expulsions', 'increased', 'after', 'school', 'resource', 'officers', 'were', 'introduced', 'to', 'building', 'it', 'not', 'like', 'there', 'really', 'strong', 'research', 'base', 'that', 'says', 'with', 'police', 'in', 'schools', 'crime', 'goes', 'down', 'and', 'bullying', 'goes', 'down', 'and', 'there', 'are', 'no', 'shootings', 'said', 'anthony', 'petrosino', 'director', 'of', 'the', 'justice', 'and', 'prevention', 'research', 'center', 'at', 'wested', 'nonpartisan', 'research', 'organization', 'that', 'focuses', 'on', 'education', 'school', 'policing', 'is', 'much', 'more', 'common', 'in', 'schools', 'with', 'kids', 'of', 'color', 'petrosino', 'added', 'there', 'real', 'question', 'of', 'whether', 'it', 'helping', 'or', 'hurting', 'is', 'it', 'leading', 'to', 'more', 'of', 'these', 'kids', 'being', 'involved', 'in', 'the', 'justice', 'system', 'or', 'being', 'kicked', 'out', 'of', 'school', 'one', 'big', 'problem', 'is', 'children', 'of', 'racial', 'minorities', 'especially', 'black', 'students', 'are', 'more', 'likely', 'to', 'be', 'suspended', 'and', 'expelled', 'from', 'school', 'than', 'white', 'students', 'even', 'when', 'they', 'commit', 'similar', 'offenses', 'research', 'shows', 'pushed', 'out', 'and', 'punished', 'black', 'girls', 'punished', 'more', 'harshly', 'than', 'white', 'girls', 'and', 'of', 'the', 'approximate', 'million', 'students', 'in', 'america', 'attending', 'schools', 'with', 'police', 'officers', 'but', 'no', 'counselors', 'more', 'of', 'those', 'students', 'are', 'black', 'than', 'white', 'by', 'contrast', 'white', 'students', 'are', 'more', 'likely', 'to', 'attend', 'schools', 'with', 'counselors', 'but', 'not', 'police', 'federal', 'data', 'show', 'on', 'top', 'of', 'that', 'number', 'of', 'high', 'profile', 'incidents', 'in', 'recent', 'years', 'have', 'put', 'spotlight', 'on', 'police', 'brutality', 'toward', 'black', 'kids', 'and', 'teens', 'inside', 'and', 'outside', 'of', 'school', 'white', 'school', 'resource', 'officer', 'in', 'south', 'carolina', 'high', 'school', 'flipped', 'black', 'girl', 'out', 'of', 'her', 'desk', 'and', 'dragged', 'her', 'across', 'the', 'floor', 'in', 'black', 'school', 'resource', 'officer', 'in', 'orlando', 'arrested', 'sobbing', 'year', 'old', 'black', 'student', 'in', 'september', 'securing', 'her', 'with', 'zip', 'ties', 'because', 'she', 'was', 'too', 'small', 'for', 'handcuffs', 'white', 'officer', 'in', 'ferguson', 'missouri', 'shot', 'and', 'killed', 'michael', 'brown', 'an', 'unarmed', 'year', 'old', 'black', 'man', 'in', 'the', 'street', 'in', 'later', 'that', 'year', 'white', 'officer', 'in', 'cleveland', 'ohio', 'shot', 'and', 'killed', 'tamir', 'rice', 'year', 'old', 'black', 'boy', 'rice', 'had', 'been', 'playing', 'with', 'toy', 'gun', 'outside', 'recreation', 'center', 'change', 'in', 'ferguson', 'city', 'elects', 'first', 'black', 'female', 'mayor', 'years', 'after', 'michael', 'brown', 'death', 'in', 'the', 'only', 'of', 'schools', 'had', 'law', 'enforcement', 'officer', 'stationed', 'in', 'them', 'according', 'to', 'federal', 'data', 'now', 'of', 'schools', 'have', 'police', 'officer', 'in', 'the', 'building', 'at', 'least', 'one', 'day', 'week', 'according', 'to', 'the', 'most', 'recent', 'federal', 'data', 'and', 'among', 'large', 'schools', 'almost', 'had', 'sworn', 'officer', 'in', 'the', 'building', 'at', 'least', 'one', 'day', 'week', 'in', 'the', 'school', 'year', 'the', 'number', 'of', 'officers', 'in', 'schools', 'accelerated', 'rapidly', 'after', 'the', 'year', 'of', 'the', 'shooting', 'at', 'columbine', 'high', 'school', 'in', 'colorado', 'the', 'massacre', 'spurred', 'national', 'discussion', 'about', 'school', 'safety', 'and', 'boost', 'in', 'federal', 'funds', 'helped', 'pay', 'for', 'more', 'cops', 'in', 'schools', 'years', 'after', 'columbine', 'survivors', 'find', 'that', 'new', 'normal', 'between', 'and', 'program', 'started', 'under', 'the', 'clinton', 'administration', 'doled', 'out', 'million', 'in', 'grants', 'to', 'police', 'departments', 'to', 'support', 'hiring', 'thousands', 'more', 'school', 'resource', 'officers', 'since', 'then', 'law', 'enforcement', 'in', 'schools', 'seemed', 'like', 'the', 'one', 'thing', 'that', 'district', 'leaders', 'would', 'not', 'change', 'said', 'aaron', 'kupchik', 'professor', 'of', 'sociology', 'and', 'criminal', 'justice', 'at', 'the', 'university', 'of', 'delaware', 'we', 'typically', 'don', 'even', 'discuss', 'it', 'because', 'it', 'common', 'assumption', 'they', 're', 'here', 'to', 'stay', 'kupchik', 'said', 'so', 'people', 'focus', 'on', 'how', 'to', 'make', 'it', 'less', 'harmful', 'like', 'by', 'ending', 'zero', 'tolerance', 'policies', 'and', 'adding', 'more', 'restorative', 'justice', 'programs', 'under', 'zero', 'tolerance', 'students', 'who', 'break', 'school', 'rules', 'are', 'subject', 'to', 'mandatory', 'severe', 'consequences', 'such', 'as', 'being', 'expelled', 'restorative', 'justice', 'programs', 'offer', 'misbehaving', 'students', 'chance', 'to', 'take', 'ownership', 'of', 'their', 'actions', 'talk', 'through', 'what', 'prompted', 'them', 'and', 'repair', 'harm', 'they', 've', 'caused', 'to', 'others', 'restorative', 'justice', 'how', 'circle', 'keeping', 'works', 'at', 'one', 'midwestern', 'school', 'despite', 'talks', 'of', 'reform', 'students', 'social', 'justice', 'groups', 'and', 'the', 'american', 'civil', 'liberties', 'union', 'have', 'been', 'working', 'for', 'years', 'to', 'end', 'school', 'policing', 'long', 'before', 'the', 'calls', 'emerged', 'as', 'part', 'of', 'the', 'floyd', 'protests', 'that', 'key', 'reason', 'districts', 'are', 'taking', 'action', 'now', 'said', 'sarah', 'hinger', 'senior', 'staff', 'attorney', 'for', 'the', 'aclu', 'racial', 'justice', 'program', 'another', 'reason', 'school', 'districts', 'are', 'more', 'inclined', 'now', 'to', 'remove', 'police', 'officers', 'money', 'districts', 'are', 'facing', 'major', 'financial', 'shortfalls', 'because', 'of', 'the', 'covid', 'pandemic', 'and', 'loss', 'of', 'tax', 'revenue', 'because', 'of', 'the', 'economic', 'shutdown', 'it', 'widely', 'acknowledged', 'that', 'low', 'income', 'children', 'group', 'that', 'includes', 'many', 'black', 'and', 'brown', 'children', 'will', 'need', 'more', 'support', 'to', 'get', 'back', 'on', 'track', 'once', 'schools', 'reopen', 'many', 'haven', 'had', 'access', 'to', 'all', 'the', 'tools', 'needed', 'for', 'online', 'learning', 'such', 'as', 'high', 'speed', 'internet', 'or', 'their', 'own', 'computer', 'police', 'contracts', 'are', 'one', 'non', 'academic', 'budget', 'item', 'that', 'could', 'be', 'dropped', 'all', 'of', 'that', 'is', 'contributing', 'to', 'why', 'this', 'movement', 'is', 'really', 'catching', 'on', 'hinger', 'said', 'kids', 'need', 'to', 'talk', 'about', 'george', 'floyd', 'with', 'coronavirus', 'school', 'closures', 'it', 'hard', 'to', 'do', 'seattle', 'public', 'schools', 'announced', 'this', 'week', 'that', 'it', 'would', 'suspend', 'officers', 'from', 'schools', 'for', 'one', 'year', 'in', 'oakland', 'wednesday', 'the', 'school', 'superintendent', 'joined', 'the', 'majority', 'of', 'the', 'school', 'board', 'in', 'backing', 'the', 'elimination', 'of', 'the', 'district', 'in', 'house', 'police', 'force', 'one', 'idea', 'is', 'to', 'replace', 'it', 'with', 'non', 'uniformed', 'ambassadors', 'to', 'keep', 'the', 'peace', 'in', 'schools', 'black', 'students', 'account', 'for', 'of', 'the', 'students', 'arrested', 'in', 'oakland', 'schools', 'while', 'only', 'making', 'up', 'of', 'the', 'district', 'population', 'according', 'to', 'the', 'black', 'organizing', 'project', 'local', 'advocacy', 'group', 'oakland', 'board', 'is', 'slated', 'to', 'vote', 'on', 'eliminating', 'the', 'police', 'force', 'on', 'june', 'some', 'districts', 'are', 'less', 'inclined', 'to', 'remove', 'officers', 'the', 'chicago', 'teachers', 'union', 'has', 'reinvigorated', 'its', 'call', 'for', 'the', 'city', 'to', 'replace', 'school', 'resource', 'officers', 'with', 'counselors', 'but', 'mayor', 'lori', 'lightfoot', 'who', 'runs', 'the', 'city', 'as', 'well', 'as', 'the', 'district', 'indicated', 'she', 'not', 'interested', 'in', 'dumping', 'the', 'million', 'contract', 'with', 'the', 'chicago', 'police', 'department', 'more', 'than', 'three', 'quarters', 'of', 'the', 'city', 'high', 'schools', 'have', 'police', 'in', 'them', 'and', 'the', 'local', 'parent', 'and', 'teacher', 'councils', 'at', 'all', 'of', 'them', 'voted', 'to', 'keep', 'the', 'officers', 'this', 'year', 'according', 'to', 'local', 'news', 'reports', 'unfortunately', 'we', 'need', 'security', 'in', 'our', 'schools', 'lightfoot', 'said', 'in', 'protest', 'chicago', 'teachers', 'and', 'students', 'have', 'recently', 'staged', 'marches', 'and', 'car', 'caravan', 'parades', 'between', 'high', 'schools', 'chicago', 'protests', 'kanye', 'west', 'joins', 'march', 'offers', 'to', 'pay', 'legal', 'fees', 'for', 'breonna', 'taylor', 'family', 'in', 'los', 'angeles', 'the', 'teachers', 'union', 'said', 'monday', 'it', 'supports', 'ending', 'the', 'district', 'in', 'house', 'police', 'force', 'the', 'unit', 'places', 'about', 'officers', 'throughout', 'the', 'nation', 'second', 'largest', 'school', 'district', 'at', 'cost', 'of', 'about', 'million', 'annually', 'but', 'the', 'head', 'of', 'the', 'district', 'school', 'police', 'union', 'said', 'officers', 'are', 'better', 'trained', 'to', 'de', 'escalate', 'situations', 'in', 'buildings', 'than', 'outside', 'cops', 'called', 'to', 'campus', 'according', 'to', 'the', 'los', 'angeles', 'times', 'in', 'phoenix', 'hundreds', 'of', 'students', 'have', 'been', 'protesting', 'the', 'use', 'of', 'on', 'campus', 'police', 'officers', 'but', 'the', 'school', 'board', 'has', 'not', 'yet', 'taken', 'vote', 'on', 'whether', 'to', 'renew', 'the', 'contract', 'there', 'not', 'much', 'good', 'data', 'on', 'what', 'happens', 'when', 'you', 'remove', 'police', 'officers', 'from', 'schools', 'but', 'new', 'york', 'and', 'louisville', 'have', 'tried', 'some', 'new', 'ideas', 'decade', 'ago', 'report', 'from', 'new', 'york', 'city', 'examined', 'how', 'handful', 'of', 'high', 'schools', 'serving', 'at', 'risk', 'students', 'maintained', 'safe', 'environments', 'without', 'police', 'district', 'safety', 'agents', 'patrolled', 'halls', 'instead', 'metal', 'detectors', 'were', 'removed', 'administrators', 'created', 'alternatives', 'to', 'harsh', 'discipline', 'policies', 'the', 'aclu', 'which', 'published', 'the', 'report', 'is', 'notably', 'in', 'favor', 'of', 'removing', 'police', 'from', 'schools', 'in', 'louisville', 'kentucky', 'the', 'jefferson', 'county', 'public', 'schools', 'cut', 'ties', 'with', 'school', 'resource', 'officers', 'last', 'august', 'because', 'of', 'issues', 'related', 'to', 'the', 'criminalization', 'of', 'black', 'students', 'the', 'district', 'this', 'week', 'couldn', 'provide', 'comparison', 'of', 'school', 'arrest', 'data', 'from', 'before', 'and', 'after', 'police', 'were', 'removed', 'but', 'in', 'general', 'according', 'to', 'the', 'louisville', 'courier', 'journal', 'school', 'safety', 'hasn', 'changed', 'much', 'though', 'one', 'school', 'made', 'headlines', 'for', 'some', 'high', 'profile', 'student', 'on', 'teacher', 'altercations', 'louisville', 'has', 'seen', 'even', 'more', 'forceful', 'protests', 'than', 'some', 'cities', 'in', 'the', 'wake', 'of', 'the', 'death', 'of', 'breonna', 'taylor', 'who', 'was', 'shot', 'by', 'white', 'police', 'officer', 'in', 'her', 'bedroom', 'in', 'march', 'district', 'spokesperson', 'in', 'jefferson', 'county', 'said', 'this', 'week', 'the', 'district', 'is', 're', 'evaluating', 'its', 'school', 'safety', 'plan', 'which', 'could', 'still', 'include', 'armed', 'guards', 'in', 'schools', 'in', 'florida', 'janice', 'scott', 'cover', 'former', 'assistant', 'superintendent', 'in', 'the', 'palm', 'beach', 'county', 'school', 'district', 'said', 'administrators', 'can', 'also', 'work', 'harder', 'to', 'identify', 'the', 'root', 'cause', 'of', 'student', 'misbehavior', 'whether', 'cops', 'are', 'there', 'or', 'not', 'when', 'she', 'became', 'principal', 'of', 'troubled', 'elementary', 'school', 'two', 'decades', 'ago', 'the', 'school', 'resource', 'officer', 'arrested', 'children', 'for', 'fighting', 'disrespecting', 'teachers', 'and', 'walking', 'out', 'of', 'class', 'not', 'all', 'the', 'resource', 'officers', 'understand', 'how', 'to', 'police', 'in', 'schools', 'cover', 'said', 'some', 'still', 'behave', 'like', 'they', 're', 'out', 'on', 'the', 'street', 'grabbing', 'people', 'and', 'throwing', 'them', 'down', 'and', 'did', 'not', 'want', 'that', 'on', 'the', 'campus', 'cover', 'rearranged', 'the', 'budget', 'to', 'hire', 'another', 'social', 'worker', 'who', 'became', 'the', 'first', 'stop', 'for', 'misbehaving', 'children', 'she', 'had', 'teachers', 'rearrange', 'classrooms', 'so', 'students', 'worked', 'in', 'groups', 'and', 'practiced', 'cooperation', 'she', 'and', 'her', 'teachers', 'doubled', 'down', 'on', 'prodding', 'into', 'students', 'lives', 'often', 'getting', 'them', 'needed', 'household', 'or', 'personal', 'items', 'over', 'time', 'the', 'climate', 'and', 'academics', 'improved', 'something', 'cover', 'recounts', 'in', 'her', 'book', 'about', 'turning', 'around', 'low', 'performing', 'elementary', 'schools', 'happy', 'now', 'that', 'people', 'are', 'beginning', 'to', 'look', 'at', 'this', 'said', 'cover', 'who', 'is', 'black', 'my', 'hope', 'is', 'that', 'you', 'don', 'just', 'remove', 'the', 'police', 'officers', 'but', 'replace', 'them', 'with', 'something', 'else', 'like', 'counselors', 'or', 'mental', 'health', 'professionals', 'or', 'school', 'psychologists', 'olivia', 'krauth', 'contributed', 'to', 'this', 'story', 'from', 'louisville', 'kentucky', 'lily', 'altavena', 'contributed', 'from', 'phoenix', 'arizona', 'education', 'coverage', 'at', 'usa', 'today', 'is', 'made', 'possible', 'in', 'part', 'by', 'grant', 'from', 'the', 'bill', 'melinda', 'gates', 'foundation', 'the', 'gates', 'foundation', 'does', 'not', 'provide', 'editorial', 'input', 'three', 'summers', 'ago', 'about', 'students', 'and', 'activists', 'gathered', 'outside', 'the', 'minneapolis', 'public', 'schools', 'headquarters', 'to', 'demand', 'the', 'school', 'board', 'end', 'contract', 'that', 'placed', 'police', 'officers', 'in', 'schools', 'the', 'officers', 'whose', 'role', 'was', 'to', 'keep', 'schools', 'safe', 'actually', 'made', 'students', 'especially', 'black', 'students', 'feel', 'criminalized', 'activists', 'said', 'but', 'the', 'majority', 'of', 'teachers', 'staff', 'and', 'parents', 'liked', 'officers', 'in', 'schools', 'district', 'wide', 'survey', 'showed', 'at', 'the', 'time', 'the', 'board', 'renewed', 'the', 'three', 'year', 'contract', 'fast', 'forward', 'to', 'june', 'eight', 'days', 'after', 'george', 'floyd', 'died', 'under', 'the', 'knee', 'of', 'minneapolis', 'police', 'officer', 'the', 'school', 'board', 'revisited', 'that', 'contract', 'and', 'ended', 'it', 'the', 'vote', 'on', 'june', 'after', 'an', 'even', 'larger', 'crowd', 'of', 'protesters', 'gathered', 'outside', 'was', 'unanimous', 'the', 'values', 'we', 'see', 'in', 'the', 'police', 'department', 'do', 'not', 'match', 'our', 'values', 'said', 'kim', 'ellison', 'chair', 'of', 'the', 'minneapolis', 'school', 'board', 'the', 'school', 'board', 'became', 'one', 'of', 'the', 'first', 'major', 'governmental', 'bodies', 'to', 'change', 'the', 'balance', 'of', 'power', 'with', 'police', 'in', 'the', 'wake', 'of', 'floyd', 'death', 'the', 'change', 'has', 'prompted', 'wave', 'of', 'districts', 'nationwide', 'to', 'consider', 'terminating', 'their', 'relationships', 'with', 'police', 'from', 'chicago', 'new', 'york', 'and', 'los', 'angeles', 'to', 'smaller', 'cities', 'like', 'rochester', 'new', 'york', 'columbus', 'ohio', 'and', 'portland', 'maine', 'and', 'fort', 'collins', 'colorado', 'students', 'and', 'activists', 'are', 'demanding', 'the', 'discontinuation', 'of', 'school', 'resource', 'officers', 'they', 'want', 'the', 'money', 'spent', 'on', 'those', 'programs', 'to', 'go', 'to', 'other', 'peacekeeping', 'strategies', 'teen', 'activists', 'too', 'young', 'to', 'vote', 'in', 'but', 'fighting', 'for', 'change', 'police', 'in', 'schools', 'contribute', 'to', 'the', 'marginalization', 'of', 'students', 'of', 'color', 'they', 'say', 'that', 'because', 'schools', 'with', 'large', 'populations', 'of', 'black', 'and', 'brown', 'students', 'are', 'more', 'likely', 'to', 'have', 'law', 'enforcement', 'on', 'site', 'and', 'in', 'those', 'places', 'students', 'are', 'more', 'likely', 'to', 'be', 'arrested', 'for', 'certain', 'behaviors', 'rather', 'than', 'disciplined', 'by', 'an', 'administrator', 'last', 'week', 'portland', 'oregon', 'school', 'superintendent', 'announced', 'he', 'planned', 'to', 'remove', 'police', 'from', 'schools', 'denver', 'school', 'board', 'is', 'slated', 'to', 'vote', 'thursday', 'on', 'ending', 'contract', 'for', 'uniformed', 'officers', 'in', 'oakland', 'california', 'the', 'majority', 'of', 'the', 'school', 'board', 'and', 'superintendent', 'wednesday', 'backed', 'proposal', 'to', 'eliminate', 'the', 'district', 'million', 'internal', 'police', 'force', 'despite', 'concerns', 'from', 'some', 'principals', 'according', 'to', 'the', 'san', 'francisco', 'chronicle', 'advocates', 'for', 'school', 'resource', 'officers', 'say', 'the', 'problem', 'lies', 'with', 'inconsistent', 'training', 'for', 'law', 'enforcement', 'on', 'how', 'to', 'work', 'with', 'students', 'making', 'rash', 'moves', 'to', 'end', 'the', 'programs', 'because', 'of', 'political', 'and', 'social', 'pressure', 'could', 'make', 'schools', 'less', 'safe', 'they', 'say', 'and', 'also', 'disrupt', 'the', 'opportunity', 'for', 'healthy', 'relationships', 'to', 'grow', 'between', 'law', 'enforcement', 'and', 'students', 'when', 'this', 'is', 'done', 'the', 'right', 'way', 'it', 'the', 'epitome', 'of', 'community', 'based', 'policing', 'said', 'mo', 'canady', 'executive', 'director', 'of', 'the', 'national', 'association', 'of', 'school', 'resource', 'officers', 'that', 'philosophy', 'where', 'police', 'and', 'the', 'community', 'work', 'together', 'to', 'solve', 'crimes', 'and', 'improve', 'everyone', 'quality', 'of', 'life', 'canady', 'organization', 'trains', 'officers', 'how', 'to', 'enforce', 'the', 'law', 'in', 'school', 'setting', 'informally', 'counsel', 'students', 'and', 'act', 'as', 'an', 'educator', 'but', 'nothing', 'requires', 'school', 'resource', 'officers', 'to', 'undergo', 'such', 'training', 'canady', 'said', 'there', 'federal', 'resistance', 'to', 'that', 'idea', 'out', 'of', 'respect', 'for', 'the', 'tradition', 'of', 'local', 'control', 'he', 'added', 'it', 'better', 'if', 'districts', 'would', 'say', 'we', 'need', 'these', 'officers', 'trained', 'on', 'national', 'level', 'canady', 'said', 'nationally', 'protesters', 'seeking', 'justice', 'for', 'floyd', 'want', 'to', 'reduce', 'city', 'police', 'department', 'budgets', 'and', 'redirect', 'more', 'money', 'to', 'social', 'services', 'but', 'what', 'happening', 'at', 'schools', 'offers', 'window', 'into', 'the', 'relationship', 'between', 'law', 'enforcement', 'and', 'youth', 'while', 'police', 'have', 'been', 'stationed', 'in', 'schools', 'for', 'decades', 'they', 'don', 'make', 'schools', 'overwhelmingly', 'more', 'safe', 'studies', 'show', 'review', 'of', 'the', 'most', 'comprehensive', 'studies', 'on', 'school', 'based', 'law', 'enforcement', 'showed', 'the', 'officers', 'did', 'not', 'improve', 'students', 'perception', 'of', 'safety', 'and', 'out', 'of', 'school', 'suspensions', 'and', 'expulsions', 'increased', 'after', 'school', 'resource', 'officers', 'were', 'introduced', 'to', 'building', 'it', 'not', 'like', 'there', 'really', 'strong', 'research', 'base', 'that', 'says', 'with', 'police', 'in', 'schools', 'crime', 'goes', 'down', 'and', 'bullying', 'goes', 'down', 'and', 'there', 'are', 'no', 'shootings', 'said', 'anthony', 'petrosino', 'director', 'of', 'the', 'justice', 'and', 'prevention', 'research', 'center', 'at', 'wested', 'nonpartisan', 'research', 'organization', 'that', 'focuses', 'on', 'education', 'school', 'policing', 'is', 'much', 'more', 'common', 'in', 'schools', 'with', 'kids', 'of', 'color', 'petrosino', 'added', 'there', 'real', 'question', 'of', 'whether', 'it', 'helping', 'or', 'hurting', 'is', 'it', 'leading', 'to', 'more', 'of', 'these', 'kids', 'being', 'involved', 'in', 'the', 'justice', 'system', 'or', 'being', 'kicked', 'out', 'of', 'school', 'one', 'big', 'problem', 'is', 'children', 'of', 'racial', 'minorities', 'especially', 'black', 'students', 'are', 'more', 'likely', 'to', 'be', 'suspended', 'and', 'expelled', 'from', 'school', 'than', 'white', 'students', 'even', 'when', 'they', 'commit', 'similar', 'offenses', 'research', 'shows', 'pushed', 'out', 'and', 'punished', 'black', 'girls', 'punished', 'more', 'harshly', 'than', 'white', 'girls', 'and', 'of', 'the', 'approximate', 'million', 'students', 'in', 'america', 'attending', 'schools', 'with', 'police', 'officers', 'but', 'no', 'counselors', 'more', 'of', 'those', 'students', 'are', 'black', 'than', 'white', 'by', 'contrast', 'white', 'students', 'are', 'more', 'likely', 'to', 'attend', 'schools', 'with', 'counselors', 'but', 'not', 'police', 'federal', 'data', 'show', 'on', 'top', 'of', 'that', 'number', 'of', 'high', 'profile', 'incidents', 'in', 'recent', 'years', 'have', 'put', 'spotlight', 'on', 'police', 'brutality', 'toward', 'black', 'kids', 'and', 'teens', 'inside', 'and', 'outside', 'of', 'school', 'white', 'school', 'resource', 'officer', 'in', 'south', 'carolina', 'high', 'school', 'flipped', 'black', 'girl', 'out', 'of', 'her', 'desk', 'and', 'dragged', 'her', 'across', 'the', 'floor', 'in', 'black', 'school', 'resource', 'officer', 'in', 'orlando', 'arrested', 'sobbing', 'year', 'old', 'black', 'student', 'in', 'september', 'securing', 'her', 'with', 'zip', 'ties', 'because', 'she', 'was', 'too', 'small', 'for', 'handcuffs', 'white', 'officer', 'in', 'ferguson', 'missouri', 'shot', 'and', 'killed', 'michael', 'brown', 'an', 'unarmed', 'year', 'old', 'black', 'man', 'in', 'the', 'street', 'in', 'later', 'that', 'year', 'white', 'officer', 'in', 'cleveland', 'ohio', 'shot', 'and', 'killed', 'tamir', 'rice', 'year', 'old', 'black', 'boy', 'rice', 'had', 'been', 'playing', 'with', 'toy', 'gun', 'outside', 'recreation', 'center', 'change', 'in', 'ferguson', 'city', 'elects', 'first', 'black', 'female', 'mayor', 'years', 'after', 'michael', 'brown', 'death', 'in', 'the', 'only', 'of', 'schools', 'had', 'law', 'enforcement', 'officer', 'stationed', 'in', 'them', 'according', 'to', 'federal', 'data', 'now', 'of', 'schools', 'have', 'police', 'officer', 'in', 'the', 'building', 'at', 'least', 'one', 'day', 'week', 'according', 'to', 'the', 'most', 'recent', 'federal', 'data', 'and', 'among', 'large', 'schools', 'almost', 'had', 'sworn', 'officer', 'in', 'the', 'building', 'at', 'least', 'one', 'day', 'week', 'in', 'the', 'school', 'year', 'the', 'number', 'of', 'officers', 'in', 'schools', 'accelerated', 'rapidly', 'after', 'the', 'year', 'of', 'the', 'shooting', 'at', 'columbine', 'high', 'school', 'in', 'colorado', 'the', 'massacre', 'spurred', 'national', 'discussion', 'about', 'school', 'safety', 'and', 'boost', 'in', 'federal', 'funds', 'helped', 'pay', 'for', 'more', 'cops', 'in', 'schools', 'years', 'after', 'columbine', 'survivors', 'find', 'that', 'new', 'normal', 'between', 'and', 'program', 'started', 'under', 'the', 'clinton', 'administration', 'doled', 'out', 'million', 'in', 'grants', 'to', 'police', 'departments', 'to', 'support', 'hiring', 'thousands', 'more', 'school', 'resource', 'officers', 'since', 'then', 'law', 'enforcement', 'in', 'schools', 'seemed', 'like', 'the', 'one', 'thing', 'that', 'district', 'leaders', 'would', 'not', 'change', 'said', 'aaron', 'kupchik', 'professor', 'of', 'sociology', 'and', 'criminal', 'justice', 'at', 'the', 'university', 'of', 'delaware', 'we', 'typically', 'don', 'even', 'discuss', 'it', 'because', 'it', 'common', 'assumption', 'they', 're', 'here', 'to', 'stay', 'kupchik', 'said', 'so', 'people', 'focus', 'on', 'how', 'to', 'make', 'it', 'less', 'harmful', 'like', 'by', 'ending', 'zero', 'tolerance', 'policies', 'and', 'adding', 'more', 'restorative', 'justice', 'programs', 'under', 'zero', 'tolerance', 'students', 'who', 'break', 'school', 'rules', 'are', 'subject', 'to', 'mandatory', 'severe', 'consequences', 'such', 'as', 'being', 'expelled', 'restorative', 'justice', 'programs', 'offer', 'misbehaving', 'students', 'chance', 'to', 'take', 'ownership', 'of', 'their', 'actions', 'talk', 'through', 'what', 'prompted', 'them', 'and', 'repair', 'harm', 'they', 've', 'caused', 'to', 'others', 'restorative', 'justice', 'how', 'circle', 'keeping', 'works', 'at', 'one', 'midwestern', 'school', 'despite', 'talks', 'of', 'reform', 'students', 'social', 'justice', 'groups', 'and', 'the', 'american', 'civil', 'liberties', 'union', 'have', 'been', 'working', 'for', 'years', 'to', 'end', 'school', 'policing', 'long', 'before', 'the', 'calls', 'emerged', 'as', 'part', 'of', 'the', 'floyd', 'protests', 'that', 'key', 'reason', 'districts', 'are', 'taking', 'action', 'now', 'said', 'sarah', 'hinger', 'senior', 'staff', 'attorney', 'for', 'the', 'aclu', 'racial', 'justice', 'program', 'another', 'reason', 'school', 'districts', 'are', 'more', 'inclined', 'now', 'to', 'remove', 'police', 'officers', 'money', 'districts', 'are', 'facing', 'major', 'financial', 'shortfalls', 'because', 'of', 'the', 'covid', 'pandemic', 'and', 'loss', 'of', 'tax', 'revenue', 'because', 'of', 'the', 'economic', 'shutdown', 'it', 'widely', 'acknowledged', 'that', 'low', 'income', 'children', 'group', 'that', 'includes', 'many', 'black', 'and', 'brown', 'children', 'will', 'need', 'more', 'support', 'to', 'get', 'back', 'on', 'track', 'once', 'schools', 'reopen', 'many', 'haven', 'had', 'access', 'to', 'all', 'the', 'tools', 'needed', 'for', 'online', 'learning', 'such', 'as', 'high', 'speed', 'internet', 'or', 'their', 'own', 'computer', 'police', 'contracts', 'are', 'one', 'non', 'academic', 'budget', 'item', 'that', 'could', 'be', 'dropped', 'all', 'of', 'that', 'is', 'contributing', 'to', 'why', 'this', 'movement', 'is', 'really', 'catching', 'on', 'hinger', 'said', 'kids', 'need', 'to', 'talk', 'about', 'george', 'floyd', 'with', 'coronavirus', 'school', 'closures', 'it', 'hard', 'to', 'do', 'seattle', 'public', 'schools', 'announced', 'this', 'week', 'that', 'it', 'would', 'suspend', 'officers', 'from', 'schools', 'for', 'one', 'year', 'in', 'oakland', 'wednesday', 'the', 'school', 'superintendent', 'joined', 'the', 'majority', 'of', 'the', 'school', 'board', 'in', 'backing', 'the', 'elimination', 'of', 'the', 'district', 'in', 'house', 'police', 'force', 'one', 'idea', 'is', 'to', 'replace', 'it', 'with', 'non', 'uniformed', 'ambassadors', 'to', 'keep', 'the', 'peace', 'in', 'schools', 'black', 'students', 'account', 'for', 'of', 'the', 'students', 'arrested', 'in', 'oakland', 'schools', 'while', 'only', 'making', 'up', 'of', 'the', 'district', 'population', 'according', 'to', 'the', 'black', 'organizing', 'project', 'local', 'advocacy', 'group', 'oakland', 'board', 'is', 'slated', 'to', 'vote', 'on', 'eliminating', 'the', 'police', 'force', 'on', 'june', 'some', 'districts', 'are', 'less', 'inclined', 'to', 'remove', 'officers', 'the', 'chicago', 'teachers', 'union', 'has', 'reinvigorated', 'its', 'call', 'for', 'the', 'city', 'to', 'replace', 'school', 'resource', 'officers', 'with', 'counselors', 'but', 'mayor', 'lori', 'lightfoot', 'who', 'runs', 'the', 'city', 'as', 'well', 'as', 'the', 'district', 'indicated', 'she', 'not', 'interested', 'in', 'dumping', 'the', 'million', 'contract', 'with', 'the', 'chicago', 'police', 'department', 'more', 'than', 'three', 'quarters', 'of', 'the', 'city', 'high', 'schools', 'have', 'police', 'in', 'them', 'and', 'the', 'local', 'parent', 'and', 'teacher', 'councils', 'at', 'all', 'of', 'them', 'voted', 'to', 'keep', 'the', 'officers', 'this', 'year', 'according', 'to', 'local', 'news', 'reports', 'unfortunately', 'we', 'need', 'security', 'in', 'our', 'schools', 'lightfoot', 'said', 'in', 'protest', 'chicago', 'teachers', 'and', 'students', 'have', 'recently', 'staged', 'marches', 'and', 'car', 'caravan', 'parades', 'between', 'high', 'schools', 'chicago', 'protests', 'kanye', 'west', 'joins', 'march', 'offers', 'to', 'pay', 'legal', 'fees', 'for', 'breonna', 'taylor', 'family', 'in', 'los', 'angeles', 'the', 'teachers', 'union', 'said', 'monday', 'it', 'supports', 'ending', 'the', 'district', 'in', 'house', 'police', 'force', 'the', 'unit', 'places', 'about', 'officers', 'throughout', 'the', 'nation', 'second', 'largest', 'school', 'district', 'at', 'cost', 'of', 'about', 'million', 'annually', 'but', 'the', 'head', 'of', 'the', 'district', 'school', 'police', 'union', 'said', 'officers', 'are', 'better', 'trained', 'to', 'de', 'escalate', 'situations', 'in', 'buildings', 'than', 'outside', 'cops', 'called', 'to', 'campus', 'according', 'to', 'the', 'los', 'angeles', 'times', 'in', 'phoenix', 'hundreds', 'of', 'students', 'have', 'been', 'protesting', 'the', 'use', 'of', 'on', 'campus', 'police', 'officers', 'but', 'the', 'school', 'board', 'has', 'not', 'yet', 'taken', 'vote', 'on', 'whether', 'to', 'renew', 'the', 'contract', 'there', 'not', 'much', 'good', 'data', 'on', 'what', 'happens', 'when', 'you', 'remove', 'police', 'officers', 'from', 'schools', 'but', 'new', 'york', 'and', 'louisville', 'have', 'tried', 'some', 'new', 'ideas', 'decade', 'ago', 'report', 'from', 'new', 'york', 'city', 'examined', 'how', 'handful', 'of', 'high', 'schools', 'serving', 'at', 'risk', 'students', 'maintained', 'safe', 'environments', 'without', 'police', 'district', 'safety', 'agents', 'patrolled', 'halls', 'instead', 'metal', 'detectors', 'were', 'removed', 'administrators', 'created', 'alternatives', 'to', 'harsh', 'discipline', 'policies', 'the', 'aclu', 'which', 'published', 'the', 'report', 'is', 'notably', 'in', 'favor', 'of', 'removing', 'police', 'from', 'schools', 'in', 'louisville', 'kentucky', 'the', 'jefferson', 'county', 'public', 'schools', 'cut', 'ties', 'with', 'school', 'resource', 'officers', 'last', 'august', 'because', 'of', 'issues', 'related', 'to', 'the', 'criminalization', 'of', 'black', 'students', 'the', 'district', 'this', 'week', 'couldn', 'provide', 'comparison', 'of', 'school', 'arrest', 'data', 'from', 'before', 'and', 'after', 'police', 'were', 'removed', 'but', 'in', 'general', 'according', 'to', 'the', 'louisville', 'courier', 'journal', 'school', 'safety', 'hasn', 'changed', 'much', 'though', 'one', 'school', 'made', 'headlines', 'for', 'some', 'high', 'profile', 'student', 'on', 'teacher', 'altercations', 'louisville', 'has', 'seen', 'even', 'more', 'forceful', 'protests', 'than', 'some', 'cities', 'in', 'the', 'wake', 'of', 'the', 'death', 'of', 'breonna', 'taylor', 'who', 'was', 'shot', 'by', 'white', 'police', 'officer', 'in', 'her', 'bedroom', 'in', 'march', 'district', 'spokesperson', 'in', 'jefferson', 'county', 'said', 'this', 'week', 'the', 'district', 'is', 're', 'evaluating', 'its', 'school', 'safety', 'plan', 'which', 'could', 'still', 'include', 'armed', 'guards', 'in', 'schools', 'in', 'florida', 'janice', 'scott', 'cover', 'former', 'assistant', 'superintendent', 'in', 'the', 'palm', 'beach', 'county', 'school', 'district', 'said', 'administrators', 'can', 'also', 'work', 'harder', 'to', 'identify', 'the', 'root', 'cause', 'of', 'student', 'misbehavior', 'whether', 'cops', 'are', 'there', 'or', 'not', 'when', 'she', 'became', 'principal', 'of', 'troubled', 'elementary', 'school', 'two', 'decades', 'ago', 'the', 'school', 'resource', 'officer', 'arrested', 'children', 'for', 'fighting', 'disrespecting', 'teachers', 'and', 'walking', 'out', 'of', 'class', 'not', 'all', 'the', 'resource', 'officers', 'understand', 'how', 'to', 'police', 'in', 'schools', 'cover', 'said', 'some', 'still', 'behave', 'like', 'they', 're', 'out', 'on', 'the', 'street', 'grabbing', 'people', 'and', 'throwing', 'them', 'down', 'and', 'did', 'not', 'want', 'that', 'on', 'the', 'campus', 'cover', 'rearranged', 'the', 'budget', 'to', 'hire', 'another', 'social', 'worker', 'who', 'became', 'the', 'first', 'stop', 'for', 'misbehaving', 'children', 'she', 'had', 'teachers', 'rearrange', 'classrooms', 'so', 'students', 'worked', 'in', 'groups', 'and', 'practiced', 'cooperation', 'she', 'and', 'her', 'teachers', 'doubled', 'down', 'on', 'prodding', 'into', 'students', 'lives', 'often', 'getting', 'them', 'needed', 'household', 'or', 'personal', 'items', 'over', 'time', 'the', 'climate', 'and', 'academics', 'improved', 'something', 'cover', 'recounts', 'in', 'her', 'book', 'about', 'turning', 'around', 'low', 'performing', 'elementary', 'schools', 'happy', 'now', 'that', 'people', 'are', 'beginning', 'to', 'look', 'at', 'this', 'said', 'cover', 'who', 'is', 'black', 'my', 'hope', 'is', 'that', 'you', 'don', 'just', 'remove', 'the', 'police', 'officers', 'but', 'replace', 'them', 'with', 'something', 'else', 'like', 'counselors', 'or', 'mental', 'health', 'professionals', 'or', 'school', 'psychologists', 'olivia', 'krauth', 'contributed', 'to', 'this', 'story', 'from', 'louisville', 'kentucky', 'lily', 'altavena', 'contributed', 'from', 'phoenix', 'arizona', 'education', 'coverage', 'at', 'usa', 'today', 'is', 'made', 'possible', 'in', 'part', 'by', 'grant', 'from', 'the', 'bill', 'melinda', 'gates', 'foundation', 'the', 'gates', 'foundation', 'does', 'not', 'provide', 'editorial', 'input', 'three', 'summers', 'ago', 'about', 'students', 'and', 'activists', 'gathered', 'outside', 'the', 'minneapolis', 'public', 'schools', 'headquarters', 'to', 'demand', 'the', 'school', 'board', 'end', 'contract', 'that', 'placed', 'police', 'officers', 'in', 'schools', 'the', 'officers', 'whose', 'role', 'was', 'to', 'keep', 'schools', 'safe', 'actually', 'made', 'students', 'especially', 'black', 'students', 'feel', 'criminalized', 'activists', 'said', 'but', 'the', 'majority', 'of', 'teachers', 'staff', 'and', 'parents', 'liked', 'officers', 'in', 'schools', 'district', 'wide', 'survey', 'showed', 'at', 'the', 'time', 'the', 'board', 'renewed', 'the', 'three', 'year', 'contract', 'fast', 'forward', 'to', 'june', 'eight', 'days', 'after', 'george', 'floyd', 'died', 'under', 'the', 'knee', 'of', 'minneapolis', 'police', 'officer', 'the', 'school', 'board', 'revisited', 'that', 'contract', 'and', 'ended', 'it', 'the', 'vote', 'on', 'june', 'after', 'an', 'even', 'larger', 'crowd', 'of', 'protesters', 'gathered', 'outside', 'was', 'unanimous', 'the', 'values', 'we', 'see', 'in', 'the', 'police', 'department', 'do', 'not', 'match', 'our', 'values', 'said', 'kim', 'ellison', 'chair', 'of', 'the', 'minneapolis', 'school', 'board', 'the', 'school', 'board', 'became', 'one', 'of', 'the', 'first', 'major', 'governmental', 'bodies', 'to', 'change', 'the', 'balance', 'of', 'power', 'with', 'police', 'in', 'the', 'wake', 'of', 'floyd', 'death', 'the', 'change', 'has', 'prompted', 'wave', 'of', 'districts', 'nationwide', 'to', 'consider', 'terminating', 'their', 'relationships', 'with', 'police', 'from', 'chicago', 'new', 'york', 'and', 'los', 'angeles', 'to', 'smaller', 'cities', 'like', 'rochester', 'new', 'york', 'columbus', 'ohio', 'and', 'portland', 'maine', 'and', 'fort', 'collins', 'colorado', 'students', 'and', 'activists', 'are', 'demanding', 'the', 'discontinuation', 'of', 'school', 'resource', 'officers', 'they', 'want', 'the', 'money', 'spent', 'on', 'those', 'programs', 'to', 'go', 'to', 'other', 'peacekeeping', 'strategies', 'teen', 'activists', 'too', 'young', 'to', 'vote', 'in', 'but', 'fighting', 'for', 'change', 'police', 'in', 'schools', 'contribute', 'to', 'the', 'marginalization', 'of', 'students', 'of', 'color', 'they', 'say', 'that', 'because', 'schools', 'with', 'large', 'populations', 'of', 'black', 'and', 'brown', 'students', 'are', 'more', 'likely', 'to', 'have', 'law', 'enforcement', 'on', 'site', 'and', 'in', 'those', 'places', 'students', 'are', 'more', 'likely', 'to', 'be', 'arrested', 'for', 'certain', 'behaviors', 'rather', 'than', 'disciplined', 'by', 'an', 'administrator', 'last', 'week', 'portland', 'oregon', 'school', 'superintendent', 'announced', 'he', 'planned', 'to', 'remove', 'police', 'from', 'schools', 'denver', 'school', 'board', 'is', 'slated', 'to', 'vote', 'thursday', 'on', 'ending', 'contract', 'for', 'uniformed', 'officers', 'in', 'oakland', 'california', 'the', 'majority', 'of', 'the', 'school', 'board', 'and', 'superintendent', 'wednesday', 'backed', 'proposal', 'to', 'eliminate', 'the', 'district', 'million', 'internal', 'police', 'force', 'despite', 'concerns', 'from', 'some', 'principals', 'according', 'to', 'the', 'san', 'francisco', 'chronicle', 'advocates', 'for', 'school', 'resource', 'officers', 'say', 'the', 'problem', 'lies', 'with', 'inconsistent', 'training', 'for', 'law', 'enforcement', 'on', 'how', 'to', 'work', 'with', 'students', 'making', 'rash', 'moves', 'to', 'end', 'the', 'programs', 'because', 'of', 'political', 'and', 'social', 'pressure', 'could', 'make', 'schools', 'less', 'safe', 'they', 'say', 'and', 'also', 'disrupt', 'the', 'opportunity', 'for', 'healthy', 'relationships', 'to', 'grow', 'between', 'law', 'enforcement', 'and', 'students', 'when', 'this', 'is', 'done', 'the', 'right', 'way', 'it', 'the', 'epitome', 'of', 'community', 'based', 'policing', 'said', 'mo', 'canady', 'executive', 'director', 'of', 'the', 'national', 'association', 'of', 'school', 'resource', 'officers', 'that', 'philosophy', 'where', 'police', 'and', 'the', 'community', 'work', 'together', 'to', 'solve', 'crimes', 'and', 'improve', 'everyone', 'quality', 'of', 'life', 'canady', 'organization', 'trains', 'officers', 'how', 'to', 'enforce', 'the', 'law', 'in', 'school', 'setting', 'informally', 'counsel', 'students', 'and', 'act', 'as', 'an', 'educator', 'but', 'nothing', 'requires', 'school', 'resource', 'officers', 'to', 'undergo', 'such', 'training', 'canady', 'said', 'there', 'federal', 'resistance', 'to', 'that', 'idea', 'out', 'of', 'respect', 'for', 'the', 'tradition', 'of', 'local', 'control', 'he', 'added', 'it', 'better', 'if', 'districts', 'would', 'say', 'we', 'need', 'these', 'officers', 'trained', 'on', 'national', 'level', 'canady', 'said', 'nationally', 'protesters', 'seeking', 'justice', 'for', 'floyd', 'want', 'to', 'reduce', 'city', 'police', 'department', 'budgets', 'and', 'redirect', 'more', 'money', 'to', 'social', 'services', 'but', 'what', 'happening', 'at', 'schools', 'offers', 'window', 'into', 'the', 'relationship', 'between', 'law', 'enforcement', 'and', 'youth', 'while', 'police', 'have', 'been', 'stationed', 'in', 'schools', 'for', 'decades', 'they', 'don', 'make', 'schools', 'overwhelmingly', 'more', 'safe', 'studies', 'show', 'review', 'of', 'the', 'most', 'comprehensive', 'studies', 'on', 'school', 'based', 'law', 'enforcement', 'showed', 'the', 'officers', 'did', 'not', 'improve', 'students', 'perception', 'of', 'safety', 'and', 'out', 'of', 'school', 'suspensions', 'and', 'expulsions', 'increased', 'after', 'school', 'resource', 'officers', 'were', 'introduced', 'to', 'building', 'it', 'not', 'like', 'there', 'really', 'strong', 'research', 'base', 'that', 'says', 'with', 'police', 'in', 'schools', 'crime', 'goes', 'down', 'and', 'bullying', 'goes', 'down', 'and', 'there', 'are', 'no', 'shootings', 'said', 'anthony', 'petrosino', 'director', 'of', 'the', 'justice', 'and', 'prevention', 'research', 'center', 'at', 'wested', 'nonpartisan', 'research', 'organization', 'that', 'focuses', 'on', 'education', 'school', 'policing', 'is', 'much', 'more', 'common', 'in', 'schools', 'with', 'kids', 'of', 'color', 'petrosino', 'added', 'there', 'real', 'question', 'of', 'whether', 'it', 'helping', 'or', 'hurting', 'is', 'it', 'leading', 'to', 'more', 'of', 'these', 'kids', 'being', 'involved', 'in', 'the', 'justice', 'system', 'or', 'being', 'kicked', 'out', 'of', 'school', 'one', 'big', 'problem', 'is', 'children', 'of', 'racial', 'minorities', 'especially', 'black', 'students', 'are', 'more', 'likely', 'to', 'be', 'suspended', 'and', 'expelled', 'from', 'school', 'than', 'white', 'students', 'even', 'when', 'they', 'commit', 'similar', 'offenses', 'research', 'shows', 'pushed', 'out', 'and', 'punished', 'black', 'girls', 'punished', 'more', 'harshly', 'than', 'white', 'girls', 'and', 'of', 'the', 'approximate', 'million', 'students', 'in', 'america', 'attending', 'schools', 'with', 'police', 'officers', 'but', 'no', 'counselors', 'more', 'of', 'those', 'students', 'are', 'black', 'than', 'white', 'by', 'contrast', 'white', 'students', 'are', 'more', 'likely', 'to', 'attend', 'schools', 'with', 'counselors', 'but', 'not', 'police', 'federal', 'data', 'show', 'on', 'top', 'of', 'that', 'number', 'of', 'high', 'profile', 'incidents', 'in', 'recent', 'years', 'have', 'put', 'spotlight', 'on', 'police', 'brutality', 'toward', 'black', 'kids', 'and', 'teens', 'inside', 'and', 'outside', 'of', 'school', 'white', 'school', 'resource', 'officer', 'in', 'south', 'carolina', 'high', 'school', 'flipped', 'black', 'girl', 'out', 'of', 'her', 'desk', 'and', 'dragged', 'her', 'across', 'the', 'floor', 'in', 'black', 'school', 'resource', 'officer', 'in', 'orlando', 'arrested', 'sobbing', 'year', 'old', 'black', 'student', 'in', 'september', 'securing', 'her', 'with', 'zip', 'ties', 'because', 'she', 'was', 'too', 'small', 'for', 'handcuffs', 'white', 'officer', 'in', 'ferguson', 'missouri', 'shot', 'and', 'killed', 'michael', 'brown', 'an', 'unarmed', 'year', 'old', 'black', 'man', 'in', 'the', 'street', 'in', 'later', 'that', 'year', 'white', 'officer', 'in', 'cleveland', 'ohio', 'shot', 'and', 'killed', 'tamir', 'rice', 'year', 'old', 'black', 'boy', 'rice', 'had', 'been', 'playing', 'with', 'toy', 'gun', 'outside', 'recreation', 'center', 'change', 'in', 'ferguson', 'city', 'elects', 'first', 'black', 'female', 'mayor', 'years', 'after', 'michael', 'brown', 'death', 'in', 'the', 'only', 'of', 'schools', 'had', 'law', 'enforcement', 'officer', 'stationed', 'in', 'them', 'according', 'to', 'federal', 'data', 'now', 'of', 'schools', 'have', 'police', 'officer', 'in', 'the', 'building', 'at', 'least', 'one', 'day', 'week', 'according', 'to', 'the', 'most', 'recent', 'federal', 'data', 'and', 'among', 'large', 'schools', 'almost', 'had', 'sworn', 'officer', 'in', 'the', 'building', 'at', 'least', 'one', 'day', 'week', 'in', 'the', 'school', 'year', 'the', 'number', 'of', 'officers', 'in', 'schools', 'accelerated', 'rapidly', 'after', 'the', 'year', 'of', 'the', 'shooting', 'at', 'columbine', 'high', 'school', 'in', 'colorado', 'the', 'massacre', 'spurred', 'national', 'discussion', 'about', 'school', 'safety', 'and', 'boost', 'in', 'federal', 'funds', 'helped', 'pay', 'for', 'more', 'cops', 'in', 'schools', 'years', 'after', 'columbine', 'survivors', 'find', 'that', 'new', 'normal', 'between', 'and', 'program', 'started', 'under', 'the', 'clinton', 'administration', 'doled', 'out', 'million', 'in', 'grants', 'to', 'police', 'departments', 'to', 'support', 'hiring', 'thousands', 'more', 'school', 'resource', 'officers', 'since', 'then', 'law', 'enforcement', 'in', 'schools', 'seemed', 'like', 'the', 'one', 'thing', 'that', 'district', 'leaders', 'would', 'not', 'change', 'said', 'aaron', 'kupchik', 'professor', 'of', 'sociology', 'and', 'criminal', 'justice', 'at', 'the', 'university', 'of', 'delaware', 'we', 'typically', 'don', 'even', 'discuss', 'it', 'because', 'it', 'common', 'assumption', 'they', 're', 'here', 'to', 'stay', 'kupchik', 'said', 'so', 'people', 'focus', 'on', 'how', 'to', 'make', 'it', 'less', 'harmful', 'like', 'by', 'ending', 'zero', 'tolerance', 'policies', 'and', 'adding', 'more', 'restorative', 'justice', 'programs', 'under', 'zero', 'tolerance', 'students', 'who', 'break', 'school', 'rules', 'are', 'subject', 'to', 'mandatory', 'severe', 'consequences', 'such', 'as', 'being', 'expelled', 'restorative', 'justice', 'programs', 'offer', 'misbehaving', 'students', 'chance', 'to', 'take', 'ownership', 'of', 'their', 'actions', 'talk', 'through', 'what', 'prompted', 'them', 'and', 'repair', 'harm', 'they', 've', 'caused', 'to', 'others', 'restorative', 'justice', 'how', 'circle', 'keeping', 'works', 'at', 'one', 'midwestern', 'school', 'despite', 'talks', 'of', 'reform', 'students', 'social', 'justice', 'groups', 'and', 'the', 'american', 'civil', 'liberties', 'union', 'have', 'been', 'working', 'for', 'years', 'to', 'end', 'school', 'policing', 'long', 'before', 'the', 'calls', 'emerged', 'as', 'part', 'of', 'the', 'floyd', 'protests', 'that', 'key', 'reason', 'districts', 'are', 'taking', 'action', 'now', 'said', 'sarah', 'hinger', 'senior', 'staff', 'attorney', 'for', 'the', 'aclu', 'racial', 'justice', 'program', 'another', 'reason', 'school', 'districts', 'are', 'more', 'inclined', 'now', 'to', 'remove', 'police', 'officers', 'money', 'districts', 'are', 'facing', 'major', 'financial', 'shortfalls', 'because', 'of', 'the', 'covid', 'pandemic', 'and', 'loss', 'of', 'tax', 'revenue', 'because', 'of', 'the', 'economic', 'shutdown', 'it', 'widely', 'acknowledged', 'that', 'low', 'income', 'children', 'group', 'that', 'includes', 'many', 'black', 'and', 'brown', 'children', 'will', 'need', 'more', 'support', 'to', 'get', 'back', 'on', 'track', 'once', 'schools', 'reopen', 'many', 'haven', 'had', 'access', 'to', 'all', 'the', 'tools', 'needed', 'for', 'online', 'learning', 'such', 'as', 'high', 'speed', 'internet', 'or', 'their', 'own', 'computer', 'police', 'contracts', 'are', 'one', 'non', 'academic', 'budget', 'item', 'that', 'could', 'be', 'dropped', 'all', 'of', 'that', 'is', 'contributing', 'to', 'why', 'this', 'movement', 'is', 'really', 'catching', 'on', 'hinger', 'said', 'kids', 'need', 'to', 'talk', 'about', 'george', 'floyd', 'with', 'coronavirus', 'school', 'closures', 'it', 'hard', 'to', 'do', 'seattle', 'public', 'schools', 'announced', 'this', 'week', 'that', 'it', 'would', 'suspend', 'officers', 'from', 'schools', 'for', 'one', 'year', 'in', 'oakland', 'wednesday', 'the', 'school', 'superintendent', 'joined', 'the', 'majority', 'of', 'the', 'school', 'board', 'in', 'backing', 'the', 'elimination', 'of', 'the', 'district', 'in', 'house', 'police', 'force', 'one', 'idea', 'is', 'to', 'replace', 'it', 'with', 'non', 'uniformed', 'ambassadors', 'to', 'keep', 'the', 'peace', 'in', 'schools', 'black', 'students', 'account', 'for', 'of', 'the', 'students', 'arrested', 'in', 'oakland', 'schools', 'while', 'only', 'making', 'up', 'of', 'the', 'district', 'population', 'according', 'to', 'the', 'black', 'organizing', 'project', 'local', 'advocacy', 'group', 'oakland', 'board', 'is', 'slated', 'to', 'vote', 'on', 'eliminating', 'the', 'police', 'force', 'on', 'june', 'some', 'districts', 'are', 'less', 'inclined', 'to', 'remove', 'officers', 'the', 'chicago', 'teachers', 'union', 'has', 'reinvigorated', 'its', 'call', 'for', 'the', 'city', 'to', 'replace', 'school', 'resource', 'officers', 'with', 'counselors', 'but', 'mayor', 'lori', 'lightfoot', 'who', 'runs', 'the', 'city', 'as', 'well', 'as', 'the', 'district', 'indicated', 'she', 'not', 'interested', 'in', 'dumping', 'the', 'million', 'contract', 'with', 'the', 'chicago', 'police', 'department', 'more', 'than', 'three', 'quarters', 'of', 'the', 'city', 'high', 'schools', 'have', 'police', 'in', 'them', 'and', 'the', 'local', 'parent', 'and', 'teacher', 'councils', 'at', 'all', 'of', 'them', 'voted', 'to', 'keep', 'the', 'officers', 'this', 'year', 'according', 'to', 'local', 'news', 'reports', 'unfortunately', 'we', 'need', 'security', 'in', 'our', 'schools', 'lightfoot', 'said', 'in', 'protest', 'chicago', 'teachers', 'and', 'students', 'have', 'recently', 'staged', 'marches', 'and', 'car', 'caravan', 'parades', 'between', 'high', 'schools', 'chicago', 'protests', 'kanye', 'west', 'joins', 'march', 'offers', 'to', 'pay', 'legal', 'fees', 'for', 'breonna', 'taylor', 'family', 'in', 'los', 'angeles', 'the', 'teachers', 'union', 'said', 'monday', 'it', 'supports', 'ending', 'the', 'district', 'in', 'house', 'police', 'force', 'the', 'unit', 'places', 'about', 'officers', 'throughout', 'the', 'nation', 'second', 'largest', 'school', 'district', 'at', 'cost', 'of', 'about', 'million', 'annually', 'but', 'the', 'head', 'of', 'the', 'district', 'school', 'police', 'union', 'said', 'officers', 'are', 'better', 'trained', 'to', 'de', 'escalate', 'situations', 'in', 'buildings', 'than', 'outside', 'cops', 'called', 'to', 'campus', 'according', 'to', 'the', 'los', 'angeles', 'times', 'in', 'phoenix', 'hundreds', 'of', 'students', 'have', 'been', 'protesting', 'the', 'use', 'of', 'on', 'campus', 'police', 'officers', 'but', 'the', 'school', 'board', 'has', 'not', 'yet', 'taken', 'vote', 'on', 'whether', 'to', 'renew', 'the', 'contract', 'there', 'not', 'much', 'good', 'data', 'on', 'what', 'happens', 'when', 'you', 'remove', 'police', 'officers', 'from', 'schools', 'but', 'new', 'york', 'and', 'louisville', 'have', 'tried', 'some', 'new', 'ideas', 'decade', 'ago', 'report', 'from', 'new', 'york', 'city', 'examined', 'how', 'handful', 'of', 'high', 'schools', 'serving', 'at', 'risk', 'students', 'maintained', 'safe', 'environments', 'without', 'police', 'district', 'safety', 'agents', 'patrolled', 'halls', 'instead', 'metal', 'detectors', 'were', 'removed', 'administrators', 'created', 'alternatives', 'to', 'harsh', 'discipline', 'policies', 'the', 'aclu', 'which', 'published', 'the', 'report', 'is', 'notably', 'in', 'favor', 'of', 'removing', 'police', 'from', 'schools', 'in', 'louisville', 'kentucky', 'the', 'jefferson', 'county', 'public', 'schools', 'cut', 'ties', 'with', 'school', 'resource', 'officers', 'last', 'august', 'because', 'of', 'issues', 'related', 'to', 'the', 'criminalization', 'of', 'black', 'students', 'the', 'district', 'this', 'week', 'couldn', 'provide', 'comparison', 'of', 'school', 'arrest', 'data', 'from', 'before', 'and', 'after', 'police', 'were', 'removed', 'but', 'in', 'general', 'according', 'to', 'the', 'louisville', 'courier', 'journal', 'school', 'safety', 'hasn', 'changed', 'much', 'though', 'one', 'school', 'made', 'headlines', 'for', 'some', 'high', 'profile', 'student', 'on', 'teacher', 'altercations', 'louisville', 'has', 'seen', 'even', 'more', 'forceful', 'protests', 'than', 'some', 'cities', 'in', 'the', 'wake', 'of', 'the', 'death', 'of', 'breonna', 'taylor', 'who', 'was', 'shot', 'by', 'white', 'police', 'officer', 'in', 'her', 'bedroom', 'in', 'march', 'district', 'spokesperson', 'in', 'jefferson', 'county', 'said', 'this', 'week', 'the', 'district', 'is', 're', 'evaluating', 'its', 'school', 'safety', 'plan', 'which', 'could', 'still', 'include', 'armed', 'guards', 'in', 'schools', 'in', 'florida', 'janice', 'scott', 'cover', 'former', 'assistant', 'superintendent', 'in', 'the', 'palm', 'beach', 'county', 'school', 'district', 'said', 'administrators', 'can', 'also', 'work', 'harder', 'to', 'identify', 'the', 'root', 'cause', 'of', 'student', 'misbehavior', 'whether', 'cops', 'are', 'there', 'or', 'not', 'when', 'she', 'became', 'principal', 'of', 'troubled', 'elementary', 'school', 'two', 'decades', 'ago', 'the', 'school', 'resource', 'officer', 'arrested', 'children', 'for', 'fighting', 'disrespecting', 'teachers', 'and', 'walking', 'out', 'of', 'class', 'not', 'all', 'the', 'resource', 'officers', 'understand', 'how', 'to', 'police', 'in', 'schools', 'cover', 'said', 'some', 'still', 'behave', 'like', 'they', 're', 'out', 'on', 'the', 'street', 'grabbing', 'people', 'and', 'throwing', 'them', 'down', 'and', 'did', 'not', 'want', 'that', 'on', 'the', 'campus', 'cover', 'rearranged', 'the', 'budget', 'to', 'hire', 'another', 'social', 'worker', 'who', 'became', 'the', 'first', 'stop', 'for', 'misbehaving', 'children', 'she', 'had', 'teachers', 'rearrange', 'classrooms', 'so', 'students', 'worked', 'in', 'groups', 'and', 'practiced', 'cooperation', 'she', 'and', 'her', 'teachers', 'doubled', 'down', 'on', 'prodding', 'into', 'students', 'lives', 'often', 'getting', 'them', 'needed', 'household', 'or', 'personal', 'items', 'over', 'time', 'the', 'climate', 'and', 'academics', 'improved', 'something', 'cover', 'recounts', 'in', 'her', 'book', 'about', 'turning', 'around', 'low', 'performing', 'elementary', 'schools', 'happy', 'now', 'that', 'people', 'are', 'beginning', 'to', 'look', 'at', 'this', 'said', 'cover', 'who', 'is', 'black', 'my', 'hope', 'is', 'that', 'you', 'don', 'just', 'remove', 'the', 'police', 'officers', 'but', 'replace', 'them', 'with', 'something', 'else', 'like', 'counselors', 'or', 'mental', 'health', 'professionals', 'or', 'school', 'psychologists', 'olivia', 'krauth', 'contributed', 'to', 'this', 'story', 'from', 'louisville', 'kentucky', 'lily', 'altavena', 'contributed', 'from', 'phoenix', 'arizona', 'education', 'coverage', 'at', 'usa', 'today', 'is', 'made', 'possible', 'in', 'part', 'by', 'grant', 'from', 'the', 'bill', 'melinda', 'gates', 'foundation', 'the', 'gates', 'foundation', 'does', 'not', 'provide', 'editorial', 'input', 'three', 'summers', 'ago', 'about', 'students', 'and', 'activists', 'gathered', 'outside', 'the', 'minneapolis', 'public', 'schools', 'headquarters', 'to', 'demand', 'the', 'school', 'board', 'end', 'contract', 'that', 'placed', 'police', 'officers', 'in', 'schools', 'the', 'officers', 'whose', 'role', 'was', 'to', 'keep', 'schools', 'safe', 'actually', 'made', 'students', 'especially', 'black', 'students', 'feel', 'criminalized', 'activists', 'said', 'but', 'the', 'majority', 'of', 'teachers', 'staff', 'and', 'parents', 'liked', 'officers', 'in', 'schools', 'district', 'wide', 'survey', 'showed', 'at', 'the', 'time', 'the', 'board', 'renewed', 'the', 'three', 'year', 'contract', 'fast', 'forward', 'to', 'june', 'eight', 'days', 'after', 'george', 'floyd', 'died', 'under', 'the', 'knee', 'of', 'minneapolis', 'police', 'officer', 'the', 'school', 'board', 'revisited', 'that', 'contract', 'and', 'ended', 'it', 'the', 'vote', 'on', 'june', 'after', 'an', 'even', 'larger', 'crowd', 'of', 'protesters', 'gathered', 'outside', 'was', 'unanimous', 'the', 'values', 'we', 'see', 'in', 'the', 'police', 'department', 'do', 'not', 'match', 'our', 'values', 'said', 'kim', 'ellison', 'chair', 'of', 'the', 'minneapolis', 'school', 'board', 'the', 'school', 'board', 'became', 'one', 'of', 'the', 'first', 'major', 'governmental', 'bodies', 'to', 'change', 'the', 'balance', 'of', 'power', 'with', 'police', 'in', 'the', 'wake', 'of', 'floyd', 'death', 'the', 'change', 'has', 'prompted', 'wave', 'of', 'districts', 'nationwide', 'to', 'consider', 'terminating', 'their', 'relationships', 'with', 'police', 'from', 'chicago', 'new', 'york', 'and', 'los', 'angeles', 'to', 'smaller', 'cities', 'like', 'rochester', 'new', 'york', 'columbus', 'ohio', 'and', 'portland', 'maine', 'and', 'fort', 'collins', 'colorado', 'students', 'and', 'activists', 'are', 'demanding', 'the', 'discontinuation', 'of', 'school', 'resource', 'officers', 'they', 'want', 'the', 'money', 'spent', 'on', 'those', 'programs', 'to', 'go', 'to', 'other', 'peacekeeping', 'strategies', 'teen', 'activists', 'too', 'young', 'to', 'vote', 'in', 'but', 'fighting', 'for', 'change', 'police', 'in', 'schools', 'contribute', 'to', 'the', 'marginalization', 'of', 'students', 'of', 'color', 'they', 'say', 'that', 'because', 'schools', 'with', 'large', 'populations', 'of', 'black', 'and', 'brown', 'students', 'are', 'more', 'likely', 'to', 'have', 'law', 'enforcement', 'on', 'site', 'and', 'in', 'those', 'places', 'students', 'are', 'more', 'likely', 'to', 'be', 'arrested', 'for', 'certain', 'behaviors', 'rather', 'than', 'disciplined', 'by', 'an', 'administrator', 'last', 'week', 'portland', 'oregon', 'school', 'superintendent', 'announced', 'he', 'planned', 'to', 'remove', 'police', 'from', 'schools', 'denver', 'school', 'board', 'is', 'slated', 'to', 'vote', 'thursday', 'on', 'ending', 'contract', 'for', 'uniformed', 'officers', 'in', 'oakland', 'california', 'the', 'majority', 'of', 'the', 'school', 'board', 'and', 'superintendent', 'wednesday', 'backed', 'proposal', 'to', 'eliminate', 'the', 'district', 'million', 'internal', 'police', 'force', 'despite', 'concerns', 'from', 'some', 'principals', 'according', 'to', 'the', 'san', 'francisco', 'chronicle', 'advocates', 'for', 'school', 'resource', 'officers', 'say', 'the', 'problem', 'lies', 'with', 'inconsistent', 'training', 'for', 'law', 'enforcement', 'on', 'how', 'to', 'work', 'with', 'students', 'making', 'rash', 'moves', 'to', 'end', 'the', 'programs', 'because', 'of', 'political', 'and', 'social', 'pressure', 'could', 'make', 'schools', 'less', 'safe', 'they', 'say', 'and', 'also', 'disrupt', 'the', 'opportunity', 'for', 'healthy', 'relationships', 'to', 'grow', 'between', 'law', 'enforcement', 'and', 'students', 'when', 'this', 'is', 'done', 'the', 'right', 'way', 'it', 'the', 'epitome', 'of', 'community', 'based', 'policing', 'said', 'mo', 'canady', 'executive', 'director', 'of', 'the', 'national', 'association', 'of', 'school', 'resource', 'officers', 'that', 'philosophy', 'where', 'police', 'and', 'the', 'community', 'work', 'together', 'to', 'solve', 'crimes', 'and', 'improve', 'everyone', 'quality', 'of', 'life', 'canady', 'organization', 'trains', 'officers', 'how', 'to', 'enforce', 'the', 'law', 'in', 'school', 'setting', 'informally', 'counsel', 'students', 'and', 'act', 'as', 'an', 'educator', 'but', 'nothing', 'requires', 'school', 'resource', 'officers', 'to', 'undergo', 'such', 'training', 'canady', 'said', 'there', 'federal', 'resistance', 'to', 'that', 'idea', 'out', 'of', 'respect', 'for', 'the', 'tradition', 'of', 'local', 'control', 'he', 'added', 'it', 'better', 'if', 'districts', 'would', 'say', 'we', 'need', 'these', 'officers', 'trained', 'on', 'national', 'level', 'canady', 'said', 'nationally', 'protesters', 'seeking', 'justice', 'for', 'floyd', 'want', 'to', 'reduce', 'city', 'police', 'department', 'budgets', 'and', 'redirect', 'more', 'money', 'to', 'social', 'services', 'but', 'what', 'happening', 'at', 'schools', 'offers', 'window', 'into', 'the', 'relationship', 'between', 'law', 'enforcement', 'and', 'youth', 'while', 'police', 'have', 'been', 'stationed', 'in', 'schools', 'for', 'decades', 'they', 'don', 'make', 'schools', 'overwhelmingly', 'more', 'safe', 'studies', 'show', 'review', 'of', 'the', 'most', 'comprehensive', 'studies', 'on', 'school', 'based', 'law', 'enforcement', 'showed', 'the', 'officers', 'did', 'not', 'improve', 'students', 'perception', 'of', 'safety', 'and', 'out', 'of', 'school', 'suspensions', 'and', 'expulsions', 'increased', 'after', 'school', 'resource', 'officers', 'were', 'introduced', 'to', 'building', 'it', 'not', 'like', 'there', 'really', 'strong', 'research', 'base', 'that', 'says', 'with', 'police', 'in', 'schools', 'crime', 'goes', 'down', 'and', 'bullying', 'goes', 'down', 'and', 'there', 'are', 'no', 'shootings', 'said', 'anthony', 'petrosino', 'director', 'of', 'the', 'justice', 'and', 'prevention', 'research', 'center', 'at', 'wested', 'nonpartisan', 'research', 'organization', 'that', 'focuses', 'on', 'education', 'school', 'policing', 'is', 'much', 'more', 'common', 'in', 'schools', 'with', 'kids', 'of', 'color', 'petrosino', 'added', 'there', 'real', 'question', 'of', 'whether', 'it', 'helping', 'or', 'hurting', 'is', 'it', 'leading', 'to', 'more', 'of', 'these', 'kids', 'being', 'involved', 'in', 'the', 'justice', 'system', 'or', 'being', 'kicked', 'out', 'of', 'school', 'one', 'big', 'problem', 'is', 'children', 'of', 'racial', 'minorities', 'especially', 'black', 'students', 'are', 'more', 'likely', 'to', 'be', 'suspended', 'and', 'expelled', 'from', 'school', 'than', 'white', 'students', 'even', 'when', 'they', 'commit', 'similar', 'offenses', 'research', 'shows', 'pushed', 'out', 'and', 'punished', 'black', 'girls', 'punished', 'more', 'harshly', 'than', 'white', 'girls', 'and', 'of', 'the', 'approximate', 'million', 'students', 'in', 'america', 'attending', 'schools', 'with', 'police', 'officers', 'but', 'no', 'counselors', 'more', 'of', 'those', 'students', 'are', 'black', 'than', 'white', 'by', 'contrast', 'white', 'students', 'are', 'more', 'likely', 'to', 'attend', 'schools', 'with', 'counselors', 'but', 'not', 'police', 'federal', 'data', 'show', 'on', 'top', 'of', 'that', 'number', 'of', 'high', 'profile', 'incidents', 'in', 'recent', 'years', 'have', 'put', 'spotlight', 'on', 'police', 'brutality', 'toward', 'black', 'kids', 'and', 'teens', 'inside', 'and', 'outside', 'of', 'school', 'white', 'school', 'resource', 'officer', 'in', 'south', 'carolina', 'high', 'school', 'flipped', 'black', 'girl', 'out', 'of', 'her', 'desk', 'and', 'dragged', 'her', 'across', 'the', 'floor', 'in', 'black', 'school', 'resource', 'officer', 'in', 'orlando', 'arrested', 'sobbing', 'year', 'old', 'black', 'student', 'in', 'september', 'securing', 'her', 'with', 'zip', 'ties', 'because', 'she', 'was', 'too', 'small', 'for', 'handcuffs', 'white', 'officer', 'in', 'ferguson', 'missouri', 'shot', 'and', 'killed', 'michael', 'brown', 'an', 'unarmed', 'year', 'old', 'black', 'man', 'in', 'the', 'street', 'in', 'later', 'that', 'year', 'white', 'officer', 'in', 'cleveland', 'ohio', 'shot', 'and', 'killed', 'tamir', 'rice', 'year', 'old', 'black', 'boy', 'rice', 'had', 'been', 'playing', 'with', 'toy', 'gun', 'outside', 'recreation', 'center', 'change', 'in', 'ferguson', 'city', 'elects', 'first', 'black', 'female', 'mayor', 'years', 'after', 'michael', 'brown', 'death', 'in', 'the', 'only', 'of', 'schools', 'had', 'law', 'enforcement', 'officer', 'stationed', 'in', 'them', 'according', 'to', 'federal', 'data', 'now', 'of', 'schools', 'have', 'police', 'officer', 'in', 'the', 'building', 'at', 'least', 'one', 'day', 'week', 'according', 'to', 'the', 'most', 'recent', 'federal', 'data', 'and', 'among', 'large', 'schools', 'almost', 'had', 'sworn', 'officer', 'in', 'the', 'building', 'at', 'least', 'one', 'day', 'week', 'in', 'the', 'school', 'year', 'the', 'number', 'of', 'officers', 'in', 'schools', 'accelerated', 'rapidly', 'after', 'the', 'year', 'of', 'the', 'shooting', 'at', 'columbine', 'high', 'school', 'in', 'colorado', 'the', 'massacre', 'spurred', 'national', 'discussion', 'about', 'school', 'safety', 'and', 'boost', 'in', 'federal', 'funds', 'helped', 'pay', 'for', 'more', 'cops', 'in', 'schools', 'years', 'after', 'columbine', 'survivors', 'find', 'that', 'new', 'normal', 'between', 'and', 'program', 'started', 'under', 'the', 'clinton', 'administration', 'doled', 'out', 'million', 'in', 'grants', 'to', 'police', 'departments', 'to', 'support', 'hiring', 'thousands', 'more', 'school', 'resource', 'officers', 'since', 'then', 'law', 'enforcement', 'in', 'schools', 'seemed', 'like', 'the', 'one', 'thing', 'that', 'district', 'leaders', 'would', 'not', 'change', 'said', 'aaron', 'kupchik', 'professor', 'of', 'sociology', 'and', 'criminal', 'justice', 'at', 'the', 'university', 'of', 'delaware', 'we', 'typically', 'don', 'even', 'discuss', 'it', 'because', 'it', 'common', 'assumption', 'they', 're', 'here', 'to', 'stay', 'kupchik', 'said', 'so', 'people', 'focus', 'on', 'how', 'to', 'make', 'it', 'less', 'harmful', 'like', 'by', 'ending', 'zero', 'tolerance', 'policies', 'and', 'adding', 'more', 'restorative', 'justice', 'programs', 'under', 'zero', 'tolerance', 'students', 'who', 'break', 'school', 'rules', 'are', 'subject', 'to', 'mandatory', 'severe', 'consequences', 'such', 'as', 'being', 'expelled', 'restorative', 'justice', 'programs', 'offer', 'misbehaving', 'students', 'chance', 'to', 'take', 'ownership', 'of', 'their', 'actions', 'talk', 'through', 'what', 'prompted', 'them', 'and', 'repair', 'harm', 'they', 've', 'caused', 'to', 'others', 'restorative', 'justice', 'how', 'circle', 'keeping', 'works', 'at', 'one', 'midwestern', 'school', 'despite', 'talks', 'of', 'reform', 'students', 'social', 'justice', 'groups', 'and', 'the', 'american', 'civil', 'liberties', 'union', 'have', 'been', 'working', 'for', 'years', 'to', 'end', 'school', 'policing', 'long', 'before', 'the', 'calls', 'emerged', 'as', 'part', 'of', 'the', 'floyd', 'protests', 'that', 'key', 'reason', 'districts', 'are', 'taking', 'action', 'now', 'said', 'sarah', 'hinger', 'senior', 'staff', 'attorney', 'for', 'the', 'aclu', 'racial', 'justice', 'program', 'another', 'reason', 'school', 'districts', 'are', 'more', 'inclined', 'now', 'to', 'remove', 'police', 'officers', 'money', 'districts', 'are', 'facing', 'major', 'financial', 'shortfalls', 'because', 'of', 'the', 'covid', 'pandemic', 'and', 'loss', 'of', 'tax', 'revenue', 'because', 'of', 'the', 'economic', 'shutdown', 'it', 'widely', 'acknowledged', 'that', 'low', 'income', 'children', 'group', 'that', 'includes', 'many', 'black', 'and', 'brown', 'children', 'will', 'need', 'more', 'support', 'to', 'get', 'back', 'on', 'track', 'once', 'schools', 'reopen', 'many', 'haven', 'had', 'access', 'to', 'all', 'the', 'tools', 'needed', 'for', 'online', 'learning', 'such', 'as', 'high', 'speed', 'internet', 'or', 'their', 'own', 'computer', 'police', 'contracts', 'are', 'one', 'non', 'academic', 'budget', 'item', 'that', 'could', 'be', 'dropped', 'all', 'of', 'that', 'is', 'contributing', 'to', 'why', 'this', 'movement', 'is', 'really', 'catching', 'on', 'hinger', 'said', 'kids', 'need', 'to', 'talk', 'about', 'george', 'floyd', 'with', 'coronavirus', 'school', 'closures', 'it', 'hard', 'to', 'do', 'seattle', 'public', 'schools', 'announced', 'this', 'week', 'that', 'it', 'would', 'suspend', 'officers', 'from', 'schools', 'for', 'one', 'year', 'in', 'oakland', 'wednesday', 'the', 'school', 'superintendent', 'joined', 'the', 'majority', 'of', 'the', 'school', 'board', 'in', 'backing', 'the', 'elimination', 'of', 'the', 'district', 'in', 'house', 'police', 'force', 'one', 'idea', 'is', 'to', 'replace', 'it', 'with', 'non', 'uniformed', 'ambassadors', 'to', 'keep', 'the', 'peace', 'in', 'schools', 'black', 'students', 'account', 'for', 'of', 'the', 'students', 'arrested', 'in', 'oakland', 'schools', 'while', 'only', 'making', 'up', 'of', 'the', 'district', 'population', 'according', 'to', 'the', 'black', 'organizing', 'project', 'local', 'advocacy', 'group', 'oakland', 'board', 'is', 'slated', 'to', 'vote', 'on', 'eliminating', 'the', 'police', 'force', 'on', 'june', 'some', 'districts', 'are', 'less', 'inclined', 'to', 'remove', 'officers', 'the', 'chicago', 'teachers', 'union', 'has', 'reinvigorated', 'its', 'call', 'for', 'the', 'city', 'to', 'replace', 'school', 'resource', 'officers', 'with', 'counselors', 'but', 'mayor', 'lori', 'lightfoot', 'who', 'runs', 'the', 'city', 'as', 'well', 'as', 'the', 'district', 'indicated', 'she', 'not', 'interested', 'in', 'dumping', 'the', 'million', 'contract', 'with', 'the', 'chicago', 'police', 'department', 'more', 'than', 'three', 'quarters', 'of', 'the', 'city', 'high', 'schools', 'have', 'police', 'in', 'them', 'and', 'the', 'local', 'parent', 'and', 'teacher', 'councils', 'at', 'all', 'of', 'them', 'voted', 'to', 'keep', 'the', 'officers', 'this', 'year', 'according', 'to', 'local', 'news', 'reports', 'unfortunately', 'we', 'need', 'security', 'in', 'our', 'schools', 'lightfoot', 'said', 'in', 'protest', 'chicago', 'teachers', 'and', 'students', 'have', 'recently', 'staged', 'marches', 'and', 'car', 'caravan', 'parades', 'between', 'high', 'schools', 'chicago', 'protests', 'kanye', 'west', 'joins', 'march', 'offers', 'to', 'pay', 'legal', 'fees', 'for', 'breonna', 'taylor', 'family', 'in', 'los', 'angeles', 'the', 'teachers', 'union', 'said', 'monday', 'it', 'supports', 'ending', 'the', 'district', 'in', 'house', 'police', 'force', 'the', 'unit', 'places', 'about', 'officers', 'throughout', 'the', 'nation', 'second', 'largest', 'school', 'district', 'at', 'cost', 'of', 'about', 'million', 'annually', 'but', 'the', 'head', 'of', 'the', 'district', 'school', 'police', 'union', 'said', 'officers', 'are', 'better', 'trained', 'to', 'de', 'escalate', 'situations', 'in', 'buildings', 'than', 'outside', 'cops', 'called', 'to', 'campus', 'according', 'to', 'the', 'los', 'angeles', 'times', 'in', 'phoenix', 'hundreds', 'of', 'students', 'have', 'been', 'protesting', 'the', 'use', 'of', 'on', 'campus', 'police', 'officers', 'but', 'the', 'school', 'board', 'has', 'not', 'yet', 'taken', 'vote', 'on', 'whether', 'to', 'renew', 'the', 'contract', 'there', 'not', 'much', 'good', 'data', 'on', 'what', 'happens', 'when', 'you', 'remove', 'police', 'officers', 'from', 'schools', 'but', 'new', 'york', 'and', 'louisville', 'have', 'tried', 'some', 'new', 'ideas', 'decade', 'ago', 'report', 'from', 'new', 'york', 'city', 'examined', 'how', 'handful', 'of', 'high', 'schools', 'serving', 'at', 'risk', 'students', 'maintained', 'safe', 'environments', 'without', 'police', 'district', 'safety', 'agents', 'patrolled', 'halls', 'instead', 'metal', 'detectors', 'were', 'removed', 'administrators', 'created', 'alternatives', 'to', 'harsh', 'discipline', 'policies', 'the', 'aclu', 'which', 'published', 'the', 'report', 'is', 'notably', 'in', 'favor', 'of', 'removing', 'police', 'from', 'schools', 'in', 'louisville', 'kentucky', 'the', 'jefferson', 'county', 'public', 'schools', 'cut', 'ties', 'with', 'school', 'resource', 'officers', 'last', 'august', 'because', 'of', 'issues', 'related', 'to', 'the', 'criminalization', 'of', 'black', 'students', 'the', 'district', 'this', 'week', 'couldn', 'provide', 'comparison', 'of', 'school', 'arrest', 'data', 'from', 'before', 'and', 'after', 'police', 'were', 'removed', 'but', 'in', 'general', 'according', 'to', 'the', 'louisville', 'courier', 'journal', 'school', 'safety', 'hasn', 'changed', 'much', 'though', 'one', 'school', 'made', 'headlines', 'for', 'some', 'high', 'profile', 'student', 'on', 'teacher', 'altercations', 'louisville', 'has', 'seen', 'even', 'more', 'forceful', 'protests', 'than', 'some', 'cities', 'in', 'the', 'wake', 'of', 'the', 'death', 'of', 'breonna', 'taylor', 'who', 'was', 'shot', 'by', 'white', 'police', 'officer', 'in', 'her', 'bedroom', 'in', 'march', 'district', 'spokesperson', 'in', 'jefferson', 'county', 'said', 'this', 'week', 'the', 'district', 'is', 're', 'evaluating', 'its', 'school', 'safety', 'plan', 'which', 'could', 'still', 'include', 'armed', 'guards', 'in', 'schools', 'in', 'florida', 'janice', 'scott', 'cover', 'former', 'assistant', 'superintendent', 'in', 'the', 'palm', 'beach', 'county', 'school', 'district', 'said', 'administrators', 'can', 'also', 'work', 'harder', 'to', 'identify', 'the', 'root', 'cause', 'of', 'student', 'misbehavior', 'whether', 'cops', 'are', 'there', 'or', 'not', 'when', 'she', 'became', 'principal', 'of', 'troubled', 'elementary', 'school', 'two', 'decades', 'ago', 'the', 'school', 'resource', 'officer', 'arrested', 'children', 'for', 'fighting', 'disrespecting', 'teachers', 'and', 'walking', 'out', 'of', 'class', 'not', 'all', 'the', 'resource', 'officers', 'understand', 'how', 'to', 'police', 'in', 'schools', 'cover', 'said', 'some', 'still', 'behave', 'like', 'they', 're', 'out', 'on', 'the', 'street', 'grabbing', 'people', 'and', 'throwing', 'them', 'down', 'and', 'did', 'not', 'want', 'that', 'on', 'the', 'campus', 'cover', 'rearranged', 'the', 'budget', 'to', 'hire', 'another', 'social', 'worker', 'who', 'became', 'the', 'first', 'stop', 'for', 'misbehaving', 'children', 'she', 'had', 'teachers', 'rearrange', 'classrooms', 'so', 'students', 'worked', 'in', 'groups', 'and', 'practiced', 'cooperation', 'she', 'and', 'her', 'teachers', 'doubled', 'down', 'on', 'prodding', 'into', 'students', 'lives', 'often', 'getting', 'them', 'needed', 'household', 'or', 'personal', 'items', 'over', 'time', 'the', 'climate', 'and', 'academics', 'improved', 'something', 'cover', 'recounts', 'in', 'her', 'book', 'about', 'turning', 'around', 'low', 'performing', 'elementary', 'schools', 'happy', 'now', 'that', 'people', 'are', 'beginning', 'to', 'look', 'at', 'this', 'said', 'cover', 'who', 'is', 'black', 'my', 'hope', 'is', 'that', 'you', 'don', 'just', 'remove', 'the', 'police', 'officers', 'but', 'replace', 'them', 'with', 'something', 'else', 'like', 'counselors', 'or', 'mental', 'health', 'professionals', 'or', 'school', 'psychologists', 'olivia', 'krauth', 'contributed', 'to', 'this', 'story', 'from', 'louisville', 'kentucky', 'lily', 'altavena', 'contributed', 'from', 'phoenix', 'arizona', 'education', 'coverage', 'at', 'usa', 'today', 'is', 'made', 'possible', 'in', 'part', 'by', 'grant', 'from', 'the', 'bill', 'melinda', 'gates', 'foundation', 'the', 'gates', 'foundation', 'does', 'not', 'provide', 'editorial', 'input', 'three', 'summers', 'ago', 'about', 'students', 'and', 'activists', 'gathered', 'outside', 'the', 'minneapolis', 'public', 'schools', 'headquarters', 'to', 'demand', 'the', 'school', 'board', 'end', 'contract', 'that', 'placed', 'police', 'officers', 'in', 'schools', 'the', 'officers', 'whose', 'role', 'was', 'to', 'keep', 'schools', 'safe', 'actually', 'made', 'students', 'especially', 'black', 'students', 'feel', 'criminalized', 'activists', 'said', 'but', 'the', 'majority', 'of', 'teachers', 'staff', 'and', 'parents', 'liked', 'officers', 'in', 'schools', 'district', 'wide', 'survey', 'showed', 'at', 'the', 'time', 'the', 'board', 'renewed', 'the', 'three', 'year', 'contract', 'fast', 'forward', 'to', 'june', 'eight', 'days', 'after', 'george', 'floyd', 'died', 'under', 'the', 'knee', 'of', 'minneapolis', 'police', 'officer', 'the', 'school', 'board', 'revisited', 'that', 'contract', 'and', 'ended', 'it', 'the', 'vote', 'on', 'june', 'after', 'an', 'even', 'larger', 'crowd', 'of', 'protesters', 'gathered', 'outside', 'was', 'unanimous', 'the', 'values', 'we', 'see', 'in', 'the', 'police', 'department', 'do', 'not', 'match', 'our', 'values', 'said', 'kim', 'ellison', 'chair', 'of', 'the', 'minneapolis', 'school', 'board', 'the', 'school', 'board', 'became', 'one', 'of', 'the', 'first', 'major', 'governmental', 'bodies', 'to', 'change', 'the', 'balance', 'of', 'power', 'with', 'police', 'in', 'the', 'wake', 'of', 'floyd', 'death', 'the', 'change', 'has', 'prompted', 'wave', 'of', 'districts', 'nationwide', 'to', 'consider', 'terminating', 'their', 'relationships', 'with', 'police', 'from', 'chicago', 'new', 'york', 'and', 'los', 'angeles', 'to', 'smaller', 'cities', 'like', 'rochester', 'new', 'york', 'columbus', 'ohio', 'and', 'portland', 'maine', 'and', 'fort', 'collins', 'colorado', 'students', 'and', 'activists', 'are', 'demanding', 'the', 'discontinuation', 'of', 'school', 'resource', 'officers', 'they', 'want', 'the', 'money', 'spent', 'on', 'those', 'programs', 'to', 'go', 'to', 'other', 'peacekeeping', 'strategies', 'teen', 'activists', 'too', 'young', 'to', 'vote', 'in', 'but', 'fighting', 'for', 'change', 'police', 'in', 'schools', 'contribute', 'to', 'the', 'marginalization', 'of', 'students', 'of', 'color', 'they', 'say', 'that', 'because', 'schools', 'with', 'large', 'populations', 'of', 'black', 'and', 'brown', 'students', 'are', 'more', 'likely', 'to', 'have', 'law', 'enforcement', 'on', 'site', 'and', 'in', 'those', 'places', 'students', 'are', 'more', 'likely', 'to', 'be', 'arrested', 'for', 'certain', 'behaviors', 'rather', 'than', 'disciplined', 'by', 'an', 'administrator', 'last', 'week', 'portland', 'oregon', 'school', 'superintendent', 'announced', 'he', 'planned', 'to', 'remove', 'police', 'from', 'schools', 'denver', 'school', 'board', 'is', 'slated', 'to', 'vote', 'thursday', 'on', 'ending', 'contract', 'for', 'uniformed', 'officers', 'in', 'oakland', 'california', 'the', 'majority', 'of', 'the', 'school', 'board', 'and', 'superintendent', 'wednesday', 'backed', 'proposal', 'to', 'eliminate', 'the', 'district', 'million', 'internal', 'police', 'force', 'despite', 'concerns', 'from', 'some', 'principals', 'according', 'to', 'the', 'san', 'francisco', 'chronicle', 'advocates', 'for', 'school', 'resource', 'officers', 'say', 'the', 'problem', 'lies', 'with', 'inconsistent', 'training', 'for', 'law', 'enforcement', 'on', 'how', 'to', 'work', 'with', 'students', 'making', 'rash', 'moves', 'to', 'end', 'the', 'programs', 'because', 'of', 'political', 'and', 'social', 'pressure', 'could', 'make', 'schools', 'less', 'safe', 'they', 'say', 'and', 'also', 'disrupt', 'the', 'opportunity', 'for', 'healthy', 'relationships', 'to', 'grow', 'between', 'law', 'enforcement', 'and', 'students', 'when', 'this', 'is', 'done', 'the', 'right', 'way', 'it', 'the', 'epitome', 'of', 'community', 'based', 'policing', 'said', 'mo', 'canady', 'executive', 'director', 'of', 'the', 'national', 'association', 'of', 'school', 'resource', 'officers', 'that', 'philosophy', 'where', 'police', 'and', 'the', 'community', 'work', 'together', 'to', 'solve', 'crimes', 'and', 'improve', 'everyone', 'quality', 'of', 'life', 'canady', 'organization', 'trains', 'officers', 'how', 'to', 'enforce', 'the', 'law', 'in', 'school', 'setting', 'informally', 'counsel', 'students', 'and', 'act', 'as', 'an', 'educator', 'but', 'nothing', 'requires', 'school', 'resource', 'officers', 'to', 'undergo', 'such', 'training', 'canady', 'said', 'there', 'federal', 'resistance', 'to', 'that', 'idea', 'out', 'of', 'respect', 'for', 'the', 'tradition', 'of', 'local', 'control', 'he', 'added', 'it', 'better', 'if', 'districts', 'would', 'say', 'we', 'need', 'these', 'officers', 'trained', 'on', 'national', 'level', 'canady', 'said', 'nationally', 'protesters', 'seeking', 'justice', 'for', 'floyd', 'want', 'to', 'reduce', 'city', 'police', 'department', 'budgets', 'and', 'redirect', 'more', 'money', 'to', 'social', 'services', 'but', 'what', 'happening', 'at', 'schools', 'offers', 'window', 'into', 'the', 'relationship', 'between', 'law', 'enforcement', 'and', 'youth', 'while', 'police', 'have', 'been', 'stationed', 'in', 'schools', 'for', 'decades', 'they', 'don', 'make', 'schools', 'overwhelmingly', 'more', 'safe', 'studies', 'show', 'review', 'of', 'the', 'most', 'comprehensive', 'studies', 'on', 'school', 'based', 'law', 'enforcement', 'showed', 'the', 'officers', 'did', 'not', 'improve', 'students', 'perception', 'of', 'safety', 'and', 'out', 'of', 'school', 'suspensions', 'and', 'expulsions', 'increased', 'after', 'school', 'resource', 'officers', 'were', 'introduced', 'to', 'building', 'it', 'not', 'like', 'there', 'really', 'strong', 'research', 'base', 'that', 'says', 'with', 'police', 'in', 'schools', 'crime', 'goes', 'down', 'and', 'bullying', 'goes', 'down', 'and', 'there', 'are', 'no', 'shootings', 'said', 'anthony', 'petrosino', 'director', 'of', 'the', 'justice', 'and', 'prevention', 'research', 'center', 'at', 'wested', 'nonpartisan', 'research', 'organization', 'that', 'focuses', 'on', 'education', 'school', 'policing', 'is', 'much', 'more', 'common', 'in', 'schools', 'with', 'kids', 'of', 'color', 'petrosino', 'added', 'there', 'real', 'question', 'of', 'whether', 'it', 'helping', 'or', 'hurting', 'is', 'it', 'leading', 'to', 'more', 'of', 'these', 'kids', 'being', 'involved', 'in', 'the', 'justice', 'system', 'or', 'being', 'kicked', 'out', 'of', 'school', 'one', 'big', 'problem', 'is', 'children', 'of', 'racial', 'minorities', 'especially', 'black', 'students', 'are', 'more', 'likely', 'to', 'be', 'suspended', 'and', 'expelled', 'from', 'school', 'than', 'white', 'students', 'even', 'when', 'they', 'commit', 'similar', 'offenses', 'research', 'shows', 'pushed', 'out', 'and', 'punished', 'black', 'girls', 'punished', 'more', 'harshly', 'than', 'white', 'girls', 'and', 'of', 'the', 'approximate', 'million', 'students', 'in', 'america', 'attending', 'schools', 'with', 'police', 'officers', 'but', 'no', 'counselors', 'more', 'of', 'those', 'students', 'are', 'black', 'than', 'white', 'by', 'contrast', 'white', 'students', 'are', 'more', 'likely', 'to', 'attend', 'schools', 'with', 'counselors', 'but', 'not', 'police', 'federal', 'data', 'show', 'on', 'top', 'of', 'that', 'number', 'of', 'high', 'profile', 'incidents', 'in', 'recent', 'years', 'have', 'put', 'spotlight', 'on', 'police', 'brutality', 'toward', 'black', 'kids', 'and', 'teens', 'inside', 'and', 'outside', 'of', 'school', 'white', 'school', 'resource', 'officer', 'in', 'south', 'carolina', 'high', 'school', 'flipped', 'black', 'girl', 'out', 'of', 'her', 'desk', 'and', 'dragged', 'her', 'across', 'the', 'floor', 'in', 'black', 'school', 'resource', 'officer', 'in', 'orlando', 'arrested', 'sobbing', 'year', 'old', 'black', 'student', 'in', 'september', 'securing', 'her', 'with', 'zip', 'ties', 'because', 'she', 'was', 'too', 'small', 'for', 'handcuffs', 'white', 'officer', 'in', 'ferguson', 'missouri', 'shot', 'and', 'killed', 'michael', 'brown', 'an', 'unarmed', 'year', 'old', 'black', 'man', 'in', 'the', 'street', 'in', 'later', 'that', 'year', 'white', 'officer', 'in', 'cleveland', 'ohio', 'shot', 'and', 'killed', 'tamir', 'rice', 'year', 'old', 'black', 'boy', 'rice', 'had', 'been', 'playing', 'with', 'toy', 'gun', 'outside', 'recreation', 'center', 'change', 'in', 'ferguson', 'city', 'elects', 'first', 'black', 'female', 'mayor', 'years', 'after', 'michael', 'brown', 'death', 'in', 'the', 'only', 'of', 'schools', 'had', 'law', 'enforcement', 'officer', 'stationed', 'in', 'them', 'according', 'to', 'federal', 'data', 'now', 'of', 'schools', 'have', 'police', 'officer', 'in', 'the', 'building', 'at', 'least', 'one', 'day', 'week', 'according', 'to', 'the', 'most', 'recent', 'federal', 'data', 'and', 'among', 'large', 'schools', 'almost', 'had', 'sworn', 'officer', 'in', 'the', 'building', 'at', 'least', 'one', 'day', 'week', 'in', 'the', 'school', 'year', 'the', 'number', 'of', 'officers', 'in', 'schools', 'accelerated', 'rapidly', 'after', 'the', 'year', 'of', 'the', 'shooting', 'at', 'columbine', 'high', 'school', 'in', 'colorado', 'the', 'massacre', 'spurred', 'national', 'discussion', 'about', 'school', 'safety', 'and', 'boost', 'in', 'federal', 'funds', 'helped', 'pay', 'for', 'more', 'cops', 'in', 'schools', 'years', 'after', 'columbine', 'survivors', 'find', 'that', 'new', 'normal', 'between', 'and', 'program', 'started', 'under', 'the', 'clinton', 'administration', 'doled', 'out', 'million', 'in', 'grants', 'to', 'police', 'departments', 'to', 'support', 'hiring', 'thousands', 'more', 'school', 'resource', 'officers', 'since', 'then', 'law', 'enforcement', 'in', 'schools', 'seemed', 'like', 'the', 'one', 'thing', 'that', 'district', 'leaders', 'would', 'not', 'change', 'said', 'aaron', 'kupchik', 'professor', 'of', 'sociology', 'and', 'criminal', 'justice', 'at', 'the', 'university', 'of', 'delaware', 'we', 'typically', 'don', 'even', 'discuss', 'it', 'because', 'it', 'common', 'assumption', 'they', 're', 'here', 'to', 'stay', 'kupchik', 'said', 'so', 'people', 'focus', 'on', 'how', 'to', 'make', 'it', 'less', 'harmful', 'like', 'by', 'ending', 'zero', 'tolerance', 'policies', 'and', 'adding', 'more', 'restorative', 'justice', 'programs', 'under', 'zero', 'tolerance', 'students', 'who', 'break', 'school', 'rules', 'are', 'subject', 'to', 'mandatory', 'severe', 'consequences', 'such', 'as', 'being', 'expelled', 'restorative', 'justice', 'programs', 'offer', 'misbehaving', 'students', 'chance', 'to', 'take', 'ownership', 'of', 'their', 'actions', 'talk', 'through', 'what', 'prompted', 'them', 'and', 'repair', 'harm', 'they', 've', 'caused', 'to', 'others', 'restorative', 'justice', 'how', 'circle', 'keeping', 'works', 'at', 'one', 'midwestern', 'school', 'despite', 'talks', 'of', 'reform', 'students', 'social', 'justice', 'groups', 'and', 'the', 'american', 'civil', 'liberties', 'union', 'have', 'been', 'working', 'for', 'years', 'to', 'end', 'school', 'policing', 'long', 'before', 'the', 'calls', 'emerged', 'as', 'part', 'of', 'the', 'floyd', 'protests', 'that', 'key', 'reason', 'districts', 'are', 'taking', 'action', 'now', 'said', 'sarah', 'hinger', 'senior', 'staff', 'attorney', 'for', 'the', 'aclu', 'racial', 'justice', 'program', 'another', 'reason', 'school', 'districts', 'are', 'more', 'inclined', 'now', 'to', 'remove', 'police', 'officers', 'money', 'districts', 'are', 'facing', 'major', 'financial', 'shortfalls', 'because', 'of', 'the', 'covid', 'pandemic', 'and', 'loss', 'of', 'tax', 'revenue', 'because', 'of', 'the', 'economic', 'shutdown', 'it', 'widely', 'acknowledged', 'that', 'low', 'income', 'children', 'group', 'that', 'includes', 'many', 'black', 'and', 'brown', 'children', 'will', 'need', 'more', 'support', 'to', 'get', 'back', 'on', 'track', 'once', 'schools', 'reopen', 'many', 'haven', 'had', 'access', 'to', 'all', 'the', 'tools', 'needed', 'for', 'online', 'learning', 'such', 'as', 'high', 'speed', 'internet', 'or', 'their', 'own', 'computer', 'police', 'contracts', 'are', 'one', 'non', 'academic', 'budget', 'item', 'that', 'could', 'be', 'dropped', 'all', 'of', 'that', 'is', 'contributing', 'to', 'why', 'this', 'movement', 'is', 'really', 'catching', 'on', 'hinger', 'said', 'kids', 'need', 'to', 'talk', 'about', 'george', 'floyd', 'with', 'coronavirus', 'school', 'closures', 'it', 'hard', 'to', 'do', 'seattle', 'public', 'schools', 'announced', 'this', 'week', 'that', 'it', 'would', 'suspend', 'officers', 'from', 'schools', 'for', 'one', 'year', 'in', 'oakland', 'wednesday', 'the', 'school', 'superintendent', 'joined', 'the', 'majority', 'of', 'the', 'school', 'board', 'in', 'backing', 'the', 'elimination', 'of', 'the', 'district', 'in', 'house', 'police', 'force', 'one', 'idea', 'is', 'to', 'replace', 'it', 'with', 'non', 'uniformed', 'ambassadors', 'to', 'keep', 'the', 'peace', 'in', 'schools', 'black', 'students', 'account', 'for', 'of', 'the', 'students', 'arrested', 'in', 'oakland', 'schools', 'while', 'only', 'making', 'up', 'of', 'the', 'district', 'population', 'according', 'to', 'the', 'black', 'organizing', 'project', 'local', 'advocacy', 'group', 'oakland', 'board', 'is', 'slated', 'to', 'vote', 'on', 'eliminating', 'the', 'police', 'force', 'on', 'june', 'some', 'districts', 'are', 'less', 'inclined', 'to', 'remove', 'officers', 'the', 'chicago', 'teachers', 'union', 'has', 'reinvigorated', 'its', 'call', 'for', 'the', 'city', 'to', 'replace', 'school', 'resource', 'officers', 'with', 'counselors', 'but', 'mayor', 'lori', 'lightfoot', 'who', 'runs', 'the', 'city', 'as', 'well', 'as', 'the', 'district', 'indicated', 'she', 'not', 'interested', 'in', 'dumping', 'the', 'million', 'contract', 'with', 'the', 'chicago', 'police', 'department', 'more', 'than', 'three', 'quarters', 'of', 'the', 'city', 'high', 'schools', 'have', 'police', 'in', 'them', 'and', 'the', 'local', 'parent', 'and', 'teacher', 'councils', 'at', 'all', 'of', 'them', 'voted', 'to', 'keep', 'the', 'officers', 'this', 'year', 'according', 'to', 'local', 'news', 'reports', 'unfortunately', 'we', 'need', 'security', 'in', 'our', 'schools', 'lightfoot', 'said', 'in', 'protest', 'chicago', 'teachers', 'and', 'students', 'have', 'recently', 'staged', 'marches', 'and', 'car', 'caravan', 'parades', 'between', 'high', 'schools', 'chicago', 'protests', 'kanye', 'west', 'joins', 'march', 'offers', 'to', 'pay', 'legal', 'fees', 'for', 'breonna', 'taylor', 'family', 'in', 'los', 'angeles', 'the', 'teachers', 'union', 'said', 'monday', 'it', 'supports', 'ending', 'the', 'district', 'in', 'house', 'police', 'force', 'the', 'unit', 'places', 'about', 'officers', 'throughout', 'the', 'nation', 'second', 'largest', 'school', 'district', 'at', 'cost', 'of', 'about', 'million', 'annually', 'but', 'the', 'head', 'of', 'the', 'district', 'school', 'police', 'union', 'said', 'officers', 'are', 'better', 'trained', 'to', 'de', 'escalate', 'situations', 'in', 'buildings', 'than', 'outside', 'cops', 'called', 'to', 'campus', 'according', 'to', 'the', 'los', 'angeles', 'times', 'in', 'phoenix', 'hundreds', 'of', 'students', 'have', 'been', 'protesting', 'the', 'use', 'of', 'on', 'campus', 'police', 'officers', 'but', 'the', 'school', 'board', 'has', 'not', 'yet', 'taken', 'vote', 'on', 'whether', 'to', 'renew', 'the', 'contract', 'there', 'not', 'much', 'good', 'data', 'on', 'what', 'happens', 'when', 'you', 'remove', 'police', 'officers', 'from', 'schools', 'but', 'new', 'york', 'and', 'louisville', 'have', 'tried', 'some', 'new', 'ideas', 'decade', 'ago', 'report', 'from', 'new', 'york', 'city', 'examined', 'how', 'handful', 'of', 'high', 'schools', 'serving', 'at', 'risk', 'students', 'maintained', 'safe', 'environments', 'without', 'police', 'district', 'safety', 'agents', 'patrolled', 'halls', 'instead', 'metal', 'detectors', 'were', 'removed', 'administrators', 'created', 'alternatives', 'to', 'harsh', 'discipline', 'policies', 'the', 'aclu', 'which', 'published', 'the', 'report', 'is', 'notably', 'in', 'favor', 'of', 'removing', 'police', 'from', 'schools', 'in', 'louisville', 'kentucky', 'the', 'jefferson', 'county', 'public', 'schools', 'cut', 'ties', 'with', 'school', 'resource', 'officers', 'last', 'august', 'because', 'of', 'issues', 'related', 'to', 'the', 'criminalization', 'of', 'black', 'students', 'the', 'district', 'this', 'week', 'couldn', 'provide', 'comparison', 'of', 'school', 'arrest', 'data', 'from', 'before', 'and', 'after', 'police', 'were', 'removed', 'but', 'in', 'general', 'according', 'to', 'the', 'louisville', 'courier', 'journal', 'school', 'safety', 'hasn', 'changed', 'much', 'though', 'one', 'school', 'made', 'headlines', 'for', 'some', 'high', 'profile', 'student', 'on', 'teacher', 'altercations', 'louisville', 'has', 'seen', 'even', 'more', 'forceful', 'protests', 'than', 'some', 'cities', 'in', 'the', 'wake', 'of', 'the', 'death', 'of', 'breonna', 'taylor', 'who', 'was', 'shot', 'by', 'white', 'police', 'officer', 'in', 'her', 'bedroom', 'in', 'march', 'district', 'spokesperson', 'in', 'jefferson', 'county', 'said', 'this', 'week', 'the', 'district', 'is', 're', 'evaluating', 'its', 'school', 'safety', 'plan', 'which', 'could', 'still', 'include', 'armed', 'guards', 'in', 'schools', 'in', 'florida', 'janice', 'scott', 'cover', 'former', 'assistant', 'superintendent', 'in', 'the', 'palm', 'beach', 'county', 'school', 'district', 'said', 'administrators', 'can', 'also', 'work', 'harder', 'to', 'identify', 'the', 'root', 'cause', 'of', 'student', 'misbehavior', 'whether', 'cops', 'are', 'there', 'or', 'not', 'when', 'she', 'became', 'principal', 'of', 'troubled', 'elementary', 'school', 'two', 'decades', 'ago', 'the', 'school', 'resource', 'officer', 'arrested', 'children', 'for', 'fighting', 'disrespecting', 'teachers', 'and', 'walking', 'out', 'of', 'class', 'not', 'all', 'the', 'resource', 'officers', 'understand', 'how', 'to', 'police', 'in', 'schools', 'cover', 'said', 'some', 'still', 'behave', 'like', 'they', 're', 'out', 'on', 'the', 'street', 'grabbing', 'people', 'and', 'throwing', 'them', 'down', 'and', 'did', 'not', 'want', 'that', 'on', 'the', 'campus', 'cover', 'rearranged', 'the', 'budget', 'to', 'hire', 'another', 'social', 'worker', 'who', 'became', 'the', 'first', 'stop', 'for', 'misbehaving', 'children', 'she', 'had', 'teachers', 'rearrange', 'classrooms', 'so', 'students', 'worked', 'in', 'groups', 'and', 'practiced', 'cooperation', 'she', 'and', 'her', 'teachers', 'doubled', 'down', 'on', 'prodding', 'into', 'students', 'lives', 'often', 'getting', 'them', 'needed', 'household', 'or', 'personal', 'items', 'over', 'time', 'the', 'climate', 'and', 'academics', 'improved', 'something', 'cover', 'recounts', 'in', 'her', 'book', 'about', 'turning', 'around', 'low', 'performing', 'elementary', 'schools', 'happy', 'now', 'that', 'people', 'are', 'beginning', 'to', 'look', 'at', 'this', 'said', 'cover', 'who', 'is', 'black', 'my', 'hope', 'is', 'that', 'you', 'don', 'just', 'remove', 'the', 'police', 'officers', 'but', 'replace', 'them', 'with', 'something', 'else', 'like', 'counselors', 'or', 'mental', 'health', 'professionals', 'or', 'school', 'psychologists', 'olivia', 'krauth', 'contributed', 'to', 'this', 'story', 'from', 'louisville', 'kentucky', 'lily', 'altavena', 'contributed', 'from', 'phoenix', 'arizona', 'education', 'coverage', 'at', 'usa', 'today', 'is', 'made', 'possible', 'in', 'part', 'by', 'grant', 'from', 'the', 'bill', 'melinda', 'gates', 'foundation', 'the', 'gates', 'foundation', 'does', 'not', 'provide', 'editorial', 'input', 'three', 'summers', 'ago', 'about', 'students', 'and', 'activists', 'gathered', 'outside', 'the', 'minneapolis', 'public', 'schools', 'headquarters', 'to', 'demand', 'the', 'school', 'board', 'end', 'contract', 'that', 'placed', 'police', 'officers', 'in', 'schools', 'the', 'officers', 'whose', 'role', 'was', 'to', 'keep', 'schools', 'safe', 'actually', 'made', 'students', 'especially', 'black', 'students', 'feel', 'criminalized', 'activists', 'said', 'but', 'the', 'majority', 'of', 'teachers', 'staff', 'and', 'parents', 'liked', 'officers', 'in', 'schools', 'district', 'wide', 'survey', 'showed', 'at', 'the', 'time', 'the', 'board', 'renewed', 'the', 'three', 'year', 'contract', 'fast', 'forward', 'to', 'june', 'eight', 'days', 'after', 'george', 'floyd', 'died', 'under', 'the', 'knee', 'of', 'minneapolis', 'police', 'officer', 'the', 'school', 'board', 'revisited', 'that', 'contract', 'and', 'ended', 'it', 'the', 'vote', 'on', 'june', 'after', 'an', 'even', 'larger', 'crowd', 'of', 'protesters', 'gathered', 'outside', 'was', 'unanimous', 'the', 'values', 'we', 'see', 'in', 'the', 'police', 'department', 'do', 'not', 'match', 'our', 'values', 'said', 'kim', 'ellison', 'chair', 'of', 'the', 'minneapolis', 'school', 'board', 'the', 'school', 'board', 'became', 'one', 'of', 'the', 'first', 'major', 'governmental', 'bodies', 'to', 'change', 'the', 'balance', 'of', 'power', 'with', 'police', 'in', 'the', 'wake', 'of', 'floyd', 'death', 'the', 'change', 'has', 'prompted', 'wave', 'of', 'districts', 'nationwide', 'to', 'consider', 'terminating', 'their', 'relationships', 'with', 'police', 'from', 'chicago', 'new', 'york', 'and', 'los', 'angeles', 'to', 'smaller', 'cities', 'like', 'rochester', 'new', 'york', 'columbus', 'ohio', 'and', 'portland', 'maine', 'and', 'fort', 'collins', 'colorado', 'students', 'and', 'activists', 'are', 'demanding', 'the', 'discontinuation', 'of', 'school', 'resource', 'officers', 'they', 'want', 'the', 'money', 'spent', 'on', 'those', 'programs', 'to', 'go', 'to', 'other', 'peacekeeping', 'strategies', 'teen', 'activists', 'too', 'young', 'to', 'vote', 'in', 'but', 'fighting', 'for', 'change', 'police', 'in', 'schools', 'contribute', 'to', 'the', 'marginalization', 'of', 'students', 'of', 'color', 'they', 'say', 'that', 'because', 'schools', 'with', 'large', 'populations', 'of', 'black', 'and', 'brown', 'students', 'are', 'more', 'likely', 'to', 'have', 'law', 'enforcement', 'on', 'site', 'and', 'in', 'those', 'places', 'students', 'are', 'more', 'likely', 'to', 'be', 'arrested', 'for', 'certain', 'behaviors', 'rather', 'than', 'disciplined', 'by', 'an', 'administrator', 'last', 'week', 'portland', 'oregon', 'school', 'superintendent', 'announced', 'he', 'planned', 'to', 'remove', 'police', 'from', 'schools', 'denver', 'school', 'board', 'is', 'slated', 'to', 'vote', 'thursday', 'on', 'ending', 'contract', 'for', 'uniformed', 'officers', 'in', 'oakland', 'california', 'the', 'majority', 'of', 'the', 'school', 'board', 'and', 'superintendent', 'wednesday', 'backed', 'proposal', 'to', 'eliminate', 'the', 'district', 'million', 'internal', 'police', 'force', 'despite', 'concerns', 'from', 'some', 'principals', 'according', 'to', 'the', 'san', 'francisco', 'chronicle', 'advocates', 'for', 'school', 'resource', 'officers', 'say', 'the', 'problem', 'lies', 'with', 'inconsistent', 'training', 'for', 'law', 'enforcement', 'on', 'how', 'to', 'work', 'with', 'students', 'making', 'rash', 'moves', 'to', 'end', 'the', 'programs', 'because', 'of', 'political', 'and', 'social', 'pressure', 'could', 'make', 'schools', 'less', 'safe', 'they', 'say', 'and', 'also', 'disrupt', 'the', 'opportunity', 'for', 'healthy', 'relationships', 'to', 'grow', 'between', 'law', 'enforcement', 'and', 'students', 'when', 'this', 'is', 'done', 'the', 'right', 'way', 'it', 'the', 'epitome', 'of', 'community', 'based', 'policing', 'said', 'mo', 'canady', 'executive', 'director', 'of', 'the', 'national', 'association', 'of', 'school', 'resource', 'officers', 'that', 'philosophy', 'where', 'police', 'and', 'the', 'community', 'work', 'together', 'to', 'solve', 'crimes', 'and', 'improve', 'everyone', 'quality', 'of', 'life', 'canady', 'organization', 'trains', 'officers', 'how', 'to', 'enforce', 'the', 'law', 'in', 'school', 'setting', 'informally', 'counsel', 'students', 'and', 'act', 'as', 'an', 'educator', 'but', 'nothing', 'requires', 'school', 'resource', 'officers', 'to', 'undergo', 'such', 'training', 'canady', 'said', 'there', 'federal', 'resistance', 'to', 'that', 'idea', 'out', 'of', 'respect', 'for', 'the', 'tradition', 'of', 'local', 'control', 'he', 'added', 'it', 'better', 'if', 'districts', 'would', 'say', 'we', 'need', 'these', 'officers', 'trained', 'on', 'national', 'level', 'canady', 'said', 'nationally', 'protesters', 'seeking', 'justice', 'for', 'floyd', 'want', 'to', 'reduce', 'city', 'police', 'department', 'budgets', 'and', 'redirect', 'more', 'money', 'to', 'social', 'services', 'but', 'what', 'happening', 'at', 'schools', 'offers', 'window', 'into', 'the', 'relationship', 'between', 'law', 'enforcement', 'and', 'youth', 'while', 'police', 'have', 'been', 'stationed', 'in', 'schools', 'for', 'decades', 'they', 'don', 'make', 'schools', 'overwhelmingly', 'more', 'safe', 'studies', 'show', 'review', 'of', 'the', 'most', 'comprehensive', 'studies', 'on', 'school', 'based', 'law', 'enforcement', 'showed', 'the', 'officers', 'did', 'not', 'improve', 'students', 'perception', 'of', 'safety', 'and', 'out', 'of', 'school', 'suspensions', 'and', 'expulsions', 'increased', 'after', 'school', 'resource', 'officers', 'were', 'introduced', 'to', 'building', 'it', 'not', 'like', 'there', 'really', 'strong', 'research', 'base', 'that', 'says', 'with', 'police', 'in', 'schools', 'crime', 'goes', 'down', 'and', 'bullying', 'goes', 'down', 'and', 'there', 'are', 'no', 'shootings', 'said', 'anthony', 'petrosino', 'director', 'of', 'the', 'justice', 'and', 'prevention', 'research', 'center', 'at', 'wested', 'nonpartisan', 'research', 'organization', 'that', 'focuses', 'on', 'education', 'school', 'policing', 'is', 'much', 'more', 'common', 'in', 'schools', 'with', 'kids', 'of', 'color', 'petrosino', 'added', 'there', 'real', 'question', 'of', 'whether', 'it', 'helping', 'or', 'hurting', 'is', 'it', 'leading', 'to', 'more', 'of', 'these', 'kids', 'being', 'involved', 'in', 'the', 'justice', 'system', 'or', 'being', 'kicked', 'out', 'of', 'school', 'one', 'big', 'problem', 'is', 'children', 'of', 'racial', 'minorities', 'especially', 'black', 'students', 'are', 'more', 'likely', 'to', 'be', 'suspended', 'and', 'expelled', 'from', 'school', 'than', 'white', 'students', 'even', 'when', 'they', 'commit', 'similar', 'offenses', 'research', 'shows', 'pushed', 'out', 'and', 'punished', 'black', 'girls', 'punished', 'more', 'harshly', 'than', 'white', 'girls', 'and', 'of', 'the', 'approximate', 'million', 'students', 'in', 'america', 'attending', 'schools', 'with', 'police', 'officers', 'but', 'no', 'counselors', 'more', 'of', 'those', 'students', 'are', 'black', 'than', 'white', 'by', 'contrast', 'white', 'students', 'are', 'more', 'likely', 'to', 'attend', 'schools', 'with', 'counselors', 'but', 'not', 'police', 'federal', 'data', 'show', 'on', 'top', 'of', 'that', 'number', 'of', 'high', 'profile', 'incidents', 'in', 'recent', 'years', 'have', 'put', 'spotlight', 'on', 'police', 'brutality', 'toward', 'black', 'kids', 'and', 'teens', 'inside', 'and', 'outside', 'of', 'school', 'white', 'school', 'resource', 'officer', 'in', 'south', 'carolina', 'high', 'school', 'flipped', 'black', 'girl', 'out', 'of', 'her', 'desk', 'and', 'dragged', 'her', 'across', 'the', 'floor', 'in', 'black', 'school', 'resource', 'officer', 'in', 'orlando', 'arrested', 'sobbing', 'year', 'old', 'black', 'student', 'in', 'september', 'securing', 'her', 'with', 'zip', 'ties', 'because', 'she', 'was', 'too', 'small', 'for', 'handcuffs', 'white', 'officer', 'in', 'ferguson', 'missouri', 'shot', 'and', 'killed', 'michael', 'brown', 'an', 'unarmed', 'year', 'old', 'black', 'man', 'in', 'the', 'street', 'in', 'later', 'that', 'year', 'white', 'officer', 'in', 'cleveland', 'ohio', 'shot', 'and', 'killed', 'tamir', 'rice', 'year', 'old', 'black', 'boy', 'rice', 'had', 'been', 'playing', 'with', 'toy', 'gun', 'outside', 'recreation', 'center', 'change', 'in', 'ferguson', 'city', 'elects', 'first', 'black', 'female', 'mayor', 'years', 'after', 'michael', 'brown', 'death', 'in', 'the', 'only', 'of', 'schools', 'had', 'law', 'enforcement', 'officer', 'stationed', 'in', 'them', 'according', 'to', 'federal', 'data', 'now', 'of', 'schools', 'have', 'police', 'officer', 'in', 'the', 'building', 'at', 'least', 'one', 'day', 'week', 'according', 'to', 'the', 'most', 'recent', 'federal', 'data', 'and', 'among', 'large', 'schools', 'almost', 'had', 'sworn', 'officer', 'in', 'the', 'building', 'at', 'least', 'one', 'day', 'week', 'in', 'the', 'school', 'year', 'the', 'number', 'of', 'officers', 'in', 'schools', 'accelerated', 'rapidly', 'after', 'the', 'year', 'of', 'the', 'shooting', 'at', 'columbine', 'high', 'school', 'in', 'colorado', 'the', 'massacre', 'spurred', 'national', 'discussion', 'about', 'school', 'safety', 'and', 'boost', 'in', 'federal', 'funds', 'helped', 'pay', 'for', 'more', 'cops', 'in', 'schools', 'years', 'after', 'columbine', 'survivors', 'find', 'that', 'new', 'normal', 'between', 'and', 'program', 'started', 'under', 'the', 'clinton', 'administration', 'doled', 'out', 'million', 'in', 'grants', 'to', 'police', 'departments', 'to', 'support', 'hiring', 'thousands', 'more', 'school', 'resource', 'officers', 'since', 'then', 'law', 'enforcement', 'in', 'schools', 'seemed', 'like', 'the', 'one', 'thing', 'that', 'district', 'leaders', 'would', 'not', 'change', 'said', 'aaron', 'kupchik', 'professor', 'of', 'sociology', 'and', 'criminal', 'justice', 'at', 'the', 'university', 'of', 'delaware', 'we', 'typically', 'don', 'even', 'discuss', 'it', 'because', 'it', 'common', 'assumption', 'they', 're', 'here', 'to', 'stay', 'kupchik', 'said', 'so', 'people', 'focus', 'on', 'how', 'to', 'make', 'it', 'less', 'harmful', 'like', 'by', 'ending', 'zero', 'tolerance', 'policies', 'and', 'adding', 'more', 'restorative', 'justice', 'programs', 'under', 'zero', 'tolerance', 'students', 'who', 'break', 'school', 'rules', 'are', 'subject', 'to', 'mandatory', 'severe', 'consequences', 'such', 'as', 'being', 'expelled', 'restorative', 'justice', 'programs', 'offer', 'misbehaving', 'students', 'chance', 'to', 'take', 'ownership', 'of', 'their', 'actions', 'talk', 'through', 'what', 'prompted', 'them', 'and', 'repair', 'harm', 'they', 've', 'caused', 'to', 'others', 'restorative', 'justice', 'how', 'circle', 'keeping', 'works', 'at', 'one', 'midwestern', 'school', 'despite', 'talks', 'of', 'reform', 'students', 'social', 'justice', 'groups', 'and', 'the', 'american', 'civil', 'liberties', 'union', 'have', 'been', 'working', 'for', 'years', 'to', 'end', 'school', 'policing', 'long', 'before', 'the', 'calls', 'emerged', 'as', 'part', 'of', 'the', 'floyd', 'protests', 'that', 'key', 'reason', 'districts', 'are', 'taking', 'action', 'now', 'said', 'sarah', 'hinger', 'senior', 'staff', 'attorney', 'for', 'the', 'aclu', 'racial', 'justice', 'program', 'another', 'reason', 'school', 'districts', 'are', 'more', 'inclined', 'now', 'to', 'remove', 'police', 'officers', 'money', 'districts', 'are', 'facing', 'major', 'financial', 'shortfalls', 'because', 'of', 'the', 'covid', 'pandemic', 'and', 'loss', 'of', 'tax', 'revenue', 'because', 'of', 'the', 'economic', 'shutdown', 'it', 'widely', 'acknowledged', 'that', 'low', 'income', 'children', 'group', 'that', 'includes', 'many', 'black', 'and', 'brown', 'children', 'will', 'need', 'more', 'support', 'to', 'get', 'back', 'on', 'track', 'once', 'schools', 'reopen', 'many', 'haven', 'had', 'access', 'to', 'all', 'the', 'tools', 'needed', 'for', 'online', 'learning', 'such', 'as', 'high', 'speed', 'internet', 'or', 'their', 'own', 'computer', 'police', 'contracts', 'are', 'one', 'non', 'academic', 'budget', 'item', 'that', 'could', 'be', 'dropped', 'all', 'of', 'that', 'is', 'contributing', 'to', 'why', 'this', 'movement', 'is', 'really', 'catching', 'on', 'hinger', 'said', 'kids', 'need', 'to', 'talk', 'about', 'george', 'floyd', 'with', 'coronavirus', 'school', 'closures', 'it', 'hard', 'to', 'do', 'seattle', 'public', 'schools', 'announced', 'this', 'week', 'that', 'it', 'would', 'suspend', 'officers', 'from', 'schools', 'for', 'one', 'year', 'in', 'oakland', 'wednesday', 'the', 'school', 'superintendent', 'joined', 'the', 'majority', 'of', 'the', 'school', 'board', 'in', 'backing', 'the', 'elimination', 'of', 'the', 'district', 'in', 'house', 'police', 'force', 'one', 'idea', 'is', 'to', 'replace', 'it', 'with', 'non', 'uniformed', 'ambassadors', 'to', 'keep', 'the', 'peace', 'in', 'schools', 'black', 'students', 'account', 'for', 'of', 'the', 'students', 'arrested', 'in', 'oakland', 'schools', 'while', 'only', 'making', 'up', 'of', 'the', 'district', 'population', 'according', 'to', 'the', 'black', 'organizing', 'project', 'local', 'advocacy', 'group', 'oakland', 'board', 'is', 'slated', 'to', 'vote', 'on', 'eliminating', 'the', 'police', 'force', 'on', 'june', 'some', 'districts', 'are', 'less', 'inclined', 'to', 'remove', 'officers', 'the', 'chicago', 'teachers', 'union', 'has', 'reinvigorated', 'its', 'call', 'for', 'the', 'city', 'to', 'replace', 'school', 'resource', 'officers', 'with', 'counselors', 'but', 'mayor', 'lori', 'lightfoot', 'who', 'runs', 'the', 'city', 'as', 'well', 'as', 'the', 'district', 'indicated', 'she', 'not', 'interested', 'in', 'dumping', 'the', 'million', 'contract', 'with', 'the', 'chicago', 'police', 'department', 'more', 'than', 'three', 'quarters', 'of', 'the', 'city', 'high', 'schools', 'have', 'police', 'in', 'them', 'and', 'the', 'local', 'parent', 'and', 'teacher', 'councils', 'at', 'all', 'of', 'them', 'voted', 'to', 'keep', 'the', 'officers', 'this', 'year', 'according', 'to', 'local', 'news', 'reports', 'unfortunately', 'we', 'need', 'security', 'in', 'our', 'schools', 'lightfoot', 'said', 'in', 'protest', 'chicago', 'teachers', 'and', 'students', 'have', 'recently', 'staged', 'marches', 'and', 'car', 'caravan', 'parades', 'between', 'high', 'schools', 'chicago', 'protests', 'kanye', 'west', 'joins', 'march', 'offers', 'to', 'pay', 'legal', 'fees', 'for', 'breonna', 'taylor', 'family', 'in', 'los', 'angeles', 'the', 'teachers', 'union', 'said', 'monday', 'it', 'supports', 'ending', 'the', 'district', 'in', 'house', 'police', 'force', 'the', 'unit', 'places', 'about', 'officers', 'throughout', 'the', 'nation', 'second', 'largest', 'school', 'district', 'at', 'cost', 'of', 'about', 'million', 'annually', 'but', 'the', 'head', 'of', 'the', 'district', 'school', 'police', 'union', 'said', 'officers', 'are', 'better', 'trained', 'to', 'de', 'escalate', 'situations', 'in', 'buildings', 'than', 'outside', 'cops', 'called', 'to', 'campus', 'according', 'to', 'the', 'los', 'angeles', 'times', 'in', 'phoenix', 'hundreds', 'of', 'students', 'have', 'been', 'protesting', 'the', 'use', 'of', 'on', 'campus', 'police', 'officers', 'but', 'the', 'school', 'board', 'has', 'not', 'yet', 'taken', 'vote', 'on', 'whether', 'to', 'renew', 'the', 'contract', 'there', 'not', 'much', 'good', 'data', 'on', 'what', 'happens', 'when', 'you', 'remove', 'police', 'officers', 'from', 'schools', 'but', 'new', 'york', 'and', 'louisville', 'have', 'tried', 'some', 'new', 'ideas', 'decade', 'ago', 'report', 'from', 'new', 'york', 'city', 'examined', 'how', 'handful', 'of', 'high', 'schools', 'serving', 'at', 'risk', 'students', 'maintained', 'safe', 'environments', 'without', 'police', 'district', 'safety', 'agents', 'patrolled', 'halls', 'instead', 'metal', 'detectors', 'were', 'removed', 'administrators', 'created', 'alternatives', 'to', 'harsh', 'discipline', 'policies', 'the', 'aclu', 'which', 'published', 'the', 'report', 'is', 'notably', 'in', 'favor', 'of', 'removing', 'police', 'from', 'schools', 'in', 'louisville', 'kentucky', 'the', 'jefferson', 'county', 'public', 'schools', 'cut', 'ties', 'with', 'school', 'resource', 'officers', 'last', 'august', 'because', 'of', 'issues', 'related', 'to', 'the', 'criminalization', 'of', 'black', 'students', 'the', 'district', 'this', 'week', 'couldn', 'provide', 'comparison', 'of', 'school', 'arrest', 'data', 'from', 'before', 'and', 'after', 'police', 'were', 'removed', 'but', 'in', 'general', 'according', 'to', 'the', 'louisville', 'courier', 'journal', 'school', 'safety', 'hasn', 'changed', 'much', 'though', 'one', 'school', 'made', 'headlines', 'for', 'some', 'high', 'profile', 'student', 'on', 'teacher', 'altercations', 'louisville', 'has', 'seen', 'even', 'more', 'forceful', 'protests', 'than', 'some', 'cities', 'in', 'the', 'wake', 'of', 'the', 'death', 'of', 'breonna', 'taylor', 'who', 'was', 'shot', 'by', 'white', 'police', 'officer', 'in', 'her', 'bedroom', 'in', 'march', 'district', 'spokesperson', 'in', 'jefferson', 'county', 'said', 'this', 'week', 'the', 'district', 'is', 're', 'evaluating', 'its', 'school', 'safety', 'plan', 'which', 'could', 'still', 'include', 'armed', 'guards', 'in', 'schools', 'in', 'florida', 'janice', 'scott', 'cover', 'former', 'assistant', 'superintendent', 'in', 'the', 'palm', 'beach', 'county', 'school', 'district', 'said', 'administrators', 'can', 'also', 'work', 'harder', 'to', 'identify', 'the', 'root', 'cause', 'of', 'student', 'misbehavior', 'whether', 'cops', 'are', 'there', 'or', 'not', 'when', 'she', 'became', 'principal', 'of', 'troubled', 'elementary', 'school', 'two', 'decades', 'ago', 'the', 'school', 'resource', 'officer', 'arrested', 'children', 'for', 'fighting', 'disrespecting', 'teachers', 'and', 'walking', 'out', 'of', 'class', 'not', 'all', 'the', 'resource', 'officers', 'understand', 'how', 'to', 'police', 'in', 'schools', 'cover', 'said', 'some', 'still', 'behave', 'like', 'they', 're', 'out', 'on', 'the', 'street', 'grabbing', 'people', 'and', 'throwing', 'them', 'down', 'and', 'did', 'not', 'want', 'that', 'on', 'the', 'campus', 'cover', 'rearranged', 'the', 'budget', 'to', 'hire', 'another', 'social', 'worker', 'who', 'became', 'the', 'first', 'stop', 'for', 'misbehaving', 'children', 'she', 'had', 'teachers', 'rearrange', 'classrooms', 'so', 'students', 'worked', 'in', 'groups', 'and', 'practiced', 'cooperation', 'she', 'and', 'her', 'teachers', 'doubled', 'down', 'on', 'prodding', 'into', 'students', 'lives', 'often', 'getting', 'them', 'needed', 'household', 'or', 'personal', 'items', 'over', 'time', 'the', 'climate', 'and', 'academics', 'improved', 'something', 'cover', 'recounts', 'in', 'her', 'book', 'about', 'turning', 'around', 'low', 'performing', 'elementary', 'schools', 'happy', 'now', 'that', 'people', 'are', 'beginning', 'to', 'look', 'at', 'this', 'said', 'cover', 'who', 'is', 'black', 'my', 'hope', 'is', 'that', 'you', 'don', 'just', 'remove', 'the', 'police', 'officers', 'but', 'replace', 'them', 'with', 'something', 'else', 'like', 'counselors', 'or', 'mental', 'health', 'professionals', 'or', 'school', 'psychologists', 'olivia', 'krauth', 'contributed', 'to', 'this', 'story', 'from', 'louisville', 'kentucky', 'lily', 'altavena', 'contributed', 'from', 'phoenix', 'arizona', 'education', 'coverage', 'at', 'usa', 'today', 'is', 'made', 'possible', 'in', 'part', 'by', 'grant', 'from', 'the', 'bill', 'melinda', 'gates', 'foundation', 'the', 'gates', 'foundation', 'does', 'not', 'provide', 'editorial', 'input', 'three', 'summers', 'ago', 'about', 'students', 'and', 'activists', 'gathered', 'outside', 'the', 'minneapolis', 'public', 'schools', 'headquarters', 'to', 'demand', 'the', 'school', 'board', 'end', 'contract', 'that', 'placed', 'police', 'officers', 'in', 'schools', 'the', 'officers', 'whose', 'role', 'was', 'to', 'keep', 'schools', 'safe', 'actually', 'made', 'students', 'especially', 'black', 'students', 'feel', 'criminalized', 'activists', 'said', 'but', 'the', 'majority', 'of', 'teachers', 'staff', 'and', 'parents', 'liked', 'officers', 'in', 'schools', 'district', 'wide', 'survey', 'showed', 'at', 'the', 'time', 'the', 'board', 'renewed', 'the', 'three', 'year', 'contract', 'fast', 'forward', 'to', 'june', 'eight', 'days', 'after', 'george', 'floyd', 'died', 'under', 'the', 'knee', 'of', 'minneapolis', 'police', 'officer', 'the', 'school', 'board', 'revisited', 'that', 'contract', 'and', 'ended', 'it', 'the', 'vote', 'on', 'june', 'after', 'an', 'even', 'larger', 'crowd', 'of', 'protesters', 'gathered', 'outside', 'was', 'unanimous', 'the', 'values', 'we', 'see', 'in', 'the', 'police', 'department', 'do', 'not', 'match', 'our', 'values', 'said', 'kim', 'ellison', 'chair', 'of', 'the', 'minneapolis', 'school', 'board', 'the', 'school', 'board', 'became', 'one', 'of', 'the', 'first', 'major', 'governmental', 'bodies', 'to', 'change', 'the', 'balance', 'of', 'power', 'with', 'police', 'in', 'the', 'wake', 'of', 'floyd', 'death', 'the', 'change', 'has', 'prompted', 'wave', 'of', 'districts', 'nationwide', 'to', 'consider', 'terminating', 'their', 'relationships', 'with', 'police', 'from', 'chicago', 'new', 'york', 'and', 'los', 'angeles', 'to', 'smaller', 'cities', 'like', 'rochester', 'new', 'york', 'columbus', 'ohio', 'and', 'portland', 'maine', 'and', 'fort', 'collins', 'colorado', 'students', 'and', 'activists', 'are', 'demanding', 'the', 'discontinuation', 'of', 'school', 'resource', 'officers', 'they', 'want', 'the', 'money', 'spent', 'on', 'those', 'programs', 'to', 'go', 'to', 'other', 'peacekeeping', 'strategies', 'teen', 'activists', 'too', 'young', 'to', 'vote', 'in', 'but', 'fighting', 'for', 'change', 'police', 'in', 'schools', 'contribute', 'to', 'the', 'marginalization', 'of', 'students', 'of', 'color', 'they', 'say', 'that', 'because', 'schools', 'with', 'large', 'populations', 'of', 'black', 'and', 'brown', 'students', 'are', 'more', 'likely', 'to', 'have', 'law', 'enforcement', 'on', 'site', 'and', 'in', 'those', 'places', 'students', 'are', 'more', 'likely', 'to', 'be', 'arrested', 'for', 'certain', 'behaviors', 'rather', 'than', 'disciplined', 'by', 'an', 'administrator', 'last', 'week', 'portland', 'oregon', 'school', 'superintendent', 'announced', 'he', 'planned', 'to', 'remove', 'police', 'from', 'schools', 'denver', 'school', 'board', 'is', 'slated', 'to', 'vote', 'thursday', 'on', 'ending', 'contract', 'for', 'uniformed', 'officers', 'in', 'oakland', 'california', 'the', 'majority', 'of', 'the', 'school', 'board', 'and', 'superintendent', 'wednesday', 'backed', 'proposal', 'to', 'eliminate', 'the', 'district', 'million', 'internal', 'police', 'force', 'despite', 'concerns', 'from', 'some', 'principals', 'according', 'to', 'the', 'san', 'francisco', 'chronicle', 'advocates', 'for', 'school', 'resource', 'officers', 'say', 'the', 'problem', 'lies', 'with', 'inconsistent', 'training', 'for', 'law', 'enforcement', 'on', 'how', 'to', 'work', 'with', 'students', 'making', 'rash', 'moves', 'to', 'end', 'the', 'programs', 'because', 'of', 'political', 'and', 'social', 'pressure', 'could', 'make', 'schools', 'less', 'safe', 'they', 'say', 'and', 'also', 'disrupt', 'the', 'opportunity', 'for', 'healthy', 'relationships', 'to', 'grow', 'between', 'law', 'enforcement', 'and', 'students', 'when', 'this', 'is', 'done', 'the', 'right', 'way', 'it', 'the', 'epitome', 'of', 'community', 'based', 'policing', 'said', 'mo', 'canady', 'executive', 'director', 'of', 'the', 'national', 'association', 'of', 'school', 'resource', 'officers', 'that', 'philosophy', 'where', 'police', 'and', 'the', 'community', 'work', 'together', 'to', 'solve', 'crimes', 'and', 'improve', 'everyone', 'quality', 'of', 'life', 'canady', 'organization', 'trains', 'officers', 'how', 'to', 'enforce', 'the', 'law', 'in', 'school', 'setting', 'informally', 'counsel', 'students', 'and', 'act', 'as', 'an', 'educator', 'but', 'nothing', 'requires', 'school', 'resource', 'officers', 'to', 'undergo', 'such', 'training', 'canady', 'said', 'there', 'federal', 'resistance', 'to', 'that', 'idea', 'out', 'of', 'respect', 'for', 'the', 'tradition', 'of', 'local', 'control', 'he', 'added', 'it', 'better', 'if', 'districts', 'would', 'say', 'we', 'need', 'these', 'officers', 'trained', 'on', 'national', 'level', 'canady', 'said', 'nationally', 'protesters', 'seeking', 'justice', 'for', 'floyd', 'want', 'to', 'reduce', 'city', 'police', 'department', 'budgets', 'and', 'redirect', 'more', 'money', 'to', 'social', 'services', 'but', 'what', 'happening', 'at', 'schools', 'offers', 'window', 'into', 'the', 'relationship', 'between', 'law', 'enforcement', 'and', 'youth', 'while', 'police', 'have', 'been', 'stationed', 'in', 'schools', 'for', 'decades', 'they', 'don', 'make', 'schools', 'overwhelmingly', 'more', 'safe', 'studies', 'show', 'review', 'of', 'the', 'most', 'comprehensive', 'studies', 'on', 'school', 'based', 'law', 'enforcement', 'showed', 'the', 'officers', 'did', 'not', 'improve', 'students', 'perception', 'of', 'safety', 'and', 'out', 'of', 'school', 'suspensions', 'and', 'expulsions', 'increased', 'after', 'school', 'resource', 'officers', 'were', 'introduced', 'to', 'building', 'it', 'not', 'like', 'there', 'really', 'strong', 'research', 'base', 'that', 'says', 'with', 'police', 'in', 'schools', 'crime', 'goes', 'down', 'and', 'bullying', 'goes', 'down', 'and', 'there', 'are', 'no', 'shootings', 'said', 'anthony', 'petrosino', 'director', 'of', 'the', 'justice', 'and', 'prevention', 'research', 'center', 'at', 'wested', 'nonpartisan', 'research', 'organization', 'that', 'focuses', 'on', 'education', 'school', 'policing', 'is', 'much', 'more', 'common', 'in', 'schools', 'with', 'kids', 'of', 'color', 'petrosino', 'added', 'there', 'real', 'question', 'of', 'whether', 'it', 'helping', 'or', 'hurting', 'is', 'it', 'leading', 'to', 'more', 'of', 'these', 'kids', 'being', 'involved', 'in', 'the', 'justice', 'system', 'or', 'being', 'kicked', 'out', 'of', 'school', 'one', 'big', 'problem', 'is', 'children', 'of', 'racial', 'minorities', 'especially', 'black', 'students', 'are', 'more', 'likely', 'to', 'be', 'suspended', 'and', 'expelled', 'from', 'school', 'than', 'white', 'students', 'even', 'when', 'they', 'commit', 'similar', 'offenses', 'research', 'shows', 'pushed', 'out', 'and', 'punished', 'black', 'girls', 'punished', 'more', 'harshly', 'than', 'white', 'girls', 'and', 'of', 'the', 'approximate', 'million', 'students', 'in', 'america', 'attending', 'schools', 'with', 'police', 'officers', 'but', 'no', 'counselors', 'more', 'of', 'those', 'students', 'are', 'black', 'than', 'white', 'by', 'contrast', 'white', 'students', 'are', 'more', 'likely', 'to', 'attend', 'schools', 'with', 'counselors', 'but', 'not', 'police', 'federal', 'data', 'show', 'on', 'top', 'of', 'that', 'number', 'of', 'high', 'profile', 'incidents', 'in', 'recent', 'years', 'have', 'put', 'spotlight', 'on', 'police', 'brutality', 'toward', 'black', 'kids', 'and', 'teens', 'inside', 'and', 'outside', 'of', 'school', 'white', 'school', 'resource', 'officer', 'in', 'south', 'carolina', 'high', 'school', 'flipped', 'black', 'girl', 'out', 'of', 'her', 'desk', 'and', 'dragged', 'her', 'across', 'the', 'floor', 'in', 'black', 'school', 'resource', 'officer', 'in', 'orlando', 'arrested', 'sobbing', 'year', 'old', 'black', 'student', 'in', 'september', 'securing', 'her', 'with', 'zip', 'ties', 'because', 'she', 'was', 'too', 'small', 'for', 'handcuffs', 'white', 'officer', 'in', 'ferguson', 'missouri', 'shot', 'and', 'killed', 'michael', 'brown', 'an', 'unarmed', 'year', 'old', 'black', 'man', 'in', 'the', 'street', 'in', 'later', 'that', 'year', 'white', 'officer', 'in', 'cleveland', 'ohio', 'shot', 'and', 'killed', 'tamir', 'rice', 'year', 'old', 'black', 'boy', 'rice', 'had', 'been', 'playing', 'with', 'toy', 'gun', 'outside', 'recreation', 'center', 'change', 'in', 'ferguson', 'city', 'elects', 'first', 'black', 'female', 'mayor', 'years', 'after', 'michael', 'brown', 'death', 'in', 'the', 'only', 'of', 'schools', 'had', 'law', 'enforcement', 'officer', 'stationed', 'in', 'them', 'according', 'to', 'federal', 'data', 'now', 'of', 'schools', 'have', 'police', 'officer', 'in', 'the', 'building', 'at', 'least', 'one', 'day', 'week', 'according', 'to', 'the', 'most', 'recent', 'federal', 'data', 'and', 'among', 'large', 'schools', 'almost', 'had', 'sworn', 'officer', 'in', 'the', 'building', 'at', 'least', 'one', 'day', 'week', 'in', 'the', 'school', 'year', 'the', 'number', 'of', 'officers', 'in', 'schools', 'accelerated', 'rapidly', 'after', 'the', 'year', 'of', 'the', 'shooting', 'at', 'columbine', 'high', 'school', 'in', 'colorado', 'the', 'massacre', 'spurred', 'national', 'discussion', 'about', 'school', 'safety', 'and', 'boost', 'in', 'federal', 'funds', 'helped', 'pay', 'for', 'more', 'cops', 'in', 'schools', 'years', 'after', 'columbine', 'survivors', 'find', 'that', 'new', 'normal', 'between', 'and', 'program', 'started', 'under', 'the', 'clinton', 'administration', 'doled', 'out', 'million', 'in', 'grants', 'to', 'police', 'departments', 'to', 'support', 'hiring', 'thousands', 'more', 'school', 'resource', 'officers', 'since', 'then', 'law', 'enforcement', 'in', 'schools', 'seemed', 'like', 'the', 'one', 'thing', 'that', 'district', 'leaders', 'would', 'not', 'change', 'said', 'aaron', 'kupchik', 'professor', 'of', 'sociology', 'and', 'criminal', 'justice', 'at', 'the', 'university', 'of', 'delaware', 'we', 'typically', 'don', 'even', 'discuss', 'it', 'because', 'it', 'common', 'assumption', 'they', 're', 'here', 'to', 'stay', 'kupchik', 'said', 'so', 'people', 'focus', 'on', 'how', 'to', 'make', 'it', 'less', 'harmful', 'like', 'by', 'ending', 'zero', 'tolerance', 'policies', 'and', 'adding', 'more', 'restorative', 'justice', 'programs', 'under', 'zero', 'tolerance', 'students', 'who', 'break', 'school', 'rules', 'are', 'subject', 'to', 'mandatory', 'severe', 'consequences', 'such', 'as', 'being', 'expelled', 'restorative', 'justice', 'programs', 'offer', 'misbehaving', 'students', 'chance', 'to', 'take', 'ownership', 'of', 'their', 'actions', 'talk', 'through', 'what', 'prompted', 'them', 'and', 'repair', 'harm', 'they', 've', 'caused', 'to', 'others', 'restorative', 'justice', 'how', 'circle', 'keeping', 'works', 'at', 'one', 'midwestern', 'school', 'despite', 'talks', 'of', 'reform', 'students', 'social', 'justice', 'groups', 'and', 'the', 'american', 'civil', 'liberties', 'union', 'have', 'been', 'working', 'for', 'years', 'to', 'end', 'school', 'policing', 'long', 'before', 'the', 'calls', 'emerged', 'as', 'part', 'of', 'the', 'floyd', 'protests', 'that', 'key', 'reason', 'districts', 'are', 'taking', 'action', 'now', 'said', 'sarah', 'hinger', 'senior', 'staff', 'attorney', 'for', 'the', 'aclu', 'racial', 'justice', 'program', 'another', 'reason', 'school', 'districts', 'are', 'more', 'inclined', 'now', 'to', 'remove', 'police', 'officers', 'money', 'districts', 'are', 'facing', 'major', 'financial', 'shortfalls', 'because', 'of', 'the', 'covid', 'pandemic', 'and', 'loss', 'of', 'tax', 'revenue', 'because', 'of', 'the', 'economic', 'shutdown', 'it', 'widely', 'acknowledged', 'that', 'low', 'income', 'children', 'group', 'that', 'includes', 'many', 'black', 'and', 'brown', 'children', 'will', 'need', 'more', 'support', 'to', 'get', 'back', 'on', 'track', 'once', 'schools', 'reopen', 'many', 'haven', 'had', 'access', 'to', 'all', 'the', 'tools', 'needed', 'for', 'online', 'learning', 'such', 'as', 'high', 'speed', 'internet', 'or', 'their', 'own', 'computer', 'police', 'contracts', 'are', 'one', 'non', 'academic', 'budget', 'item', 'that', 'could', 'be', 'dropped', 'all', 'of', 'that', 'is', 'contributing', 'to', 'why', 'this', 'movement', 'is', 'really', 'catching', 'on', 'hinger', 'said', 'kids', 'need', 'to', 'talk', 'about', 'george', 'floyd', 'with', 'coronavirus', 'school', 'closures', 'it', 'hard', 'to', 'do', 'seattle', 'public', 'schools', 'announced', 'this', 'week', 'that', 'it', 'would', 'suspend', 'officers', 'from', 'schools', 'for', 'one', 'year', 'in', 'oakland', 'wednesday', 'the', 'school', 'superintendent', 'joined', 'the', 'majority', 'of', 'the', 'school', 'board', 'in', 'backing', 'the', 'elimination', 'of', 'the', 'district', 'in', 'house', 'police', 'force', 'one', 'idea', 'is', 'to', 'replace', 'it', 'with', 'non', 'uniformed', 'ambassadors', 'to', 'keep', 'the', 'peace', 'in', 'schools', 'black', 'students', 'account', 'for', 'of', 'the', 'students', 'arrested', 'in', 'oakland', 'schools', 'while', 'only', 'making', 'up', 'of', 'the', 'district', 'population', 'according', 'to', 'the', 'black', 'organizing', 'project', 'local', 'advocacy', 'group', 'oakland', 'board', 'is', 'slated', 'to', 'vote', 'on', 'eliminating', 'the', 'police', 'force', 'on', 'june', 'some', 'districts', 'are', 'less', 'inclined', 'to', 'remove', 'officers', 'the', 'chicago', 'teachers', 'union', 'has', 'reinvigorated', 'its', 'call', 'for', 'the', 'city', 'to', 'replace', 'school', 'resource', 'officers', 'with', 'counselors', 'but', 'mayor', 'lori', 'lightfoot', 'who', 'runs', 'the', 'city', 'as', 'well', 'as', 'the', 'district', 'indicated', 'she', 'not', 'interested', 'in', 'dumping', 'the', 'million', 'contract', 'with', 'the', 'chicago', 'police', 'department', 'more', 'than', 'three', 'quarters', 'of', 'the', 'city', 'high', 'schools', 'have', 'police', 'in', 'them', 'and', 'the', 'local', 'parent', 'and', 'teacher', 'councils', 'at', 'all', 'of', 'them', 'voted', 'to', 'keep', 'the', 'officers', 'this', 'year', 'according', 'to', 'local', 'news', 'reports', 'unfortunately', 'we', 'need', 'security', 'in', 'our', 'schools', 'lightfoot', 'said', 'in', 'protest', 'chicago', 'teachers', 'and', 'students', 'have', 'recently', 'staged', 'marches', 'and', 'car', 'caravan', 'parades', 'between', 'high', 'schools', 'chicago', 'protests', 'kanye', 'west', 'joins', 'march', 'offers', 'to', 'pay', 'legal', 'fees', 'for', 'breonna', 'taylor', 'family', 'in', 'los', 'angeles', 'the', 'teachers', 'union', 'said', 'monday', 'it', 'supports', 'ending', 'the', 'district', 'in', 'house', 'police', 'force', 'the', 'unit', 'places', 'about', 'officers', 'throughout', 'the', 'nation', 'second', 'largest', 'school', 'district', 'at', 'cost', 'of', 'about', 'million', 'annually', 'but', 'the', 'head', 'of', 'the', 'district', 'school', 'police', 'union', 'said', 'officers', 'are', 'better', 'trained', 'to', 'de', 'escalate', 'situations', 'in', 'buildings', 'than', 'outside', 'cops', 'called', 'to', 'campus', 'according', 'to', 'the', 'los', 'angeles', 'times', 'in', 'phoenix', 'hundreds', 'of', 'students', 'have', 'been', 'protesting', 'the', 'use', 'of', 'on', 'campus', 'police', 'officers', 'but', 'the', 'school', 'board', 'has', 'not', 'yet', 'taken', 'vote', 'on', 'whether', 'to', 'renew', 'the', 'contract', 'there', 'not', 'much', 'good', 'data', 'on', 'what', 'happens', 'when', 'you', 'remove', 'police', 'officers', 'from', 'schools', 'but', 'new', 'york', 'and', 'louisville', 'have', 'tried', 'some', 'new', 'ideas', 'decade', 'ago', 'report', 'from', 'new', 'york', 'city', 'examined', 'how', 'handful', 'of', 'high', 'schools', 'serving', 'at', 'risk', 'students', 'maintained', 'safe', 'environments', 'without', 'police', 'district', 'safety', 'agents', 'patrolled', 'halls', 'instead', 'metal', 'detectors', 'were', 'removed', 'administrators', 'created', 'alternatives', 'to', 'harsh', 'discipline', 'policies', 'the', 'aclu', 'which', 'published', 'the', 'report', 'is', 'notably', 'in', 'favor', 'of', 'removing', 'police', 'from', 'schools', 'in', 'louisville', 'kentucky', 'the', 'jefferson', 'county', 'public', 'schools', 'cut', 'ties', 'with', 'school', 'resource', 'officers', 'last', 'august', 'because', 'of', 'issues', 'related', 'to', 'the', 'criminalization', 'of', 'black', 'students', 'the', 'district', 'this', 'week', 'couldn', 'provide', 'comparison', 'of', 'school', 'arrest', 'data', 'from', 'before', 'and', 'after', 'police', 'were', 'removed', 'but', 'in', 'general', 'according', 'to', 'the', 'louisville', 'courier', 'journal', 'school', 'safety', 'hasn', 'changed', 'much', 'though', 'one', 'school', 'made', 'headlines', 'for', 'some', 'high', 'profile', 'student', 'on', 'teacher', 'altercations', 'louisville', 'has', 'seen', 'even', 'more', 'forceful', 'protests', 'than', 'some', 'cities', 'in', 'the', 'wake', 'of', 'the', 'death', 'of', 'breonna', 'taylor', 'who', 'was', 'shot', 'by', 'white', 'police', 'officer', 'in', 'her', 'bedroom', 'in', 'march', 'district', 'spokesperson', 'in', 'jefferson', 'county', 'said', 'this', 'week', 'the', 'district', 'is', 're', 'evaluating', 'its', 'school', 'safety', 'plan', 'which', 'could', 'still', 'include', 'armed', 'guards', 'in', 'schools', 'in', 'florida', 'janice', 'scott', 'cover', 'former', 'assistant', 'superintendent', 'in', 'the', 'palm', 'beach', 'county', 'school', 'district', 'said', 'administrators', 'can', 'also', 'work', 'harder', 'to', 'identify', 'the', 'root', 'cause', 'of', 'student', 'misbehavior', 'whether', 'cops', 'are', 'there', 'or', 'not', 'when', 'she', 'became', 'principal', 'of', 'troubled', 'elementary', 'school', 'two', 'decades', 'ago', 'the', 'school', 'resource', 'officer', 'arrested', 'children', 'for', 'fighting', 'disrespecting', 'teachers', 'and', 'walking', 'out', 'of', 'class', 'not', 'all', 'the', 'resource', 'officers', 'understand', 'how', 'to', 'police', 'in', 'schools', 'cover', 'said', 'some', 'still', 'behave', 'like', 'they', 're', 'out', 'on', 'the', 'street', 'grabbing', 'people', 'and', 'throwing', 'them', 'down', 'and', 'did', 'not', 'want', 'that', 'on', 'the', 'campus', 'cover', 'rearranged', 'the', 'budget', 'to', 'hire', 'another', 'social', 'worker', 'who', 'became', 'the', 'first', 'stop', 'for', 'misbehaving', 'children', 'she', 'had', 'teachers', 'rearrange', 'classrooms', 'so', 'students', 'worked', 'in', 'groups', 'and', 'practiced', 'cooperation', 'she', 'and', 'her', 'teachers', 'doubled', 'down', 'on', 'prodding', 'into', 'students', 'lives', 'often', 'getting', 'them', 'needed', 'household', 'or', 'personal', 'items', 'over', 'time', 'the', 'climate', 'and', 'academics', 'improved', 'something', 'cover', 'recounts', 'in', 'her', 'book', 'about', 'turning', 'around', 'low', 'performing', 'elementary', 'schools', 'happy', 'now', 'that', 'people', 'are', 'beginning', 'to', 'look', 'at', 'this', 'said', 'cover', 'who', 'is', 'black', 'my', 'hope', 'is', 'that', 'you', 'don', 'just', 'remove', 'the', 'police', 'officers', 'but', 'replace', 'them', 'with', 'something', 'else', 'like', 'counselors', 'or', 'mental', 'health', 'professionals', 'or', 'school', 'psychologists', 'olivia', 'krauth', 'contributed', 'to', 'this', 'story', 'from', 'louisville', 'kentucky', 'lily', 'altavena', 'contributed', 'from', 'phoenix', 'arizona', 'education', 'coverage', 'at', 'usa', 'today', 'is', 'made', 'possible', 'in', 'part', 'by', 'grant', 'from', 'the', 'bill', 'melinda', 'gates', 'foundation', 'the', 'gates', 'foundation', 'does', 'not', 'provide', 'editorial', 'input', 'three', 'summers', 'ago', 'about', 'students', 'and', 'activists', 'gathered', 'outside', 'the', 'minneapolis', 'public', 'schools', 'headquarters', 'to', 'demand', 'the', 'school', 'board', 'end', 'contract', 'that', 'placed', 'police', 'officers', 'in', 'schools', 'the', 'officers', 'whose', 'role', 'was', 'to', 'keep', 'schools', 'safe', 'actually', 'made', 'students', 'especially', 'black', 'students', 'feel', 'criminalized', 'activists', 'said', 'but', 'the', 'majority', 'of', 'teachers', 'staff', 'and', 'parents', 'liked', 'officers', 'in', 'schools', 'district', 'wide', 'survey', 'showed', 'at', 'the', 'time', 'the', 'board', 'renewed', 'the', 'three', 'year', 'contract', 'fast', 'forward', 'to', 'june', 'eight', 'days', 'after', 'george', 'floyd', 'died', 'under', 'the', 'knee', 'of', 'minneapolis', 'police', 'officer', 'the', 'school', 'board', 'revisited', 'that', 'contract', 'and', 'ended', 'it', 'the', 'vote', 'on', 'june', 'after', 'an', 'even', 'larger', 'crowd', 'of', 'protesters', 'gathered', 'outside', 'was', 'unanimous', 'the', 'values', 'we', 'see', 'in', 'the', 'police', 'department', 'do', 'not', 'match', 'our', 'values', 'said', 'kim', 'ellison', 'chair', 'of', 'the', 'minneapolis', 'school', 'board', 'the', 'school', 'board', 'became', 'one', 'of', 'the', 'first', 'major', 'governmental', 'bodies', 'to', 'change', 'the', 'balance', 'of', 'power', 'with', 'police', 'in', 'the', 'wake', 'of', 'floyd', 'death', 'the', 'change', 'has', 'prompted', 'wave', 'of', 'districts', 'nationwide', 'to', 'consider', 'terminating', 'their', 'relationships', 'with', 'police', 'from', 'chicago', 'new', 'york', 'and', 'los', 'angeles', 'to', 'smaller', 'cities', 'like', 'rochester', 'new', 'york', 'columbus', 'ohio', 'and', 'portland', 'maine', 'and', 'fort', 'collins', 'colorado', 'students', 'and', 'activists', 'are', 'demanding', 'the', 'discontinuation', 'of', 'school', 'resource', 'officers', 'they', 'want', 'the', 'money', 'spent', 'on', 'those', 'programs', 'to', 'go', 'to', 'other', 'peacekeeping', 'strategies', 'teen', 'activists', 'too', 'young', 'to', 'vote', 'in', 'but', 'fighting', 'for', 'change', 'police', 'in', 'schools', 'contribute', 'to', 'the', 'marginalization', 'of', 'students', 'of', 'color', 'they', 'say', 'that', 'because', 'schools', 'with', 'large', 'populations', 'of', 'black', 'and', 'brown', 'students', 'are', 'more', 'likely', 'to', 'have', 'law', 'enforcement', 'on', 'site', 'and', 'in', 'those', 'places', 'students', 'are', 'more', 'likely', 'to', 'be', 'arrested', 'for', 'certain', 'behaviors', 'rather', 'than', 'disciplined', 'by', 'an', 'administrator', 'last', 'week', 'portland', 'oregon', 'school', 'superintendent', 'announced', 'he', 'planned', 'to', 'remove', 'police', 'from', 'schools', 'denver', 'school', 'board', 'is', 'slated', 'to', 'vote', 'thursday', 'on', 'ending', 'contract', 'for', 'uniformed', 'officers', 'in', 'oakland', 'california', 'the', 'majority', 'of', 'the', 'school', 'board', 'and', 'superintendent', 'wednesday', 'backed', 'proposal', 'to', 'eliminate', 'the', 'district', 'million', 'internal', 'police', 'force', 'despite', 'concerns', 'from', 'some', 'principals', 'according', 'to', 'the', 'san', 'francisco', 'chronicle', 'advocates', 'for', 'school', 'resource', 'officers', 'say', 'the', 'problem', 'lies', 'with', 'inconsistent', 'training', 'for', 'law', 'enforcement', 'on', 'how', 'to', 'work', 'with', 'students', 'making', 'rash', 'moves', 'to', 'end', 'the', 'programs', 'because', 'of', 'political', 'and', 'social', 'pressure', 'could', 'make', 'schools', 'less', 'safe', 'they', 'say', 'and', 'also', 'disrupt', 'the', 'opportunity', 'for', 'healthy', 'relationships', 'to', 'grow', 'between', 'law', 'enforcement', 'and', 'students', 'when', 'this', 'is', 'done', 'the', 'right', 'way', 'it', 'the', 'epitome', 'of', 'community', 'based', 'policing', 'said', 'mo', 'canady', 'executive', 'director', 'of', 'the', 'national', 'association', 'of', 'school', 'resource', 'officers', 'that', 'philosophy', 'where', 'police', 'and', 'the', 'community', 'work', 'together', 'to', 'solve', 'crimes', 'and', 'improve', 'everyone', 'quality', 'of', 'life', 'canady', 'organization', 'trains', 'officers', 'how', 'to', 'enforce', 'the', 'law', 'in', 'school', 'setting', 'informally', 'counsel', 'students', 'and', 'act', 'as', 'an', 'educator', 'but', 'nothing', 'requires', 'school', 'resource', 'officers', 'to', 'undergo', 'such', 'training', 'canady', 'said', 'there', 'federal', 'resistance', 'to', 'that', 'idea', 'out', 'of', 'respect', 'for', 'the', 'tradition', 'of', 'local', 'control', 'he', 'added', 'it', 'better', 'if', 'districts', 'would', 'say', 'we', 'need', 'these', 'officers', 'trained', 'on', 'national', 'level', 'canady', 'said', 'nationally', 'protesters', 'seeking', 'justice', 'for', 'floyd', 'want', 'to', 'reduce', 'city', 'police', 'department', 'budgets', 'and', 'redirect', 'more', 'money', 'to', 'social', 'services', 'but', 'what', 'happening', 'at', 'schools', 'offers', 'window', 'into', 'the', 'relationship', 'between', 'law', 'enforcement', 'and', 'youth', 'while', 'police', 'have', 'been', 'stationed', 'in', 'schools', 'for', 'decades', 'they', 'don', 'make', 'schools', 'overwhelmingly', 'more', 'safe', 'studies', 'show', 'review', 'of', 'the', 'most', 'comprehensive', 'studies', 'on', 'school', 'based', 'law', 'enforcement', 'showed', 'the', 'officers', 'did', 'not', 'improve', 'students', 'perception', 'of', 'safety', 'and', 'out', 'of', 'school', 'suspensions', 'and', 'expulsions', 'increased', 'after', 'school', 'resource', 'officers', 'were', 'introduced', 'to', 'building', 'it', 'not', 'like', 'there', 'really', 'strong', 'research', 'base', 'that', 'says', 'with', 'police', 'in', 'schools', 'crime', 'goes', 'down', 'and', 'bullying', 'goes', 'down', 'and', 'there', 'are', 'no', 'shootings', 'said', 'anthony', 'petrosino', 'director', 'of', 'the', 'justice', 'and', 'prevention', 'research', 'center', 'at', 'wested', 'nonpartisan', 'research', 'organization', 'that', 'focuses', 'on', 'education', 'school', 'policing', 'is', 'much', 'more', 'common', 'in', 'schools', 'with', 'kids', 'of', 'color', 'petrosino', 'added', 'there', 'real', 'question', 'of', 'whether', 'it', 'helping', 'or', 'hurting', 'is', 'it', 'leading', 'to', 'more', 'of', 'these', 'kids', 'being', 'involved', 'in', 'the', 'justice', 'system', 'or', 'being', 'kicked', 'out', 'of', 'school', 'one', 'big', 'problem', 'is', 'children', 'of', 'racial', 'minorities', 'especially', 'black', 'students', 'are', 'more', 'likely', 'to', 'be', 'suspended', 'and', 'expelled', 'from', 'school', 'than', 'white', 'students', 'even', 'when', 'they', 'commit', 'similar', 'offenses', 'research', 'shows', 'pushed', 'out', 'and', 'punished', 'black', 'girls', 'punished', 'more', 'harshly', 'than', 'white', 'girls', 'and', 'of', 'the', 'approximate', 'million', 'students', 'in', 'america', 'attending', 'schools', 'with', 'police', 'officers', 'but', 'no', 'counselors', 'more', 'of', 'those', 'students', 'are', 'black', 'than', 'white', 'by', 'contrast', 'white', 'students', 'are', 'more', 'likely', 'to', 'attend', 'schools', 'with', 'counselors', 'but', 'not', 'police', 'federal', 'data', 'show', 'on', 'top', 'of', 'that', 'number', 'of', 'high', 'profile', 'incidents', 'in', 'recent', 'years', 'have', 'put', 'spotlight', 'on', 'police', 'brutality', 'toward', 'black', 'kids', 'and', 'teens', 'inside', 'and', 'outside', 'of', 'school', 'white', 'school', 'resource', 'officer', 'in', 'south', 'carolina', 'high', 'school', 'flipped', 'black', 'girl', 'out', 'of', 'her', 'desk', 'and', 'dragged', 'her', 'across', 'the', 'floor', 'in', 'black', 'school', 'resource', 'officer', 'in', 'orlando', 'arrested', 'sobbing', 'year', 'old', 'black', 'student', 'in', 'september', 'securing', 'her', 'with', 'zip', 'ties', 'because', 'she', 'was', 'too', 'small', 'for', 'handcuffs', 'white', 'officer', 'in', 'ferguson', 'missouri', 'shot', 'and', 'killed', 'michael', 'brown', 'an', 'unarmed', 'year', 'old', 'black', 'man', 'in', 'the', 'street', 'in', 'later', 'that', 'year', 'white', 'officer', 'in', 'cleveland', 'ohio', 'shot', 'and', 'killed', 'tamir', 'rice', 'year', 'old', 'black', 'boy', 'rice', 'had', 'been', 'playing', 'with', 'toy', 'gun', 'outside', 'recreation', 'center', 'change', 'in', 'ferguson', 'city', 'elects', 'first', 'black', 'female', 'mayor', 'years', 'after', 'michael', 'brown', 'death', 'in', 'the', 'only', 'of', 'schools', 'had', 'law', 'enforcement', 'officer', 'stationed', 'in', 'them', 'according', 'to', 'federal', 'data', 'now', 'of', 'schools', 'have', 'police', 'officer', 'in', 'the', 'building', 'at', 'least', 'one', 'day', 'week', 'according', 'to', 'the', 'most', 'recent', 'federal', 'data', 'and', 'among', 'large', 'schools', 'almost', 'had', 'sworn', 'officer', 'in', 'the', 'building', 'at', 'least', 'one', 'day', 'week', 'in', 'the', 'school', 'year', 'the', 'number', 'of', 'officers', 'in', 'schools', 'accelerated', 'rapidly', 'after', 'the', 'year', 'of', 'the', 'shooting', 'at', 'columbine', 'high', 'school', 'in', 'colorado', 'the', 'massacre', 'spurred', 'national', 'discussion', 'about', 'school', 'safety', 'and', 'boost', 'in', 'federal', 'funds', 'helped', 'pay', 'for', 'more', 'cops', 'in', 'schools', 'years', 'after', 'columbine', 'survivors', 'find', 'that', 'new', 'normal', 'between', 'and', 'program', 'started', 'under', 'the', 'clinton', 'administration', 'doled', 'out', 'million', 'in', 'grants', 'to', 'police', 'departments', 'to', 'support', 'hiring', 'thousands', 'more', 'school', 'resource', 'officers', 'since', 'then', 'law', 'enforcement', 'in', 'schools', 'seemed', 'like', 'the', 'one', 'thing', 'that', 'district', 'leaders', 'would', 'not', 'change', 'said', 'aaron', 'kupchik', 'professor', 'of', 'sociology', 'and', 'criminal', 'justice', 'at', 'the', 'university', 'of', 'delaware', 'we', 'typically', 'don', 'even', 'discuss', 'it', 'because', 'it', 'common', 'assumption', 'they', 're', 'here', 'to', 'stay', 'kupchik', 'said', 'so', 'people', 'focus', 'on', 'how', 'to', 'make', 'it', 'less', 'harmful', 'like', 'by', 'ending', 'zero', 'tolerance', 'policies', 'and', 'adding', 'more', 'restorative', 'justice', 'programs', 'under', 'zero', 'tolerance', 'students', 'who', 'break', 'school', 'rules', 'are', 'subject', 'to', 'mandatory', 'severe', 'consequences', 'such', 'as', 'being', 'expelled', 'restorative', 'justice', 'programs', 'offer', 'misbehaving', 'students', 'chance', 'to', 'take', 'ownership', 'of', 'their', 'actions', 'talk', 'through', 'what', 'prompted', 'them', 'and', 'repair', 'harm', 'they', 've', 'caused', 'to', 'others', 'restorative', 'justice', 'how', 'circle', 'keeping', 'works', 'at', 'one', 'midwestern', 'school', 'despite', 'talks', 'of', 'reform', 'students', 'social', 'justice', 'groups', 'and', 'the', 'american', 'civil', 'liberties', 'union', 'have', 'been', 'working', 'for', 'years', 'to', 'end', 'school', 'policing', 'long', 'before', 'the', 'calls', 'emerged', 'as', 'part', 'of', 'the', 'floyd', 'protests', 'that', 'key', 'reason', 'districts', 'are', 'taking', 'action', 'now', 'said', 'sarah', 'hinger', 'senior', 'staff', 'attorney', 'for', 'the', 'aclu', 'racial', 'justice', 'program', 'another', 'reason', 'school', 'districts', 'are', 'more', 'inclined', 'now', 'to', 'remove', 'police', 'officers', 'money', 'districts', 'are', 'facing', 'major', 'financial', 'shortfalls', 'because', 'of', 'the', 'covid', 'pandemic', 'and', 'loss', 'of', 'tax', 'revenue', 'because', 'of', 'the', 'economic', 'shutdown', 'it', 'widely', 'acknowledged', 'that', 'low', 'income', 'children', 'group', 'that', 'includes', 'many', 'black', 'and', 'brown', 'children', 'will', 'need', 'more', 'support', 'to', 'get', 'back', 'on', 'track', 'once', 'schools', 'reopen', 'many', 'haven', 'had', 'access', 'to', 'all', 'the', 'tools', 'needed', 'for', 'online', 'learning', 'such', 'as', 'high', 'speed', 'internet', 'or', 'their', 'own', 'computer', 'police', 'contracts', 'are', 'one', 'non', 'academic', 'budget', 'item', 'that', 'could', 'be', 'dropped', 'all', 'of', 'that', 'is', 'contributing', 'to', 'why', 'this', 'movement', 'is', 'really', 'catching', 'on', 'hinger', 'said', 'kids', 'need', 'to', 'talk', 'about', 'george', 'floyd', 'with', 'coronavirus', 'school', 'closures', 'it', 'hard', 'to', 'do', 'seattle', 'public', 'schools', 'announced', 'this', 'week', 'that', 'it', 'would', 'suspend', 'officers', 'from', 'schools', 'for', 'one', 'year', 'in', 'oakland', 'wednesday', 'the', 'school', 'superintendent', 'joined', 'the', 'majority', 'of', 'the', 'school', 'board', 'in', 'backing', 'the', 'elimination', 'of', 'the', 'district', 'in', 'house', 'police', 'force', 'one', 'idea', 'is', 'to', 'replace', 'it', 'with', 'non', 'uniformed', 'ambassadors', 'to', 'keep', 'the', 'peace', 'in', 'schools', 'black', 'students', 'account', 'for', 'of', 'the', 'students', 'arrested', 'in', 'oakland', 'schools', 'while', 'only', 'making', 'up', 'of', 'the', 'district', 'population', 'according', 'to', 'the', 'black', 'organizing', 'project', 'local', 'advocacy', 'group', 'oakland', 'board', 'is', 'slated', 'to', 'vote', 'on', 'eliminating', 'the', 'police', 'force', 'on', 'june', 'some', 'districts', 'are', 'less', 'inclined', 'to', 'remove', 'officers', 'the', 'chicago', 'teachers', 'union', 'has', 'reinvigorated', 'its', 'call', 'for', 'the', 'city', 'to', 'replace', 'school', 'resource', 'officers', 'with', 'counselors', 'but', 'mayor', 'lori', 'lightfoot', 'who', 'runs', 'the', 'city', 'as', 'well', 'as', 'the', 'district', 'indicated', 'she', 'not', 'interested', 'in', 'dumping', 'the', 'million', 'contract', 'with', 'the', 'chicago', 'police', 'department', 'more', 'than', 'three', 'quarters', 'of', 'the', 'city', 'high', 'schools', 'have', 'police', 'in', 'them', 'and', 'the', 'local', 'parent', 'and', 'teacher', 'councils', 'at', 'all', 'of', 'them', 'voted', 'to', 'keep', 'the', 'officers', 'this', 'year', 'according', 'to', 'local', 'news', 'reports', 'unfortunately', 'we', 'need', 'security', 'in', 'our', 'schools', 'lightfoot', 'said', 'in', 'protest', 'chicago', 'teachers', 'and', 'students', 'have', 'recently', 'staged', 'marches', 'and', 'car', 'caravan', 'parades', 'between', 'high', 'schools', 'chicago', 'protests', 'kanye', 'west', 'joins', 'march', 'offers', 'to', 'pay', 'legal', 'fees', 'for', 'breonna', 'taylor', 'family', 'in', 'los', 'angeles', 'the', 'teachers', 'union', 'said', 'monday', 'it', 'supports', 'ending', 'the', 'district', 'in', 'house', 'police', 'force', 'the', 'unit', 'places', 'about', 'officers', 'throughout', 'the', 'nation', 'second', 'largest', 'school', 'district', 'at', 'cost', 'of', 'about', 'million', 'annually', 'but', 'the', 'head', 'of', 'the', 'district', 'school', 'police', 'union', 'said', 'officers', 'are', 'better', 'trained', 'to', 'de', 'escalate', 'situations', 'in', 'buildings', 'than', 'outside', 'cops', 'called', 'to', 'campus', 'according', 'to', 'the', 'los', 'angeles', 'times', 'in', 'phoenix', 'hundreds', 'of', 'students', 'have', 'been', 'protesting', 'the', 'use', 'of', 'on', 'campus', 'police', 'officers', 'but', 'the', 'school', 'board', 'has', 'not', 'yet', 'taken', 'vote', 'on', 'whether', 'to', 'renew', 'the', 'contract', 'there', 'not', 'much', 'good', 'data', 'on', 'what', 'happens', 'when', 'you', 'remove', 'police', 'officers', 'from', 'schools', 'but', 'new', 'york', 'and', 'louisville', 'have', 'tried', 'some', 'new', 'ideas', 'decade', 'ago', 'report', 'from', 'new', 'york', 'city', 'examined', 'how', 'handful', 'of', 'high', 'schools', 'serving', 'at', 'risk', 'students', 'maintained', 'safe', 'environments', 'without', 'police', 'district', 'safety', 'agents', 'patrolled', 'halls', 'instead', 'metal', 'detectors', 'were', 'removed', 'administrators', 'created', 'alternatives', 'to', 'harsh', 'discipline', 'policies', 'the', 'aclu', 'which', 'published', 'the', 'report', 'is', 'notably', 'in', 'favor', 'of', 'removing', 'police', 'from', 'schools', 'in', 'louisville', 'kentucky', 'the', 'jefferson', 'county', 'public', 'schools', 'cut', 'ties', 'with', 'school', 'resource', 'officers', 'last', 'august', 'because', 'of', 'issues', 'related', 'to', 'the', 'criminalization', 'of', 'black', 'students', 'the', 'district', 'this', 'week', 'couldn', 'provide', 'comparison', 'of', 'school', 'arrest', 'data', 'from', 'before', 'and', 'after', 'police', 'were', 'removed', 'but', 'in', 'general', 'according', 'to', 'the', 'louisville', 'courier', 'journal', 'school', 'safety', 'hasn', 'changed', 'much', 'though', 'one', 'school', 'made', 'headlines', 'for', 'some', 'high', 'profile', 'student', 'on', 'teacher', 'altercations', 'louisville', 'has', 'seen', 'even', 'more', 'forceful', 'protests', 'than', 'some', 'cities', 'in', 'the', 'wake', 'of', 'the', 'death', 'of', 'breonna', 'taylor', 'who', 'was', 'shot', 'by', 'white', 'police', 'officer', 'in', 'her', 'bedroom', 'in', 'march', 'district', 'spokesperson', 'in', 'jefferson', 'county', 'said', 'this', 'week', 'the', 'district', 'is', 're', 'evaluating', 'its', 'school', 'safety', 'plan', 'which', 'could', 'still', 'include', 'armed', 'guards', 'in', 'schools', 'in', 'florida', 'janice', 'scott', 'cover', 'former', 'assistant', 'superintendent', 'in', 'the', 'palm', 'beach', 'county', 'school', 'district', 'said', 'administrators', 'can', 'also', 'work', 'harder', 'to', 'identify', 'the', 'root', 'cause', 'of', 'student', 'misbehavior', 'whether', 'cops', 'are', 'there', 'or', 'not', 'when', 'she', 'became', 'principal', 'of', 'troubled', 'elementary', 'school', 'two', 'decades', 'ago', 'the', 'school', 'resource', 'officer', 'arrested', 'children', 'for', 'fighting', 'disrespecting', 'teachers', 'and', 'walking', 'out', 'of', 'class', 'not', 'all', 'the', 'resource', 'officers', 'understand', 'how', 'to', 'police', 'in', 'schools', 'cover', 'said', 'some', 'still', 'behave', 'like', 'they', 're', 'out', 'on', 'the', 'street', 'grabbing', 'people', 'and', 'throwing', 'them', 'down', 'and', 'did', 'not', 'want', 'that', 'on', 'the', 'campus', 'cover', 'rearranged', 'the', 'budget', 'to', 'hire', 'another', 'social', 'worker', 'who', 'became', 'the', 'first', 'stop', 'for', 'misbehaving', 'children', 'she', 'had', 'teachers', 'rearrange', 'classrooms', 'so', 'students', 'worked', 'in', 'groups', 'and', 'practiced', 'cooperation', 'she', 'and', 'her', 'teachers', 'doubled', 'down', 'on', 'prodding', 'into', 'students', 'lives', 'often', 'getting', 'them', 'needed', 'household', 'or', 'personal', 'items', 'over', 'time', 'the', 'climate', 'and', 'academics', 'improved', 'something', 'cover', 'recounts', 'in', 'her', 'book', 'about', 'turning', 'around', 'low', 'performing', 'elementary', 'schools', 'happy', 'now', 'that', 'people', 'are', 'beginning', 'to', 'look', 'at', 'this', 'said', 'cover', 'who', 'is', 'black', 'my', 'hope', 'is', 'that', 'you', 'don', 'just', 'remove', 'the', 'police', 'officers', 'but', 'replace', 'them', 'with', 'something', 'else', 'like', 'counselors', 'or', 'mental', 'health', 'professionals', 'or', 'school', 'psychologists', 'olivia', 'krauth', 'contributed', 'to', 'this', 'story', 'from', 'louisville', 'kentucky', 'lily', 'altavena', 'contributed', 'from', 'phoenix', 'arizona', 'education', 'coverage', 'at', 'usa', 'today', 'is', 'made', 'possible', 'in', 'part', 'by', 'grant', 'from', 'the', 'bill', 'melinda', 'gates', 'foundation', 'the', 'gates', 'foundation', 'does', 'not', 'provide', 'editorial', 'input', 'three', 'summers', 'ago', 'about', 'students', 'and', 'activists', 'gathered', 'outside', 'the', 'minneapolis', 'public', 'schools', 'headquarters', 'to', 'demand', 'the', 'school', 'board', 'end', 'contract', 'that', 'placed', 'police', 'officers', 'in', 'schools', 'the', 'officers', 'whose', 'role', 'was', 'to', 'keep', 'schools', 'safe', 'actually', 'made', 'students', 'especially', 'black', 'students', 'feel', 'criminalized', 'activists', 'said', 'but', 'the', 'majority', 'of', 'teachers', 'staff', 'and', 'parents', 'liked', 'officers', 'in', 'schools', 'district', 'wide', 'survey', 'showed', 'at', 'the', 'time', 'the', 'board', 'renewed', 'the', 'three', 'year', 'contract', 'fast', 'forward', 'to', 'june', 'eight', 'days', 'after', 'george', 'floyd', 'died', 'under', 'the', 'knee', 'of', 'minneapolis', 'police', 'officer', 'the', 'school', 'board', 'revisited', 'that', 'contract', 'and', 'ended', 'it', 'the', 'vote', 'on', 'june', 'after', 'an', 'even', 'larger', 'crowd', 'of', 'protesters', 'gathered', 'outside', 'was', 'unanimous', 'the', 'values', 'we', 'see', 'in', 'the', 'police', 'department', 'do', 'not', 'match', 'our', 'values', 'said', 'kim', 'ellison', 'chair', 'of', 'the', 'minneapolis', 'school', 'board', 'the', 'school', 'board', 'became', 'one', 'of', 'the', 'first', 'major', 'governmental', 'bodies', 'to', 'change', 'the', 'balance', 'of', 'power', 'with', 'police', 'in', 'the', 'wake', 'of', 'floyd', 'death', 'the', 'change', 'has', 'prompted', 'wave', 'of', 'districts', 'nationwide', 'to', 'consider', 'terminating', 'their', 'relationships', 'with', 'police', 'from', 'chicago', 'new', 'york', 'and', 'los', 'angeles', 'to', 'smaller', 'cities', 'like', 'rochester', 'new', 'york', 'columbus', 'ohio', 'and', 'portland', 'maine', 'and', 'fort', 'collins', 'colorado', 'students', 'and', 'activists', 'are', 'demanding', 'the', 'discontinuation', 'of', 'school', 'resource', 'officers', 'they', 'want', 'the', 'money', 'spent', 'on', 'those', 'programs', 'to', 'go', 'to', 'other', 'peacekeeping', 'strategies', 'teen', 'activists', 'too', 'young', 'to', 'vote', 'in', 'but', 'fighting', 'for', 'change', 'police', 'in', 'schools', 'contribute', 'to', 'the', 'marginalization', 'of', 'students', 'of', 'color', 'they', 'say', 'that', 'because', 'schools', 'with', 'large', 'populations', 'of', 'black', 'and', 'brown', 'students', 'are', 'more', 'likely', 'to', 'have', 'law', 'enforcement', 'on', 'site', 'and', 'in', 'those', 'places', 'students', 'are', 'more', 'likely', 'to', 'be', 'arrested', 'for', 'certain', 'behaviors', 'rather', 'than', 'disciplined', 'by', 'an', 'administrator', 'last', 'week', 'portland', 'oregon', 'school', 'superintendent', 'announced', 'he', 'planned', 'to', 'remove', 'police', 'from', 'schools', 'denver', 'school', 'board', 'is', 'slated', 'to', 'vote', 'thursday', 'on', 'ending', 'contract', 'for', 'uniformed', 'officers', 'in', 'oakland', 'california', 'the', 'majority', 'of', 'the', 'school', 'board', 'and', 'superintendent', 'wednesday', 'backed', 'proposal', 'to', 'eliminate', 'the', 'district', 'million', 'internal', 'police', 'force', 'despite', 'concerns', 'from', 'some', 'principals', 'according', 'to', 'the', 'san', 'francisco', 'chronicle', 'advocates', 'for', 'school', 'resource', 'officers', 'say', 'the', 'problem', 'lies', 'with', 'inconsistent', 'training', 'for', 'law', 'enforcement', 'on', 'how', 'to', 'work', 'with', 'students', 'making', 'rash', 'moves', 'to', 'end', 'the', 'programs', 'because', 'of', 'political', 'and', 'social', 'pressure', 'could', 'make', 'schools', 'less', 'safe', 'they', 'say', 'and', 'also', 'disrupt', 'the', 'opportunity', 'for', 'healthy', 'relationships', 'to', 'grow', 'between', 'law', 'enforcement', 'and', 'students', 'when', 'this', 'is', 'done', 'the', 'right', 'way', 'it', 'the', 'epitome', 'of', 'community', 'based', 'policing', 'said', 'mo', 'canady', 'executive', 'director', 'of', 'the', 'national', 'association', 'of', 'school', 'resource', 'officers', 'that', 'philosophy', 'where', 'police', 'and', 'the', 'community', 'work', 'together', 'to', 'solve', 'crimes', 'and', 'improve', 'everyone', 'quality', 'of', 'life', 'canady', 'organization', 'trains', 'officers', 'how', 'to', 'enforce', 'the', 'law', 'in', 'school', 'setting', 'informally', 'counsel', 'students', 'and', 'act', 'as', 'an', 'educator', 'but', 'nothing', 'requires', 'school', 'resource', 'officers', 'to', 'undergo', 'such', 'training', 'canady', 'said', 'there', 'federal', 'resistance', 'to', 'that', 'idea', 'out', 'of', 'respect', 'for', 'the', 'tradition', 'of', 'local', 'control', 'he', 'added', 'it', 'better', 'if', 'districts', 'would', 'say', 'we', 'need', 'these', 'officers', 'trained', 'on', 'national', 'level', 'canady', 'said', 'nationally', 'protesters', 'seeking', 'justice', 'for', 'floyd', 'want', 'to', 'reduce', 'city', 'police', 'department', 'budgets', 'and', 'redirect', 'more', 'money', 'to', 'social', 'services', 'but', 'what', 'happening', 'at', 'schools', 'offers', 'window', 'into', 'the', 'relationship', 'between', 'law', 'enforcement', 'and', 'youth', 'while', 'police', 'have', 'been', 'stationed', 'in', 'schools', 'for', 'decades', 'they', 'don', 'make', 'schools', 'overwhelmingly', 'more', 'safe', 'studies', 'show', 'review', 'of', 'the', 'most', 'comprehensive', 'studies', 'on', 'school', 'based', 'law', 'enforcement', 'showed', 'the', 'officers', 'did', 'not', 'improve', 'students', 'perception', 'of', 'safety', 'and', 'out', 'of', 'school', 'suspensions', 'and', 'expulsions', 'increased', 'after', 'school', 'resource', 'officers', 'were', 'introduced', 'to', 'building', 'it', 'not', 'like', 'there', 'really', 'strong', 'research', 'base', 'that', 'says', 'with', 'police', 'in', 'schools', 'crime', 'goes', 'down', 'and', 'bullying', 'goes', 'down', 'and', 'there', 'are', 'no', 'shootings', 'said', 'anthony', 'petrosino', 'director', 'of', 'the', 'justice', 'and', 'prevention', 'research', 'center', 'at', 'wested', 'nonpartisan', 'research', 'organization', 'that', 'focuses', 'on', 'education', 'school', 'policing', 'is', 'much', 'more', 'common', 'in', 'schools', 'with', 'kids', 'of', 'color', 'petrosino', 'added', 'there', 'real', 'question', 'of', 'whether', 'it', 'helping', 'or', 'hurting', 'is', 'it', 'leading', 'to', 'more', 'of', 'these', 'kids', 'being', 'involved', 'in', 'the', 'justice', 'system', 'or', 'being', 'kicked', 'out', 'of', 'school', 'one', 'big', 'problem', 'is', 'children', 'of', 'racial', 'minorities', 'especially', 'black', 'students', 'are', 'more', 'likely', 'to', 'be', 'suspended', 'and', 'expelled', 'from', 'school', 'than', 'white', 'students', 'even', 'when', 'they', 'commit', 'similar', 'offenses', 'research', 'shows', 'pushed', 'out', 'and', 'punished', 'black', 'girls', 'punished', 'more', 'harshly', 'than', 'white', 'girls', 'and', 'of', 'the', 'approximate', 'million', 'students', 'in', 'america', 'attending', 'schools', 'with', 'police', 'officers', 'but', 'no', 'counselors', 'more', 'of', 'those', 'students', 'are', 'black', 'than', 'white', 'by', 'contrast', 'white', 'students', 'are', 'more', 'likely', 'to', 'attend', 'schools', 'with', 'counselors', 'but', 'not', 'police', 'federal', 'data', 'show', 'on', 'top', 'of', 'that', 'number', 'of', 'high', 'profile', 'incidents', 'in', 'recent', 'years', 'have', 'put', 'spotlight', 'on', 'police', 'brutality', 'toward', 'black', 'kids', 'and', 'teens', 'inside', 'and', 'outside', 'of', 'school', 'white', 'school', 'resource', 'officer', 'in', 'south', 'carolina', 'high', 'school', 'flipped', 'black', 'girl', 'out', 'of', 'her', 'desk', 'and', 'dragged', 'her', 'across', 'the', 'floor', 'in', 'black', 'school', 'resource', 'officer', 'in', 'orlando', 'arrested', 'sobbing', 'year', 'old', 'black', 'student', 'in', 'september', 'securing', 'her', 'with', 'zip', 'ties', 'because', 'she', 'was', 'too', 'small', 'for', 'handcuffs', 'white', 'officer', 'in', 'ferguson', 'missouri', 'shot', 'and', 'killed', 'michael', 'brown', 'an', 'unarmed', 'year', 'old', 'black', 'man', 'in', 'the', 'street', 'in', 'later', 'that', 'year', 'white', 'officer', 'in', 'cleveland', 'ohio', 'shot', 'and', 'killed', 'tamir', 'rice', 'year', 'old', 'black', 'boy', 'rice', 'had', 'been', 'playing', 'with', 'toy', 'gun', 'outside', 'recreation', 'center', 'change', 'in', 'ferguson', 'city', 'elects', 'first', 'black', 'female', 'mayor', 'years', 'after', 'michael', 'brown', 'death', 'in', 'the', 'only', 'of', 'schools', 'had', 'law', 'enforcement', 'officer', 'stationed', 'in', 'them', 'according', 'to', 'federal', 'data', 'now', 'of', 'schools', 'have', 'police', 'officer', 'in', 'the', 'building', 'at', 'least', 'one', 'day', 'week', 'according', 'to', 'the', 'most', 'recent', 'federal', 'data', 'and', 'among', 'large', 'schools', 'almost', 'had', 'sworn', 'officer', 'in', 'the', 'building', 'at', 'least', 'one', 'day', 'week', 'in', 'the', 'school', 'year', 'the', 'number', 'of', 'officers', 'in', 'schools', 'accelerated', 'rapidly', 'after', 'the', 'year', 'of', 'the', 'shooting', 'at', 'columbine', 'high', 'school', 'in', 'colorado', 'the', 'massacre', 'spurred', 'national', 'discussion', 'about', 'school', 'safety', 'and', 'boost', 'in', 'federal', 'funds', 'helped', 'pay', 'for', 'more', 'cops', 'in', 'schools', 'years', 'after', 'columbine', 'survivors', 'find', 'that', 'new', 'normal', 'between', 'and', 'program', 'started', 'under', 'the', 'clinton', 'administration', 'doled', 'out', 'million', 'in', 'grants', 'to', 'police', 'departments', 'to', 'support', 'hiring', 'thousands', 'more', 'school', 'resource', 'officers', 'since', 'then', 'law', 'enforcement', 'in', 'schools', 'seemed', 'like', 'the', 'one', 'thing', 'that', 'district', 'leaders', 'would', 'not', 'change', 'said', 'aaron', 'kupchik', 'professor', 'of', 'sociology', 'and', 'criminal', 'justice', 'at', 'the', 'university', 'of', 'delaware', 'we', 'typically', 'don', 'even', 'discuss', 'it', 'because', 'it', 'common', 'assumption', 'they', 're', 'here', 'to', 'stay', 'kupchik', 'said', 'so', 'people', 'focus', 'on', 'how', 'to', 'make', 'it', 'less', 'harmful', 'like', 'by', 'ending', 'zero', 'tolerance', 'policies', 'and', 'adding', 'more', 'restorative', 'justice', 'programs', 'under', 'zero', 'tolerance', 'students', 'who', 'break', 'school', 'rules', 'are', 'subject', 'to', 'mandatory', 'severe', 'consequences', 'such', 'as', 'being', 'expelled', 'restorative', 'justice', 'programs', 'offer', 'misbehaving', 'students', 'chance', 'to', 'take', 'ownership', 'of', 'their', 'actions', 'talk', 'through', 'what', 'prompted', 'them', 'and', 'repair', 'harm', 'they', 've', 'caused', 'to', 'others', 'restorative', 'justice', 'how', 'circle', 'keeping', 'works', 'at', 'one', 'midwestern', 'school', 'despite', 'talks', 'of', 'reform', 'students', 'social', 'justice', 'groups', 'and', 'the', 'american', 'civil', 'liberties', 'union', 'have', 'been', 'working', 'for', 'years', 'to', 'end', 'school', 'policing', 'long', 'before', 'the', 'calls', 'emerged', 'as', 'part', 'of', 'the', 'floyd', 'protests', 'that', 'key', 'reason', 'districts', 'are', 'taking', 'action', 'now', 'said', 'sarah', 'hinger', 'senior', 'staff', 'attorney', 'for', 'the', 'aclu', 'racial', 'justice', 'program', 'another', 'reason', 'school', 'districts', 'are', 'more', 'inclined', 'now', 'to', 'remove', 'police', 'officers', 'money', 'districts', 'are', 'facing', 'major', 'financial', 'shortfalls', 'because', 'of', 'the', 'covid', 'pandemic', 'and', 'loss', 'of', 'tax', 'revenue', 'because', 'of', 'the', 'economic', 'shutdown', 'it', 'widely', 'acknowledged', 'that', 'low', 'income', 'children', 'group', 'that', 'includes', 'many', 'black', 'and', 'brown', 'children', 'will', 'need', 'more', 'support', 'to', 'get', 'back', 'on', 'track', 'once', 'schools', 'reopen', 'many', 'haven', 'had', 'access', 'to', 'all', 'the', 'tools', 'needed', 'for', 'online', 'learning', 'such', 'as', 'high', 'speed', 'internet', 'or', 'their', 'own', 'computer', 'police', 'contracts', 'are', 'one', 'non', 'academic', 'budget', 'item', 'that', 'could', 'be', 'dropped', 'all', 'of', 'that', 'is', 'contributing', 'to', 'why', 'this', 'movement', 'is', 'really', 'catching', 'on', 'hinger', 'said', 'kids', 'need', 'to', 'talk', 'about', 'george', 'floyd', 'with', 'coronavirus', 'school', 'closures', 'it', 'hard', 'to', 'do', 'seattle', 'public', 'schools', 'announced', 'this', 'week', 'that', 'it', 'would', 'suspend', 'officers', 'from', 'schools', 'for', 'one', 'year', 'in', 'oakland', 'wednesday', 'the', 'school', 'superintendent', 'joined', 'the', 'majority', 'of', 'the', 'school', 'board', 'in', 'backing', 'the', 'elimination', 'of', 'the', 'district', 'in', 'house', 'police', 'force', 'one', 'idea', 'is', 'to', 'replace', 'it', 'with', 'non', 'uniformed', 'ambassadors', 'to', 'keep', 'the', 'peace', 'in', 'schools', 'black', 'students', 'account', 'for', 'of', 'the', 'students', 'arrested', 'in', 'oakland', 'schools', 'while', 'only', 'making', 'up', 'of', 'the', 'district', 'population', 'according', 'to', 'the', 'black', 'organizing', 'project', 'local', 'advocacy', 'group', 'oakland', 'board', 'is', 'slated', 'to', 'vote', 'on', 'eliminating', 'the', 'police', 'force', 'on', 'june', 'some', 'districts', 'are', 'less', 'inclined', 'to', 'remove', 'officers', 'the', 'chicago', 'teachers', 'union', 'has', 'reinvigorated', 'its', 'call', 'for', 'the', 'city', 'to', 'replace', 'school', 'resource', 'officers', 'with', 'counselors', 'but', 'mayor', 'lori', 'lightfoot', 'who', 'runs', 'the', 'city', 'as', 'well', 'as', 'the', 'district', 'indicated', 'she', 'not', 'interested', 'in', 'dumping', 'the', 'million', 'contract', 'with', 'the', 'chicago', 'police', 'department', 'more', 'than', 'three', 'quarters', 'of', 'the', 'city', 'high', 'schools', 'have', 'police', 'in', 'them', 'and', 'the', 'local', 'parent', 'and', 'teacher', 'councils', 'at', 'all', 'of', 'them', 'voted', 'to', 'keep', 'the', 'officers', 'this', 'year', 'according', 'to', 'local', 'news', 'reports', 'unfortunately', 'we', 'need', 'security', 'in', 'our', 'schools', 'lightfoot', 'said', 'in', 'protest', 'chicago', 'teachers', 'and', 'students', 'have', 'recently', 'staged', 'marches', 'and', 'car', 'caravan', 'parades', 'between', 'high', 'schools', 'chicago', 'protests', 'kanye', 'west', 'joins', 'march', 'offers', 'to', 'pay', 'legal', 'fees', 'for', 'breonna', 'taylor', 'family', 'in', 'los', 'angeles', 'the', 'teachers', 'union', 'said', 'monday', 'it', 'supports', 'ending', 'the', 'district', 'in', 'house', 'police', 'force', 'the', 'unit', 'places', 'about', 'officers', 'throughout', 'the', 'nation', 'second', 'largest', 'school', 'district', 'at', 'cost', 'of', 'about', 'million', 'annually', 'but', 'the', 'head', 'of', 'the', 'district', 'school', 'police', 'union', 'said', 'officers', 'are', 'better', 'trained', 'to', 'de', 'escalate', 'situations', 'in', 'buildings', 'than', 'outside', 'cops', 'called', 'to', 'campus', 'according', 'to', 'the', 'los', 'angeles', 'times', 'in', 'phoenix', 'hundreds', 'of', 'students', 'have', 'been', 'protesting', 'the', 'use', 'of', 'on', 'campus', 'police', 'officers', 'but', 'the', 'school', 'board', 'has', 'not', 'yet', 'taken', 'vote', 'on', 'whether', 'to', 'renew', 'the', 'contract', 'there', 'not', 'much', 'good', 'data', 'on', 'what', 'happens', 'when', 'you', 'remove', 'police', 'officers', 'from', 'schools', 'but', 'new', 'york', 'and', 'louisville', 'have', 'tried', 'some', 'new', 'ideas', 'decade', 'ago', 'report', 'from', 'new', 'york', 'city', 'examined', 'how', 'handful', 'of', 'high', 'schools', 'serving', 'at', 'risk', 'students', 'maintained', 'safe', 'environments', 'without', 'police', 'district', 'safety', 'agents', 'patrolled', 'halls', 'instead', 'metal', 'detectors', 'were', 'removed', 'administrators', 'created', 'alternatives', 'to', 'harsh', 'discipline', 'policies', 'the', 'aclu', 'which', 'published', 'the', 'report', 'is', 'notably', 'in', 'favor', 'of', 'removing', 'police', 'from', 'schools', 'in', 'louisville', 'kentucky', 'the', 'jefferson', 'county', 'public', 'schools', 'cut', 'ties', 'with', 'school', 'resource', 'officers', 'last', 'august', 'because', 'of', 'issues', 'related', 'to', 'the', 'criminalization', 'of', 'black', 'students', 'the', 'district', 'this', 'week', 'couldn', 'provide', 'comparison', 'of', 'school', 'arrest', 'data', 'from', 'before', 'and', 'after', 'police', 'were', 'removed', 'but', 'in', 'general', 'according', 'to', 'the', 'louisville', 'courier', 'journal', 'school', 'safety', 'hasn', 'changed', 'much', 'though', 'one', 'school', 'made', 'headlines', 'for', 'some', 'high', 'profile', 'student', 'on', 'teacher', 'altercations', 'louisville', 'has', 'seen', 'even', 'more', 'forceful', 'protests', 'than', 'some', 'cities', 'in', 'the', 'wake', 'of', 'the', 'death', 'of', 'breonna', 'taylor', 'who', 'was', 'shot', 'by', 'white', 'police', 'officer', 'in', 'her', 'bedroom', 'in', 'march', 'district', 'spokesperson', 'in', 'jefferson', 'county', 'said', 'this', 'week', 'the', 'district', 'is', 're', 'evaluating', 'its', 'school', 'safety', 'plan', 'which', 'could', 'still', 'include', 'armed', 'guards', 'in', 'schools', 'in', 'florida', 'janice', 'scott', 'cover', 'former', 'assistant', 'superintendent', 'in', 'the', 'palm', 'beach', 'county', 'school', 'district', 'said', 'administrators', 'can', 'also', 'work', 'harder', 'to', 'identify', 'the', 'root', 'cause', 'of', 'student', 'misbehavior', 'whether', 'cops', 'are', 'there', 'or', 'not', 'when', 'she', 'became', 'principal', 'of', 'troubled', 'elementary', 'school', 'two', 'decades', 'ago', 'the', 'school', 'resource', 'officer', 'arrested', 'children', 'for', 'fighting', 'disrespecting', 'teachers', 'and', 'walking', 'out', 'of', 'class', 'not', 'all', 'the', 'resource', 'officers', 'understand', 'how', 'to', 'police', 'in', 'schools', 'cover', 'said', 'some', 'still', 'behave', 'like', 'they', 're', 'out', 'on', 'the', 'street', 'grabbing', 'people', 'and', 'throwing', 'them', 'down', 'and', 'did', 'not', 'want', 'that', 'on', 'the', 'campus', 'cover', 'rearranged', 'the', 'budget', 'to', 'hire', 'another', 'social', 'worker', 'who', 'became', 'the', 'first', 'stop', 'for', 'misbehaving', 'children', 'she', 'had', 'teachers', 'rearrange', 'classrooms', 'so', 'students', 'worked', 'in', 'groups', 'and', 'practiced', 'cooperation', 'she', 'and', 'her', 'teachers', 'doubled', 'down', 'on', 'prodding', 'into', 'students', 'lives', 'often', 'getting', 'them', 'needed', 'household', 'or', 'personal', 'items', 'over', 'time', 'the', 'climate', 'and', 'academics', 'improved', 'something', 'cover', 'recounts', 'in', 'her', 'book', 'about', 'turning', 'around', 'low', 'performing', 'elementary', 'schools', 'happy', 'now', 'that', 'people', 'are', 'beginning', 'to', 'look', 'at', 'this', 'said', 'cover', 'who', 'is', 'black', 'my', 'hope', 'is', 'that', 'you', 'don', 'just', 'remove', 'the', 'police', 'officers', 'but', 'replace', 'them', 'with', 'something', 'else', 'like', 'counselors', 'or', 'mental', 'health', 'professionals', 'or', 'school', 'psychologists', 'olivia', 'krauth', 'contributed', 'to', 'this', 'story', 'from', 'louisville', 'kentucky', 'lily', 'altavena', 'contributed', 'from', 'phoenix', 'arizona', 'education', 'coverage', 'at', 'usa', 'today', 'is', 'made', 'possible', 'in', 'part', 'by', 'grant', 'from', 'the', 'bill', 'melinda', 'gates', 'foundation', 'the', 'gates', 'foundation', 'does', 'not', 'provide', 'editorial', 'input', 'three', 'summers', 'ago', 'about', 'students', 'and', 'activists', 'gathered', 'outside', 'the', 'minneapolis', 'public', 'schools', 'headquarters', 'to', 'demand', 'the', 'school', 'board', 'end', 'contract', 'that', 'placed', 'police', 'officers', 'in', 'schools', 'the', 'officers', 'whose', 'role', 'was', 'to', 'keep', 'schools', 'safe', 'actually', 'made', 'students', 'especially', 'black', 'students', 'feel', 'criminalized', 'activists', 'said', 'but', 'the', 'majority', 'of', 'teachers', 'staff', 'and', 'parents', 'liked', 'officers', 'in', 'schools', 'district', 'wide', 'survey', 'showed', 'at', 'the', 'time', 'the', 'board', 'renewed', 'the', 'three', 'year', 'contract', 'fast', 'forward', 'to', 'june', 'eight', 'days', 'after', 'george', 'floyd', 'died', 'under', 'the', 'knee', 'of', 'minneapolis', 'police', 'officer', 'the', 'school', 'board', 'revisited', 'that', 'contract', 'and', 'ended', 'it', 'the', 'vote', 'on', 'june', 'after', 'an', 'even', 'larger', 'crowd', 'of', 'protesters', 'gathered', 'outside', 'was', 'unanimous', 'the', 'values', 'we', 'see', 'in', 'the', 'police', 'department', 'do', 'not', 'match', 'our', 'values', 'said', 'kim', 'ellison', 'chair', 'of', 'the', 'minneapolis', 'school', 'board', 'the', 'school', 'board', 'became', 'one', 'of', 'the', 'first', 'major', 'governmental', 'bodies', 'to', 'change', 'the', 'balance', 'of', 'power', 'with', 'police', 'in', 'the', 'wake', 'of', 'floyd', 'death', 'the', 'change', 'has', 'prompted', 'wave', 'of', 'districts', 'nationwide', 'to', 'consider', 'terminating', 'their', 'relationships', 'with', 'police', 'from', 'chicago', 'new', 'york', 'and', 'los', 'angeles', 'to', 'smaller', 'cities', 'like', 'rochester', 'new', 'york', 'columbus', 'ohio', 'and', 'portland', 'maine', 'and', 'fort', 'collins', 'colorado', 'students', 'and', 'activists', 'are', 'demanding', 'the', 'discontinuation', 'of', 'school', 'resource', 'officers', 'they', 'want', 'the', 'money', 'spent', 'on', 'those', 'programs', 'to', 'go', 'to', 'other', 'peacekeeping', 'strategies', 'teen', 'activists', 'too', 'young', 'to', 'vote', 'in', 'but', 'fighting', 'for', 'change', 'police', 'in', 'schools', 'contribute', 'to', 'the', 'marginalization', 'of', 'students', 'of', 'color', 'they', 'say', 'that', 'because', 'schools', 'with', 'large', 'populations', 'of', 'black', 'and', 'brown', 'students', 'are', 'more', 'likely', 'to', 'have', 'law', 'enforcement', 'on', 'site', 'and', 'in', 'those', 'places', 'students', 'are', 'more', 'likely', 'to', 'be', 'arrested', 'for', 'certain', 'behaviors', 'rather', 'than', 'disciplined', 'by', 'an', 'administrator', 'last', 'week', 'portland', 'oregon', 'school', 'superintendent', 'announced', 'he', 'planned', 'to', 'remove', 'police', 'from', 'schools', 'denver', 'school', 'board', 'is', 'slated', 'to', 'vote', 'thursday', 'on', 'ending', 'contract', 'for', 'uniformed', 'officers', 'in', 'oakland', 'california', 'the', 'majority', 'of', 'the', 'school', 'board', 'and', 'superintendent', 'wednesday', 'backed', 'proposal', 'to', 'eliminate', 'the', 'district', 'million', 'internal', 'police', 'force', 'despite', 'concerns', 'from', 'some', 'principals', 'according', 'to', 'the', 'san', 'francisco', 'chronicle', 'advocates', 'for', 'school', 'resource', 'officers', 'say', 'the', 'problem', 'lies', 'with', 'inconsistent', 'training', 'for', 'law', 'enforcement', 'on', 'how', 'to', 'work', 'with', 'students', 'making', 'rash', 'moves', 'to', 'end', 'the', 'programs', 'because', 'of', 'political', 'and', 'social', 'pressure', 'could', 'make', 'schools', 'less', 'safe', 'they', 'say', 'and', 'also', 'disrupt', 'the', 'opportunity', 'for', 'healthy', 'relationships', 'to', 'grow', 'between', 'law', 'enforcement', 'and', 'students', 'when', 'this', 'is', 'done', 'the', 'right', 'way', 'it', 'the', 'epitome', 'of', 'community', 'based', 'policing', 'said', 'mo', 'canady', 'executive', 'director', 'of', 'the', 'national', 'association', 'of', 'school', 'resource', 'officers', 'that', 'philosophy', 'where', 'police', 'and', 'the', 'community', 'work', 'together', 'to', 'solve', 'crimes', 'and', 'improve', 'everyone', 'quality', 'of', 'life', 'canady', 'organization', 'trains', 'officers', 'how', 'to', 'enforce', 'the', 'law', 'in', 'school', 'setting', 'informally', 'counsel', 'students', 'and', 'act', 'as', 'an', 'educator', 'but', 'nothing', 'requires', 'school', 'resource', 'officers', 'to', 'undergo', 'such', 'training', 'canady', 'said', 'there', 'federal', 'resistance', 'to', 'that', 'idea', 'out', 'of', 'respect', 'for', 'the', 'tradition', 'of', 'local', 'control', 'he', 'added', 'it', 'better', 'if', 'districts', 'would', 'say', 'we', 'need', 'these', 'officers', 'trained', 'on', 'national', 'level', 'canady', 'said', 'nationally', 'protesters', 'seeking', 'justice', 'for', 'floyd', 'want', 'to', 'reduce', 'city', 'police', 'department', 'budgets', 'and', 'redirect', 'more', 'money', 'to', 'social', 'services', 'but', 'what', 'happening', 'at', 'schools', 'offers', 'window', 'into', 'the', 'relationship', 'between', 'law', 'enforcement', 'and', 'youth', 'while', 'police', 'have', 'been', 'stationed', 'in', 'schools', 'for', 'decades', 'they', 'don', 'make', 'schools', 'overwhelmingly', 'more', 'safe', 'studies', 'show', 'review', 'of', 'the', 'most', 'comprehensive', 'studies', 'on', 'school', 'based', 'law', 'enforcement', 'showed', 'the', 'officers', 'did', 'not', 'improve', 'students', 'perception', 'of', 'safety', 'and', 'out', 'of', 'school', 'suspensions', 'and', 'expulsions', 'increased', 'after', 'school', 'resource', 'officers', 'were', 'introduced', 'to', 'building', 'it', 'not', 'like', 'there', 'really', 'strong', 'research', 'base', 'that', 'says', 'with', 'police', 'in', 'schools', 'crime', 'goes', 'down', 'and', 'bullying', 'goes', 'down', 'and', 'there', 'are', 'no', 'shootings', 'said', 'anthony', 'petrosino', 'director', 'of', 'the', 'justice', 'and', 'prevention', 'research', 'center', 'at', 'wested', 'nonpartisan', 'research', 'organization', 'that', 'focuses', 'on', 'education', 'school', 'policing', 'is', 'much', 'more', 'common', 'in', 'schools', 'with', 'kids', 'of', 'color', 'petrosino', 'added', 'there', 'real', 'question', 'of', 'whether', 'it', 'helping', 'or', 'hurting', 'is', 'it', 'leading', 'to', 'more', 'of', 'these', 'kids', 'being', 'involved', 'in', 'the', 'justice', 'system', 'or', 'being', 'kicked', 'out', 'of', 'school', 'one', 'big', 'problem', 'is', 'children', 'of', 'racial', 'minorities', 'especially', 'black', 'students', 'are', 'more', 'likely', 'to', 'be', 'suspended', 'and', 'expelled', 'from', 'school', 'than', 'white', 'students', 'even', 'when', 'they', 'commit', 'similar', 'offenses', 'research', 'shows', 'pushed', 'out', 'and', 'punished', 'black', 'girls', 'punished', 'more', 'harshly', 'than', 'white', 'girls', 'and', 'of', 'the', 'approximate', 'million', 'students', 'in', 'america', 'attending', 'schools', 'with', 'police', 'officers', 'but', 'no', 'counselors', 'more', 'of', 'those', 'students', 'are', 'black', 'than', 'white', 'by', 'contrast', 'white', 'students', 'are', 'more', 'likely', 'to', 'attend', 'schools', 'with', 'counselors', 'but', 'not', 'police', 'federal', 'data', 'show', 'on', 'top', 'of', 'that', 'number', 'of', 'high', 'profile', 'incidents', 'in', 'recent', 'years', 'have', 'put', 'spotlight', 'on', 'police', 'brutality', 'toward', 'black', 'kids', 'and', 'teens', 'inside', 'and', 'outside', 'of', 'school', 'white', 'school', 'resource', 'officer', 'in', 'south', 'carolina', 'high', 'school', 'flipped', 'black', 'girl', 'out', 'of', 'her', 'desk', 'and', 'dragged', 'her', 'across', 'the', 'floor', 'in', 'black', 'school', 'resource', 'officer', 'in', 'orlando', 'arrested', 'sobbing', 'year', 'old', 'black', 'student', 'in', 'september', 'securing', 'her', 'with', 'zip', 'ties', 'because', 'she', 'was', 'too', 'small', 'for', 'handcuffs', 'white', 'officer', 'in', 'ferguson', 'missouri', 'shot', 'and', 'killed', 'michael', 'brown', 'an', 'unarmed', 'year', 'old', 'black', 'man', 'in', 'the', 'street', 'in', 'later', 'that', 'year', 'white', 'officer', 'in', 'cleveland', 'ohio', 'shot', 'and', 'killed', 'tamir', 'rice', 'year', 'old', 'black', 'boy', 'rice', 'had', 'been', 'playing', 'with', 'toy', 'gun', 'outside', 'recreation', 'center', 'change', 'in', 'ferguson', 'city', 'elects', 'first', 'black', 'female', 'mayor', 'years', 'after', 'michael', 'brown', 'death', 'in', 'the', 'only', 'of', 'schools', 'had', 'law', 'enforcement', 'officer', 'stationed', 'in', 'them', 'according', 'to', 'federal', 'data', 'now', 'of', 'schools', 'have', 'police', 'officer', 'in', 'the', 'building', 'at', 'least', 'one', 'day', 'week', 'according', 'to', 'the', 'most', 'recent', 'federal', 'data', 'and', 'among', 'large', 'schools', 'almost', 'had', 'sworn', 'officer', 'in', 'the', 'building', 'at', 'least', 'one', 'day', 'week', 'in', 'the', 'school', 'year', 'the', 'number', 'of', 'officers', 'in', 'schools', 'accelerated', 'rapidly', 'after', 'the', 'year', 'of', 'the', 'shooting', 'at', 'columbine', 'high', 'school', 'in', 'colorado', 'the', 'massacre', 'spurred', 'national', 'discussion', 'about', 'school', 'safety', 'and', 'boost', 'in', 'federal', 'funds', 'helped', 'pay', 'for', 'more', 'cops', 'in', 'schools', 'years', 'after', 'columbine', 'survivors', 'find', 'that', 'new', 'normal', 'between', 'and', 'program', 'started', 'under', 'the', 'clinton', 'administration', 'doled', 'out', 'million', 'in', 'grants', 'to', 'police', 'departments', 'to', 'support', 'hiring', 'thousands', 'more', 'school', 'resource', 'officers', 'since', 'then', 'law', 'enforcement', 'in', 'schools', 'seemed', 'like', 'the', 'one', 'thing', 'that', 'district', 'leaders', 'would', 'not', 'change', 'said', 'aaron', 'kupchik', 'professor', 'of', 'sociology', 'and', 'criminal', 'justice', 'at', 'the', 'university', 'of', 'delaware', 'we', 'typically', 'don', 'even', 'discuss', 'it', 'because', 'it', 'common', 'assumption', 'they', 're', 'here', 'to', 'stay', 'kupchik', 'said', 'so', 'people', 'focus', 'on', 'how', 'to', 'make', 'it', 'less', 'harmful', 'like', 'by', 'ending', 'zero', 'tolerance', 'policies', 'and', 'adding', 'more', 'restorative', 'justice', 'programs', 'under', 'zero', 'tolerance', 'students', 'who', 'break', 'school', 'rules', 'are', 'subject', 'to', 'mandatory', 'severe', 'consequences', 'such', 'as', 'being', 'expelled', 'restorative', 'justice', 'programs', 'offer', 'misbehaving', 'students', 'chance', 'to', 'take', 'ownership', 'of', 'their', 'actions', 'talk', 'through', 'what', 'prompted', 'them', 'and', 'repair', 'harm', 'they', 've', 'caused', 'to', 'others', 'restorative', 'justice', 'how', 'circle', 'keeping', 'works', 'at', 'one', 'midwestern', 'school', 'despite', 'talks', 'of', 'reform', 'students', 'social', 'justice', 'groups', 'and', 'the', 'american', 'civil', 'liberties', 'union', 'have', 'been', 'working', 'for', 'years', 'to', 'end', 'school', 'policing', 'long', 'before', 'the', 'calls', 'emerged', 'as', 'part', 'of', 'the', 'floyd', 'protests', 'that', 'key', 'reason', 'districts', 'are', 'taking', 'action', 'now', 'said', 'sarah', 'hinger', 'senior', 'staff', 'attorney', 'for', 'the', 'aclu', 'racial', 'justice', 'program', 'another', 'reason', 'school', 'districts', 'are', 'more', 'inclined', 'now', 'to', 'remove', 'police', 'officers', 'money', 'districts', 'are', 'facing', 'major', 'financial', 'shortfalls', 'because', 'of', 'the', 'covid', 'pandemic', 'and', 'loss', 'of', 'tax', 'revenue', 'because', 'of', 'the', 'economic', 'shutdown', 'it', 'widely', 'acknowledged', 'that', 'low', 'income', 'children', 'group', 'that', 'includes', 'many', 'black', 'and', 'brown', 'children', 'will', 'need', 'more', 'support', 'to', 'get', 'back', 'on', 'track', 'once', 'schools', 'reopen', 'many', 'haven', 'had', 'access', 'to', 'all', 'the', 'tools', 'needed', 'for', 'online', 'learning', 'such', 'as', 'high', 'speed', 'internet', 'or', 'their', 'own', 'computer', 'police', 'contracts', 'are', 'one', 'non', 'academic', 'budget', 'item', 'that', 'could', 'be', 'dropped', 'all', 'of', 'that', 'is', 'contributing', 'to', 'why', 'this', 'movement', 'is', 'really', 'catching', 'on', 'hinger', 'said', 'kids', 'need', 'to', 'talk', 'about', 'george', 'floyd', 'with', 'coronavirus', 'school', 'closures', 'it', 'hard', 'to', 'do', 'seattle', 'public', 'schools', 'announced', 'this', 'week', 'that', 'it', 'would', 'suspend', 'officers', 'from', 'schools', 'for', 'one', 'year', 'in', 'oakland', 'wednesday', 'the', 'school', 'superintendent', 'joined', 'the', 'majority', 'of', 'the', 'school', 'board', 'in', 'backing', 'the', 'elimination', 'of', 'the', 'district', 'in', 'house', 'police', 'force', 'one', 'idea', 'is', 'to', 'replace', 'it', 'with', 'non', 'uniformed', 'ambassadors', 'to', 'keep', 'the', 'peace', 'in', 'schools', 'black', 'students', 'account', 'for', 'of', 'the', 'students', 'arrested', 'in', 'oakland', 'schools', 'while', 'only', 'making', 'up', 'of', 'the', 'district', 'population', 'according', 'to', 'the', 'black', 'organizing', 'project', 'local', 'advocacy', 'group', 'oakland', 'board', 'is', 'slated', 'to', 'vote', 'on', 'eliminating', 'the', 'police', 'force', 'on', 'june', 'some', 'districts', 'are', 'less', 'inclined', 'to', 'remove', 'officers', 'the', 'chicago', 'teachers', 'union', 'has', 'reinvigorated', 'its', 'call', 'for', 'the', 'city', 'to', 'replace', 'school', 'resource', 'officers', 'with', 'counselors', 'but', 'mayor', 'lori', 'lightfoot', 'who', 'runs', 'the', 'city', 'as', 'well', 'as', 'the', 'district', 'indicated', 'she', 'not', 'interested', 'in', 'dumping', 'the', 'million', 'contract', 'with', 'the', 'chicago', 'police', 'department', 'more', 'than', 'three', 'quarters', 'of', 'the', 'city', 'high', 'schools', 'have', 'police', 'in', 'them', 'and', 'the', 'local', 'parent', 'and', 'teacher', 'councils', 'at', 'all', 'of', 'them', 'voted', 'to', 'keep', 'the', 'officers', 'this', 'year', 'according', 'to', 'local', 'news', 'reports', 'unfortunately', 'we', 'need', 'security', 'in', 'our', 'schools', 'lightfoot', 'said', 'in', 'protest', 'chicago', 'teachers', 'and', 'students', 'have', 'recently', 'staged', 'marches', 'and', 'car', 'caravan', 'parades', 'between', 'high', 'schools', 'chicago', 'protests', 'kanye', 'west', 'joins', 'march', 'offers', 'to', 'pay', 'legal', 'fees', 'for', 'breonna', 'taylor', 'family', 'in', 'los', 'angeles', 'the', 'teachers', 'union', 'said', 'monday', 'it', 'supports', 'ending', 'the', 'district', 'in', 'house', 'police', 'force', 'the', 'unit', 'places', 'about', 'officers', 'throughout', 'the', 'nation', 'second', 'largest', 'school', 'district', 'at', 'cost', 'of', 'about', 'million', 'annually', 'but', 'the', 'head', 'of', 'the', 'district', 'school', 'police', 'union', 'said', 'officers', 'are', 'better', 'trained', 'to', 'de', 'escalate', 'situations', 'in', 'buildings', 'than', 'outside', 'cops', 'called', 'to', 'campus', 'according', 'to', 'the', 'los', 'angeles', 'times', 'in', 'phoenix', 'hundreds', 'of', 'students', 'have', 'been', 'protesting', 'the', 'use', 'of', 'on', 'campus', 'police', 'officers', 'but', 'the', 'school', 'board', 'has', 'not', 'yet', 'taken', 'vote', 'on', 'whether', 'to', 'renew', 'the', 'contract', 'there', 'not', 'much', 'good', 'data', 'on', 'what', 'happens', 'when', 'you', 'remove', 'police', 'officers', 'from', 'schools', 'but', 'new', 'york', 'and', 'louisville', 'have', 'tried', 'some', 'new', 'ideas', 'decade', 'ago', 'report', 'from', 'new', 'york', 'city', 'examined', 'how', 'handful', 'of', 'high', 'schools', 'serving', 'at', 'risk', 'students', 'maintained', 'safe', 'environments', 'without', 'police', 'district', 'safety', 'agents', 'patrolled', 'halls', 'instead', 'metal', 'detectors', 'were', 'removed', 'administrators', 'created', 'alternatives', 'to', 'harsh', 'discipline', 'policies', 'the', 'aclu', 'which', 'published', 'the', 'report', 'is', 'notably', 'in', 'favor', 'of', 'removing', 'police', 'from', 'schools', 'in', 'louisville', 'kentucky', 'the', 'jefferson', 'county', 'public', 'schools', 'cut', 'ties', 'with', 'school', 'resource', 'officers', 'last', 'august', 'because', 'of', 'issues', 'related', 'to', 'the', 'criminalization', 'of', 'black', 'students', 'the', 'district', 'this', 'week', 'couldn', 'provide', 'comparison', 'of', 'school', 'arrest', 'data', 'from', 'before', 'and', 'after', 'police', 'were', 'removed', 'but', 'in', 'general', 'according', 'to', 'the', 'louisville', 'courier', 'journal', 'school', 'safety', 'hasn', 'changed', 'much', 'though', 'one', 'school', 'made', 'headlines', 'for', 'some', 'high', 'profile', 'student', 'on', 'teacher', 'altercations', 'louisville', 'has', 'seen', 'even', 'more', 'forceful', 'protests', 'than', 'some', 'cities', 'in', 'the', 'wake', 'of', 'the', 'death', 'of', 'breonna', 'taylor', 'who', 'was', 'shot', 'by', 'white', 'police', 'officer', 'in', 'her', 'bedroom', 'in', 'march', 'district', 'spokesperson', 'in', 'jefferson', 'county', 'said', 'this', 'week', 'the', 'district', 'is', 're', 'evaluating', 'its', 'school', 'safety', 'plan', 'which', 'could', 'still', 'include', 'armed', 'guards', 'in', 'schools', 'in', 'florida', 'janice', 'scott', 'cover', 'former', 'assistant', 'superintendent', 'in', 'the', 'palm', 'beach', 'county', 'school', 'district', 'said', 'administrators', 'can', 'also', 'work', 'harder', 'to', 'identify', 'the', 'root', 'cause', 'of', 'student', 'misbehavior', 'whether', 'cops', 'are', 'there', 'or', 'not', 'when', 'she', 'became', 'principal', 'of', 'troubled', 'elementary', 'school', 'two', 'decades', 'ago', 'the', 'school', 'resource', 'officer', 'arrested', 'children', 'for', 'fighting', 'disrespecting', 'teachers', 'and', 'walking', 'out', 'of', 'class', 'not', 'all', 'the', 'resource', 'officers', 'understand', 'how', 'to', 'police', 'in', 'schools', 'cover', 'said', 'some', 'still', 'behave', 'like', 'they', 're', 'out', 'on', 'the', 'street', 'grabbing', 'people', 'and', 'throwing', 'them', 'down', 'and', 'did', 'not', 'want', 'that', 'on', 'the', 'campus', 'cover', 'rearranged', 'the', 'budget', 'to', 'hire', 'another', 'social', 'worker', 'who', 'became', 'the', 'first', 'stop', 'for', 'misbehaving', 'children', 'she', 'had', 'teachers', 'rearrange', 'classrooms', 'so', 'students', 'worked', 'in', 'groups', 'and', 'practiced', 'cooperation', 'she', 'and', 'her', 'teachers', 'doubled', 'down', 'on', 'prodding', 'into', 'students', 'lives', 'often', 'getting', 'them', 'needed', 'household', 'or', 'personal', 'items', 'over', 'time', 'the', 'climate', 'and', 'academics', 'improved', 'something', 'cover', 'recounts', 'in', 'her', 'book', 'about', 'turning', 'around', 'low', 'performing', 'elementary', 'schools', 'happy', 'now', 'that', 'people', 'are', 'beginning', 'to', 'look', 'at', 'this', 'said', 'cover', 'who', 'is', 'black', 'my', 'hope', 'is', 'that', 'you', 'don', 'just', 'remove', 'the', 'police', 'officers', 'but', 'replace', 'them', 'with', 'something', 'else', 'like', 'counselors', 'or', 'mental', 'health', 'professionals', 'or', 'school', 'psychologists', 'olivia', 'krauth', 'contributed', 'to', 'this', 'story', 'from', 'louisville', 'kentucky', 'lily', 'altavena', 'contributed', 'from', 'phoenix', 'arizona', 'education', 'coverage', 'at', 'usa', 'today', 'is', 'made', 'possible', 'in', 'part', 'by', 'grant', 'from', 'the', 'bill', 'melinda', 'gates', 'foundation', 'the', 'gates', 'foundation', 'does', 'not', 'provide', 'editorial', 'input', 'three', 'summers', 'ago', 'about', 'students', 'and', 'activists', 'gathered', 'outside', 'the', 'minneapolis', 'public', 'schools', 'headquarters', 'to', 'demand', 'the', 'school', 'board', 'end', 'contract', 'that', 'placed', 'police', 'officers', 'in', 'schools', 'the', 'officers', 'whose', 'role', 'was', 'to', 'keep', 'schools', 'safe', 'actually', 'made', 'students', 'especially', 'black', 'students', 'feel', 'criminalized', 'activists', 'said', 'but', 'the', 'majority', 'of', 'teachers', 'staff', 'and', 'parents', 'liked', 'officers', 'in', 'schools', 'district', 'wide', 'survey', 'showed', 'at', 'the', 'time', 'the', 'board', 'renewed', 'the', 'three', 'year', 'contract', 'fast', 'forward', 'to', 'june', 'eight', 'days', 'after', 'george', 'floyd', 'died', 'under', 'the', 'knee', 'of', 'minneapolis', 'police', 'officer', 'the', 'school', 'board', 'revisited', 'that', 'contract', 'and', 'ended', 'it', 'the', 'vote', 'on', 'june', 'after', 'an', 'even', 'larger', 'crowd', 'of', 'protesters', 'gathered', 'outside', 'was', 'unanimous', 'the', 'values', 'we', 'see', 'in', 'the', 'police', 'department', 'do', 'not', 'match', 'our', 'values', 'said', 'kim', 'ellison', 'chair', 'of', 'the', 'minneapolis', 'school', 'board', 'the', 'school', 'board', 'became', 'one', 'of', 'the', 'first', 'major', 'governmental', 'bodies', 'to', 'change', 'the', 'balance', 'of', 'power', 'with', 'police', 'in', 'the', 'wake', 'of', 'floyd', 'death', 'the', 'change', 'has', 'prompted', 'wave', 'of', 'districts', 'nationwide', 'to', 'consider', 'terminating', 'their', 'relationships', 'with', 'police', 'from', 'chicago', 'new', 'york', 'and', 'los', 'angeles', 'to', 'smaller', 'cities', 'like', 'rochester', 'new', 'york', 'columbus', 'ohio', 'and', 'portland', 'maine', 'and', 'fort', 'collins', 'colorado', 'students', 'and', 'activists', 'are', 'demanding', 'the', 'discontinuation', 'of', 'school', 'resource', 'officers', 'they', 'want', 'the', 'money', 'spent', 'on', 'those', 'programs', 'to', 'go', 'to', 'other', 'peacekeeping', 'strategies', 'teen', 'activists', 'too', 'young', 'to', 'vote', 'in', 'but', 'fighting', 'for', 'change', 'police', 'in', 'schools', 'contribute', 'to', 'the', 'marginalization', 'of', 'students', 'of', 'color', 'they', 'say', 'that', 'because', 'schools', 'with', 'large', 'populations', 'of', 'black', 'and', 'brown', 'students', 'are', 'more', 'likely', 'to', 'have', 'law', 'enforcement', 'on', 'site', 'and', 'in', 'those', 'places', 'students', 'are', 'more', 'likely', 'to', 'be', 'arrested', 'for', 'certain', 'behaviors', 'rather', 'than', 'disciplined', 'by', 'an', 'administrator', 'last', 'week', 'portland', 'oregon', 'school', 'superintendent', 'announced', 'he', 'planned', 'to', 'remove', 'police', 'from', 'schools', 'denver', 'school', 'board', 'is', 'slated', 'to', 'vote', 'thursday', 'on', 'ending', 'contract', 'for', 'uniformed', 'officers', 'in', 'oakland', 'california', 'the', 'majority', 'of', 'the', 'school', 'board', 'and', 'superintendent', 'wednesday', 'backed', 'proposal', 'to', 'eliminate', 'the', 'district', 'million', 'internal', 'police', 'force', 'despite', 'concerns', 'from', 'some', 'principals', 'according', 'to', 'the', 'san', 'francisco', 'chronicle', 'advocates', 'for', 'school', 'resource', 'officers', 'say', 'the', 'problem', 'lies', 'with', 'inconsistent', 'training', 'for', 'law', 'enforcement', 'on', 'how', 'to', 'work', 'with', 'students', 'making', 'rash', 'moves', 'to', 'end', 'the', 'programs', 'because', 'of', 'political', 'and', 'social', 'pressure', 'could', 'make', 'schools', 'less', 'safe', 'they', 'say', 'and', 'also', 'disrupt', 'the', 'opportunity', 'for', 'healthy', 'relationships', 'to', 'grow', 'between', 'law', 'enforcement', 'and', 'students', 'when', 'this', 'is', 'done', 'the', 'right', 'way', 'it', 'the', 'epitome', 'of', 'community', 'based', 'policing', 'said', 'mo', 'canady', 'executive', 'director', 'of', 'the', 'national', 'association', 'of', 'school', 'resource', 'officers', 'that', 'philosophy', 'where', 'police', 'and', 'the', 'community', 'work', 'together', 'to', 'solve', 'crimes', 'and', 'improve', 'everyone', 'quality', 'of', 'life', 'canady', 'organization', 'trains', 'officers', 'how', 'to', 'enforce', 'the', 'law', 'in', 'school', 'setting', 'informally', 'counsel', 'students', 'and', 'act', 'as', 'an', 'educator', 'but', 'nothing', 'requires', 'school', 'resource', 'officers', 'to', 'undergo', 'such', 'training', 'canady', 'said', 'there', 'federal', 'resistance', 'to', 'that', 'idea', 'out', 'of', 'respect', 'for', 'the', 'tradition', 'of', 'local', 'control', 'he', 'added', 'it', 'better', 'if', 'districts', 'would', 'say', 'we', 'need', 'these', 'officers', 'trained', 'on', 'national', 'level', 'canady', 'said', 'nationally', 'protesters', 'seeking', 'justice', 'for', 'floyd', 'want', 'to', 'reduce', 'city', 'police', 'department', 'budgets', 'and', 'redirect', 'more', 'money', 'to', 'social', 'services', 'but', 'what', 'happening', 'at', 'schools', 'offers', 'window', 'into', 'the', 'relationship', 'between', 'law', 'enforcement', 'and', 'youth', 'while', 'police', 'have', 'been', 'stationed', 'in', 'schools', 'for', 'decades', 'they', 'don', 'make', 'schools', 'overwhelmingly', 'more', 'safe', 'studies', 'show', 'review', 'of', 'the', 'most', 'comprehensive', 'studies', 'on', 'school', 'based', 'law', 'enforcement', 'showed', 'the', 'officers', 'did', 'not', 'improve', 'students', 'perception', 'of', 'safety', 'and', 'out', 'of', 'school', 'suspensions', 'and', 'expulsions', 'increased', 'after', 'school', 'resource', 'officers', 'were', 'introduced', 'to', 'building', 'it', 'not', 'like', 'there', 'really', 'strong', 'research', 'base', 'that', 'says', 'with', 'police', 'in', 'schools', 'crime', 'goes', 'down', 'and', 'bullying', 'goes', 'down', 'and', 'there', 'are', 'no', 'shootings', 'said', 'anthony', 'petrosino', 'director', 'of', 'the', 'justice', 'and', 'prevention', 'research', 'center', 'at', 'wested', 'nonpartisan', 'research', 'organization', 'that', 'focuses', 'on', 'education', 'school', 'policing', 'is', 'much', 'more', 'common', 'in', 'schools', 'with', 'kids', 'of', 'color', 'petrosino', 'added', 'there', 'real', 'question', 'of', 'whether', 'it', 'helping', 'or', 'hurting', 'is', 'it', 'leading', 'to', 'more', 'of', 'these', 'kids', 'being', 'involved', 'in', 'the', 'justice', 'system', 'or', 'being', 'kicked', 'out', 'of', 'school', 'one', 'big', 'problem', 'is', 'children', 'of', 'racial', 'minorities', 'especially', 'black', 'students', 'are', 'more', 'likely', 'to', 'be', 'suspended', 'and', 'expelled', 'from', 'school', 'than', 'white', 'students', 'even', 'when', 'they', 'commit', 'similar', 'offenses', 'research', 'shows', 'pushed', 'out', 'and', 'punished', 'black', 'girls', 'punished', 'more', 'harshly', 'than', 'white', 'girls', 'and', 'of', 'the', 'approximate', 'million', 'students', 'in', 'america', 'attending', 'schools', 'with', 'police', 'officers', 'but', 'no', 'counselors', 'more', 'of', 'those', 'students', 'are', 'black', 'than', 'white', 'by', 'contrast', 'white', 'students', 'are', 'more', 'likely', 'to', 'attend', 'schools', 'with', 'counselors', 'but', 'not', 'police', 'federal', 'data', 'show', 'on', 'top', 'of', 'that', 'number', 'of', 'high', 'profile', 'incidents', 'in', 'recent', 'years', 'have', 'put', 'spotlight', 'on', 'police', 'brutality', 'toward', 'black', 'kids', 'and', 'teens', 'inside', 'and', 'outside', 'of', 'school', 'white', 'school', 'resource', 'officer', 'in', 'south', 'carolina', 'high', 'school', 'flipped', 'black', 'girl', 'out', 'of', 'her', 'desk', 'and', 'dragged', 'her', 'across', 'the', 'floor', 'in', 'black', 'school', 'resource', 'officer', 'in', 'orlando', 'arrested', 'sobbing', 'year', 'old', 'black', 'student', 'in', 'september', 'securing', 'her', 'with', 'zip', 'ties', 'because', 'she', 'was', 'too', 'small', 'for', 'handcuffs', 'white', 'officer', 'in', 'ferguson', 'missouri', 'shot', 'and', 'killed', 'michael', 'brown', 'an', 'unarmed', 'year', 'old', 'black', 'man', 'in', 'the', 'street', 'in', 'later', 'that', 'year', 'white', 'officer', 'in', 'cleveland', 'ohio', 'shot', 'and', 'killed', 'tamir', 'rice', 'year', 'old', 'black', 'boy', 'rice', 'had', 'been', 'playing', 'with', 'toy', 'gun', 'outside', 'recreation', 'center', 'change', 'in', 'ferguson', 'city', 'elects', 'first', 'black', 'female', 'mayor', 'years', 'after', 'michael', 'brown', 'death', 'in', 'the', 'only', 'of', 'schools', 'had', 'law', 'enforcement', 'officer', 'stationed', 'in', 'them', 'according', 'to', 'federal', 'data', 'now', 'of', 'schools', 'have', 'police', 'officer', 'in', 'the', 'building', 'at', 'least', 'one', 'day', 'week', 'according', 'to', 'the', 'most', 'recent', 'federal', 'data', 'and', 'among', 'large', 'schools', 'almost', 'had', 'sworn', 'officer', 'in', 'the', 'building', 'at', 'least', 'one', 'day', 'week', 'in', 'the', 'school', 'year', 'the', 'number', 'of', 'officers', 'in', 'schools', 'accelerated', 'rapidly', 'after', 'the', 'year', 'of', 'the', 'shooting', 'at', 'columbine', 'high', 'school', 'in', 'colorado', 'the', 'massacre', 'spurred', 'national', 'discussion', 'about', 'school', 'safety', 'and', 'boost', 'in', 'federal', 'funds', 'helped', 'pay', 'for', 'more', 'cops', 'in', 'schools', 'years', 'after', 'columbine', 'survivors', 'find', 'that', 'new', 'normal', 'between', 'and', 'program', 'started', 'under', 'the', 'clinton', 'administration', 'doled', 'out', 'million', 'in', 'grants', 'to', 'police', 'departments', 'to', 'support', 'hiring', 'thousands', 'more', 'school', 'resource', 'officers', 'since', 'then', 'law', 'enforcement', 'in', 'schools', 'seemed', 'like', 'the', 'one', 'thing', 'that', 'district', 'leaders', 'would', 'not', 'change', 'said', 'aaron', 'kupchik', 'professor', 'of', 'sociology', 'and', 'criminal', 'justice', 'at', 'the', 'university', 'of', 'delaware', 'we', 'typically', 'don', 'even', 'discuss', 'it', 'because', 'it', 'common', 'assumption', 'they', 're', 'here', 'to', 'stay', 'kupchik', 'said', 'so', 'people', 'focus', 'on', 'how', 'to', 'make', 'it', 'less', 'harmful', 'like', 'by', 'ending', 'zero', 'tolerance', 'policies', 'and', 'adding', 'more', 'restorative', 'justice', 'programs', 'under', 'zero', 'tolerance', 'students', 'who', 'break', 'school', 'rules', 'are', 'subject', 'to', 'mandatory', 'severe', 'consequences', 'such', 'as', 'being', 'expelled', 'restorative', 'justice', 'programs', 'offer', 'misbehaving', 'students', 'chance', 'to', 'take', 'ownership', 'of', 'their', 'actions', 'talk', 'through', 'what', 'prompted', 'them', 'and', 'repair', 'harm', 'they', 've', 'caused', 'to', 'others', 'restorative', 'justice', 'how', 'circle', 'keeping', 'works', 'at', 'one', 'midwestern', 'school', 'despite', 'talks', 'of', 'reform', 'students', 'social', 'justice', 'groups', 'and', 'the', 'american', 'civil', 'liberties', 'union', 'have', 'been', 'working', 'for', 'years', 'to', 'end', 'school', 'policing', 'long', 'before', 'the', 'calls', 'emerged', 'as', 'part', 'of', 'the', 'floyd', 'protests', 'that', 'key', 'reason', 'districts', 'are', 'taking', 'action', 'now', 'said', 'sarah', 'hinger', 'senior', 'staff', 'attorney', 'for', 'the', 'aclu', 'racial', 'justice', 'program', 'another', 'reason', 'school', 'districts', 'are', 'more', 'inclined', 'now', 'to', 'remove', 'police', 'officers', 'money', 'districts', 'are', 'facing', 'major', 'financial', 'shortfalls', 'because', 'of', 'the', 'covid', 'pandemic', 'and', 'loss', 'of', 'tax', 'revenue', 'because', 'of', 'the', 'economic', 'shutdown', 'it', 'widely', 'acknowledged', 'that', 'low', 'income', 'children', 'group', 'that', 'includes', 'many', 'black', 'and', 'brown', 'children', 'will', 'need', 'more', 'support', 'to', 'get', 'back', 'on', 'track', 'once', 'schools', 'reopen', 'many', 'haven', 'had', 'access', 'to', 'all', 'the', 'tools', 'needed', 'for', 'online', 'learning', 'such', 'as', 'high', 'speed', 'internet', 'or', 'their', 'own', 'computer', 'police', 'contracts', 'are', 'one', 'non', 'academic', 'budget', 'item', 'that', 'could', 'be', 'dropped', 'all', 'of', 'that', 'is', 'contributing', 'to', 'why', 'this', 'movement', 'is', 'really', 'catching', 'on', 'hinger', 'said', 'kids', 'need', 'to', 'talk', 'about', 'george', 'floyd', 'with', 'coronavirus', 'school', 'closures', 'it', 'hard', 'to', 'do', 'seattle', 'public', 'schools', 'announced', 'this', 'week', 'that', 'it', 'would', 'suspend', 'officers', 'from', 'schools', 'for', 'one', 'year', 'in', 'oakland', 'wednesday', 'the', 'school', 'superintendent', 'joined', 'the', 'majority', 'of', 'the', 'school', 'board', 'in', 'backing', 'the', 'elimination', 'of', 'the', 'district', 'in', 'house', 'police', 'force', 'one', 'idea', 'is', 'to', 'replace', 'it', 'with', 'non', 'uniformed', 'ambassadors', 'to', 'keep', 'the', 'peace', 'in', 'schools', 'black', 'students', 'account', 'for', 'of', 'the', 'students', 'arrested', 'in', 'oakland', 'schools', 'while', 'only', 'making', 'up', 'of', 'the', 'district', 'population', 'according', 'to', 'the', 'black', 'organizing', 'project', 'local', 'advocacy', 'group', 'oakland', 'board', 'is', 'slated', 'to', 'vote', 'on', 'eliminating', 'the', 'police', 'force', 'on', 'june', 'some', 'districts', 'are', 'less', 'inclined', 'to', 'remove', 'officers', 'the', 'chicago', 'teachers', 'union', 'has', 'reinvigorated', 'its', 'call', 'for', 'the', 'city', 'to', 'replace', 'school', 'resource', 'officers', 'with', 'counselors', 'but', 'mayor', 'lori', 'lightfoot', 'who', 'runs', 'the', 'city', 'as', 'well', 'as', 'the', 'district', 'indicated', 'she', 'not', 'interested', 'in', 'dumping', 'the', 'million', 'contract', 'with', 'the', 'chicago', 'police', 'department', 'more', 'than', 'three', 'quarters', 'of', 'the', 'city', 'high', 'schools', 'have', 'police', 'in', 'them', 'and', 'the', 'local', 'parent', 'and', 'teacher', 'councils', 'at', 'all', 'of', 'them', 'voted', 'to', 'keep', 'the', 'officers', 'this', 'year', 'according', 'to', 'local', 'news', 'reports', 'unfortunately', 'we', 'need', 'security', 'in', 'our', 'schools', 'lightfoot', 'said', 'in', 'protest', 'chicago', 'teachers', 'and', 'students', 'have', 'recently', 'staged', 'marches', 'and', 'car', 'caravan', 'parades', 'between', 'high', 'schools', 'chicago', 'protests', 'kanye', 'west', 'joins', 'march', 'offers', 'to', 'pay', 'legal', 'fees', 'for', 'breonna', 'taylor', 'family', 'in', 'los', 'angeles', 'the', 'teachers', 'union', 'said', 'monday', 'it', 'supports', 'ending', 'the', 'district', 'in', 'house', 'police', 'force', 'the', 'unit', 'places', 'about', 'officers', 'throughout', 'the', 'nation', 'second', 'largest', 'school', 'district', 'at', 'cost', 'of', 'about', 'million', 'annually', 'but', 'the', 'head', 'of', 'the', 'district', 'school', 'police', 'union', 'said', 'officers', 'are', 'better', 'trained', 'to', 'de', 'escalate', 'situations', 'in', 'buildings', 'than', 'outside', 'cops', 'called', 'to', 'campus', 'according', 'to', 'the', 'los', 'angeles', 'times', 'in', 'phoenix', 'hundreds', 'of', 'students', 'have', 'been', 'protesting', 'the', 'use', 'of', 'on', 'campus', 'police', 'officers', 'but', 'the', 'school', 'board', 'has', 'not', 'yet', 'taken', 'vote', 'on', 'whether', 'to', 'renew', 'the', 'contract', 'there', 'not', 'much', 'good', 'data', 'on', 'what', 'happens', 'when', 'you', 'remove', 'police', 'officers', 'from', 'schools', 'but', 'new', 'york', 'and', 'louisville', 'have', 'tried', 'some', 'new', 'ideas', 'decade', 'ago', 'report', 'from', 'new', 'york', 'city', 'examined', 'how', 'handful', 'of', 'high', 'schools', 'serving', 'at', 'risk', 'students', 'maintained', 'safe', 'environments', 'without', 'police', 'district', 'safety', 'agents', 'patrolled', 'halls', 'instead', 'metal', 'detectors', 'were', 'removed', 'administrators', 'created', 'alternatives', 'to', 'harsh', 'discipline', 'policies', 'the', 'aclu', 'which', 'published', 'the', 'report', 'is', 'notably', 'in', 'favor', 'of', 'removing', 'police', 'from', 'schools', 'in', 'louisville', 'kentucky', 'the', 'jefferson', 'county', 'public', 'schools', 'cut', 'ties', 'with', 'school', 'resource', 'officers', 'last', 'august', 'because', 'of', 'issues', 'related', 'to', 'the', 'criminalization', 'of', 'black', 'students', 'the', 'district', 'this', 'week', 'couldn', 'provide', 'comparison', 'of', 'school', 'arrest', 'data', 'from', 'before', 'and', 'after', 'police', 'were', 'removed', 'but', 'in', 'general', 'according', 'to', 'the', 'louisville', 'courier', 'journal', 'school', 'safety', 'hasn', 'changed', 'much', 'though', 'one', 'school', 'made', 'headlines', 'for', 'some', 'high', 'profile', 'student', 'on', 'teacher', 'altercations', 'louisville', 'has', 'seen', 'even', 'more', 'forceful', 'protests', 'than', 'some', 'cities', 'in', 'the', 'wake', 'of', 'the', 'death', 'of', 'breonna', 'taylor', 'who', 'was', 'shot', 'by', 'white', 'police', 'officer', 'in', 'her', 'bedroom', 'in', 'march', 'district', 'spokesperson', 'in', 'jefferson', 'county', 'said', 'this', 'week', 'the', 'district', 'is', 're', 'evaluating', 'its', 'school', 'safety', 'plan', 'which', 'could', 'still', 'include', 'armed', 'guards', 'in', 'schools', 'in', 'florida', 'janice', 'scott', 'cover', 'former', 'assistant', 'superintendent', 'in', 'the', 'palm', 'beach', 'county', 'school', 'district', 'said', 'administrators', 'can', 'also', 'work', 'harder', 'to', 'identify', 'the', 'root', 'cause', 'of', 'student', 'misbehavior', 'whether', 'cops', 'are', 'there', 'or', 'not', 'when', 'she', 'became', 'principal', 'of', 'troubled', 'elementary', 'school', 'two', 'decades', 'ago', 'the', 'school', 'resource', 'officer', 'arrested', 'children', 'for', 'fighting', 'disrespecting', 'teachers', 'and', 'walking', 'out', 'of', 'class', 'not', 'all', 'the', 'resource', 'officers', 'understand', 'how', 'to', 'police', 'in', 'schools', 'cover', 'said', 'some', 'still', 'behave', 'like', 'they', 're', 'out', 'on', 'the', 'street', 'grabbing', 'people', 'and', 'throwing', 'them', 'down', 'and', 'did', 'not', 'want', 'that', 'on', 'the', 'campus', 'cover', 'rearranged', 'the', 'budget', 'to', 'hire', 'another', 'social', 'worker', 'who', 'became', 'the', 'first', 'stop', 'for', 'misbehaving', 'children', 'she', 'had', 'teachers', 'rearrange', 'classrooms', 'so', 'students', 'worked', 'in', 'groups', 'and', 'practiced', 'cooperation', 'she', 'and', 'her', 'teachers', 'doubled', 'down', 'on', 'prodding', 'into', 'students', 'lives', 'often', 'getting', 'them', 'needed', 'household', 'or', 'personal', 'items', 'over', 'time', 'the', 'climate', 'and', 'academics', 'improved', 'something', 'cover', 'recounts', 'in', 'her', 'book', 'about', 'turning', 'around', 'low', 'performing', 'elementary', 'schools', 'happy', 'now', 'that', 'people', 'are', 'beginning', 'to', 'look', 'at', 'this', 'said', 'cover', 'who', 'is', 'black', 'my', 'hope', 'is', 'that', 'you', 'don', 'just', 'remove', 'the', 'police', 'officers', 'but', 'replace', 'them', 'with', 'something', 'else', 'like', 'counselors', 'or', 'mental', 'health', 'professionals', 'or', 'school', 'psychologists', 'olivia', 'krauth', 'contributed', 'to', 'this', 'story', 'from', 'louisville', 'kentucky', 'lily', 'altavena', 'contributed', 'from', 'phoenix', 'arizona', 'education', 'coverage', 'at', 'usa', 'today', 'is', 'made', 'possible', 'in', 'part', 'by', 'grant', 'from', 'the', 'bill', 'melinda', 'gates', 'foundation', 'the', 'gates', 'foundation', 'does', 'not', 'provide', 'editorial', 'input', 'three', 'summers', 'ago', 'about', 'students', 'and', 'activists', 'gathered', 'outside', 'the', 'minneapolis', 'public', 'schools', 'headquarters', 'to', 'demand', 'the', 'school', 'board', 'end', 'contract', 'that', 'placed', 'police', 'officers', 'in', 'schools', 'the', 'officers', 'whose', 'role', 'was', 'to', 'keep', 'schools', 'safe', 'actually', 'made', 'students', 'especially', 'black', 'students', 'feel', 'criminalized', 'activists', 'said', 'but', 'the', 'majority', 'of', 'teachers', 'staff', 'and', 'parents', 'liked', 'officers', 'in', 'schools', 'district', 'wide', 'survey', 'showed', 'at', 'the', 'time', 'the', 'board', 'renewed', 'the', 'three', 'year', 'contract', 'fast', 'forward', 'to', 'june', 'eight', 'days', 'after', 'george', 'floyd', 'died', 'under', 'the', 'knee', 'of', 'minneapolis', 'police', 'officer', 'the', 'school', 'board', 'revisited', 'that', 'contract', 'and', 'ended', 'it', 'the', 'vote', 'on', 'june', 'after', 'an', 'even', 'larger', 'crowd', 'of', 'protesters', 'gathered', 'outside', 'was', 'unanimous', 'the', 'values', 'we', 'see', 'in', 'the', 'police', 'department', 'do', 'not', 'match', 'our', 'values', 'said', 'kim', 'ellison', 'chair', 'of', 'the', 'minneapolis', 'school', 'board', 'the', 'school', 'board', 'became', 'one', 'of', 'the', 'first', 'major', 'governmental', 'bodies', 'to', 'change', 'the', 'balance', 'of', 'power', 'with', 'police', 'in', 'the', 'wake', 'of', 'floyd', 'death', 'the', 'change', 'has', 'prompted', 'wave', 'of', 'districts', 'nationwide', 'to', 'consider', 'terminating', 'their', 'relationships', 'with', 'police', 'from', 'chicago', 'new', 'york', 'and', 'los', 'angeles', 'to', 'smaller', 'cities', 'like', 'rochester', 'new', 'york', 'columbus', 'ohio', 'and', 'portland', 'maine', 'and', 'fort', 'collins', 'colorado', 'students', 'and', 'activists', 'are', 'demanding', 'the', 'discontinuation', 'of', 'school', 'resource', 'officers', 'they', 'want', 'the', 'money', 'spent', 'on', 'those', 'programs', 'to', 'go', 'to', 'other', 'peacekeeping', 'strategies', 'teen', 'activists', 'too', 'young', 'to', 'vote', 'in', 'but', 'fighting', 'for', 'change', 'police', 'in', 'schools', 'contribute', 'to', 'the', 'marginalization', 'of', 'students', 'of', 'color', 'they', 'say', 'that', 'because', 'schools', 'with', 'large', 'populations', 'of', 'black', 'and', 'brown', 'students', 'are', 'more', 'likely', 'to', 'have', 'law', 'enforcement', 'on', 'site', 'and', 'in', 'those', 'places', 'students', 'are', 'more', 'likely', 'to', 'be', 'arrested', 'for', 'certain', 'behaviors', 'rather', 'than', 'disciplined', 'by', 'an', 'administrator', 'last', 'week', 'portland', 'oregon', 'school', 'superintendent', 'announced', 'he', 'planned', 'to', 'remove', 'police', 'from', 'schools', 'denver', 'school', 'board', 'is', 'slated', 'to', 'vote', 'thursday', 'on', 'ending', 'contract', 'for', 'uniformed', 'officers', 'in', 'oakland', 'california', 'the', 'majority', 'of', 'the', 'school', 'board', 'and', 'superintendent', 'wednesday', 'backed', 'proposal', 'to', 'eliminate', 'the', 'district', 'million', 'internal', 'police', 'force', 'despite', 'concerns', 'from', 'some', 'principals', 'according', 'to', 'the', 'san', 'francisco', 'chronicle', 'advocates', 'for', 'school', 'resource', 'officers', 'say', 'the', 'problem', 'lies', 'with', 'inconsistent', 'training', 'for', 'law', 'enforcement', 'on', 'how', 'to', 'work', 'with', 'students', 'making', 'rash', 'moves', 'to', 'end', 'the', 'programs', 'because', 'of', 'political', 'and', 'social', 'pressure', 'could', 'make', 'schools', 'less', 'safe', 'they', 'say', 'and', 'also', 'disrupt', 'the', 'opportunity', 'for', 'healthy', 'relationships', 'to', 'grow', 'between', 'law', 'enforcement', 'and', 'students', 'when', 'this', 'is', 'done', 'the', 'right', 'way', 'it', 'the', 'epitome', 'of', 'community', 'based', 'policing', 'said', 'mo', 'canady', 'executive', 'director', 'of', 'the', 'national', 'association', 'of', 'school', 'resource', 'officers', 'that', 'philosophy', 'where', 'police', 'and', 'the', 'community', 'work', 'together', 'to', 'solve', 'crimes', 'and', 'improve', 'everyone', 'quality', 'of', 'life', 'canady', 'organization', 'trains', 'officers', 'how', 'to', 'enforce', 'the', 'law', 'in', 'school', 'setting', 'informally', 'counsel', 'students', 'and', 'act', 'as', 'an', 'educator', 'but', 'nothing', 'requires', 'school', 'resource', 'officers', 'to', 'undergo', 'such', 'training', 'canady', 'said', 'there', 'federal', 'resistance', 'to', 'that', 'idea', 'out', 'of', 'respect', 'for', 'the', 'tradition', 'of', 'local', 'control', 'he', 'added', 'it', 'better', 'if', 'districts', 'would', 'say', 'we', 'need', 'these', 'officers', 'trained', 'on', 'national', 'level', 'canady', 'said', 'nationally', 'protesters', 'seeking', 'justice', 'for', 'floyd', 'want', 'to', 'reduce', 'city', 'police', 'department', 'budgets', 'and', 'redirect', 'more', 'money', 'to', 'social', 'services', 'but', 'what', 'happening', 'at', 'schools', 'offers', 'window', 'into', 'the', 'relationship', 'between', 'law', 'enforcement', 'and', 'youth', 'while', 'police', 'have', 'been', 'stationed', 'in', 'schools', 'for', 'decades', 'they', 'don', 'make', 'schools', 'overwhelmingly', 'more', 'safe', 'studies', 'show', 'review', 'of', 'the', 'most', 'comprehensive', 'studies', 'on', 'school', 'based', 'law', 'enforcement', 'showed', 'the', 'officers', 'did', 'not', 'improve', 'students', 'perception', 'of', 'safety', 'and', 'out', 'of', 'school', 'suspensions', 'and', 'expulsions', 'increased', 'after', 'school', 'resource', 'officers', 'were', 'introduced', 'to', 'building', 'it', 'not', 'like', 'there', 'really', 'strong', 'research', 'base', 'that', 'says', 'with', 'police', 'in', 'schools', 'crime', 'goes', 'down', 'and', 'bullying', 'goes', 'down', 'and', 'there', 'are', 'no', 'shootings', 'said', 'anthony', 'petrosino', 'director', 'of', 'the', 'justice', 'and', 'prevention', 'research', 'center', 'at', 'wested', 'nonpartisan', 'research', 'organization', 'that', 'focuses', 'on', 'education', 'school', 'policing', 'is', 'much', 'more', 'common', 'in', 'schools', 'with', 'kids', 'of', 'color', 'petrosino', 'added', 'there', 'real', 'question', 'of', 'whether', 'it', 'helping', 'or', 'hurting', 'is', 'it', 'leading', 'to', 'more', 'of', 'these', 'kids', 'being', 'involved', 'in', 'the', 'justice', 'system', 'or', 'being', 'kicked', 'out', 'of', 'school', 'one', 'big', 'problem', 'is', 'children', 'of', 'racial', 'minorities', 'especially', 'black', 'students', 'are', 'more', 'likely', 'to', 'be', 'suspended', 'and', 'expelled', 'from', 'school', 'than', 'white', 'students', 'even', 'when', 'they', 'commit', 'similar', 'offenses', 'research', 'shows', 'pushed', 'out', 'and', 'punished', 'black', 'girls', 'punished', 'more', 'harshly', 'than', 'white', 'girls', 'and', 'of', 'the', 'approximate', 'million', 'students', 'in', 'america', 'attending', 'schools', 'with', 'police', 'officers', 'but', 'no', 'counselors', 'more', 'of', 'those', 'students', 'are', 'black', 'than', 'white', 'by', 'contrast', 'white', 'students', 'are', 'more', 'likely', 'to', 'attend', 'schools', 'with', 'counselors', 'but', 'not', 'police', 'federal', 'data', 'show', 'on', 'top', 'of', 'that', 'number', 'of', 'high', 'profile', 'incidents', 'in', 'recent', 'years', 'have', 'put', 'spotlight', 'on', 'police', 'brutality', 'toward', 'black', 'kids', 'and', 'teens', 'inside', 'and', 'outside', 'of', 'school', 'white', 'school', 'resource', 'officer', 'in', 'south', 'carolina', 'high', 'school', 'flipped', 'black', 'girl', 'out', 'of', 'her', 'desk', 'and', 'dragged', 'her', 'across', 'the', 'floor', 'in', 'black', 'school', 'resource', 'officer', 'in', 'orlando', 'arrested', 'sobbing', 'year', 'old', 'black', 'student', 'in', 'september', 'securing', 'her', 'with', 'zip', 'ties', 'because', 'she', 'was', 'too', 'small', 'for', 'handcuffs', 'white', 'officer', 'in', 'ferguson', 'missouri', 'shot', 'and', 'killed', 'michael', 'brown', 'an', 'unarmed', 'year', 'old', 'black', 'man', 'in', 'the', 'street', 'in', 'later', 'that', 'year', 'white', 'officer', 'in', 'cleveland', 'ohio', 'shot', 'and', 'killed', 'tamir', 'rice', 'year', 'old', 'black', 'boy', 'rice', 'had', 'been', 'playing', 'with', 'toy', 'gun', 'outside', 'recreation', 'center', 'change', 'in', 'ferguson', 'city', 'elects', 'first', 'black', 'female', 'mayor', 'years', 'after', 'michael', 'brown', 'death', 'in', 'the', 'only', 'of', 'schools', 'had', 'law', 'enforcement', 'officer', 'stationed', 'in', 'them', 'according', 'to', 'federal', 'data', 'now', 'of', 'schools', 'have', 'police', 'officer', 'in', 'the', 'building', 'at', 'least', 'one', 'day', 'week', 'according', 'to', 'the', 'most', 'recent', 'federal', 'data', 'and', 'among', 'large', 'schools', 'almost', 'had', 'sworn', 'officer', 'in', 'the', 'building', 'at', 'least', 'one', 'day', 'week', 'in', 'the', 'school', 'year', 'the', 'number', 'of', 'officers', 'in', 'schools', 'accelerated', 'rapidly', 'after', 'the', 'year', 'of', 'the', 'shooting', 'at', 'columbine', 'high', 'school', 'in', 'colorado', 'the', 'massacre', 'spurred', 'national', 'discussion', 'about', 'school', 'safety', 'and', 'boost', 'in', 'federal', 'funds', 'helped', 'pay', 'for', 'more', 'cops', 'in', 'schools', 'years', 'after', 'columbine', 'survivors', 'find', 'that', 'new', 'normal', 'between', 'and', 'program', 'started', 'under', 'the', 'clinton', 'administration', 'doled', 'out', 'million', 'in', 'grants', 'to', 'police', 'departments', 'to', 'support', 'hiring', 'thousands', 'more', 'school', 'resource', 'officers', 'since', 'then', 'law', 'enforcement', 'in', 'schools', 'seemed', 'like', 'the', 'one', 'thing', 'that', 'district', 'leaders', 'would', 'not', 'change', 'said', 'aaron', 'kupchik', 'professor', 'of', 'sociology', 'and', 'criminal', 'justice', 'at', 'the', 'university', 'of', 'delaware', 'we', 'typically', 'don', 'even', 'discuss', 'it', 'because', 'it', 'common', 'assumption', 'they', 're', 'here', 'to', 'stay', 'kupchik', 'said', 'so', 'people', 'focus', 'on', 'how', 'to', 'make', 'it', 'less', 'harmful', 'like', 'by', 'ending', 'zero', 'tolerance', 'policies', 'and', 'adding', 'more', 'restorative', 'justice', 'programs', 'under', 'zero', 'tolerance', 'students', 'who', 'break', 'school', 'rules', 'are', 'subject', 'to', 'mandatory', 'severe', 'consequences', 'such', 'as', 'being', 'expelled', 'restorative', 'justice', 'programs', 'offer', 'misbehaving', 'students', 'chance', 'to', 'take', 'ownership', 'of', 'their', 'actions', 'talk', 'through', 'what', 'prompted', 'them', 'and', 'repair', 'harm', 'they', 've', 'caused', 'to', 'others', 'restorative', 'justice', 'how', 'circle', 'keeping', 'works', 'at', 'one', 'midwestern', 'school', 'despite', 'talks', 'of', 'reform', 'students', 'social', 'justice', 'groups', 'and', 'the', 'american', 'civil', 'liberties', 'union', 'have', 'been', 'working', 'for', 'years', 'to', 'end', 'school', 'policing', 'long', 'before', 'the', 'calls', 'emerged', 'as', 'part', 'of', 'the', 'floyd', 'protests', 'that', 'key', 'reason', 'districts', 'are', 'taking', 'action', 'now', 'said', 'sarah', 'hinger', 'senior', 'staff', 'attorney', 'for', 'the', 'aclu', 'racial', 'justice', 'program', 'another', 'reason', 'school', 'districts', 'are', 'more', 'inclined', 'now', 'to', 'remove', 'police', 'officers', 'money', 'districts', 'are', 'facing', 'major', 'financial', 'shortfalls', 'because', 'of', 'the', 'covid', 'pandemic', 'and', 'loss', 'of', 'tax', 'revenue', 'because', 'of', 'the', 'economic', 'shutdown', 'it', 'widely', 'acknowledged', 'that', 'low', 'income', 'children', 'group', 'that', 'includes', 'many', 'black', 'and', 'brown', 'children', 'will', 'need', 'more', 'support', 'to', 'get', 'back', 'on', 'track', 'once', 'schools', 'reopen', 'many', 'haven', 'had', 'access', 'to', 'all', 'the', 'tools', 'needed', 'for', 'online', 'learning', 'such', 'as', 'high', 'speed', 'internet', 'or', 'their', 'own', 'computer', 'police', 'contracts', 'are', 'one', 'non', 'academic', 'budget', 'item', 'that', 'could', 'be', 'dropped', 'all', 'of', 'that', 'is', 'contributing', 'to', 'why', 'this', 'movement', 'is', 'really', 'catching', 'on', 'hinger', 'said', 'kids', 'need', 'to', 'talk', 'about', 'george', 'floyd', 'with', 'coronavirus', 'school', 'closures', 'it', 'hard', 'to', 'do', 'seattle', 'public', 'schools', 'announced', 'this', 'week', 'that', 'it', 'would', 'suspend', 'officers', 'from', 'schools', 'for', 'one', 'year', 'in', 'oakland', 'wednesday', 'the', 'school', 'superintendent', 'joined', 'the', 'majority', 'of', 'the', 'school', 'board', 'in', 'backing', 'the', 'elimination', 'of', 'the', 'district', 'in', 'house', 'police', 'force', 'one', 'idea', 'is', 'to', 'replace', 'it', 'with', 'non', 'uniformed', 'ambassadors', 'to', 'keep', 'the', 'peace', 'in', 'schools', 'black', 'students', 'account', 'for', 'of', 'the', 'students', 'arrested', 'in', 'oakland', 'schools', 'while', 'only', 'making', 'up', 'of', 'the', 'district', 'population', 'according', 'to', 'the', 'black', 'organizing', 'project', 'local', 'advocacy', 'group', 'oakland', 'board', 'is', 'slated', 'to', 'vote', 'on', 'eliminating', 'the', 'police', 'force', 'on', 'june', 'some', 'districts', 'are', 'less', 'inclined', 'to', 'remove', 'officers', 'the', 'chicago', 'teachers', 'union', 'has', 'reinvigorated', 'its', 'call', 'for', 'the', 'city', 'to', 'replace', 'school', 'resource', 'officers', 'with', 'counselors', 'but', 'mayor', 'lori', 'lightfoot', 'who', 'runs', 'the', 'city', 'as', 'well', 'as', 'the', 'district', 'indicated', 'she', 'not', 'interested', 'in', 'dumping', 'the', 'million', 'contract', 'with', 'the', 'chicago', 'police', 'department', 'more', 'than', 'three', 'quarters', 'of', 'the', 'city', 'high', 'schools', 'have', 'police', 'in', 'them', 'and', 'the', 'local', 'parent', 'and', 'teacher', 'councils', 'at', 'all', 'of', 'them', 'voted', 'to', 'keep', 'the', 'officers', 'this', 'year', 'according', 'to', 'local', 'news', 'reports', 'unfortunately', 'we', 'need', 'security', 'in', 'our', 'schools', 'lightfoot', 'said', 'in', 'protest', 'chicago', 'teachers', 'and', 'students', 'have', 'recently', 'staged', 'marches', 'and', 'car', 'caravan', 'parades', 'between', 'high', 'schools', 'chicago', 'protests', 'kanye', 'west', 'joins', 'march', 'offers', 'to', 'pay', 'legal', 'fees', 'for', 'breonna', 'taylor', 'family', 'in', 'los', 'angeles', 'the', 'teachers', 'union', 'said', 'monday', 'it', 'supports', 'ending', 'the', 'district', 'in', 'house', 'police', 'force', 'the', 'unit', 'places', 'about', 'officers', 'throughout', 'the', 'nation', 'second', 'largest', 'school', 'district', 'at', 'cost', 'of', 'about', 'million', 'annually', 'but', 'the', 'head', 'of', 'the', 'district', 'school', 'police', 'union', 'said', 'officers', 'are', 'better', 'trained', 'to', 'de', 'escalate', 'situations', 'in', 'buildings', 'than', 'outside', 'cops', 'called', 'to', 'campus', 'according', 'to', 'the', 'los', 'angeles', 'times', 'in', 'phoenix', 'hundreds', 'of', 'students', 'have', 'been', 'protesting', 'the', 'use', 'of', 'on', 'campus', 'police', 'officers', 'but', 'the', 'school', 'board', 'has', 'not', 'yet', 'taken', 'vote', 'on', 'whether', 'to', 'renew', 'the', 'contract', 'there', 'not', 'much', 'good', 'data', 'on', 'what', 'happens', 'when', 'you', 'remove', 'police', 'officers', 'from', 'schools', 'but', 'new', 'york', 'and', 'louisville', 'have', 'tried', 'some', 'new', 'ideas', 'decade', 'ago', 'report', 'from', 'new', 'york', 'city', 'examined', 'how', 'handful', 'of', 'high', 'schools', 'serving', 'at', 'risk', 'students', 'maintained', 'safe', 'environments', 'without', 'police', 'district', 'safety', 'agents', 'patrolled', 'halls', 'instead', 'metal', 'detectors', 'were', 'removed', 'administrators', 'created', 'alternatives', 'to', 'harsh', 'discipline', 'policies', 'the', 'aclu', 'which', 'published', 'the', 'report', 'is', 'notably', 'in', 'favor', 'of', 'removing', 'police', 'from', 'schools', 'in', 'louisville', 'kentucky', 'the', 'jefferson', 'county', 'public', 'schools', 'cut', 'ties', 'with', 'school', 'resource', 'officers', 'last', 'august', 'because', 'of', 'issues', 'related', 'to', 'the', 'criminalization', 'of', 'black', 'students', 'the', 'district', 'this', 'week', 'couldn', 'provide', 'comparison', 'of', 'school', 'arrest', 'data', 'from', 'before', 'and', 'after', 'police', 'were', 'removed', 'but', 'in', 'general', 'according', 'to', 'the', 'louisville', 'courier', 'journal', 'school', 'safety', 'hasn', 'changed', 'much', 'though', 'one', 'school', 'made', 'headlines', 'for', 'some', 'high', 'profile', 'student', 'on', 'teacher', 'altercations', 'louisville', 'has', 'seen', 'even', 'more', 'forceful', 'protests', 'than', 'some', 'cities', 'in', 'the', 'wake', 'of', 'the', 'death', 'of', 'breonna', 'taylor', 'who', 'was', 'shot', 'by', 'white', 'police', 'officer', 'in', 'her', 'bedroom', 'in', 'march', 'district', 'spokesperson', 'in', 'jefferson', 'county', 'said', 'this', 'week', 'the', 'district', 'is', 're', 'evaluating', 'its', 'school', 'safety', 'plan', 'which', 'could', 'still', 'include', 'armed', 'guards', 'in', 'schools', 'in', 'florida', 'janice', 'scott', 'cover', 'former', 'assistant', 'superintendent', 'in', 'the', 'palm', 'beach', 'county', 'school', 'district', 'said', 'administrators', 'can', 'also', 'work', 'harder', 'to', 'identify', 'the', 'root', 'cause', 'of', 'student', 'misbehavior', 'whether', 'cops', 'are', 'there', 'or', 'not', 'when', 'she', 'became', 'principal', 'of', 'troubled', 'elementary', 'school', 'two', 'decades', 'ago', 'the', 'school', 'resource', 'officer', 'arrested', 'children', 'for', 'fighting', 'disrespecting', 'teachers', 'and', 'walking', 'out', 'of', 'class', 'not', 'all', 'the', 'resource', 'officers', 'understand', 'how', 'to', 'police', 'in', 'schools', 'cover', 'said', 'some', 'still', 'behave', 'like', 'they', 're', 'out', 'on', 'the', 'street', 'grabbing', 'people', 'and', 'throwing', 'them', 'down', 'and', 'did', 'not', 'want', 'that', 'on', 'the', 'campus', 'cover', 'rearranged', 'the', 'budget', 'to', 'hire', 'another', 'social', 'worker', 'who', 'became', 'the', 'first', 'stop', 'for', 'misbehaving', 'children', 'she', 'had', 'teachers', 'rearrange', 'classrooms', 'so', 'students', 'worked', 'in', 'groups', 'and', 'practiced', 'cooperation', 'she', 'and', 'her', 'teachers', 'doubled', 'down', 'on', 'prodding', 'into', 'students', 'lives', 'often', 'getting', 'them', 'needed', 'household', 'or', 'personal', 'items', 'over', 'time', 'the', 'climate', 'and', 'academics', 'improved', 'something', 'cover', 'recounts', 'in', 'her', 'book', 'about', 'turning', 'around', 'low', 'performing', 'elementary', 'schools', 'happy', 'now', 'that', 'people', 'are', 'beginning', 'to', 'look', 'at', 'this', 'said', 'cover', 'who', 'is', 'black', 'my', 'hope', 'is', 'that', 'you', 'don', 'just', 'remove', 'the', 'police', 'officers', 'but', 'replace', 'them', 'with', 'something', 'else', 'like', 'counselors', 'or', 'mental', 'health', 'professionals', 'or', 'school', 'psychologists', 'olivia', 'krauth', 'contributed', 'to', 'this', 'story', 'from', 'louisville', 'kentucky', 'lily', 'altavena', 'contributed', 'from', 'phoenix', 'arizona', 'education', 'coverage', 'at', 'usa', 'today', 'is', 'made', 'possible', 'in', 'part', 'by', 'grant', 'from', 'the', 'bill', 'melinda', 'gates', 'foundation', 'the', 'gates', 'foundation', 'does', 'not', 'provide', 'editorial', 'input', 'three', 'summers', 'ago', 'about', 'students', 'and', 'activists', 'gathered', 'outside', 'the', 'minneapolis', 'public', 'schools', 'headquarters', 'to', 'demand', 'the', 'school', 'board', 'end', 'contract', 'that', 'placed', 'police', 'officers', 'in', 'schools', 'the', 'officers', 'whose', 'role', 'was', 'to', 'keep', 'schools', 'safe', 'actually', 'made', 'students', 'especially', 'black', 'students', 'feel', 'criminalized', 'activists', 'said', 'but', 'the', 'majority', 'of', 'teachers', 'staff', 'and', 'parents', 'liked', 'officers', 'in', 'schools', 'district', 'wide', 'survey', 'showed', 'at', 'the', 'time', 'the', 'board', 'renewed', 'the', 'three', 'year', 'contract', 'fast', 'forward', 'to', 'june', 'eight', 'days', 'after', 'george', 'floyd', 'died', 'under', 'the', 'knee', 'of', 'minneapolis', 'police', 'officer', 'the', 'school', 'board', 'revisited', 'that', 'contract', 'and', 'ended', 'it', 'the', 'vote', 'on', 'june', 'after', 'an', 'even', 'larger', 'crowd', 'of', 'protesters', 'gathered', 'outside', 'was', 'unanimous', 'the', 'values', 'we', 'see', 'in', 'the', 'police', 'department', 'do', 'not', 'match', 'our', 'values', 'said', 'kim', 'ellison', 'chair', 'of', 'the', 'minneapolis', 'school', 'board', 'the', 'school', 'board', 'became', 'one', 'of', 'the', 'first', 'major', 'governmental', 'bodies', 'to', 'change', 'the', 'balance', 'of', 'power', 'with', 'police', 'in', 'the', 'wake', 'of', 'floyd', 'death', 'the', 'change', 'has', 'prompted', 'wave', 'of', 'districts', 'nationwide', 'to', 'consider', 'terminating', 'their', 'relationships', 'with', 'police', 'from', 'chicago', 'new', 'york', 'and', 'los', 'angeles', 'to', 'smaller', 'cities', 'like', 'rochester', 'new', 'york', 'columbus', 'ohio', 'and', 'portland', 'maine', 'and', 'fort', 'collins', 'colorado', 'students', 'and', 'activists', 'are', 'demanding', 'the', 'discontinuation', 'of', 'school', 'resource', 'officers', 'they', 'want', 'the', 'money', 'spent', 'on', 'those', 'programs', 'to', 'go', 'to', 'other', 'peacekeeping', 'strategies', 'teen', 'activists', 'too', 'young', 'to', 'vote', 'in', 'but', 'fighting', 'for', 'change', 'police', 'in', 'schools', 'contribute', 'to', 'the', 'marginalization', 'of', 'students', 'of', 'color', 'they', 'say', 'that', 'because', 'schools', 'with', 'large', 'populations', 'of', 'black', 'and', 'brown', 'students', 'are', 'more', 'likely', 'to', 'have', 'law', 'enforcement', 'on', 'site', 'and', 'in', 'those', 'places', 'students', 'are', 'more', 'likely', 'to', 'be', 'arrested', 'for', 'certain', 'behaviors', 'rather', 'than', 'disciplined', 'by', 'an', 'administrator', 'last', 'week', 'portland', 'oregon', 'school', 'superintendent', 'announced', 'he', 'planned', 'to', 'remove', 'police', 'from', 'schools', 'denver', 'school', 'board', 'is', 'slated', 'to', 'vote', 'thursday', 'on', 'ending', 'contract', 'for', 'uniformed', 'officers', 'in', 'oakland', 'california', 'the', 'majority', 'of', 'the', 'school', 'board', 'and', 'superintendent', 'wednesday', 'backed', 'proposal', 'to', 'eliminate', 'the', 'district', 'million', 'internal', 'police', 'force', 'despite', 'concerns', 'from', 'some', 'principals', 'according', 'to', 'the', 'san', 'francisco', 'chronicle', 'advocates', 'for', 'school', 'resource', 'officers', 'say', 'the', 'problem', 'lies', 'with', 'inconsistent', 'training', 'for', 'law', 'enforcement', 'on', 'how', 'to', 'work', 'with', 'students', 'making', 'rash', 'moves', 'to', 'end', 'the', 'programs', 'because', 'of', 'political', 'and', 'social', 'pressure', 'could', 'make', 'schools', 'less', 'safe', 'they', 'say', 'and', 'also', 'disrupt', 'the', 'opportunity', 'for', 'healthy', 'relationships', 'to', 'grow', 'between', 'law', 'enforcement', 'and', 'students', 'when', 'this', 'is', 'done', 'the', 'right', 'way', 'it', 'the', 'epitome', 'of', 'community', 'based', 'policing', 'said', 'mo', 'canady', 'executive', 'director', 'of', 'the', 'national', 'association', 'of', 'school', 'resource', 'officers', 'that', 'philosophy', 'where', 'police', 'and', 'the', 'community', 'work', 'together', 'to', 'solve', 'crimes', 'and', 'improve', 'everyone', 'quality', 'of', 'life', 'canady', 'organization', 'trains', 'officers', 'how', 'to', 'enforce', 'the', 'law', 'in', 'school', 'setting', 'informally', 'counsel', 'students', 'and', 'act', 'as', 'an', 'educator', 'but', 'nothing', 'requires', 'school', 'resource', 'officers', 'to', 'undergo', 'such', 'training', 'canady', 'said', 'there', 'federal', 'resistance', 'to', 'that', 'idea', 'out', 'of', 'respect', 'for', 'the', 'tradition', 'of', 'local', 'control', 'he', 'added', 'it', 'better', 'if', 'districts', 'would', 'say', 'we', 'need', 'these', 'officers', 'trained', 'on', 'national', 'level', 'canady', 'said', 'nationally', 'protesters', 'seeking', 'justice', 'for', 'floyd', 'want', 'to', 'reduce', 'city', 'police', 'department', 'budgets', 'and', 'redirect', 'more', 'money', 'to', 'social', 'services', 'but', 'what', 'happening', 'at', 'schools', 'offers', 'window', 'into', 'the', 'relationship', 'between', 'law', 'enforcement', 'and', 'youth', 'while', 'police', 'have', 'been', 'stationed', 'in', 'schools', 'for', 'decades', 'they', 'don', 'make', 'schools', 'overwhelmingly', 'more', 'safe', 'studies', 'show', 'review', 'of', 'the', 'most', 'comprehensive', 'studies', 'on', 'school', 'based', 'law', 'enforcement', 'showed', 'the', 'officers', 'did', 'not', 'improve', 'students', 'perception', 'of', 'safety', 'and', 'out', 'of', 'school', 'suspensions', 'and', 'expulsions', 'increased', 'after', 'school', 'resource', 'officers', 'were', 'introduced', 'to', 'building', 'it', 'not', 'like', 'there', 'really', 'strong', 'research', 'base', 'that', 'says', 'with', 'police', 'in', 'schools', 'crime', 'goes', 'down', 'and', 'bullying', 'goes', 'down', 'and', 'there', 'are', 'no', 'shootings', 'said', 'anthony', 'petrosino', 'director', 'of', 'the', 'justice', 'and', 'prevention', 'research', 'center', 'at', 'wested', 'nonpartisan', 'research', 'organization', 'that', 'focuses', 'on', 'education', 'school', 'policing', 'is', 'much', 'more', 'common', 'in', 'schools', 'with', 'kids', 'of', 'color', 'petrosino', 'added', 'there', 'real', 'question', 'of', 'whether', 'it', 'helping', 'or', 'hurting', 'is', 'it', 'leading', 'to', 'more', 'of', 'these', 'kids', 'being', 'involved', 'in', 'the', 'justice', 'system', 'or', 'being', 'kicked', 'out', 'of', 'school', 'one', 'big', 'problem', 'is', 'children', 'of', 'racial', 'minorities', 'especially', 'black', 'students', 'are', 'more', 'likely', 'to', 'be', 'suspended', 'and', 'expelled', 'from', 'school', 'than', 'white', 'students', 'even', 'when', 'they', 'commit', 'similar', 'offenses', 'research', 'shows', 'pushed', 'out', 'and', 'punished', 'black', 'girls', 'punished', 'more', 'harshly', 'than', 'white', 'girls', 'and', 'of', 'the', 'approximate', 'million', 'students', 'in', 'america', 'attending', 'schools', 'with', 'police', 'officers', 'but', 'no', 'counselors', 'more', 'of', 'those', 'students', 'are', 'black', 'than', 'white', 'by', 'contrast', 'white', 'students', 'are', 'more', 'likely', 'to', 'attend', 'schools', 'with', 'counselors', 'but', 'not', 'police', 'federal', 'data', 'show', 'on', 'top', 'of', 'that', 'number', 'of', 'high', 'profile', 'incidents', 'in', 'recent', 'years', 'have', 'put', 'spotlight', 'on', 'police', 'brutality', 'toward', 'black', 'kids', 'and', 'teens', 'inside', 'and', 'outside', 'of', 'school', 'white', 'school', 'resource', 'officer', 'in', 'south', 'carolina', 'high', 'school', 'flipped', 'black', 'girl', 'out', 'of', 'her', 'desk', 'and', 'dragged', 'her', 'across', 'the', 'floor', 'in', 'black', 'school', 'resource', 'officer', 'in', 'orlando', 'arrested', 'sobbing', 'year', 'old', 'black', 'student', 'in', 'september', 'securing', 'her', 'with', 'zip', 'ties', 'because', 'she', 'was', 'too', 'small', 'for', 'handcuffs', 'white', 'officer', 'in', 'ferguson', 'missouri', 'shot', 'and', 'killed', 'michael', 'brown', 'an', 'unarmed', 'year', 'old', 'black', 'man', 'in', 'the', 'street', 'in', 'later', 'that', 'year', 'white', 'officer', 'in', 'cleveland', 'ohio', 'shot', 'and', 'killed', 'tamir', 'rice', 'year', 'old', 'black', 'boy', 'rice', 'had', 'been', 'playing', 'with', 'toy', 'gun', 'outside', 'recreation', 'center', 'change', 'in', 'ferguson', 'city', 'elects', 'first', 'black', 'female', 'mayor', 'years', 'after', 'michael', 'brown', 'death', 'in', 'the', 'only', 'of', 'schools', 'had', 'law', 'enforcement', 'officer', 'stationed', 'in', 'them', 'according', 'to', 'federal', 'data', 'now', 'of', 'schools', 'have', 'police', 'officer', 'in', 'the', 'building', 'at', 'least', 'one', 'day', 'week', 'according', 'to', 'the', 'most', 'recent', 'federal', 'data', 'and', 'among', 'large', 'schools', 'almost', 'had', 'sworn', 'officer', 'in', 'the', 'building', 'at', 'least', 'one', 'day', 'week', 'in', 'the', 'school', 'year', 'the', 'number', 'of', 'officers', 'in', 'schools', 'accelerated', 'rapidly', 'after', 'the', 'year', 'of', 'the', 'shooting', 'at', 'columbine', 'high', 'school', 'in', 'colorado', 'the', 'massacre', 'spurred', 'national', 'discussion', 'about', 'school', 'safety', 'and', 'boost', 'in', 'federal', 'funds', 'helped', 'pay', 'for', 'more', 'cops', 'in', 'schools', 'years', 'after', 'columbine', 'survivors', 'find', 'that', 'new', 'normal', 'between', 'and', 'program', 'started', 'under', 'the', 'clinton', 'administration', 'doled', 'out', 'million', 'in', 'grants', 'to', 'police', 'departments', 'to', 'support', 'hiring', 'thousands', 'more', 'school', 'resource', 'officers', 'since', 'then', 'law', 'enforcement', 'in', 'schools', 'seemed', 'like', 'the', 'one', 'thing', 'that', 'district', 'leaders', 'would', 'not', 'change', 'said', 'aaron', 'kupchik', 'professor', 'of', 'sociology', 'and', 'criminal', 'justice', 'at', 'the', 'university', 'of', 'delaware', 'we', 'typically', 'don', 'even', 'discuss', 'it', 'because', 'it', 'common', 'assumption', 'they', 're', 'here', 'to', 'stay', 'kupchik', 'said', 'so', 'people', 'focus', 'on', 'how', 'to', 'make', 'it', 'less', 'harmful', 'like', 'by', 'ending', 'zero', 'tolerance', 'policies', 'and', 'adding', 'more', 'restorative', 'justice', 'programs', 'under', 'zero', 'tolerance', 'students', 'who', 'break', 'school', 'rules', 'are', 'subject', 'to', 'mandatory', 'severe', 'consequences', 'such', 'as', 'being', 'expelled', 'restorative', 'justice', 'programs', 'offer', 'misbehaving', 'students', 'chance', 'to', 'take', 'ownership', 'of', 'their', 'actions', 'talk', 'through', 'what', 'prompted', 'them', 'and', 'repair', 'harm', 'they', 've', 'caused', 'to', 'others', 'restorative', 'justice', 'how', 'circle', 'keeping', 'works', 'at', 'one', 'midwestern', 'school', 'despite', 'talks', 'of', 'reform', 'students', 'social', 'justice', 'groups', 'and', 'the', 'american', 'civil', 'liberties', 'union', 'have', 'been', 'working', 'for', 'years', 'to', 'end', 'school', 'policing', 'long', 'before', 'the', 'calls', 'emerged', 'as', 'part', 'of', 'the', 'floyd', 'protests', 'that', 'key', 'reason', 'districts', 'are', 'taking', 'action', 'now', 'said', 'sarah', 'hinger', 'senior', 'staff', 'attorney', 'for', 'the', 'aclu', 'racial', 'justice', 'program', 'another', 'reason', 'school', 'districts', 'are', 'more', 'inclined', 'now', 'to', 'remove', 'police', 'officers', 'money', 'districts', 'are', 'facing', 'major', 'financial', 'shortfalls', 'because', 'of', 'the', 'covid', 'pandemic', 'and', 'loss', 'of', 'tax', 'revenue', 'because', 'of', 'the', 'economic', 'shutdown', 'it', 'widely', 'acknowledged', 'that', 'low', 'income', 'children', 'group', 'that', 'includes', 'many', 'black', 'and', 'brown', 'children', 'will', 'need', 'more', 'support', 'to', 'get', 'back', 'on', 'track', 'once', 'schools', 'reopen', 'many', 'haven', 'had', 'access', 'to', 'all', 'the', 'tools', 'needed', 'for', 'online', 'learning', 'such', 'as', 'high', 'speed', 'internet', 'or', 'their', 'own', 'computer', 'police', 'contracts', 'are', 'one', 'non', 'academic', 'budget', 'item', 'that', 'could', 'be', 'dropped', 'all', 'of', 'that', 'is', 'contributing', 'to', 'why', 'this', 'movement', 'is', 'really', 'catching', 'on', 'hinger', 'said', 'kids', 'need', 'to', 'talk', 'about', 'george', 'floyd', 'with', 'coronavirus', 'school', 'closures', 'it', 'hard', 'to', 'do', 'seattle', 'public', 'schools', 'announced', 'this', 'week', 'that', 'it', 'would', 'suspend', 'officers', 'from', 'schools', 'for', 'one', 'year', 'in', 'oakland', 'wednesday', 'the', 'school', 'superintendent', 'joined', 'the', 'majority', 'of', 'the', 'school', 'board', 'in', 'backing', 'the', 'elimination', 'of', 'the', 'district', 'in', 'house', 'police', 'force', 'one', 'idea', 'is', 'to', 'replace', 'it', 'with', 'non', 'uniformed', 'ambassadors', 'to', 'keep', 'the', 'peace', 'in', 'schools', 'black', 'students', 'account', 'for', 'of', 'the', 'students', 'arrested', 'in', 'oakland', 'schools', 'while', 'only', 'making', 'up', 'of', 'the', 'district', 'population', 'according', 'to', 'the', 'black', 'organizing', 'project', 'local', 'advocacy', 'group', 'oakland', 'board', 'is', 'slated', 'to', 'vote', 'on', 'eliminating', 'the', 'police', 'force', 'on', 'june', 'some', 'districts', 'are', 'less', 'inclined', 'to', 'remove', 'officers', 'the', 'chicago', 'teachers', 'union', 'has', 'reinvigorated', 'its', 'call', 'for', 'the', 'city', 'to', 'replace', 'school', 'resource', 'officers', 'with', 'counselors', 'but', 'mayor', 'lori', 'lightfoot', 'who', 'runs', 'the', 'city', 'as', 'well', 'as', 'the', 'district', 'indicated', 'she', 'not', 'interested', 'in', 'dumping', 'the', 'million', 'contract', 'with', 'the', 'chicago', 'police', 'department', 'more', 'than', 'three', 'quarters', 'of', 'the', 'city', 'high', 'schools', 'have', 'police', 'in', 'them', 'and', 'the', 'local', 'parent', 'and', 'teacher', 'councils', 'at', 'all', 'of', 'them', 'voted', 'to', 'keep', 'the', 'officers', 'this', 'year', 'according', 'to', 'local', 'news', 'reports', 'unfortunately', 'we', 'need', 'security', 'in', 'our', 'schools', 'lightfoot', 'said', 'in', 'protest', 'chicago', 'teachers', 'and', 'students', 'have', 'recently', 'staged', 'marches', 'and', 'car', 'caravan', 'parades', 'between', 'high', 'schools', 'chicago', 'protests', 'kanye', 'west', 'joins', 'march', 'offers', 'to', 'pay', 'legal', 'fees', 'for', 'breonna', 'taylor', 'family', 'in', 'los', 'angeles', 'the', 'teachers', 'union', 'said', 'monday', 'it', 'supports', 'ending', 'the', 'district', 'in', 'house', 'police', 'force', 'the', 'unit', 'places', 'about', 'officers', 'throughout', 'the', 'nation', 'second', 'largest', 'school', 'district', 'at', 'cost', 'of', 'about', 'million', 'annually', 'but', 'the', 'head', 'of', 'the', 'district', 'school', 'police', 'union', 'said', 'officers', 'are', 'better', 'trained', 'to', 'de', 'escalate', 'situations', 'in', 'buildings', 'than', 'outside', 'cops', 'called', 'to', 'campus', 'according', 'to', 'the', 'los', 'angeles', 'times', 'in', 'phoenix', 'hundreds', 'of', 'students', 'have', 'been', 'protesting', 'the', 'use', 'of', 'on', 'campus', 'police', 'officers', 'but', 'the', 'school', 'board', 'has', 'not', 'yet', 'taken', 'vote', 'on', 'whether', 'to', 'renew', 'the', 'contract', 'there', 'not', 'much', 'good', 'data', 'on', 'what', 'happens', 'when', 'you', 'remove', 'police', 'officers', 'from', 'schools', 'but', 'new', 'york', 'and', 'louisville', 'have', 'tried', 'some', 'new', 'ideas', 'decade', 'ago', 'report', 'from', 'new', 'york', 'city', 'examined', 'how', 'handful', 'of', 'high', 'schools', 'serving', 'at', 'risk', 'students', 'maintained', 'safe', 'environments', 'without', 'police', 'district', 'safety', 'agents', 'patrolled', 'halls', 'instead', 'metal', 'detectors', 'were', 'removed', 'administrators', 'created', 'alternatives', 'to', 'harsh', 'discipline', 'policies', 'the', 'aclu', 'which', 'published', 'the', 'report', 'is', 'notably', 'in', 'favor', 'of', 'removing', 'police', 'from', 'schools', 'in', 'louisville', 'kentucky', 'the', 'jefferson', 'county', 'public', 'schools', 'cut', 'ties', 'with', 'school', 'resource', 'officers', 'last', 'august', 'because', 'of', 'issues', 'related', 'to', 'the', 'criminalization', 'of', 'black', 'students', 'the', 'district', 'this', 'week', 'couldn', 'provide', 'comparison', 'of', 'school', 'arrest', 'data', 'from', 'before', 'and', 'after', 'police', 'were', 'removed', 'but', 'in', 'general', 'according', 'to', 'the', 'louisville', 'courier', 'journal', 'school', 'safety', 'hasn', 'changed', 'much', 'though', 'one', 'school', 'made', 'headlines', 'for', 'some', 'high', 'profile', 'student', 'on', 'teacher', 'altercations', 'louisville', 'has', 'seen', 'even', 'more', 'forceful', 'protests', 'than', 'some', 'cities', 'in', 'the', 'wake', 'of', 'the', 'death', 'of', 'breonna', 'taylor', 'who', 'was', 'shot', 'by', 'white', 'police', 'officer', 'in', 'her', 'bedroom', 'in', 'march', 'district', 'spokesperson', 'in', 'jefferson', 'county', 'said', 'this', 'week', 'the', 'district', 'is', 're', 'evaluating', 'its', 'school', 'safety', 'plan', 'which', 'could', 'still', 'include', 'armed', 'guards', 'in', 'schools', 'in', 'florida', 'janice', 'scott', 'cover', 'former', 'assistant', 'superintendent', 'in', 'the', 'palm', 'beach', 'county', 'school', 'district', 'said', 'administrators', 'can', 'also', 'work', 'harder', 'to', 'identify', 'the', 'root', 'cause', 'of', 'student', 'misbehavior', 'whether', 'cops', 'are', 'there', 'or', 'not', 'when', 'she', 'became', 'principal', 'of', 'troubled', 'elementary', 'school', 'two', 'decades', 'ago', 'the', 'school', 'resource', 'officer', 'arrested', 'children', 'for', 'fighting', 'disrespecting', 'teachers', 'and', 'walking', 'out', 'of', 'class', 'not', 'all', 'the', 'resource', 'officers', 'understand', 'how', 'to', 'police', 'in', 'schools', 'cover', 'said', 'some', 'still', 'behave', 'like', 'they', 're', 'out', 'on', 'the', 'street', 'grabbing', 'people', 'and', 'throwing', 'them', 'down', 'and', 'did', 'not', 'want', 'that', 'on', 'the', 'campus', 'cover', 'rearranged', 'the', 'budget', 'to', 'hire', 'another', 'social', 'worker', 'who', 'became', 'the', 'first', 'stop', 'for', 'misbehaving', 'children', 'she', 'had', 'teachers', 'rearrange', 'classrooms', 'so', 'students', 'worked', 'in', 'groups', 'and', 'practiced', 'cooperation', 'she', 'and', 'her', 'teachers', 'doubled', 'down', 'on', 'prodding', 'into', 'students', 'lives', 'often', 'getting', 'them', 'needed', 'household', 'or', 'personal', 'items', 'over', 'time', 'the', 'climate', 'and', 'academics', 'improved', 'something', 'cover', 'recounts', 'in', 'her', 'book', 'about', 'turning', 'around', 'low', 'performing', 'elementary', 'schools', 'happy', 'now', 'that', 'people', 'are', 'beginning', 'to', 'look', 'at', 'this', 'said', 'cover', 'who', 'is', 'black', 'my', 'hope', 'is', 'that', 'you', 'don', 'just', 'remove', 'the', 'police', 'officers', 'but', 'replace', 'them', 'with', 'something', 'else', 'like', 'counselors', 'or', 'mental', 'health', 'professionals', 'or', 'school', 'psychologists', 'olivia', 'krauth', 'contributed', 'to', 'this', 'story', 'from', 'louisville', 'kentucky', 'lily', 'altavena', 'contributed', 'from', 'phoenix', 'arizona', 'education', 'coverage', 'at', 'usa', 'today', 'is', 'made', 'possible', 'in', 'part', 'by', 'grant', 'from', 'the', 'bill', 'melinda', 'gates', 'foundation', 'the', 'gates', 'foundation', 'does', 'not', 'provide', 'editorial', 'input', 'three', 'summers', 'ago', 'about', 'students', 'and', 'activists', 'gathered', 'outside', 'the', 'minneapolis', 'public', 'schools', 'headquarters', 'to', 'demand', 'the', 'school', 'board', 'end', 'contract', 'that', 'placed', 'police', 'officers', 'in', 'schools', 'the', 'officers', 'whose', 'role', 'was', 'to', 'keep', 'schools', 'safe', 'actually', 'made', 'students', 'especially', 'black', 'students', 'feel', 'criminalized', 'activists', 'said', 'but', 'the', 'majority', 'of', 'teachers', 'staff', 'and', 'parents', 'liked', 'officers', 'in', 'schools', 'district', 'wide', 'survey', 'showed', 'at', 'the', 'time', 'the', 'board', 'renewed', 'the', 'three', 'year', 'contract', 'fast', 'forward', 'to', 'june', 'eight', 'days', 'after', 'george', 'floyd', 'died', 'under', 'the', 'knee', 'of', 'minneapolis', 'police', 'officer', 'the', 'school', 'board', 'revisited', 'that', 'contract', 'and', 'ended', 'it', 'the', 'vote', 'on', 'june', 'after', 'an', 'even', 'larger', 'crowd', 'of', 'protesters', 'gathered', 'outside', 'was', 'unanimous', 'the', 'values', 'we', 'see', 'in', 'the', 'police', 'department', 'do', 'not', 'match', 'our', 'values', 'said', 'kim', 'ellison', 'chair', 'of', 'the', 'minneapolis', 'school', 'board', 'the', 'school', 'board', 'became', 'one', 'of', 'the', 'first', 'major', 'governmental', 'bodies', 'to', 'change', 'the', 'balance', 'of', 'power', 'with', 'police', 'in', 'the', 'wake', 'of', 'floyd', 'death', 'the', 'change', 'has', 'prompted', 'wave', 'of', 'districts', 'nationwide', 'to', 'consider', 'terminating', 'their', 'relationships', 'with', 'police', 'from', 'chicago', 'new', 'york', 'and', 'los', 'angeles', 'to', 'smaller', 'cities', 'like', 'rochester', 'new', 'york', 'columbus', 'ohio', 'and', 'portland', 'maine', 'and', 'fort', 'collins', 'colorado', 'students', 'and', 'activists', 'are', 'demanding', 'the', 'discontinuation', 'of', 'school', 'resource', 'officers', 'they', 'want', 'the', 'money', 'spent', 'on', 'those', 'programs', 'to', 'go', 'to', 'other', 'peacekeeping', 'strategies', 'teen', 'activists', 'too', 'young', 'to', 'vote', 'in', 'but', 'fighting', 'for', 'change', 'police', 'in', 'schools', 'contribute', 'to', 'the', 'marginalization', 'of', 'students', 'of', 'color', 'they', 'say', 'that', 'because', 'schools', 'with', 'large', 'populations', 'of', 'black', 'and', 'brown', 'students', 'are', 'more', 'likely', 'to', 'have', 'law', 'enforcement', 'on', 'site', 'and', 'in', 'those', 'places', 'students', 'are', 'more', 'likely', 'to', 'be', 'arrested', 'for', 'certain', 'behaviors', 'rather', 'than', 'disciplined', 'by', 'an', 'administrator', 'last', 'week', 'portland', 'oregon', 'school', 'superintendent', 'announced', 'he', 'planned', 'to', 'remove', 'police', 'from', 'schools', 'denver', 'school', 'board', 'is', 'slated', 'to', 'vote', 'thursday', 'on', 'ending', 'contract', 'for', 'uniformed', 'officers', 'in', 'oakland', 'california', 'the', 'majority', 'of', 'the', 'school', 'board', 'and', 'superintendent', 'wednesday', 'backed', 'proposal', 'to', 'eliminate', 'the', 'district', 'million', 'internal', 'police', 'force', 'despite', 'concerns', 'from', 'some', 'principals', 'according', 'to', 'the', 'san', 'francisco', 'chronicle', 'advocates', 'for', 'school', 'resource', 'officers', 'say', 'the', 'problem', 'lies', 'with', 'inconsistent', 'training', 'for', 'law', 'enforcement', 'on', 'how', 'to', 'work', 'with', 'students', 'making', 'rash', 'moves', 'to', 'end', 'the', 'programs', 'because', 'of', 'political', 'and', 'social', 'pressure', 'could', 'make', 'schools', 'less', 'safe', 'they', 'say', 'and', 'also', 'disrupt', 'the', 'opportunity', 'for', 'healthy', 'relationships', 'to', 'grow', 'between', 'law', 'enforcement', 'and', 'students', 'when', 'this', 'is', 'done', 'the', 'right', 'way', 'it', 'the', 'epitome', 'of', 'community', 'based', 'policing', 'said', 'mo', 'canady', 'executive', 'director', 'of', 'the', 'national', 'association', 'of', 'school', 'resource', 'officers', 'that', 'philosophy', 'where', 'police', 'and', 'the', 'community', 'work', 'together', 'to', 'solve', 'crimes', 'and', 'improve', 'everyone', 'quality', 'of', 'life', 'canady', 'organization', 'trains', 'officers', 'how', 'to', 'enforce', 'the', 'law', 'in', 'school', 'setting', 'informally', 'counsel', 'students', 'and', 'act', 'as', 'an', 'educator', 'but', 'nothing', 'requires', 'school', 'resource', 'officers', 'to', 'undergo', 'such', 'training', 'canady', 'said', 'there', 'federal', 'resistance', 'to', 'that', 'idea', 'out', 'of', 'respect', 'for', 'the', 'tradition', 'of', 'local', 'control', 'he', 'added', 'it', 'better', 'if', 'districts', 'would', 'say', 'we', 'need', 'these', 'officers', 'trained', 'on', 'national', 'level', 'canady', 'said', 'nationally', 'protesters', 'seeking', 'justice', 'for', 'floyd', 'want', 'to', 'reduce', 'city', 'police', 'department', 'budgets', 'and', 'redirect', 'more', 'money', 'to', 'social', 'services', 'but', 'what', 'happening', 'at', 'schools', 'offers', 'window', 'into', 'the', 'relationship', 'between', 'law', 'enforcement', 'and', 'youth', 'while', 'police', 'have', 'been', 'stationed', 'in', 'schools', 'for', 'decades', 'they', 'don', 'make', 'schools', 'overwhelmingly', 'more', 'safe', 'studies', 'show', 'review', 'of', 'the', 'most', 'comprehensive', 'studies', 'on', 'school', 'based', 'law', 'enforcement', 'showed', 'the', 'officers', 'did', 'not', 'improve', 'students', 'perception', 'of', 'safety', 'and', 'out', 'of', 'school', 'suspensions', 'and', 'expulsions', 'increased', 'after', 'school', 'resource', 'officers', 'were', 'introduced', 'to', 'building', 'it', 'not', 'like', 'there', 'really', 'strong', 'research', 'base', 'that', 'says', 'with', 'police', 'in', 'schools', 'crime', 'goes', 'down', 'and', 'bullying', 'goes', 'down', 'and', 'there', 'are', 'no', 'shootings', 'said', 'anthony', 'petrosino', 'director', 'of', 'the', 'justice', 'and', 'prevention', 'research', 'center', 'at', 'wested', 'nonpartisan', 'research', 'organization', 'that', 'focuses', 'on', 'education', 'school', 'policing', 'is', 'much', 'more', 'common', 'in', 'schools', 'with', 'kids', 'of', 'color', 'petrosino', 'added', 'there', 'real', 'question', 'of', 'whether', 'it', 'helping', 'or', 'hurting', 'is', 'it', 'leading', 'to', 'more', 'of', 'these', 'kids', 'being', 'involved', 'in', 'the', 'justice', 'system', 'or', 'being', 'kicked', 'out', 'of', 'school', 'one', 'big', 'problem', 'is', 'children', 'of', 'racial', 'minorities', 'especially', 'black', 'students', 'are', 'more', 'likely', 'to', 'be', 'suspended', 'and', 'expelled', 'from', 'school', 'than', 'white', 'students', 'even', 'when', 'they', 'commit', 'similar', 'offenses', 'research', 'shows', 'pushed', 'out', 'and', 'punished', 'black', 'girls', 'punished', 'more', 'harshly', 'than', 'white', 'girls', 'and', 'of', 'the', 'approximate', 'million', 'students', 'in', 'america', 'attending', 'schools', 'with', 'police', 'officers', 'but', 'no', 'counselors', 'more', 'of', 'those', 'students', 'are', 'black', 'than', 'white', 'by', 'contrast', 'white', 'students', 'are', 'more', 'likely', 'to', 'attend', 'schools', 'with', 'counselors', 'but', 'not', 'police', 'federal', 'data', 'show', 'on', 'top', 'of', 'that', 'number', 'of', 'high', 'profile', 'incidents', 'in', 'recent', 'years', 'have', 'put', 'spotlight', 'on', 'police', 'brutality', 'toward', 'black', 'kids', 'and', 'teens', 'inside', 'and', 'outside', 'of', 'school', 'white', 'school', 'resource', 'officer', 'in', 'south', 'carolina', 'high', 'school', 'flipped', 'black', 'girl', 'out', 'of', 'her', 'desk', 'and', 'dragged', 'her', 'across', 'the', 'floor', 'in', 'black', 'school', 'resource', 'officer', 'in', 'orlando', 'arrested', 'sobbing', 'year', 'old', 'black', 'student', 'in', 'september', 'securing', 'her', 'with', 'zip', 'ties', 'because', 'she', 'was', 'too', 'small', 'for', 'handcuffs', 'white', 'officer', 'in', 'ferguson', 'missouri', 'shot', 'and', 'killed', 'michael', 'brown', 'an', 'unarmed', 'year', 'old', 'black', 'man', 'in', 'the', 'street', 'in', 'later', 'that', 'year', 'white', 'officer', 'in', 'cleveland', 'ohio', 'shot', 'and', 'killed', 'tamir', 'rice', 'year', 'old', 'black', 'boy', 'rice', 'had', 'been', 'playing', 'with', 'toy', 'gun', 'outside', 'recreation', 'center', 'change', 'in', 'ferguson', 'city', 'elects', 'first', 'black', 'female', 'mayor', 'years', 'after', 'michael', 'brown', 'death', 'in', 'the', 'only', 'of', 'schools', 'had', 'law', 'enforcement', 'officer', 'stationed', 'in', 'them', 'according', 'to', 'federal', 'data', 'now', 'of', 'schools', 'have', 'police', 'officer', 'in', 'the', 'building', 'at', 'least', 'one', 'day', 'week', 'according', 'to', 'the', 'most', 'recent', 'federal', 'data', 'and', 'among', 'large', 'schools', 'almost', 'had', 'sworn', 'officer', 'in', 'the', 'building', 'at', 'least', 'one', 'day', 'week', 'in', 'the', 'school', 'year', 'the', 'number', 'of', 'officers', 'in', 'schools', 'accelerated', 'rapidly', 'after', 'the', 'year', 'of', 'the', 'shooting', 'at', 'columbine', 'high', 'school', 'in', 'colorado', 'the', 'massacre', 'spurred', 'national', 'discussion', 'about', 'school', 'safety', 'and', 'boost', 'in', 'federal', 'funds', 'helped', 'pay', 'for', 'more', 'cops', 'in', 'schools', 'years', 'after', 'columbine', 'survivors', 'find', 'that', 'new', 'normal', 'between', 'and', 'program', 'started', 'under', 'the', 'clinton', 'administration', 'doled', 'out', 'million', 'in', 'grants', 'to', 'police', 'departments', 'to', 'support', 'hiring', 'thousands', 'more', 'school', 'resource', 'officers', 'since', 'then', 'law', 'enforcement', 'in', 'schools', 'seemed', 'like', 'the', 'one', 'thing', 'that', 'district', 'leaders', 'would', 'not', 'change', 'said', 'aaron', 'kupchik', 'professor', 'of', 'sociology', 'and', 'criminal', 'justice', 'at', 'the', 'university', 'of', 'delaware', 'we', 'typically', 'don', 'even', 'discuss', 'it', 'because', 'it', 'common', 'assumption', 'they', 're', 'here', 'to', 'stay', 'kupchik', 'said', 'so', 'people', 'focus', 'on', 'how', 'to', 'make', 'it', 'less', 'harmful', 'like', 'by', 'ending', 'zero', 'tolerance', 'policies', 'and', 'adding', 'more', 'restorative', 'justice', 'programs', 'under', 'zero', 'tolerance', 'students', 'who', 'break', 'school', 'rules', 'are', 'subject', 'to', 'mandatory', 'severe', 'consequences', 'such', 'as', 'being', 'expelled', 'restorative', 'justice', 'programs', 'offer', 'misbehaving', 'students', 'chance', 'to', 'take', 'ownership', 'of', 'their', 'actions', 'talk', 'through', 'what', 'prompted', 'them', 'and', 'repair', 'harm', 'they', 've', 'caused', 'to', 'others', 'restorative', 'justice', 'how', 'circle', 'keeping', 'works', 'at', 'one', 'midwestern', 'school', 'despite', 'talks', 'of', 'reform', 'students', 'social', 'justice', 'groups', 'and', 'the', 'american', 'civil', 'liberties', 'union', 'have', 'been', 'working', 'for', 'years', 'to', 'end', 'school', 'policing', 'long', 'before', 'the', 'calls', 'emerged', 'as', 'part', 'of', 'the', 'floyd', 'protests', 'that', 'key', 'reason', 'districts', 'are', 'taking', 'action', 'now', 'said', 'sarah', 'hinger', 'senior', 'staff', 'attorney', 'for', 'the', 'aclu', 'racial', 'justice', 'program', 'another', 'reason', 'school', 'districts', 'are', 'more', 'inclined', 'now', 'to', 'remove', 'police', 'officers', 'money', 'districts', 'are', 'facing', 'major', 'financial', 'shortfalls', 'because', 'of', 'the', 'covid', 'pandemic', 'and', 'loss', 'of', 'tax', 'revenue', 'because', 'of', 'the', 'economic', 'shutdown', 'it', 'widely', 'acknowledged', 'that', 'low', 'income', 'children', 'group', 'that', 'includes', 'many', 'black', 'and', 'brown', 'children', 'will', 'need', 'more', 'support', 'to', 'get', 'back', 'on', 'track', 'once', 'schools', 'reopen', 'many', 'haven', 'had', 'access', 'to', 'all', 'the', 'tools', 'needed', 'for', 'online', 'learning', 'such', 'as', 'high', 'speed', 'internet', 'or', 'their', 'own', 'computer', 'police', 'contracts', 'are', 'one', 'non', 'academic', 'budget', 'item', 'that', 'could', 'be', 'dropped', 'all', 'of', 'that', 'is', 'contributing', 'to', 'why', 'this', 'movement', 'is', 'really', 'catching', 'on', 'hinger', 'said', 'kids', 'need', 'to', 'talk', 'about', 'george', 'floyd', 'with', 'coronavirus', 'school', 'closures', 'it', 'hard', 'to', 'do', 'seattle', 'public', 'schools', 'announced', 'this', 'week', 'that', 'it', 'would', 'suspend', 'officers', 'from', 'schools', 'for', 'one', 'year', 'in', 'oakland', 'wednesday', 'the', 'school', 'superintendent', 'joined', 'the', 'majority', 'of', 'the', 'school', 'board', 'in', 'backing', 'the', 'elimination', 'of', 'the', 'district', 'in', 'house', 'police', 'force', 'one', 'idea', 'is', 'to', 'replace', 'it', 'with', 'non', 'uniformed', 'ambassadors', 'to', 'keep', 'the', 'peace', 'in', 'schools', 'black', 'students', 'account', 'for', 'of', 'the', 'students', 'arrested', 'in', 'oakland', 'schools', 'while', 'only', 'making', 'up', 'of', 'the', 'district', 'population', 'according', 'to', 'the', 'black', 'organizing', 'project', 'local', 'advocacy', 'group', 'oakland', 'board', 'is', 'slated', 'to', 'vote', 'on', 'eliminating', 'the', 'police', 'force', 'on', 'june', 'some', 'districts', 'are', 'less', 'inclined', 'to', 'remove', 'officers', 'the', 'chicago', 'teachers', 'union', 'has', 'reinvigorated', 'its', 'call', 'for', 'the', 'city', 'to', 'replace', 'school', 'resource', 'officers', 'with', 'counselors', 'but', 'mayor', 'lori', 'lightfoot', 'who', 'runs', 'the', 'city', 'as', 'well', 'as', 'the', 'district', 'indicated', 'she', 'not', 'interested', 'in', 'dumping', 'the', 'million', 'contract', 'with', 'the', 'chicago', 'police', 'department', 'more', 'than', 'three', 'quarters', 'of', 'the', 'city', 'high', 'schools', 'have', 'police', 'in', 'them', 'and', 'the', 'local', 'parent', 'and', 'teacher', 'councils', 'at', 'all', 'of', 'them', 'voted', 'to', 'keep', 'the', 'officers', 'this', 'year', 'according', 'to', 'local', 'news', 'reports', 'unfortunately', 'we', 'need', 'security', 'in', 'our', 'schools', 'lightfoot', 'said', 'in', 'protest', 'chicago', 'teachers', 'and', 'students', 'have', 'recently', 'staged', 'marches', 'and', 'car', 'caravan', 'parades', 'between', 'high', 'schools', 'chicago', 'protests', 'kanye', 'west', 'joins', 'march', 'offers', 'to', 'pay', 'legal', 'fees', 'for', 'breonna', 'taylor', 'family', 'in', 'los', 'angeles', 'the', 'teachers', 'union', 'said', 'monday', 'it', 'supports', 'ending', 'the', 'district', 'in', 'house', 'police', 'force', 'the', 'unit', 'places', 'about', 'officers', 'throughout', 'the', 'nation', 'second', 'largest', 'school', 'district', 'at', 'cost', 'of', 'about', 'million', 'annually', 'but', 'the', 'head', 'of', 'the', 'district', 'school', 'police', 'union', 'said', 'officers', 'are', 'better', 'trained', 'to', 'de', 'escalate', 'situations', 'in', 'buildings', 'than', 'outside', 'cops', 'called', 'to', 'campus', 'according', 'to', 'the', 'los', 'angeles', 'times', 'in', 'phoenix', 'hundreds', 'of', 'students', 'have', 'been', 'protesting', 'the', 'use', 'of', 'on', 'campus', 'police', 'officers', 'but', 'the', 'school', 'board', 'has', 'not', 'yet', 'taken', 'vote', 'on', 'whether', 'to', 'renew', 'the', 'contract', 'there', 'not', 'much', 'good', 'data', 'on', 'what', 'happens', 'when', 'you', 'remove', 'police', 'officers', 'from', 'schools', 'but', 'new', 'york', 'and', 'louisville', 'have', 'tried', 'some', 'new', 'ideas', 'decade', 'ago', 'report', 'from', 'new', 'york', 'city', 'examined', 'how', 'handful', 'of', 'high', 'schools', 'serving', 'at', 'risk', 'students', 'maintained', 'safe', 'environments', 'without', 'police', 'district', 'safety', 'agents', 'patrolled', 'halls', 'instead', 'metal', 'detectors', 'were', 'removed', 'administrators', 'created', 'alternatives', 'to', 'harsh', 'discipline', 'policies', 'the', 'aclu', 'which', 'published', 'the', 'report', 'is', 'notably', 'in', 'favor', 'of', 'removing', 'police', 'from', 'schools', 'in', 'louisville', 'kentucky', 'the', 'jefferson', 'county', 'public', 'schools', 'cut', 'ties', 'with', 'school', 'resource', 'officers', 'last', 'august', 'because', 'of', 'issues', 'related', 'to', 'the', 'criminalization', 'of', 'black', 'students', 'the', 'district', 'this', 'week', 'couldn', 'provide', 'comparison', 'of', 'school', 'arrest', 'data', 'from', 'before', 'and', 'after', 'police', 'were', 'removed', 'but', 'in', 'general', 'according', 'to', 'the', 'louisville', 'courier', 'journal', 'school', 'safety', 'hasn', 'changed', 'much', 'though', 'one', 'school', 'made', 'headlines', 'for', 'some', 'high', 'profile', 'student', 'on', 'teacher', 'altercations', 'louisville', 'has', 'seen', 'even', 'more', 'forceful', 'protests', 'than', 'some', 'cities', 'in', 'the', 'wake', 'of', 'the', 'death', 'of', 'breonna', 'taylor', 'who', 'was', 'shot', 'by', 'white', 'police', 'officer', 'in', 'her', 'bedroom', 'in', 'march', 'district', 'spokesperson', 'in', 'jefferson', 'county', 'said', 'this', 'week', 'the', 'district', 'is', 're', 'evaluating', 'its', 'school', 'safety', 'plan', 'which', 'could', 'still', 'include', 'armed', 'guards', 'in', 'schools', 'in', 'florida', 'janice', 'scott', 'cover', 'former', 'assistant', 'superintendent', 'in', 'the', 'palm', 'beach', 'county', 'school', 'district', 'said', 'administrators', 'can', 'also', 'work', 'harder', 'to', 'identify', 'the', 'root', 'cause', 'of', 'student', 'misbehavior', 'whether', 'cops', 'are', 'there', 'or', 'not', 'when', 'she', 'became', 'principal', 'of', 'troubled', 'elementary', 'school', 'two', 'decades', 'ago', 'the', 'school', 'resource', 'officer', 'arrested', 'children', 'for', 'fighting', 'disrespecting', 'teachers', 'and', 'walking', 'out', 'of', 'class', 'not', 'all', 'the', 'resource', 'officers', 'understand', 'how', 'to', 'police', 'in', 'schools', 'cover', 'said', 'some', 'still', 'behave', 'like', 'they', 're', 'out', 'on', 'the', 'street', 'grabbing', 'people', 'and', 'throwing', 'them', 'down', 'and', 'did', 'not', 'want', 'that', 'on', 'the', 'campus', 'cover', 'rearranged', 'the', 'budget', 'to', 'hire', 'another', 'social', 'worker', 'who', 'became', 'the', 'first', 'stop', 'for', 'misbehaving', 'children', 'she', 'had', 'teachers', 'rearrange', 'classrooms', 'so', 'students', 'worked', 'in', 'groups', 'and', 'practiced', 'cooperation', 'she', 'and', 'her', 'teachers', 'doubled', 'down', 'on', 'prodding', 'into', 'students', 'lives', 'often', 'getting', 'them', 'needed', 'household', 'or', 'personal', 'items', 'over', 'time', 'the', 'climate', 'and', 'academics', 'improved', 'something', 'cover', 'recounts', 'in', 'her', 'book', 'about', 'turning', 'around', 'low', 'performing', 'elementary', 'schools', 'happy', 'now', 'that', 'people', 'are', 'beginning', 'to', 'look', 'at', 'this', 'said', 'cover', 'who', 'is', 'black', 'my', 'hope', 'is', 'that', 'you', 'don', 'just', 'remove', 'the', 'police', 'officers', 'but', 'replace', 'them', 'with', 'something', 'else', 'like', 'counselors', 'or', 'mental', 'health', 'professionals', 'or', 'school', 'psychologists', 'olivia', 'krauth', 'contributed', 'to', 'this', 'story', 'from', 'louisville', 'kentucky', 'lily', 'altavena', 'contributed', 'from', 'phoenix', 'arizona', 'education', 'coverage', 'at', 'usa', 'today', 'is', 'made', 'possible', 'in', 'part', 'by', 'grant', 'from', 'the', 'bill', 'melinda', 'gates', 'foundation', 'the', 'gates', 'foundation', 'does', 'not', 'provide', 'editorial', 'input']\n"
     ]
    },
    {
     "ename": "NameError",
     "evalue": "name 'wait' is not defined",
     "output_type": "error",
     "traceback": [
      "\u001b[0;31m---------------------------------------------------------------------------\u001b[0m",
      "\u001b[0;31mNameError\u001b[0m                                 Traceback (most recent call last)",
      "\u001b[0;32m<ipython-input-828-c0eb89bc13d4>\u001b[0m in \u001b[0;36m<module>\u001b[0;34m\u001b[0m\n\u001b[1;32m      3\u001b[0m     \u001b[0;32mif\u001b[0m \u001b[0mrow\u001b[0m\u001b[0;34m[\u001b[0m\u001b[0;34m'predictions_dmc_2'\u001b[0m\u001b[0;34m]\u001b[0m \u001b[0;34m==\u001b[0m \u001b[0;34m'center'\u001b[0m\u001b[0;34m:\u001b[0m\u001b[0;34m\u001b[0m\u001b[0;34m\u001b[0m\u001b[0m\n\u001b[1;32m      4\u001b[0m         \u001b[0mprint\u001b[0m\u001b[0;34m(\u001b[0m\u001b[0mrow\u001b[0m\u001b[0;34m[\u001b[0m\u001b[0;34m'content_filtered'\u001b[0m\u001b[0;34m]\u001b[0m\u001b[0;34m)\u001b[0m\u001b[0;34m\u001b[0m\u001b[0;34m\u001b[0m\u001b[0m\n\u001b[0;32m----> 5\u001b[0;31m         \u001b[0mwait\u001b[0m\u001b[0;34m(\u001b[0m\u001b[0;36m1\u001b[0m\u001b[0;34m)\u001b[0m\u001b[0;34m\u001b[0m\u001b[0;34m\u001b[0m\u001b[0m\n\u001b[0m",
      "\u001b[0;31mNameError\u001b[0m: name 'wait' is not defined"
     ]
    }
   ],
   "source": [
    "prediction_df['content_filtered'] = test_df['content_filtered']\n",
    "for index,row in prediction_df.iterrows():\n",
    "    if row['predictions_dmc'] == 'center':\n",
    "        print(row['content_filtered'])\n",
    "        wait(1)"
   ]
  },
  {
   "cell_type": "code",
   "execution_count": 424,
   "metadata": {
    "ExecuteTime": {
     "end_time": "2020-07-14T04:10:11.162609Z",
     "start_time": "2020-07-14T04:10:11.147214Z"
    }
   },
   "outputs": [
    {
     "name": "stdout",
     "output_type": "stream",
     "text": [
      "551186\n"
     ]
    }
   ],
   "source": [
    "sum = 0 \n",
    "for index,row in train_df.iterrows():\n",
    "    #print(row['Alignment'],len(row['content_filtered']))\n",
    "    if(row['Alignment'] == 'left'):\n",
    "        sum+= len(row['content_filtered'])\n",
    "print(sum)\n",
    "\n",
    "sum = 0 \n",
    "for index,row in train_df.iterrows():\n",
    "    #print(row['Alignment'],len(row['content_filtered']))\n",
    "    if(row['Alignment'] == 'right'):\n",
    "        sum+= len(row['content_filtered'])\n",
    "print(sum)\n",
    "\n",
    "sum = 0 \n",
    "for index,row in train_df.iterrows():\n",
    "    #print(row['Alignment'],len(row['content_filtered']))\n",
    "    if(row['Alignment'] == 'center'):\n",
    "        sum+= len(row['content_filtered'])\n",
    "print(sum)\n",
    "\n",
    "#pd.reset_option('^display.',silent=True)\n",
    "\n",
    "train_df[['title','source_id','url','topic','Alignment','article_length','content_full','content_filtered_2']].sort_values(['article_length']).to_excel('temp4.xlsx')"
   ]
  }
 ],
 "metadata": {
  "kernelspec": {
   "display_name": "Python 3",
   "language": "python",
   "name": "python3"
  },
  "language_info": {
   "codemirror_mode": {
    "name": "ipython",
    "version": 3
   },
   "file_extension": ".py",
   "mimetype": "text/x-python",
   "name": "python",
   "nbconvert_exporter": "python",
   "pygments_lexer": "ipython3",
   "version": "3.7.6"
  },
  "toc": {
   "base_numbering": 1,
   "nav_menu": {},
   "number_sections": true,
   "sideBar": true,
   "skip_h1_title": false,
   "title_cell": "Table of Contents",
   "title_sidebar": "Contents",
   "toc_cell": true,
   "toc_position": {},
   "toc_section_display": true,
   "toc_window_display": false
  }
 },
 "nbformat": 4,
 "nbformat_minor": 2
}
